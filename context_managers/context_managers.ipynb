{
 "cells": [
  {
   "cell_type": "code",
   "execution_count": 1,
   "id": "1063fb82-c064-4294-a637-6dd2313a2d56",
   "metadata": {},
   "outputs": [
    {
     "name": "stdout",
     "output_type": "stream",
     "text": [
      "finally ran!\n"
     ]
    }
   ],
   "source": [
    "try:\n",
    "    10 / 2\n",
    "except ZeroDivisionError:\n",
    "    print('Zero division exception occured')\n",
    "finally:\n",
    "    print('finally ran!')"
   ]
  },
  {
   "cell_type": "code",
   "execution_count": 2,
   "id": "a009f16d-3212-47dd-8e84-b48612a0582d",
   "metadata": {},
   "outputs": [
    {
     "name": "stdout",
     "output_type": "stream",
     "text": [
      "Zero division exception occured\n",
      "finally ran!\n"
     ]
    }
   ],
   "source": [
    "try:\n",
    "    10 / 0\n",
    "except ZeroDivisionError:\n",
    "    print('Zero division exception occured')\n",
    "finally:\n",
    "    print('finally ran!')"
   ]
  },
  {
   "cell_type": "code",
   "execution_count": 5,
   "id": "d37c26e9-605e-44c4-84d0-35783a21a6ce",
   "metadata": {},
   "outputs": [],
   "source": [
    "def my_func():\n",
    "    try:\n",
    "        10 / 0\n",
    "    except ZeroDivisionError:\n",
    "        print('exception!')\n",
    "        return 2\n",
    "    finally:\n",
    "        print('finally ran!')"
   ]
  },
  {
   "cell_type": "code",
   "execution_count": 6,
   "id": "1f72a461-82a0-4454-a90a-229c090f82fa",
   "metadata": {},
   "outputs": [
    {
     "name": "stdout",
     "output_type": "stream",
     "text": [
      "exception!\n",
      "finally ran!\n"
     ]
    },
    {
     "data": {
      "text/plain": [
       "2"
      ]
     },
     "execution_count": 6,
     "metadata": {},
     "output_type": "execute_result"
    }
   ],
   "source": [
    "my_func()"
   ]
  },
  {
   "cell_type": "code",
   "execution_count": 8,
   "id": "4b8defa6-2f10-42ec-bd4d-df1c8299b2eb",
   "metadata": {},
   "outputs": [
    {
     "name": "stdout",
     "output_type": "stream",
     "text": [
      "opening file\n",
      "closing file\n"
     ]
    },
    {
     "ename": "ZeroDivisionError",
     "evalue": "division by zero",
     "output_type": "error",
     "traceback": [
      "\u001b[1;31m---------------------------------------------------------------------------\u001b[0m",
      "\u001b[1;31mZeroDivisionError\u001b[0m                         Traceback (most recent call last)",
      "Cell \u001b[1;32mIn[8], line 4\u001b[0m\n\u001b[0;32m      2\u001b[0m     \u001b[38;5;28mprint\u001b[39m(\u001b[38;5;124m'\u001b[39m\u001b[38;5;124mopening file\u001b[39m\u001b[38;5;124m'\u001b[39m)\n\u001b[0;32m      3\u001b[0m     f \u001b[38;5;241m=\u001b[39m \u001b[38;5;28mopen\u001b[39m(\u001b[38;5;124m'\u001b[39m\u001b[38;5;124mtest.txt\u001b[39m\u001b[38;5;124m'\u001b[39m, \u001b[38;5;124m'\u001b[39m\u001b[38;5;124mw\u001b[39m\u001b[38;5;124m'\u001b[39m)\n\u001b[1;32m----> 4\u001b[0m     a \u001b[38;5;241m=\u001b[39m \u001b[38;5;241m1\u001b[39m\u001b[38;5;241m/\u001b[39m\u001b[38;5;241m0\u001b[39m\n\u001b[0;32m      5\u001b[0m \u001b[38;5;28;01mfinally\u001b[39;00m:\n\u001b[0;32m      6\u001b[0m     \u001b[38;5;28mprint\u001b[39m(\u001b[38;5;124m'\u001b[39m\u001b[38;5;124mclosing file\u001b[39m\u001b[38;5;124m'\u001b[39m)\n",
      "\u001b[1;31mZeroDivisionError\u001b[0m: division by zero"
     ]
    }
   ],
   "source": [
    "try:\n",
    "    print('opening file')\n",
    "    f = open('test.txt', 'w')\n",
    "    a = 1/0\n",
    "finally:\n",
    "    print('closing file')\n",
    "    f.close()"
   ]
  },
  {
   "cell_type": "code",
   "execution_count": 9,
   "id": "5f51b2a4-cd3f-4845-a43f-9ba5a96127b0",
   "metadata": {},
   "outputs": [
    {
     "name": "stdout",
     "output_type": "stream",
     "text": [
      "inside with: file closed? False\n",
      "after with: file closed? True\n"
     ]
    }
   ],
   "source": [
    "with open('test.txt', 'w') as file:\n",
    "    print('inside with: file closed?', file.closed)\n",
    "\n",
    "print('after with: file closed?', file.closed)"
   ]
  },
  {
   "cell_type": "code",
   "execution_count": 10,
   "id": "f1c4b08e-8234-4cdf-b4f0-9b4c2ea5f736",
   "metadata": {},
   "outputs": [],
   "source": [
    "def test():\n",
    "    with open('test.txt', 'w') as file:\n",
    "        print('inside with: file closed?', file.closed)\n",
    "        return file\n",
    "        print('here - will never run')\n",
    "        "
   ]
  },
  {
   "cell_type": "code",
   "execution_count": 11,
   "id": "a1c6d3e1-1e03-40a5-9139-6370f055c956",
   "metadata": {},
   "outputs": [
    {
     "name": "stdout",
     "output_type": "stream",
     "text": [
      "inside with: file closed? False\n"
     ]
    }
   ],
   "source": [
    "file = test()"
   ]
  },
  {
   "cell_type": "code",
   "execution_count": 12,
   "id": "ee4e0c67-465b-4621-b7c7-60be04b1cbb7",
   "metadata": {},
   "outputs": [
    {
     "data": {
      "text/plain": [
       "True"
      ]
     },
     "execution_count": 12,
     "metadata": {},
     "output_type": "execute_result"
    }
   ],
   "source": [
    "file.closed"
   ]
  },
  {
   "cell_type": "code",
   "execution_count": 13,
   "id": "cfc95db8-891c-4d5a-94d0-d4b7a220e4ff",
   "metadata": {},
   "outputs": [
    {
     "name": "stdout",
     "output_type": "stream",
     "text": [
      "inside with: file closed? False\n"
     ]
    },
    {
     "ename": "ValueError",
     "evalue": "",
     "output_type": "error",
     "traceback": [
      "\u001b[1;31m---------------------------------------------------------------------------\u001b[0m",
      "\u001b[1;31mValueError\u001b[0m                                Traceback (most recent call last)",
      "Cell \u001b[1;32mIn[13], line 3\u001b[0m\n\u001b[0;32m      1\u001b[0m \u001b[38;5;28;01mwith\u001b[39;00m \u001b[38;5;28mopen\u001b[39m(\u001b[38;5;124m'\u001b[39m\u001b[38;5;124mtest.txt\u001b[39m\u001b[38;5;124m'\u001b[39m, \u001b[38;5;124m'\u001b[39m\u001b[38;5;124mw\u001b[39m\u001b[38;5;124m'\u001b[39m) \u001b[38;5;28;01mas\u001b[39;00m file:\n\u001b[0;32m      2\u001b[0m     \u001b[38;5;28mprint\u001b[39m(\u001b[38;5;124m'\u001b[39m\u001b[38;5;124minside with: file closed?\u001b[39m\u001b[38;5;124m'\u001b[39m, file\u001b[38;5;241m.\u001b[39mclosed)\n\u001b[1;32m----> 3\u001b[0m     \u001b[38;5;28;01mraise\u001b[39;00m \u001b[38;5;167;01mValueError\u001b[39;00m()\n",
      "\u001b[1;31mValueError\u001b[0m: "
     ]
    }
   ],
   "source": [
    "with open('test.txt', 'w') as file:\n",
    "    print('inside with: file closed?', file.closed)\n",
    "    raise ValueError()"
   ]
  },
  {
   "cell_type": "code",
   "execution_count": 14,
   "id": "fad90e5c-c60b-4eb8-b2c0-d85cc00804db",
   "metadata": {},
   "outputs": [
    {
     "data": {
      "text/plain": [
       "True"
      ]
     },
     "execution_count": 14,
     "metadata": {},
     "output_type": "execute_result"
    }
   ],
   "source": [
    "file.closed"
   ]
  },
  {
   "cell_type": "code",
   "execution_count": 15,
   "id": "8ce10a29-e9df-4f42-921f-5b989802d3ac",
   "metadata": {},
   "outputs": [],
   "source": [
    "with open('test.txt', 'w') as f:\n",
    "    f.writelines('this is a test')"
   ]
  },
  {
   "cell_type": "code",
   "execution_count": 16,
   "id": "332d5c7d-5a21-4abd-851b-917fa120caca",
   "metadata": {},
   "outputs": [],
   "source": [
    "with open('test.txt') as f:\n",
    "    row = next(f)"
   ]
  },
  {
   "cell_type": "code",
   "execution_count": 17,
   "id": "ce5bdf0f-c071-44d7-bb9e-f0776a619806",
   "metadata": {},
   "outputs": [
    {
     "data": {
      "text/plain": [
       "True"
      ]
     },
     "execution_count": 17,
     "metadata": {},
     "output_type": "execute_result"
    }
   ],
   "source": [
    "f.closed"
   ]
  },
  {
   "cell_type": "code",
   "execution_count": 18,
   "id": "0de88cfd-cdba-47d7-8c48-5d4023540c10",
   "metadata": {},
   "outputs": [
    {
     "name": "stdout",
     "output_type": "stream",
     "text": [
      "this is a test\n"
     ]
    }
   ],
   "source": [
    "print(row)"
   ]
  },
  {
   "cell_type": "code",
   "execution_count": 25,
   "id": "aa233801-d0f5-4301-901d-4d4ce48bf13e",
   "metadata": {},
   "outputs": [],
   "source": [
    "class MyContext:\n",
    "    def __init__(self):\n",
    "        print('init running')\n",
    "        self.obj = None\n",
    "\n",
    "    def __enter__(self):\n",
    "        print('entering context...')\n",
    "        self.obj = 'the Return object'\n",
    "        return self.obj\n",
    "\n",
    "    def __exit__(self, exc_type, exc_value, exc_tb):\n",
    "        print('exiting context...')\n",
    "        if exc_type:\n",
    "            print(f'*** Error occured: {exc_type}, {exc_value}')\n",
    "        return True"
   ]
  },
  {
   "cell_type": "code",
   "execution_count": 26,
   "id": "0ab6583b-7684-4827-af52-df4a0b96c0bd",
   "metadata": {},
   "outputs": [
    {
     "name": "stdout",
     "output_type": "stream",
     "text": [
      "init running\n",
      "Created context\n",
      "entering context...\n",
      "inside with block the Return object\n",
      "exiting context...\n",
      "*** Error occured: <class 'ValueError'>, custom message\n"
     ]
    }
   ],
   "source": [
    "ctx = MyContext()\n",
    "print('Created context')\n",
    "with ctx as obj:\n",
    "    print('inside with block', obj)\n",
    "    raise ValueError('custom message')"
   ]
  },
  {
   "cell_type": "code",
   "execution_count": 27,
   "id": "6245352a-b1e6-447a-bdde-6f63d0ba3704",
   "metadata": {},
   "outputs": [
    {
     "data": {
      "text/plain": [
       "'the Return object'"
      ]
     },
     "execution_count": 27,
     "metadata": {},
     "output_type": "execute_result"
    }
   ],
   "source": [
    "obj"
   ]
  },
  {
   "cell_type": "code",
   "execution_count": 28,
   "id": "9dbe16ac-8469-40c2-9ec8-8a86d2a34afa",
   "metadata": {},
   "outputs": [],
   "source": [
    "class Resource:\n",
    "    def __init__(self, name):\n",
    "        self.name = name\n",
    "        self.state = None"
   ]
  },
  {
   "cell_type": "code",
   "execution_count": 47,
   "id": "7ec72ccb-2480-41d6-bee0-383d455d8bd8",
   "metadata": {},
   "outputs": [],
   "source": [
    "class ResourceManager:\n",
    "    def __init__(self, name):\n",
    "        self.name = name\n",
    "        self.resource = None\n",
    "\n",
    "    def __enter__(self):\n",
    "        print('entering context')\n",
    "        self.resource = Resource(self.name)\n",
    "        self.resource.state = 'created'\n",
    "        return self.resource\n",
    "\n",
    "    def __exit__(self, exc_type, exc_value, exc_tb):\n",
    "        print('exiting context')\n",
    "        self.resource.state = 'destroyed'\n",
    "        if exc_type:\n",
    "            print('error occured')\n",
    "        print(exc_tb)\n",
    "        return False"
   ]
  },
  {
   "cell_type": "code",
   "execution_count": 48,
   "id": "38b8e510-c533-4f40-9256-2574430cd4ad",
   "metadata": {},
   "outputs": [
    {
     "name": "stdout",
     "output_type": "stream",
     "text": [
      "entering context\n",
      "spam = created\n",
      "exiting context\n",
      "error occured\n",
      "<traceback object at 0x00000285C65B01C0>\n"
     ]
    },
    {
     "ename": "ValueError",
     "evalue": "Error",
     "output_type": "error",
     "traceback": [
      "\u001b[1;31m---------------------------------------------------------------------------\u001b[0m",
      "\u001b[1;31mValueError\u001b[0m                                Traceback (most recent call last)",
      "Cell \u001b[1;32mIn[48], line 3\u001b[0m\n\u001b[0;32m      1\u001b[0m \u001b[38;5;28;01mwith\u001b[39;00m ResourceManager(\u001b[38;5;124m'\u001b[39m\u001b[38;5;124mspam\u001b[39m\u001b[38;5;124m'\u001b[39m) \u001b[38;5;28;01mas\u001b[39;00m res:\n\u001b[0;32m      2\u001b[0m     \u001b[38;5;28mprint\u001b[39m(\u001b[38;5;124mf\u001b[39m\u001b[38;5;124m'\u001b[39m\u001b[38;5;132;01m{\u001b[39;00mres\u001b[38;5;241m.\u001b[39mname\u001b[38;5;132;01m}\u001b[39;00m\u001b[38;5;124m = \u001b[39m\u001b[38;5;132;01m{\u001b[39;00mres\u001b[38;5;241m.\u001b[39mstate\u001b[38;5;132;01m}\u001b[39;00m\u001b[38;5;124m'\u001b[39m)\n\u001b[1;32m----> 3\u001b[0m     \u001b[38;5;28;01mraise\u001b[39;00m \u001b[38;5;167;01mValueError\u001b[39;00m(\u001b[38;5;124m'\u001b[39m\u001b[38;5;124mError\u001b[39m\u001b[38;5;124m'\u001b[39m)\n\u001b[0;32m      4\u001b[0m \u001b[38;5;28mprint\u001b[39m(\u001b[38;5;124mf\u001b[39m\u001b[38;5;124m'\u001b[39m\u001b[38;5;132;01m{\u001b[39;00mres\u001b[38;5;241m.\u001b[39mname\u001b[38;5;132;01m}\u001b[39;00m\u001b[38;5;124m = \u001b[39m\u001b[38;5;132;01m{\u001b[39;00mres\u001b[38;5;241m.\u001b[39mstate\u001b[38;5;132;01m}\u001b[39;00m\u001b[38;5;124m'\u001b[39m)\n",
      "\u001b[1;31mValueError\u001b[0m: Error"
     ]
    }
   ],
   "source": [
    "with ResourceManager('spam') as res:\n",
    "    print(f'{res.name} = {res.state}')\n",
    "    raise ValueError('Error')\n",
    "print(f'{res.name} = {res.state}')"
   ]
  },
  {
   "cell_type": "code",
   "execution_count": 32,
   "id": "888e934a-90f1-4890-ae30-a799be21fc3c",
   "metadata": {},
   "outputs": [
    {
     "data": {
      "text/plain": [
       "True"
      ]
     },
     "execution_count": 32,
     "metadata": {},
     "output_type": "execute_result"
    }
   ],
   "source": [
    "'res' in globals()"
   ]
  },
  {
   "cell_type": "code",
   "execution_count": 33,
   "id": "731df8c9-f891-48e6-8dae-64a083351ee0",
   "metadata": {},
   "outputs": [],
   "source": [
    "class File:\n",
    "    def __init__(self, name, mode):\n",
    "        self.name = name\n",
    "        self.mode = mode\n",
    "\n",
    "    def __enter__(self):\n",
    "        print('opening file')\n",
    "        self.file = open(self.name, self.mode)\n",
    "        return self.file\n",
    "\n",
    "    def __exit__(self, exc_type, exc_value, exc_tb):\n",
    "        print('closing file')\n",
    "        self.file.close()\n",
    "        return False"
   ]
  },
  {
   "cell_type": "code",
   "execution_count": 34,
   "id": "3e0a74d9-b6a1-441e-ae6e-09c364b5e07f",
   "metadata": {},
   "outputs": [
    {
     "name": "stdout",
     "output_type": "stream",
     "text": [
      "opening file\n",
      "closing file\n"
     ]
    }
   ],
   "source": [
    "with File('test.txt', 'w') as f:\n",
    "    f.write('This is a late parrot!')"
   ]
  },
  {
   "cell_type": "code",
   "execution_count": 35,
   "id": "5501a15e-a7e5-43da-bb97-4f9c189d67c7",
   "metadata": {},
   "outputs": [
    {
     "name": "stdout",
     "output_type": "stream",
     "text": [
      "opening file\n",
      "['This is a late parrot!']\n",
      "closing file\n"
     ]
    }
   ],
   "source": [
    "with File('test.txt', 'r') as f:\n",
    "    print(f.readlines())"
   ]
  },
  {
   "cell_type": "code",
   "execution_count": 38,
   "id": "a464c9ac-10a6-43fe-be33-ee57df125e83",
   "metadata": {},
   "outputs": [],
   "source": [
    "def test():\n",
    "    with File('test.txt', 'w') as f:\n",
    "        f.write('This is a late parrot!')\n",
    "        raise ValueError()"
   ]
  },
  {
   "cell_type": "code",
   "execution_count": 39,
   "id": "dc05d9ea-a44f-4c9b-9142-e2900e682deb",
   "metadata": {},
   "outputs": [
    {
     "name": "stdout",
     "output_type": "stream",
     "text": [
      "opening file\n",
      "closing file\n"
     ]
    },
    {
     "ename": "ValueError",
     "evalue": "",
     "output_type": "error",
     "traceback": [
      "\u001b[1;31m---------------------------------------------------------------------------\u001b[0m",
      "\u001b[1;31mValueError\u001b[0m                                Traceback (most recent call last)",
      "Cell \u001b[1;32mIn[39], line 1\u001b[0m\n\u001b[1;32m----> 1\u001b[0m f \u001b[38;5;241m=\u001b[39m test()\n",
      "Cell \u001b[1;32mIn[38], line 4\u001b[0m, in \u001b[0;36mtest\u001b[1;34m()\u001b[0m\n\u001b[0;32m      2\u001b[0m \u001b[38;5;28;01mwith\u001b[39;00m File(\u001b[38;5;124m'\u001b[39m\u001b[38;5;124mtest.txt\u001b[39m\u001b[38;5;124m'\u001b[39m, \u001b[38;5;124m'\u001b[39m\u001b[38;5;124mw\u001b[39m\u001b[38;5;124m'\u001b[39m) \u001b[38;5;28;01mas\u001b[39;00m f:\n\u001b[0;32m      3\u001b[0m     f\u001b[38;5;241m.\u001b[39mwrite(\u001b[38;5;124m'\u001b[39m\u001b[38;5;124mThis is a late parrot!\u001b[39m\u001b[38;5;124m'\u001b[39m)\n\u001b[1;32m----> 4\u001b[0m     \u001b[38;5;28;01mraise\u001b[39;00m \u001b[38;5;167;01mValueError\u001b[39;00m()\n",
      "\u001b[1;31mValueError\u001b[0m: "
     ]
    }
   ],
   "source": [
    "f = test()"
   ]
  },
  {
   "cell_type": "code",
   "execution_count": 40,
   "id": "4463f208-c455-4765-bdfd-833af23307dc",
   "metadata": {},
   "outputs": [],
   "source": [
    "class File:\n",
    "    def __init__(self, name, mode):\n",
    "        self.name = name\n",
    "        self.mode = mode\n",
    "\n",
    "    def __enter__(self):\n",
    "        print('opening file')\n",
    "        self.file = open(self.name, self.mode)\n",
    "        return self\n",
    "\n",
    "    def __exit__(self, exc_type, exc_value, exc_tb):\n",
    "        print('closing file')\n",
    "        self.file.close()\n",
    "        return False"
   ]
  },
  {
   "cell_type": "code",
   "execution_count": 41,
   "id": "8ad03a5d-0b6f-42a2-93a4-eb1603278ef5",
   "metadata": {},
   "outputs": [
    {
     "name": "stdout",
     "output_type": "stream",
     "text": [
      "opening file\n",
      "This is a late parrot!\n",
      "test.txt\n",
      "r\n",
      "closing file\n"
     ]
    }
   ],
   "source": [
    "with File('test.txt', 'r') as file_ctx:\n",
    "    print(next(file_ctx.file))\n",
    "    print(file_ctx.name)\n",
    "    print(file_ctx.mode)"
   ]
  },
  {
   "cell_type": "code",
   "execution_count": null,
   "id": "2436ee5b-6f21-4b61-a1eb-1c40bb5cdfef",
   "metadata": {},
   "outputs": [],
   "source": []
  }
 ],
 "metadata": {
  "kernelspec": {
   "display_name": "Python 3 (ipykernel)",
   "language": "python",
   "name": "python3"
  },
  "language_info": {
   "codemirror_mode": {
    "name": "ipython",
    "version": 3
   },
   "file_extension": ".py",
   "mimetype": "text/x-python",
   "name": "python",
   "nbconvert_exporter": "python",
   "pygments_lexer": "ipython3",
   "version": "3.12.7"
  }
 },
 "nbformat": 4,
 "nbformat_minor": 5
}
