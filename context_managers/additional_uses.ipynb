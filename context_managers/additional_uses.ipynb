{
 "cells": [
  {
   "cell_type": "code",
   "execution_count": 1,
   "id": "22ff610e-86cd-49fd-80bd-e8e31cbb2389",
   "metadata": {},
   "outputs": [],
   "source": [
    "import decimal"
   ]
  },
  {
   "cell_type": "code",
   "execution_count": 2,
   "id": "06d15837-8d2d-49fa-9251-1ddf3233449b",
   "metadata": {},
   "outputs": [
    {
     "data": {
      "text/plain": [
       "Context(prec=28, rounding=ROUND_HALF_EVEN, Emin=-999999, Emax=999999, capitals=1, clamp=0, flags=[], traps=[InvalidOperation, DivisionByZero, Overflow])"
      ]
     },
     "execution_count": 2,
     "metadata": {},
     "output_type": "execute_result"
    }
   ],
   "source": [
    "decimal.getcontext()"
   ]
  },
  {
   "cell_type": "code",
   "execution_count": 3,
   "id": "a49df89c-0747-454e-8f70-89b2443971f8",
   "metadata": {},
   "outputs": [],
   "source": [
    "decimal.getcontext().prec = 14"
   ]
  },
  {
   "cell_type": "code",
   "execution_count": 4,
   "id": "6780c8f2-8c59-450f-a368-f3b2ba7d0039",
   "metadata": {},
   "outputs": [
    {
     "data": {
      "text/plain": [
       "Context(prec=14, rounding=ROUND_HALF_EVEN, Emin=-999999, Emax=999999, capitals=1, clamp=0, flags=[], traps=[InvalidOperation, DivisionByZero, Overflow])"
      ]
     },
     "execution_count": 4,
     "metadata": {},
     "output_type": "execute_result"
    }
   ],
   "source": [
    "decimal.getcontext()"
   ]
  },
  {
   "cell_type": "code",
   "execution_count": 5,
   "id": "d838b003-431d-4a65-ba71-5b451524a270",
   "metadata": {},
   "outputs": [],
   "source": [
    "decimal.getcontext().prec = 28"
   ]
  },
  {
   "cell_type": "code",
   "execution_count": 6,
   "id": "677a8508-e653-41c5-95aa-da6e22935dbc",
   "metadata": {},
   "outputs": [
    {
     "name": "stdout",
     "output_type": "stream",
     "text": [
      "0.3333\n",
      "0.3333333333333333333333333333\n"
     ]
    }
   ],
   "source": [
    "old_prec = decimal.getcontext().prec\n",
    "decimal.getcontext().prec = 4\n",
    "print(decimal.Decimal(1) / decimal.Decimal(3))\n",
    "decimal.getcontext().prec = old_prec\n",
    "print(decimal.Decimal(1) / decimal.Decimal(3))"
   ]
  },
  {
   "cell_type": "code",
   "execution_count": 7,
   "id": "2a06ce69-ea0b-480e-9602-956617948bef",
   "metadata": {},
   "outputs": [],
   "source": [
    "class precision:\n",
    "    def __init__(self, prec):\n",
    "        self.prec = prec\n",
    "        self.current_prec = decimal.getcontext().prec\n",
    "\n",
    "    def __enter__(self):\n",
    "        decimal.getcontext().prec = self.prec\n",
    "\n",
    "    def __exit__(self, exc_type, exc_value, exc_tb):\n",
    "        decimal.getcontext().prec = self.current_prec\n",
    "        return False"
   ]
  },
  {
   "cell_type": "code",
   "execution_count": 8,
   "id": "0997b126-16cf-4236-ad2a-3d1e2c8f36d6",
   "metadata": {},
   "outputs": [
    {
     "name": "stdout",
     "output_type": "stream",
     "text": [
      "0.333\n",
      "0.3333333333333333333333333333\n"
     ]
    }
   ],
   "source": [
    "with precision(3):\n",
    "    print(decimal.Decimal(1) / decimal.Decimal(3))\n",
    "print(decimal.Decimal(1) / decimal.Decimal(3))"
   ]
  },
  {
   "cell_type": "code",
   "execution_count": 9,
   "id": "853bb243-7a90-41ef-a0a6-f28010757ee6",
   "metadata": {},
   "outputs": [
    {
     "name": "stdout",
     "output_type": "stream",
     "text": [
      "0.333\n",
      "0.3333333333333333333333333333\n"
     ]
    }
   ],
   "source": [
    "with decimal.localcontext() as ctx:\n",
    "    ctx.prec = 3\n",
    "    print(decimal.Decimal(1) / decimal.Decimal(3))\n",
    "print(decimal.Decimal(1) / decimal.Decimal(3))"
   ]
  },
  {
   "cell_type": "code",
   "execution_count": 10,
   "id": "830393be-1d08-490b-adfe-0e2db032a2e3",
   "metadata": {},
   "outputs": [],
   "source": [
    "from time import perf_counter, sleep"
   ]
  },
  {
   "cell_type": "code",
   "execution_count": 11,
   "id": "e917756f-3c37-4f61-9c20-81caba9b1d6f",
   "metadata": {},
   "outputs": [],
   "source": [
    "class Timer:\n",
    "    def __init__(self):\n",
    "        self.elapsed = 0\n",
    "\n",
    "    def __enter__(self):\n",
    "        self.start = perf_counter()\n",
    "        return self\n",
    "\n",
    "    def __exit__(self, exc_type, exc_value, exc_tb):\n",
    "        self.stop = perf_counter()\n",
    "        self.elapsed = self.stop - self.start\n",
    "        return False"
   ]
  },
  {
   "cell_type": "code",
   "execution_count": 12,
   "id": "1f3eeaec-fefd-47ec-b807-506366983396",
   "metadata": {},
   "outputs": [
    {
     "name": "stdout",
     "output_type": "stream",
     "text": [
      "1.000250200042501\n"
     ]
    }
   ],
   "source": [
    "with Timer() as timer:\n",
    "    sleep(1)\n",
    "print(timer.elapsed)"
   ]
  },
  {
   "cell_type": "code",
   "execution_count": 13,
   "id": "2894fc45-5249-4585-bade-7453b3c8d860",
   "metadata": {},
   "outputs": [
    {
     "name": "stdout",
     "output_type": "stream",
     "text": [
      "hello\n"
     ]
    }
   ],
   "source": [
    "print('hello')"
   ]
  },
  {
   "cell_type": "code",
   "execution_count": 14,
   "id": "01a09e02-2172-479f-aa8a-2703d25b4836",
   "metadata": {},
   "outputs": [],
   "source": [
    "import sys\n",
    "\n",
    "class OutToFile:\n",
    "    def __init__(self, fname):\n",
    "        self._fname = fname\n",
    "        self._current_stdout = sys.stdout\n",
    "\n",
    "    def __enter__(self):\n",
    "        self._file = open(self._fname, 'w')\n",
    "        sys.stdout = self._file\n",
    "\n",
    "    def __exit__(self, exc_type, exc_value, exc_tb):\n",
    "        sys.stdout = self._current_stdout\n",
    "        self._file.close()\n",
    "        return False"
   ]
  },
  {
   "cell_type": "code",
   "execution_count": 18,
   "id": "b5d80e45-31a3-47d9-89e8-4894808dd7ae",
   "metadata": {},
   "outputs": [],
   "source": [
    "with OutToFile('test.txt'):\n",
    "    print(sys.stdout)\n",
    "    print('Line 1')\n",
    "    print('Line 2')"
   ]
  },
  {
   "cell_type": "code",
   "execution_count": 19,
   "id": "1c26024a-21c3-4368-82fc-14670c97063b",
   "metadata": {},
   "outputs": [
    {
     "name": "stdout",
     "output_type": "stream",
     "text": [
      "Line 1\n"
     ]
    }
   ],
   "source": [
    "print('Line 1')"
   ]
  },
  {
   "cell_type": "code",
   "execution_count": 20,
   "id": "79a53e20-bb56-4c36-b94a-f918b1156c62",
   "metadata": {},
   "outputs": [
    {
     "data": {
      "text/plain": [
       "<ipykernel.iostream.OutStream at 0x2a4be37f910>"
      ]
     },
     "execution_count": 20,
     "metadata": {},
     "output_type": "execute_result"
    }
   ],
   "source": [
    "sys.stdout"
   ]
  },
  {
   "cell_type": "code",
   "execution_count": 21,
   "id": "f3fcdf60-4517-4d1d-b269-c701b823162f",
   "metadata": {},
   "outputs": [
    {
     "name": "stdout",
     "output_type": "stream",
     "text": [
      "[\"<_io.TextIOWrapper name='test.txt' mode='w' encoding='cp1254'>\\n\", 'Line 1\\n', 'Line 2\\n']\n"
     ]
    }
   ],
   "source": [
    "with open('test.txt') as f:\n",
    "    print(f.readlines())"
   ]
  },
  {
   "cell_type": "code",
   "execution_count": 22,
   "id": "5fe4aeda-905e-4eb5-9158-abae5ddc6e50",
   "metadata": {},
   "outputs": [
    {
     "name": "stdout",
     "output_type": "stream",
     "text": [
      "Line 1\n"
     ]
    }
   ],
   "source": [
    "print('Line 1')"
   ]
  },
  {
   "cell_type": "code",
   "execution_count": 23,
   "id": "29fdf1ee-bf0a-4764-86e4-2477470de354",
   "metadata": {},
   "outputs": [],
   "source": [
    "class Tag:\n",
    "    def __init__(self, tag):\n",
    "        self._tag = tag\n",
    "\n",
    "    def __enter__(self):\n",
    "        print(f'<{self._tag}>', end='')\n",
    "\n",
    "    def __exit__(self, exc_type, exc_value, exc_tb):\n",
    "        print(f'</{self._tag}>', end='')\n",
    "        return False"
   ]
  },
  {
   "cell_type": "code",
   "execution_count": 24,
   "id": "71e6fdd5-f413-458a-b096-e1edbbaf98de",
   "metadata": {},
   "outputs": [
    {
     "name": "stdout",
     "output_type": "stream",
     "text": [
      "<p>some <b>bold</b> text</p>"
     ]
    }
   ],
   "source": [
    "with Tag('p'):\n",
    "    print('some ', end='')\n",
    "    with Tag('b'):\n",
    "        print('bold', end='')\n",
    "    print(' text', end='')"
   ]
  },
  {
   "cell_type": "markdown",
   "id": "2742bc3a-f82f-4b51-bc57-0819bcfe48c7",
   "metadata": {},
   "source": [
    "Title\n",
    "- Items 1\n",
    "  - sub item 1a\n",
    "  - sub item 1b\n",
    "- Items 2\n",
    "  - sub item 2a\n",
    "  - sub item 2b"
   ]
  },
  {
   "cell_type": "code",
   "execution_count": 27,
   "id": "31720c00-5ef6-49c7-9a11-6d62efff3ac2",
   "metadata": {},
   "outputs": [],
   "source": [
    "class ListMaker:\n",
    "    def __init__(self, title, prefix='- ', indent=3):\n",
    "        self._title = title\n",
    "        self._prefix = prefix\n",
    "        self._indent = indent\n",
    "        self._current_indent = 0\n",
    "        print(title)\n",
    "\n",
    "    def __enter__(self):\n",
    "        self._current_indent += self._indent\n",
    "        return self\n",
    "\n",
    "    def __exit__(self, exc_type, exc_value, exc_tb):\n",
    "        self._current_indent -= self._indent\n",
    "        return False\n",
    "\n",
    "    def print_item(self, arg):\n",
    "        s = ' ' * self._current_indent + self._prefix + str(arg)\n",
    "        print(s)"
   ]
  },
  {
   "cell_type": "code",
   "execution_count": 31,
   "id": "a75b22dc-222b-4bf5-b429-0855286a9cd8",
   "metadata": {},
   "outputs": [
    {
     "name": "stdout",
     "output_type": "stream",
     "text": [
      "Items\n",
      "   - Item 1\n",
      "      - sub item 1a\n",
      "      - sub item 1b\n",
      "         - ******\n",
      "   - Item 2\n",
      "      - sub item 2a\n",
      "      - sub item 2b\n"
     ]
    }
   ],
   "source": [
    "with ListMaker('Items') as lm:\n",
    "    lm.print_item('Item 1')\n",
    "    with lm:\n",
    "        lm.print_item('sub item 1a')\n",
    "        lm.print_item('sub item 1b')\n",
    "        with lm:\n",
    "            lm.print_item('******')\n",
    "    lm.print_item('Item 2')\n",
    "    with lm:\n",
    "        lm.print_item('sub item 2a')\n",
    "        lm.print_item('sub item 2b')"
   ]
  },
  {
   "cell_type": "code",
   "execution_count": 37,
   "id": "b39c8a92-a6af-4f0e-bbe9-75b5c08e3a97",
   "metadata": {},
   "outputs": [],
   "source": [
    "with OutToFile('mylist.txt'):\n",
    "    with ListMaker('Items') as lm:\n",
    "        lm.print_item('Item 1')\n",
    "        with lm:\n",
    "            lm.print_item('sub item 1a')\n",
    "            lm.print_item('sub item 1b')\n",
    "            with lm:\n",
    "                lm.print_item('******')\n",
    "        lm.print_item('Item 2')\n",
    "        with lm:\n",
    "            lm.print_item('sub item 2a')\n",
    "            lm.print_item('sub item 2b')"
   ]
  },
  {
   "cell_type": "code",
   "execution_count": 39,
   "id": "eac1e0b0-6076-41c8-b0a0-0a9e3706cd0d",
   "metadata": {},
   "outputs": [
    {
     "name": "stdout",
     "output_type": "stream",
     "text": [
      "Items\n",
      "   - Item 1\n",
      "      - sub item 1a\n",
      "      - sub item 1b\n",
      "         - ******\n",
      "   - Item 2\n",
      "      - sub item 2a\n",
      "      - sub item 2b\n"
     ]
    }
   ],
   "source": [
    "with open('mylist.txt') as f:\n",
    "    for row in f:\n",
    "        print(row, end='')"
   ]
  },
  {
   "cell_type": "code",
   "execution_count": null,
   "id": "0dd40c44-cddd-45b1-8d9f-deab8da3e430",
   "metadata": {},
   "outputs": [],
   "source": []
  }
 ],
 "metadata": {
  "kernelspec": {
   "display_name": "Python 3 (ipykernel)",
   "language": "python",
   "name": "python3"
  },
  "language_info": {
   "codemirror_mode": {
    "name": "ipython",
    "version": 3
   },
   "file_extension": ".py",
   "mimetype": "text/x-python",
   "name": "python",
   "nbconvert_exporter": "python",
   "pygments_lexer": "ipython3",
   "version": "3.12.7"
  }
 },
 "nbformat": 4,
 "nbformat_minor": 5
}
