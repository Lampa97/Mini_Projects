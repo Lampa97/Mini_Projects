{
 "cells": [
  {
   "cell_type": "code",
   "id": "initial_id",
   "metadata": {
    "collapsed": true,
    "ExecuteTime": {
     "end_time": "2025-08-09T18:46:22.790662Z",
     "start_time": "2025-08-09T18:46:22.786027Z"
    }
   },
   "source": [
    "def open_file(fname, mode='r'):\n",
    "    print('opening file...')\n",
    "    f = open(fname, mode)\n",
    "    try:\n",
    "        yield f\n",
    "    finally:\n",
    "        print('closing file...')\n",
    "        f.close()"
   ],
   "outputs": [],
   "execution_count": 1
  },
  {
   "metadata": {
    "ExecuteTime": {
     "end_time": "2025-08-09T18:48:38.370794Z",
     "start_time": "2025-08-09T18:48:38.366623Z"
    }
   },
   "cell_type": "code",
   "source": [
    "class GenContextManager:\n",
    "    def __init__(self, gen):\n",
    "        self.gen = gen\n",
    "\n",
    "    def __enter__(self):\n",
    "        print('calling next to get yielded value from generator')\n",
    "        return next(self.gen)\n",
    "\n",
    "    def __exit__(self, exc_type, exc_value, traceback):\n",
    "        print('calling next to perform cleanup in generator')\n",
    "        try:\n",
    "            next(self.gen)\n",
    "        except StopIteration:\n",
    "            pass\n",
    "        return False  # do not suppress exceptions"
   ],
   "id": "a0d16bdb4679e9af",
   "outputs": [],
   "execution_count": 2
  },
  {
   "metadata": {
    "ExecuteTime": {
     "end_time": "2025-08-09T18:49:28.232538Z",
     "start_time": "2025-08-09T18:49:28.227657Z"
    }
   },
   "cell_type": "code",
   "source": [
    "file_gen = open_file('test.txt', 'w')\n",
    "with GenContextManager(file_gen) as f:\n",
    "    f.writelines('Sir Spamalot')"
   ],
   "id": "b52c99128ea89ad9",
   "outputs": [
    {
     "name": "stdout",
     "output_type": "stream",
     "text": [
      "calling next to get yielded value from generator\n",
      "opening file...\n",
      "calling next to perform cleanup in generator\n",
      "closing file...\n"
     ]
    }
   ],
   "execution_count": 3
  },
  {
   "metadata": {
    "ExecuteTime": {
     "end_time": "2025-08-09T18:52:40.181323Z",
     "start_time": "2025-08-09T18:52:40.175409Z"
    }
   },
   "cell_type": "code",
   "source": [
    "def context_manager_dec(gen_fn):\n",
    "    def helper(*args, **kwargs):\n",
    "        gen = gen_fn(*args, **kwargs)\n",
    "        ctx = GenContextManager(gen)\n",
    "        return ctx\n",
    "    return helper"
   ],
   "id": "20b312ec35f76657",
   "outputs": [],
   "execution_count": 4
  },
  {
   "metadata": {
    "ExecuteTime": {
     "end_time": "2025-08-09T18:54:51.324577Z",
     "start_time": "2025-08-09T18:54:51.320946Z"
    }
   },
   "cell_type": "code",
   "source": [
    "@context_manager_dec\n",
    "def open_file(fname, mode='r'):\n",
    "    print('opening file...')\n",
    "    f = open(fname, mode)\n",
    "    try:\n",
    "        yield f\n",
    "    finally:\n",
    "        print('closing file...')\n",
    "        f.close()\n",
    "\n",
    "# open_file = context_manager_dec(open_file)"
   ],
   "id": "3eff23f340c9ac51",
   "outputs": [],
   "execution_count": 5
  },
  {
   "metadata": {
    "ExecuteTime": {
     "end_time": "2025-08-09T18:55:14.013981Z",
     "start_time": "2025-08-09T18:55:14.008408Z"
    }
   },
   "cell_type": "code",
   "source": [
    "with open_file('test.txt') as f:\n",
    "    print(f.readlines())"
   ],
   "id": "ad96a62b3c6cd223",
   "outputs": [
    {
     "name": "stdout",
     "output_type": "stream",
     "text": [
      "calling next to get yielded value from generator\n",
      "opening file...\n",
      "['Sir Spamalot']\n",
      "calling next to perform cleanup in generator\n",
      "closing file...\n"
     ]
    }
   ],
   "execution_count": 6
  },
  {
   "metadata": {
    "ExecuteTime": {
     "end_time": "2025-08-09T18:59:52.016119Z",
     "start_time": "2025-08-09T18:59:52.013327Z"
    }
   },
   "cell_type": "code",
   "source": "from contextlib import contextmanager",
   "id": "8c0b53b675cbf574",
   "outputs": [],
   "execution_count": 7
  },
  {
   "metadata": {
    "ExecuteTime": {
     "end_time": "2025-08-09T19:00:06.978908Z",
     "start_time": "2025-08-09T19:00:06.974688Z"
    }
   },
   "cell_type": "code",
   "source": [
    "@contextmanager\n",
    "def open_file(fname, mode='r'):\n",
    "    print('opening file...')\n",
    "    f = open(fname, mode)\n",
    "    try:\n",
    "        yield f\n",
    "    finally:\n",
    "        print('closing file...')\n",
    "        f.close()"
   ],
   "id": "3c227e89a3a6bb46",
   "outputs": [],
   "execution_count": 8
  },
  {
   "metadata": {
    "ExecuteTime": {
     "end_time": "2025-08-09T19:00:18.273096Z",
     "start_time": "2025-08-09T19:00:18.268942Z"
    }
   },
   "cell_type": "code",
   "source": [
    "with open_file('test.txt') as f:\n",
    "    print(f.readlines())"
   ],
   "id": "25be135e1fb0976c",
   "outputs": [
    {
     "name": "stdout",
     "output_type": "stream",
     "text": [
      "opening file...\n",
      "['Sir Spamalot']\n",
      "closing file...\n"
     ]
    }
   ],
   "execution_count": 9
  },
  {
   "metadata": {
    "ExecuteTime": {
     "end_time": "2025-08-09T19:02:50.613101Z",
     "start_time": "2025-08-09T19:02:50.610Z"
    }
   },
   "cell_type": "code",
   "source": "from time import perf_counter, sleep",
   "id": "2aec0429c5e4d371",
   "outputs": [],
   "execution_count": 10
  },
  {
   "metadata": {
    "ExecuteTime": {
     "end_time": "2025-08-09T19:05:01.243658Z",
     "start_time": "2025-08-09T19:05:01.239009Z"
    }
   },
   "cell_type": "code",
   "source": [
    "@contextmanager\n",
    "def timer():\n",
    "    stats = dict()\n",
    "    start = perf_counter()\n",
    "    stats['start'] = start\n",
    "    try:\n",
    "        yield stats\n",
    "    finally:\n",
    "        end = perf_counter()\n",
    "        stats['end'] = end\n",
    "        stats['elapsed'] = end - start\n",
    "\n"
   ],
   "id": "50436da580533a49",
   "outputs": [],
   "execution_count": 11
  },
  {
   "metadata": {
    "ExecuteTime": {
     "end_time": "2025-08-09T19:05:17.696925Z",
     "start_time": "2025-08-09T19:05:15.692770Z"
    }
   },
   "cell_type": "code",
   "source": [
    "with timer() as stats:\n",
    "    sleep(2)"
   ],
   "id": "369c876005c0cf5e",
   "outputs": [],
   "execution_count": 12
  },
  {
   "metadata": {
    "ExecuteTime": {
     "end_time": "2025-08-09T19:05:21.472381Z",
     "start_time": "2025-08-09T19:05:21.468422Z"
    }
   },
   "cell_type": "code",
   "source": "print(stats)",
   "id": "277e1641b45f0f13",
   "outputs": [
    {
     "name": "stdout",
     "output_type": "stream",
     "text": [
      "{'start': 447282.49989, 'end': 447284.5003899, 'elapsed': 2.0004999000229873}\n"
     ]
    }
   ],
   "execution_count": 13
  },
  {
   "metadata": {
    "ExecuteTime": {
     "end_time": "2025-08-09T19:05:59.195520Z",
     "start_time": "2025-08-09T19:05:59.190070Z"
    }
   },
   "cell_type": "code",
   "source": "import sys",
   "id": "64d5c4c59abc27c4",
   "outputs": [],
   "execution_count": 14
  },
  {
   "metadata": {
    "ExecuteTime": {
     "end_time": "2025-08-09T19:07:16.851735Z",
     "start_time": "2025-08-09T19:07:16.847342Z"
    }
   },
   "cell_type": "code",
   "source": [
    "@contextmanager\n",
    "def out_to_file(fname):\n",
    "    current_stdout = sys.stdout\n",
    "    file = open(fname, 'w')\n",
    "    sys.stdout = file\n",
    "    try:\n",
    "        yield None\n",
    "    finally:\n",
    "        file.close()\n",
    "        sys.stdout = current_stdout"
   ],
   "id": "2a07e779a17db5b4",
   "outputs": [],
   "execution_count": 15
  },
  {
   "metadata": {
    "ExecuteTime": {
     "end_time": "2025-08-09T19:07:44.055322Z",
     "start_time": "2025-08-09T19:07:44.049756Z"
    }
   },
   "cell_type": "code",
   "source": [
    "with out_to_file('test.txt'):\n",
    "    print('Line 1')\n",
    "    print('Line 2')"
   ],
   "id": "4f88e11c28b9658c",
   "outputs": [],
   "execution_count": 16
  },
  {
   "metadata": {
    "ExecuteTime": {
     "end_time": "2025-08-09T19:07:58.029544Z",
     "start_time": "2025-08-09T19:07:58.026023Z"
    }
   },
   "cell_type": "code",
   "source": "print('hello')",
   "id": "fe39674bcbf1a7e0",
   "outputs": [
    {
     "name": "stdout",
     "output_type": "stream",
     "text": [
      "hello\n"
     ]
    }
   ],
   "execution_count": 17
  },
  {
   "metadata": {
    "ExecuteTime": {
     "end_time": "2025-08-09T19:08:25.911437Z",
     "start_time": "2025-08-09T19:08:25.906155Z"
    }
   },
   "cell_type": "code",
   "source": [
    "with open('test.txt', 'r') as f:\n",
    "    print(f.readlines())"
   ],
   "id": "de0fccbe04904650",
   "outputs": [
    {
     "name": "stdout",
     "output_type": "stream",
     "text": [
      "['Line 1\\n', 'Line 2\\n']\n"
     ]
    }
   ],
   "execution_count": 18
  },
  {
   "metadata": {
    "ExecuteTime": {
     "end_time": "2025-08-09T19:09:01.545605Z",
     "start_time": "2025-08-09T19:09:01.541929Z"
    }
   },
   "cell_type": "code",
   "source": "from contextlib import redirect_stdout",
   "id": "99d5da2f617269ba",
   "outputs": [],
   "execution_count": 19
  },
  {
   "metadata": {
    "ExecuteTime": {
     "end_time": "2025-08-09T19:11:41.666533Z",
     "start_time": "2025-08-09T19:11:41.661070Z"
    }
   },
   "cell_type": "code",
   "source": [
    "with open('test.txt', 'w') as f:\n",
    "    with redirect_stdout(f):\n",
    "        print('Look on the bright side of life')"
   ],
   "id": "e75f49fcefa7e015",
   "outputs": [],
   "execution_count": 20
  },
  {
   "metadata": {
    "ExecuteTime": {
     "end_time": "2025-08-09T19:11:53.868834Z",
     "start_time": "2025-08-09T19:11:53.864359Z"
    }
   },
   "cell_type": "code",
   "source": [
    "with open('test.txt', 'r') as f:\n",
    "    print(f.readlines())"
   ],
   "id": "6257f7e6062883d5",
   "outputs": [
    {
     "name": "stdout",
     "output_type": "stream",
     "text": [
      "['Look on the bright side of life\\n']\n"
     ]
    }
   ],
   "execution_count": 21
  },
  {
   "metadata": {},
   "cell_type": "code",
   "outputs": [],
   "execution_count": null,
   "source": "",
   "id": "1e276949fad254bd"
  }
 ],
 "metadata": {
  "kernelspec": {
   "display_name": "Python 3",
   "language": "python",
   "name": "python3"
  },
  "language_info": {
   "codemirror_mode": {
    "name": "ipython",
    "version": 2
   },
   "file_extension": ".py",
   "mimetype": "text/x-python",
   "name": "python",
   "nbconvert_exporter": "python",
   "pygments_lexer": "ipython2",
   "version": "2.7.6"
  }
 },
 "nbformat": 4,
 "nbformat_minor": 5
}
