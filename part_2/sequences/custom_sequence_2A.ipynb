{
 "cells": [
  {
   "cell_type": "code",
   "execution_count": 3,
   "id": "0f1a73f1-6831-444a-a97f-db939118c37f",
   "metadata": {},
   "outputs": [],
   "source": [
    "class MyClass:\n",
    "    def __init__(self, name):\n",
    "        self.name = name\n",
    "\n",
    "    def __repr__(self):\n",
    "        return f'MyClass(name={self.name})'\n",
    "\n",
    "    def __add__(self, other):\n",
    "        print(f'You called + on {self} and {other}')\n",
    "        return 'Hello from __add__'\n",
    "\n",
    "    def __iadd__(self, other):\n",
    "        print(f'You called += on {self} and {other}')\n",
    "        return 'Hello from __iadd__'"
   ]
  },
  {
   "cell_type": "code",
   "execution_count": 4,
   "id": "46d922a7-8e98-41b5-b0b3-b201644be5e4",
   "metadata": {},
   "outputs": [],
   "source": [
    "c1 = MyClass('instance 1')\n",
    "c2 = MyClass('instance 2')"
   ]
  },
  {
   "cell_type": "code",
   "execution_count": 5,
   "id": "1d7f0116-8601-4b69-bcc3-789f08519699",
   "metadata": {},
   "outputs": [
    {
     "name": "stdout",
     "output_type": "stream",
     "text": [
      "You called + on MyClass(name=instance 1) and MyClass(name=instance 2)\n"
     ]
    },
    {
     "data": {
      "text/plain": [
       "'Hello from __add__'"
      ]
     },
     "execution_count": 5,
     "metadata": {},
     "output_type": "execute_result"
    }
   ],
   "source": [
    "c1 + c2"
   ]
  },
  {
   "cell_type": "code",
   "execution_count": 6,
   "id": "18bf3cf0-210b-41d7-a13a-ca6082a210b9",
   "metadata": {},
   "outputs": [
    {
     "name": "stdout",
     "output_type": "stream",
     "text": [
      "You called + on MyClass(name=instance 1) and MyClass(name=instance 2)\n"
     ]
    }
   ],
   "source": [
    "result = c1 + c2"
   ]
  },
  {
   "cell_type": "code",
   "execution_count": 7,
   "id": "416dd43f-f5d3-4676-a459-79aa0f2011bf",
   "metadata": {},
   "outputs": [
    {
     "name": "stdout",
     "output_type": "stream",
     "text": [
      "Hello from __add__\n"
     ]
    }
   ],
   "source": [
    "print(result)"
   ]
  },
  {
   "cell_type": "code",
   "execution_count": 8,
   "id": "79427562-76b8-4d79-bdb1-ec7a638a0960",
   "metadata": {},
   "outputs": [
    {
     "data": {
      "text/plain": [
       "(MyClass(name=instance 1), MyClass(name=instance 2))"
      ]
     },
     "execution_count": 8,
     "metadata": {},
     "output_type": "execute_result"
    }
   ],
   "source": [
    "c1, c2"
   ]
  },
  {
   "cell_type": "code",
   "execution_count": 9,
   "id": "12da77bf-1de7-490b-9556-563756e50232",
   "metadata": {},
   "outputs": [
    {
     "data": {
      "text/plain": [
       "1529832404992"
      ]
     },
     "execution_count": 9,
     "metadata": {},
     "output_type": "execute_result"
    }
   ],
   "source": [
    "id(c1)"
   ]
  },
  {
   "cell_type": "code",
   "execution_count": 10,
   "id": "5ac8c1dd-e0f8-4f35-a67a-00f9918c87ac",
   "metadata": {},
   "outputs": [
    {
     "name": "stdout",
     "output_type": "stream",
     "text": [
      "You called += on MyClass(name=instance 1) and MyClass(name=instance 2)\n"
     ]
    }
   ],
   "source": [
    "c1 += c2"
   ]
  },
  {
   "cell_type": "code",
   "execution_count": 11,
   "id": "999b27c9-d31f-455c-b8b5-0ec97f2283b8",
   "metadata": {},
   "outputs": [
    {
     "data": {
      "text/plain": [
       "1529833340976"
      ]
     },
     "execution_count": 11,
     "metadata": {},
     "output_type": "execute_result"
    }
   ],
   "source": [
    "id(c1)"
   ]
  },
  {
   "cell_type": "code",
   "execution_count": 80,
   "id": "e8864344-109a-4b27-8829-0d7e0c51e2aa",
   "metadata": {},
   "outputs": [],
   "source": [
    "class MyClass:\n",
    "    def __init__(self, name):\n",
    "        self.name = name\n",
    "\n",
    "    def __repr__(self):\n",
    "        return f'MyClass(name={self.name})'\n",
    "\n",
    "    def __add__(self, other):\n",
    "        return MyClass(self.name + other.name)\n",
    "\n",
    "    def __iadd__(self, other):\n",
    "        if isinstance(other, MyClass):\n",
    "            self.name += other.name\n",
    "        else:\n",
    "            self.name += other\n",
    "        return self\n",
    "\n",
    "    def __mul__(self, n):\n",
    "        if isinstance(n, int):\n",
    "            return MyClass(self.name * n)\n",
    "\n",
    "    def __rmul__(self,n):\n",
    "        return self.__mul__(n)\n",
    "    \n",
    "    def __imul__(self, n):\n",
    "        if isinstance(n, int):\n",
    "            self.name *= n\n",
    "            return self\n",
    "\n",
    "    def __contains__(self, value):\n",
    "        return value in self.name"
   ]
  },
  {
   "cell_type": "code",
   "execution_count": 60,
   "id": "b8c66f49-c553-4c6b-80cb-41e02e3b7adc",
   "metadata": {},
   "outputs": [
    {
     "name": "stdout",
     "output_type": "stream",
     "text": [
      "1529848140176\n",
      "1529848140896\n"
     ]
    }
   ],
   "source": [
    "c1 = MyClass('Eric')\n",
    "c2 = MyClass('Idle')\n",
    "print(id(c1))\n",
    "print(id(c2))"
   ]
  },
  {
   "cell_type": "code",
   "execution_count": 61,
   "id": "c5be5066-b3c7-443f-a01a-6169b41fb07a",
   "metadata": {},
   "outputs": [],
   "source": [
    "result = c1 + c2"
   ]
  },
  {
   "cell_type": "code",
   "execution_count": 62,
   "id": "5b46319b-2f36-4900-b490-4b415cf2cc2a",
   "metadata": {},
   "outputs": [
    {
     "data": {
      "text/plain": [
       "(1529836189456, MyClass(name=EricIdle))"
      ]
     },
     "execution_count": 62,
     "metadata": {},
     "output_type": "execute_result"
    }
   ],
   "source": [
    "id(result), result"
   ]
  },
  {
   "cell_type": "code",
   "execution_count": 63,
   "id": "67e36ab5-e64f-4bdd-bcf5-ad45bc608ba6",
   "metadata": {},
   "outputs": [],
   "source": [
    "c1 += c2"
   ]
  },
  {
   "cell_type": "code",
   "execution_count": 64,
   "id": "e3fe9194-03dd-4b78-808b-5daac3c5fe71",
   "metadata": {},
   "outputs": [
    {
     "data": {
      "text/plain": [
       "(1529848140176, MyClass(name=EricIdle))"
      ]
     },
     "execution_count": 64,
     "metadata": {},
     "output_type": "execute_result"
    }
   ],
   "source": [
    "id(c1), c1"
   ]
  },
  {
   "cell_type": "code",
   "execution_count": 65,
   "id": "9dace22c-00de-4d88-aaf2-03744a6da6b1",
   "metadata": {},
   "outputs": [],
   "source": [
    "с1 = MyClass('Eric')"
   ]
  },
  {
   "cell_type": "code",
   "execution_count": 66,
   "id": "12a16058-7489-48ae-a439-c6e5a67244cf",
   "metadata": {},
   "outputs": [
    {
     "data": {
      "text/plain": [
       "1529848140176"
      ]
     },
     "execution_count": 66,
     "metadata": {},
     "output_type": "execute_result"
    }
   ],
   "source": [
    "id(c1)"
   ]
  },
  {
   "cell_type": "code",
   "execution_count": 67,
   "id": "fef17172-746f-43d3-a195-f5413ae3e6a4",
   "metadata": {},
   "outputs": [],
   "source": [
    "result = c1 * 3\n"
   ]
  },
  {
   "cell_type": "code",
   "execution_count": 68,
   "id": "1bfb2d17-cd53-4fef-b26b-1a2e284ddfdb",
   "metadata": {},
   "outputs": [
    {
     "data": {
      "text/plain": [
       "(1529833244000, MyClass(name=EricIdleEricIdleEricIdle))"
      ]
     },
     "execution_count": 68,
     "metadata": {},
     "output_type": "execute_result"
    }
   ],
   "source": [
    "id(result), result"
   ]
  },
  {
   "cell_type": "code",
   "execution_count": 69,
   "id": "a6039ad7-3abd-4c8c-83b6-81a560bc6ebb",
   "metadata": {},
   "outputs": [],
   "source": [
    "c1 *= 3"
   ]
  },
  {
   "cell_type": "code",
   "execution_count": 70,
   "id": "60636a9d-b702-4d44-81e0-404ef71c26ee",
   "metadata": {},
   "outputs": [
    {
     "data": {
      "text/plain": [
       "(1529848140176, MyClass(name=EricIdleEricIdleEricIdle))"
      ]
     },
     "execution_count": 70,
     "metadata": {},
     "output_type": "execute_result"
    }
   ],
   "source": [
    "id(c1), c1"
   ]
  },
  {
   "cell_type": "code",
   "execution_count": 71,
   "id": "3e0f6b8f-fcbd-4c93-be5f-2358694c519b",
   "metadata": {},
   "outputs": [
    {
     "data": {
      "text/plain": [
       "MyClass(name=EricIdleEricIdleEricIdleEricIdleEricIdleEricIdleEricIdleEricIdleEricIdle)"
      ]
     },
     "execution_count": 71,
     "metadata": {},
     "output_type": "execute_result"
    }
   ],
   "source": [
    "3 * c1"
   ]
  },
  {
   "cell_type": "code",
   "execution_count": 72,
   "id": "d30afbb7-0072-4ed6-b0f3-0bc0ff6d2d21",
   "metadata": {},
   "outputs": [],
   "source": [
    "c1 = MyClass('Eric')"
   ]
  },
  {
   "cell_type": "code",
   "execution_count": 73,
   "id": "db101235-be92-403a-95bd-0198617b7709",
   "metadata": {},
   "outputs": [
    {
     "data": {
      "text/plain": [
       "MyClass(name=EricEricEric)"
      ]
     },
     "execution_count": 73,
     "metadata": {},
     "output_type": "execute_result"
    }
   ],
   "source": [
    "c1 * 3"
   ]
  },
  {
   "cell_type": "code",
   "execution_count": 74,
   "id": "61a8471a-edc2-4295-b297-31e8e1c09562",
   "metadata": {},
   "outputs": [
    {
     "data": {
      "text/plain": [
       "MyClass(name=EricEricEric)"
      ]
     },
     "execution_count": 74,
     "metadata": {},
     "output_type": "execute_result"
    }
   ],
   "source": [
    "3 * c1"
   ]
  },
  {
   "cell_type": "markdown",
   "id": "808e48b5-7b91-4224-86a8-37af1837de49",
   "metadata": {},
   "source": [
    "### in operator"
   ]
  },
  {
   "cell_type": "code",
   "execution_count": 75,
   "id": "e8e160ea-aec7-4a8c-8876-59b0cb1d0e5e",
   "metadata": {},
   "outputs": [],
   "source": [
    "l = [1,2,3,4]"
   ]
  },
  {
   "cell_type": "code",
   "execution_count": 76,
   "id": "48022e98-0e77-4196-b12a-ce62ae1e2a52",
   "metadata": {},
   "outputs": [],
   "source": [
    "s='python'"
   ]
  },
  {
   "cell_type": "code",
   "execution_count": 77,
   "id": "21bfe842-95d2-476f-b3fe-48704cfe8151",
   "metadata": {},
   "outputs": [
    {
     "data": {
      "text/plain": [
       "True"
      ]
     },
     "execution_count": 77,
     "metadata": {},
     "output_type": "execute_result"
    }
   ],
   "source": [
    "1 in l"
   ]
  },
  {
   "cell_type": "code",
   "execution_count": 79,
   "id": "49724c55-851c-4c54-9459-bbd142e8588d",
   "metadata": {},
   "outputs": [
    {
     "data": {
      "text/plain": [
       "False"
      ]
     },
     "execution_count": 79,
     "metadata": {},
     "output_type": "execute_result"
    }
   ],
   "source": [
    "'s' in s"
   ]
  },
  {
   "cell_type": "code",
   "execution_count": 81,
   "id": "3da2045a-372b-44fc-b7d8-f17eeba78ee7",
   "metadata": {},
   "outputs": [],
   "source": [
    "c1 = MyClass('Eric')"
   ]
  },
  {
   "cell_type": "code",
   "execution_count": 82,
   "id": "35bdbb31-6668-46ab-b560-5e99c9716a93",
   "metadata": {},
   "outputs": [
    {
     "data": {
      "text/plain": [
       "True"
      ]
     },
     "execution_count": 82,
     "metadata": {},
     "output_type": "execute_result"
    }
   ],
   "source": [
    "'r' in c1"
   ]
  },
  {
   "cell_type": "code",
   "execution_count": null,
   "id": "9197f2f3-ac0b-4811-8c4b-7b458bb6f547",
   "metadata": {},
   "outputs": [],
   "source": []
  }
 ],
 "metadata": {
  "kernelspec": {
   "display_name": "Python 3 (ipykernel)",
   "language": "python",
   "name": "python3"
  },
  "language_info": {
   "codemirror_mode": {
    "name": "ipython",
    "version": 3
   },
   "file_extension": ".py",
   "mimetype": "text/x-python",
   "name": "python",
   "nbconvert_exporter": "python",
   "pygments_lexer": "ipython3",
   "version": "3.12.7"
  }
 },
 "nbformat": 4,
 "nbformat_minor": 5
}
