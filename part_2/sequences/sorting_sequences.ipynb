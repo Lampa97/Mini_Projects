{
 "cells": [
  {
   "cell_type": "code",
   "execution_count": 1,
   "id": "8290a15a-f3e2-4e9e-b82e-22f5093da3ff",
   "metadata": {},
   "outputs": [],
   "source": [
    "t = 10, 3, 5, 8, 9, 6, 1"
   ]
  },
  {
   "cell_type": "code",
   "execution_count": 2,
   "id": "51da6e02-03fa-4181-b63e-d0c7e6660ef6",
   "metadata": {},
   "outputs": [
    {
     "data": {
      "text/plain": [
       "[1, 3, 5, 6, 8, 9, 10]"
      ]
     },
     "execution_count": 2,
     "metadata": {},
     "output_type": "execute_result"
    }
   ],
   "source": [
    "sorted(t)"
   ]
  },
  {
   "cell_type": "code",
   "execution_count": 3,
   "id": "f50ce00d-a9d0-47d5-b738-47d0e182fc1f",
   "metadata": {},
   "outputs": [],
   "source": [
    "t = 1+1j, 10, 20"
   ]
  },
  {
   "cell_type": "code",
   "execution_count": 4,
   "id": "1cf6125a-951a-4953-8dbe-9f88725428c0",
   "metadata": {},
   "outputs": [
    {
     "ename": "TypeError",
     "evalue": "'<' not supported between instances of 'int' and 'complex'",
     "output_type": "error",
     "traceback": [
      "\u001b[1;31m---------------------------------------------------------------------------\u001b[0m",
      "\u001b[1;31mTypeError\u001b[0m                                 Traceback (most recent call last)",
      "Cell \u001b[1;32mIn[4], line 1\u001b[0m\n\u001b[1;32m----> 1\u001b[0m \u001b[38;5;28msorted\u001b[39m(t)\n",
      "\u001b[1;31mTypeError\u001b[0m: '<' not supported between instances of 'int' and 'complex'"
     ]
    }
   ],
   "source": [
    "sorted(t)"
   ]
  },
  {
   "cell_type": "code",
   "execution_count": 6,
   "id": "2f231936-6d7a-4169-99d6-53b2a6ac3e37",
   "metadata": {},
   "outputs": [],
   "source": [
    "s = {10, 3, 5, 8, 9, 6, 1}"
   ]
  },
  {
   "cell_type": "code",
   "execution_count": 7,
   "id": "bdb6b2ad-f957-4ee3-a021-218073456374",
   "metadata": {},
   "outputs": [
    {
     "data": {
      "text/plain": [
       "[1, 3, 5, 6, 8, 9, 10]"
      ]
     },
     "execution_count": 7,
     "metadata": {},
     "output_type": "execute_result"
    }
   ],
   "source": [
    "sorted(s)"
   ]
  },
  {
   "cell_type": "code",
   "execution_count": 8,
   "id": "02d1ef3c-99b8-4a0c-acc0-61abe109bde8",
   "metadata": {},
   "outputs": [],
   "source": [
    "d = {3: 100, 2:200, 1:10}"
   ]
  },
  {
   "cell_type": "code",
   "execution_count": 9,
   "id": "887caf9e-4a17-4bbb-82e1-aec7cc8cadd2",
   "metadata": {},
   "outputs": [
    {
     "data": {
      "text/plain": [
       "[1, 2, 3]"
      ]
     },
     "execution_count": 9,
     "metadata": {},
     "output_type": "execute_result"
    }
   ],
   "source": [
    "sorted(d)"
   ]
  },
  {
   "cell_type": "code",
   "execution_count": 10,
   "id": "6941189a-bce8-476e-9f8b-f8703ed096d6",
   "metadata": {},
   "outputs": [],
   "source": [
    "d = {'a': 100, 'b': 50, 'c': 10}"
   ]
  },
  {
   "cell_type": "code",
   "execution_count": 11,
   "id": "a4c86619-3526-4028-83f8-351fece80fab",
   "metadata": {},
   "outputs": [
    {
     "data": {
      "text/plain": [
       "['a', 'b', 'c']"
      ]
     },
     "execution_count": 11,
     "metadata": {},
     "output_type": "execute_result"
    }
   ],
   "source": [
    "sorted(d)"
   ]
  },
  {
   "cell_type": "code",
   "execution_count": 15,
   "id": "ccc1e1f5-3a76-493a-962e-923acf11680b",
   "metadata": {},
   "outputs": [
    {
     "data": {
      "text/plain": [
       "['c', 'b', 'a']"
      ]
     },
     "execution_count": 15,
     "metadata": {},
     "output_type": "execute_result"
    }
   ],
   "source": [
    "sorted(d, key=lambda x: d[x]) "
   ]
  },
  {
   "cell_type": "code",
   "execution_count": 16,
   "id": "0545edb0-59d2-41de-a25c-e62943bf103b",
   "metadata": {},
   "outputs": [],
   "source": [
    "t = 'this', 'parrot', 'is', 'a', 'late', 'bird'"
   ]
  },
  {
   "cell_type": "code",
   "execution_count": 18,
   "id": "667926ec-e9a1-4506-a9cd-97044e7f5971",
   "metadata": {},
   "outputs": [
    {
     "data": {
      "text/plain": [
       "['a', 'bird', 'is', 'late', 'parrot', 'this']"
      ]
     },
     "execution_count": 18,
     "metadata": {},
     "output_type": "execute_result"
    }
   ],
   "source": [
    "sorted(t)"
   ]
  },
  {
   "attachments": {},
   "cell_type": "markdown",
   "id": "bbeafede-5c6b-488e-a1d6-629087f8f985",
   "metadata": {},
   "source": [
    "\n"
   ]
  },
  {
   "cell_type": "code",
   "execution_count": 21,
   "id": "508441f4-ebb3-4b67-92e0-4191dd0309e8",
   "metadata": {},
   "outputs": [
    {
     "data": {
      "text/plain": [
       "['a', 'is', 'this', 'late', 'bird', 'parrot']"
      ]
     },
     "execution_count": 21,
     "metadata": {},
     "output_type": "execute_result"
    }
   ],
   "source": [
    "def sort_key(s):\n",
    "    return len(s)\n",
    "\n",
    "sorted(t, key=sort_key)"
   ]
  },
  {
   "cell_type": "code",
   "execution_count": 22,
   "id": "67c42003-4188-46b8-9a35-fb36d25d27b0",
   "metadata": {},
   "outputs": [
    {
     "data": {
      "text/plain": [
       "['a', 'is', 'this', 'late', 'bird', 'parrot']"
      ]
     },
     "execution_count": 22,
     "metadata": {},
     "output_type": "execute_result"
    }
   ],
   "source": [
    "sorted(t, key=lambda s: len(s))"
   ]
  },
  {
   "cell_type": "code",
   "execution_count": 23,
   "id": "b6c89d81-02f7-4e8f-989d-b206494f8614",
   "metadata": {},
   "outputs": [],
   "source": [
    "t = 'aaaa', 'bbbb', 'cccc', 'dddd', 'e'*4"
   ]
  },
  {
   "cell_type": "code",
   "execution_count": 24,
   "id": "eba8ad1a-349d-4848-9494-e6c478e43ca9",
   "metadata": {},
   "outputs": [
    {
     "data": {
      "text/plain": [
       "('aaaa', 'bbbb', 'cccc', 'dddd', 'eeee')"
      ]
     },
     "execution_count": 24,
     "metadata": {},
     "output_type": "execute_result"
    }
   ],
   "source": [
    "t"
   ]
  },
  {
   "cell_type": "code",
   "execution_count": 25,
   "id": "3961a13d-6f43-4a53-aab5-138ca4ac52c9",
   "metadata": {},
   "outputs": [
    {
     "data": {
      "text/plain": [
       "['aaaa', 'bbbb', 'cccc', 'dddd', 'eeee']"
      ]
     },
     "execution_count": 25,
     "metadata": {},
     "output_type": "execute_result"
    }
   ],
   "source": [
    "sorted(t, key=lambda s: len(s))"
   ]
  },
  {
   "cell_type": "code",
   "execution_count": 26,
   "id": "4a84be72-849f-4d25-a268-ba17c3ed333d",
   "metadata": {},
   "outputs": [
    {
     "data": {
      "text/plain": [
       "['aaaa', 'bbbb', 'cccc', 'dddd', 'eeee']"
      ]
     },
     "execution_count": 26,
     "metadata": {},
     "output_type": "execute_result"
    }
   ],
   "source": [
    "sorted(t)"
   ]
  },
  {
   "cell_type": "code",
   "execution_count": 27,
   "id": "d4c1bd21-e712-41d6-af9e-5707d3e4607f",
   "metadata": {},
   "outputs": [],
   "source": [
    "t = 'aaaa', 'bbbb', 'e'*4, 'dddd', 'c'*4"
   ]
  },
  {
   "cell_type": "code",
   "execution_count": 28,
   "id": "4beeb742-30ad-4f4d-bd59-73a2b26021f0",
   "metadata": {},
   "outputs": [
    {
     "data": {
      "text/plain": [
       "['aaaa', 'bbbb', 'eeee', 'dddd', 'cccc']"
      ]
     },
     "execution_count": 28,
     "metadata": {},
     "output_type": "execute_result"
    }
   ],
   "source": [
    "sorted(t, key=lambda s: len(s))"
   ]
  },
  {
   "cell_type": "code",
   "execution_count": 29,
   "id": "27ffa9de-ba98-4bd1-a8e3-291d4d516568",
   "metadata": {},
   "outputs": [],
   "source": [
    "t = 1+1j, 2+2j, 3+3j"
   ]
  },
  {
   "cell_type": "code",
   "execution_count": 30,
   "id": "58553871-f9df-45dc-be79-83b8b618822f",
   "metadata": {},
   "outputs": [
    {
     "ename": "TypeError",
     "evalue": "'<' not supported between instances of 'complex' and 'complex'",
     "output_type": "error",
     "traceback": [
      "\u001b[1;31m---------------------------------------------------------------------------\u001b[0m",
      "\u001b[1;31mTypeError\u001b[0m                                 Traceback (most recent call last)",
      "Cell \u001b[1;32mIn[30], line 1\u001b[0m\n\u001b[1;32m----> 1\u001b[0m \u001b[38;5;28msorted\u001b[39m(t)\n",
      "\u001b[1;31mTypeError\u001b[0m: '<' not supported between instances of 'complex' and 'complex'"
     ]
    }
   ],
   "source": [
    "sorted(t)"
   ]
  },
  {
   "cell_type": "code",
   "execution_count": 31,
   "id": "c37c3d24-c0a3-4f31-bcbb-17888b06a719",
   "metadata": {},
   "outputs": [
    {
     "data": {
      "text/plain": [
       "1.4142135623730951"
      ]
     },
     "execution_count": 31,
     "metadata": {},
     "output_type": "execute_result"
    }
   ],
   "source": [
    "abs(1+1j)"
   ]
  },
  {
   "cell_type": "code",
   "execution_count": 32,
   "id": "4cada919-ab34-4b58-9869-5fbd625ebaf1",
   "metadata": {},
   "outputs": [
    {
     "data": {
      "text/plain": [
       "2.8284271247461903"
      ]
     },
     "execution_count": 32,
     "metadata": {},
     "output_type": "execute_result"
    }
   ],
   "source": [
    "abs(2+2j)"
   ]
  },
  {
   "cell_type": "code",
   "execution_count": 35,
   "id": "dc0db7ee-124b-4f3f-9f48-0bd4b05e6f38",
   "metadata": {},
   "outputs": [
    {
     "data": {
      "text/plain": [
       "7.0710678118654755"
      ]
     },
     "execution_count": 35,
     "metadata": {},
     "output_type": "execute_result"
    }
   ],
   "source": [
    "abs(5+5j)"
   ]
  },
  {
   "cell_type": "code",
   "execution_count": 36,
   "id": "218dc374-07ee-4881-8e11-364c192b9c9b",
   "metadata": {},
   "outputs": [],
   "source": [
    "t = 0, 10+10j, 3-3j, 4+4j, 5-2j"
   ]
  },
  {
   "cell_type": "code",
   "execution_count": 37,
   "id": "0fa844c5-a534-402d-92fd-38a744ef9537",
   "metadata": {},
   "outputs": [
    {
     "data": {
      "text/plain": [
       "[0, (3-3j), (5-2j), (4+4j), (10+10j)]"
      ]
     },
     "execution_count": 37,
     "metadata": {},
     "output_type": "execute_result"
    }
   ],
   "source": [
    "sorted(t, key=abs)"
   ]
  },
  {
   "cell_type": "code",
   "execution_count": 40,
   "id": "38a5045d-569a-4d50-a101-735304d4b55d",
   "metadata": {},
   "outputs": [
    {
     "data": {
      "text/plain": [
       "[(10+10j), (4+4j), 0, (5-2j), (3-3j)]"
      ]
     },
     "execution_count": 40,
     "metadata": {},
     "output_type": "execute_result"
    }
   ],
   "source": [
    "sorted(t, key= lambda c: c.imag, reverse=True)"
   ]
  },
  {
   "cell_type": "code",
   "execution_count": 39,
   "id": "e5a59098-5426-4f2b-8b80-954f196b195a",
   "metadata": {},
   "outputs": [
    {
     "data": {
      "text/plain": [
       "4.0"
      ]
     },
     "execution_count": 39,
     "metadata": {},
     "output_type": "execute_result"
    }
   ],
   "source": [
    "2+2j.imag"
   ]
  },
  {
   "cell_type": "code",
   "execution_count": 41,
   "id": "9ee04469-8de7-41fe-b271-3828c1709e5d",
   "metadata": {},
   "outputs": [],
   "source": [
    "t = 'this', 'parrot', 'is', 'a', 'late', 'bird'"
   ]
  },
  {
   "cell_type": "code",
   "execution_count": 42,
   "id": "b09b6ce3-26fe-4fe6-b424-b012141ade71",
   "metadata": {},
   "outputs": [
    {
     "data": {
      "text/plain": [
       "['parrot', 'this', 'late', 'bird', 'is', 'a']"
      ]
     },
     "execution_count": 42,
     "metadata": {},
     "output_type": "execute_result"
    }
   ],
   "source": [
    "sorted(t, key= lambda s: len(s), reverse=True)"
   ]
  },
  {
   "cell_type": "code",
   "execution_count": 43,
   "id": "f2d2d9e8-e51c-4455-aebc-59f76870602f",
   "metadata": {},
   "outputs": [
    {
     "data": {
      "text/plain": [
       "['parrot', 'this', 'late', 'bird', 'is', 'a']"
      ]
     },
     "execution_count": 43,
     "metadata": {},
     "output_type": "execute_result"
    }
   ],
   "source": [
    "sorted(t, key= lambda s: -len(s))"
   ]
  },
  {
   "cell_type": "code",
   "execution_count": 44,
   "id": "8da872f3-fec3-4739-a239-284d2dc4ba23",
   "metadata": {},
   "outputs": [],
   "source": [
    "l = ['this', 'bird', 'is', 'a', 'late', 'parrot']"
   ]
  },
  {
   "cell_type": "code",
   "execution_count": 46,
   "id": "0958cc37-a978-45fc-97dc-194ff0a235ef",
   "metadata": {},
   "outputs": [],
   "source": [
    "l = 'this bird is a late parrot'.split(' ')"
   ]
  },
  {
   "cell_type": "code",
   "execution_count": 47,
   "id": "077d4d54-2a87-4872-9c3d-0f3d82fe4a7c",
   "metadata": {},
   "outputs": [
    {
     "data": {
      "text/plain": [
       "['this', 'bird', 'is', 'a', 'late', 'parrot']"
      ]
     },
     "execution_count": 47,
     "metadata": {},
     "output_type": "execute_result"
    }
   ],
   "source": [
    "l"
   ]
  },
  {
   "cell_type": "code",
   "execution_count": 48,
   "id": "ed5e63e3-ecc1-4c52-abb7-17994c50b452",
   "metadata": {},
   "outputs": [
    {
     "data": {
      "text/plain": [
       "['a', 'is', 'this', 'bird', 'late', 'parrot']"
      ]
     },
     "execution_count": 48,
     "metadata": {},
     "output_type": "execute_result"
    }
   ],
   "source": [
    "sorted(l, key=lambda s: len(s))"
   ]
  },
  {
   "cell_type": "code",
   "execution_count": 49,
   "id": "9078bfe4-3495-47c9-a2c3-2267d7bb6e05",
   "metadata": {},
   "outputs": [
    {
     "data": {
      "text/plain": [
       "['this', 'bird', 'is', 'a', 'late', 'parrot']"
      ]
     },
     "execution_count": 49,
     "metadata": {},
     "output_type": "execute_result"
    }
   ],
   "source": [
    "l"
   ]
  },
  {
   "cell_type": "code",
   "execution_count": 52,
   "id": "bf8e2d23-2b5e-48e6-94ff-6484a4e51269",
   "metadata": {},
   "outputs": [],
   "source": [
    "result = l.sort(key=lambda s: len(s))"
   ]
  },
  {
   "cell_type": "code",
   "execution_count": 51,
   "id": "6321c328-c895-4a3c-b35e-eaa644f0a31e",
   "metadata": {},
   "outputs": [
    {
     "data": {
      "text/plain": [
       "['a', 'is', 'this', 'bird', 'late', 'parrot']"
      ]
     },
     "execution_count": 51,
     "metadata": {},
     "output_type": "execute_result"
    }
   ],
   "source": [
    "l"
   ]
  },
  {
   "cell_type": "code",
   "execution_count": 53,
   "id": "626c887e-7b7d-475d-ba68-6a11f0e4daa5",
   "metadata": {},
   "outputs": [],
   "source": [
    "result"
   ]
  },
  {
   "cell_type": "code",
   "execution_count": 54,
   "id": "8efed844-f620-4102-831c-7557e61e68aa",
   "metadata": {},
   "outputs": [
    {
     "data": {
      "text/plain": [
       "NoneType"
      ]
     },
     "execution_count": 54,
     "metadata": {},
     "output_type": "execute_result"
    }
   ],
   "source": [
    "type(result)"
   ]
  },
  {
   "cell_type": "code",
   "execution_count": 55,
   "id": "07b2022a-9041-4dcd-83ff-bb34bd259644",
   "metadata": {},
   "outputs": [],
   "source": [
    "from timeit import timeit\n",
    "import random"
   ]
  },
  {
   "cell_type": "code",
   "execution_count": 56,
   "id": "9e30a4ab-a58a-4652-bae5-324ebe582144",
   "metadata": {},
   "outputs": [],
   "source": [
    "random.seed(0)\n",
    "n = 10_000_000\n",
    "l = [random.randint(0,100) for n in range(n)]"
   ]
  },
  {
   "cell_type": "code",
   "execution_count": 57,
   "id": "a2736f04-7dd5-477d-baeb-b8ab19ea90a2",
   "metadata": {},
   "outputs": [
    {
     "data": {
      "text/plain": [
       "[49, 97, 53, 5, 33, 65, 62, 51, 100, 38]"
      ]
     },
     "execution_count": 57,
     "metadata": {},
     "output_type": "execute_result"
    }
   ],
   "source": [
    "l[0:10]"
   ]
  },
  {
   "cell_type": "code",
   "execution_count": 58,
   "id": "4ba08f0f-4f7f-4a23-9708-bcd734939873",
   "metadata": {},
   "outputs": [
    {
     "data": {
      "text/plain": [
       "1.1867782000335865"
      ]
     },
     "execution_count": 58,
     "metadata": {},
     "output_type": "execute_result"
    }
   ],
   "source": [
    "timeit(stmt='sorted(l)', globals=globals(), number=1)"
   ]
  },
  {
   "cell_type": "code",
   "execution_count": 59,
   "id": "3dc27e9b-a6f0-4528-b1e5-c4f3556c013d",
   "metadata": {},
   "outputs": [
    {
     "data": {
      "text/plain": [
       "1.1725545999943279"
      ]
     },
     "execution_count": 59,
     "metadata": {},
     "output_type": "execute_result"
    }
   ],
   "source": [
    "timeit(stmt='l.sort()', globals=globals(), number=1)"
   ]
  },
  {
   "cell_type": "code",
   "execution_count": 61,
   "id": "2d5bc113-dd89-4b25-8d5c-fbc5db25af98",
   "metadata": {},
   "outputs": [
    {
     "data": {
      "text/plain": [
       "[50, 50, 50, 50, 50, 50, 50, 50, 50, 50]"
      ]
     },
     "execution_count": 61,
     "metadata": {},
     "output_type": "execute_result"
    }
   ],
   "source": [
    "l[5_000_000:5_000_010]"
   ]
  },
  {
   "cell_type": "code",
   "execution_count": 62,
   "id": "2759f45e-d8d5-4f0f-99cd-f18c99637643",
   "metadata": {},
   "outputs": [
    {
     "data": {
      "text/plain": [
       "0.06905450002523139"
      ]
     },
     "execution_count": 62,
     "metadata": {},
     "output_type": "execute_result"
    }
   ],
   "source": [
    "timeit(stmt='l.sort()', globals=globals(), number=1)"
   ]
  },
  {
   "cell_type": "code",
   "execution_count": 121,
   "id": "79a225ea-ef36-4d82-ade5-e64efedb42a8",
   "metadata": {},
   "outputs": [],
   "source": [
    "class MyClass:\n",
    "    def __init__(self, name, val):\n",
    "        self.name = name\n",
    "        self.val = val\n",
    "\n",
    "    def __repr__(self):\n",
    "        return f\"{self.__class__.__name__}({self.name}, {self.val})\"\n",
    "\n",
    "    def __lt__(self, other):\n",
    "        print('calling __lt__')\n",
    "        return self.val < other.val\n",
    "\n",
    "    def __gt__(self, other):\n",
    "        return self.val > other.val"
   ]
  },
  {
   "cell_type": "code",
   "execution_count": 122,
   "id": "5799b9bb-6bfe-4b36-913c-d3d0fc7fa5ef",
   "metadata": {},
   "outputs": [],
   "source": [
    "s1 = MyClass(\"Igor\", 4)"
   ]
  },
  {
   "cell_type": "code",
   "execution_count": 123,
   "id": "815896ed-1688-4479-9788-a3bd3d4978cd",
   "metadata": {},
   "outputs": [
    {
     "data": {
      "text/plain": [
       "MyClass(Igor, 4)"
      ]
     },
     "execution_count": 123,
     "metadata": {},
     "output_type": "execute_result"
    }
   ],
   "source": [
    "s1"
   ]
  },
  {
   "cell_type": "code",
   "execution_count": 124,
   "id": "0e4a1129-5166-46a0-82a9-7f2a6e5f4f72",
   "metadata": {},
   "outputs": [],
   "source": [
    "s2 = MyClass(\"Rom\", 10)"
   ]
  },
  {
   "cell_type": "code",
   "execution_count": 125,
   "id": "dcc90054-909f-4b41-8d9f-0d2f99eea677",
   "metadata": {},
   "outputs": [],
   "source": [
    "s3 = MyClass(\"Gorof\", 18)"
   ]
  },
  {
   "cell_type": "code",
   "execution_count": 126,
   "id": "71ece250-a512-4df4-9943-882e63526bdd",
   "metadata": {},
   "outputs": [],
   "source": [
    "s4 = MyClass(\"Zhok\", 10)"
   ]
  },
  {
   "cell_type": "code",
   "execution_count": 127,
   "id": "fd8edcfb-9176-4a0a-9538-73e4548c9e09",
   "metadata": {},
   "outputs": [
    {
     "name": "stdout",
     "output_type": "stream",
     "text": [
      "calling __lt__\n"
     ]
    },
    {
     "data": {
      "text/plain": [
       "False"
      ]
     },
     "execution_count": 127,
     "metadata": {},
     "output_type": "execute_result"
    }
   ],
   "source": [
    "s2 < s4"
   ]
  },
  {
   "cell_type": "code",
   "execution_count": 128,
   "id": "453012db-1f28-4785-8e62-1632e47ac6c2",
   "metadata": {},
   "outputs": [
    {
     "name": "stdout",
     "output_type": "stream",
     "text": [
      "calling __lt__\n",
      "calling __lt__\n",
      "calling __lt__\n",
      "calling __lt__\n",
      "calling __lt__\n"
     ]
    },
    {
     "data": {
      "text/plain": [
       "[MyClass(Igor, 4), MyClass(Rom, 10), MyClass(Zhok, 10), MyClass(Gorof, 18)]"
      ]
     },
     "execution_count": 128,
     "metadata": {},
     "output_type": "execute_result"
    }
   ],
   "source": [
    "sorted([s1, s2, s3, s4])"
   ]
  },
  {
   "cell_type": "code",
   "execution_count": 129,
   "id": "4f148ee7-d360-4f94-b847-b15b31cd790e",
   "metadata": {},
   "outputs": [],
   "source": [
    "l = [s4, s2, s3, s1]"
   ]
  },
  {
   "cell_type": "code",
   "execution_count": 130,
   "id": "bf2e3061-dc2a-4093-b3bb-ed3103f45b3c",
   "metadata": {},
   "outputs": [
    {
     "data": {
      "text/plain": [
       "[MyClass(Zhok, 10), MyClass(Rom, 10), MyClass(Gorof, 18), MyClass(Igor, 4)]"
      ]
     },
     "execution_count": 130,
     "metadata": {},
     "output_type": "execute_result"
    }
   ],
   "source": [
    "l"
   ]
  },
  {
   "cell_type": "code",
   "execution_count": 131,
   "id": "cf863b03-6f24-4f4b-a81a-d32014bfdfb3",
   "metadata": {},
   "outputs": [
    {
     "data": {
      "text/plain": [
       "[MyClass(Gorof, 18), MyClass(Igor, 4), MyClass(Rom, 10), MyClass(Zhok, 10)]"
      ]
     },
     "execution_count": 131,
     "metadata": {},
     "output_type": "execute_result"
    }
   ],
   "source": [
    "sorted(l, key= lambda x: x.name)"
   ]
  },
  {
   "cell_type": "code",
   "execution_count": null,
   "id": "c466c23d-81cf-4508-8395-e34edb203361",
   "metadata": {},
   "outputs": [],
   "source": []
  },
  {
   "cell_type": "code",
   "execution_count": null,
   "id": "1e7a57a3-1a25-467e-9c80-68aee955dc9c",
   "metadata": {},
   "outputs": [],
   "source": []
  }
 ],
 "metadata": {
  "kernelspec": {
   "display_name": "Python 3 (ipykernel)",
   "language": "python",
   "name": "python3"
  },
  "language_info": {
   "codemirror_mode": {
    "name": "ipython",
    "version": 3
   },
   "file_extension": ".py",
   "mimetype": "text/x-python",
   "name": "python",
   "nbconvert_exporter": "python",
   "pygments_lexer": "ipython3",
   "version": "3.12.7"
  }
 },
 "nbformat": 4,
 "nbformat_minor": 5
}
