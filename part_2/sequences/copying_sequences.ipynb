{
 "cells": [
  {
   "cell_type": "code",
   "execution_count": 1,
   "id": "8e56e2d0-90b3-451f-8163-67967c22866f",
   "metadata": {},
   "outputs": [
    {
     "name": "stdout",
     "output_type": "stream",
     "text": [
      "[1, 2, 3]\n",
      "2229107613952 2229108007552\n"
     ]
    }
   ],
   "source": [
    "l1 = [1,2,3]\n",
    "\n",
    "l1_copy = []\n",
    "for item in l1:\n",
    "    l1_copy.append(item)\n",
    "\n",
    "print(l1_copy)\n",
    "print(id(l1), id(l1_copy))"
   ]
  },
  {
   "cell_type": "code",
   "execution_count": 2,
   "id": "c7df4430-4473-4289-972b-d37844c704c2",
   "metadata": {},
   "outputs": [],
   "source": [
    "l1_copy = [item for item in l1]"
   ]
  },
  {
   "cell_type": "code",
   "execution_count": 3,
   "id": "987efbe8-9f0b-4c1e-ba8a-16f9e991c401",
   "metadata": {},
   "outputs": [
    {
     "data": {
      "text/plain": [
       "[1, 2, 3]"
      ]
     },
     "execution_count": 3,
     "metadata": {},
     "output_type": "execute_result"
    }
   ],
   "source": [
    "l1_copy"
   ]
  },
  {
   "cell_type": "code",
   "execution_count": 4,
   "id": "0f517b82-3fc4-4519-b3c2-610ed8ee1738",
   "metadata": {},
   "outputs": [
    {
     "data": {
      "text/plain": [
       "2229108012672"
      ]
     },
     "execution_count": 4,
     "metadata": {},
     "output_type": "execute_result"
    }
   ],
   "source": [
    "id(l1_copy)"
   ]
  },
  {
   "cell_type": "code",
   "execution_count": 5,
   "id": "d1b3df27-9417-4aed-a9c4-d8bedcaa1250",
   "metadata": {},
   "outputs": [],
   "source": [
    "l1_copy = l1.copy()"
   ]
  },
  {
   "cell_type": "code",
   "execution_count": 6,
   "id": "453ec4d1-f4f1-43ce-ba6b-a8146438c144",
   "metadata": {},
   "outputs": [
    {
     "data": {
      "text/plain": [
       "[1, 2, 3]"
      ]
     },
     "execution_count": 6,
     "metadata": {},
     "output_type": "execute_result"
    }
   ],
   "source": [
    "l1_copy"
   ]
  },
  {
   "cell_type": "code",
   "execution_count": 7,
   "id": "dc250f5c-b02a-4437-8a40-ebb3ac228800",
   "metadata": {},
   "outputs": [
    {
     "data": {
      "text/plain": [
       "(2229108040768, 2229107613952)"
      ]
     },
     "execution_count": 7,
     "metadata": {},
     "output_type": "execute_result"
    }
   ],
   "source": [
    "id(l1_copy), id(l1)"
   ]
  },
  {
   "cell_type": "code",
   "execution_count": 8,
   "id": "2198bb92-2e41-4127-bb23-b0ef58f240d0",
   "metadata": {},
   "outputs": [],
   "source": [
    "l1_copy = list(l1)"
   ]
  },
  {
   "cell_type": "code",
   "execution_count": 9,
   "id": "a01ca2cb-f912-4c74-9a47-cf9bc7931b8e",
   "metadata": {},
   "outputs": [
    {
     "data": {
      "text/plain": [
       "[1, 2, 3]"
      ]
     },
     "execution_count": 9,
     "metadata": {},
     "output_type": "execute_result"
    }
   ],
   "source": [
    "l1_copy"
   ]
  },
  {
   "cell_type": "code",
   "execution_count": 10,
   "id": "c2c7b1c9-82cd-4aa1-a7b0-c4e04f8e3743",
   "metadata": {},
   "outputs": [
    {
     "data": {
      "text/plain": [
       "2229108152832"
      ]
     },
     "execution_count": 10,
     "metadata": {},
     "output_type": "execute_result"
    }
   ],
   "source": [
    "id(l1_copy)"
   ]
  },
  {
   "cell_type": "code",
   "execution_count": 11,
   "id": "3a430cb0-24a6-4ea9-b39c-bace54a3303e",
   "metadata": {},
   "outputs": [],
   "source": [
    "t1 = (1,2,3)\n",
    "l1_copy = list(l1)"
   ]
  },
  {
   "cell_type": "code",
   "execution_count": 12,
   "id": "af7ff24c-86f6-408c-b531-1d59dbd7dacd",
   "metadata": {},
   "outputs": [
    {
     "data": {
      "text/plain": [
       "[1, 2, 3]"
      ]
     },
     "execution_count": 12,
     "metadata": {},
     "output_type": "execute_result"
    }
   ],
   "source": [
    "l1_copy"
   ]
  },
  {
   "cell_type": "code",
   "execution_count": 13,
   "id": "402b40b1-c9d1-4957-82ec-c825855acb03",
   "metadata": {},
   "outputs": [
    {
     "name": "stdout",
     "output_type": "stream",
     "text": [
      "2229108035648 (1, 2, 3)\n",
      "2229108035648 (1, 2, 3)\n"
     ]
    }
   ],
   "source": [
    "t1 = (1,2,3)\n",
    "t2 = tuple(t1)\n",
    "print(id(t1), t1)\n",
    "print(id(t2), t2)"
   ]
  },
  {
   "cell_type": "code",
   "execution_count": 14,
   "id": "a64b784d-c744-45af-8426-0190a5475d49",
   "metadata": {},
   "outputs": [],
   "source": [
    "l1 = [1,2,3]\n",
    "l2 = l1[:]"
   ]
  },
  {
   "cell_type": "code",
   "execution_count": 15,
   "id": "29ae69e9-472a-447a-ba17-b4eb5626b2e2",
   "metadata": {},
   "outputs": [
    {
     "data": {
      "text/plain": [
       "([1, 2, 3], [1, 2, 3])"
      ]
     },
     "execution_count": 15,
     "metadata": {},
     "output_type": "execute_result"
    }
   ],
   "source": [
    "l1, l2"
   ]
  },
  {
   "cell_type": "code",
   "execution_count": 16,
   "id": "e587d763-bcc6-4b5a-8c4d-e9b47983f4de",
   "metadata": {},
   "outputs": [
    {
     "data": {
      "text/plain": [
       "(2229108045888, 2229108008320)"
      ]
     },
     "execution_count": 16,
     "metadata": {},
     "output_type": "execute_result"
    }
   ],
   "source": [
    "id(l1), id(l2)"
   ]
  },
  {
   "cell_type": "code",
   "execution_count": 17,
   "id": "87fa465b-7ef9-4ba7-9323-56d6d639355b",
   "metadata": {},
   "outputs": [],
   "source": [
    "t1 = (1,2,3)\n",
    "t2 = t1[:]"
   ]
  },
  {
   "cell_type": "code",
   "execution_count": 18,
   "id": "838062ce-016d-428d-aa92-8f0d76bb0483",
   "metadata": {},
   "outputs": [
    {
     "name": "stdout",
     "output_type": "stream",
     "text": [
      "2229107784256 (1, 2, 3)\n",
      "2229107784256 (1, 2, 3)\n"
     ]
    }
   ],
   "source": [
    "print(id(t1), t1)\n",
    "print(id(t2), t2)"
   ]
  },
  {
   "cell_type": "code",
   "execution_count": 19,
   "id": "c2bb7b60-bc1f-4e53-9b83-ee6eab69a293",
   "metadata": {},
   "outputs": [
    {
     "name": "stdout",
     "output_type": "stream",
     "text": [
      "2231158406432 python\n",
      "2231158406432 python\n"
     ]
    }
   ],
   "source": [
    "s1 = 'python'\n",
    "s2 = str(s1)\n",
    "print(id(s1), s1)\n",
    "print(id(s2), s2)"
   ]
  },
  {
   "cell_type": "code",
   "execution_count": 21,
   "id": "f16a01c3-b151-46fb-8761-ffb1fce12e33",
   "metadata": {},
   "outputs": [
    {
     "name": "stdout",
     "output_type": "stream",
     "text": [
      "2231158406432 python\n",
      "2231158406432 python\n"
     ]
    }
   ],
   "source": [
    "s1 = 'python'\n",
    "s2 = s1[:]\n",
    "print(id(s1), s1)\n",
    "print(id(s2), s2)"
   ]
  },
  {
   "cell_type": "code",
   "execution_count": 22,
   "id": "c4b7e00e-3000-4e24-bd85-f0fe39878f28",
   "metadata": {},
   "outputs": [],
   "source": [
    "import copy"
   ]
  },
  {
   "cell_type": "code",
   "execution_count": 23,
   "id": "3bf15a49-e4b3-4a9a-89b2-047dbed68a71",
   "metadata": {},
   "outputs": [
    {
     "name": "stdout",
     "output_type": "stream",
     "text": [
      "2229108161920 [1, 2, 3]\n",
      "2229108162688 [1, 2, 3]\n"
     ]
    }
   ],
   "source": [
    "l1 = [1,2,3]\n",
    "l2 = copy.copy(l1)\n",
    "print(id(l1), l1)\n",
    "print(id(l2), l2)"
   ]
  },
  {
   "cell_type": "code",
   "execution_count": 24,
   "id": "abd559ae-793f-4bbf-9a55-e2faa230c85d",
   "metadata": {},
   "outputs": [
    {
     "name": "stdout",
     "output_type": "stream",
     "text": [
      "2229108034880 (1, 2, 3)\n",
      "2229108034880 (1, 2, 3)\n"
     ]
    }
   ],
   "source": [
    "t1 = (1,2,3)\n",
    "t2 = copy.copy(t1)\n",
    "print(id(t1), t1)\n",
    "print(id(t2), t2)"
   ]
  },
  {
   "cell_type": "markdown",
   "id": "2c861f9f-cdf0-4447-a1cd-e7c6cd864734",
   "metadata": {},
   "source": [
    "#### Deep Copies"
   ]
  },
  {
   "cell_type": "code",
   "execution_count": 25,
   "id": "177fb17f-4f1c-46d1-b649-d1997065e33f",
   "metadata": {},
   "outputs": [],
   "source": [
    "v1 = [0,0]\n",
    "v2 = [0,0]\n",
    "\n",
    "line1 = [v1, v2]"
   ]
  },
  {
   "cell_type": "code",
   "execution_count": 26,
   "id": "893200db-27b2-4036-a57e-9dab0305cc5a",
   "metadata": {},
   "outputs": [],
   "source": [
    "line2 = line1.copy()"
   ]
  },
  {
   "cell_type": "code",
   "execution_count": 27,
   "id": "d3d08cf2-7608-4321-bf1c-29cbe65357bc",
   "metadata": {},
   "outputs": [
    {
     "data": {
      "text/plain": [
       "(2229108167232, 2229108170624)"
      ]
     },
     "execution_count": 27,
     "metadata": {},
     "output_type": "execute_result"
    }
   ],
   "source": [
    "id(line1), id(line2)"
   ]
  },
  {
   "cell_type": "code",
   "execution_count": 28,
   "id": "84156a83-99e1-4c55-908a-93a2b6dc015d",
   "metadata": {},
   "outputs": [
    {
     "data": {
      "text/plain": [
       "(2229108008512, 2229108008512)"
      ]
     },
     "execution_count": 28,
     "metadata": {},
     "output_type": "execute_result"
    }
   ],
   "source": [
    "id(line1[0]), id(line2[0])"
   ]
  },
  {
   "cell_type": "code",
   "execution_count": 29,
   "id": "b813a23f-cdae-4ac5-b3d0-a4f91cd39b97",
   "metadata": {},
   "outputs": [],
   "source": [
    "line2 = [v for v in line1]"
   ]
  },
  {
   "cell_type": "code",
   "execution_count": 31,
   "id": "9621ec7a-4f4f-49a8-be1c-47b8491ff3ea",
   "metadata": {},
   "outputs": [
    {
     "data": {
      "text/plain": [
       "(2229108165184, 2229108165184)"
      ]
     },
     "execution_count": 31,
     "metadata": {},
     "output_type": "execute_result"
    }
   ],
   "source": [
    "id(line1[1]), id(line2[1])"
   ]
  },
  {
   "cell_type": "code",
   "execution_count": 32,
   "id": "2902aa4d-b5f4-425b-b405-92739093c0d7",
   "metadata": {},
   "outputs": [
    {
     "data": {
      "text/plain": [
       "([[0, 0], [0, 0]], [[0, 0], [0, 0]])"
      ]
     },
     "execution_count": 32,
     "metadata": {},
     "output_type": "execute_result"
    }
   ],
   "source": [
    "line1, line2"
   ]
  },
  {
   "cell_type": "code",
   "execution_count": 34,
   "id": "1a90a782-d961-4c03-a921-e75097705ba7",
   "metadata": {},
   "outputs": [],
   "source": [
    "line1[0][0] = 100"
   ]
  },
  {
   "cell_type": "code",
   "execution_count": 35,
   "id": "648fb714-21fe-4200-9412-63414c315bcf",
   "metadata": {},
   "outputs": [
    {
     "data": {
      "text/plain": [
       "[[100, 0], [0, 0]]"
      ]
     },
     "execution_count": 35,
     "metadata": {},
     "output_type": "execute_result"
    }
   ],
   "source": [
    "line1"
   ]
  },
  {
   "cell_type": "code",
   "execution_count": 36,
   "id": "7702a5e4-b4fb-46a5-a838-4d42c0c11631",
   "metadata": {},
   "outputs": [
    {
     "data": {
      "text/plain": [
       "[[100, 0], [0, 0]]"
      ]
     },
     "execution_count": 36,
     "metadata": {},
     "output_type": "execute_result"
    }
   ],
   "source": [
    "line2"
   ]
  },
  {
   "cell_type": "code",
   "execution_count": 37,
   "id": "c45aecde-652e-4f43-9f66-e80f456d39c3",
   "metadata": {},
   "outputs": [],
   "source": [
    "line2 = [v.copy() for v in line1]"
   ]
  },
  {
   "cell_type": "code",
   "execution_count": 39,
   "id": "7f9eb8dd-651c-4467-8b41-f47560ab0f9b",
   "metadata": {},
   "outputs": [
    {
     "name": "stdout",
     "output_type": "stream",
     "text": [
      "[[100, 0], [0, 0]]\n",
      "[[100, 0], [0, 0]]\n"
     ]
    }
   ],
   "source": [
    "print(line1)\n",
    "print(line2)"
   ]
  },
  {
   "cell_type": "code",
   "execution_count": 40,
   "id": "35422351-3fc2-46a9-9cf0-1d9976e5b421",
   "metadata": {},
   "outputs": [
    {
     "data": {
      "text/plain": [
       "(2229108167232, 2229108148928)"
      ]
     },
     "execution_count": 40,
     "metadata": {},
     "output_type": "execute_result"
    }
   ],
   "source": [
    "id(line1), id(line2)"
   ]
  },
  {
   "cell_type": "code",
   "execution_count": 41,
   "id": "ff1590be-d63b-4e9e-80ec-f30ce634d038",
   "metadata": {},
   "outputs": [
    {
     "data": {
      "text/plain": [
       "(2229108008512, 2229108013504)"
      ]
     },
     "execution_count": 41,
     "metadata": {},
     "output_type": "execute_result"
    }
   ],
   "source": [
    "id(line1[0]), id(line2[0])"
   ]
  },
  {
   "cell_type": "code",
   "execution_count": 42,
   "id": "a95166fc-f82f-4699-848b-a56edc6cdfcb",
   "metadata": {},
   "outputs": [],
   "source": [
    "line1[0][0] = -10"
   ]
  },
  {
   "cell_type": "code",
   "execution_count": 43,
   "id": "d1fdfaa4-21da-4d8f-bda6-c2af35ed885b",
   "metadata": {},
   "outputs": [
    {
     "data": {
      "text/plain": [
       "[[-10, 0], [0, 0]]"
      ]
     },
     "execution_count": 43,
     "metadata": {},
     "output_type": "execute_result"
    }
   ],
   "source": [
    "line1"
   ]
  },
  {
   "cell_type": "code",
   "execution_count": 44,
   "id": "342ce036-d1d0-43e8-bf1e-5f34c8c7d8e3",
   "metadata": {},
   "outputs": [
    {
     "data": {
      "text/plain": [
       "[[100, 0], [0, 0]]"
      ]
     },
     "execution_count": 44,
     "metadata": {},
     "output_type": "execute_result"
    }
   ],
   "source": [
    "line2"
   ]
  },
  {
   "cell_type": "code",
   "execution_count": 60,
   "id": "9e20b6bb-b3ed-4779-a98c-a3aad14e0ed2",
   "metadata": {},
   "outputs": [],
   "source": [
    "v1 = [1,1]\n",
    "v2 = [2,2]\n",
    "v3 = [3,3]\n",
    "v4 = [4,4]\n",
    "\n",
    "line1 = [v1, v2]\n",
    "line2 = [v3, v4]\n",
    "\n",
    "plane1 = [line1, line2]"
   ]
  },
  {
   "cell_type": "code",
   "execution_count": 61,
   "id": "309b1921-12f9-4c84-b5e7-911787bfb5b4",
   "metadata": {},
   "outputs": [
    {
     "data": {
      "text/plain": [
       "[[[1, 1], [2, 2]], [[3, 3], [4, 4]]]"
      ]
     },
     "execution_count": 61,
     "metadata": {},
     "output_type": "execute_result"
    }
   ],
   "source": [
    "plane1"
   ]
  },
  {
   "cell_type": "code",
   "execution_count": 62,
   "id": "4ee153e4-50a8-43aa-b5d3-e7afd18c2a67",
   "metadata": {},
   "outputs": [],
   "source": [
    "plane2 = [line.copy() for line in plane1]"
   ]
  },
  {
   "cell_type": "code",
   "execution_count": 63,
   "id": "80f2ea9c-6c0a-437b-bd44-c4a3711b97e7",
   "metadata": {},
   "outputs": [
    {
     "data": {
      "text/plain": [
       "([[[1, 1], [2, 2]], [[3, 3], [4, 4]]], [[[1, 1], [2, 2]], [[3, 3], [4, 4]]])"
      ]
     },
     "execution_count": 63,
     "metadata": {},
     "output_type": "execute_result"
    }
   ],
   "source": [
    "plane1, plane2"
   ]
  },
  {
   "cell_type": "code",
   "execution_count": 64,
   "id": "cb37d238-b495-4258-8d9c-b9fec5c46dd9",
   "metadata": {},
   "outputs": [
    {
     "data": {
      "text/plain": [
       "(2229122353600, 2229108158336)"
      ]
     },
     "execution_count": 64,
     "metadata": {},
     "output_type": "execute_result"
    }
   ],
   "source": [
    "id(plane1[0]), id(plane2[0])"
   ]
  },
  {
   "cell_type": "code",
   "execution_count": 65,
   "id": "f89d130a-901f-42b0-a5ea-8d1cd04f948a",
   "metadata": {},
   "outputs": [
    {
     "name": "stdout",
     "output_type": "stream",
     "text": [
      "[[1, 1], [2, 2]]\n",
      "[[1, 1], [2, 2]]\n"
     ]
    }
   ],
   "source": [
    "print(plane1[0])\n",
    "print(plane2[0])"
   ]
  },
  {
   "cell_type": "code",
   "execution_count": 67,
   "id": "2705d4cc-78b9-4f67-880d-3d275f521703",
   "metadata": {},
   "outputs": [
    {
     "data": {
      "text/plain": [
       "(2229122352960, 2229122352960)"
      ]
     },
     "execution_count": 67,
     "metadata": {},
     "output_type": "execute_result"
    }
   ],
   "source": [
    "id(plane1[0][0]), id(plane2[0][0])"
   ]
  },
  {
   "cell_type": "code",
   "execution_count": 69,
   "id": "a6cc2a43-1847-40d3-98ce-6fe15c35b5df",
   "metadata": {},
   "outputs": [],
   "source": [
    "plane1[0][0][0] = 100"
   ]
  },
  {
   "cell_type": "code",
   "execution_count": 70,
   "id": "ff8a7b39-3ff8-427e-8c11-a06ce320d6bf",
   "metadata": {},
   "outputs": [
    {
     "data": {
      "text/plain": [
       "([[[100, 1], [2, 2]], [[3, 3], [4, 4]]],\n",
       " [[[100, 1], [2, 2]], [[3, 3], [4, 4]]])"
      ]
     },
     "execution_count": 70,
     "metadata": {},
     "output_type": "execute_result"
    }
   ],
   "source": [
    "plane1, plane2"
   ]
  },
  {
   "cell_type": "code",
   "execution_count": 71,
   "id": "7d71be2f-abb1-48c5-a6ce-1a49fbe7e54d",
   "metadata": {},
   "outputs": [],
   "source": [
    "v1 = [1,1]\n",
    "v2 = [2,2]\n",
    "v3 = [3,3]\n",
    "v4 = [4,4]\n",
    "\n",
    "line1 = [v1, v2]\n",
    "line2 = [v3, v4]\n",
    "\n",
    "plane1 = [line1, line2]"
   ]
  },
  {
   "cell_type": "code",
   "execution_count": 72,
   "id": "60d6936f-f27e-4413-b909-159c4527f0ae",
   "metadata": {},
   "outputs": [],
   "source": [
    "plane2 = copy.deepcopy(plane1)"
   ]
  },
  {
   "cell_type": "code",
   "execution_count": 73,
   "id": "b487e337-53ae-4f1a-9886-6186d6085e2f",
   "metadata": {},
   "outputs": [
    {
     "data": {
      "text/plain": [
       "(2229122358080, 2229107937408)"
      ]
     },
     "execution_count": 73,
     "metadata": {},
     "output_type": "execute_result"
    }
   ],
   "source": [
    "id(plane1), id(plane2)"
   ]
  },
  {
   "cell_type": "code",
   "execution_count": 74,
   "id": "57576669-9d07-4499-835e-9a2e02a536f8",
   "metadata": {},
   "outputs": [
    {
     "data": {
      "text/plain": [
       "(2229122317056, 2229122353856)"
      ]
     },
     "execution_count": 74,
     "metadata": {},
     "output_type": "execute_result"
    }
   ],
   "source": [
    "id(plane1[0]), id(plane2[0])"
   ]
  },
  {
   "cell_type": "code",
   "execution_count": 75,
   "id": "ea1b13c4-ccca-4cab-ba47-68226c294c2b",
   "metadata": {},
   "outputs": [
    {
     "data": {
      "text/plain": [
       "(2229108178752, 2229113737536)"
      ]
     },
     "execution_count": 75,
     "metadata": {},
     "output_type": "execute_result"
    }
   ],
   "source": [
    "id(plane1[0][0]), id(plane2[0][0])"
   ]
  },
  {
   "cell_type": "code",
   "execution_count": 76,
   "id": "80bdfa13-d039-4e77-9ba0-1eec99dc7512",
   "metadata": {},
   "outputs": [],
   "source": [
    "plane1[0][0][0] = 100"
   ]
  },
  {
   "cell_type": "code",
   "execution_count": 77,
   "id": "72a1ab28-309a-496d-8a73-207e7a68a69e",
   "metadata": {},
   "outputs": [
    {
     "data": {
      "text/plain": [
       "([[[100, 1], [2, 2]], [[3, 3], [4, 4]]], [[[1, 1], [2, 2]], [[3, 3], [4, 4]]])"
      ]
     },
     "execution_count": 77,
     "metadata": {},
     "output_type": "execute_result"
    }
   ],
   "source": [
    "plane1, plane2"
   ]
  },
  {
   "cell_type": "code",
   "execution_count": 78,
   "id": "09622e62-b5a3-475f-b981-fc83a7bb9645",
   "metadata": {},
   "outputs": [],
   "source": [
    "class Point:\n",
    "    def __init__(self, x, y):\n",
    "        self.x = x\n",
    "        self.y = y\n",
    "\n",
    "    def __repr__(self):\n",
    "        return f'Point({self.x}, {self.y})'"
   ]
  },
  {
   "cell_type": "code",
   "execution_count": 79,
   "id": "0eeaa63a-77cb-46d4-8dd3-f2775bb73821",
   "metadata": {},
   "outputs": [],
   "source": [
    "class Line:\n",
    "    def __init__(self, p1, p2):\n",
    "        self.p1 = p1\n",
    "        self.p2 = p2\n",
    "\n",
    "    def __repr__(self):\n",
    "        return f'Line({self.p1.__repr__()}, {self.p2.__repr__()})'"
   ]
  },
  {
   "cell_type": "code",
   "execution_count": 80,
   "id": "aa06b326-3141-446a-8207-4ff6480264c7",
   "metadata": {},
   "outputs": [],
   "source": [
    "p1 = Point(0,0)\n",
    "p2 = Point(10, 10)\n",
    "line1 = Line(p1, p2)\n",
    "line2 = copy.deepcopy(line1)"
   ]
  },
  {
   "cell_type": "code",
   "execution_count": 82,
   "id": "449499f0-9d39-4a12-a32a-94c03afa7e27",
   "metadata": {},
   "outputs": [
    {
     "name": "stdout",
     "output_type": "stream",
     "text": [
      "Point(0, 0) 2229110749376\n",
      "Point(0, 0) 2229110737616\n"
     ]
    }
   ],
   "source": [
    "print(line1.p1, id(line1.p1))\n",
    "print(line2.p1, id(line2.p1))"
   ]
  },
  {
   "cell_type": "code",
   "execution_count": 83,
   "id": "27f567e5-d68c-4f1c-bc26-75a538c028c3",
   "metadata": {},
   "outputs": [],
   "source": [
    "p1 = Point(0,0)\n",
    "p2 = Point(10, 10)\n",
    "line1 = Line(p1, p2)\n",
    "line2 = copy.copy(line1)"
   ]
  },
  {
   "cell_type": "code",
   "execution_count": 84,
   "id": "0e9ade31-68c7-4244-975c-3a50aba06bb8",
   "metadata": {},
   "outputs": [
    {
     "name": "stdout",
     "output_type": "stream",
     "text": [
      "Point(0, 0) 2229110739296\n",
      "Point(0, 0) 2229110739296\n"
     ]
    }
   ],
   "source": [
    "print(line1.p1, id(line1.p1))\n",
    "print(line2.p1, id(line2.p1))"
   ]
  },
  {
   "cell_type": "code",
   "execution_count": null,
   "id": "c24c59e1-adaf-4ddd-a348-990bceeb1d13",
   "metadata": {},
   "outputs": [],
   "source": []
  }
 ],
 "metadata": {
  "kernelspec": {
   "display_name": "Python 3 (ipykernel)",
   "language": "python",
   "name": "python3"
  },
  "language_info": {
   "codemirror_mode": {
    "name": "ipython",
    "version": 3
   },
   "file_extension": ".py",
   "mimetype": "text/x-python",
   "name": "python",
   "nbconvert_exporter": "python",
   "pygments_lexer": "ipython3",
   "version": "3.12.7"
  }
 },
 "nbformat": 4,
 "nbformat_minor": 5
}
