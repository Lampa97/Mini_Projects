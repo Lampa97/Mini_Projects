{
 "cells": [
  {
   "cell_type": "code",
   "execution_count": 1,
   "id": "15a85b6b-01ec-4bcc-a8ff-eae2f3f3e897",
   "metadata": {},
   "outputs": [],
   "source": [
    "def matrix(n):\n",
    "    gen = ((i *j for j in range(1, n+1))\n",
    "            for i in range(1, n+1)\n",
    "    )\n",
    "    return gen"
   ]
  },
  {
   "cell_type": "code",
   "execution_count": 2,
   "id": "5e55e3fd-1971-4823-8ae8-510a10fcc559",
   "metadata": {},
   "outputs": [],
   "source": [
    "m = list(matrix(5))"
   ]
  },
  {
   "cell_type": "code",
   "execution_count": 3,
   "id": "50dd6559-b68f-4801-b358-f62ff5783f54",
   "metadata": {},
   "outputs": [
    {
     "data": {
      "text/plain": [
       "[<generator object matrix.<locals>.<genexpr>.<genexpr> at 0x000002202320B370>,\n",
       " <generator object matrix.<locals>.<genexpr>.<genexpr> at 0x000002202320BAC0>,\n",
       " <generator object matrix.<locals>.<genexpr>.<genexpr> at 0x000002202320B6B0>,\n",
       " <generator object matrix.<locals>.<genexpr>.<genexpr> at 0x00000220232A4040>,\n",
       " <generator object matrix.<locals>.<genexpr>.<genexpr> at 0x00000220232A4110>]"
      ]
     },
     "execution_count": 3,
     "metadata": {},
     "output_type": "execute_result"
    }
   ],
   "source": [
    "m"
   ]
  },
  {
   "cell_type": "code",
   "execution_count": 4,
   "id": "27b403dc-1ede-4650-867b-abb3cade9e31",
   "metadata": {},
   "outputs": [],
   "source": [
    "def matrix_iterator(n):\n",
    "    for row in matrix(n):\n",
    "        for item in row:\n",
    "            yield item"
   ]
  },
  {
   "cell_type": "code",
   "execution_count": 5,
   "id": "d6d00ec6-84f2-4a6b-83e6-5f1f2d1fd377",
   "metadata": {},
   "outputs": [
    {
     "name": "stdout",
     "output_type": "stream",
     "text": [
      "1\n",
      "2\n",
      "3\n",
      "2\n",
      "4\n",
      "6\n",
      "3\n",
      "6\n",
      "9\n"
     ]
    }
   ],
   "source": [
    "for item in matrix_iterator(3):\n",
    "    print(item)"
   ]
  },
  {
   "cell_type": "code",
   "execution_count": 6,
   "id": "7583e470-f15a-4feb-bf38-6dc6894bd650",
   "metadata": {},
   "outputs": [],
   "source": [
    "def matrix_iterator(n):\n",
    "    for row in matrix(n):\n",
    "        yield from row"
   ]
  },
  {
   "cell_type": "code",
   "execution_count": 7,
   "id": "9accada7-30bb-4cd6-9a77-0d6ec6588897",
   "metadata": {},
   "outputs": [
    {
     "name": "stdout",
     "output_type": "stream",
     "text": [
      "1\n",
      "2\n",
      "3\n",
      "2\n",
      "4\n",
      "6\n",
      "3\n",
      "6\n",
      "9\n"
     ]
    }
   ],
   "source": [
    "for item in matrix_iterator(3):\n",
    "    print(item)"
   ]
  },
  {
   "cell_type": "code",
   "execution_count": 9,
   "id": "1a226b46-8f5f-4bf7-9217-bee309070028",
   "metadata": {},
   "outputs": [],
   "source": [
    "file_1 = 'car-brands-1.txt'\n",
    "file_2 = 'car-brands-2.txt'\n",
    "file_3 = 'car-brands-3.txt'\n",
    "files = file_1, file_2, file_3"
   ]
  },
  {
   "cell_type": "code",
   "execution_count": 11,
   "id": "ebe57b07-c683-4fa1-ad9c-f7a22e1212b6",
   "metadata": {},
   "outputs": [],
   "source": [
    "brands = []\n",
    "\n",
    "with open(file_1) as f:\n",
    "    for brand in f:\n",
    "        brands.append(brand.strip('\\n'))\n",
    "\n",
    "with open(file_2) as f:\n",
    "    for brand in f:\n",
    "        brands.append(brand.strip('\\n'))\n",
    "\n",
    "with open(file_3) as f:\n",
    "    for brand in f:\n",
    "        brands.append(brand.strip('\\n'))"
   ]
  },
  {
   "cell_type": "code",
   "execution_count": 12,
   "id": "c5702660-0bbf-45a4-94cb-74816a60f5de",
   "metadata": {},
   "outputs": [
    {
     "data": {
      "text/plain": [
       "['Alfa Romeo',\n",
       " 'Aston Martin',\n",
       " 'Audi',\n",
       " 'Bentley',\n",
       " 'Benz',\n",
       " 'BMW',\n",
       " 'Bugatti',\n",
       " 'Cadillac',\n",
       " 'Chevrolet',\n",
       " 'Chrysler',\n",
       " 'Citroën',\n",
       " 'Corvette',\n",
       " 'DAF',\n",
       " 'Dacia',\n",
       " 'Daewoo',\n",
       " 'Daihatsu',\n",
       " 'Datsun',\n",
       " 'De Lorean',\n",
       " 'Dino',\n",
       " 'Dodge',\n",
       " 'Farboud',\n",
       " 'Ferrari',\n",
       " 'Fiat',\n",
       " 'Ford',\n",
       " 'Honda',\n",
       " 'Hummer',\n",
       " 'Hyundai',\n",
       " 'Jaguar',\n",
       " 'Jeep',\n",
       " 'KIA',\n",
       " 'Koenigsegg',\n",
       " 'Lada',\n",
       " 'Lamborghini',\n",
       " 'Lancia',\n",
       " 'Land Rover',\n",
       " 'Lexus',\n",
       " 'Ligier',\n",
       " 'Lincoln',\n",
       " 'Lotus',\n",
       " 'Martini',\n",
       " 'Maserati',\n",
       " 'Maybach',\n",
       " 'Mazda',\n",
       " 'McLaren',\n",
       " 'Mercedes-Benz',\n",
       " 'Mini',\n",
       " 'Mitsubishi',\n",
       " 'Nissan',\n",
       " 'Noble',\n",
       " 'Opel',\n",
       " 'Peugeot',\n",
       " 'Pontiac',\n",
       " 'Porsche',\n",
       " 'Renault',\n",
       " 'Rolls-Royce',\n",
       " 'Saab',\n",
       " 'Seat',\n",
       " 'Å\\xa0koda',\n",
       " 'Smart',\n",
       " 'Spyker',\n",
       " 'Subaru',\n",
       " 'Suzuki',\n",
       " 'Toyota',\n",
       " 'Vauxhall',\n",
       " 'Volkswagen',\n",
       " 'Volvo']"
      ]
     },
     "execution_count": 12,
     "metadata": {},
     "output_type": "execute_result"
    }
   ],
   "source": [
    "brands"
   ]
  },
  {
   "cell_type": "code",
   "execution_count": 13,
   "id": "95726896-eabb-4d6b-995f-6f292ffc9f25",
   "metadata": {},
   "outputs": [],
   "source": [
    "def brands(*files):\n",
    "    for f_name in files:\n",
    "        with open(f_name) as f:\n",
    "            for line in f:\n",
    "                yield line.strip('\\n')"
   ]
  },
  {
   "cell_type": "code",
   "execution_count": 14,
   "id": "e9998c0b-5ec9-4cbc-9726-38457f274980",
   "metadata": {},
   "outputs": [
    {
     "name": "stdout",
     "output_type": "stream",
     "text": [
      "Alfa Romeo\n",
      "Aston Martin\n",
      "Audi\n",
      "Bentley\n",
      "Benz\n",
      "BMW\n",
      "Bugatti\n",
      "Cadillac\n",
      "Chevrolet\n",
      "Chrysler\n",
      "Citroën\n",
      "Corvette\n",
      "DAF\n",
      "Dacia\n",
      "Daewoo\n",
      "Daihatsu\n",
      "Datsun\n",
      "De Lorean\n",
      "Dino\n",
      "Dodge\n",
      "Farboud\n",
      "Ferrari\n",
      "Fiat\n",
      "Ford\n",
      "Honda\n",
      "Hummer\n",
      "Hyundai\n",
      "Jaguar\n",
      "Jeep\n",
      "KIA\n",
      "Koenigsegg\n",
      "Lada\n",
      "Lamborghini\n",
      "Lancia\n",
      "Land Rover\n",
      "Lexus\n",
      "Ligier\n",
      "Lincoln\n",
      "Lotus\n",
      "Martini\n",
      "Maserati\n",
      "Maybach\n",
      "Mazda\n",
      "McLaren\n",
      "Mercedes-Benz\n",
      "Mini\n",
      "Mitsubishi\n",
      "Nissan\n",
      "Noble\n",
      "Opel\n",
      "Peugeot\n",
      "Pontiac\n",
      "Porsche\n",
      "Renault\n",
      "Rolls-Royce\n",
      "Saab\n",
      "Seat\n",
      "Å koda\n",
      "Smart\n",
      "Spyker\n",
      "Subaru\n",
      "Suzuki\n",
      "Toyota\n",
      "Vauxhall\n",
      "Volkswagen\n",
      "Volvo\n"
     ]
    }
   ],
   "source": [
    "for brand in brands(*files):\n",
    "    print(brand)"
   ]
  },
  {
   "cell_type": "code",
   "execution_count": 15,
   "id": "280577c2-5b9b-4be9-8e8a-d9d4fdb043f6",
   "metadata": {},
   "outputs": [],
   "source": [
    "def gen_clean_data(file):\n",
    "    with open(file) as f:\n",
    "        for row in f:\n",
    "            yield row.strip('\\n')"
   ]
  },
  {
   "cell_type": "code",
   "execution_count": 18,
   "id": "62d76ddd-77ec-46e2-ab15-5adba39f5a56",
   "metadata": {},
   "outputs": [],
   "source": [
    "def brands(*files):\n",
    "    for f_name in files:\n",
    "        yield from gen_clean_data(f_name)"
   ]
  },
  {
   "cell_type": "code",
   "execution_count": 19,
   "id": "99b3fe62-bfab-477f-b994-d6dacaa17508",
   "metadata": {},
   "outputs": [
    {
     "data": {
      "text/plain": [
       "['Alfa Romeo',\n",
       " 'Aston Martin',\n",
       " 'Audi',\n",
       " 'Bentley',\n",
       " 'Benz',\n",
       " 'BMW',\n",
       " 'Bugatti',\n",
       " 'Cadillac',\n",
       " 'Chevrolet',\n",
       " 'Chrysler',\n",
       " 'Citroën',\n",
       " 'Corvette',\n",
       " 'DAF',\n",
       " 'Dacia',\n",
       " 'Daewoo',\n",
       " 'Daihatsu',\n",
       " 'Datsun',\n",
       " 'De Lorean',\n",
       " 'Dino',\n",
       " 'Dodge',\n",
       " 'Farboud',\n",
       " 'Ferrari',\n",
       " 'Fiat',\n",
       " 'Ford',\n",
       " 'Honda',\n",
       " 'Hummer',\n",
       " 'Hyundai',\n",
       " 'Jaguar',\n",
       " 'Jeep',\n",
       " 'KIA',\n",
       " 'Koenigsegg',\n",
       " 'Lada',\n",
       " 'Lamborghini',\n",
       " 'Lancia',\n",
       " 'Land Rover',\n",
       " 'Lexus',\n",
       " 'Ligier',\n",
       " 'Lincoln',\n",
       " 'Lotus',\n",
       " 'Martini',\n",
       " 'Maserati',\n",
       " 'Maybach',\n",
       " 'Mazda',\n",
       " 'McLaren',\n",
       " 'Mercedes-Benz',\n",
       " 'Mini',\n",
       " 'Mitsubishi',\n",
       " 'Nissan',\n",
       " 'Noble',\n",
       " 'Opel',\n",
       " 'Peugeot',\n",
       " 'Pontiac',\n",
       " 'Porsche',\n",
       " 'Renault',\n",
       " 'Rolls-Royce',\n",
       " 'Saab',\n",
       " 'Seat',\n",
       " 'Å\\xa0koda',\n",
       " 'Smart',\n",
       " 'Spyker',\n",
       " 'Subaru',\n",
       " 'Suzuki',\n",
       " 'Toyota',\n",
       " 'Vauxhall',\n",
       " 'Volkswagen',\n",
       " 'Volvo']"
      ]
     },
     "execution_count": 19,
     "metadata": {},
     "output_type": "execute_result"
    }
   ],
   "source": [
    "list(brands(*files))"
   ]
  },
  {
   "cell_type": "code",
   "execution_count": null,
   "id": "cc4af2d2-ac4a-4e4d-a290-a227485f87da",
   "metadata": {},
   "outputs": [],
   "source": []
  }
 ],
 "metadata": {
  "kernelspec": {
   "display_name": "Python 3 (ipykernel)",
   "language": "python",
   "name": "python3"
  },
  "language_info": {
   "codemirror_mode": {
    "name": "ipython",
    "version": 3
   },
   "file_extension": ".py",
   "mimetype": "text/x-python",
   "name": "python",
   "nbconvert_exporter": "python",
   "pygments_lexer": "ipython3",
   "version": "3.12.7"
  }
 },
 "nbformat": 4,
 "nbformat_minor": 5
}
