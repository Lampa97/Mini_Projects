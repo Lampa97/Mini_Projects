{
 "cells": [
  {
   "cell_type": "code",
   "execution_count": 1,
   "id": "2f123f15-8810-46c0-85dd-8f81d7ff02e9",
   "metadata": {},
   "outputs": [],
   "source": [
    "l = [1,2,3,4,5]"
   ]
  },
  {
   "cell_type": "code",
   "execution_count": 2,
   "id": "db36fc05-44ce-4766-8849-5212c7f12d2f",
   "metadata": {},
   "outputs": [
    {
     "data": {
      "text/plain": [
       "[1, 2]"
      ]
     },
     "execution_count": 2,
     "metadata": {},
     "output_type": "execute_result"
    }
   ],
   "source": [
    "l[0:2]"
   ]
  },
  {
   "cell_type": "code",
   "execution_count": 3,
   "id": "fd98095f-0f5e-475c-be15-29bf3b79d6a1",
   "metadata": {},
   "outputs": [],
   "source": [
    "s = slice(0,2)"
   ]
  },
  {
   "cell_type": "code",
   "execution_count": 4,
   "id": "6a305b62-5680-4df6-8e72-f2ede013c60e",
   "metadata": {},
   "outputs": [
    {
     "data": {
      "text/plain": [
       "[1, 2]"
      ]
     },
     "execution_count": 4,
     "metadata": {},
     "output_type": "execute_result"
    }
   ],
   "source": [
    "l[s]"
   ]
  },
  {
   "cell_type": "code",
   "execution_count": 5,
   "id": "28d0a659-df7b-45b4-bc51-185da45b1d38",
   "metadata": {},
   "outputs": [],
   "source": [
    "import math"
   ]
  },
  {
   "cell_type": "code",
   "execution_count": 6,
   "id": "afa39048-5b51-4f86-b9b1-a0e80384a208",
   "metadata": {},
   "outputs": [],
   "source": [
    "def factorials(n):\n",
    "    for i in range(n):\n",
    "        yield math.factorial(i)"
   ]
  },
  {
   "cell_type": "code",
   "execution_count": 7,
   "id": "eb5f27c0-30e8-46eb-a057-9d97fca434ec",
   "metadata": {},
   "outputs": [],
   "source": [
    "facts = factorials(100)"
   ]
  },
  {
   "cell_type": "code",
   "execution_count": 8,
   "id": "c5c9b996-edec-402a-8088-333b8ba93dfa",
   "metadata": {},
   "outputs": [
    {
     "ename": "TypeError",
     "evalue": "'generator' object is not subscriptable",
     "output_type": "error",
     "traceback": [
      "\u001b[1;31m---------------------------------------------------------------------------\u001b[0m",
      "\u001b[1;31mTypeError\u001b[0m                                 Traceback (most recent call last)",
      "Cell \u001b[1;32mIn[8], line 1\u001b[0m\n\u001b[1;32m----> 1\u001b[0m facts[\u001b[38;5;241m0\u001b[39m:\u001b[38;5;241m2\u001b[39m]\n",
      "\u001b[1;31mTypeError\u001b[0m: 'generator' object is not subscriptable"
     ]
    }
   ],
   "source": [
    "facts[0:2]"
   ]
  },
  {
   "cell_type": "code",
   "execution_count": 9,
   "id": "a9a3a3ce-f684-4d5e-8426-4f16468a25ea",
   "metadata": {},
   "outputs": [],
   "source": [
    "def slice_(iterable, start, stop):\n",
    "    for _ in range(0, start):\n",
    "        next(iterable)\n",
    "    for _ in range(start, stop):\n",
    "        yield next(iterable)"
   ]
  },
  {
   "cell_type": "code",
   "execution_count": 11,
   "id": "c2420732-7e71-42e6-930c-640b10c2f6c2",
   "metadata": {},
   "outputs": [
    {
     "data": {
      "text/plain": [
       "[1, 1, 2, 6, 24, 120, 720, 5040, 40320, 362880]"
      ]
     },
     "execution_count": 11,
     "metadata": {},
     "output_type": "execute_result"
    }
   ],
   "source": [
    "list(slice_(factorials(100), 0, 10))"
   ]
  },
  {
   "cell_type": "code",
   "execution_count": 12,
   "id": "441d8f18-546c-4ab2-adee-dc63e347984b",
   "metadata": {},
   "outputs": [
    {
     "data": {
      "text/plain": [
       "[6, 24, 120, 720, 5040, 40320, 362880]"
      ]
     },
     "execution_count": 12,
     "metadata": {},
     "output_type": "execute_result"
    }
   ],
   "source": [
    "list(slice_(factorials(100), 3, 10))"
   ]
  },
  {
   "cell_type": "code",
   "execution_count": 13,
   "id": "e5ce2908-7b9a-42b7-80f4-b45472b88338",
   "metadata": {},
   "outputs": [],
   "source": [
    "from itertools import islice"
   ]
  },
  {
   "cell_type": "code",
   "execution_count": 14,
   "id": "5557c1f5-fa65-404c-b4c8-91e11240c236",
   "metadata": {},
   "outputs": [
    {
     "data": {
      "text/plain": [
       "[6, 24, 120, 720, 5040, 40320, 362880]"
      ]
     },
     "execution_count": 14,
     "metadata": {},
     "output_type": "execute_result"
    }
   ],
   "source": [
    "list(islice(factorials(100), 3, 10))"
   ]
  },
  {
   "cell_type": "code",
   "execution_count": 15,
   "id": "d4d2722c-375f-4639-962a-5c4c6c1d910e",
   "metadata": {},
   "outputs": [
    {
     "name": "stdout",
     "output_type": "stream",
     "text": [
      "Help on class islice in module itertools:\n",
      "\n",
      "class islice(builtins.object)\n",
      " |  islice(iterable, stop) --> islice object\n",
      " |  islice(iterable, start, stop[, step]) --> islice object\n",
      " |\n",
      " |  Return an iterator whose next() method returns selected values from an\n",
      " |  iterable.  If start is specified, will skip all preceding elements;\n",
      " |  otherwise, start defaults to zero.  Step defaults to one.  If\n",
      " |  specified as another value, step determines how many values are\n",
      " |  skipped between successive calls.  Works like a slice() on a list\n",
      " |  but returns an iterator.\n",
      " |\n",
      " |  Methods defined here:\n",
      " |\n",
      " |  __getattribute__(self, name, /)\n",
      " |      Return getattr(self, name).\n",
      " |\n",
      " |  __iter__(self, /)\n",
      " |      Implement iter(self).\n",
      " |\n",
      " |  __next__(self, /)\n",
      " |      Implement next(self).\n",
      " |\n",
      " |  __reduce__(...)\n",
      " |      Return state information for pickling.\n",
      " |\n",
      " |  __setstate__(...)\n",
      " |      Set state information for unpickling.\n",
      " |\n",
      " |  ----------------------------------------------------------------------\n",
      " |  Static methods defined here:\n",
      " |\n",
      " |  __new__(*args, **kwargs)\n",
      " |      Create and return a new object.  See help(type) for accurate signature.\n",
      "\n"
     ]
    }
   ],
   "source": [
    "help(islice)"
   ]
  },
  {
   "cell_type": "code",
   "execution_count": 16,
   "id": "d7f7b295-8df7-4062-908e-4fc4c6fa3831",
   "metadata": {},
   "outputs": [
    {
     "data": {
      "text/plain": [
       "[1, 1, 2, 6, 24]"
      ]
     },
     "execution_count": 16,
     "metadata": {},
     "output_type": "execute_result"
    }
   ],
   "source": [
    "list(islice(factorials(100), 5))"
   ]
  },
  {
   "cell_type": "code",
   "execution_count": 17,
   "id": "548f49be-3539-4a71-a1e1-6dc911ebed90",
   "metadata": {},
   "outputs": [
    {
     "data": {
      "text/plain": [
       "[6, 120, 5040, 362880]"
      ]
     },
     "execution_count": 17,
     "metadata": {},
     "output_type": "execute_result"
    }
   ],
   "source": [
    "list(islice(factorials(100), 3, 10, 2))"
   ]
  },
  {
   "cell_type": "code",
   "execution_count": 20,
   "id": "476ae2fe-33f0-438d-9ba5-4bbe8f960bc6",
   "metadata": {},
   "outputs": [],
   "source": [
    "def factorials():\n",
    "    index = 0\n",
    "    while True:\n",
    "        print(f'yielding factorial({index})...')\n",
    "        yield math.factorial(index)\n",
    "        index += 1"
   ]
  },
  {
   "cell_type": "code",
   "execution_count": 21,
   "id": "fbcfc56e-1f10-49d0-b079-e90cdd0f01d2",
   "metadata": {},
   "outputs": [
    {
     "name": "stdout",
     "output_type": "stream",
     "text": [
      "yielding factorial(0)...\n",
      "1\n",
      "yielding factorial(1)...\n",
      "1\n",
      "yielding factorial(2)...\n",
      "2\n",
      "yielding factorial(3)...\n",
      "6\n",
      "yielding factorial(4)...\n",
      "24\n"
     ]
    }
   ],
   "source": [
    "facts = factorials()\n",
    "for _ in range(0, 5):\n",
    "    print(next(facts))"
   ]
  },
  {
   "cell_type": "code",
   "execution_count": 22,
   "id": "c6ad2898-e927-4d10-9ddf-674518df5610",
   "metadata": {},
   "outputs": [
    {
     "data": {
      "text/plain": [
       "<itertools.islice at 0x206c65153f0>"
      ]
     },
     "execution_count": 22,
     "metadata": {},
     "output_type": "execute_result"
    }
   ],
   "source": [
    "islice(factorials(), 3, 10)"
   ]
  },
  {
   "cell_type": "code",
   "execution_count": 23,
   "id": "e8e276ed-0fbf-4442-a4f0-808f94dd12f1",
   "metadata": {},
   "outputs": [
    {
     "name": "stdout",
     "output_type": "stream",
     "text": [
      "yielding factorial(0)...\n",
      "yielding factorial(1)...\n",
      "yielding factorial(2)...\n",
      "yielding factorial(3)...\n",
      "yielding factorial(4)...\n",
      "yielding factorial(5)...\n",
      "yielding factorial(6)...\n",
      "yielding factorial(7)...\n",
      "yielding factorial(8)...\n",
      "yielding factorial(9)...\n"
     ]
    },
    {
     "data": {
      "text/plain": [
       "[6, 24, 120, 720, 5040, 40320, 362880]"
      ]
     },
     "execution_count": 23,
     "metadata": {},
     "output_type": "execute_result"
    }
   ],
   "source": [
    "list(islice(factorials(), 3, 10))"
   ]
  },
  {
   "cell_type": "code",
   "execution_count": 24,
   "id": "dc5b19c6-f3ff-4237-8bf4-815eab1bbc6b",
   "metadata": {},
   "outputs": [
    {
     "name": "stdout",
     "output_type": "stream",
     "text": [
      "yielding factorial(0)...\n",
      "yielding factorial(1)...\n",
      "yielding factorial(2)...\n",
      "yielding factorial(3)...\n",
      "yielding factorial(4)...\n",
      "yielding factorial(5)...\n",
      "yielding factorial(6)...\n",
      "yielding factorial(7)...\n",
      "yielding factorial(8)...\n",
      "yielding factorial(9)...\n"
     ]
    },
    {
     "data": {
      "text/plain": [
       "[6, 120, 5040, 362880]"
      ]
     },
     "execution_count": 24,
     "metadata": {},
     "output_type": "execute_result"
    }
   ],
   "source": [
    "list(islice(factorials(), 3, 10, 2))"
   ]
  },
  {
   "cell_type": "code",
   "execution_count": 25,
   "id": "3dda6daf-ad7d-4058-8510-f35ebe129987",
   "metadata": {},
   "outputs": [
    {
     "name": "stdout",
     "output_type": "stream",
     "text": [
      "yielding factorial(0)...\n",
      "yielding factorial(1)...\n",
      "yielding factorial(2)...\n",
      "yielding factorial(3)...\n",
      "yielding factorial(4)...\n",
      "yielding factorial(5)...\n",
      "yielding factorial(6)...\n",
      "yielding factorial(7)...\n",
      "yielding factorial(8)...\n",
      "yielding factorial(9)...\n"
     ]
    },
    {
     "data": {
      "text/plain": [
       "[6, 120, 5040, 362880]"
      ]
     },
     "execution_count": 25,
     "metadata": {},
     "output_type": "execute_result"
    }
   ],
   "source": [
    "sl = islice(factorials(), 3, 10, 2)\n",
    "list(sl)"
   ]
  },
  {
   "cell_type": "code",
   "execution_count": 26,
   "id": "7b01d0ff-406b-4cd9-9cc8-768d0a184416",
   "metadata": {},
   "outputs": [
    {
     "data": {
      "text/plain": [
       "[]"
      ]
     },
     "execution_count": 26,
     "metadata": {},
     "output_type": "execute_result"
    }
   ],
   "source": [
    "list(sl)"
   ]
  },
  {
   "cell_type": "code",
   "execution_count": 27,
   "id": "414fc163-9a8a-41b6-91ab-ebfb527a22a6",
   "metadata": {},
   "outputs": [],
   "source": [
    "facts = factorials()"
   ]
  },
  {
   "cell_type": "code",
   "execution_count": 28,
   "id": "3c4690ea-24e9-432e-8648-8cf2d34a8a48",
   "metadata": {},
   "outputs": [
    {
     "data": {
      "text/plain": [
       "<itertools.islice at 0x206c6515da0>"
      ]
     },
     "execution_count": 28,
     "metadata": {},
     "output_type": "execute_result"
    }
   ],
   "source": [
    "islice(facts, 0, 5)"
   ]
  },
  {
   "cell_type": "code",
   "execution_count": 32,
   "id": "d46eafff-5866-4c2a-b50e-611c3b3b6ab9",
   "metadata": {},
   "outputs": [
    {
     "name": "stdout",
     "output_type": "stream",
     "text": [
      "yielding factorial(3)...\n"
     ]
    },
    {
     "data": {
      "text/plain": [
       "6"
      ]
     },
     "execution_count": 32,
     "metadata": {},
     "output_type": "execute_result"
    }
   ],
   "source": [
    "next(facts)"
   ]
  },
  {
   "cell_type": "code",
   "execution_count": 33,
   "id": "aa4f8407-721b-40fc-9745-18d7628de589",
   "metadata": {},
   "outputs": [
    {
     "name": "stdout",
     "output_type": "stream",
     "text": [
      "yielding factorial(4)...\n",
      "yielding factorial(5)...\n",
      "yielding factorial(6)...\n",
      "yielding factorial(7)...\n",
      "yielding factorial(8)...\n"
     ]
    },
    {
     "data": {
      "text/plain": [
       "[24, 120, 720, 5040, 40320]"
      ]
     },
     "execution_count": 33,
     "metadata": {},
     "output_type": "execute_result"
    }
   ],
   "source": [
    "list(islice(facts, 0, 5))"
   ]
  },
  {
   "cell_type": "code",
   "execution_count": 34,
   "id": "2ce7d463-d56a-4e53-b5d6-128e0e6fb3cc",
   "metadata": {},
   "outputs": [
    {
     "name": "stdout",
     "output_type": "stream",
     "text": [
      "yielding factorial(9)...\n"
     ]
    },
    {
     "data": {
      "text/plain": [
       "362880"
      ]
     },
     "execution_count": 34,
     "metadata": {},
     "output_type": "execute_result"
    }
   ],
   "source": [
    "next(facts)"
   ]
  },
  {
   "cell_type": "code",
   "execution_count": null,
   "id": "7c996e04-7902-40ca-9eba-966bee869832",
   "metadata": {},
   "outputs": [],
   "source": []
  }
 ],
 "metadata": {
  "kernelspec": {
   "display_name": "Python 3 (ipykernel)",
   "language": "python",
   "name": "python3"
  },
  "language_info": {
   "codemirror_mode": {
    "name": "ipython",
    "version": 3
   },
   "file_extension": ".py",
   "mimetype": "text/x-python",
   "name": "python",
   "nbconvert_exporter": "python",
   "pygments_lexer": "ipython3",
   "version": "3.12.7"
  }
 },
 "nbformat": 4,
 "nbformat_minor": 5
}
