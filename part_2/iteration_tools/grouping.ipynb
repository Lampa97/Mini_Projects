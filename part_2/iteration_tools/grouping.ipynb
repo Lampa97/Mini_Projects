{
 "cells": [
  {
   "cell_type": "code",
   "execution_count": 2,
   "id": "415281d8-5e38-4895-a9d2-7f24062960d1",
   "metadata": {},
   "outputs": [
    {
     "name": "stdout",
     "output_type": "stream",
     "text": [
      "make,model\n",
      "ACURA,ILX\n",
      "ACURA,MDX\n",
      "ACURA,RDX\n",
      "ACURA,RLX\n",
      "ACURA,TL\n",
      "ACURA,TSX\n",
      "ALFA ROMEO,4C\n",
      "ALFA ROMEO,GIULIETTA\n",
      "APRILIA,CAPONORD 1200\n",
      "APRILIA,RSV4 FACTORY APRC ABS\n",
      "APRILIA,RSV4 R APRC ABS\n",
      "APRILIA,SHIVER 750\n",
      "ARCTIC CAT,1000 XT\n",
      "ARCTIC CAT,500 XT\n",
      "ARCTIC CAT,550 XT\n",
      "ARCTIC CAT,700 LTD\n",
      "ARCTIC CAT,700 SUPER DUTY DIESEL\n",
      "ARCTIC CAT,700 XT\n",
      "ARCTIC CAT,90 2X4 4-STROKE\n"
     ]
    }
   ],
   "source": [
    "import itertools\n",
    "\n",
    "with open('cars_2014.csv') as f:\n",
    "    for row in itertools.islice(f, 0, 20):\n",
    "        print(row, end='')"
   ]
  },
  {
   "cell_type": "code",
   "execution_count": 3,
   "id": "4ffc3e92-c037-4b0e-b9c0-117fad34c557",
   "metadata": {},
   "outputs": [],
   "source": [
    "from collections import defaultdict"
   ]
  },
  {
   "cell_type": "code",
   "execution_count": 7,
   "id": "28db5b50-4832-47d5-8a55-814de89fe3be",
   "metadata": {},
   "outputs": [],
   "source": [
    "makes = defaultdict(int)"
   ]
  },
  {
   "cell_type": "code",
   "execution_count": 5,
   "id": "dcbead1d-0110-4feb-9dfd-b0ae6a7f5c76",
   "metadata": {},
   "outputs": [
    {
     "data": {
      "text/plain": [
       "0"
      ]
     },
     "execution_count": 5,
     "metadata": {},
     "output_type": "execute_result"
    }
   ],
   "source": [
    "makes['sdasfsd']"
   ]
  },
  {
   "cell_type": "code",
   "execution_count": 8,
   "id": "a76fe875-28cc-47fa-acf3-7e293f9b8378",
   "metadata": {},
   "outputs": [
    {
     "name": "stdout",
     "output_type": "stream",
     "text": [
      "ACURA: 6\n",
      "ALFA ROMEO: 2\n",
      "APRILIA: 4\n",
      "ARCTIC CAT: 96\n",
      "ARGO: 4\n",
      "ASTON MARTIN: 5\n",
      "AUDI: 27\n",
      "BENTLEY: 2\n",
      "BLUE BIRD: 1\n",
      "BMW: 86\n",
      "BUGATTI: 1\n",
      "BUICK: 5\n",
      "CADILLAC: 7\n",
      "CAN-AM: 61\n",
      "CHEVROLET: 33\n",
      "CHRYSLER: 2\n",
      "DODGE: 7\n",
      "DUCATI: 4\n",
      "FERRARI: 6\n",
      "FIAT: 2\n",
      "FORD: 34\n",
      "FREIGHTLINER: 7\n",
      "GMC: 12\n",
      "HARLEY DAVIDSON: 29\n",
      "HINO: 7\n",
      "HONDA: 91\n",
      "HUSABERG: 4\n",
      "HUSQVARNA: 9\n",
      "HYUNDAI: 13\n",
      "INDIAN: 3\n",
      "INFINITI: 8\n",
      "JAGUAR: 9\n",
      "JEEP: 5\n",
      "JOHN DEERE: 19\n",
      "KAWASAKI: 59\n",
      "KENWORTH: 11\n",
      "KIA: 10\n",
      "KTM: 13\n",
      "KUBOTA: 4\n",
      "KYMCO: 28\n",
      "LAMBORGHINI: 2\n",
      "LAND ROVER: 6\n",
      "LEXUS: 14\n",
      "LINCOLN: 6\n",
      "LOTUS: 1\n",
      "MACK: 9\n",
      "MASERATI: 3\n",
      "MAZDA: 5\n",
      "MCLAREN: 2\n",
      "MERCEDES-BENZ: 60\n",
      "MINI: 3\n",
      "MITSUBISHI: 8\n",
      "NISSAN: 24\n",
      "PEUGEOT: 3\n",
      "POLARIS: 101\n",
      "PORSCHE: 4\n",
      "RAM: 6\n",
      "RENAULT: 4\n",
      "ROLLS ROYCE: 3\n",
      "SCION: 5\n",
      "SEAT: 3\n",
      "SKI-DOO: 67\n",
      "SMART: 1\n",
      "SRT: 1\n",
      "SUBARU: 10\n",
      "SUZUKI: 48\n",
      "TESLA: 2\n",
      "TOYOTA: 19\n",
      "TRIUMPH: 10\n",
      "VESPA: 4\n",
      "VICTORY: 14\n",
      "VOLKSWAGEN: 16\n",
      "VOLVO: 8\n",
      "YAMAHA: 110\n"
     ]
    }
   ],
   "source": [
    "with open('cars_2014.csv') as f:\n",
    "    next(f)\n",
    "    for row in f:\n",
    "        make, _ = row.strip('\\n').split(',')\n",
    "        makes[make] += 1\n",
    "\n",
    "for key, value in makes.items():\n",
    "    print(f'{key}: {value}')"
   ]
  },
  {
   "cell_type": "code",
   "execution_count": 18,
   "id": "7e4228b8-4e74-4109-bf3d-44c8bbf35ba2",
   "metadata": {},
   "outputs": [],
   "source": [
    "data = (1, 2, 2, 2, 3)"
   ]
  },
  {
   "cell_type": "code",
   "execution_count": 19,
   "id": "4c0089a6-a400-4b3a-b4a4-de83b6415078",
   "metadata": {},
   "outputs": [
    {
     "data": {
      "text/plain": [
       "[(1, <itertools._grouper at 0x1d21b9bd1e0>),\n",
       " (2, <itertools._grouper at 0x1d21b9be530>),\n",
       " (3, <itertools._grouper at 0x1d21b9be9e0>)]"
      ]
     },
     "execution_count": 19,
     "metadata": {},
     "output_type": "execute_result"
    }
   ],
   "source": [
    "list(itertools.groupby(data))"
   ]
  },
  {
   "cell_type": "code",
   "execution_count": 20,
   "id": "b9edd399-f146-422b-bf48-bd720e2b7eb1",
   "metadata": {},
   "outputs": [
    {
     "name": "stdout",
     "output_type": "stream",
     "text": [
      "1 [1]\n",
      "2 [2, 2, 2]\n",
      "3 [3]\n"
     ]
    }
   ],
   "source": [
    "it = itertools.groupby(data)\n",
    "for group in it:\n",
    "    print(group[0], list(group[1]))"
   ]
  },
  {
   "cell_type": "code",
   "execution_count": 21,
   "id": "d61be2ed-bb16-44fb-b42a-b24de9543a9b",
   "metadata": {},
   "outputs": [],
   "source": [
    "data = (\n",
    "    (1, 'abc'),\n",
    "    (1, 'bcd'),\n",
    "\n",
    "    (2, 'pyt'),\n",
    "    (2, 'yth'),\n",
    "    (2, 'tho'),\n",
    "\n",
    "    (3, 'hon')\n",
    ")"
   ]
  },
  {
   "cell_type": "code",
   "execution_count": 22,
   "id": "2816d10a-c47f-4bb3-bee6-ea0c45ea61e5",
   "metadata": {},
   "outputs": [
    {
     "data": {
      "text/plain": [
       "((1, 'abc'), (1, 'bcd'), (2, 'pyt'), (2, 'yth'), (2, 'tho'), (3, 'hon'))"
      ]
     },
     "execution_count": 22,
     "metadata": {},
     "output_type": "execute_result"
    }
   ],
   "source": [
    "data"
   ]
  },
  {
   "cell_type": "code",
   "execution_count": 23,
   "id": "62fe94a3-9f93-4d2a-85d5-cf94136cacfe",
   "metadata": {},
   "outputs": [],
   "source": [
    "groups = itertools.groupby(data, key=lambda x: x[0])"
   ]
  },
  {
   "cell_type": "code",
   "execution_count": 24,
   "id": "ba24b698-55e8-46ec-86d4-58f66aad78cc",
   "metadata": {},
   "outputs": [
    {
     "data": {
      "text/plain": [
       "[(1, <itertools._grouper at 0x1d21b9be710>),\n",
       " (2, <itertools._grouper at 0x1d21b9bc5b0>),\n",
       " (3, <itertools._grouper at 0x1d21b9be500>)]"
      ]
     },
     "execution_count": 24,
     "metadata": {},
     "output_type": "execute_result"
    }
   ],
   "source": [
    "list(groups)"
   ]
  },
  {
   "cell_type": "code",
   "execution_count": 25,
   "id": "dff0b428-6f6f-41f1-8727-70256d931ecd",
   "metadata": {},
   "outputs": [
    {
     "data": {
      "text/plain": [
       "[]"
      ]
     },
     "execution_count": 25,
     "metadata": {},
     "output_type": "execute_result"
    }
   ],
   "source": [
    "list(groups)"
   ]
  },
  {
   "cell_type": "code",
   "execution_count": 26,
   "id": "dc42289c-dc7a-43cc-ac80-ffad37f04c92",
   "metadata": {},
   "outputs": [
    {
     "name": "stdout",
     "output_type": "stream",
     "text": [
      "1 [(1, 'abc'), (1, 'bcd')]\n",
      "2 [(2, 'pyt'), (2, 'yth'), (2, 'tho')]\n",
      "3 [(3, 'hon')]\n"
     ]
    }
   ],
   "source": [
    "groups = itertools.groupby(data, key=lambda x: x[0])\n",
    "for group_key, sub_iter in groups:\n",
    "    print(group_key, list(sub_iter))"
   ]
  },
  {
   "cell_type": "code",
   "execution_count": 27,
   "id": "6360f2ee-ecc4-45bd-a08d-e9bd98f5af27",
   "metadata": {},
   "outputs": [],
   "source": [
    "def gen_groups():\n",
    "    for key in range(1, 4):\n",
    "        for i in range(3):\n",
    "            yield (key, i)"
   ]
  },
  {
   "cell_type": "code",
   "execution_count": 38,
   "id": "89206e36-e20b-4df0-b8c8-c9d84169b956",
   "metadata": {},
   "outputs": [],
   "source": [
    "g = gen_groups()"
   ]
  },
  {
   "cell_type": "code",
   "execution_count": 39,
   "id": "68aa3701-f5f3-4988-8dd5-253a8ee67832",
   "metadata": {},
   "outputs": [],
   "source": [
    "groups = itertools.groupby(g, key=lambda x: x[0])"
   ]
  },
  {
   "cell_type": "code",
   "execution_count": 40,
   "id": "3d785b95-7599-4fb9-b367-60827e032234",
   "metadata": {},
   "outputs": [
    {
     "name": "stdout",
     "output_type": "stream",
     "text": [
      "1 [(1, 0), (1, 1), (1, 2)]\n",
      "2 [(2, 0), (2, 1), (2, 2)]\n",
      "3 [(3, 0), (3, 1), (3, 2)]\n"
     ]
    }
   ],
   "source": [
    "for group in groups:\n",
    "    print(group[0], list(group[1]))"
   ]
  },
  {
   "cell_type": "code",
   "execution_count": 41,
   "id": "3f27d9c1-929e-4910-b1e4-17a04abfe2c4",
   "metadata": {},
   "outputs": [
    {
     "data": {
      "text/plain": [
       "[]"
      ]
     },
     "execution_count": 41,
     "metadata": {},
     "output_type": "execute_result"
    }
   ],
   "source": [
    "list(g)"
   ]
  },
  {
   "cell_type": "code",
   "execution_count": 42,
   "id": "fe01404e-e8a6-48bd-808b-8db4f2a97549",
   "metadata": {},
   "outputs": [
    {
     "data": {
      "text/plain": [
       "[]"
      ]
     },
     "execution_count": 42,
     "metadata": {},
     "output_type": "execute_result"
    }
   ],
   "source": [
    "list(groups)"
   ]
  },
  {
   "cell_type": "code",
   "execution_count": 43,
   "id": "33a6f305-a949-4ba1-87e1-72d69a0d1cd3",
   "metadata": {},
   "outputs": [],
   "source": [
    "with open('cars_2014.csv') as f:\n",
    "    next(f)\n",
    "    make_groups = itertools.groupby(f, lambda x: x.split(',')[0])"
   ]
  },
  {
   "cell_type": "code",
   "execution_count": 44,
   "id": "85dc7b63-cc66-4c4b-b0b0-a2b1fce23c78",
   "metadata": {},
   "outputs": [
    {
     "ename": "ValueError",
     "evalue": "I/O operation on closed file.",
     "output_type": "error",
     "traceback": [
      "\u001b[1;31m---------------------------------------------------------------------------\u001b[0m",
      "\u001b[1;31mValueError\u001b[0m                                Traceback (most recent call last)",
      "Cell \u001b[1;32mIn[44], line 1\u001b[0m\n\u001b[1;32m----> 1\u001b[0m \u001b[38;5;28mlist\u001b[39m(make_groups)\n",
      "\u001b[1;31mValueError\u001b[0m: I/O operation on closed file."
     ]
    }
   ],
   "source": [
    "list(make_groups)"
   ]
  },
  {
   "cell_type": "code",
   "execution_count": 46,
   "id": "ce2a79cb-1493-4d55-abbb-6ed8f9ff8423",
   "metadata": {},
   "outputs": [
    {
     "name": "stdout",
     "output_type": "stream",
     "text": [
      "[('ACURA', <itertools._grouper object at 0x000001D21B9BFA60>), ('ALFA ROMEO', <itertools._grouper object at 0x000001D21BC9C490>), ('APRILIA', <itertools._grouper object at 0x000001D21BC9F5B0>), ('ARCTIC CAT', <itertools._grouper object at 0x000001D21BC9FBE0>), ('ARGO', <itertools._grouper object at 0x000001D21BC9F4C0>)]\n"
     ]
    }
   ],
   "source": [
    "with open('cars_2014.csv') as f:\n",
    "    next(f)\n",
    "    make_groups = itertools.groupby(f, lambda x: x.split(',')[0])\n",
    "\n",
    "    print(list(itertools.islice(make_groups, 5)))"
   ]
  },
  {
   "cell_type": "code",
   "execution_count": 47,
   "id": "14c1ec37-a81b-4653-8cac-27f7a7fb9396",
   "metadata": {},
   "outputs": [
    {
     "ename": "TypeError",
     "evalue": "object of type 'itertools._grouper' has no len()",
     "output_type": "error",
     "traceback": [
      "\u001b[1;31m---------------------------------------------------------------------------\u001b[0m",
      "\u001b[1;31mTypeError\u001b[0m                                 Traceback (most recent call last)",
      "Cell \u001b[1;32mIn[47], line 5\u001b[0m\n\u001b[0;32m      3\u001b[0m make_groups \u001b[38;5;241m=\u001b[39m itertools\u001b[38;5;241m.\u001b[39mgroupby(f, \u001b[38;5;28;01mlambda\u001b[39;00m x: x\u001b[38;5;241m.\u001b[39msplit(\u001b[38;5;124m'\u001b[39m\u001b[38;5;124m,\u001b[39m\u001b[38;5;124m'\u001b[39m)[\u001b[38;5;241m0\u001b[39m])\n\u001b[0;32m      4\u001b[0m make_counts \u001b[38;5;241m=\u001b[39m ((key, \u001b[38;5;28mlen\u001b[39m(models)) \u001b[38;5;28;01mfor\u001b[39;00m key, models \u001b[38;5;129;01min\u001b[39;00m make_groups)\n\u001b[1;32m----> 5\u001b[0m \u001b[38;5;28mprint\u001b[39m(\u001b[38;5;28mlist\u001b[39m(make_counts))\n",
      "Cell \u001b[1;32mIn[47], line 4\u001b[0m, in \u001b[0;36m<genexpr>\u001b[1;34m(.0)\u001b[0m\n\u001b[0;32m      2\u001b[0m \u001b[38;5;28mnext\u001b[39m(f)\n\u001b[0;32m      3\u001b[0m make_groups \u001b[38;5;241m=\u001b[39m itertools\u001b[38;5;241m.\u001b[39mgroupby(f, \u001b[38;5;28;01mlambda\u001b[39;00m x: x\u001b[38;5;241m.\u001b[39msplit(\u001b[38;5;124m'\u001b[39m\u001b[38;5;124m,\u001b[39m\u001b[38;5;124m'\u001b[39m)[\u001b[38;5;241m0\u001b[39m])\n\u001b[1;32m----> 4\u001b[0m make_counts \u001b[38;5;241m=\u001b[39m ((key, \u001b[38;5;28mlen\u001b[39m(models)) \u001b[38;5;28;01mfor\u001b[39;00m key, models \u001b[38;5;129;01min\u001b[39;00m make_groups)\n\u001b[0;32m      5\u001b[0m \u001b[38;5;28mprint\u001b[39m(\u001b[38;5;28mlist\u001b[39m(make_counts))\n",
      "\u001b[1;31mTypeError\u001b[0m: object of type 'itertools._grouper' has no len()"
     ]
    }
   ],
   "source": [
    "with open('cars_2014.csv') as f:\n",
    "    next(f)\n",
    "    make_groups = itertools.groupby(f, lambda x: x.split(',')[0])\n",
    "    make_counts = ((key, len(models)) for key, models in make_groups)\n",
    "    print(list(make_counts))"
   ]
  },
  {
   "cell_type": "code",
   "execution_count": 48,
   "id": "9f559cbe-0cfe-4de0-ad41-6e003b3c46b9",
   "metadata": {},
   "outputs": [],
   "source": [
    "def squares(n):\n",
    "    for i in range(n):\n",
    "        yield i**2"
   ]
  },
  {
   "cell_type": "code",
   "execution_count": 50,
   "id": "c9a196c1-bead-4bbd-b905-7bf6f18e4497",
   "metadata": {},
   "outputs": [],
   "source": [
    "sq = squares(5)"
   ]
  },
  {
   "cell_type": "code",
   "execution_count": 51,
   "id": "6dd5e72d-06dd-46eb-9ee9-af83de4b40c9",
   "metadata": {},
   "outputs": [
    {
     "name": "stdout",
     "output_type": "stream",
     "text": [
      "5\n"
     ]
    }
   ],
   "source": [
    "i = 0\n",
    "for item in sq:\n",
    "    i += 1\n",
    "print(i)"
   ]
  },
  {
   "cell_type": "code",
   "execution_count": 52,
   "id": "8fa1ff54-b9e6-4d67-9308-df0e17ba96a6",
   "metadata": {},
   "outputs": [],
   "source": [
    "def len_iterable(iterable):\n",
    "    i = 0\n",
    "    for item in iterable:\n",
    "        i += 1\n",
    "    return i"
   ]
  },
  {
   "cell_type": "code",
   "execution_count": 55,
   "id": "9210fd8b-61b6-402d-bee2-223ed61c9d4e",
   "metadata": {},
   "outputs": [
    {
     "data": {
      "text/plain": [
       "8"
      ]
     },
     "execution_count": 55,
     "metadata": {},
     "output_type": "execute_result"
    }
   ],
   "source": [
    "len_iterable(squares(8))"
   ]
  },
  {
   "cell_type": "code",
   "execution_count": 56,
   "id": "e9b45d90-d192-4349-8d79-5188c60be748",
   "metadata": {},
   "outputs": [
    {
     "data": {
      "text/plain": [
       "('a', 'b', 'c')"
      ]
     },
     "execution_count": 56,
     "metadata": {},
     "output_type": "execute_result"
    }
   ],
   "source": [
    "'a', 'b', 'c'"
   ]
  },
  {
   "cell_type": "code",
   "execution_count": 57,
   "id": "0fe0288f-ce7d-4001-abbc-e4038c40f66f",
   "metadata": {},
   "outputs": [
    {
     "data": {
      "text/plain": [
       "3"
      ]
     },
     "execution_count": 57,
     "metadata": {},
     "output_type": "execute_result"
    }
   ],
   "source": [
    "sum((1,1,1))"
   ]
  },
  {
   "cell_type": "code",
   "execution_count": 59,
   "id": "95b1cdc1-63bb-4349-afbf-81ae6036c0c2",
   "metadata": {},
   "outputs": [
    {
     "data": {
      "text/plain": [
       "8"
      ]
     },
     "execution_count": 59,
     "metadata": {},
     "output_type": "execute_result"
    }
   ],
   "source": [
    "sum(1 for i in squares(8))"
   ]
  },
  {
   "cell_type": "code",
   "execution_count": 60,
   "id": "5286b6c4-8ed8-4874-b16e-1cd35a9d6d0a",
   "metadata": {},
   "outputs": [
    {
     "name": "stdout",
     "output_type": "stream",
     "text": [
      "[('ACURA', 6), ('ALFA ROMEO', 2), ('APRILIA', 4), ('ARCTIC CAT', 96), ('ARGO', 4), ('ASTON MARTIN', 5), ('AUDI', 27), ('BENTLEY', 2), ('BLUE BIRD', 1), ('BMW', 86), ('BUGATTI', 1), ('BUICK', 5), ('CADILLAC', 7), ('CAN-AM', 61), ('CHEVROLET', 33), ('CHRYSLER', 2), ('DODGE', 7), ('DUCATI', 4), ('FERRARI', 6), ('FIAT', 2), ('FORD', 34), ('FREIGHTLINER', 7), ('GMC', 12), ('HARLEY DAVIDSON', 29), ('HINO', 7), ('HONDA', 91), ('HUSABERG', 4), ('HUSQVARNA', 9), ('HYUNDAI', 13), ('INDIAN', 3), ('INFINITI', 8), ('JAGUAR', 9), ('JEEP', 5), ('JOHN DEERE', 19), ('KAWASAKI', 59), ('KENWORTH', 11), ('KIA', 10), ('KTM', 13), ('KUBOTA', 4), ('KYMCO', 28), ('LAMBORGHINI', 2), ('LAND ROVER', 6), ('LEXUS', 14), ('LINCOLN', 6), ('LOTUS', 1), ('MACK', 9), ('MASERATI', 3), ('MAZDA', 5), ('MCLAREN', 2), ('MERCEDES-BENZ', 60), ('MINI', 3), ('MITSUBISHI', 8), ('NISSAN', 24), ('PEUGEOT', 3), ('POLARIS', 101), ('PORSCHE', 4), ('RAM', 6), ('RENAULT', 4), ('ROLLS ROYCE', 3), ('SCION', 5), ('SEAT', 3), ('SKI-DOO', 67), ('SMART', 1), ('SRT', 1), ('SUBARU', 10), ('SUZUKI', 48), ('TESLA', 2), ('TOYOTA', 19), ('TRIUMPH', 10), ('VESPA', 4), ('VICTORY', 14), ('VOLKSWAGEN', 16), ('VOLVO', 8), ('YAMAHA', 110)]\n"
     ]
    }
   ],
   "source": [
    "with open('cars_2014.csv') as f:\n",
    "    next(f)\n",
    "    make_groups = itertools.groupby(f, lambda x: x.split(',')[0])\n",
    "    make_counts = ((key, sum(1 for model in models)) for key, models in make_groups)\n",
    "    print(list(make_counts))"
   ]
  },
  {
   "cell_type": "code",
   "execution_count": null,
   "id": "66061045-1495-484f-a6cf-bbfb0c0e92d5",
   "metadata": {},
   "outputs": [],
   "source": []
  }
 ],
 "metadata": {
  "kernelspec": {
   "display_name": "Python 3 (ipykernel)",
   "language": "python",
   "name": "python3"
  },
  "language_info": {
   "codemirror_mode": {
    "name": "ipython",
    "version": 3
   },
   "file_extension": ".py",
   "mimetype": "text/x-python",
   "name": "python",
   "nbconvert_exporter": "python",
   "pygments_lexer": "ipython3",
   "version": "3.12.7"
  }
 },
 "nbformat": 4,
 "nbformat_minor": 5
}
