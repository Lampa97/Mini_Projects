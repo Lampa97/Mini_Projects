{
 "cells": [
  {
   "cell_type": "code",
   "execution_count": 1,
   "id": "0907709a-c2df-47c7-92f5-6a7052a29826",
   "metadata": {},
   "outputs": [],
   "source": [
    "import itertools"
   ]
  },
  {
   "cell_type": "code",
   "execution_count": 2,
   "id": "921bc661-9dee-4d08-8760-55ced55f0bc5",
   "metadata": {},
   "outputs": [],
   "source": [
    "def matrix(n):\n",
    "    for i in range(1, n+1):\n",
    "        for j in range(1, n+1):\n",
    "            yield f'{i} x {j} = {i*j}'"
   ]
  },
  {
   "cell_type": "code",
   "execution_count": 4,
   "id": "e9ad0b57-64a4-414b-9464-576c49d2f9b1",
   "metadata": {},
   "outputs": [
    {
     "data": {
      "text/plain": [
       "['2 x 1 = 2',\n",
       " '2 x 2 = 4',\n",
       " '2 x 3 = 6',\n",
       " '2 x 4 = 8',\n",
       " '2 x 5 = 10',\n",
       " '2 x 6 = 12',\n",
       " '2 x 7 = 14',\n",
       " '2 x 8 = 16',\n",
       " '2 x 9 = 18',\n",
       " '2 x 10 = 20']"
      ]
     },
     "execution_count": 4,
     "metadata": {},
     "output_type": "execute_result"
    }
   ],
   "source": [
    "list(itertools.islice(matrix(10), 10, 20))"
   ]
  },
  {
   "cell_type": "code",
   "execution_count": 5,
   "id": "5170a8da-2b97-4429-8a7a-44f01caf6feb",
   "metadata": {},
   "outputs": [
    {
     "name": "stdout",
     "output_type": "stream",
     "text": [
      "('x1', 'y1') ('x1', 'y2') ('x1', 'y3') \n",
      "('x2', 'y1') ('x2', 'y2') ('x2', 'y3') \n",
      "('x3', 'y1') ('x3', 'y2') ('x3', 'y3') \n",
      "('x4', 'y1') ('x4', 'y2') ('x4', 'y3') \n"
     ]
    }
   ],
   "source": [
    "l1 = ['x1', 'x2', 'x3', 'x4']\n",
    "l2 = ['y1', 'y2', 'y3']\n",
    "for x in l1:\n",
    "    for y in l2:\n",
    "        print((x,y), end=' ')\n",
    "    print('')"
   ]
  },
  {
   "cell_type": "code",
   "execution_count": 6,
   "id": "7273df7a-257c-40d4-81ca-c76271ea1bbe",
   "metadata": {},
   "outputs": [
    {
     "data": {
      "text/plain": [
       "[('x1', 'y1'),\n",
       " ('x1', 'y2'),\n",
       " ('x1', 'y3'),\n",
       " ('x2', 'y1'),\n",
       " ('x2', 'y2'),\n",
       " ('x2', 'y3'),\n",
       " ('x3', 'y1'),\n",
       " ('x3', 'y2'),\n",
       " ('x3', 'y3'),\n",
       " ('x4', 'y1'),\n",
       " ('x4', 'y2'),\n",
       " ('x4', 'y3')]"
      ]
     },
     "execution_count": 6,
     "metadata": {},
     "output_type": "execute_result"
    }
   ],
   "source": [
    "list(itertools.product(l1, l2))"
   ]
  },
  {
   "cell_type": "code",
   "execution_count": 8,
   "id": "78d09767-b647-433b-8e0e-4f3ae68db565",
   "metadata": {},
   "outputs": [],
   "source": [
    "def matrix(n):\n",
    "    for i in range(1, n+1):\n",
    "        for j in range(1, n+1):\n",
    "            yield (i, j, i*j)"
   ]
  },
  {
   "cell_type": "code",
   "execution_count": 9,
   "id": "39020b3f-1bbf-4c5f-b42b-4c3863a1e914",
   "metadata": {},
   "outputs": [
    {
     "data": {
      "text/plain": [
       "[(1, 1, 1),\n",
       " (1, 2, 2),\n",
       " (1, 3, 3),\n",
       " (1, 4, 4),\n",
       " (1, 5, 5),\n",
       " (2, 1, 2),\n",
       " (2, 2, 4),\n",
       " (2, 3, 6),\n",
       " (2, 4, 8),\n",
       " (2, 5, 10),\n",
       " (3, 1, 3),\n",
       " (3, 2, 6),\n",
       " (3, 3, 9),\n",
       " (3, 4, 12),\n",
       " (3, 5, 15),\n",
       " (4, 1, 4),\n",
       " (4, 2, 8),\n",
       " (4, 3, 12),\n",
       " (4, 4, 16),\n",
       " (4, 5, 20),\n",
       " (5, 1, 5),\n",
       " (5, 2, 10),\n",
       " (5, 3, 15),\n",
       " (5, 4, 20),\n",
       " (5, 5, 25)]"
      ]
     },
     "execution_count": 9,
     "metadata": {},
     "output_type": "execute_result"
    }
   ],
   "source": [
    "list(matrix(5))"
   ]
  },
  {
   "cell_type": "code",
   "execution_count": 12,
   "id": "1209090c-acd0-4dbf-bdea-7b28fa7e1165",
   "metadata": {},
   "outputs": [],
   "source": [
    "def matrix(n):\n",
    "    for i, j in itertools.product(range(1, n+1), range(1, n+1)):\n",
    "        yield (i, j, i*j)"
   ]
  },
  {
   "cell_type": "code",
   "execution_count": 13,
   "id": "fc1906dd-379c-404f-bfdf-38af2f1fd757",
   "metadata": {},
   "outputs": [
    {
     "data": {
      "text/plain": [
       "[(1, 1, 1),\n",
       " (1, 2, 2),\n",
       " (1, 3, 3),\n",
       " (1, 4, 4),\n",
       " (2, 1, 2),\n",
       " (2, 2, 4),\n",
       " (2, 3, 6),\n",
       " (2, 4, 8),\n",
       " (3, 1, 3),\n",
       " (3, 2, 6),\n",
       " (3, 3, 9),\n",
       " (3, 4, 12),\n",
       " (4, 1, 4),\n",
       " (4, 2, 8),\n",
       " (4, 3, 12),\n",
       " (4, 4, 16)]"
      ]
     },
     "execution_count": 13,
     "metadata": {},
     "output_type": "execute_result"
    }
   ],
   "source": [
    "list(matrix(4))"
   ]
  },
  {
   "cell_type": "code",
   "execution_count": 14,
   "id": "47c4faf6-edcb-4127-a756-de223c614662",
   "metadata": {},
   "outputs": [],
   "source": [
    "def matrix(n):\n",
    "    return ((i, j, i*j)\n",
    "            for i, j in itertools.product(range(1, n+1), range(1, n+1)))"
   ]
  },
  {
   "cell_type": "code",
   "execution_count": 15,
   "id": "e27e1d91-6ec3-403c-9438-e37d3d2a94a8",
   "metadata": {},
   "outputs": [
    {
     "data": {
      "text/plain": [
       "[(1, 1, 1),\n",
       " (1, 2, 2),\n",
       " (1, 3, 3),\n",
       " (1, 4, 4),\n",
       " (2, 1, 2),\n",
       " (2, 2, 4),\n",
       " (2, 3, 6),\n",
       " (2, 4, 8),\n",
       " (3, 1, 3),\n",
       " (3, 2, 6),\n",
       " (3, 3, 9),\n",
       " (3, 4, 12),\n",
       " (4, 1, 4),\n",
       " (4, 2, 8),\n",
       " (4, 3, 12),\n",
       " (4, 4, 16)]"
      ]
     },
     "execution_count": 15,
     "metadata": {},
     "output_type": "execute_result"
    }
   ],
   "source": [
    "list(matrix(4))"
   ]
  },
  {
   "cell_type": "code",
   "execution_count": 16,
   "id": "e9365b93-bbde-40a2-bb74-8b549f5d94ef",
   "metadata": {},
   "outputs": [],
   "source": [
    "from itertools import tee"
   ]
  },
  {
   "cell_type": "code",
   "execution_count": 22,
   "id": "a6841e72-2bd0-4303-b2e3-0435856455f1",
   "metadata": {},
   "outputs": [],
   "source": [
    "def matrix(n):\n",
    "    return ((i, j, i*j)\n",
    "            for i, j in itertools.product(*tee(range(1, n+1), 2)))"
   ]
  },
  {
   "cell_type": "code",
   "execution_count": 23,
   "id": "22b2377b-31c6-43f7-85fb-ea1e57bb6db7",
   "metadata": {},
   "outputs": [
    {
     "data": {
      "text/plain": [
       "<generator object matrix.<locals>.<genexpr> at 0x000002DF1B5991C0>"
      ]
     },
     "execution_count": 23,
     "metadata": {},
     "output_type": "execute_result"
    }
   ],
   "source": [
    "matrix(4)"
   ]
  },
  {
   "cell_type": "code",
   "execution_count": 24,
   "id": "dfb60db2-a35d-4236-907d-57b8675d41ac",
   "metadata": {},
   "outputs": [
    {
     "data": {
      "text/plain": [
       "[(1, 1, 1),\n",
       " (1, 2, 2),\n",
       " (1, 3, 3),\n",
       " (1, 4, 4),\n",
       " (2, 1, 2),\n",
       " (2, 2, 4),\n",
       " (2, 3, 6),\n",
       " (2, 4, 8),\n",
       " (3, 1, 3),\n",
       " (3, 2, 6),\n",
       " (3, 3, 9),\n",
       " (3, 4, 12),\n",
       " (4, 1, 4),\n",
       " (4, 2, 8),\n",
       " (4, 3, 12),\n",
       " (4, 4, 16)]"
      ]
     },
     "execution_count": 24,
     "metadata": {},
     "output_type": "execute_result"
    }
   ],
   "source": [
    "list(matrix(4))"
   ]
  },
  {
   "cell_type": "code",
   "execution_count": 27,
   "id": "fd2b0232-426d-4e12-a3d9-b652031ed38f",
   "metadata": {},
   "outputs": [],
   "source": [
    "def grid(min_val, max_val, step, *, num_dimensions=2):\n",
    "   axis = itertools.takewhile(lambda x: x <= max_val, \n",
    "                              itertools.count(min_val, step))\n",
    "   axes = itertools.tee(axis, num_dimensions)\n",
    "   return itertools.product(*axes) "
   ]
  },
  {
   "cell_type": "code",
   "execution_count": 28,
   "id": "99611a36-7f8b-4e58-a60e-0925dd8f280b",
   "metadata": {},
   "outputs": [
    {
     "data": {
      "text/plain": [
       "[(-1, -1),\n",
       " (-1, -0.5),\n",
       " (-1, 0.0),\n",
       " (-1, 0.5),\n",
       " (-1, 1.0),\n",
       " (-0.5, -1),\n",
       " (-0.5, -0.5),\n",
       " (-0.5, 0.0),\n",
       " (-0.5, 0.5),\n",
       " (-0.5, 1.0),\n",
       " (0.0, -1),\n",
       " (0.0, -0.5),\n",
       " (0.0, 0.0),\n",
       " (0.0, 0.5),\n",
       " (0.0, 1.0),\n",
       " (0.5, -1),\n",
       " (0.5, -0.5),\n",
       " (0.5, 0.0),\n",
       " (0.5, 0.5),\n",
       " (0.5, 1.0),\n",
       " (1.0, -1),\n",
       " (1.0, -0.5),\n",
       " (1.0, 0.0),\n",
       " (1.0, 0.5),\n",
       " (1.0, 1.0)]"
      ]
     },
     "execution_count": 28,
     "metadata": {},
     "output_type": "execute_result"
    }
   ],
   "source": [
    "list(grid(-1, 1, 0.5))"
   ]
  },
  {
   "cell_type": "code",
   "execution_count": 29,
   "id": "d183972d-d3d2-451f-8d47-4c44132fd5ce",
   "metadata": {},
   "outputs": [
    {
     "data": {
      "text/plain": [
       "[(-1, -1, -1),\n",
       " (-1, -1, -0.5),\n",
       " (-1, -1, 0.0),\n",
       " (-1, -1, 0.5),\n",
       " (-1, -1, 1.0),\n",
       " (-1, -0.5, -1),\n",
       " (-1, -0.5, -0.5),\n",
       " (-1, -0.5, 0.0),\n",
       " (-1, -0.5, 0.5),\n",
       " (-1, -0.5, 1.0),\n",
       " (-1, 0.0, -1),\n",
       " (-1, 0.0, -0.5),\n",
       " (-1, 0.0, 0.0),\n",
       " (-1, 0.0, 0.5),\n",
       " (-1, 0.0, 1.0),\n",
       " (-1, 0.5, -1),\n",
       " (-1, 0.5, -0.5),\n",
       " (-1, 0.5, 0.0),\n",
       " (-1, 0.5, 0.5),\n",
       " (-1, 0.5, 1.0),\n",
       " (-1, 1.0, -1),\n",
       " (-1, 1.0, -0.5),\n",
       " (-1, 1.0, 0.0),\n",
       " (-1, 1.0, 0.5),\n",
       " (-1, 1.0, 1.0),\n",
       " (-0.5, -1, -1),\n",
       " (-0.5, -1, -0.5),\n",
       " (-0.5, -1, 0.0),\n",
       " (-0.5, -1, 0.5),\n",
       " (-0.5, -1, 1.0),\n",
       " (-0.5, -0.5, -1),\n",
       " (-0.5, -0.5, -0.5),\n",
       " (-0.5, -0.5, 0.0),\n",
       " (-0.5, -0.5, 0.5),\n",
       " (-0.5, -0.5, 1.0),\n",
       " (-0.5, 0.0, -1),\n",
       " (-0.5, 0.0, -0.5),\n",
       " (-0.5, 0.0, 0.0),\n",
       " (-0.5, 0.0, 0.5),\n",
       " (-0.5, 0.0, 1.0),\n",
       " (-0.5, 0.5, -1),\n",
       " (-0.5, 0.5, -0.5),\n",
       " (-0.5, 0.5, 0.0),\n",
       " (-0.5, 0.5, 0.5),\n",
       " (-0.5, 0.5, 1.0),\n",
       " (-0.5, 1.0, -1),\n",
       " (-0.5, 1.0, -0.5),\n",
       " (-0.5, 1.0, 0.0),\n",
       " (-0.5, 1.0, 0.5),\n",
       " (-0.5, 1.0, 1.0),\n",
       " (0.0, -1, -1),\n",
       " (0.0, -1, -0.5),\n",
       " (0.0, -1, 0.0),\n",
       " (0.0, -1, 0.5),\n",
       " (0.0, -1, 1.0),\n",
       " (0.0, -0.5, -1),\n",
       " (0.0, -0.5, -0.5),\n",
       " (0.0, -0.5, 0.0),\n",
       " (0.0, -0.5, 0.5),\n",
       " (0.0, -0.5, 1.0),\n",
       " (0.0, 0.0, -1),\n",
       " (0.0, 0.0, -0.5),\n",
       " (0.0, 0.0, 0.0),\n",
       " (0.0, 0.0, 0.5),\n",
       " (0.0, 0.0, 1.0),\n",
       " (0.0, 0.5, -1),\n",
       " (0.0, 0.5, -0.5),\n",
       " (0.0, 0.5, 0.0),\n",
       " (0.0, 0.5, 0.5),\n",
       " (0.0, 0.5, 1.0),\n",
       " (0.0, 1.0, -1),\n",
       " (0.0, 1.0, -0.5),\n",
       " (0.0, 1.0, 0.0),\n",
       " (0.0, 1.0, 0.5),\n",
       " (0.0, 1.0, 1.0),\n",
       " (0.5, -1, -1),\n",
       " (0.5, -1, -0.5),\n",
       " (0.5, -1, 0.0),\n",
       " (0.5, -1, 0.5),\n",
       " (0.5, -1, 1.0),\n",
       " (0.5, -0.5, -1),\n",
       " (0.5, -0.5, -0.5),\n",
       " (0.5, -0.5, 0.0),\n",
       " (0.5, -0.5, 0.5),\n",
       " (0.5, -0.5, 1.0),\n",
       " (0.5, 0.0, -1),\n",
       " (0.5, 0.0, -0.5),\n",
       " (0.5, 0.0, 0.0),\n",
       " (0.5, 0.0, 0.5),\n",
       " (0.5, 0.0, 1.0),\n",
       " (0.5, 0.5, -1),\n",
       " (0.5, 0.5, -0.5),\n",
       " (0.5, 0.5, 0.0),\n",
       " (0.5, 0.5, 0.5),\n",
       " (0.5, 0.5, 1.0),\n",
       " (0.5, 1.0, -1),\n",
       " (0.5, 1.0, -0.5),\n",
       " (0.5, 1.0, 0.0),\n",
       " (0.5, 1.0, 0.5),\n",
       " (0.5, 1.0, 1.0),\n",
       " (1.0, -1, -1),\n",
       " (1.0, -1, -0.5),\n",
       " (1.0, -1, 0.0),\n",
       " (1.0, -1, 0.5),\n",
       " (1.0, -1, 1.0),\n",
       " (1.0, -0.5, -1),\n",
       " (1.0, -0.5, -0.5),\n",
       " (1.0, -0.5, 0.0),\n",
       " (1.0, -0.5, 0.5),\n",
       " (1.0, -0.5, 1.0),\n",
       " (1.0, 0.0, -1),\n",
       " (1.0, 0.0, -0.5),\n",
       " (1.0, 0.0, 0.0),\n",
       " (1.0, 0.0, 0.5),\n",
       " (1.0, 0.0, 1.0),\n",
       " (1.0, 0.5, -1),\n",
       " (1.0, 0.5, -0.5),\n",
       " (1.0, 0.5, 0.0),\n",
       " (1.0, 0.5, 0.5),\n",
       " (1.0, 0.5, 1.0),\n",
       " (1.0, 1.0, -1),\n",
       " (1.0, 1.0, -0.5),\n",
       " (1.0, 1.0, 0.0),\n",
       " (1.0, 1.0, 0.5),\n",
       " (1.0, 1.0, 1.0)]"
      ]
     },
     "execution_count": 29,
     "metadata": {},
     "output_type": "execute_result"
    }
   ],
   "source": [
    "list(grid(-1, 1, 0.5, num_dimensions=3))"
   ]
  },
  {
   "cell_type": "code",
   "execution_count": 30,
   "id": "dae72d83-2af0-424b-bce1-e1ccac0f6e4d",
   "metadata": {},
   "outputs": [
    {
     "name": "stdout",
     "output_type": "stream",
     "text": [
      "[(1, 1), (1, 2), (1, 3), (1, 4), (1, 5), (1, 6), (2, 1), (2, 2), (2, 3), (2, 4), (2, 5), (2, 6), (3, 1), (3, 2), (3, 3), (3, 4), (3, 5), (3, 6), (4, 1), (4, 2), (4, 3), (4, 4), (4, 5), (4, 6), (5, 1), (5, 2), (5, 3), (5, 4), (5, 5), (5, 6), (6, 1), (6, 2), (6, 3), (6, 4), (6, 5), (6, 6)]\n"
     ]
    }
   ],
   "source": [
    "sample_space = list(itertools.product(range(1,7), range(1, 7)))\n",
    "print(sample_space)"
   ]
  },
  {
   "cell_type": "code",
   "execution_count": 31,
   "id": "1425127c-8682-404a-baec-d691197f3aa0",
   "metadata": {},
   "outputs": [],
   "source": [
    "outcomes = list(filter(lambda x: x[0] + x[1] == 8, sample_space))"
   ]
  },
  {
   "cell_type": "code",
   "execution_count": 32,
   "id": "b4e38249-a4e4-4576-86d3-3f5d19353a4d",
   "metadata": {},
   "outputs": [
    {
     "data": {
      "text/plain": [
       "[(2, 6), (3, 5), (4, 4), (5, 3), (6, 2)]"
      ]
     },
     "execution_count": 32,
     "metadata": {},
     "output_type": "execute_result"
    }
   ],
   "source": [
    "outcomes"
   ]
  },
  {
   "cell_type": "code",
   "execution_count": 33,
   "id": "3de0e6b2-7ec0-41cb-a292-9f29b079a0da",
   "metadata": {},
   "outputs": [
    {
     "data": {
      "text/plain": [
       "0.1388888888888889"
      ]
     },
     "execution_count": 33,
     "metadata": {},
     "output_type": "execute_result"
    }
   ],
   "source": [
    "len(outcomes) / len(sample_space)"
   ]
  },
  {
   "cell_type": "code",
   "execution_count": 35,
   "id": "b18db74c-62e9-4a3c-a171-7c6fcc2d35b3",
   "metadata": {},
   "outputs": [],
   "source": [
    "from fractions import Fraction"
   ]
  },
  {
   "cell_type": "code",
   "execution_count": 36,
   "id": "2dd38f4c-08aa-453f-9814-ea2940050486",
   "metadata": {},
   "outputs": [],
   "source": [
    "odds = Fraction(len(outcomes), len(sample_space))"
   ]
  },
  {
   "cell_type": "code",
   "execution_count": 37,
   "id": "2d292ce6-d11a-4f7b-acd2-1639ece29d40",
   "metadata": {},
   "outputs": [
    {
     "data": {
      "text/plain": [
       "Fraction(5, 36)"
      ]
     },
     "execution_count": 37,
     "metadata": {},
     "output_type": "execute_result"
    }
   ],
   "source": [
    "odds"
   ]
  },
  {
   "cell_type": "code",
   "execution_count": 38,
   "id": "c8b49c1c-498d-4a7f-9429-d3dc5b351d29",
   "metadata": {},
   "outputs": [
    {
     "data": {
      "text/plain": [
       "[('a', 'b', 'c'),\n",
       " ('a', 'c', 'b'),\n",
       " ('b', 'a', 'c'),\n",
       " ('b', 'c', 'a'),\n",
       " ('c', 'a', 'b'),\n",
       " ('c', 'b', 'a')]"
      ]
     },
     "execution_count": 38,
     "metadata": {},
     "output_type": "execute_result"
    }
   ],
   "source": [
    "l1 = 'abc'\n",
    "list(itertools.permutations(l1))"
   ]
  },
  {
   "cell_type": "code",
   "execution_count": 39,
   "id": "12eef4bc-2532-418f-9554-665610f1b988",
   "metadata": {},
   "outputs": [
    {
     "data": {
      "text/plain": [
       "[('a', 'b'), ('a', 'c'), ('b', 'a'), ('b', 'c'), ('c', 'a'), ('c', 'b')]"
      ]
     },
     "execution_count": 39,
     "metadata": {},
     "output_type": "execute_result"
    }
   ],
   "source": [
    "list(itertools.permutations(l1, 2))"
   ]
  },
  {
   "cell_type": "code",
   "execution_count": 40,
   "id": "047605b5-9df3-4067-9ca6-4e2156cd15cb",
   "metadata": {},
   "outputs": [
    {
     "data": {
      "text/plain": [
       "[('a', 'b', 'c', 'a'),\n",
       " ('a', 'b', 'a', 'c'),\n",
       " ('a', 'c', 'b', 'a'),\n",
       " ('a', 'c', 'a', 'b'),\n",
       " ('a', 'a', 'b', 'c'),\n",
       " ('a', 'a', 'c', 'b'),\n",
       " ('b', 'a', 'c', 'a'),\n",
       " ('b', 'a', 'a', 'c'),\n",
       " ('b', 'c', 'a', 'a'),\n",
       " ('b', 'c', 'a', 'a'),\n",
       " ('b', 'a', 'a', 'c'),\n",
       " ('b', 'a', 'c', 'a'),\n",
       " ('c', 'a', 'b', 'a'),\n",
       " ('c', 'a', 'a', 'b'),\n",
       " ('c', 'b', 'a', 'a'),\n",
       " ('c', 'b', 'a', 'a'),\n",
       " ('c', 'a', 'a', 'b'),\n",
       " ('c', 'a', 'b', 'a'),\n",
       " ('a', 'a', 'b', 'c'),\n",
       " ('a', 'a', 'c', 'b'),\n",
       " ('a', 'b', 'a', 'c'),\n",
       " ('a', 'b', 'c', 'a'),\n",
       " ('a', 'c', 'a', 'b'),\n",
       " ('a', 'c', 'b', 'a')]"
      ]
     },
     "execution_count": 40,
     "metadata": {},
     "output_type": "execute_result"
    }
   ],
   "source": [
    "l1 = 'abca'\n",
    "list(itertools.permutations(l1))"
   ]
  },
  {
   "cell_type": "code",
   "execution_count": 41,
   "id": "87f246a6-eb66-4db4-b478-da11414373b9",
   "metadata": {},
   "outputs": [
    {
     "data": {
      "text/plain": [
       "[(1, 2), (1, 3), (1, 4), (2, 3), (2, 4), (3, 4)]"
      ]
     },
     "execution_count": 41,
     "metadata": {},
     "output_type": "execute_result"
    }
   ],
   "source": [
    "list(itertools.combinations([1,2,3,4], 2))"
   ]
  },
  {
   "cell_type": "code",
   "execution_count": 43,
   "id": "fd9b9674-3ebf-4e7c-b5ec-413b06b1e9dd",
   "metadata": {},
   "outputs": [
    {
     "data": {
      "text/plain": [
       "[(4, 2), (4, 3), (4, 1), (2, 3), (2, 1), (3, 1)]"
      ]
     },
     "execution_count": 43,
     "metadata": {},
     "output_type": "execute_result"
    }
   ],
   "source": [
    "list(itertools.combinations([4,2,3,1], 2))"
   ]
  },
  {
   "cell_type": "code",
   "execution_count": 45,
   "id": "c5bb794c-308d-4826-b68c-1167db3db7ea",
   "metadata": {},
   "outputs": [
    {
     "data": {
      "text/plain": [
       "[(1, 1),\n",
       " (1, 2),\n",
       " (1, 3),\n",
       " (1, 4),\n",
       " (2, 2),\n",
       " (2, 3),\n",
       " (2, 4),\n",
       " (3, 3),\n",
       " (3, 4),\n",
       " (4, 4)]"
      ]
     },
     "execution_count": 45,
     "metadata": {},
     "output_type": "execute_result"
    }
   ],
   "source": [
    "list(itertools.combinations_with_replacement([1,2,3,4], 2))"
   ]
  },
  {
   "cell_type": "code",
   "execution_count": 46,
   "id": "aa1b40f0-60ff-4dca-a56b-015b5ef38124",
   "metadata": {},
   "outputs": [],
   "source": [
    "SUITS = 'SHDC'\n",
    "RANKS = tuple(map(str, range(2,11))) + tuple('JQKA')"
   ]
  },
  {
   "cell_type": "code",
   "execution_count": 49,
   "id": "41d1636f-414e-4987-8aa5-b5184f985334",
   "metadata": {},
   "outputs": [],
   "source": [
    "deck = [rank + suit for suit in SUITS for rank in RANKS]"
   ]
  },
  {
   "cell_type": "code",
   "execution_count": 50,
   "id": "8ef9e620-223b-4366-9b79-69a1bf1ffadd",
   "metadata": {},
   "outputs": [
    {
     "data": {
      "text/plain": [
       "['2S',\n",
       " '3S',\n",
       " '4S',\n",
       " '5S',\n",
       " '6S',\n",
       " '7S',\n",
       " '8S',\n",
       " '9S',\n",
       " '10S',\n",
       " 'JS',\n",
       " 'QS',\n",
       " 'KS',\n",
       " 'AS',\n",
       " '2H',\n",
       " '3H',\n",
       " '4H',\n",
       " '5H',\n",
       " '6H',\n",
       " '7H',\n",
       " '8H',\n",
       " '9H',\n",
       " '10H',\n",
       " 'JH',\n",
       " 'QH',\n",
       " 'KH',\n",
       " 'AH',\n",
       " '2D',\n",
       " '3D',\n",
       " '4D',\n",
       " '5D',\n",
       " '6D',\n",
       " '7D',\n",
       " '8D',\n",
       " '9D',\n",
       " '10D',\n",
       " 'JD',\n",
       " 'QD',\n",
       " 'KD',\n",
       " 'AD',\n",
       " '2C',\n",
       " '3C',\n",
       " '4C',\n",
       " '5C',\n",
       " '6C',\n",
       " '7C',\n",
       " '8C',\n",
       " '9C',\n",
       " '10C',\n",
       " 'JC',\n",
       " 'QC',\n",
       " 'KC',\n",
       " 'AC']"
      ]
     },
     "execution_count": 50,
     "metadata": {},
     "output_type": "execute_result"
    }
   ],
   "source": [
    "deck"
   ]
  },
  {
   "cell_type": "code",
   "execution_count": 52,
   "id": "c467fcb9-877e-43d9-a3a2-961d0795241d",
   "metadata": {},
   "outputs": [],
   "source": [
    "deck = [rank + suit for suit, rank in itertools.product(SUITS, RANKS)]"
   ]
  },
  {
   "cell_type": "code",
   "execution_count": 53,
   "id": "3b6f05b3-ed2e-440a-af71-9c85bdf9e33f",
   "metadata": {},
   "outputs": [
    {
     "data": {
      "text/plain": [
       "['2S',\n",
       " '3S',\n",
       " '4S',\n",
       " '5S',\n",
       " '6S',\n",
       " '7S',\n",
       " '8S',\n",
       " '9S',\n",
       " '10S',\n",
       " 'JS',\n",
       " 'QS',\n",
       " 'KS',\n",
       " 'AS',\n",
       " '2H',\n",
       " '3H',\n",
       " '4H',\n",
       " '5H',\n",
       " '6H',\n",
       " '7H',\n",
       " '8H',\n",
       " '9H',\n",
       " '10H',\n",
       " 'JH',\n",
       " 'QH',\n",
       " 'KH',\n",
       " 'AH',\n",
       " '2D',\n",
       " '3D',\n",
       " '4D',\n",
       " '5D',\n",
       " '6D',\n",
       " '7D',\n",
       " '8D',\n",
       " '9D',\n",
       " '10D',\n",
       " 'JD',\n",
       " 'QD',\n",
       " 'KD',\n",
       " 'AD',\n",
       " '2C',\n",
       " '3C',\n",
       " '4C',\n",
       " '5C',\n",
       " '6C',\n",
       " '7C',\n",
       " '8C',\n",
       " '9C',\n",
       " '10C',\n",
       " 'JC',\n",
       " 'QC',\n",
       " 'KC',\n",
       " 'AC']"
      ]
     },
     "execution_count": 53,
     "metadata": {},
     "output_type": "execute_result"
    }
   ],
   "source": [
    "deck"
   ]
  },
  {
   "cell_type": "code",
   "execution_count": 54,
   "id": "aa49e0c6-3923-4f5e-a91b-07a66b2ed65b",
   "metadata": {},
   "outputs": [],
   "source": [
    "from collections import namedtuple\n",
    "Card = namedtuple('Card', 'rank suit')"
   ]
  },
  {
   "cell_type": "code",
   "execution_count": 55,
   "id": "94f59e6d-aa8c-4699-8adc-3dade5fe69c6",
   "metadata": {},
   "outputs": [],
   "source": [
    "deck = [Card(rank, suit) for suit, rank in itertools.product(SUITS, RANKS)]"
   ]
  },
  {
   "cell_type": "code",
   "execution_count": 56,
   "id": "299ab2e2-d7df-4b08-870f-e26982d47602",
   "metadata": {},
   "outputs": [
    {
     "data": {
      "text/plain": [
       "[Card(rank='2', suit='S'),\n",
       " Card(rank='3', suit='S'),\n",
       " Card(rank='4', suit='S'),\n",
       " Card(rank='5', suit='S'),\n",
       " Card(rank='6', suit='S')]"
      ]
     },
     "execution_count": 56,
     "metadata": {},
     "output_type": "execute_result"
    }
   ],
   "source": [
    "deck[0:5]"
   ]
  },
  {
   "cell_type": "code",
   "execution_count": 57,
   "id": "0b7fcab6-539d-488d-b246-f201f3e12080",
   "metadata": {},
   "outputs": [],
   "source": [
    "deck = (Card(rank, suit) for suit, rank in itertools.product(SUITS, RANKS))"
   ]
  },
  {
   "cell_type": "code",
   "execution_count": 58,
   "id": "709fc25a-eee9-4f72-8da5-58442fdde12f",
   "metadata": {},
   "outputs": [],
   "source": [
    "sample_space = itertools.combinations(deck, 4)"
   ]
  },
  {
   "cell_type": "code",
   "execution_count": 61,
   "id": "4c6b8b40-430a-4934-973c-13a890f00fc8",
   "metadata": {},
   "outputs": [
    {
     "name": "stdout",
     "output_type": "stream",
     "text": [
      "total=270725, acceptable=1\n",
      "odds=1/270725\n",
      "odds = 0.0000036938\n"
     ]
    }
   ],
   "source": [
    "deck = (Card(rank, suit) for suit, rank in itertools.product(SUITS, RANKS))\n",
    "sample_space = itertools.combinations(deck, 4)\n",
    "total = 0\n",
    "acceptable = 0\n",
    "for outcome in sample_space:\n",
    "    total += 1\n",
    "    for card in outcome:\n",
    "        if card.rank != 'A':\n",
    "            break\n",
    "    else: #nobreak:\n",
    "        acceptable += 1\n",
    "\n",
    "print(f'{total=}, {acceptable=}')\n",
    "print(f'odds={Fraction(acceptable, total)}')\n",
    "print('odds = {:.10f}'.format(acceptable/total))"
   ]
  },
  {
   "cell_type": "code",
   "execution_count": 62,
   "id": "19c9f066-6c55-40d7-9822-a187734106b9",
   "metadata": {},
   "outputs": [
    {
     "name": "stdout",
     "output_type": "stream",
     "text": [
      "total=270725, acceptable=1\n",
      "odds=1/270725\n",
      "odds = 0.0000036938\n"
     ]
    }
   ],
   "source": [
    "deck = (Card(rank, suit) for suit, rank in itertools.product(SUITS, RANKS))\n",
    "sample_space = itertools.combinations(deck, 4)\n",
    "total = 0\n",
    "acceptable = 0\n",
    "for outcome in sample_space:\n",
    "    total += 1\n",
    "    if all(map(lambda x: x.rank == 'A', outcome)):\n",
    "        acceptable += 1\n",
    "\n",
    "print(f'{total=}, {acceptable=}')\n",
    "print(f'odds={Fraction(acceptable, total)}')\n",
    "print('odds = {:.10f}'.format(acceptable/total))"
   ]
  },
  {
   "cell_type": "code",
   "execution_count": null,
   "id": "f7ddf7e2-a07e-413b-85b0-8f2a80cd90bf",
   "metadata": {},
   "outputs": [],
   "source": []
  }
 ],
 "metadata": {
  "kernelspec": {
   "display_name": "Python 3 (ipykernel)",
   "language": "python",
   "name": "python3"
  },
  "language_info": {
   "codemirror_mode": {
    "name": "ipython",
    "version": 3
   },
   "file_extension": ".py",
   "mimetype": "text/x-python",
   "name": "python",
   "nbconvert_exporter": "python",
   "pygments_lexer": "ipython3",
   "version": "3.12.7"
  }
 },
 "nbformat": 4,
 "nbformat_minor": 5
}
