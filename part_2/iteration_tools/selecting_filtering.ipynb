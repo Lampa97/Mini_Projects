{
 "cells": [
  {
   "cell_type": "code",
   "execution_count": 1,
   "id": "50ff7438-caba-4fb6-96b6-0525be278cc0",
   "metadata": {},
   "outputs": [],
   "source": [
    "def gen_cubes(n):\n",
    "    for i in range(n):\n",
    "        print(f'yielding {i}')\n",
    "        yield i**3"
   ]
  },
  {
   "cell_type": "code",
   "execution_count": 2,
   "id": "fcd8fdaf-366a-4125-9bcf-c5891eeed181",
   "metadata": {},
   "outputs": [],
   "source": [
    "def is_odd(x):\n",
    "    return x % 2 == 1"
   ]
  },
  {
   "cell_type": "code",
   "execution_count": 3,
   "id": "d12f7ccf-6373-4e40-87ef-528f7529f0c9",
   "metadata": {},
   "outputs": [
    {
     "data": {
      "text/plain": [
       "(False, True)"
      ]
     },
     "execution_count": 3,
     "metadata": {},
     "output_type": "execute_result"
    }
   ],
   "source": [
    "is_odd(4), is_odd(81)"
   ]
  },
  {
   "cell_type": "code",
   "execution_count": 4,
   "id": "671fc885-e214-4bcd-a39e-0a78751149a4",
   "metadata": {},
   "outputs": [],
   "source": [
    "filtered = filter(is_odd, gen_cubes(10))"
   ]
  },
  {
   "cell_type": "code",
   "execution_count": 5,
   "id": "634fbc13-e62d-47c5-87e2-18b4c8d9d6f5",
   "metadata": {},
   "outputs": [
    {
     "name": "stdout",
     "output_type": "stream",
     "text": [
      "yielding 0\n",
      "yielding 1\n",
      "yielding 2\n",
      "yielding 3\n",
      "yielding 4\n",
      "yielding 5\n",
      "yielding 6\n",
      "yielding 7\n",
      "yielding 8\n",
      "yielding 9\n"
     ]
    },
    {
     "data": {
      "text/plain": [
       "[1, 27, 125, 343, 729]"
      ]
     },
     "execution_count": 5,
     "metadata": {},
     "output_type": "execute_result"
    }
   ],
   "source": [
    "list(filtered)"
   ]
  },
  {
   "cell_type": "code",
   "execution_count": 6,
   "id": "3833f28f-2f31-4886-8f6f-b6e6fb26edbf",
   "metadata": {},
   "outputs": [],
   "source": [
    "def is_even(x):\n",
    "    return x % 2 == 0"
   ]
  },
  {
   "cell_type": "code",
   "execution_count": 7,
   "id": "892dfd8a-432c-44ce-81c2-5c8435644720",
   "metadata": {},
   "outputs": [],
   "source": [
    "filtered = filter(is_even, gen_cubes(10))"
   ]
  },
  {
   "cell_type": "code",
   "execution_count": 8,
   "id": "126a1f32-8e87-406d-acdd-8376f57b9284",
   "metadata": {},
   "outputs": [
    {
     "name": "stdout",
     "output_type": "stream",
     "text": [
      "yielding 0\n",
      "yielding 1\n",
      "yielding 2\n",
      "yielding 3\n",
      "yielding 4\n",
      "yielding 5\n",
      "yielding 6\n",
      "yielding 7\n",
      "yielding 8\n",
      "yielding 9\n"
     ]
    },
    {
     "data": {
      "text/plain": [
       "[0, 8, 64, 216, 512]"
      ]
     },
     "execution_count": 8,
     "metadata": {},
     "output_type": "execute_result"
    }
   ],
   "source": [
    "list(filtered)"
   ]
  },
  {
   "cell_type": "code",
   "execution_count": 9,
   "id": "0e100f66-3cf6-4e28-83a1-4dc85d215a11",
   "metadata": {},
   "outputs": [],
   "source": [
    "from itertools import filterfalse"
   ]
  },
  {
   "cell_type": "code",
   "execution_count": 10,
   "id": "2bd415e9-c747-4d1c-b339-5716fb1c3a8a",
   "metadata": {},
   "outputs": [],
   "source": [
    "filtered = filterfalse(is_odd, gen_cubes(10))"
   ]
  },
  {
   "cell_type": "code",
   "execution_count": 11,
   "id": "6cc69d65-11dd-4abc-adad-bd9e4555933a",
   "metadata": {},
   "outputs": [
    {
     "name": "stdout",
     "output_type": "stream",
     "text": [
      "yielding 0\n",
      "yielding 1\n",
      "yielding 2\n",
      "yielding 3\n",
      "yielding 4\n",
      "yielding 5\n",
      "yielding 6\n",
      "yielding 7\n",
      "yielding 8\n",
      "yielding 9\n"
     ]
    },
    {
     "data": {
      "text/plain": [
       "[0, 8, 64, 216, 512]"
      ]
     },
     "execution_count": 11,
     "metadata": {},
     "output_type": "execute_result"
    }
   ],
   "source": [
    "list(filtered)"
   ]
  },
  {
   "cell_type": "code",
   "execution_count": 12,
   "id": "0b9e2abb-5e15-4e47-985d-3fdc840e5dd0",
   "metadata": {},
   "outputs": [],
   "source": [
    "#### dropwhile and takewhile"
   ]
  },
  {
   "cell_type": "code",
   "execution_count": 13,
   "id": "1284e1a0-fc52-4c77-967f-e136d472f634",
   "metadata": {},
   "outputs": [],
   "source": [
    "from itertools import dropwhile, takewhile"
   ]
  },
  {
   "cell_type": "code",
   "execution_count": 14,
   "id": "de2e752e-1fd3-4235-9426-64bbb38c4024",
   "metadata": {},
   "outputs": [],
   "source": [
    "from math import sin, pi"
   ]
  },
  {
   "cell_type": "code",
   "execution_count": 17,
   "id": "8adcd45e-7f1c-4896-88f6-b1db0999c1ee",
   "metadata": {},
   "outputs": [],
   "source": [
    "def sine_wave(n):\n",
    "    start = 0\n",
    "    max_ = 2 * pi\n",
    "    step = (max_ - start) / (n-1)\n",
    "\n",
    "    for _ in range(n):\n",
    "        yield round(sin(start), 2)\n",
    "        start += step"
   ]
  },
  {
   "cell_type": "code",
   "execution_count": 18,
   "id": "df864d11-d551-4751-a808-f8f0914ea691",
   "metadata": {},
   "outputs": [
    {
     "data": {
      "text/plain": [
       "[0.0,\n",
       " 0.43,\n",
       " 0.78,\n",
       " 0.97,\n",
       " 0.97,\n",
       " 0.78,\n",
       " 0.43,\n",
       " 0.0,\n",
       " -0.43,\n",
       " -0.78,\n",
       " -0.97,\n",
       " -0.97,\n",
       " -0.78,\n",
       " -0.43,\n",
       " -0.0]"
      ]
     },
     "execution_count": 18,
     "metadata": {},
     "output_type": "execute_result"
    }
   ],
   "source": [
    "list(sine_wave(15))"
   ]
  },
  {
   "cell_type": "code",
   "execution_count": 20,
   "id": "f85ebcf9-4ab5-4ed9-aede-3a791e3d8052",
   "metadata": {},
   "outputs": [],
   "source": [
    "result = takewhile(lambda x: 0 <= x <= 0.9, sine_wave(15))"
   ]
  },
  {
   "cell_type": "code",
   "execution_count": 21,
   "id": "9c8da3de-57df-4825-9fb3-693ce6c1344a",
   "metadata": {},
   "outputs": [
    {
     "data": {
      "text/plain": [
       "[0.0, 0.43, 0.78]"
      ]
     },
     "execution_count": 21,
     "metadata": {},
     "output_type": "execute_result"
    }
   ],
   "source": [
    "list(result)"
   ]
  },
  {
   "cell_type": "code",
   "execution_count": 22,
   "id": "2a6adfe3-b720-4269-bb58-a49a76973285",
   "metadata": {},
   "outputs": [
    {
     "ename": "StopIteration",
     "evalue": "",
     "output_type": "error",
     "traceback": [
      "\u001b[1;31m---------------------------------------------------------------------------\u001b[0m",
      "\u001b[1;31mStopIteration\u001b[0m                             Traceback (most recent call last)",
      "Cell \u001b[1;32mIn[22], line 1\u001b[0m\n\u001b[1;32m----> 1\u001b[0m \u001b[38;5;28mnext\u001b[39m(result)\n",
      "\u001b[1;31mStopIteration\u001b[0m: "
     ]
    }
   ],
   "source": [
    "next(result)"
   ]
  },
  {
   "cell_type": "code",
   "execution_count": 23,
   "id": "b8f548e3-0f28-40d1-9bd6-af51906c5edb",
   "metadata": {},
   "outputs": [],
   "source": [
    "l = [1,3,5,2,1]"
   ]
  },
  {
   "cell_type": "code",
   "execution_count": 25,
   "id": "8a63e033-bbe6-4c82-a470-9fc8d746b26e",
   "metadata": {},
   "outputs": [],
   "source": [
    "result = dropwhile(lambda x: x < 5, l)"
   ]
  },
  {
   "cell_type": "code",
   "execution_count": 26,
   "id": "988b35b5-319b-467c-b8c9-134365f1347d",
   "metadata": {},
   "outputs": [
    {
     "data": {
      "text/plain": [
       "[5, 2, 1]"
      ]
     },
     "execution_count": 26,
     "metadata": {},
     "output_type": "execute_result"
    }
   ],
   "source": [
    "list(result)"
   ]
  },
  {
   "cell_type": "code",
   "execution_count": 27,
   "id": "a774bccb-a7ae-4928-b5d4-71ae02d2ddb2",
   "metadata": {},
   "outputs": [],
   "source": [
    "#### Compress"
   ]
  },
  {
   "cell_type": "code",
   "execution_count": 28,
   "id": "30fc3cbb-d088-4256-b590-b4c612a790e7",
   "metadata": {},
   "outputs": [],
   "source": [
    "from itertools import compress"
   ]
  },
  {
   "cell_type": "code",
   "execution_count": 29,
   "id": "f512b44a-fc28-4366-8411-19fe07ef4799",
   "metadata": {},
   "outputs": [],
   "source": [
    "data = ['a', 'b', 'c', 'd', 'e']\n",
    "selectors = [True, False, 1, 0]"
   ]
  },
  {
   "cell_type": "code",
   "execution_count": 30,
   "id": "79bd6ebb-7b8c-4f96-908f-995692e10922",
   "metadata": {},
   "outputs": [
    {
     "data": {
      "text/plain": [
       "[('a', True), ('b', False), ('c', 1), ('d', 0)]"
      ]
     },
     "execution_count": 30,
     "metadata": {},
     "output_type": "execute_result"
    }
   ],
   "source": [
    "list(zip(data, selectors))"
   ]
  },
  {
   "cell_type": "code",
   "execution_count": 31,
   "id": "bd3339f6-f09f-4c98-9c0b-d24754847374",
   "metadata": {},
   "outputs": [
    {
     "data": {
      "text/plain": [
       "['a', 'c']"
      ]
     },
     "execution_count": 31,
     "metadata": {},
     "output_type": "execute_result"
    }
   ],
   "source": [
    "list(compress(data, selectors))"
   ]
  },
  {
   "cell_type": "code",
   "execution_count": 32,
   "id": "2f4ad617-4446-4690-924a-cfd6e4889902",
   "metadata": {},
   "outputs": [
    {
     "data": {
      "text/plain": [
       "['a', 'c']"
      ]
     },
     "execution_count": 32,
     "metadata": {},
     "output_type": "execute_result"
    }
   ],
   "source": [
    "[item for item, truth_value in zip(data, selectors) if truth_value]"
   ]
  },
  {
   "cell_type": "code",
   "execution_count": null,
   "id": "c69f6a75-215c-4d36-9219-663fb6d85399",
   "metadata": {},
   "outputs": [],
   "source": []
  }
 ],
 "metadata": {
  "kernelspec": {
   "display_name": "Python 3 (ipykernel)",
   "language": "python",
   "name": "python3"
  },
  "language_info": {
   "codemirror_mode": {
    "name": "ipython",
    "version": 3
   },
   "file_extension": ".py",
   "mimetype": "text/x-python",
   "name": "python",
   "nbconvert_exporter": "python",
   "pygments_lexer": "ipython3",
   "version": "3.12.7"
  }
 },
 "nbformat": 4,
 "nbformat_minor": 5
}
