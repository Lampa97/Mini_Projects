{
 "cells": [
  {
   "cell_type": "code",
   "execution_count": 1,
   "id": "e0b19d79-c0d3-4ef9-9f21-70dc394e8ce4",
   "metadata": {},
   "outputs": [],
   "source": [
    "l1 = (i**2 for i in range(4))\n",
    "l2 = (i**2 for i in range(4, 8))\n",
    "l3 = (i**2 for i in range(8 , 12))"
   ]
  },
  {
   "cell_type": "code",
   "execution_count": 2,
   "id": "0f60a4f9-b377-489a-bf63-68b4df8e21d7",
   "metadata": {},
   "outputs": [
    {
     "name": "stdout",
     "output_type": "stream",
     "text": [
      "0\n",
      "1\n",
      "4\n",
      "9\n",
      "16\n",
      "25\n",
      "36\n",
      "49\n",
      "64\n",
      "81\n",
      "100\n",
      "121\n"
     ]
    }
   ],
   "source": [
    "for gen in l1, l2, l3:\n",
    "    for item in gen:\n",
    "        print(item)"
   ]
  },
  {
   "cell_type": "code",
   "execution_count": 3,
   "id": "dbe3d45b-6f6d-4952-88c0-f0a770d6ad9e",
   "metadata": {},
   "outputs": [],
   "source": [
    "def chain_iterables(*iterables):\n",
    "    for iterable in iterables:\n",
    "        yield from iterable"
   ]
  },
  {
   "cell_type": "code",
   "execution_count": 4,
   "id": "4cabdbbc-b2c6-41f0-8257-5dfc854ba936",
   "metadata": {},
   "outputs": [
    {
     "name": "stdout",
     "output_type": "stream",
     "text": [
      "0\n",
      "1\n",
      "4\n",
      "9\n",
      "16\n",
      "25\n",
      "36\n",
      "49\n",
      "64\n",
      "81\n",
      "100\n",
      "121\n"
     ]
    }
   ],
   "source": [
    "l1 = (i**2 for i in range(4))\n",
    "l2 = (i**2 for i in range(4, 8))\n",
    "l3 = (i**2 for i in range(8 , 12))\n",
    "\n",
    "for item in chain_iterables(l1, l2, l3):\n",
    "    print(item)"
   ]
  },
  {
   "cell_type": "code",
   "execution_count": 5,
   "id": "2efcffb6-ef7c-40aa-93b4-4fffce7d3f24",
   "metadata": {},
   "outputs": [],
   "source": [
    "from itertools import chain"
   ]
  },
  {
   "cell_type": "code",
   "execution_count": 7,
   "id": "604c65bd-dfd5-4365-82d7-bab4d9f831f6",
   "metadata": {},
   "outputs": [
    {
     "name": "stdout",
     "output_type": "stream",
     "text": [
      "0\n",
      "1\n",
      "4\n",
      "9\n",
      "16\n",
      "25\n",
      "36\n",
      "49\n",
      "64\n",
      "81\n",
      "100\n",
      "121\n"
     ]
    }
   ],
   "source": [
    "l1 = (i**2 for i in range(4))\n",
    "l2 = (i**2 for i in range(4, 8))\n",
    "l3 = (i**2 for i in range(8 , 12))\n",
    "\n",
    "for item in chain(l1, l2, l3):\n",
    "    print(item)"
   ]
  },
  {
   "cell_type": "code",
   "execution_count": 11,
   "id": "cfaefed0-b02b-43db-ae0f-3addd97f4808",
   "metadata": {},
   "outputs": [
    {
     "name": "stdout",
     "output_type": "stream",
     "text": [
      "0\n",
      "1\n",
      "4\n",
      "9\n",
      "16\n",
      "25\n",
      "36\n",
      "49\n",
      "64\n",
      "81\n",
      "100\n",
      "121\n"
     ]
    }
   ],
   "source": [
    "l1 = (i**2 for i in range(4))\n",
    "l2 = (i**2 for i in range(4, 8))\n",
    "l3 = (i**2 for i in range(8 , 12))\n",
    "\n",
    "lists = [l1, l2, l3]\n",
    "\n",
    "for item in chain(lists):\n",
    "    for i in item:\n",
    "        print(i)"
   ]
  },
  {
   "cell_type": "code",
   "execution_count": 12,
   "id": "e5875820-1359-410f-9ba7-4d3a0d8a94ff",
   "metadata": {},
   "outputs": [
    {
     "name": "stdout",
     "output_type": "stream",
     "text": [
      "0\n",
      "1\n",
      "4\n",
      "9\n",
      "16\n",
      "25\n",
      "36\n",
      "49\n",
      "64\n",
      "81\n",
      "100\n",
      "121\n"
     ]
    }
   ],
   "source": [
    "l1 = (i**2 for i in range(4))\n",
    "l2 = (i**2 for i in range(4, 8))\n",
    "l3 = (i**2 for i in range(8 , 12))\n",
    "\n",
    "lists = [l1, l2, l3]\n",
    "\n",
    "for item in chain(*lists):\n",
    "    print(item)"
   ]
  },
  {
   "cell_type": "code",
   "execution_count": 13,
   "id": "ac2766c5-19a9-4228-bf51-c8fab97efc92",
   "metadata": {},
   "outputs": [],
   "source": [
    "def squares():\n",
    "    yield (i**2 for i in range(4))\n",
    "    yield (i**2 for i in range(4, 8))\n",
    "    yield (i**2 for i in range(8 , 12))"
   ]
  },
  {
   "cell_type": "code",
   "execution_count": 14,
   "id": "1773f1dd-33ae-4498-ace1-887a6d85a91c",
   "metadata": {},
   "outputs": [
    {
     "name": "stdout",
     "output_type": "stream",
     "text": [
      "0\n",
      "1\n",
      "4\n",
      "9\n",
      "16\n",
      "25\n",
      "36\n",
      "49\n",
      "64\n",
      "81\n",
      "100\n",
      "121\n"
     ]
    }
   ],
   "source": [
    "for item in chain(*squares()):\n",
    "    print(item)"
   ]
  },
  {
   "cell_type": "code",
   "execution_count": 15,
   "id": "8350a301-07d7-44b9-aeb0-02e042a34c7e",
   "metadata": {},
   "outputs": [],
   "source": [
    "def squares():\n",
    "    print('yielding 1st item')\n",
    "    yield (i**2 for i in range(4))\n",
    "    print('yielding 2nd item')\n",
    "    yield (i**2 for i in range(4, 8))\n",
    "    print('yielding 3rd item')\n",
    "    yield (i**2 for i in range(8 , 12))"
   ]
  },
  {
   "cell_type": "code",
   "execution_count": 16,
   "id": "92d0dd71-3f26-4d4a-9fde-eec94bfaf116",
   "metadata": {},
   "outputs": [],
   "source": [
    "def read_values(*args):\n",
    "    print('finished reading arguments')"
   ]
  },
  {
   "cell_type": "code",
   "execution_count": 17,
   "id": "43a275f0-d555-4d37-baa8-388c89e9529a",
   "metadata": {},
   "outputs": [
    {
     "name": "stdout",
     "output_type": "stream",
     "text": [
      "finished reading arguments\n"
     ]
    }
   ],
   "source": [
    "read_values(squares())"
   ]
  },
  {
   "cell_type": "code",
   "execution_count": 18,
   "id": "cf29d6d5-a6c5-467b-b95f-3e61f3aaada2",
   "metadata": {},
   "outputs": [
    {
     "name": "stdout",
     "output_type": "stream",
     "text": [
      "yielding 1st item\n",
      "yielding 2nd item\n",
      "yielding 3rd item\n",
      "finished reading arguments\n"
     ]
    }
   ],
   "source": [
    "read_values(*squares())"
   ]
  },
  {
   "cell_type": "code",
   "execution_count": 19,
   "id": "d53f4851-3281-4b8d-9438-7975e019b9b5",
   "metadata": {},
   "outputs": [],
   "source": [
    "c = chain.from_iterable(squares())"
   ]
  },
  {
   "cell_type": "code",
   "execution_count": 21,
   "id": "cfc16b63-49de-4789-bae5-dda564da9d46",
   "metadata": {},
   "outputs": [
    {
     "name": "stdout",
     "output_type": "stream",
     "text": [
      "yielding 1st item\n",
      "0\n",
      "1\n",
      "4\n",
      "9\n",
      "yielding 2nd item\n",
      "16\n",
      "25\n",
      "36\n",
      "49\n",
      "yielding 3rd item\n",
      "64\n",
      "81\n",
      "100\n",
      "121\n"
     ]
    }
   ],
   "source": [
    "for i in c:\n",
    "    print(i)"
   ]
  },
  {
   "cell_type": "code",
   "execution_count": 22,
   "id": "2d3c35ee-8dd4-4e8f-991b-5546a80ee2d7",
   "metadata": {},
   "outputs": [],
   "source": [
    "def chain_iterables(*iterables):\n",
    "    for iterable in iterables:\n",
    "        yield from iterable"
   ]
  },
  {
   "cell_type": "code",
   "execution_count": 23,
   "id": "c88c4100-7084-4953-84e2-9a7d8a5d9d3e",
   "metadata": {},
   "outputs": [],
   "source": [
    "def chain_from_iterable(iterable):\n",
    "    for item in iterable:\n",
    "        yield from item\n",
    "    "
   ]
  },
  {
   "cell_type": "code",
   "execution_count": 24,
   "id": "03b0b63a-ef2c-4a98-8ab3-52c3a327b80f",
   "metadata": {},
   "outputs": [
    {
     "name": "stdout",
     "output_type": "stream",
     "text": [
      "yielding 1st item\n",
      "0\n",
      "1\n",
      "4\n",
      "9\n",
      "yielding 2nd item\n",
      "16\n",
      "25\n",
      "36\n",
      "49\n",
      "yielding 3rd item\n",
      "64\n",
      "81\n",
      "100\n",
      "121\n"
     ]
    }
   ],
   "source": [
    "for item in chain_from_iterable(squares()):\n",
    "    print(item)"
   ]
  },
  {
   "cell_type": "code",
   "execution_count": 37,
   "id": "7b5c6834-d200-4084-ac5f-6a180bd6afdf",
   "metadata": {},
   "outputs": [],
   "source": [
    "from itertools import tee"
   ]
  },
  {
   "cell_type": "code",
   "execution_count": 38,
   "id": "087fd690-98c9-4763-a12a-2091848a30df",
   "metadata": {},
   "outputs": [],
   "source": [
    "def squares(n):\n",
    "    for i in range(n):\n",
    "        yield i**2"
   ]
  },
  {
   "cell_type": "code",
   "execution_count": 39,
   "id": "35ea6a11-e2e7-4f2b-94f6-5e0ee9f74a25",
   "metadata": {},
   "outputs": [],
   "source": [
    "gen = squares(10)"
   ]
  },
  {
   "cell_type": "code",
   "execution_count": 40,
   "id": "e19ecc0b-4bdf-4323-acfc-2b23dc96bf08",
   "metadata": {},
   "outputs": [
    {
     "data": {
      "text/plain": [
       "<generator object squares at 0x000002BA5DFB4860>"
      ]
     },
     "execution_count": 40,
     "metadata": {},
     "output_type": "execute_result"
    }
   ],
   "source": [
    "gen"
   ]
  },
  {
   "cell_type": "code",
   "execution_count": 41,
   "id": "497baaf5-1f71-4092-a60f-68c3d83bbb12",
   "metadata": {},
   "outputs": [],
   "source": [
    "iters = tee(gen, 3)"
   ]
  },
  {
   "cell_type": "code",
   "execution_count": 42,
   "id": "51f00096-985b-4efb-a01b-a8cc3c294312",
   "metadata": {},
   "outputs": [
    {
     "data": {
      "text/plain": [
       "(<itertools._tee at 0x2ba5dfd4180>,\n",
       " <itertools._tee at 0x2ba5dfd40c0>,\n",
       " <itertools._tee at 0x2ba5dfd4040>)"
      ]
     },
     "execution_count": 42,
     "metadata": {},
     "output_type": "execute_result"
    }
   ],
   "source": [
    "iters"
   ]
  },
  {
   "cell_type": "code",
   "execution_count": 43,
   "id": "07e789ba-b9e0-40d8-935d-2fb07e497d8e",
   "metadata": {},
   "outputs": [
    {
     "data": {
      "text/plain": [
       "tuple"
      ]
     },
     "execution_count": 43,
     "metadata": {},
     "output_type": "execute_result"
    }
   ],
   "source": [
    "type(iters)"
   ]
  },
  {
   "cell_type": "code",
   "execution_count": 44,
   "id": "b1c81558-6f8c-44a5-ad31-14c88825633d",
   "metadata": {},
   "outputs": [],
   "source": [
    "iter1, iter2, iter3 = iters"
   ]
  },
  {
   "cell_type": "code",
   "execution_count": 45,
   "id": "cde5313e-ea41-4e5f-a3fc-e02198e96fda",
   "metadata": {},
   "outputs": [
    {
     "data": {
      "text/plain": [
       "False"
      ]
     },
     "execution_count": 45,
     "metadata": {},
     "output_type": "execute_result"
    }
   ],
   "source": [
    "iter1 is iter2"
   ]
  },
  {
   "cell_type": "code",
   "execution_count": 46,
   "id": "2649970b-6dde-432f-bda6-2da4ece51676",
   "metadata": {},
   "outputs": [
    {
     "data": {
      "text/plain": [
       "False"
      ]
     },
     "execution_count": 46,
     "metadata": {},
     "output_type": "execute_result"
    }
   ],
   "source": [
    "gen is iter1"
   ]
  },
  {
   "cell_type": "code",
   "execution_count": 47,
   "id": "f57b4cde-1754-48f6-844e-e7e1383629c4",
   "metadata": {},
   "outputs": [
    {
     "data": {
      "text/plain": [
       "(0, 1, 4)"
      ]
     },
     "execution_count": 47,
     "metadata": {},
     "output_type": "execute_result"
    }
   ],
   "source": [
    "next(iter1), next(iter1), next(iter1)"
   ]
  },
  {
   "cell_type": "code",
   "execution_count": 48,
   "id": "4bad826d-9746-4ec0-bc74-9aac6b38c7f5",
   "metadata": {},
   "outputs": [
    {
     "data": {
      "text/plain": [
       "(0, 1, 4)"
      ]
     },
     "execution_count": 48,
     "metadata": {},
     "output_type": "execute_result"
    }
   ],
   "source": [
    "next(iter2), next(iter2), next(iter2)"
   ]
  },
  {
   "cell_type": "code",
   "execution_count": 49,
   "id": "dd9e3572-a0b9-4867-9718-01648266a3a1",
   "metadata": {},
   "outputs": [],
   "source": [
    "l = [1,2,3,4]\n",
    "lists = tee(l ,2)"
   ]
  },
  {
   "cell_type": "code",
   "execution_count": 50,
   "id": "b78affde-4144-4a87-a29f-74e62e39aa5f",
   "metadata": {},
   "outputs": [
    {
     "data": {
      "text/plain": [
       "<itertools._tee at 0x2ba5dfd4100>"
      ]
     },
     "execution_count": 50,
     "metadata": {},
     "output_type": "execute_result"
    }
   ],
   "source": [
    "lists[0]"
   ]
  },
  {
   "cell_type": "code",
   "execution_count": 51,
   "id": "222939d2-1ba5-41d8-8ca5-9356857032e1",
   "metadata": {},
   "outputs": [
    {
     "ename": "TypeError",
     "evalue": "'itertools._tee' object is not subscriptable",
     "output_type": "error",
     "traceback": [
      "\u001b[1;31m---------------------------------------------------------------------------\u001b[0m",
      "\u001b[1;31mTypeError\u001b[0m                                 Traceback (most recent call last)",
      "Cell \u001b[1;32mIn[51], line 1\u001b[0m\n\u001b[1;32m----> 1\u001b[0m lists[\u001b[38;5;241m0\u001b[39m][\u001b[38;5;241m0\u001b[39m]\n",
      "\u001b[1;31mTypeError\u001b[0m: 'itertools._tee' object is not subscriptable"
     ]
    }
   ],
   "source": [
    "lists[0][0]"
   ]
  },
  {
   "cell_type": "code",
   "execution_count": 52,
   "id": "53a4c065-48a5-413c-88cf-207e984f3bf6",
   "metadata": {},
   "outputs": [
    {
     "data": {
      "text/plain": [
       "[1, 2, 3, 4]"
      ]
     },
     "execution_count": 52,
     "metadata": {},
     "output_type": "execute_result"
    }
   ],
   "source": [
    "list(lists[0])"
   ]
  },
  {
   "cell_type": "code",
   "execution_count": 53,
   "id": "7e669815-7991-4757-8b35-cbb0ef40d87f",
   "metadata": {},
   "outputs": [
    {
     "data": {
      "text/plain": [
       "[]"
      ]
     },
     "execution_count": 53,
     "metadata": {},
     "output_type": "execute_result"
    }
   ],
   "source": [
    "list(lists[0])"
   ]
  },
  {
   "cell_type": "code",
   "execution_count": 55,
   "id": "6e9596c5-f41b-49d2-ba24-7f047ec14106",
   "metadata": {},
   "outputs": [
    {
     "data": {
      "text/plain": [
       "True"
      ]
     },
     "execution_count": 55,
     "metadata": {},
     "output_type": "execute_result"
    }
   ],
   "source": [
    "lists[0] is lists[0].__iter__()"
   ]
  },
  {
   "cell_type": "code",
   "execution_count": 56,
   "id": "7e490f1c-2f56-4e93-87c2-cf124771eb40",
   "metadata": {},
   "outputs": [
    {
     "data": {
      "text/plain": [
       "True"
      ]
     },
     "execution_count": 56,
     "metadata": {},
     "output_type": "execute_result"
    }
   ],
   "source": [
    "'__next__'  in dir(lists[0])"
   ]
  },
  {
   "cell_type": "code",
   "execution_count": null,
   "id": "6690fae2-822b-4759-92d5-348c95e70788",
   "metadata": {},
   "outputs": [],
   "source": []
  }
 ],
 "metadata": {
  "kernelspec": {
   "display_name": "Python 3 (ipykernel)",
   "language": "python",
   "name": "python3"
  },
  "language_info": {
   "codemirror_mode": {
    "name": "ipython",
    "version": 3
   },
   "file_extension": ".py",
   "mimetype": "text/x-python",
   "name": "python",
   "nbconvert_exporter": "python",
   "pygments_lexer": "ipython3",
   "version": "3.12.7"
  }
 },
 "nbformat": 4,
 "nbformat_minor": 5
}
