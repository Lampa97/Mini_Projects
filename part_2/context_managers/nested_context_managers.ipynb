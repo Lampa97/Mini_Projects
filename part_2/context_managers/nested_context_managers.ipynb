{
 "cells": [
  {
   "cell_type": "code",
   "id": "initial_id",
   "metadata": {
    "collapsed": true,
    "ExecuteTime": {
     "end_time": "2025-08-09T19:17:45.873086Z",
     "start_time": "2025-08-09T19:17:45.864505Z"
    }
   },
   "source": [
    "with open('file1.txt') as f:\n",
    "    for row in f:\n",
    "        print(row, end='')\n",
    "print('\\n----------------------')\n",
    "with open('file2.txt') as f:\n",
    "    for row in f:\n",
    "        print(row, end='')\n",
    "print('\\n----------------------')\n",
    "with open('file3.txt') as f:\n",
    "    for row in f:\n",
    "        print(row, end='')\n",
    "print('\\n----------------------')\n"
   ],
   "outputs": [
    {
     "name": "stdout",
     "output_type": "stream",
     "text": [
      "file1_line1\n",
      "file1_line2\n",
      "file1_line3\n",
      "----------------------\n",
      "file2_line1\n",
      "file2_line2\n",
      "file2_line3\n",
      "----------------------\n",
      "file3_line1\n",
      "file3_line2\n",
      "file3_line3\n",
      "----------------------\n"
     ]
    }
   ],
   "execution_count": 3
  },
  {
   "metadata": {
    "ExecuteTime": {
     "end_time": "2025-08-09T19:18:53.409298Z",
     "start_time": "2025-08-09T19:18:53.402494Z"
    }
   },
   "cell_type": "code",
   "source": [
    "with open('file1.txt') as f1, open('file2.txt') as f2:\n",
    "    print(f1.readlines())\n",
    "    print(f2.readlines())"
   ],
   "id": "374100ce12f8962f",
   "outputs": [
    {
     "name": "stdout",
     "output_type": "stream",
     "text": [
      "['file1_line1\\n', 'file1_line2\\n', 'file1_line3']\n",
      "['file2_line1\\n', 'file2_line2\\n', 'file2_line3']\n"
     ]
    }
   ],
   "execution_count": 4
  },
  {
   "metadata": {
    "ExecuteTime": {
     "end_time": "2025-08-09T19:19:58.711231Z",
     "start_time": "2025-08-09T19:19:58.705958Z"
    }
   },
   "cell_type": "code",
   "source": [
    "with open('file1.txt') as f1:\n",
    "    with open('file2.txt') as f2:\n",
    "        with open('file3.txt') as f3:\n",
    "            print(f1.readlines())\n",
    "            print(f2.readlines())\n",
    "            print(f3.readlines())"
   ],
   "id": "aad1bc2206621964",
   "outputs": [
    {
     "name": "stdout",
     "output_type": "stream",
     "text": [
      "['file1_line1\\n', 'file1_line2\\n', 'file1_line3']\n",
      "['file2_line1\\n', 'file2_line2\\n', 'file2_line3']\n",
      "['file3_line1\\n', 'file3_line2\\n', 'file3_line3']\n"
     ]
    }
   ],
   "execution_count": 5
  },
  {
   "metadata": {
    "ExecuteTime": {
     "end_time": "2025-08-09T19:21:35.177301Z",
     "start_time": "2025-08-09T19:21:35.173067Z"
    }
   },
   "cell_type": "code",
   "source": "from contextlib import contextmanager",
   "id": "ef5ee76b335dc14c",
   "outputs": [],
   "execution_count": 6
  },
  {
   "metadata": {
    "ExecuteTime": {
     "end_time": "2025-08-09T19:22:31.564396Z",
     "start_time": "2025-08-09T19:22:31.560408Z"
    }
   },
   "cell_type": "code",
   "source": [
    "@contextmanager\n",
    "def open_file(f_name):\n",
    "    print(f'opening {f_name}')\n",
    "    f = open(f_name)\n",
    "    try:\n",
    "        yield f\n",
    "    finally:\n",
    "        print(f'closing {f_name}')\n",
    "        f.close()"
   ],
   "id": "9091a2378d4dfa1d",
   "outputs": [],
   "execution_count": 7
  },
  {
   "metadata": {
    "ExecuteTime": {
     "end_time": "2025-08-09T19:24:59.490924Z",
     "start_time": "2025-08-09T19:24:59.486739Z"
    }
   },
   "cell_type": "code",
   "source": [
    "f_names = 'file1.txt', 'file2.txt', 'file3.txt'\n",
    "\n",
    "exits = []\n",
    "enters = []\n",
    "\n",
    "for f_name in f_names:\n",
    "    ctx = open_file(f_name)\n",
    "    enters.append(ctx.__enter__)\n",
    "    exits.append(ctx.__exit__)"
   ],
   "id": "b37200df2647464a",
   "outputs": [],
   "execution_count": 8
  },
  {
   "metadata": {
    "ExecuteTime": {
     "end_time": "2025-08-09T19:26:15.176299Z",
     "start_time": "2025-08-09T19:26:15.169180Z"
    }
   },
   "cell_type": "code",
   "source": "files = [enter() for enter in enters]\n",
   "id": "78c11ff3d57dfd5f",
   "outputs": [
    {
     "name": "stdout",
     "output_type": "stream",
     "text": [
      "opening file1.txt\n",
      "opening file2.txt\n",
      "opening file3.txt\n"
     ]
    }
   ],
   "execution_count": 9
  },
  {
   "metadata": {
    "ExecuteTime": {
     "end_time": "2025-08-09T19:28:22.181809Z",
     "start_time": "2025-08-09T19:28:22.176539Z"
    }
   },
   "cell_type": "code",
   "source": [
    "while True:\n",
    "    try:\n",
    "        rows = [next(f).strip('\\n') for f in files]\n",
    "    except StopIteration:\n",
    "        break\n",
    "    else:\n",
    "        row = ','.join(rows)\n",
    "        print(row)"
   ],
   "id": "fc1ed0edf72466f1",
   "outputs": [
    {
     "name": "stdout",
     "output_type": "stream",
     "text": [
      "file1_line1,file2_line1,file3_line1\n",
      "file1_line2,file2_line2,file3_line2\n",
      "file1_line3,file2_line3,file3_line3\n"
     ]
    }
   ],
   "execution_count": 10
  },
  {
   "metadata": {
    "ExecuteTime": {
     "end_time": "2025-08-09T19:30:05.724675Z",
     "start_time": "2025-08-09T19:30:05.718273Z"
    }
   },
   "cell_type": "code",
   "source": [
    "for exit in exits[::-1]:\n",
    "    exit(None, None, None)"
   ],
   "id": "3bb30a59a13d55b0",
   "outputs": [
    {
     "name": "stdout",
     "output_type": "stream",
     "text": [
      "closing file3.txt\n",
      "closing file2.txt\n",
      "closing file1.txt\n"
     ]
    }
   ],
   "execution_count": 12
  },
  {
   "metadata": {
    "ExecuteTime": {
     "end_time": "2025-08-09T19:31:48.845912Z",
     "start_time": "2025-08-09T19:31:48.839238Z"
    }
   },
   "cell_type": "code",
   "source": [
    "f_names = 'file1.txt', 'file2.txt', 'file3.txt'\n",
    "\n",
    "# creating and \"entering\" context managers\n",
    "exits = []\n",
    "enters = []\n",
    "\n",
    "for f_name in f_names:\n",
    "    ctx = open_file(f_name)\n",
    "    enters.append(ctx.__enter__)\n",
    "    exits.append(ctx.__exit__)\n",
    "\n",
    "# \"entering\" context managers\n",
    "files = [enter() for enter in enters]\n",
    "\n",
    "# do work\n",
    "while True:\n",
    "    try:\n",
    "        rows = [next(f).strip('\\n') for f in files]\n",
    "    except StopIteration:\n",
    "        break\n",
    "    else:\n",
    "        row = ','.join(rows)\n",
    "        print(row)\n",
    "\n",
    "# \"exiting\" context managers\n",
    "for exit in exits[::-1]:\n",
    "    exit(None, None, None)"
   ],
   "id": "7afff0c3a0342c70",
   "outputs": [
    {
     "name": "stdout",
     "output_type": "stream",
     "text": [
      "opening file1.txt\n",
      "opening file2.txt\n",
      "opening file3.txt\n",
      "file1_line1,file2_line1,file3_line1\n",
      "file1_line2,file2_line2,file3_line2\n",
      "file1_line3,file2_line3,file3_line3\n",
      "closing file3.txt\n",
      "closing file2.txt\n",
      "closing file1.txt\n"
     ]
    }
   ],
   "execution_count": 13
  },
  {
   "metadata": {
    "ExecuteTime": {
     "end_time": "2025-08-09T19:36:23.396845Z",
     "start_time": "2025-08-09T19:36:23.392467Z"
    }
   },
   "cell_type": "code",
   "source": [
    "class NestedContexts:\n",
    "    def __init__(self, *contexts):\n",
    "        self._enters = []\n",
    "        self._exits = []\n",
    "        self._values = []\n",
    "\n",
    "        for ctx in contexts:\n",
    "            self._enters.append(ctx.__enter__)\n",
    "            self._exits.append(ctx.__exit__)\n",
    "\n",
    "    def __enter__(self):\n",
    "        self._values = [enter() for enter in self._enters]\n",
    "        return self._values\n",
    "\n",
    "    def __exit__(self, exc_type, exc_value, traceback):\n",
    "        for exit in self._exits[::-1]:\n",
    "            exit(exc_type, exc_value, traceback)\n",
    "        return False"
   ],
   "id": "e21dae4280dff96",
   "outputs": [],
   "execution_count": 14
  },
  {
   "metadata": {
    "ExecuteTime": {
     "end_time": "2025-08-09T19:38:19.787848Z",
     "start_time": "2025-08-09T19:38:19.783115Z"
    }
   },
   "cell_type": "code",
   "source": [
    "with NestedContexts(open_file('file1.txt'),\n",
    "                    open_file('file2.txt'),\n",
    "                    open_file('file3.txt')) as files:\n",
    "    while True:\n",
    "        try:\n",
    "            rows = [next(f).strip('\\n') for f in files]\n",
    "        except StopIteration:\n",
    "            break\n",
    "        else:\n",
    "            row = ','.join(rows)\n",
    "            print(row)"
   ],
   "id": "f982fd7915fff0f7",
   "outputs": [
    {
     "name": "stdout",
     "output_type": "stream",
     "text": [
      "opening file1.txt\n",
      "opening file2.txt\n",
      "opening file3.txt\n",
      "file1_line1,file2_line1,file3_line1\n",
      "file1_line2,file2_line2,file3_line2\n",
      "file1_line3,file2_line3,file3_line3\n",
      "closing file3.txt\n",
      "closing file2.txt\n",
      "closing file1.txt\n"
     ]
    }
   ],
   "execution_count": 16
  },
  {
   "metadata": {
    "ExecuteTime": {
     "end_time": "2025-08-09T19:40:27.812233Z",
     "start_time": "2025-08-09T19:40:27.805110Z"
    }
   },
   "cell_type": "code",
   "source": [
    "f_names = 'file1.txt', 'file2.txt', 'file3.txt'\n",
    "\n",
    "contexts = [open_file(f_name) for f_name in f_names]\n",
    "with NestedContexts(*contexts) as files:\n",
    "    print('do work')"
   ],
   "id": "1a6977a6fd303433",
   "outputs": [
    {
     "name": "stdout",
     "output_type": "stream",
     "text": [
      "opening file1.txt\n",
      "opening file2.txt\n",
      "opening file3.txt\n",
      "do work\n",
      "closing file3.txt\n",
      "closing file2.txt\n",
      "closing file1.txt\n"
     ]
    }
   ],
   "execution_count": 17
  },
  {
   "metadata": {
    "ExecuteTime": {
     "end_time": "2025-08-09T19:44:29.365513Z",
     "start_time": "2025-08-09T19:44:29.360361Z"
    }
   },
   "cell_type": "code",
   "source": [
    "class NestedContexts:\n",
    "    def __init__(self):\n",
    "        self._exits = []\n",
    "\n",
    "    def __enter__(self):\n",
    "        return self\n",
    "\n",
    "    def enter_context(self, ctx):\n",
    "        self._exits.append(ctx.__exit__)\n",
    "        value = ctx.__enter__()\n",
    "        return value\n",
    "\n",
    "    def __exit__(self, exc_type, exc_value, traceback):\n",
    "        for exit in self._exits[::-1]:\n",
    "            exit(exc_type, exc_value, traceback)\n",
    "        return False"
   ],
   "id": "7eafc15d61569b45",
   "outputs": [],
   "execution_count": 18
  },
  {
   "metadata": {
    "ExecuteTime": {
     "end_time": "2025-08-09T19:50:34.112316Z",
     "start_time": "2025-08-09T19:50:34.104590Z"
    }
   },
   "cell_type": "code",
   "source": [
    "f_names = 'file1.txt', 'file2.txt', 'file3.txt'\n",
    "\n",
    "with NestedContexts() as stack:\n",
    "    files = [stack.enter_context(open(f)) for f in f_names]\n",
    "\n",
    "    # do work\n",
    "    while True:\n",
    "        try:\n",
    "            rows = [next(f).strip('\\n') for f in files]\n",
    "        except StopIteration:\n",
    "            break\n",
    "        else:\n",
    "            row = ','.join(rows)\n",
    "            print(row)"
   ],
   "id": "c94332f361dc76ea",
   "outputs": [
    {
     "name": "stdout",
     "output_type": "stream",
     "text": [
      "file1_line1,file2_line1,file3_line1\n",
      "file1_line2,file2_line2,file3_line2\n",
      "file1_line3,file2_line3,file3_line3\n"
     ]
    }
   ],
   "execution_count": 26
  },
  {
   "metadata": {
    "ExecuteTime": {
     "end_time": "2025-08-09T19:50:34.369313Z",
     "start_time": "2025-08-09T19:50:34.365209Z"
    }
   },
   "cell_type": "code",
   "source": "from contextlib import ExitStack",
   "id": "dde3444b5b4a9a9e",
   "outputs": [],
   "execution_count": 27
  },
  {
   "metadata": {
    "ExecuteTime": {
     "end_time": "2025-08-09T19:50:34.614737Z",
     "start_time": "2025-08-09T19:50:34.608608Z"
    }
   },
   "cell_type": "code",
   "source": [
    "f_names = 'file1.txt', 'file2.txt', 'file3.txt'\n",
    "\n",
    "with ExitStack() as stack:\n",
    "    files = [stack.enter_context(open(f)) for f in f_names]\n",
    "\n",
    "    # do work\n",
    "    while True:\n",
    "        try:\n",
    "            rows = [next(f).strip('\\n') for f in files]\n",
    "        except StopIteration:\n",
    "            break\n",
    "        else:\n",
    "            row = ','.join(rows)\n",
    "            print(row)"
   ],
   "id": "3a98742dbda5cc85",
   "outputs": [
    {
     "name": "stdout",
     "output_type": "stream",
     "text": [
      "file1_line1,file2_line1,file3_line1\n",
      "file1_line2,file2_line2,file3_line2\n",
      "file1_line3,file2_line3,file3_line3\n"
     ]
    }
   ],
   "execution_count": 28
  }
 ],
 "metadata": {
  "kernelspec": {
   "display_name": "Python 3",
   "language": "python",
   "name": "python3"
  },
  "language_info": {
   "codemirror_mode": {
    "name": "ipython",
    "version": 2
   },
   "file_extension": ".py",
   "mimetype": "text/x-python",
   "name": "python",
   "nbconvert_exporter": "python",
   "pygments_lexer": "ipython2",
   "version": "2.7.6"
  }
 },
 "nbformat": 4,
 "nbformat_minor": 5
}
