{
 "cells": [
  {
   "cell_type": "code",
   "execution_count": 1,
   "id": "89b02aad-4675-4bf9-8b25-4a8ae4109ffa",
   "metadata": {},
   "outputs": [],
   "source": [
    "class CyclicIterator:\n",
    "    def __init__(self, lst):\n",
    "        self.lst = lst\n",
    "        self.i = 0\n",
    "\n",
    "    def __iter__(self):\n",
    "        return self\n",
    "\n",
    "    def __next__(self):\n",
    "        result = self.lst[self.i % len(self.lst )]\n",
    "        self.i += 1\n",
    "        return result\n"
   ]
  },
  {
   "cell_type": "code",
   "execution_count": 2,
   "id": "bbcb038b-d0de-4a10-922d-326e722ef803",
   "metadata": {},
   "outputs": [],
   "source": [
    "iter_cycl = CyclicIterator('NSWE')\n"
   ]
  },
  {
   "cell_type": "code",
   "execution_count": 3,
   "id": "5626be8c-8ea9-4fad-af4d-af6f6ada9bde",
   "metadata": {},
   "outputs": [
    {
     "name": "stdout",
     "output_type": "stream",
     "text": [
      "N\n",
      "S\n",
      "W\n",
      "E\n",
      "N\n",
      "S\n",
      "W\n",
      "E\n",
      "N\n",
      "S\n"
     ]
    }
   ],
   "source": [
    "for _ in range(10):\n",
    "    print(next(iter_cycl))"
   ]
  },
  {
   "cell_type": "code",
   "execution_count": 4,
   "id": "687306fe-1ef1-401a-8031-63f873ec6865",
   "metadata": {},
   "outputs": [],
   "source": [
    "class CyclicIterator:\n",
    "    def __init__(self, lst, length):\n",
    "        self.length = length\n",
    "        self.lst = lst\n",
    "        self.i = 0\n",
    "\n",
    "    def __iter__(self):\n",
    "        return self\n",
    "\n",
    "    def __next__(self):\n",
    "        if self.i >= self.length:\n",
    "            raise StopIteration\n",
    "        else:\n",
    "            result = self.lst[self.i % len(self.lst )]\n",
    "            self.i += 1\n",
    "            return result"
   ]
  },
  {
   "cell_type": "code",
   "execution_count": 5,
   "id": "6d4911f8-077f-4ff0-84ca-8e4734df3988",
   "metadata": {},
   "outputs": [],
   "source": [
    "iter_cycl = CyclicIterator('NSWE', 15)"
   ]
  },
  {
   "cell_type": "code",
   "execution_count": 6,
   "id": "2c661d83-5dbe-443b-9b0f-9be88390b1cb",
   "metadata": {},
   "outputs": [
    {
     "name": "stdout",
     "output_type": "stream",
     "text": [
      "N\n",
      "S\n",
      "W\n",
      "E\n",
      "N\n",
      "S\n",
      "W\n",
      "E\n",
      "N\n",
      "S\n",
      "W\n",
      "E\n",
      "N\n",
      "S\n",
      "W\n"
     ]
    }
   ],
   "source": [
    "for item in iter_cycl:\n",
    "    print(item)"
   ]
  },
  {
   "cell_type": "code",
   "execution_count": 7,
   "id": "2bd58bb6-410a-478d-bad0-bbcc3b5243bc",
   "metadata": {},
   "outputs": [],
   "source": [
    "class CyclicIterator:\n",
    "    def __init__(self, lst):\n",
    "        self.lst = lst\n",
    "        self.i = 0\n",
    "\n",
    "    def __iter__(self):\n",
    "        return self\n",
    "\n",
    "    def __next__(self):\n",
    "        result = self.lst[self.i % len(self.lst )]\n",
    "        self.i += 1\n",
    "        return result"
   ]
  },
  {
   "cell_type": "code",
   "execution_count": 8,
   "id": "55739097-4d1e-468c-b9de-1d8567bf8152",
   "metadata": {},
   "outputs": [],
   "source": [
    "iter_cycl = CyclicIterator([10, 20, 35])"
   ]
  },
  {
   "cell_type": "code",
   "execution_count": 9,
   "id": "195b2f25-d174-4bc9-887a-b6af78415f8c",
   "metadata": {},
   "outputs": [
    {
     "name": "stdout",
     "output_type": "stream",
     "text": [
      "10\n",
      "20\n",
      "35\n",
      "10\n",
      "20\n",
      "35\n",
      "10\n",
      "20\n",
      "35\n",
      "10\n"
     ]
    }
   ],
   "source": [
    "for _ in range(10):\n",
    "    print(next(iter_cycl))"
   ]
  },
  {
   "cell_type": "code",
   "execution_count": 10,
   "id": "12425ea5-d0c6-443d-81aa-cb4464e46889",
   "metadata": {},
   "outputs": [],
   "source": [
    "numbers = range(10)"
   ]
  },
  {
   "cell_type": "code",
   "execution_count": 11,
   "id": "8d98c0f7-28d6-43b1-870f-9c169f8a9a4a",
   "metadata": {},
   "outputs": [],
   "source": [
    "iter_cycl = CyclicIterator('NSWE')"
   ]
  },
  {
   "cell_type": "code",
   "execution_count": 13,
   "id": "7c2b3359-2ee9-4d5c-bcc1-77edab171cb5",
   "metadata": {},
   "outputs": [
    {
     "data": {
      "text/plain": [
       "[(0, 'N'),\n",
       " (1, 'S'),\n",
       " (2, 'W'),\n",
       " (3, 'E'),\n",
       " (4, 'N'),\n",
       " (5, 'S'),\n",
       " (6, 'W'),\n",
       " (7, 'E'),\n",
       " (8, 'N'),\n",
       " (9, 'S')]"
      ]
     },
     "execution_count": 13,
     "metadata": {},
     "output_type": "execute_result"
    }
   ],
   "source": [
    "list(zip(list(numbers), iter_cycl))"
   ]
  },
  {
   "cell_type": "code",
   "execution_count": 14,
   "id": "be51301b-3221-4e4c-b94b-6d4c392f7400",
   "metadata": {},
   "outputs": [],
   "source": [
    "n = 10\n",
    "iter_cycl = CyclicIterator('NSWE')"
   ]
  },
  {
   "cell_type": "code",
   "execution_count": 15,
   "id": "56661515-95a2-4f96-ab2c-b0987b405f90",
   "metadata": {},
   "outputs": [
    {
     "name": "stdout",
     "output_type": "stream",
     "text": [
      "1N\n",
      "2S\n",
      "3W\n",
      "4E\n",
      "5N\n",
      "6S\n",
      "7W\n",
      "8E\n",
      "9N\n",
      "10S\n"
     ]
    }
   ],
   "source": [
    "for i in range(1, n+1):\n",
    "    direction = next(iter_cycl)\n",
    "    print(f'{i}{direction}')\n"
   ]
  },
  {
   "cell_type": "code",
   "execution_count": 16,
   "id": "f0e61be7-594a-48a8-ba78-6233f84e48cc",
   "metadata": {},
   "outputs": [],
   "source": [
    "n = 10\n",
    "iter_cycl = CyclicIterator('NSWE')"
   ]
  },
  {
   "cell_type": "code",
   "execution_count": 19,
   "id": "a56ab903-bd9f-43f8-b1a4-f40e6bd3876a",
   "metadata": {},
   "outputs": [],
   "source": [
    "items = [str(i) + next(iter_cycl) for i in range(1, n+1)]"
   ]
  },
  {
   "cell_type": "code",
   "execution_count": 20,
   "id": "6b5242cc-0a5c-4ff3-aadb-22d769577c00",
   "metadata": {},
   "outputs": [
    {
     "data": {
      "text/plain": [
       "['1N', '2S', '3W', '4E', '5N', '6S', '7W', '8E', '9N', '10S']"
      ]
     },
     "execution_count": 20,
     "metadata": {},
     "output_type": "execute_result"
    }
   ],
   "source": [
    "items"
   ]
  },
  {
   "cell_type": "code",
   "execution_count": 22,
   "id": "9b652145-2879-43ed-9198-d4b5bb1bb51a",
   "metadata": {},
   "outputs": [],
   "source": [
    "n = 10\n",
    "iter_cycl = CyclicIterator('NSWE')\n",
    "items = [str(number) + direction \n",
    " for number, direction in zip(range(1, n+1), iter_cycl)]"
   ]
  },
  {
   "cell_type": "code",
   "execution_count": 23,
   "id": "b2cf451a-871d-472b-a2fd-5e9700b4380a",
   "metadata": {},
   "outputs": [
    {
     "data": {
      "text/plain": [
       "['1N', '2S', '3W', '4E', '5N', '6S', '7W', '8E', '9N', '10S']"
      ]
     },
     "execution_count": 23,
     "metadata": {},
     "output_type": "execute_result"
    }
   ],
   "source": [
    "items"
   ]
  },
  {
   "cell_type": "code",
   "execution_count": 24,
   "id": "acd5a15b-e49d-4017-ac20-bb9ab9c240ac",
   "metadata": {},
   "outputs": [
    {
     "data": {
      "text/plain": [
       "[(1, 'N'),\n",
       " (2, 'S'),\n",
       " (3, 'W'),\n",
       " (4, 'E'),\n",
       " (5, 'N'),\n",
       " (6, 'S'),\n",
       " (7, 'W'),\n",
       " (8, 'E'),\n",
       " (9, 'N'),\n",
       " (10, 'S')]"
      ]
     },
     "execution_count": 24,
     "metadata": {},
     "output_type": "execute_result"
    }
   ],
   "source": [
    "list(zip(range(1, 11), 'NSWE' * 3))"
   ]
  },
  {
   "cell_type": "code",
   "execution_count": 26,
   "id": "84861c60-2faf-4bc4-afa8-7f8efb6409bd",
   "metadata": {},
   "outputs": [],
   "source": [
    "items = [str(number) + direction for number, direction in zip(range(1, n+1), 'NSWE' * (n // 4 + 1))]"
   ]
  },
  {
   "cell_type": "code",
   "execution_count": 27,
   "id": "084c6e23-81a1-44fe-bea5-e5759c35d756",
   "metadata": {},
   "outputs": [
    {
     "data": {
      "text/plain": [
       "['1N', '2S', '3W', '4E', '5N', '6S', '7W', '8E', '9N', '10S']"
      ]
     },
     "execution_count": 27,
     "metadata": {},
     "output_type": "execute_result"
    }
   ],
   "source": [
    "items"
   ]
  },
  {
   "cell_type": "code",
   "execution_count": 28,
   "id": "2f562bcb-c67d-4e66-8017-f7678781fa83",
   "metadata": {},
   "outputs": [],
   "source": [
    "import itertools"
   ]
  },
  {
   "cell_type": "code",
   "execution_count": 29,
   "id": "1c75de4a-99a9-4d56-8807-34ad6d8a63d2",
   "metadata": {},
   "outputs": [],
   "source": [
    "n = 10\n",
    "iter_cycl = CyclicIterator('NSWE')\n",
    "items = [f'{i}{next(iter_cycl)}' for i in range(1, n+1)]"
   ]
  },
  {
   "cell_type": "code",
   "execution_count": 30,
   "id": "2921d0fa-3c3e-43ca-8c88-9acd78850ed3",
   "metadata": {},
   "outputs": [
    {
     "data": {
      "text/plain": [
       "['1N', '2S', '3W', '4E', '5N', '6S', '7W', '8E', '9N', '10S']"
      ]
     },
     "execution_count": 30,
     "metadata": {},
     "output_type": "execute_result"
    }
   ],
   "source": [
    "items"
   ]
  },
  {
   "cell_type": "code",
   "execution_count": 31,
   "id": "76ab5434-bcb9-4d26-8cd1-81d51e8ceb9e",
   "metadata": {},
   "outputs": [],
   "source": [
    "n = 10\n",
    "iter_cycl = itertools.cycle('NSWE')\n",
    "items = [f'{i}{next(iter_cycl)}' for i in range(1, n+1)]"
   ]
  },
  {
   "cell_type": "code",
   "execution_count": 32,
   "id": "286bef03-5915-4b4b-8149-337c7b4d0581",
   "metadata": {},
   "outputs": [
    {
     "data": {
      "text/plain": [
       "['1N', '2S', '3W', '4E', '5N', '6S', '7W', '8E', '9N', '10S']"
      ]
     },
     "execution_count": 32,
     "metadata": {},
     "output_type": "execute_result"
    }
   ],
   "source": [
    "items"
   ]
  },
  {
   "cell_type": "code",
   "execution_count": 33,
   "id": "5a0da00f-e328-4df1-933c-c3c23cd5ddf8",
   "metadata": {},
   "outputs": [
    {
     "name": "stdout",
     "output_type": "stream",
     "text": [
      "Help on class cycle in module itertools:\n",
      "\n",
      "class cycle(builtins.object)\n",
      " |  cycle(iterable, /)\n",
      " |\n",
      " |  Return elements from the iterable until it is exhausted. Then repeat the sequence indefinitely.\n",
      " |\n",
      " |  Methods defined here:\n",
      " |\n",
      " |  __getattribute__(self, name, /)\n",
      " |      Return getattr(self, name).\n",
      " |\n",
      " |  __iter__(self, /)\n",
      " |      Implement iter(self).\n",
      " |\n",
      " |  __next__(self, /)\n",
      " |      Implement next(self).\n",
      " |\n",
      " |  __reduce__(...)\n",
      " |      Return state information for pickling.\n",
      " |\n",
      " |  __setstate__(...)\n",
      " |      Set state information for unpickling.\n",
      " |\n",
      " |  ----------------------------------------------------------------------\n",
      " |  Static methods defined here:\n",
      " |\n",
      " |  __new__(*args, **kwargs)\n",
      " |      Create and return a new object.  See help(type) for accurate signature.\n",
      "\n"
     ]
    }
   ],
   "source": [
    "help(itertools.cycle)"
   ]
  },
  {
   "cell_type": "code",
   "execution_count": 34,
   "id": "4f3e2322-12ae-4868-a3d1-9a9d4903b00a",
   "metadata": {},
   "outputs": [],
   "source": [
    "s = {100, 'a', 'X', 'x', 200}"
   ]
  },
  {
   "cell_type": "code",
   "execution_count": 35,
   "id": "4f1e2cc9-99e1-4798-8df5-41c8d2d44b56",
   "metadata": {},
   "outputs": [
    {
     "data": {
      "text/plain": [
       "[100, 'X', 200, 'a', 'x']"
      ]
     },
     "execution_count": 35,
     "metadata": {},
     "output_type": "execute_result"
    }
   ],
   "source": [
    "list(s)"
   ]
  },
  {
   "cell_type": "code",
   "execution_count": 48,
   "id": "418da395-7378-4c50-b8a8-7f5ce9e6893a",
   "metadata": {},
   "outputs": [],
   "source": [
    "class CyclicIterator:\n",
    "    def __init__(self, iterable):\n",
    "        self.iterable = iterable\n",
    "        self.iterator = iter(self.iterable)\n",
    "\n",
    "    def __iter__(self):\n",
    "        return self\n",
    "\n",
    "    def __next__(self):\n",
    "        try:\n",
    "            item = next(self.iterator)\n",
    "        except StopIteration:\n",
    "            self.iterator = iter(self.iterable)\n",
    "            item = next(self.iterator)\n",
    "        finally:\n",
    "            return item"
   ]
  },
  {
   "cell_type": "code",
   "execution_count": 49,
   "id": "52b8cab5-409e-4e3d-af18-a71905b20c96",
   "metadata": {},
   "outputs": [],
   "source": [
    "iter_cycle = CyclicIterator('abc')"
   ]
  },
  {
   "cell_type": "code",
   "execution_count": 51,
   "id": "7b295bb2-8362-4df5-a11f-730a5208843e",
   "metadata": {},
   "outputs": [
    {
     "name": "stdout",
     "output_type": "stream",
     "text": [
      "0 c\n",
      "1 a\n",
      "2 b\n",
      "3 c\n",
      "4 a\n",
      "5 b\n",
      "6 c\n",
      "7 a\n",
      "8 b\n",
      "9 c\n"
     ]
    }
   ],
   "source": [
    "for i in range(10):\n",
    "    print(i, next(iter_cycle))"
   ]
  },
  {
   "cell_type": "code",
   "execution_count": null,
   "id": "3a9a333c-3c09-42b3-9d95-390bcfbb8d51",
   "metadata": {},
   "outputs": [],
   "source": []
  }
 ],
 "metadata": {
  "kernelspec": {
   "display_name": "Python 3 (ipykernel)",
   "language": "python",
   "name": "python3"
  },
  "language_info": {
   "codemirror_mode": {
    "name": "ipython",
    "version": 3
   },
   "file_extension": ".py",
   "mimetype": "text/x-python",
   "name": "python",
   "nbconvert_exporter": "python",
   "pygments_lexer": "ipython3",
   "version": "3.12.7"
  }
 },
 "nbformat": 4,
 "nbformat_minor": 5
}
