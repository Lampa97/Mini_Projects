{
 "cells": [
  {
   "cell_type": "code",
   "execution_count": 1,
   "id": "bd8ddd86-abca-43e4-b908-f36c241de9d8",
   "metadata": {},
   "outputs": [],
   "source": [
    "l1 = [1,2,3,4,5]\n",
    "l2 = [1,2,3,4]\n",
    "l3 = [1,2,3]"
   ]
  },
  {
   "cell_type": "code",
   "execution_count": 2,
   "id": "061aba2d-e572-4434-8286-5d522050c623",
   "metadata": {},
   "outputs": [],
   "source": [
    "results = zip(l1, l2, l3)"
   ]
  },
  {
   "cell_type": "code",
   "execution_count": 3,
   "id": "07112ac3-0421-4403-8a2a-765fe4f25c81",
   "metadata": {},
   "outputs": [
    {
     "data": {
      "text/plain": [
       "True"
      ]
     },
     "execution_count": 3,
     "metadata": {},
     "output_type": "execute_result"
    }
   ],
   "source": [
    "iter(results) is results"
   ]
  },
  {
   "cell_type": "code",
   "execution_count": 4,
   "id": "859bbae1-5e7c-4e3c-8089-1652fa5c91b7",
   "metadata": {},
   "outputs": [
    {
     "data": {
      "text/plain": [
       "True"
      ]
     },
     "execution_count": 4,
     "metadata": {},
     "output_type": "execute_result"
    }
   ],
   "source": [
    "'__next__' in dir(results)"
   ]
  },
  {
   "cell_type": "code",
   "execution_count": 5,
   "id": "e6fc02ae-eb77-4279-a337-03f0fbceae6e",
   "metadata": {},
   "outputs": [
    {
     "data": {
      "text/plain": [
       "[(1, 1, 1), (2, 2, 2), (3, 3, 3)]"
      ]
     },
     "execution_count": 5,
     "metadata": {},
     "output_type": "execute_result"
    }
   ],
   "source": [
    "list(results)"
   ]
  },
  {
   "cell_type": "code",
   "execution_count": 9,
   "id": "428e2236-4efd-4cf3-a9bf-0619bb11b007",
   "metadata": {},
   "outputs": [],
   "source": [
    "def integer(n):\n",
    "    for i in range(n):\n",
    "        yield i\n",
    "\n",
    "def squares(n):\n",
    "    for i in range(n):\n",
    "        yield i**2\n",
    "\n",
    "def cubes(n):\n",
    "    for i in range(n):\n",
    "        yield i**3"
   ]
  },
  {
   "cell_type": "code",
   "execution_count": 10,
   "id": "bd0c0f12-ceee-41c9-8cd7-f51a234d5ec0",
   "metadata": {},
   "outputs": [],
   "source": [
    "iter1 = integer(6)\n",
    "iter2 = squares(5)\n",
    "iter3 = cubes(4)"
   ]
  },
  {
   "cell_type": "code",
   "execution_count": 11,
   "id": "1719510f-df96-4c2e-9821-8704652304cd",
   "metadata": {},
   "outputs": [
    {
     "data": {
      "text/plain": [
       "[(0, 0, 0), (1, 1, 1), (2, 4, 8), (3, 9, 27)]"
      ]
     },
     "execution_count": 11,
     "metadata": {},
     "output_type": "execute_result"
    }
   ],
   "source": [
    "list(zip(iter1, iter2, iter3))"
   ]
  },
  {
   "cell_type": "code",
   "execution_count": 12,
   "id": "f8e7b37e-7ec6-4d07-85c0-9487f9b9bbf7",
   "metadata": {},
   "outputs": [],
   "source": [
    "from itertools import zip_longest"
   ]
  },
  {
   "cell_type": "code",
   "execution_count": 13,
   "id": "80e8f72f-6247-4f1e-8f07-41f4f7342189",
   "metadata": {},
   "outputs": [
    {
     "name": "stdout",
     "output_type": "stream",
     "text": [
      "Help on class zip_longest in module itertools:\n",
      "\n",
      "class zip_longest(builtins.object)\n",
      " |  zip_longest(iter1 [,iter2 [...]], [fillvalue=None]) --> zip_longest object\n",
      " |\n",
      " |  Return a zip_longest object whose .__next__() method returns a tuple where\n",
      " |  the i-th element comes from the i-th iterable argument.  The .__next__()\n",
      " |  method continues until the longest iterable in the argument sequence\n",
      " |  is exhausted and then it raises StopIteration.  When the shorter iterables\n",
      " |  are exhausted, the fillvalue is substituted in their place.  The fillvalue\n",
      " |  defaults to None or can be specified by a keyword argument.\n",
      " |\n",
      " |  Methods defined here:\n",
      " |\n",
      " |  __getattribute__(self, name, /)\n",
      " |      Return getattr(self, name).\n",
      " |\n",
      " |  __iter__(self, /)\n",
      " |      Implement iter(self).\n",
      " |\n",
      " |  __next__(self, /)\n",
      " |      Implement next(self).\n",
      " |\n",
      " |  __reduce__(...)\n",
      " |      Return state information for pickling.\n",
      " |\n",
      " |  __setstate__(...)\n",
      " |      Set state information for unpickling.\n",
      " |\n",
      " |  ----------------------------------------------------------------------\n",
      " |  Static methods defined here:\n",
      " |\n",
      " |  __new__(*args, **kwargs)\n",
      " |      Create and return a new object.  See help(type) for accurate signature.\n",
      "\n"
     ]
    }
   ],
   "source": [
    "help(zip_longest)"
   ]
  },
  {
   "cell_type": "code",
   "execution_count": 14,
   "id": "de03630f-46a6-4d63-a8ef-264f88e9f4d5",
   "metadata": {},
   "outputs": [],
   "source": [
    "l1 = [1,2,3,4,5]\n",
    "l2 = [1,2,3,4]\n",
    "l3 = [1,2,3]"
   ]
  },
  {
   "cell_type": "code",
   "execution_count": 16,
   "id": "ed6851af-25ee-483b-950c-85140dbe713b",
   "metadata": {},
   "outputs": [
    {
     "data": {
      "text/plain": [
       "[(1, 1, 1), (2, 2, 2), (3, 3, 3), (4, 4, 'N/A'), (5, 'N/A', 'N/A')]"
      ]
     },
     "execution_count": 16,
     "metadata": {},
     "output_type": "execute_result"
    }
   ],
   "source": [
    "list(zip_longest(l1, l2, l3, fillvalue='N/A'))"
   ]
  },
  {
   "cell_type": "code",
   "execution_count": 17,
   "id": "fdca9420-5a73-4d7b-9410-a110d7730226",
   "metadata": {},
   "outputs": [],
   "source": [
    "def squares():\n",
    "    i = 0\n",
    "    while True:\n",
    "        yield i ** 2\n",
    "        i += 1"
   ]
  },
  {
   "cell_type": "code",
   "execution_count": 18,
   "id": "ce88e701-b48b-40e3-94a8-b51fc237cbd8",
   "metadata": {},
   "outputs": [],
   "source": [
    "def cubes():\n",
    "    i = 0\n",
    "    while True:\n",
    "        yield i **3\n",
    "        i += 1"
   ]
  },
  {
   "cell_type": "code",
   "execution_count": 19,
   "id": "6acd6141-e75c-4b52-9c1b-d5afd1086e6f",
   "metadata": {},
   "outputs": [],
   "source": [
    "iter1 = squares()\n",
    "iter2 = cubes()"
   ]
  },
  {
   "cell_type": "code",
   "execution_count": 20,
   "id": "bc69ccff-e86e-411d-895b-c6e09f21dc39",
   "metadata": {},
   "outputs": [
    {
     "data": {
      "text/plain": [
       "[(0, 0, 0),\n",
       " (1, 1, 1),\n",
       " (2, 4, 8),\n",
       " (3, 9, 27),\n",
       " (4, 16, 64),\n",
       " (5, 25, 125),\n",
       " (6, 36, 216),\n",
       " (7, 49, 343),\n",
       " (8, 64, 512),\n",
       " (9, 81, 729)]"
      ]
     },
     "execution_count": 20,
     "metadata": {},
     "output_type": "execute_result"
    }
   ],
   "source": [
    "list(zip(range(10), iter1, iter2))"
   ]
  },
  {
   "cell_type": "code",
   "execution_count": null,
   "id": "4fd4f2c9-bc70-4460-90d1-96f21312beee",
   "metadata": {},
   "outputs": [],
   "source": []
  }
 ],
 "metadata": {
  "kernelspec": {
   "display_name": "Python 3 (ipykernel)",
   "language": "python",
   "name": "python3"
  },
  "language_info": {
   "codemirror_mode": {
    "name": "ipython",
    "version": 3
   },
   "file_extension": ".py",
   "mimetype": "text/x-python",
   "name": "python",
   "nbconvert_exporter": "python",
   "pygments_lexer": "ipython3",
   "version": "3.12.7"
  }
 },
 "nbformat": 4,
 "nbformat_minor": 5
}
