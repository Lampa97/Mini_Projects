{
 "cells": [
  {
   "cell_type": "code",
   "execution_count": 11,
   "id": "20546d49-4091-428a-85e1-ebc04cdeb3d4",
   "metadata": {},
   "outputs": [],
   "source": [
    "maps = map(lambda x: x**2, range(5))"
   ]
  },
  {
   "cell_type": "code",
   "execution_count": 12,
   "id": "ccb1484a-2d5a-4de3-a728-250ab0249afd",
   "metadata": {},
   "outputs": [
    {
     "data": {
      "text/plain": [
       "map"
      ]
     },
     "execution_count": 12,
     "metadata": {},
     "output_type": "execute_result"
    }
   ],
   "source": [
    "type(maps)"
   ]
  },
  {
   "cell_type": "code",
   "execution_count": 13,
   "id": "c6d4527a-5721-47e5-92dc-ff4891b71ef0",
   "metadata": {},
   "outputs": [
    {
     "data": {
      "text/plain": [
       "True"
      ]
     },
     "execution_count": 13,
     "metadata": {},
     "output_type": "execute_result"
    }
   ],
   "source": [
    "iter(maps) is maps"
   ]
  },
  {
   "cell_type": "code",
   "execution_count": 14,
   "id": "edadd69b-6d49-44e7-b2cb-c9f6ea728c26",
   "metadata": {},
   "outputs": [
    {
     "data": {
      "text/plain": [
       "True"
      ]
     },
     "execution_count": 14,
     "metadata": {},
     "output_type": "execute_result"
    }
   ],
   "source": [
    "'__next__' in dir(maps)"
   ]
  },
  {
   "cell_type": "code",
   "execution_count": 15,
   "id": "1a46c38f-5e39-45d0-9507-598b03bc527e",
   "metadata": {},
   "outputs": [
    {
     "data": {
      "text/plain": [
       "[0, 1, 4, 9, 16]"
      ]
     },
     "execution_count": 15,
     "metadata": {},
     "output_type": "execute_result"
    }
   ],
   "source": [
    "list(maps)"
   ]
  },
  {
   "cell_type": "code",
   "execution_count": 16,
   "id": "65855629-43e8-489e-aec8-e10aa18f6a01",
   "metadata": {},
   "outputs": [],
   "source": [
    "def add(t):\n",
    "    return t[0] + t[1]"
   ]
  },
  {
   "cell_type": "code",
   "execution_count": 17,
   "id": "486e7101-9c4c-4ad5-9215-3bb1373686d7",
   "metadata": {},
   "outputs": [
    {
     "data": {
      "text/plain": [
       "[0, 2, 5]"
      ]
     },
     "execution_count": 17,
     "metadata": {},
     "output_type": "execute_result"
    }
   ],
   "source": [
    "list(map(add, [(0,0), [1,1], range(2,4)]))"
   ]
  },
  {
   "cell_type": "code",
   "execution_count": 18,
   "id": "b9c18b6b-54f6-4023-8675-f13c5416315f",
   "metadata": {},
   "outputs": [],
   "source": [
    "def add(x, y):\n",
    "    return x + y"
   ]
  },
  {
   "cell_type": "code",
   "execution_count": 19,
   "id": "f9edf89d-dd1e-4f07-bc7b-7b16b3f0674a",
   "metadata": {},
   "outputs": [
    {
     "data": {
      "text/plain": [
       "5"
      ]
     },
     "execution_count": 19,
     "metadata": {},
     "output_type": "execute_result"
    }
   ],
   "source": [
    "t = (2,3)\n",
    "add(*t)"
   ]
  },
  {
   "cell_type": "code",
   "execution_count": 20,
   "id": "e7cb043b-5aaf-4faa-a5e9-5f072a7bdd42",
   "metadata": {},
   "outputs": [
    {
     "ename": "TypeError",
     "evalue": "add() missing 1 required positional argument: 'y'",
     "output_type": "error",
     "traceback": [
      "\u001b[1;31m---------------------------------------------------------------------------\u001b[0m",
      "\u001b[1;31mTypeError\u001b[0m                                 Traceback (most recent call last)",
      "Cell \u001b[1;32mIn[20], line 1\u001b[0m\n\u001b[1;32m----> 1\u001b[0m \u001b[38;5;28mlist\u001b[39m(\u001b[38;5;28mmap\u001b[39m(add, [(\u001b[38;5;241m0\u001b[39m,\u001b[38;5;241m0\u001b[39m), [\u001b[38;5;241m1\u001b[39m,\u001b[38;5;241m1\u001b[39m], \u001b[38;5;28mrange\u001b[39m(\u001b[38;5;241m2\u001b[39m,\u001b[38;5;241m4\u001b[39m)]))\n",
      "\u001b[1;31mTypeError\u001b[0m: add() missing 1 required positional argument: 'y'"
     ]
    }
   ],
   "source": [
    "list(map(add, [(0,0), [1,1], range(2,4)]))"
   ]
  },
  {
   "cell_type": "code",
   "execution_count": 22,
   "id": "9c79aa4f-092e-407e-979c-2bbf391a2f8a",
   "metadata": {},
   "outputs": [
    {
     "data": {
      "text/plain": [
       "<generator object <genexpr> at 0x000001E463E5F440>"
      ]
     },
     "execution_count": 22,
     "metadata": {},
     "output_type": "execute_result"
    }
   ],
   "source": [
    "(add(*t) for t in [(0,0), [1,1], range(2,4)])"
   ]
  },
  {
   "cell_type": "code",
   "execution_count": 23,
   "id": "4469b469-1e12-40fd-80c2-5bb6b2b5d058",
   "metadata": {},
   "outputs": [],
   "source": [
    "from itertools import starmap"
   ]
  },
  {
   "cell_type": "code",
   "execution_count": 24,
   "id": "357740b0-ba01-4d1d-9e35-db2d9dd79b2b",
   "metadata": {},
   "outputs": [
    {
     "data": {
      "text/plain": [
       "[0, 2, 5]"
      ]
     },
     "execution_count": 24,
     "metadata": {},
     "output_type": "execute_result"
    }
   ],
   "source": [
    "list(starmap(add, [(0,0), [1,1], range(2,4)]))"
   ]
  },
  {
   "cell_type": "code",
   "execution_count": 25,
   "id": "82597195-10a1-48f4-91e1-d625f276824f",
   "metadata": {},
   "outputs": [
    {
     "data": {
      "text/plain": [
       "60"
      ]
     },
     "execution_count": 25,
     "metadata": {},
     "output_type": "execute_result"
    }
   ],
   "source": [
    "sum([10, 20, 30])"
   ]
  },
  {
   "cell_type": "code",
   "execution_count": 26,
   "id": "0f853696-8497-433f-9952-c14d67a22082",
   "metadata": {},
   "outputs": [
    {
     "data": {
      "text/plain": [
       "60"
      ]
     },
     "execution_count": 26,
     "metadata": {},
     "output_type": "execute_result"
    }
   ],
   "source": [
    "sum(range(10,40, 10))"
   ]
  },
  {
   "cell_type": "code",
   "execution_count": 27,
   "id": "edb94ae1-82c7-46cd-8cbb-4d8c8e263ec0",
   "metadata": {},
   "outputs": [],
   "source": [
    "from functools import reduce"
   ]
  },
  {
   "cell_type": "code",
   "execution_count": 28,
   "id": "1ff556ef-307b-4456-9b56-f2b29d2d9551",
   "metadata": {},
   "outputs": [
    {
     "data": {
      "text/plain": [
       "24"
      ]
     },
     "execution_count": 28,
     "metadata": {},
     "output_type": "execute_result"
    }
   ],
   "source": [
    "reduce(lambda x, y: x*y, [1, 2, 3, 4])"
   ]
  },
  {
   "cell_type": "code",
   "execution_count": 31,
   "id": "5b4f0d88-9463-45cc-bb6b-126a0421d49f",
   "metadata": {},
   "outputs": [
    {
     "data": {
      "text/plain": [
       "240"
      ]
     },
     "execution_count": 31,
     "metadata": {},
     "output_type": "execute_result"
    }
   ],
   "source": [
    "reduce(lambda x, y: x*y, [1, 2, 3, 4], 10)"
   ]
  },
  {
   "cell_type": "code",
   "execution_count": 32,
   "id": "1e159fae-83c4-4248-8d49-cafda3f11f65",
   "metadata": {},
   "outputs": [],
   "source": [
    "def sum_(iterable):\n",
    "    it = iter(iterable)\n",
    "    acc = next(it)\n",
    "    yield acc\n",
    "    for item in it:\n",
    "        acc += item\n",
    "        yield acc"
   ]
  },
  {
   "cell_type": "code",
   "execution_count": 33,
   "id": "966e078b-f53d-4542-9de7-5c1f41414633",
   "metadata": {},
   "outputs": [
    {
     "name": "stdout",
     "output_type": "stream",
     "text": [
      "10\n",
      "30\n",
      "60\n"
     ]
    }
   ],
   "source": [
    "for item in sum_([10, 20, 30]):\n",
    "    print(item)"
   ]
  },
  {
   "cell_type": "code",
   "execution_count": 34,
   "id": "c779fc60-48c4-413f-abb9-10f8dbfb6dd1",
   "metadata": {},
   "outputs": [],
   "source": [
    "def running_reduce(fn, iterable, start=None):\n",
    "    it = iter(iterable)\n",
    "    if start is None:\n",
    "        acc = next(it)\n",
    "    else:\n",
    "        acc = start\n",
    "    yield acc\n",
    "\n",
    "    for item in it:\n",
    "        acc = fn(acc, item)\n",
    "        yield acc"
   ]
  },
  {
   "cell_type": "code",
   "execution_count": 35,
   "id": "9ced0fc6-8aa8-48c8-b444-6b755c14a7f2",
   "metadata": {},
   "outputs": [
    {
     "data": {
      "text/plain": [
       "[10, 30, 60]"
      ]
     },
     "execution_count": 35,
     "metadata": {},
     "output_type": "execute_result"
    }
   ],
   "source": [
    "list(running_reduce(lambda x, y: x+y, [10, 20, 30]))"
   ]
  },
  {
   "cell_type": "code",
   "execution_count": 36,
   "id": "04014995-4d54-4e49-b749-c92dbfec0c7a",
   "metadata": {},
   "outputs": [],
   "source": [
    "import operator"
   ]
  },
  {
   "cell_type": "code",
   "execution_count": 37,
   "id": "0bb374c4-fd62-4a6a-bafb-52ddb4aa445a",
   "metadata": {},
   "outputs": [
    {
     "data": {
      "text/plain": [
       "[10, 30, 60]"
      ]
     },
     "execution_count": 37,
     "metadata": {},
     "output_type": "execute_result"
    }
   ],
   "source": [
    "list(running_reduce(operator.add, [10, 20, 30]))"
   ]
  },
  {
   "cell_type": "code",
   "execution_count": 38,
   "id": "94d187a8-ea1a-432e-af8b-ed3b385f9574",
   "metadata": {},
   "outputs": [
    {
     "data": {
      "text/plain": [
       "[10, 200, 6000]"
      ]
     },
     "execution_count": 38,
     "metadata": {},
     "output_type": "execute_result"
    }
   ],
   "source": [
    "list(running_reduce(operator.mul, [10, 20, 30]))"
   ]
  },
  {
   "cell_type": "code",
   "execution_count": 39,
   "id": "b9a5fd9f-2553-4a86-ab26-75d741513ebc",
   "metadata": {},
   "outputs": [
    {
     "data": {
      "text/plain": [
       "[10, 100, 2000, 60000]"
      ]
     },
     "execution_count": 39,
     "metadata": {},
     "output_type": "execute_result"
    }
   ],
   "source": [
    "list(running_reduce(operator.mul, [10, 20, 30], 10))"
   ]
  },
  {
   "cell_type": "code",
   "execution_count": 40,
   "id": "5071b2a5-9089-456a-b143-6dc12d9233c3",
   "metadata": {},
   "outputs": [],
   "source": [
    "from itertools import accumulate"
   ]
  },
  {
   "cell_type": "code",
   "execution_count": 41,
   "id": "f0f4038c-e83a-4d2e-a850-b32ab9d6a40f",
   "metadata": {},
   "outputs": [
    {
     "data": {
      "text/plain": [
       "[10, 30, 60]"
      ]
     },
     "execution_count": 41,
     "metadata": {},
     "output_type": "execute_result"
    }
   ],
   "source": [
    "list(accumulate([10, 20, 30]))"
   ]
  },
  {
   "cell_type": "code",
   "execution_count": 42,
   "id": "1a7a8dc0-0a29-4c80-95ae-944f5f978f9c",
   "metadata": {},
   "outputs": [
    {
     "data": {
      "text/plain": [
       "[1, 2, 6, 24]"
      ]
     },
     "execution_count": 42,
     "metadata": {},
     "output_type": "execute_result"
    }
   ],
   "source": [
    "list(accumulate([1,2,3,4], operator.mul))"
   ]
  },
  {
   "cell_type": "code",
   "execution_count": 43,
   "id": "1550493d-ba72-4c6c-87a5-6837c02b278a",
   "metadata": {},
   "outputs": [],
   "source": [
    "from itertools import chain"
   ]
  },
  {
   "cell_type": "code",
   "execution_count": 44,
   "id": "9e5b1757-7d21-43c7-b820-23c35c708ca2",
   "metadata": {},
   "outputs": [
    {
     "data": {
      "text/plain": [
       "[10, 1, 2, 3, 4]"
      ]
     },
     "execution_count": 44,
     "metadata": {},
     "output_type": "execute_result"
    }
   ],
   "source": [
    "list(chain([10], [1,2,3,4]))"
   ]
  },
  {
   "cell_type": "code",
   "execution_count": 45,
   "id": "38f68389-981b-425c-9d3f-2f5437b8e00e",
   "metadata": {},
   "outputs": [
    {
     "data": {
      "text/plain": [
       "[10, 10, 20, 60, 240]"
      ]
     },
     "execution_count": 45,
     "metadata": {},
     "output_type": "execute_result"
    }
   ],
   "source": [
    "list(accumulate(chain((10,), [1,2,3,4]), operator.mul))"
   ]
  },
  {
   "cell_type": "code",
   "execution_count": null,
   "id": "56058083-2011-4615-b5d6-18ded4b157a6",
   "metadata": {},
   "outputs": [],
   "source": []
  }
 ],
 "metadata": {
  "kernelspec": {
   "display_name": "Python 3 (ipykernel)",
   "language": "python",
   "name": "python3"
  },
  "language_info": {
   "codemirror_mode": {
    "name": "ipython",
    "version": 3
   },
   "file_extension": ".py",
   "mimetype": "text/x-python",
   "name": "python",
   "nbconvert_exporter": "python",
   "pygments_lexer": "ipython3",
   "version": "3.12.7"
  }
 },
 "nbformat": 4,
 "nbformat_minor": 5
}
