{
 "cells": [
  {
   "cell_type": "code",
   "execution_count": 2,
   "id": "a551d939-87ec-46dd-8749-30dc437c89a6",
   "metadata": {},
   "outputs": [],
   "source": [
    "def squares(n):\n",
    "    for i in range(n):\n",
    "        yield i**2"
   ]
  },
  {
   "cell_type": "code",
   "execution_count": 3,
   "id": "98b37f77-cc7d-4f93-95ea-35c89af68f3f",
   "metadata": {},
   "outputs": [
    {
     "data": {
      "text/plain": [
       "[0, 1, 4, 9, 16]"
      ]
     },
     "execution_count": 3,
     "metadata": {},
     "output_type": "execute_result"
    }
   ],
   "source": [
    "list(squares(5))"
   ]
  },
  {
   "cell_type": "code",
   "execution_count": 4,
   "id": "a267cf37-ce9f-4ac6-939e-f85d140a5cac",
   "metadata": {},
   "outputs": [
    {
     "data": {
      "text/plain": [
       "0"
      ]
     },
     "execution_count": 4,
     "metadata": {},
     "output_type": "execute_result"
    }
   ],
   "source": [
    "min(squares(5))"
   ]
  },
  {
   "cell_type": "code",
   "execution_count": 5,
   "id": "cdc3407f-3aeb-4df9-932b-f8d4fe6dec31",
   "metadata": {},
   "outputs": [
    {
     "data": {
      "text/plain": [
       "16"
      ]
     },
     "execution_count": 5,
     "metadata": {},
     "output_type": "execute_result"
    }
   ],
   "source": [
    "max(squares(5))"
   ]
  },
  {
   "cell_type": "code",
   "execution_count": 6,
   "id": "8f5ed9d4-56f9-4126-9a18-e2fd1fea8036",
   "metadata": {},
   "outputs": [
    {
     "data": {
      "text/plain": [
       "False"
      ]
     },
     "execution_count": 6,
     "metadata": {},
     "output_type": "execute_result"
    }
   ],
   "source": [
    "all(squares(5))"
   ]
  },
  {
   "cell_type": "code",
   "execution_count": 7,
   "id": "538c5b45-deb4-45a2-b507-c7bc9b1419e3",
   "metadata": {},
   "outputs": [
    {
     "data": {
      "text/plain": [
       "True"
      ]
     },
     "execution_count": 7,
     "metadata": {},
     "output_type": "execute_result"
    }
   ],
   "source": [
    "any(squares(5))"
   ]
  },
  {
   "cell_type": "code",
   "execution_count": 8,
   "id": "467fe112-43e6-4291-bd29-9b5ba737fe89",
   "metadata": {},
   "outputs": [
    {
     "data": {
      "text/plain": [
       "30"
      ]
     },
     "execution_count": 8,
     "metadata": {},
     "output_type": "execute_result"
    }
   ],
   "source": [
    "sum(squares(5))"
   ]
  },
  {
   "cell_type": "code",
   "execution_count": 9,
   "id": "f661ff0c-fbad-40cb-9fe7-b51b3ecbda6c",
   "metadata": {},
   "outputs": [],
   "source": [
    "sq = squares(5)"
   ]
  },
  {
   "cell_type": "code",
   "execution_count": 10,
   "id": "0dfb0251-aa3a-4adc-a020-b06ede09b6c5",
   "metadata": {},
   "outputs": [
    {
     "data": {
      "text/plain": [
       "0"
      ]
     },
     "execution_count": 10,
     "metadata": {},
     "output_type": "execute_result"
    }
   ],
   "source": [
    "min(sq)"
   ]
  },
  {
   "cell_type": "code",
   "execution_count": 11,
   "id": "ef9ad7cf-43ef-4a36-8dba-1169001bbb02",
   "metadata": {},
   "outputs": [
    {
     "ename": "ValueError",
     "evalue": "max() iterable argument is empty",
     "output_type": "error",
     "traceback": [
      "\u001b[1;31m---------------------------------------------------------------------------\u001b[0m",
      "\u001b[1;31mValueError\u001b[0m                                Traceback (most recent call last)",
      "Cell \u001b[1;32mIn[11], line 1\u001b[0m\n\u001b[1;32m----> 1\u001b[0m \u001b[38;5;28mmax\u001b[39m(sq)\n",
      "\u001b[1;31mValueError\u001b[0m: max() iterable argument is empty"
     ]
    }
   ],
   "source": [
    "max(sq)"
   ]
  },
  {
   "cell_type": "code",
   "execution_count": 12,
   "id": "4713d936-bfec-46b1-b757-3aa25677ba84",
   "metadata": {},
   "outputs": [
    {
     "ename": "StopIteration",
     "evalue": "",
     "output_type": "error",
     "traceback": [
      "\u001b[1;31m---------------------------------------------------------------------------\u001b[0m",
      "\u001b[1;31mStopIteration\u001b[0m                             Traceback (most recent call last)",
      "Cell \u001b[1;32mIn[12], line 1\u001b[0m\n\u001b[1;32m----> 1\u001b[0m \u001b[38;5;28mnext\u001b[39m(sq)\n",
      "\u001b[1;31mStopIteration\u001b[0m: "
     ]
    }
   ],
   "source": [
    "next(sq)"
   ]
  },
  {
   "cell_type": "code",
   "execution_count": 13,
   "id": "5c59af2c-f9a7-47f9-b08d-6d3bfc990fd9",
   "metadata": {},
   "outputs": [
    {
     "data": {
      "text/plain": [
       "True"
      ]
     },
     "execution_count": 13,
     "metadata": {},
     "output_type": "execute_result"
    }
   ],
   "source": [
    "bool(10)"
   ]
  },
  {
   "cell_type": "code",
   "execution_count": 14,
   "id": "dc6486b1-3dc4-432d-8cf1-41314cbd95ec",
   "metadata": {},
   "outputs": [
    {
     "data": {
      "text/plain": [
       "False"
      ]
     },
     "execution_count": 14,
     "metadata": {},
     "output_type": "execute_result"
    }
   ],
   "source": [
    "bool(0)"
   ]
  },
  {
   "cell_type": "code",
   "execution_count": 15,
   "id": "03d740a5-2e3b-4f91-8aa1-53adf0e4dd0c",
   "metadata": {},
   "outputs": [
    {
     "data": {
      "text/plain": [
       "True"
      ]
     },
     "execution_count": 15,
     "metadata": {},
     "output_type": "execute_result"
    }
   ],
   "source": [
    "bool([0])"
   ]
  },
  {
   "cell_type": "code",
   "execution_count": 16,
   "id": "82a79bb0-ec4a-46e2-8ad9-9dcf10557ae2",
   "metadata": {},
   "outputs": [
    {
     "data": {
      "text/plain": [
       "False"
      ]
     },
     "execution_count": 16,
     "metadata": {},
     "output_type": "execute_result"
    }
   ],
   "source": [
    "bool(0+0j)"
   ]
  },
  {
   "cell_type": "code",
   "execution_count": 17,
   "id": "6e3edaf5-8d80-4add-aa6b-b52c0b7c813f",
   "metadata": {},
   "outputs": [
    {
     "data": {
      "text/plain": [
       "False"
      ]
     },
     "execution_count": 17,
     "metadata": {},
     "output_type": "execute_result"
    }
   ],
   "source": [
    "bool([0][0])"
   ]
  },
  {
   "cell_type": "code",
   "execution_count": 18,
   "id": "a84eff2e-3cce-433c-9580-569ebf4ddfd9",
   "metadata": {},
   "outputs": [
    {
     "data": {
      "text/plain": [
       "False"
      ]
     },
     "execution_count": 18,
     "metadata": {},
     "output_type": "execute_result"
    }
   ],
   "source": [
    "bool([])"
   ]
  },
  {
   "cell_type": "code",
   "execution_count": 19,
   "id": "a284dd93-e7d5-4f36-8581-5c49269ddc84",
   "metadata": {},
   "outputs": [
    {
     "data": {
      "text/plain": [
       "True"
      ]
     },
     "execution_count": 19,
     "metadata": {},
     "output_type": "execute_result"
    }
   ],
   "source": [
    "bool([None])"
   ]
  },
  {
   "cell_type": "code",
   "execution_count": 20,
   "id": "a28bd1a4-cf74-4985-894b-b13ea342ad84",
   "metadata": {},
   "outputs": [],
   "source": [
    "sq = squares(50)"
   ]
  },
  {
   "cell_type": "code",
   "execution_count": 21,
   "id": "db8520f4-dbbd-4d7f-9404-1597f7bbe27a",
   "metadata": {},
   "outputs": [
    {
     "data": {
      "text/plain": [
       "0"
      ]
     },
     "execution_count": 21,
     "metadata": {},
     "output_type": "execute_result"
    }
   ],
   "source": [
    "min(sq)"
   ]
  },
  {
   "cell_type": "code",
   "execution_count": 22,
   "id": "e10b8cf8-8fff-4390-9629-602415f41d34",
   "metadata": {},
   "outputs": [
    {
     "ename": "StopIteration",
     "evalue": "",
     "output_type": "error",
     "traceback": [
      "\u001b[1;31m---------------------------------------------------------------------------\u001b[0m",
      "\u001b[1;31mStopIteration\u001b[0m                             Traceback (most recent call last)",
      "Cell \u001b[1;32mIn[22], line 1\u001b[0m\n\u001b[1;32m----> 1\u001b[0m \u001b[38;5;28mnext\u001b[39m(sq)\n",
      "\u001b[1;31mStopIteration\u001b[0m: "
     ]
    }
   ],
   "source": [
    "next(sq)"
   ]
  },
  {
   "cell_type": "code",
   "execution_count": 23,
   "id": "e364b1e6-a4a2-47f6-8fe8-a6eaa1ad6c9a",
   "metadata": {},
   "outputs": [
    {
     "data": {
      "text/plain": [
       "True"
      ]
     },
     "execution_count": 23,
     "metadata": {},
     "output_type": "execute_result"
    }
   ],
   "source": [
    "bool(sq)"
   ]
  },
  {
   "cell_type": "code",
   "execution_count": 24,
   "id": "ece2ce16-d649-4210-86eb-e63254924401",
   "metadata": {},
   "outputs": [],
   "source": [
    "class Person:\n",
    "    pass"
   ]
  },
  {
   "cell_type": "code",
   "execution_count": 25,
   "id": "a6a0e017-d578-4eb2-b127-d1e5828c07e8",
   "metadata": {},
   "outputs": [],
   "source": [
    "p = Person()"
   ]
  },
  {
   "cell_type": "code",
   "execution_count": 26,
   "id": "ca9657ca-cea1-40d5-ab98-7579558ae7c0",
   "metadata": {},
   "outputs": [
    {
     "data": {
      "text/plain": [
       "True"
      ]
     },
     "execution_count": 26,
     "metadata": {},
     "output_type": "execute_result"
    }
   ],
   "source": [
    "bool(p)"
   ]
  },
  {
   "cell_type": "code",
   "execution_count": 27,
   "id": "5d3aad33-5ee9-46b9-bb7a-5c8c9fd2bc5f",
   "metadata": {},
   "outputs": [],
   "source": [
    "class Person:\n",
    "\n",
    "    def __bool__(self):\n",
    "        return False"
   ]
  },
  {
   "cell_type": "code",
   "execution_count": 28,
   "id": "7ae0ece3-ff26-4411-9e3f-4617221099a3",
   "metadata": {},
   "outputs": [],
   "source": [
    "p = Person()"
   ]
  },
  {
   "cell_type": "code",
   "execution_count": 29,
   "id": "135e6f28-10c1-41b6-90c6-4937b34367cf",
   "metadata": {},
   "outputs": [
    {
     "data": {
      "text/plain": [
       "False"
      ]
     },
     "execution_count": 29,
     "metadata": {},
     "output_type": "execute_result"
    }
   ],
   "source": [
    "bool(p)"
   ]
  },
  {
   "cell_type": "code",
   "execution_count": 30,
   "id": "4d0b984b-ed66-45c8-b6f1-cbf1fd172be9",
   "metadata": {},
   "outputs": [],
   "source": [
    "class Person:\n",
    "    def __len__(self):\n",
    "        return 0"
   ]
  },
  {
   "cell_type": "code",
   "execution_count": 31,
   "id": "ae92c1cb-489e-4bee-a698-71dc505a976b",
   "metadata": {},
   "outputs": [],
   "source": [
    "p = Person()"
   ]
  },
  {
   "cell_type": "code",
   "execution_count": 32,
   "id": "8216102d-3804-49d2-907e-57a27c46858d",
   "metadata": {},
   "outputs": [
    {
     "data": {
      "text/plain": [
       "False"
      ]
     },
     "execution_count": 32,
     "metadata": {},
     "output_type": "execute_result"
    }
   ],
   "source": [
    "bool(p)"
   ]
  },
  {
   "cell_type": "code",
   "execution_count": 33,
   "id": "7a999c15-4cd0-4532-9d54-9a9600a4e6a6",
   "metadata": {},
   "outputs": [],
   "source": [
    "class Person:\n",
    "    def __bool__(self):\n",
    "        return True\n",
    "\n",
    "    def __len__(self):\n",
    "        return 0\n"
   ]
  },
  {
   "cell_type": "code",
   "execution_count": 35,
   "id": "6a7e533b-2bb9-4a11-88bd-1449450e4b48",
   "metadata": {},
   "outputs": [
    {
     "data": {
      "text/plain": [
       "True"
      ]
     },
     "execution_count": 35,
     "metadata": {},
     "output_type": "execute_result"
    }
   ],
   "source": [
    "p = Person()\n",
    "bool(p)"
   ]
  },
  {
   "cell_type": "code",
   "execution_count": 36,
   "id": "4c49c613-8887-4661-9154-6eeebdbbd44b",
   "metadata": {},
   "outputs": [],
   "source": [
    "class MySequence:\n",
    "    def __init__(self, n):\n",
    "        self.n = n\n",
    "\n",
    "    def __len__(self):\n",
    "        return self.n\n",
    "\n",
    "    def __getitem__(self):\n",
    "        pass"
   ]
  },
  {
   "cell_type": "code",
   "execution_count": 37,
   "id": "b36db335-604a-4a14-928b-7ee2ee1b31ec",
   "metadata": {},
   "outputs": [],
   "source": [
    "my_seq = MySequence(0)"
   ]
  },
  {
   "cell_type": "code",
   "execution_count": 38,
   "id": "11f2434e-f22c-4c77-8db8-fb9393cb4829",
   "metadata": {},
   "outputs": [
    {
     "data": {
      "text/plain": [
       "False"
      ]
     },
     "execution_count": 38,
     "metadata": {},
     "output_type": "execute_result"
    }
   ],
   "source": [
    "bool(my_seq)"
   ]
  },
  {
   "cell_type": "code",
   "execution_count": 40,
   "id": "fa0cad9a-3811-49f1-9d29-7fef1b9bffca",
   "metadata": {},
   "outputs": [],
   "source": [
    "my_seq = MySequence(10)"
   ]
  },
  {
   "cell_type": "code",
   "execution_count": 41,
   "id": "2765f605-2e94-44b7-8165-0164edb419d8",
   "metadata": {},
   "outputs": [
    {
     "data": {
      "text/plain": [
       "True"
      ]
     },
     "execution_count": 41,
     "metadata": {},
     "output_type": "execute_result"
    }
   ],
   "source": [
    "bool(my_seq)"
   ]
  },
  {
   "cell_type": "code",
   "execution_count": 42,
   "id": "a0fec5b5-9100-4efd-a812-bb989e90fc73",
   "metadata": {},
   "outputs": [
    {
     "data": {
      "text/plain": [
       "False"
      ]
     },
     "execution_count": 42,
     "metadata": {},
     "output_type": "execute_result"
    }
   ],
   "source": [
    "any([0, '', None])"
   ]
  },
  {
   "cell_type": "code",
   "execution_count": 43,
   "id": "631e296f-e276-4811-9272-2bfa48ca5480",
   "metadata": {},
   "outputs": [
    {
     "data": {
      "text/plain": [
       "True"
      ]
     },
     "execution_count": 43,
     "metadata": {},
     "output_type": "execute_result"
    }
   ],
   "source": [
    "any([0, '', None, (10, 20)])"
   ]
  },
  {
   "cell_type": "code",
   "execution_count": 44,
   "id": "983fa8fe-bf31-42c0-a870-348d7b7cbbc0",
   "metadata": {},
   "outputs": [
    {
     "data": {
      "text/plain": [
       "True"
      ]
     },
     "execution_count": 44,
     "metadata": {},
     "output_type": "execute_result"
    }
   ],
   "source": [
    "all([10, 'hello'])"
   ]
  },
  {
   "cell_type": "code",
   "execution_count": 45,
   "id": "38e33222-ded0-479d-ab7a-05c315a107e7",
   "metadata": {},
   "outputs": [
    {
     "data": {
      "text/plain": [
       "False"
      ]
     },
     "execution_count": 45,
     "metadata": {},
     "output_type": "execute_result"
    }
   ],
   "source": [
    "all([10, 'hello', None])"
   ]
  },
  {
   "cell_type": "markdown",
   "id": "dc7458fd-7bda-4ff7-a27b-2a7b8416a4d5",
   "metadata": {},
   "source": [
    "#### Example1"
   ]
  },
  {
   "cell_type": "code",
   "execution_count": 46,
   "id": "ce9bd97f-5aa3-4424-bb25-2d589ff8d45a",
   "metadata": {},
   "outputs": [],
   "source": [
    "from numbers import Number"
   ]
  },
  {
   "cell_type": "code",
   "execution_count": 47,
   "id": "33b392a8-97be-40ba-ad9f-1563ee90d0ab",
   "metadata": {},
   "outputs": [
    {
     "data": {
      "text/plain": [
       "True"
      ]
     },
     "execution_count": 47,
     "metadata": {},
     "output_type": "execute_result"
    }
   ],
   "source": [
    "isinstance(10 ,Number)"
   ]
  },
  {
   "cell_type": "code",
   "execution_count": 48,
   "id": "be72b449-f3c9-4f6b-a1a7-e36276e9d875",
   "metadata": {},
   "outputs": [
    {
     "data": {
      "text/plain": [
       "True"
      ]
     },
     "execution_count": 48,
     "metadata": {},
     "output_type": "execute_result"
    }
   ],
   "source": [
    "isinstance(10.5, Number)"
   ]
  },
  {
   "cell_type": "code",
   "execution_count": 49,
   "id": "341ba768-78fd-4451-ac5a-0319704d29c1",
   "metadata": {},
   "outputs": [
    {
     "data": {
      "text/plain": [
       "True"
      ]
     },
     "execution_count": 49,
     "metadata": {},
     "output_type": "execute_result"
    }
   ],
   "source": [
    "isinstance(10+3j, Number)"
   ]
  },
  {
   "cell_type": "code",
   "execution_count": 50,
   "id": "c030107d-b5ff-4902-9de3-650e9a479ffd",
   "metadata": {},
   "outputs": [],
   "source": [
    "from decimal import Decimal"
   ]
  },
  {
   "cell_type": "code",
   "execution_count": 55,
   "id": "92ac4e2a-9929-4498-ad6a-bbd030dc73c8",
   "metadata": {},
   "outputs": [
    {
     "data": {
      "text/plain": [
       "True"
      ]
     },
     "execution_count": 55,
     "metadata": {},
     "output_type": "execute_result"
    }
   ],
   "source": [
    "isinstance(Decimal('10.5'), Number)"
   ]
  },
  {
   "cell_type": "code",
   "execution_count": 56,
   "id": "d925af27-cb44-4574-8e5e-494ccc4b9e3e",
   "metadata": {},
   "outputs": [
    {
     "data": {
      "text/plain": [
       "False"
      ]
     },
     "execution_count": 56,
     "metadata": {},
     "output_type": "execute_result"
    }
   ],
   "source": [
    "isinstance('100.5', Number)"
   ]
  },
  {
   "cell_type": "code",
   "execution_count": 57,
   "id": "b5fc3dd3-c062-4c21-ac53-3b8e59220b13",
   "metadata": {},
   "outputs": [
    {
     "data": {
      "text/plain": [
       "False"
      ]
     },
     "execution_count": 57,
     "metadata": {},
     "output_type": "execute_result"
    }
   ],
   "source": [
    "isinstance([10, 20], Number)"
   ]
  },
  {
   "cell_type": "code",
   "execution_count": 60,
   "id": "2b6bafc1-7b69-44d7-880a-fcc7dc43558f",
   "metadata": {},
   "outputs": [],
   "source": [
    "l = [10, 20, 30, 40, 'hello']\n",
    "\n",
    "is_all_numbers = True\n",
    "for item in l:\n",
    "    if not isinstance(item, Number):\n",
    "        is_all_numbers = False\n",
    "        break"
   ]
  },
  {
   "cell_type": "code",
   "execution_count": 61,
   "id": "50dd7329-5861-4ccd-bb1d-b8ffa3abba45",
   "metadata": {},
   "outputs": [
    {
     "data": {
      "text/plain": [
       "False"
      ]
     },
     "execution_count": 61,
     "metadata": {},
     "output_type": "execute_result"
    }
   ],
   "source": [
    "is_all_numbers"
   ]
  },
  {
   "cell_type": "code",
   "execution_count": 64,
   "id": "69e18b63-3d2d-4b1b-a761-caa6b086ac41",
   "metadata": {},
   "outputs": [],
   "source": [
    "l = [10, 20, 30, 40, 0]"
   ]
  },
  {
   "cell_type": "code",
   "execution_count": 65,
   "id": "ace86641-c4ca-4ea3-9ab1-0cb046e5e30a",
   "metadata": {},
   "outputs": [
    {
     "data": {
      "text/plain": [
       "False"
      ]
     },
     "execution_count": 65,
     "metadata": {},
     "output_type": "execute_result"
    }
   ],
   "source": [
    "all(l)"
   ]
  },
  {
   "cell_type": "code",
   "execution_count": 66,
   "id": "68e78370-1653-49d3-8220-2f7d1cd52a29",
   "metadata": {},
   "outputs": [],
   "source": [
    "def is_numeric(v):\n",
    "    return isinstance(v, Number)"
   ]
  },
  {
   "cell_type": "code",
   "execution_count": 68,
   "id": "8427ee1e-f79d-4183-8d55-691d43b82596",
   "metadata": {},
   "outputs": [
    {
     "name": "stdout",
     "output_type": "stream",
     "text": [
      "[True, True, True, True, True]\n",
      "[True, True, True, True, True]\n"
     ]
    }
   ],
   "source": [
    "pred_l = map(is_numeric, l)\n",
    "print(list(pred_l))\n",
    "pred_l = (is_numeric(item) for item in l)\n",
    "print(list(pred_l))"
   ]
  },
  {
   "cell_type": "code",
   "execution_count": 69,
   "id": "bec4f03f-b458-45c1-a932-0554f6833b3d",
   "metadata": {},
   "outputs": [
    {
     "name": "stdout",
     "output_type": "stream",
     "text": [
      "[True, True, True, True, True]\n"
     ]
    }
   ],
   "source": [
    "pred_l = map(lambda x: isinstance(x, Number), l)\n",
    "print(list(pred_l))"
   ]
  },
  {
   "cell_type": "code",
   "execution_count": 70,
   "id": "228933d4-4a2c-476c-bdbd-c74f8742d9ec",
   "metadata": {},
   "outputs": [
    {
     "data": {
      "text/plain": [
       "True"
      ]
     },
     "execution_count": 70,
     "metadata": {},
     "output_type": "execute_result"
    }
   ],
   "source": [
    "all(pred_l)"
   ]
  },
  {
   "cell_type": "code",
   "execution_count": 71,
   "id": "1947945f-b7cf-488f-9e2b-d57f4e885be3",
   "metadata": {},
   "outputs": [
    {
     "data": {
      "text/plain": [
       "False"
      ]
     },
     "execution_count": 71,
     "metadata": {},
     "output_type": "execute_result"
    }
   ],
   "source": [
    "l = [10, 20, 30, 0, 'hello']\n",
    "all(map(lambda x: isinstance(x, Number), l))"
   ]
  },
  {
   "cell_type": "markdown",
   "id": "96ba9bfc-e083-4823-8c8b-3728f52857e8",
   "metadata": {},
   "source": [
    "#### Example 2"
   ]
  },
  {
   "cell_type": "code",
   "execution_count": 72,
   "id": "bbcac3fd-c384-42ae-8369-ffcde8dfe8ea",
   "metadata": {},
   "outputs": [
    {
     "name": "stdout",
     "output_type": "stream",
     "text": [
      "11 Alfa Romeo\n",
      "13 Aston Martin\n",
      "5 Audi\n",
      "8 Bentley\n",
      "5 Benz\n",
      "4 BMW\n",
      "8 Bugatti\n",
      "9 Cadillac\n",
      "10 Chevrolet\n",
      "9 Chrysler\n",
      "8 Citroen\n",
      "9 Corvette\n",
      "4 DAF\n",
      "6 Dacia\n",
      "7 Daewoo\n",
      "9 Daihatsu\n",
      "7 Datsun\n",
      "10 De Lorean\n",
      "5 Dino\n",
      "5 Dodge"
     ]
    }
   ],
   "source": [
    "with open('car-brands.txt') as f:\n",
    "    for row in f:\n",
    "        print(len(row), row, end='')"
   ]
  },
  {
   "cell_type": "code",
   "execution_count": 73,
   "id": "fe19bf76-df38-4aa1-8228-e11a2ff940f9",
   "metadata": {},
   "outputs": [
    {
     "name": "stdout",
     "output_type": "stream",
     "text": [
      "True\n"
     ]
    }
   ],
   "source": [
    "with open('car-brands.txt') as f:\n",
    "    result = all(map(lambda row: len(row) >= 4, f))\n",
    "print(result)"
   ]
  },
  {
   "cell_type": "code",
   "execution_count": 74,
   "id": "d10fcb05-522b-482a-b8e2-1f52353dfabe",
   "metadata": {},
   "outputs": [
    {
     "name": "stdout",
     "output_type": "stream",
     "text": [
      "True\n"
     ]
    }
   ],
   "source": [
    "with open('car-brands.txt') as f:\n",
    "    result = any(map(lambda row: len(row) > 10, f))\n",
    "print(result)"
   ]
  },
  {
   "cell_type": "code",
   "execution_count": 75,
   "id": "607f4e1c-5947-4d47-8e1e-17d206588d60",
   "metadata": {},
   "outputs": [
    {
     "name": "stdout",
     "output_type": "stream",
     "text": [
      "False\n"
     ]
    }
   ],
   "source": [
    "with open('car-brands.txt') as f:\n",
    "    result = any(map(lambda row: len(row) > 13, f))\n",
    "print(result)"
   ]
  },
  {
   "cell_type": "code",
   "execution_count": 77,
   "id": "1876992c-b8eb-434c-8e1a-7fe0de31db5d",
   "metadata": {},
   "outputs": [
    {
     "name": "stdout",
     "output_type": "stream",
     "text": [
      "True\n"
     ]
    }
   ],
   "source": [
    "with open('car-brands.txt') as f:\n",
    "    result = all(len(row) >= 4 for row in f)\n",
    "print(result)"
   ]
  },
  {
   "cell_type": "code",
   "execution_count": null,
   "id": "8818a708-8c40-4e4b-9d9a-39d445f9ce1c",
   "metadata": {},
   "outputs": [],
   "source": []
  }
 ],
 "metadata": {
  "kernelspec": {
   "display_name": "Python 3 (ipykernel)",
   "language": "python",
   "name": "python3"
  },
  "language_info": {
   "codemirror_mode": {
    "name": "ipython",
    "version": 3
   },
   "file_extension": ".py",
   "mimetype": "text/x-python",
   "name": "python",
   "nbconvert_exporter": "python",
   "pygments_lexer": "ipython3",
   "version": "3.12.7"
  }
 },
 "nbformat": 4,
 "nbformat_minor": 5
}
