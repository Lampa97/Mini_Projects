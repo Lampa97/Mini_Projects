{
 "cells": [
  {
   "cell_type": "code",
   "execution_count": 3,
   "id": "0d025704-4c94-4467-bc32-73efd48b2100",
   "metadata": {},
   "outputs": [],
   "source": [
    "squares = []\n",
    "for i in range(1, 101):\n",
    "    squares.append(i**2)\n"
   ]
  },
  {
   "cell_type": "code",
   "execution_count": 4,
   "id": "1997441e-3820-4553-b959-9478715c8151",
   "metadata": {},
   "outputs": [
    {
     "data": {
      "text/plain": [
       "[1, 4, 9, 16, 25, 36, 49, 64, 81, 100]"
      ]
     },
     "execution_count": 4,
     "metadata": {},
     "output_type": "execute_result"
    }
   ],
   "source": [
    "squares[0:10]"
   ]
  },
  {
   "cell_type": "code",
   "execution_count": 5,
   "id": "4fa96415-2bf2-4ec2-92f9-02275d8a9274",
   "metadata": {},
   "outputs": [],
   "source": [
    "squares = [i**2 for i in range (1, 101)]"
   ]
  },
  {
   "cell_type": "code",
   "execution_count": 6,
   "id": "5c37fcb6-778b-4862-83aa-29eefe9c6213",
   "metadata": {},
   "outputs": [
    {
     "data": {
      "text/plain": [
       "[1, 4, 9, 16, 25, 36, 49, 64, 81, 100]"
      ]
     },
     "execution_count": 6,
     "metadata": {},
     "output_type": "execute_result"
    }
   ],
   "source": [
    "squares[:10]"
   ]
  },
  {
   "cell_type": "code",
   "execution_count": 7,
   "id": "84d27da0-5bbe-41dd-9ff2-6aa4fc7add3a",
   "metadata": {},
   "outputs": [],
   "source": [
    "squares = []\n",
    "for i in range(1, 101):\n",
    "    if i % 2 == 0:\n",
    "        squares.append(i**2)"
   ]
  },
  {
   "cell_type": "code",
   "execution_count": 8,
   "id": "3fe3dfc7-db31-4f51-8621-ffe6693b7010",
   "metadata": {},
   "outputs": [
    {
     "data": {
      "text/plain": [
       "[4, 16, 36, 64, 100, 144, 196, 256, 324, 400]"
      ]
     },
     "execution_count": 8,
     "metadata": {},
     "output_type": "execute_result"
    }
   ],
   "source": [
    "squares[:10]"
   ]
  },
  {
   "cell_type": "code",
   "execution_count": 9,
   "id": "b31fb776-0f3e-4695-a9d8-c57f67b5aec1",
   "metadata": {},
   "outputs": [],
   "source": [
    "squares = [i**2 for i in range(1, 101) if i % 2 == 0]"
   ]
  },
  {
   "cell_type": "code",
   "execution_count": 10,
   "id": "7bf28702-6782-47d3-abc9-5e61931951d2",
   "metadata": {},
   "outputs": [
    {
     "data": {
      "text/plain": [
       "[4, 16, 36, 64, 100, 144, 196, 256, 324, 400]"
      ]
     },
     "execution_count": 10,
     "metadata": {},
     "output_type": "execute_result"
    }
   ],
   "source": [
    "squares[:10]"
   ]
  },
  {
   "cell_type": "code",
   "execution_count": 11,
   "id": "b78d6bef-c267-47a5-a46b-01081274db00",
   "metadata": {},
   "outputs": [],
   "source": [
    "squares = [i**2\n",
    "          for i in range (1, 101)\n",
    "          if i % 2 == 0]"
   ]
  },
  {
   "cell_type": "code",
   "execution_count": 12,
   "id": "bc49be3b-d808-4783-b386-74c5bd0f2a44",
   "metadata": {},
   "outputs": [
    {
     "data": {
      "text/plain": [
       "[4, 16, 36, 64, 100, 144, 196, 256, 324, 400]"
      ]
     },
     "execution_count": 12,
     "metadata": {},
     "output_type": "execute_result"
    }
   ],
   "source": [
    "squares[:10]"
   ]
  },
  {
   "cell_type": "code",
   "execution_count": 13,
   "id": "440d47c0-b54e-4aca-9b29-cc299c822207",
   "metadata": {},
   "outputs": [],
   "source": [
    "compiled_code = compile('[i**2 for i in (1,2,3)]', filename='string', mode='eval')"
   ]
  },
  {
   "cell_type": "code",
   "execution_count": 14,
   "id": "426caa9d-0c94-44e9-a96d-ef0afd7d9dbb",
   "metadata": {},
   "outputs": [
    {
     "data": {
      "text/plain": [
       "<code object <module> at 0x00000281371A1430, file \"string\", line 1>"
      ]
     },
     "execution_count": 14,
     "metadata": {},
     "output_type": "execute_result"
    }
   ],
   "source": [
    "compiled_code"
   ]
  },
  {
   "cell_type": "code",
   "execution_count": 15,
   "id": "47f9ac51-0930-4d9f-8c8c-d6f58b7afb25",
   "metadata": {},
   "outputs": [],
   "source": [
    "import dis"
   ]
  },
  {
   "cell_type": "code",
   "execution_count": 16,
   "id": "b6519990-8b62-42f5-bfc1-d1d47f97e008",
   "metadata": {},
   "outputs": [
    {
     "name": "stdout",
     "output_type": "stream",
     "text": [
      "  0           0 RESUME                   0\n",
      "\n",
      "  1           2 LOAD_CONST               0 ((1, 2, 3))\n",
      "              4 GET_ITER\n",
      "              6 LOAD_FAST_AND_CLEAR      0 (i)\n",
      "              8 SWAP                     2\n",
      "             10 BUILD_LIST               0\n",
      "             12 SWAP                     2\n",
      "        >>   14 FOR_ITER                 7 (to 32)\n",
      "             18 STORE_FAST               0 (i)\n",
      "             20 LOAD_FAST                0 (i)\n",
      "             22 LOAD_CONST               1 (2)\n",
      "             24 BINARY_OP                8 (**)\n",
      "             28 LIST_APPEND              2\n",
      "             30 JUMP_BACKWARD            9 (to 14)\n",
      "        >>   32 END_FOR\n",
      "             34 SWAP                     2\n",
      "             36 STORE_FAST               0 (i)\n",
      "             38 RETURN_VALUE\n",
      "        >>   40 SWAP                     2\n",
      "             42 POP_TOP\n",
      "             44 SWAP                     2\n",
      "             46 STORE_FAST               0 (i)\n",
      "             48 RERAISE                  0\n",
      "ExceptionTable:\n",
      "  10 to 32 -> 40 [2]\n"
     ]
    }
   ],
   "source": [
    "dis.dis(compiled_code)"
   ]
  },
  {
   "cell_type": "code",
   "execution_count": 17,
   "id": "e05dedb5-be28-40ad-a910-45b95317284a",
   "metadata": {},
   "outputs": [],
   "source": [
    "table = []\n",
    "for i in range(1, 11):\n",
    "    row = []\n",
    "    for j in range(1, 11):\n",
    "        row.append(i*j)\n",
    "    table.append(row)"
   ]
  },
  {
   "cell_type": "code",
   "execution_count": 18,
   "id": "a16733d4-ea64-40c2-ba78-94d270c76429",
   "metadata": {},
   "outputs": [
    {
     "data": {
      "text/plain": [
       "[[1, 2, 3, 4, 5, 6, 7, 8, 9, 10],\n",
       " [2, 4, 6, 8, 10, 12, 14, 16, 18, 20],\n",
       " [3, 6, 9, 12, 15, 18, 21, 24, 27, 30],\n",
       " [4, 8, 12, 16, 20, 24, 28, 32, 36, 40],\n",
       " [5, 10, 15, 20, 25, 30, 35, 40, 45, 50],\n",
       " [6, 12, 18, 24, 30, 36, 42, 48, 54, 60],\n",
       " [7, 14, 21, 28, 35, 42, 49, 56, 63, 70],\n",
       " [8, 16, 24, 32, 40, 48, 56, 64, 72, 80],\n",
       " [9, 18, 27, 36, 45, 54, 63, 72, 81, 90],\n",
       " [10, 20, 30, 40, 50, 60, 70, 80, 90, 100]]"
      ]
     },
     "execution_count": 18,
     "metadata": {},
     "output_type": "execute_result"
    }
   ],
   "source": [
    "table"
   ]
  },
  {
   "cell_type": "code",
   "execution_count": 19,
   "id": "dd03b0d4-1383-4a74-9079-49ec711618e2",
   "metadata": {},
   "outputs": [],
   "source": [
    "table2 = [\n",
    "    [i * j for j in range(1, 11)]\n",
    "    for i in range(1, 11)\n",
    "]"
   ]
  },
  {
   "cell_type": "code",
   "execution_count": 20,
   "id": "5707a1df-715b-4c4e-a7ca-d7de8a0e4f47",
   "metadata": {},
   "outputs": [
    {
     "data": {
      "text/plain": [
       "[[1, 2, 3, 4, 5, 6, 7, 8, 9, 10],\n",
       " [2, 4, 6, 8, 10, 12, 14, 16, 18, 20],\n",
       " [3, 6, 9, 12, 15, 18, 21, 24, 27, 30],\n",
       " [4, 8, 12, 16, 20, 24, 28, 32, 36, 40],\n",
       " [5, 10, 15, 20, 25, 30, 35, 40, 45, 50],\n",
       " [6, 12, 18, 24, 30, 36, 42, 48, 54, 60],\n",
       " [7, 14, 21, 28, 35, 42, 49, 56, 63, 70],\n",
       " [8, 16, 24, 32, 40, 48, 56, 64, 72, 80],\n",
       " [9, 18, 27, 36, 45, 54, 63, 72, 81, 90],\n",
       " [10, 20, 30, 40, 50, 60, 70, 80, 90, 100]]"
      ]
     },
     "execution_count": 20,
     "metadata": {},
     "output_type": "execute_result"
    }
   ],
   "source": [
    "table2"
   ]
  },
  {
   "cell_type": "markdown",
   "id": "a8725a5b-d3c5-43ee-88ec-94d811e1c565",
   "metadata": {},
   "source": [
    "\"\"\"\n",
    "1\n",
    "1 1\n",
    "1 2 1\n",
    "1 3 3 1\n",
    "1 4 6 4 1\"\"\""
   ]
  },
  {
   "cell_type": "markdown",
   "id": "fd94ab00-963e-4f21-8198-e5690dfae303",
   "metadata": {},
   "source": [
    "C(n, k) = n! / (k! (n-k)!)"
   ]
  },
  {
   "cell_type": "markdown",
   "id": "41482e14-8270-4ebd-a788-a4defa349a16",
   "metadata": {},
   "source": [
    "'''\n",
    "C(0,0)\n",
    "C(1,0) C(1,1)\n",
    "C(2,0) C(2,1) C(2,2)\n",
    "C(3,0) C(3,1) C(3,2) C(3,3)\n",
    "'''"
   ]
  },
  {
   "cell_type": "code",
   "execution_count": 22,
   "id": "751fd3b2-fac1-4d39-91ed-87dd6cf5961a",
   "metadata": {},
   "outputs": [],
   "source": [
    "from math import factorial"
   ]
  },
  {
   "cell_type": "code",
   "execution_count": 23,
   "id": "0a538181-06f2-47bb-8c09-8038d4494b25",
   "metadata": {},
   "outputs": [],
   "source": [
    "def combo(n, k):\n",
    "    return factorial(n) // (factorial(k) * factorial(n-k))"
   ]
  },
  {
   "cell_type": "code",
   "execution_count": 24,
   "id": "0d0caff0-ac4a-4237-b1b3-43b389a9eec5",
   "metadata": {},
   "outputs": [],
   "source": [
    "size = 10"
   ]
  },
  {
   "cell_type": "code",
   "execution_count": 25,
   "id": "3a1c8778-28e8-43df-b00c-d0ef1b3baca8",
   "metadata": {},
   "outputs": [],
   "source": [
    "pascal = [[combo(n,k) for k in range(n+1)] for n in range(size+1)]"
   ]
  },
  {
   "cell_type": "code",
   "execution_count": 27,
   "id": "7f6162b5-beab-4329-aa2c-c4206f078d21",
   "metadata": {},
   "outputs": [
    {
     "data": {
      "text/plain": [
       "[[1],\n",
       " [1, 1],\n",
       " [1, 2, 1],\n",
       " [1, 3, 3, 1],\n",
       " [1, 4, 6, 4, 1],\n",
       " [1, 5, 10, 10, 5, 1],\n",
       " [1, 6, 15, 20, 15, 6, 1],\n",
       " [1, 7, 21, 35, 35, 21, 7, 1],\n",
       " [1, 8, 28, 56, 70, 56, 28, 8, 1],\n",
       " [1, 9, 36, 84, 126, 126, 84, 36, 9, 1],\n",
       " [1, 10, 45, 120, 210, 252, 210, 120, 45, 10, 1]]"
      ]
     },
     "execution_count": 27,
     "metadata": {},
     "output_type": "execute_result"
    }
   ],
   "source": [
    "pascal"
   ]
  },
  {
   "cell_type": "markdown",
   "id": "adb8c499-b048-4ab4-8d85-cc5aa2651373",
   "metadata": {},
   "source": [
    "### Nested Loops"
   ]
  },
  {
   "cell_type": "code",
   "execution_count": 28,
   "id": "f9d291af-3564-4589-b066-88d73a4e4224",
   "metadata": {},
   "outputs": [],
   "source": [
    "l1 = ['a', 'b', 'c']"
   ]
  },
  {
   "cell_type": "code",
   "execution_count": 29,
   "id": "51c36ddd-6e0c-47c7-93ff-8f96f22c7b45",
   "metadata": {},
   "outputs": [],
   "source": [
    "l2 = ['x', 'y', 'z']"
   ]
  },
  {
   "cell_type": "markdown",
   "id": "524d3c3c-8390-43c4-b903-80999274aeb6",
   "metadata": {},
   "source": [
    "'ax', 'ay', 'az', 'bx', 'by', 'bz', 'cx', 'cy', 'cz'"
   ]
  },
  {
   "cell_type": "code",
   "execution_count": 30,
   "id": "823d3162-345a-45c5-b96e-65d3d03f953a",
   "metadata": {},
   "outputs": [],
   "source": [
    "result = []\n",
    "for s1 in l1:\n",
    "    for s2 in l2:\n",
    "        result.append(s1 + s2)"
   ]
  },
  {
   "cell_type": "code",
   "execution_count": 31,
   "id": "c4af41ac-f594-42bb-ba9a-7db0f4c8e3e3",
   "metadata": {},
   "outputs": [
    {
     "data": {
      "text/plain": [
       "['ax', 'ay', 'az', 'bx', 'by', 'bz', 'cx', 'cy', 'cz']"
      ]
     },
     "execution_count": 31,
     "metadata": {},
     "output_type": "execute_result"
    }
   ],
   "source": [
    "result"
   ]
  },
  {
   "cell_type": "code",
   "execution_count": 32,
   "id": "a5f3c946-26dc-4b3b-9bdc-74750c8a8582",
   "metadata": {},
   "outputs": [],
   "source": [
    "result = [ s1 + s2\n",
    "    for s1 in l1\n",
    "    for s2 in l2\n",
    "]"
   ]
  },
  {
   "cell_type": "code",
   "execution_count": 33,
   "id": "946cd009-174f-4ced-86f8-ddd95d7904d4",
   "metadata": {},
   "outputs": [
    {
     "data": {
      "text/plain": [
       "['ax', 'ay', 'az', 'bx', 'by', 'bz', 'cx', 'cy', 'cz']"
      ]
     },
     "execution_count": 33,
     "metadata": {},
     "output_type": "execute_result"
    }
   ],
   "source": [
    "result"
   ]
  },
  {
   "cell_type": "code",
   "execution_count": 34,
   "id": "321a4ab5-d3af-44e1-99f1-645a1af58637",
   "metadata": {},
   "outputs": [],
   "source": [
    "result = [ s1 + s2\n",
    "    for s2 in l2\n",
    "    for s1 in l1\n",
    "]"
   ]
  },
  {
   "cell_type": "code",
   "execution_count": 35,
   "id": "0e1da5f3-7905-4f52-a77c-12eec83a856f",
   "metadata": {},
   "outputs": [
    {
     "data": {
      "text/plain": [
       "['ax', 'bx', 'cx', 'ay', 'by', 'cy', 'az', 'bz', 'cz']"
      ]
     },
     "execution_count": 35,
     "metadata": {},
     "output_type": "execute_result"
    }
   ],
   "source": [
    "result"
   ]
  },
  {
   "cell_type": "code",
   "execution_count": 36,
   "id": "83769ce7-d6c5-457d-9cc1-c134ac1c29af",
   "metadata": {},
   "outputs": [],
   "source": [
    "l1 = ['a', 'b', 'c']\n",
    "l2 = ['b', 'c', 'd']\n",
    "result = []\n",
    "for s1 in l1:\n",
    "    for s2 in l2:\n",
    "        if s1 != s2:\n",
    "            result.append(s1 + s2)"
   ]
  },
  {
   "cell_type": "code",
   "execution_count": 37,
   "id": "87ca3641-10a2-4101-9dab-edb309217f0a",
   "metadata": {},
   "outputs": [
    {
     "data": {
      "text/plain": [
       "['ab', 'ac', 'ad', 'bc', 'bd', 'cb', 'cd']"
      ]
     },
     "execution_count": 37,
     "metadata": {},
     "output_type": "execute_result"
    }
   ],
   "source": [
    "result"
   ]
  },
  {
   "cell_type": "code",
   "execution_count": 42,
   "id": "c190ebcb-369a-4d72-8bd5-d521c38f2a90",
   "metadata": {},
   "outputs": [],
   "source": [
    "result = [s1 + s2 for s1 in l1 for s2 in l2 if s1 != s2]"
   ]
  },
  {
   "cell_type": "code",
   "execution_count": 43,
   "id": "b560bd87-3bee-492d-abd2-ff65e59efd50",
   "metadata": {},
   "outputs": [
    {
     "data": {
      "text/plain": [
       "['ab', 'ac', 'ad', 'bc', 'bd', 'cb', 'cd']"
      ]
     },
     "execution_count": 43,
     "metadata": {},
     "output_type": "execute_result"
    }
   ],
   "source": [
    "result"
   ]
  },
  {
   "cell_type": "code",
   "execution_count": 44,
   "id": "ff53468f-96b7-47b4-b0cb-826b5a906ec6",
   "metadata": {},
   "outputs": [],
   "source": [
    "result = [s1 + s2 for s1 in l1 if s1 != 'a' for s2 in l2 if s1 != s2]"
   ]
  },
  {
   "cell_type": "code",
   "execution_count": 45,
   "id": "01ef36f5-5437-4d2e-82e0-0886264c2795",
   "metadata": {},
   "outputs": [
    {
     "data": {
      "text/plain": [
       "['bc', 'bd', 'cb', 'cd']"
      ]
     },
     "execution_count": 45,
     "metadata": {},
     "output_type": "execute_result"
    }
   ],
   "source": [
    "result"
   ]
  },
  {
   "cell_type": "code",
   "execution_count": 46,
   "id": "274b072d-5850-4e61-a423-fcdb9f13e3a7",
   "metadata": {},
   "outputs": [
    {
     "ename": "UnboundLocalError",
     "evalue": "cannot access local variable 's2' where it is not associated with a value",
     "output_type": "error",
     "traceback": [
      "\u001b[1;31m---------------------------------------------------------------------------\u001b[0m",
      "\u001b[1;31mUnboundLocalError\u001b[0m                         Traceback (most recent call last)",
      "Cell \u001b[1;32mIn[46], line 1\u001b[0m\n\u001b[1;32m----> 1\u001b[0m result \u001b[38;5;241m=\u001b[39m [s1 \u001b[38;5;241m+\u001b[39m s2 \u001b[38;5;28;01mfor\u001b[39;00m s1 \u001b[38;5;129;01min\u001b[39;00m l1 \u001b[38;5;28;01mif\u001b[39;00m s1 \u001b[38;5;241m!=\u001b[39m s2 \u001b[38;5;28;01mfor\u001b[39;00m s2 \u001b[38;5;129;01min\u001b[39;00m l2 ]\n",
      "\u001b[1;31mUnboundLocalError\u001b[0m: cannot access local variable 's2' where it is not associated with a value"
     ]
    }
   ],
   "source": [
    "result = [s1 + s2 for s1 in l1 if s1 != s2 for s2 in l2 ]"
   ]
  },
  {
   "cell_type": "code",
   "execution_count": 47,
   "id": "5bb93c4d-912c-469e-876c-604fbb68574e",
   "metadata": {},
   "outputs": [],
   "source": [
    "l1 = [1,2,3,4,5,6,7,8,9]\n",
    "l2 = ['a', 'b', 'c', 'd']"
   ]
  },
  {
   "cell_type": "code",
   "execution_count": 48,
   "id": "c1073840-28d0-4a26-9898-197026143d73",
   "metadata": {},
   "outputs": [
    {
     "data": {
      "text/plain": [
       "[(1, 'a'), (2, 'b'), (3, 'c'), (4, 'd')]"
      ]
     },
     "execution_count": 48,
     "metadata": {},
     "output_type": "execute_result"
    }
   ],
   "source": [
    "list(zip(l1, l2))"
   ]
  },
  {
   "cell_type": "code",
   "execution_count": 49,
   "id": "211b56ff-1f6e-4947-851f-a13fc21dd612",
   "metadata": {},
   "outputs": [],
   "source": [
    "result = []\n",
    "for index_1, item_1 in enumerate(l1):\n",
    "    for index_2, item_2 in enumerate(l2):\n",
    "        if index_1 == index_2:\n",
    "            result.append((item_1, item_2))"
   ]
  },
  {
   "cell_type": "code",
   "execution_count": 50,
   "id": "ec7c382f-d2b0-4a22-8731-11c8f5403495",
   "metadata": {},
   "outputs": [
    {
     "data": {
      "text/plain": [
       "[(1, 'a'), (2, 'b'), (3, 'c'), (4, 'd')]"
      ]
     },
     "execution_count": 50,
     "metadata": {},
     "output_type": "execute_result"
    }
   ],
   "source": [
    "result"
   ]
  },
  {
   "cell_type": "code",
   "execution_count": 51,
   "id": "af3ce9b4-c436-43b5-8978-e02ff4d8c9b8",
   "metadata": {},
   "outputs": [],
   "source": [
    "result = [ (item_1, item_2)\n",
    "         for index_1, item_1 in enumerate(l1)\n",
    "         for index_2, item_2 in enumerate(l2)\n",
    "         if index_1 == index_2]"
   ]
  },
  {
   "cell_type": "code",
   "execution_count": 52,
   "id": "da1173e4-5bc1-450d-9933-fc1a2b3e7e70",
   "metadata": {},
   "outputs": [
    {
     "data": {
      "text/plain": [
       "[(1, 'a'), (2, 'b'), (3, 'c'), (4, 'd')]"
      ]
     },
     "execution_count": 52,
     "metadata": {},
     "output_type": "execute_result"
    }
   ],
   "source": [
    "result"
   ]
  },
  {
   "cell_type": "code",
   "execution_count": 53,
   "id": "18c62b0a-ed93-499f-8da6-1425e3c1143a",
   "metadata": {},
   "outputs": [
    {
     "data": {
      "text/plain": [
       "[(1, 'a'), (2, 'b'), (3, 'c'), (4, 'd')]"
      ]
     },
     "execution_count": 53,
     "metadata": {},
     "output_type": "execute_result"
    }
   ],
   "source": [
    "list(zip(l1, l2))"
   ]
  },
  {
   "cell_type": "code",
   "execution_count": 54,
   "id": "4e55c894-972a-4e2c-b6fe-db0a5cdaad97",
   "metadata": {},
   "outputs": [
    {
     "data": {
      "text/plain": [
       "6"
      ]
     },
     "execution_count": 54,
     "metadata": {},
     "output_type": "execute_result"
    }
   ],
   "source": [
    "l = [1,2,3]\n",
    "sum(l)"
   ]
  },
  {
   "cell_type": "markdown",
   "id": "be9f3bb7-e6f2-4028-9f5d-0c883927cc4f",
   "metadata": {},
   "source": [
    "'''\n",
    "v1 = (c1, c2, c3, ..., cn)\n",
    "v2 = (d1, d2, d3, ... dn)\n",
    "'''"
   ]
  },
  {
   "cell_type": "markdown",
   "id": "93649c6a-5a19-4d7b-8fe7-b24191e1db77",
   "metadata": {},
   "source": [
    "'''\n",
    "v1 . v2 = c1*d1 + c2*d2 + c3*d3 + .... cn*dn) '''"
   ]
  },
  {
   "cell_type": "code",
   "execution_count": 56,
   "id": "1fd8b80d-c8ce-4dd9-90f5-1395e20c03fb",
   "metadata": {},
   "outputs": [],
   "source": [
    "v1 = (1,2,3,4,5,6)\n",
    "v2 = (10,20,30,40,50,60)"
   ]
  },
  {
   "cell_type": "code",
   "execution_count": 57,
   "id": "74ed5d16-b24d-4d1d-8c05-4666b72cced2",
   "metadata": {},
   "outputs": [
    {
     "name": "stdout",
     "output_type": "stream",
     "text": [
      "910\n"
     ]
    }
   ],
   "source": [
    "dot = 0\n",
    "for i in range(len(v1)):\n",
    "    dot += (v1[i] * v2[i])\n",
    "print(dot)"
   ]
  },
  {
   "cell_type": "code",
   "execution_count": 58,
   "id": "f9bf2761-032e-4b83-8498-23249608906d",
   "metadata": {},
   "outputs": [
    {
     "data": {
      "text/plain": [
       "[(1, 10), (2, 20), (3, 30), (4, 40), (5, 50), (6, 60)]"
      ]
     },
     "execution_count": 58,
     "metadata": {},
     "output_type": "execute_result"
    }
   ],
   "source": [
    "list(zip(v1, v2))"
   ]
  },
  {
   "cell_type": "code",
   "execution_count": 60,
   "id": "34152949-d74c-40db-ad9b-55293e295a92",
   "metadata": {},
   "outputs": [
    {
     "data": {
      "text/plain": [
       "910"
      ]
     },
     "execution_count": 60,
     "metadata": {},
     "output_type": "execute_result"
    }
   ],
   "source": [
    "sum(i*j for i, j in zip(v1, v2))"
   ]
  },
  {
   "cell_type": "markdown",
   "id": "6e0b2e11-59ad-4669-a1ed-7758cd703870",
   "metadata": {},
   "source": [
    "### Watch out!!!\n"
   ]
  },
  {
   "cell_type": "code",
   "execution_count": 61,
   "id": "b28d66f2-4223-4f9b-b225-143d4b2364a3",
   "metadata": {},
   "outputs": [],
   "source": [
    "l = []\n",
    "for number in range(5):\n",
    "    l.append(number**2)"
   ]
  },
  {
   "cell_type": "code",
   "execution_count": 62,
   "id": "bc264025-d553-4121-8322-9a6151ab9df0",
   "metadata": {},
   "outputs": [
    {
     "data": {
      "text/plain": [
       "4"
      ]
     },
     "execution_count": 62,
     "metadata": {},
     "output_type": "execute_result"
    }
   ],
   "source": [
    "number"
   ]
  },
  {
   "cell_type": "code",
   "execution_count": 63,
   "id": "1db05314-cda3-4f97-a516-cabf1ecfe721",
   "metadata": {},
   "outputs": [],
   "source": [
    "if 'number' in globals():\n",
    "    del number"
   ]
  },
  {
   "cell_type": "code",
   "execution_count": 64,
   "id": "8cdb1d94-fd2e-4b83-990b-7f7346fe2588",
   "metadata": {},
   "outputs": [
    {
     "ename": "NameError",
     "evalue": "name 'number' is not defined",
     "output_type": "error",
     "traceback": [
      "\u001b[1;31m---------------------------------------------------------------------------\u001b[0m",
      "\u001b[1;31mNameError\u001b[0m                                 Traceback (most recent call last)",
      "Cell \u001b[1;32mIn[64], line 1\u001b[0m\n\u001b[1;32m----> 1\u001b[0m number\n",
      "\u001b[1;31mNameError\u001b[0m: name 'number' is not defined"
     ]
    }
   ],
   "source": [
    "number"
   ]
  },
  {
   "cell_type": "code",
   "execution_count": 65,
   "id": "7cad84e3-50d7-4fad-8d5e-8f4c2b15dae6",
   "metadata": {},
   "outputs": [],
   "source": [
    "l = [number**2 for number in range(5)]"
   ]
  },
  {
   "cell_type": "code",
   "execution_count": 66,
   "id": "150b7a61-2404-4d50-ace9-59fe3170e601",
   "metadata": {},
   "outputs": [
    {
     "data": {
      "text/plain": [
       "[0, 1, 4, 9, 16]"
      ]
     },
     "execution_count": 66,
     "metadata": {},
     "output_type": "execute_result"
    }
   ],
   "source": [
    "l"
   ]
  },
  {
   "cell_type": "code",
   "execution_count": 67,
   "id": "92a1f718-128b-4a8a-9c4f-f85c753a549f",
   "metadata": {},
   "outputs": [
    {
     "data": {
      "text/plain": [
       "False"
      ]
     },
     "execution_count": 67,
     "metadata": {},
     "output_type": "execute_result"
    }
   ],
   "source": [
    "'number' in globals()"
   ]
  },
  {
   "cell_type": "code",
   "execution_count": 68,
   "id": "0c302b1c-6986-4b3b-9c01-bf30d56cf931",
   "metadata": {},
   "outputs": [],
   "source": [
    "number = 100"
   ]
  },
  {
   "cell_type": "code",
   "execution_count": 69,
   "id": "e565ff47-21b7-4deb-9c14-8944968534f1",
   "metadata": {},
   "outputs": [],
   "source": [
    "l = []\n",
    "for number in range(5):\n",
    "    l.append(number**2)"
   ]
  },
  {
   "cell_type": "code",
   "execution_count": 70,
   "id": "f17e0170-ec9c-4bcd-89c9-08e3eee5352c",
   "metadata": {},
   "outputs": [
    {
     "data": {
      "text/plain": [
       "4"
      ]
     },
     "execution_count": 70,
     "metadata": {},
     "output_type": "execute_result"
    }
   ],
   "source": [
    "number"
   ]
  },
  {
   "cell_type": "code",
   "execution_count": 71,
   "id": "dfe6a3dd-37f6-4520-a693-5c3bf81796ad",
   "metadata": {},
   "outputs": [],
   "source": [
    "number = 100"
   ]
  },
  {
   "cell_type": "code",
   "execution_count": 72,
   "id": "b1ab6cc8-eacf-47ae-ada6-f890605baff9",
   "metadata": {},
   "outputs": [
    {
     "data": {
      "text/plain": [
       "[0, 1, 4, 9, 16]"
      ]
     },
     "execution_count": 72,
     "metadata": {},
     "output_type": "execute_result"
    }
   ],
   "source": [
    "[number**2 for number in range(5)]"
   ]
  },
  {
   "cell_type": "code",
   "execution_count": 73,
   "id": "b99d2d95-4d99-430c-95c9-6f768842132b",
   "metadata": {},
   "outputs": [
    {
     "data": {
      "text/plain": [
       "100"
      ]
     },
     "execution_count": 73,
     "metadata": {},
     "output_type": "execute_result"
    }
   ],
   "source": [
    "number"
   ]
  },
  {
   "cell_type": "code",
   "execution_count": 74,
   "id": "9e5e2a9b-26e3-41da-8d59-fe26f9c5bb2f",
   "metadata": {},
   "outputs": [
    {
     "data": {
      "text/plain": [
       "[0, 100, 200, 300, 400]"
      ]
     },
     "execution_count": 74,
     "metadata": {},
     "output_type": "execute_result"
    }
   ],
   "source": [
    "[number * i for i in range(5)]"
   ]
  },
  {
   "cell_type": "code",
   "execution_count": 75,
   "id": "61c46cbc-536f-442f-8ab5-5a279423a2f5",
   "metadata": {},
   "outputs": [],
   "source": [
    "fn_0 = lambda x: x**0"
   ]
  },
  {
   "cell_type": "code",
   "execution_count": 76,
   "id": "dfd9d210-b954-4aca-9d77-243cc4d37d75",
   "metadata": {},
   "outputs": [],
   "source": [
    "fn_1 = lambda x: x**1"
   ]
  },
  {
   "cell_type": "code",
   "execution_count": 77,
   "id": "276a1f4d-4f31-4344-8ca6-92d0c076d3a7",
   "metadata": {},
   "outputs": [],
   "source": [
    "fn_2 = lambda x: x**2"
   ]
  },
  {
   "cell_type": "code",
   "execution_count": 78,
   "id": "2bc35ae3-bec9-4ca2-b368-6994dd68cf8c",
   "metadata": {},
   "outputs": [],
   "source": [
    "fn_3 = lambda x: x**3"
   ]
  },
  {
   "cell_type": "code",
   "execution_count": 80,
   "id": "6d81cb1b-47fe-4b79-917c-b93441680e4c",
   "metadata": {},
   "outputs": [],
   "source": [
    "funcs = [lambda x: x**0, lambda x: x**1, lambda x: x**2, lambda x: x**3]"
   ]
  },
  {
   "cell_type": "code",
   "execution_count": 83,
   "id": "dc733855-b9b2-4c80-9a12-aa154b6dc2db",
   "metadata": {},
   "outputs": [
    {
     "name": "stdout",
     "output_type": "stream",
     "text": [
      "1\n",
      "10\n",
      "100\n",
      "1000\n"
     ]
    }
   ],
   "source": [
    "for i in range(4):\n",
    "    print(funcs[i](10))"
   ]
  },
  {
   "cell_type": "code",
   "execution_count": 87,
   "id": "8b285945-6a85-4423-9524-b961db0d55d9",
   "metadata": {},
   "outputs": [],
   "source": [
    "if 'i' in globals():\n",
    "    del i"
   ]
  },
  {
   "cell_type": "code",
   "execution_count": 88,
   "id": "e93024f2-1d5a-4f19-9ed8-67a8bc0bf5fc",
   "metadata": {},
   "outputs": [],
   "source": [
    "funcs = []\n",
    "for i in range(6):\n",
    "    funcs.append(lambda x: x**i)"
   ]
  },
  {
   "cell_type": "code",
   "execution_count": 89,
   "id": "6c7a31bc-34e3-4c90-89c0-92702f26ee8e",
   "metadata": {},
   "outputs": [
    {
     "data": {
      "text/plain": [
       "[<function __main__.<lambda>(x)>,\n",
       " <function __main__.<lambda>(x)>,\n",
       " <function __main__.<lambda>(x)>,\n",
       " <function __main__.<lambda>(x)>,\n",
       " <function __main__.<lambda>(x)>,\n",
       " <function __main__.<lambda>(x)>]"
      ]
     },
     "execution_count": 89,
     "metadata": {},
     "output_type": "execute_result"
    }
   ],
   "source": [
    "funcs"
   ]
  },
  {
   "cell_type": "code",
   "execution_count": 90,
   "id": "fa097581-13f6-4acc-b268-0d602daf2446",
   "metadata": {},
   "outputs": [
    {
     "data": {
      "text/plain": [
       "100000"
      ]
     },
     "execution_count": 90,
     "metadata": {},
     "output_type": "execute_result"
    }
   ],
   "source": [
    "funcs[0](10)"
   ]
  },
  {
   "cell_type": "code",
   "execution_count": 91,
   "id": "04c347a4-2e2e-4a2f-830b-d3eec87a74fd",
   "metadata": {},
   "outputs": [
    {
     "data": {
      "text/plain": [
       "100000"
      ]
     },
     "execution_count": 91,
     "metadata": {},
     "output_type": "execute_result"
    }
   ],
   "source": [
    "funcs[2](10)"
   ]
  },
  {
   "cell_type": "code",
   "execution_count": 92,
   "id": "654b9a54-9dad-47a7-ae61-9db022227af3",
   "metadata": {},
   "outputs": [],
   "source": [
    "i = 10"
   ]
  },
  {
   "cell_type": "code",
   "execution_count": 93,
   "id": "a6e27b65-f57d-4ef2-b21d-1c6e03bd0e8a",
   "metadata": {},
   "outputs": [
    {
     "data": {
      "text/plain": [
       "10000000000"
      ]
     },
     "execution_count": 93,
     "metadata": {},
     "output_type": "execute_result"
    }
   ],
   "source": [
    "funcs[0](10)"
   ]
  },
  {
   "cell_type": "code",
   "execution_count": 94,
   "id": "42d163f8-d017-4ec7-88ef-b862cc22ee43",
   "metadata": {},
   "outputs": [],
   "source": [
    "i = 0\n",
    "def fn_0(x):\n",
    "    return x ** i\n",
    "\n",
    "i = 1\n",
    "def fn_1(x):\n",
    "    return x ** i"
   ]
  },
  {
   "cell_type": "code",
   "execution_count": 95,
   "id": "53b989fc-6f47-48ee-a34a-c0c8f10c0202",
   "metadata": {},
   "outputs": [],
   "source": [
    "def funcs():\n",
    "    fn = []\n",
    "    for i in range(6):\n",
    "        fn.append(lambda x: x**i)\n",
    "    return fn"
   ]
  },
  {
   "cell_type": "code",
   "execution_count": 96,
   "id": "112f6c7d-9a2d-4951-b244-5d081d433a2e",
   "metadata": {},
   "outputs": [],
   "source": [
    "f = funcs()"
   ]
  },
  {
   "cell_type": "code",
   "execution_count": 98,
   "id": "313a81e5-885e-4fa2-874d-1e20735e14fb",
   "metadata": {},
   "outputs": [
    {
     "data": {
      "text/plain": [
       "100000"
      ]
     },
     "execution_count": 98,
     "metadata": {},
     "output_type": "execute_result"
    }
   ],
   "source": [
    "f[0](10)"
   ]
  },
  {
   "cell_type": "code",
   "execution_count": 99,
   "id": "125ed075-3186-4b2e-a401-8bc35fc3164c",
   "metadata": {},
   "outputs": [],
   "source": [
    "funcs = [lambda x: x**i for i in range(5)]"
   ]
  },
  {
   "cell_type": "code",
   "execution_count": 100,
   "id": "26baa833-f6a6-4657-90d4-2a2e46965caf",
   "metadata": {},
   "outputs": [
    {
     "data": {
      "text/plain": [
       "10000"
      ]
     },
     "execution_count": 100,
     "metadata": {},
     "output_type": "execute_result"
    }
   ],
   "source": [
    "funcs[0](10)"
   ]
  },
  {
   "cell_type": "code",
   "execution_count": 101,
   "id": "2042f1cc-d86b-4cde-95fd-d59a1b12b6da",
   "metadata": {},
   "outputs": [],
   "source": [
    "from datetime import datetime"
   ]
  },
  {
   "cell_type": "code",
   "execution_count": 102,
   "id": "5bfc831f-7a4b-4ff7-8616-77dd742f6b99",
   "metadata": {},
   "outputs": [
    {
     "data": {
      "text/plain": [
       "datetime.datetime(2025, 6, 20, 8, 32, 39, 394017)"
      ]
     },
     "execution_count": 102,
     "metadata": {},
     "output_type": "execute_result"
    }
   ],
   "source": [
    "datetime.now()"
   ]
  },
  {
   "cell_type": "code",
   "execution_count": 103,
   "id": "380dff27-3c5f-42e7-a578-2019b277ddc6",
   "metadata": {},
   "outputs": [],
   "source": [
    "def log(msg, current_dt=datetime.now()):\n",
    "    print(msg, current_dt)"
   ]
  },
  {
   "cell_type": "code",
   "execution_count": 104,
   "id": "8ca1e755-cb40-4997-8198-71642970f57b",
   "metadata": {},
   "outputs": [
    {
     "name": "stdout",
     "output_type": "stream",
     "text": [
      "abc 2025-06-20 08:33:21.053641\n"
     ]
    }
   ],
   "source": [
    "log('abc')"
   ]
  },
  {
   "cell_type": "code",
   "execution_count": 105,
   "id": "0a2de87c-b3c3-425c-a6b3-68e12dc32671",
   "metadata": {},
   "outputs": [
    {
     "name": "stdout",
     "output_type": "stream",
     "text": [
      "cde 2025-06-20 08:33:21.053641\n"
     ]
    }
   ],
   "source": [
    "log('cde')"
   ]
  },
  {
   "cell_type": "code",
   "execution_count": 106,
   "id": "37e31967-4f9d-44fa-ba37-92969ee2187d",
   "metadata": {},
   "outputs": [
    {
     "name": "stdout",
     "output_type": "stream",
     "text": [
      "a 2025-06-20 08:33:21.053641\n"
     ]
    }
   ],
   "source": [
    "log('a')"
   ]
  },
  {
   "cell_type": "code",
   "execution_count": 107,
   "id": "203106fb-1c0c-49f8-ac7a-d389028f04b9",
   "metadata": {},
   "outputs": [],
   "source": [
    "funcs = [lambda x, p=i: x**p for i in range(5)]"
   ]
  },
  {
   "cell_type": "code",
   "execution_count": 108,
   "id": "a1f1ec72-c0e2-457c-9b2b-4b309458ce5f",
   "metadata": {},
   "outputs": [
    {
     "data": {
      "text/plain": [
       "1"
      ]
     },
     "execution_count": 108,
     "metadata": {},
     "output_type": "execute_result"
    }
   ],
   "source": [
    "funcs[0](10)"
   ]
  },
  {
   "cell_type": "code",
   "execution_count": 109,
   "id": "1d432788-5360-40a1-94b4-59f13ddf1daf",
   "metadata": {},
   "outputs": [
    {
     "data": {
      "text/plain": [
       "100"
      ]
     },
     "execution_count": 109,
     "metadata": {},
     "output_type": "execute_result"
    }
   ],
   "source": [
    "funcs[2](10)"
   ]
  },
  {
   "cell_type": "code",
   "execution_count": null,
   "id": "364184f8-b9c9-44b5-bff4-ad6804fdc95c",
   "metadata": {},
   "outputs": [],
   "source": []
  }
 ],
 "metadata": {
  "kernelspec": {
   "display_name": "Python 3 (ipykernel)",
   "language": "python",
   "name": "python3"
  },
  "language_info": {
   "codemirror_mode": {
    "name": "ipython",
    "version": 3
   },
   "file_extension": ".py",
   "mimetype": "text/x-python",
   "name": "python",
   "nbconvert_exporter": "python",
   "pygments_lexer": "ipython3",
   "version": "3.12.7"
  }
 },
 "nbformat": 4,
 "nbformat_minor": 5
}
