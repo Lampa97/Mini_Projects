{
 "cells": [
  {
   "cell_type": "code",
   "execution_count": 1,
   "id": "e73df0a1-4a9d-4c5f-95a7-77430779d5a5",
   "metadata": {},
   "outputs": [],
   "source": [
    "l = [1,2,3,4,5]"
   ]
  },
  {
   "cell_type": "code",
   "execution_count": 2,
   "id": "85f83c1b-5276-4d90-8ccc-c0716939a77e",
   "metadata": {},
   "outputs": [
    {
     "name": "stdout",
     "output_type": "stream",
     "text": [
      "2117331895104\n"
     ]
    }
   ],
   "source": [
    "print(id(l))"
   ]
  },
  {
   "cell_type": "code",
   "execution_count": 3,
   "id": "5d0f6bb4-0246-4d76-b9ca-0502a324eb56",
   "metadata": {},
   "outputs": [
    {
     "data": {
      "text/plain": [
       "1"
      ]
     },
     "execution_count": 3,
     "metadata": {},
     "output_type": "execute_result"
    }
   ],
   "source": [
    "l[0]"
   ]
  },
  {
   "cell_type": "code",
   "execution_count": 4,
   "id": "5bf2058d-f4d4-4d8a-9d07-d648db1d59ef",
   "metadata": {},
   "outputs": [],
   "source": [
    "l[0] = 'a'"
   ]
  },
  {
   "cell_type": "code",
   "execution_count": 5,
   "id": "df852cd0-0cb6-4c11-a7c2-2d7d023df8c1",
   "metadata": {},
   "outputs": [
    {
     "data": {
      "text/plain": [
       "['a', 2, 3, 4, 5]"
      ]
     },
     "execution_count": 5,
     "metadata": {},
     "output_type": "execute_result"
    }
   ],
   "source": [
    "l"
   ]
  },
  {
   "cell_type": "code",
   "execution_count": 6,
   "id": "eb737a8e-2bd8-4173-b3fe-20a9e07f2041",
   "metadata": {},
   "outputs": [
    {
     "data": {
      "text/plain": [
       "2117331895104"
      ]
     },
     "execution_count": 6,
     "metadata": {},
     "output_type": "execute_result"
    }
   ],
   "source": [
    "id(l)"
   ]
  },
  {
   "cell_type": "code",
   "execution_count": 7,
   "id": "33d3caca-882c-44ad-b31f-321706210b25",
   "metadata": {},
   "outputs": [],
   "source": [
    "l.clear()"
   ]
  },
  {
   "cell_type": "code",
   "execution_count": 8,
   "id": "904749fa-b3da-4162-a2be-90e616bbfd81",
   "metadata": {},
   "outputs": [
    {
     "data": {
      "text/plain": [
       "[]"
      ]
     },
     "execution_count": 8,
     "metadata": {},
     "output_type": "execute_result"
    }
   ],
   "source": [
    "l"
   ]
  },
  {
   "cell_type": "code",
   "execution_count": 9,
   "id": "fb191aa6-994f-439b-8a60-4d5908ca4ac4",
   "metadata": {},
   "outputs": [],
   "source": [
    "l = [1,2,3,4,5]"
   ]
  },
  {
   "cell_type": "code",
   "execution_count": 10,
   "id": "ddbcb129-8a67-4d71-8ccd-00a93e6972f2",
   "metadata": {},
   "outputs": [
    {
     "data": {
      "text/plain": [
       "(2117332364416, [1, 2, 3, 4, 5])"
      ]
     },
     "execution_count": 10,
     "metadata": {},
     "output_type": "execute_result"
    }
   ],
   "source": [
    "id(l), l"
   ]
  },
  {
   "cell_type": "code",
   "execution_count": 11,
   "id": "ee0e94a1-c36b-4b0f-8d66-e180f1357089",
   "metadata": {},
   "outputs": [],
   "source": [
    "l = []"
   ]
  },
  {
   "cell_type": "code",
   "execution_count": 12,
   "id": "5015b8f6-32f0-40f0-ba3a-c473e347525d",
   "metadata": {},
   "outputs": [
    {
     "data": {
      "text/plain": [
       "[]"
      ]
     },
     "execution_count": 12,
     "metadata": {},
     "output_type": "execute_result"
    }
   ],
   "source": [
    "l"
   ]
  },
  {
   "cell_type": "code",
   "execution_count": 13,
   "id": "7dbd4282-8b7d-4977-88af-53558c081bcf",
   "metadata": {},
   "outputs": [
    {
     "data": {
      "text/plain": [
       "2117332438336"
      ]
     },
     "execution_count": 13,
     "metadata": {},
     "output_type": "execute_result"
    }
   ],
   "source": [
    "id(l)"
   ]
  },
  {
   "cell_type": "code",
   "execution_count": 14,
   "id": "6b897549-5366-47e7-b824-9e5cdc5f26ab",
   "metadata": {},
   "outputs": [],
   "source": [
    "suits = ['Spades', 'Hearts', 'Diamonds', 'Clubs']"
   ]
  },
  {
   "cell_type": "code",
   "execution_count": 15,
   "id": "48ec8f75-900b-46df-bd96-573b0f78d25d",
   "metadata": {},
   "outputs": [],
   "source": [
    "alias = suits"
   ]
  },
  {
   "cell_type": "code",
   "execution_count": 16,
   "id": "fff6e6f4-37aa-4f94-bb72-b5b598d6655f",
   "metadata": {},
   "outputs": [
    {
     "data": {
      "text/plain": [
       "(2117332301760, 2117332301760)"
      ]
     },
     "execution_count": 16,
     "metadata": {},
     "output_type": "execute_result"
    }
   ],
   "source": [
    "id(alias), id(suits)"
   ]
  },
  {
   "cell_type": "code",
   "execution_count": 17,
   "id": "42a7f4f6-a395-4399-8dec-b47db1ec302c",
   "metadata": {},
   "outputs": [],
   "source": [
    "alias.clear()"
   ]
  },
  {
   "cell_type": "code",
   "execution_count": 18,
   "id": "a546bdff-050d-4260-aed3-4d11dd0cd304",
   "metadata": {},
   "outputs": [
    {
     "data": {
      "text/plain": [
       "[]"
      ]
     },
     "execution_count": 18,
     "metadata": {},
     "output_type": "execute_result"
    }
   ],
   "source": [
    "alias"
   ]
  },
  {
   "cell_type": "code",
   "execution_count": 19,
   "id": "b8ca56b2-47fe-4fd7-ae59-880f33731ad0",
   "metadata": {},
   "outputs": [
    {
     "data": {
      "text/plain": [
       "[]"
      ]
     },
     "execution_count": 19,
     "metadata": {},
     "output_type": "execute_result"
    }
   ],
   "source": [
    "suits"
   ]
  },
  {
   "cell_type": "code",
   "execution_count": 20,
   "id": "052d5375-7fa8-4b7a-87c1-892e3ffa110a",
   "metadata": {},
   "outputs": [],
   "source": [
    "suits = ['Spades', 'Hearts', 'Diamonds', 'Clubs']"
   ]
  },
  {
   "cell_type": "code",
   "execution_count": 24,
   "id": "dce8813e-43f7-4c26-ac76-18d049054fab",
   "metadata": {},
   "outputs": [],
   "source": [
    "def something(l):\n",
    "    l.clear()"
   ]
  },
  {
   "cell_type": "code",
   "execution_count": 25,
   "id": "fc0d49ff-62fa-49cc-bff0-4f9c045cc5fb",
   "metadata": {},
   "outputs": [],
   "source": [
    "something(suits)"
   ]
  },
  {
   "cell_type": "code",
   "execution_count": 26,
   "id": "7d503ed7-41c9-4b04-b4f7-fb3cbea18480",
   "metadata": {},
   "outputs": [
    {
     "data": {
      "text/plain": [
       "[]"
      ]
     },
     "execution_count": 26,
     "metadata": {},
     "output_type": "execute_result"
    }
   ],
   "source": [
    "suits"
   ]
  },
  {
   "cell_type": "code",
   "execution_count": 27,
   "id": "c88fbdeb-3a4c-43ba-ba67-321ae128f46c",
   "metadata": {},
   "outputs": [
    {
     "data": {
      "text/plain": [
       "2117332438848"
      ]
     },
     "execution_count": 27,
     "metadata": {},
     "output_type": "execute_result"
    }
   ],
   "source": [
    "l = [1,2,3,4,5]\n",
    "id(l)"
   ]
  },
  {
   "cell_type": "code",
   "execution_count": 28,
   "id": "5c10d3df-9272-4fae-9154-bff120470014",
   "metadata": {},
   "outputs": [
    {
     "data": {
      "text/plain": [
       "[1, 2]"
      ]
     },
     "execution_count": 28,
     "metadata": {},
     "output_type": "execute_result"
    }
   ],
   "source": [
    "l[0:2]"
   ]
  },
  {
   "cell_type": "code",
   "execution_count": 29,
   "id": "1cba6121-a01e-46e8-bf80-d336d1379e49",
   "metadata": {},
   "outputs": [],
   "source": [
    "l[0:2] = ('a', 'b', 'c', 'd')"
   ]
  },
  {
   "cell_type": "code",
   "execution_count": 30,
   "id": "9b2c9e0f-b69b-46af-b5b9-c48cb7a8b7bd",
   "metadata": {},
   "outputs": [
    {
     "data": {
      "text/plain": [
       "['a', 'b', 'c', 'd', 3, 4, 5]"
      ]
     },
     "execution_count": 30,
     "metadata": {},
     "output_type": "execute_result"
    }
   ],
   "source": [
    "l"
   ]
  },
  {
   "cell_type": "code",
   "execution_count": 31,
   "id": "0d5f837d-bdcf-4987-a0d3-a2272ed9bdf0",
   "metadata": {},
   "outputs": [
    {
     "data": {
      "text/plain": [
       "2117332438848"
      ]
     },
     "execution_count": 31,
     "metadata": {},
     "output_type": "execute_result"
    }
   ],
   "source": [
    "id(l)"
   ]
  },
  {
   "cell_type": "code",
   "execution_count": 32,
   "id": "2f11f19c-31a4-4774-aaa1-62248f905a57",
   "metadata": {},
   "outputs": [
    {
     "data": {
      "text/plain": [
       "2117332459648"
      ]
     },
     "execution_count": 32,
     "metadata": {},
     "output_type": "execute_result"
    }
   ],
   "source": [
    "l = [1,2,3]\n",
    "id(l)"
   ]
  },
  {
   "cell_type": "code",
   "execution_count": 33,
   "id": "738f68f9-5c8b-4a23-aee8-8886bf8430f7",
   "metadata": {},
   "outputs": [],
   "source": [
    "l = l + [4]"
   ]
  },
  {
   "cell_type": "code",
   "execution_count": 34,
   "id": "937cee15-93fd-4157-b26a-bbf5616f7095",
   "metadata": {},
   "outputs": [
    {
     "data": {
      "text/plain": [
       "[1, 2, 3, 4]"
      ]
     },
     "execution_count": 34,
     "metadata": {},
     "output_type": "execute_result"
    }
   ],
   "source": [
    "l"
   ]
  },
  {
   "cell_type": "code",
   "execution_count": 35,
   "id": "24f1cb65-d37b-433d-9bf5-a84261f3d8cc",
   "metadata": {},
   "outputs": [
    {
     "data": {
      "text/plain": [
       "2117332457920"
      ]
     },
     "execution_count": 35,
     "metadata": {},
     "output_type": "execute_result"
    }
   ],
   "source": [
    "id(l)"
   ]
  },
  {
   "cell_type": "code",
   "execution_count": 36,
   "id": "6a0ce43e-6dd1-4c2e-90ae-88c1bcf368a5",
   "metadata": {},
   "outputs": [
    {
     "data": {
      "text/plain": [
       "2117332456128"
      ]
     },
     "execution_count": 36,
     "metadata": {},
     "output_type": "execute_result"
    }
   ],
   "source": [
    "l = [1,2,3]\n",
    "id(l)"
   ]
  },
  {
   "cell_type": "code",
   "execution_count": 37,
   "id": "e2d87292-48a6-4316-bcbe-e3f14134088a",
   "metadata": {},
   "outputs": [],
   "source": [
    "l.append(4)"
   ]
  },
  {
   "cell_type": "code",
   "execution_count": 38,
   "id": "73920c43-b964-4ac6-b925-5a3e377ec730",
   "metadata": {},
   "outputs": [
    {
     "data": {
      "text/plain": [
       "[1, 2, 3, 4]"
      ]
     },
     "execution_count": 38,
     "metadata": {},
     "output_type": "execute_result"
    }
   ],
   "source": [
    "l"
   ]
  },
  {
   "cell_type": "code",
   "execution_count": 39,
   "id": "5a4cfdb4-8fd6-4a1d-a5f6-21d6110d3f2e",
   "metadata": {},
   "outputs": [
    {
     "data": {
      "text/plain": [
       "2117332456128"
      ]
     },
     "execution_count": 39,
     "metadata": {},
     "output_type": "execute_result"
    }
   ],
   "source": [
    "id(l)"
   ]
  },
  {
   "cell_type": "code",
   "execution_count": 41,
   "id": "41e7be3b-2eea-4828-8e01-4dbd32e52c30",
   "metadata": {},
   "outputs": [
    {
     "data": {
      "text/plain": [
       "NoneType"
      ]
     },
     "execution_count": 41,
     "metadata": {},
     "output_type": "execute_result"
    }
   ],
   "source": [
    "result = l.append(4)\n",
    "type(result)"
   ]
  },
  {
   "cell_type": "code",
   "execution_count": 42,
   "id": "b76b7cc7-5759-4344-8e7d-e7ab81a9c57e",
   "metadata": {},
   "outputs": [
    {
     "data": {
      "text/plain": [
       "[1, 2, 3, 4, 4, 4]"
      ]
     },
     "execution_count": 42,
     "metadata": {},
     "output_type": "execute_result"
    }
   ],
   "source": [
    "l"
   ]
  },
  {
   "cell_type": "code",
   "execution_count": 43,
   "id": "7ce88a9a-a106-493f-9a87-9d87c4498c6f",
   "metadata": {},
   "outputs": [],
   "source": [
    "l.append([1,2,3])"
   ]
  },
  {
   "cell_type": "code",
   "execution_count": 44,
   "id": "b689196c-b018-4609-bb57-f756acd0eef9",
   "metadata": {},
   "outputs": [
    {
     "data": {
      "text/plain": [
       "[1, 2, 3, 4, 4, 4, [1, 2, 3]]"
      ]
     },
     "execution_count": 44,
     "metadata": {},
     "output_type": "execute_result"
    }
   ],
   "source": [
    "l"
   ]
  },
  {
   "cell_type": "code",
   "execution_count": 45,
   "id": "88d32b50-6370-4193-8dd7-7a119b685d8f",
   "metadata": {},
   "outputs": [
    {
     "data": {
      "text/plain": [
       "2117331895552"
      ]
     },
     "execution_count": 45,
     "metadata": {},
     "output_type": "execute_result"
    }
   ],
   "source": [
    "l = [1,2,3]\n",
    "id(l)"
   ]
  },
  {
   "cell_type": "code",
   "execution_count": 46,
   "id": "68511734-82b1-4c32-b6d6-cad4e3d1af28",
   "metadata": {},
   "outputs": [],
   "source": [
    "l.extend([4,5,6])"
   ]
  },
  {
   "cell_type": "code",
   "execution_count": 47,
   "id": "803c60f8-21d0-4b62-8f3e-33f6565cb924",
   "metadata": {},
   "outputs": [
    {
     "data": {
      "text/plain": [
       "[1, 2, 3, 4, 5, 6]"
      ]
     },
     "execution_count": 47,
     "metadata": {},
     "output_type": "execute_result"
    }
   ],
   "source": [
    "l"
   ]
  },
  {
   "cell_type": "code",
   "execution_count": 48,
   "id": "7044eeca-c31d-4ef6-90f6-338aca920a9c",
   "metadata": {},
   "outputs": [],
   "source": [
    "l.extend('abc')"
   ]
  },
  {
   "cell_type": "code",
   "execution_count": 49,
   "id": "a32e1e79-36ac-44bd-b968-144f27858e4a",
   "metadata": {},
   "outputs": [
    {
     "data": {
      "text/plain": [
       "[1, 2, 3, 4, 5, 6, 'a', 'b', 'c']"
      ]
     },
     "execution_count": 49,
     "metadata": {},
     "output_type": "execute_result"
    }
   ],
   "source": [
    "l"
   ]
  },
  {
   "cell_type": "code",
   "execution_count": 50,
   "id": "46cb88d4-b959-4035-b378-d4481eaf944d",
   "metadata": {},
   "outputs": [
    {
     "data": {
      "text/plain": [
       "2117331895552"
      ]
     },
     "execution_count": 50,
     "metadata": {},
     "output_type": "execute_result"
    }
   ],
   "source": [
    "id(l)"
   ]
  },
  {
   "cell_type": "code",
   "execution_count": 51,
   "id": "6af4d3f6-fd7e-4a56-a402-d5bacbcf160b",
   "metadata": {},
   "outputs": [],
   "source": [
    "l = [1,2,3]"
   ]
  },
  {
   "cell_type": "code",
   "execution_count": 53,
   "id": "a1a8cdd3-fb5a-4fad-87d8-1b0df1b2311c",
   "metadata": {},
   "outputs": [],
   "source": [
    "l.extend({'X', 'a', 'A', 100_000})"
   ]
  },
  {
   "cell_type": "code",
   "execution_count": 54,
   "id": "0169f75e-9a2c-454b-bed7-bdc6d9815b31",
   "metadata": {},
   "outputs": [
    {
     "data": {
      "text/plain": [
       "[1, 2, 3, 'X', 'A', 'a', 100000]"
      ]
     },
     "execution_count": 54,
     "metadata": {},
     "output_type": "execute_result"
    }
   ],
   "source": [
    "l"
   ]
  },
  {
   "cell_type": "code",
   "execution_count": 58,
   "id": "a349efe0-0241-4a10-b5ef-e90d55338412",
   "metadata": {},
   "outputs": [
    {
     "data": {
      "text/plain": [
       "2117332470528"
      ]
     },
     "execution_count": 58,
     "metadata": {},
     "output_type": "execute_result"
    }
   ],
   "source": [
    "l = [1,2,3,4]\n",
    "id(l)"
   ]
  },
  {
   "cell_type": "code",
   "execution_count": 59,
   "id": "be5c5d80-88d9-458e-83c3-85fbe8776c9f",
   "metadata": {},
   "outputs": [],
   "source": [
    "result = l.pop()"
   ]
  },
  {
   "cell_type": "code",
   "execution_count": 61,
   "id": "da3e6532-1cf3-4271-880b-e3bde206edb9",
   "metadata": {},
   "outputs": [
    {
     "data": {
      "text/plain": [
       "[1, 2, 3]"
      ]
     },
     "execution_count": 61,
     "metadata": {},
     "output_type": "execute_result"
    }
   ],
   "source": [
    "l"
   ]
  },
  {
   "cell_type": "code",
   "execution_count": 60,
   "id": "34f82bbc-237a-45cc-9ac9-8ee519d6a81b",
   "metadata": {},
   "outputs": [
    {
     "data": {
      "text/plain": [
       "4"
      ]
     },
     "execution_count": 60,
     "metadata": {},
     "output_type": "execute_result"
    }
   ],
   "source": [
    "result"
   ]
  },
  {
   "cell_type": "code",
   "execution_count": 62,
   "id": "f6173f3d-65c3-4c49-bc62-7e8c11a556fd",
   "metadata": {},
   "outputs": [
    {
     "data": {
      "text/plain": [
       "2"
      ]
     },
     "execution_count": 62,
     "metadata": {},
     "output_type": "execute_result"
    }
   ],
   "source": [
    "l.pop(1)"
   ]
  },
  {
   "cell_type": "code",
   "execution_count": 63,
   "id": "9cf9d352-68e6-4df6-adba-bf888a25c269",
   "metadata": {},
   "outputs": [
    {
     "data": {
      "text/plain": [
       "[1, 3]"
      ]
     },
     "execution_count": 63,
     "metadata": {},
     "output_type": "execute_result"
    }
   ],
   "source": [
    "l"
   ]
  },
  {
   "cell_type": "code",
   "execution_count": 64,
   "id": "67f1b88d-9fd5-4521-a426-f13f6a6c6465",
   "metadata": {},
   "outputs": [
    {
     "data": {
      "text/plain": [
       "2117332470528"
      ]
     },
     "execution_count": 64,
     "metadata": {},
     "output_type": "execute_result"
    }
   ],
   "source": [
    "id(l)"
   ]
  },
  {
   "cell_type": "code",
   "execution_count": 65,
   "id": "564cae01-0576-4f14-9644-ba8a9b6e7ebc",
   "metadata": {},
   "outputs": [],
   "source": [
    "l = [1,2,3]"
   ]
  },
  {
   "cell_type": "code",
   "execution_count": 66,
   "id": "a49fc4d6-6d41-4451-a2e0-f4db515637c3",
   "metadata": {},
   "outputs": [],
   "source": [
    "del l[1]"
   ]
  },
  {
   "cell_type": "code",
   "execution_count": 67,
   "id": "f4411f53-1b30-4c81-a817-aab4544f36f6",
   "metadata": {},
   "outputs": [
    {
     "data": {
      "text/plain": [
       "[1, 3]"
      ]
     },
     "execution_count": 67,
     "metadata": {},
     "output_type": "execute_result"
    }
   ],
   "source": [
    "l"
   ]
  },
  {
   "cell_type": "code",
   "execution_count": 68,
   "id": "779419e2-580f-4a35-92b6-65b17d284593",
   "metadata": {},
   "outputs": [
    {
     "data": {
      "text/plain": [
       "2117332471616"
      ]
     },
     "execution_count": 68,
     "metadata": {},
     "output_type": "execute_result"
    }
   ],
   "source": [
    "l = [1,2,3,4]\n",
    "id(l)"
   ]
  },
  {
   "cell_type": "code",
   "execution_count": 69,
   "id": "8b18bca9-2338-40f3-9260-3ef0de50350e",
   "metadata": {},
   "outputs": [],
   "source": [
    "l.insert(1, 'a')"
   ]
  },
  {
   "cell_type": "code",
   "execution_count": 70,
   "id": "19adcbb1-7c90-4090-9de7-99b55c7537a3",
   "metadata": {},
   "outputs": [
    {
     "data": {
      "text/plain": [
       "[1, 'a', 2, 3, 4]"
      ]
     },
     "execution_count": 70,
     "metadata": {},
     "output_type": "execute_result"
    }
   ],
   "source": [
    "l"
   ]
  },
  {
   "cell_type": "code",
   "execution_count": 71,
   "id": "d531516d-f144-4b95-aa93-f8937ef23b1d",
   "metadata": {},
   "outputs": [
    {
     "data": {
      "text/plain": [
       "2117332471616"
      ]
     },
     "execution_count": 71,
     "metadata": {},
     "output_type": "execute_result"
    }
   ],
   "source": [
    "id(l)"
   ]
  },
  {
   "cell_type": "code",
   "execution_count": 72,
   "id": "a8ddeaae-4183-4038-bac1-f31ed1f2db3e",
   "metadata": {},
   "outputs": [],
   "source": [
    "l = [1,2,3]"
   ]
  },
  {
   "cell_type": "code",
   "execution_count": 74,
   "id": "54f915b2-be92-46f1-af64-1081d5659196",
   "metadata": {},
   "outputs": [],
   "source": [
    "l2 = l[::-1]"
   ]
  },
  {
   "cell_type": "code",
   "execution_count": 75,
   "id": "a25a125c-8acd-469e-8157-3018aad718fc",
   "metadata": {},
   "outputs": [
    {
     "data": {
      "text/plain": [
       "(2117332481664, 2117332453120)"
      ]
     },
     "execution_count": 75,
     "metadata": {},
     "output_type": "execute_result"
    }
   ],
   "source": [
    "id(l), id(l2)"
   ]
  },
  {
   "cell_type": "code",
   "execution_count": 76,
   "id": "289da4a3-b43b-4c15-b430-67e4b1b40b93",
   "metadata": {},
   "outputs": [
    {
     "data": {
      "text/plain": [
       "[1, 2, 3]"
      ]
     },
     "execution_count": 76,
     "metadata": {},
     "output_type": "execute_result"
    }
   ],
   "source": [
    "l"
   ]
  },
  {
   "cell_type": "code",
   "execution_count": 77,
   "id": "30249cea-c5b3-4ff0-a570-528c9bb29edd",
   "metadata": {},
   "outputs": [],
   "source": [
    "l.reverse()"
   ]
  },
  {
   "cell_type": "code",
   "execution_count": 78,
   "id": "1cc77238-fcfd-432f-9376-837fb96aa3dd",
   "metadata": {},
   "outputs": [
    {
     "data": {
      "text/plain": [
       "[3, 2, 1]"
      ]
     },
     "execution_count": 78,
     "metadata": {},
     "output_type": "execute_result"
    }
   ],
   "source": [
    "l"
   ]
  },
  {
   "cell_type": "code",
   "execution_count": 79,
   "id": "a89b7606-d9c1-42d3-8018-c7c9ff7b25b7",
   "metadata": {},
   "outputs": [
    {
     "data": {
      "text/plain": [
       "(2117332481664, [3, 2, 1])"
      ]
     },
     "execution_count": 79,
     "metadata": {},
     "output_type": "execute_result"
    }
   ],
   "source": [
    "id(l), l"
   ]
  },
  {
   "cell_type": "code",
   "execution_count": 80,
   "id": "8f6e9f13-21d2-4259-9d69-0ab53fc4548f",
   "metadata": {},
   "outputs": [
    {
     "data": {
      "text/plain": [
       "2117332522880"
      ]
     },
     "execution_count": 80,
     "metadata": {},
     "output_type": "execute_result"
    }
   ],
   "source": [
    "l = [1,2,3,4]\n",
    "id(l)"
   ]
  },
  {
   "cell_type": "code",
   "execution_count": 81,
   "id": "94100ba1-3daf-4e51-9425-1d43be603fdd",
   "metadata": {},
   "outputs": [],
   "source": [
    "l2 = l[:]"
   ]
  },
  {
   "cell_type": "code",
   "execution_count": 82,
   "id": "9c2dd768-f2d1-4a82-9c36-72661d88bcfa",
   "metadata": {},
   "outputs": [
    {
     "data": {
      "text/plain": [
       "[1, 2, 3, 4]"
      ]
     },
     "execution_count": 82,
     "metadata": {},
     "output_type": "execute_result"
    }
   ],
   "source": [
    "l2"
   ]
  },
  {
   "cell_type": "code",
   "execution_count": 83,
   "id": "19af38d9-5e89-4b08-a816-0593aa61719b",
   "metadata": {},
   "outputs": [
    {
     "data": {
      "text/plain": [
       "2117332472704"
      ]
     },
     "execution_count": 83,
     "metadata": {},
     "output_type": "execute_result"
    }
   ],
   "source": [
    "id(l2)"
   ]
  },
  {
   "cell_type": "code",
   "execution_count": 84,
   "id": "aa0b3451-605f-47ff-8cbf-631ca163a899",
   "metadata": {},
   "outputs": [],
   "source": [
    "l3 = l.copy()"
   ]
  },
  {
   "cell_type": "code",
   "execution_count": 85,
   "id": "31de8102-ed8d-408b-a8b2-a2d0c62642a6",
   "metadata": {},
   "outputs": [
    {
     "data": {
      "text/plain": [
       "[1, 2, 3, 4]"
      ]
     },
     "execution_count": 85,
     "metadata": {},
     "output_type": "execute_result"
    }
   ],
   "source": [
    "l3"
   ]
  },
  {
   "cell_type": "code",
   "execution_count": 86,
   "id": "9fa9f0f9-3964-46b6-9b2c-2c5aa933b790",
   "metadata": {},
   "outputs": [
    {
     "data": {
      "text/plain": [
       "(2117332363392, 2117332522880)"
      ]
     },
     "execution_count": 86,
     "metadata": {},
     "output_type": "execute_result"
    }
   ],
   "source": [
    "id(l3), id(l)"
   ]
  },
  {
   "cell_type": "code",
   "execution_count": 87,
   "id": "7bd183e2-e56f-4bce-8a3e-5784a62e2607",
   "metadata": {},
   "outputs": [],
   "source": [
    "l = [['a', 'b'], 'c', 'd']"
   ]
  },
  {
   "cell_type": "code",
   "execution_count": 90,
   "id": "823f2f76-38c6-4a96-83ad-cc2fd4a5961f",
   "metadata": {},
   "outputs": [
    {
     "data": {
      "text/plain": [
       "(2117332461952, 2117332519552, 140716795174560)"
      ]
     },
     "execution_count": 90,
     "metadata": {},
     "output_type": "execute_result"
    }
   ],
   "source": [
    "id(l), id(l[0]), id(l[1])"
   ]
  },
  {
   "cell_type": "code",
   "execution_count": 91,
   "id": "30d8f991-f2ef-4997-8709-0f777954b847",
   "metadata": {},
   "outputs": [],
   "source": [
    "l2 = l.copy()"
   ]
  },
  {
   "cell_type": "code",
   "execution_count": 92,
   "id": "bf48a86d-57a7-4cc1-a017-2a7482a76838",
   "metadata": {},
   "outputs": [
    {
     "data": {
      "text/plain": [
       "2117332518912"
      ]
     },
     "execution_count": 92,
     "metadata": {},
     "output_type": "execute_result"
    }
   ],
   "source": [
    "id(l2)"
   ]
  },
  {
   "cell_type": "code",
   "execution_count": 93,
   "id": "4099eeff-5171-4fb7-9388-7efea161345c",
   "metadata": {},
   "outputs": [
    {
     "data": {
      "text/plain": [
       "[['a', 'b'], 'c', 'd']"
      ]
     },
     "execution_count": 93,
     "metadata": {},
     "output_type": "execute_result"
    }
   ],
   "source": [
    "l2"
   ]
  },
  {
   "cell_type": "code",
   "execution_count": 94,
   "id": "7dc33c35-7fc0-4a7f-b8e5-31d8f3d21229",
   "metadata": {},
   "outputs": [
    {
     "data": {
      "text/plain": [
       "(2117332519552, 140716795174560)"
      ]
     },
     "execution_count": 94,
     "metadata": {},
     "output_type": "execute_result"
    }
   ],
   "source": [
    "id(l2[0]), id(l2[1])"
   ]
  },
  {
   "cell_type": "code",
   "execution_count": 95,
   "id": "658a8210-f994-47a5-ab6c-21c38e56db8f",
   "metadata": {},
   "outputs": [
    {
     "data": {
      "text/plain": [
       "[['a', 'b'], 'c', 'd']"
      ]
     },
     "execution_count": 95,
     "metadata": {},
     "output_type": "execute_result"
    }
   ],
   "source": [
    "l"
   ]
  },
  {
   "cell_type": "code",
   "execution_count": 96,
   "id": "898dec09-4957-4a9f-9ae9-14e7263717cb",
   "metadata": {},
   "outputs": [
    {
     "data": {
      "text/plain": [
       "[['a', 'b'], 'c', 'd']"
      ]
     },
     "execution_count": 96,
     "metadata": {},
     "output_type": "execute_result"
    }
   ],
   "source": [
    "l2"
   ]
  },
  {
   "cell_type": "code",
   "execution_count": 97,
   "id": "2118764d-d3a4-462b-a018-55dbdbbda2e8",
   "metadata": {},
   "outputs": [
    {
     "data": {
      "text/plain": [
       "(2117332461952, 2117332518912)"
      ]
     },
     "execution_count": 97,
     "metadata": {},
     "output_type": "execute_result"
    }
   ],
   "source": [
    "id(l), id(l2)"
   ]
  },
  {
   "cell_type": "code",
   "execution_count": 98,
   "id": "810851eb-0d7e-474a-8a09-77833ac08aa0",
   "metadata": {},
   "outputs": [],
   "source": [
    "l[0].append('x')"
   ]
  },
  {
   "cell_type": "code",
   "execution_count": 99,
   "id": "673761eb-bfe8-43d6-8d19-af7d4531161b",
   "metadata": {},
   "outputs": [
    {
     "data": {
      "text/plain": [
       "[['a', 'b', 'x'], 'c', 'd']"
      ]
     },
     "execution_count": 99,
     "metadata": {},
     "output_type": "execute_result"
    }
   ],
   "source": [
    "l"
   ]
  },
  {
   "cell_type": "code",
   "execution_count": 100,
   "id": "a78d8de5-aaa8-4252-9fa3-71829bfd43ad",
   "metadata": {},
   "outputs": [
    {
     "data": {
      "text/plain": [
       "[['a', 'b', 'x'], 'c', 'd']"
      ]
     },
     "execution_count": 100,
     "metadata": {},
     "output_type": "execute_result"
    }
   ],
   "source": [
    "l2"
   ]
  },
  {
   "cell_type": "code",
   "execution_count": 101,
   "id": "ee5e1146-976b-410e-81f6-3489df6a2079",
   "metadata": {},
   "outputs": [],
   "source": [
    "l.append('e')"
   ]
  },
  {
   "cell_type": "code",
   "execution_count": 102,
   "id": "a181b678-88e0-44fe-a462-7a727fc2e53d",
   "metadata": {},
   "outputs": [
    {
     "data": {
      "text/plain": [
       "[['a', 'b', 'x'], 'c', 'd', 'e']"
      ]
     },
     "execution_count": 102,
     "metadata": {},
     "output_type": "execute_result"
    }
   ],
   "source": [
    "l"
   ]
  },
  {
   "cell_type": "code",
   "execution_count": 103,
   "id": "737e3bd4-8dfc-4c2b-aaf3-17a7bb8cd8bd",
   "metadata": {},
   "outputs": [
    {
     "data": {
      "text/plain": [
       "[['a', 'b', 'x'], 'c', 'd']"
      ]
     },
     "execution_count": 103,
     "metadata": {},
     "output_type": "execute_result"
    }
   ],
   "source": [
    "l2"
   ]
  },
  {
   "cell_type": "code",
   "execution_count": null,
   "id": "76b71ff7-ea9c-46ae-9e09-3e02cd55b269",
   "metadata": {},
   "outputs": [],
   "source": []
  }
 ],
 "metadata": {
  "kernelspec": {
   "display_name": "Python 3 (ipykernel)",
   "language": "python",
   "name": "python3"
  },
  "language_info": {
   "codemirror_mode": {
    "name": "ipython",
    "version": 3
   },
   "file_extension": ".py",
   "mimetype": "text/x-python",
   "name": "python",
   "nbconvert_exporter": "python",
   "pygments_lexer": "ipython3",
   "version": "3.12.7"
  }
 },
 "nbformat": 4,
 "nbformat_minor": 5
}
