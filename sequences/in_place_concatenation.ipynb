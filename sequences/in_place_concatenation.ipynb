{
 "cells": [
  {
   "cell_type": "code",
   "execution_count": 2,
   "id": "d63d8aa8-0c31-4a7c-a5f3-a4245d5c34eb",
   "metadata": {},
   "outputs": [
    {
     "name": "stdout",
     "output_type": "stream",
     "text": [
      "2608292422144\n",
      "2608292083648\n"
     ]
    }
   ],
   "source": [
    "l1 = [1,2,3,4]\n",
    "l2= [5,6]\n",
    "print(id(l1))\n",
    "print(id(l2))"
   ]
  },
  {
   "cell_type": "code",
   "execution_count": 3,
   "id": "4d8508ee-d3bb-4235-a2ee-72118cf5ccef",
   "metadata": {},
   "outputs": [
    {
     "name": "stdout",
     "output_type": "stream",
     "text": [
      "2608292076224 [1, 2, 3, 4, 5, 6]\n"
     ]
    }
   ],
   "source": [
    "l1 = l1 + l2\n",
    "print(id(l1), l1)"
   ]
  },
  {
   "cell_type": "code",
   "execution_count": 4,
   "id": "572a17d0-72f4-4ac5-90fc-a0e9972759e9",
   "metadata": {},
   "outputs": [],
   "source": [
    "t1 = (1,2,3)"
   ]
  },
  {
   "cell_type": "code",
   "execution_count": 5,
   "id": "608dd0b4-3586-479f-aa1b-9b1794e86bce",
   "metadata": {},
   "outputs": [
    {
     "ename": "TypeError",
     "evalue": "can only concatenate list (not \"tuple\") to list",
     "output_type": "error",
     "traceback": [
      "\u001b[1;31m---------------------------------------------------------------------------\u001b[0m",
      "\u001b[1;31mTypeError\u001b[0m                                 Traceback (most recent call last)",
      "Cell \u001b[1;32mIn[5], line 1\u001b[0m\n\u001b[1;32m----> 1\u001b[0m l1 \u001b[38;5;241m=\u001b[39m l1 \u001b[38;5;241m+\u001b[39m t1\n",
      "\u001b[1;31mTypeError\u001b[0m: can only concatenate list (not \"tuple\") to list"
     ]
    }
   ],
   "source": [
    "l1 = l1 + t1"
   ]
  },
  {
   "cell_type": "code",
   "execution_count": 6,
   "id": "107af815-e5c3-4045-ad2d-ce3ca1bfa4a9",
   "metadata": {},
   "outputs": [
    {
     "name": "stdout",
     "output_type": "stream",
     "text": [
      "2608306494848\n",
      "2608306488896\n"
     ]
    }
   ],
   "source": [
    "l1 = [1,2,3,4]\n",
    "l2= [5,6]\n",
    "print(id(l1))\n",
    "print(id(l2))"
   ]
  },
  {
   "cell_type": "code",
   "execution_count": 7,
   "id": "c50e56e9-4195-4967-b9f6-2947e7a607a7",
   "metadata": {},
   "outputs": [],
   "source": [
    "l1 += l2"
   ]
  },
  {
   "cell_type": "code",
   "execution_count": 8,
   "id": "77dd5e3d-e287-4add-8193-a49ff0b534f4",
   "metadata": {},
   "outputs": [
    {
     "name": "stdout",
     "output_type": "stream",
     "text": [
      "2608306494848 [1, 2, 3, 4, 5, 6]\n"
     ]
    }
   ],
   "source": [
    "print(id(l1), l1)"
   ]
  },
  {
   "cell_type": "code",
   "execution_count": 9,
   "id": "4e568c8c-3134-48ee-a953-e57fbb853907",
   "metadata": {},
   "outputs": [
    {
     "name": "stdout",
     "output_type": "stream",
     "text": [
      "2608306494848\n",
      "2608306488896\n"
     ]
    }
   ],
   "source": [
    "t1 = (1,2,3,4)\n",
    "t2= (5,6)\n",
    "print(id(l1))\n",
    "print(id(l2))"
   ]
  },
  {
   "cell_type": "code",
   "execution_count": 10,
   "id": "5787f0b6-0217-4ece-82ec-6a1142355118",
   "metadata": {},
   "outputs": [],
   "source": [
    "l1 += t1"
   ]
  },
  {
   "cell_type": "code",
   "execution_count": 11,
   "id": "9a289286-8071-440c-a599-75a708eb44d8",
   "metadata": {},
   "outputs": [
    {
     "name": "stdout",
     "output_type": "stream",
     "text": [
      "2608306494848 [1, 2, 3, 4, 5, 6, 1, 2, 3, 4]\n"
     ]
    }
   ],
   "source": [
    "print(id(l1), l1)"
   ]
  },
  {
   "cell_type": "code",
   "execution_count": 12,
   "id": "b2fbf5a8-3fa4-4307-baf2-db1cb4336e0c",
   "metadata": {},
   "outputs": [],
   "source": [
    "l1 += range(7, 11)"
   ]
  },
  {
   "cell_type": "code",
   "execution_count": 13,
   "id": "04953975-6dc2-4b18-824b-fa692ea5aa18",
   "metadata": {},
   "outputs": [
    {
     "name": "stdout",
     "output_type": "stream",
     "text": [
      "2608306494848 [1, 2, 3, 4, 5, 6, 1, 2, 3, 4, 7, 8, 9, 10]\n"
     ]
    }
   ],
   "source": [
    "print(id(l1), l1)"
   ]
  },
  {
   "cell_type": "code",
   "execution_count": 14,
   "id": "1d6c286c-bb0b-458c-90be-15687ea97b7e",
   "metadata": {},
   "outputs": [],
   "source": [
    "l1 += {100, 'X', 'a'}"
   ]
  },
  {
   "cell_type": "code",
   "execution_count": 15,
   "id": "39265209-0b20-4fc6-8b6d-55b591bb3079",
   "metadata": {},
   "outputs": [
    {
     "name": "stdout",
     "output_type": "stream",
     "text": [
      "2608306494848 [1, 2, 3, 4, 5, 6, 1, 2, 3, 4, 7, 8, 9, 10, 'X', 100, 'a']\n"
     ]
    }
   ],
   "source": [
    "print(id(l1), l1)"
   ]
  },
  {
   "cell_type": "code",
   "execution_count": 16,
   "id": "50327bd2-2c51-407a-b11f-4ebe892c7cd9",
   "metadata": {},
   "outputs": [],
   "source": [
    "t1 = (1,2,3)\n",
    "t2 = (4,5,6)"
   ]
  },
  {
   "cell_type": "code",
   "execution_count": 17,
   "id": "372e7946-ba3e-485e-af74-4c2cb3e57b87",
   "metadata": {},
   "outputs": [
    {
     "name": "stdout",
     "output_type": "stream",
     "text": [
      "2608291968256 (1, 2, 3)\n",
      "2608292482752 (4, 5, 6)\n"
     ]
    }
   ],
   "source": [
    "print(id(t1), t1)\n",
    "print(id(t2), t2)"
   ]
  },
  {
   "cell_type": "code",
   "execution_count": 18,
   "id": "d86585fe-ced1-47b8-9d3e-01b8e08eaa57",
   "metadata": {},
   "outputs": [
    {
     "name": "stdout",
     "output_type": "stream",
     "text": [
      "2608305204352 (1, 2, 3, 4, 5, 6)\n"
     ]
    }
   ],
   "source": [
    "t1 += t2\n",
    "print(id(t1), t1)"
   ]
  },
  {
   "cell_type": "code",
   "execution_count": 19,
   "id": "c8c35289-8c95-44bc-9685-b2057a449ef3",
   "metadata": {},
   "outputs": [
    {
     "name": "stdout",
     "output_type": "stream",
     "text": [
      "2608306601024 [1, 2, 3]\n"
     ]
    }
   ],
   "source": [
    "l1 = [1,2,3]\n",
    "print(id(l1), l1)"
   ]
  },
  {
   "cell_type": "code",
   "execution_count": 20,
   "id": "599429fd-4fae-4413-b09c-34bc3043704e",
   "metadata": {},
   "outputs": [],
   "source": [
    "l1 = l1 * 2"
   ]
  },
  {
   "cell_type": "code",
   "execution_count": 21,
   "id": "dd8ac259-fb3e-4029-b7e5-2274bf0ba551",
   "metadata": {},
   "outputs": [
    {
     "name": "stdout",
     "output_type": "stream",
     "text": [
      "2608292485120 [1, 2, 3, 1, 2, 3]\n"
     ]
    }
   ],
   "source": [
    "print(id(l1), l1)"
   ]
  },
  {
   "cell_type": "code",
   "execution_count": 22,
   "id": "d45bf68b-c5d4-47fb-865b-a5e72ea54922",
   "metadata": {},
   "outputs": [
    {
     "name": "stdout",
     "output_type": "stream",
     "text": [
      "2608297965888 [1, 2, 3]\n"
     ]
    }
   ],
   "source": [
    "l1 = [1,2,3]\n",
    "print(id(l1), l1)"
   ]
  },
  {
   "cell_type": "code",
   "execution_count": 23,
   "id": "b77b4e32-7d28-412a-931d-2e4b996337b2",
   "metadata": {},
   "outputs": [],
   "source": [
    "l1 *= 2"
   ]
  },
  {
   "cell_type": "code",
   "execution_count": 24,
   "id": "c72f2ba0-69a0-43e5-a850-27c17c5bea62",
   "metadata": {},
   "outputs": [
    {
     "name": "stdout",
     "output_type": "stream",
     "text": [
      "2608297965888 [1, 2, 3, 1, 2, 3]\n"
     ]
    }
   ],
   "source": [
    "print(id(l1), l1)"
   ]
  },
  {
   "cell_type": "code",
   "execution_count": 25,
   "id": "48cd00b2-b158-426c-8f0c-c19b46fd4094",
   "metadata": {},
   "outputs": [
    {
     "name": "stdout",
     "output_type": "stream",
     "text": [
      "2608306781760 (1, 2, 3)\n"
     ]
    }
   ],
   "source": [
    "t1 = (1,2,3)\n",
    "print(id(t1), t1)"
   ]
  },
  {
   "cell_type": "code",
   "execution_count": 26,
   "id": "ab667c9e-a4da-4b75-9c9b-17b398796d19",
   "metadata": {},
   "outputs": [
    {
     "name": "stdout",
     "output_type": "stream",
     "text": [
      "2608305204352 (1, 2, 3, 1, 2, 3)\n"
     ]
    }
   ],
   "source": [
    "t1 *= 2\n",
    "print(id(t1), t1)"
   ]
  },
  {
   "cell_type": "code",
   "execution_count": null,
   "id": "b5c08594-d0dc-47cd-9729-b053ec584f7d",
   "metadata": {},
   "outputs": [],
   "source": []
  }
 ],
 "metadata": {
  "kernelspec": {
   "display_name": "Python 3 (ipykernel)",
   "language": "python",
   "name": "python3"
  },
  "language_info": {
   "codemirror_mode": {
    "name": "ipython",
    "version": 3
   },
   "file_extension": ".py",
   "mimetype": "text/x-python",
   "name": "python",
   "nbconvert_exporter": "python",
   "pygments_lexer": "ipython3",
   "version": "3.12.7"
  }
 },
 "nbformat": 4,
 "nbformat_minor": 5
}
