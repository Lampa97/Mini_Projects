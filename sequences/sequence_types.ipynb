{
 "cells": [
  {
   "cell_type": "code",
   "execution_count": 1,
   "id": "5e9ff9d5-d848-4d59-8653-f5f588f7bd8d",
   "metadata": {},
   "outputs": [],
   "source": [
    "l = [1,2,3]\n",
    "t = (1,2,3)\n",
    "s = 'python'"
   ]
  },
  {
   "cell_type": "code",
   "execution_count": 2,
   "id": "10fcbddd-89ca-495f-9e7c-9119ce053a17",
   "metadata": {},
   "outputs": [
    {
     "data": {
      "text/plain": [
       "1"
      ]
     },
     "execution_count": 2,
     "metadata": {},
     "output_type": "execute_result"
    }
   ],
   "source": [
    "l[0]"
   ]
  },
  {
   "cell_type": "code",
   "execution_count": 3,
   "id": "e6fb24f6-6f46-4ba5-a0e5-da615d5236ae",
   "metadata": {},
   "outputs": [
    {
     "data": {
      "text/plain": [
       "2"
      ]
     },
     "execution_count": 3,
     "metadata": {},
     "output_type": "execute_result"
    }
   ],
   "source": [
    "t[1]"
   ]
  },
  {
   "cell_type": "code",
   "execution_count": 4,
   "id": "6135e73b-c7c2-493c-af5d-667d6736a0fb",
   "metadata": {},
   "outputs": [
    {
     "data": {
      "text/plain": [
       "'t'"
      ]
     },
     "execution_count": 4,
     "metadata": {},
     "output_type": "execute_result"
    }
   ],
   "source": [
    "s[2]"
   ]
  },
  {
   "cell_type": "code",
   "execution_count": 5,
   "id": "fd76af78-5f81-4a6c-89ac-efeb71b35e0f",
   "metadata": {},
   "outputs": [
    {
     "name": "stdout",
     "output_type": "stream",
     "text": [
      "p\n",
      "y\n",
      "t\n",
      "h\n",
      "o\n",
      "n\n"
     ]
    }
   ],
   "source": [
    "for c in s:\n",
    "    print(c)"
   ]
  },
  {
   "cell_type": "code",
   "execution_count": 6,
   "id": "6697afc6-89ed-4edb-b5ca-f35685b50839",
   "metadata": {},
   "outputs": [],
   "source": [
    "s = {10, 20, 30}"
   ]
  },
  {
   "cell_type": "code",
   "execution_count": 7,
   "id": "52ab97c5-48e5-4b56-ae0d-ab82da29df6e",
   "metadata": {},
   "outputs": [
    {
     "name": "stdout",
     "output_type": "stream",
     "text": [
      "10\n",
      "20\n",
      "30\n"
     ]
    }
   ],
   "source": [
    "for e in s:\n",
    "    print(e)"
   ]
  },
  {
   "cell_type": "code",
   "execution_count": 14,
   "id": "30d7a2ce-a2eb-44d0-b2ef-d3d8499f678f",
   "metadata": {},
   "outputs": [],
   "source": [
    "s = {'x', 10, 'a', 'A'}"
   ]
  },
  {
   "cell_type": "code",
   "execution_count": 15,
   "id": "d2e2ec94-0448-4731-a846-eccfdf7f9146",
   "metadata": {},
   "outputs": [
    {
     "name": "stdout",
     "output_type": "stream",
     "text": [
      "x\n",
      "10\n",
      "A\n",
      "a\n"
     ]
    }
   ],
   "source": [
    "for e in s:\n",
    "    print(e)"
   ]
  },
  {
   "cell_type": "code",
   "execution_count": 16,
   "id": "26a9dd77-0ad5-41b7-805e-d5d9e2b6360c",
   "metadata": {},
   "outputs": [
    {
     "ename": "TypeError",
     "evalue": "'set' object is not subscriptable",
     "output_type": "error",
     "traceback": [
      "\u001b[1;31m---------------------------------------------------------------------------\u001b[0m",
      "\u001b[1;31mTypeError\u001b[0m                                 Traceback (most recent call last)",
      "Cell \u001b[1;32mIn[16], line 1\u001b[0m\n\u001b[1;32m----> 1\u001b[0m s[\u001b[38;5;241m0\u001b[39m]\n",
      "\u001b[1;31mTypeError\u001b[0m: 'set' object is not subscriptable"
     ]
    }
   ],
   "source": [
    "s[0]"
   ]
  },
  {
   "cell_type": "code",
   "execution_count": 17,
   "id": "530409fa-7d33-4ff8-9997-c42d166f4917",
   "metadata": {},
   "outputs": [],
   "source": [
    "l = [1,2,3]\n",
    "t = (1,2,3)"
   ]
  },
  {
   "cell_type": "code",
   "execution_count": 18,
   "id": "b47aa72d-0278-45b1-89e2-0d22df6b772e",
   "metadata": {},
   "outputs": [
    {
     "data": {
      "text/plain": [
       "1"
      ]
     },
     "execution_count": 18,
     "metadata": {},
     "output_type": "execute_result"
    }
   ],
   "source": [
    "l[0]"
   ]
  },
  {
   "cell_type": "code",
   "execution_count": 19,
   "id": "0160fa23-767b-46e2-b86f-5929d325f508",
   "metadata": {},
   "outputs": [
    {
     "data": {
      "text/plain": [
       "1"
      ]
     },
     "execution_count": 19,
     "metadata": {},
     "output_type": "execute_result"
    }
   ],
   "source": [
    "t[0]\n"
   ]
  },
  {
   "cell_type": "code",
   "execution_count": 20,
   "id": "dba25331-2095-427c-b719-c87d0602332b",
   "metadata": {},
   "outputs": [],
   "source": [
    "l[0] = 100"
   ]
  },
  {
   "cell_type": "code",
   "execution_count": 21,
   "id": "1b2880aa-bbaa-4bf0-925f-914eeb4ea00e",
   "metadata": {},
   "outputs": [
    {
     "data": {
      "text/plain": [
       "[100, 2, 3]"
      ]
     },
     "execution_count": 21,
     "metadata": {},
     "output_type": "execute_result"
    }
   ],
   "source": [
    "l"
   ]
  },
  {
   "cell_type": "code",
   "execution_count": 22,
   "id": "55d2b3f2-210d-457c-abd1-e94cfc08890b",
   "metadata": {},
   "outputs": [
    {
     "ename": "TypeError",
     "evalue": "'tuple' object does not support item assignment",
     "output_type": "error",
     "traceback": [
      "\u001b[1;31m---------------------------------------------------------------------------\u001b[0m",
      "\u001b[1;31mTypeError\u001b[0m                                 Traceback (most recent call last)",
      "Cell \u001b[1;32mIn[22], line 1\u001b[0m\n\u001b[1;32m----> 1\u001b[0m t[\u001b[38;5;241m0\u001b[39m] \u001b[38;5;241m=\u001b[39m \u001b[38;5;241m100\u001b[39m\n",
      "\u001b[1;31mTypeError\u001b[0m: 'tuple' object does not support item assignment"
     ]
    }
   ],
   "source": [
    "t[0] = 100"
   ]
  },
  {
   "cell_type": "code",
   "execution_count": 23,
   "id": "a2a5a789-7c5e-4e6f-b1b3-205c1d455473",
   "metadata": {},
   "outputs": [],
   "source": [
    "t = ([1,2], 3, 4)"
   ]
  },
  {
   "cell_type": "code",
   "execution_count": 24,
   "id": "33fffabe-4d19-4cf8-8947-c8f352d24dc2",
   "metadata": {},
   "outputs": [
    {
     "ename": "TypeError",
     "evalue": "'tuple' object does not support item assignment",
     "output_type": "error",
     "traceback": [
      "\u001b[1;31m---------------------------------------------------------------------------\u001b[0m",
      "\u001b[1;31mTypeError\u001b[0m                                 Traceback (most recent call last)",
      "Cell \u001b[1;32mIn[24], line 1\u001b[0m\n\u001b[1;32m----> 1\u001b[0m t[\u001b[38;5;241m0\u001b[39m] \u001b[38;5;241m=\u001b[39m [\u001b[38;5;241m1\u001b[39m,\u001b[38;5;241m2\u001b[39m,\u001b[38;5;241m3\u001b[39m]\n",
      "\u001b[1;31mTypeError\u001b[0m: 'tuple' object does not support item assignment"
     ]
    }
   ],
   "source": [
    "t[0] = [1,2,3]"
   ]
  },
  {
   "cell_type": "code",
   "execution_count": 25,
   "id": "07959ba0-4079-446c-bfa0-51d44f77d4cb",
   "metadata": {},
   "outputs": [
    {
     "data": {
      "text/plain": [
       "[1, 2]"
      ]
     },
     "execution_count": 25,
     "metadata": {},
     "output_type": "execute_result"
    }
   ],
   "source": [
    "t[0]"
   ]
  },
  {
   "cell_type": "code",
   "execution_count": 26,
   "id": "099c4961-ee58-4d50-a26c-e62b94c52590",
   "metadata": {},
   "outputs": [],
   "source": [
    "t[0][0] = 100\n"
   ]
  },
  {
   "cell_type": "code",
   "execution_count": 27,
   "id": "88ea1591-d71e-470f-8996-5adb6d196aea",
   "metadata": {},
   "outputs": [
    {
     "data": {
      "text/plain": [
       "([100, 2], 3, 4)"
      ]
     },
     "execution_count": 27,
     "metadata": {},
     "output_type": "execute_result"
    }
   ],
   "source": [
    "t"
   ]
  },
  {
   "cell_type": "code",
   "execution_count": 28,
   "id": "6bb2c0e9-70d1-4bdd-82cd-c2fc55cbbe30",
   "metadata": {},
   "outputs": [
    {
     "data": {
      "text/plain": [
       "True"
      ]
     },
     "execution_count": 28,
     "metadata": {},
     "output_type": "execute_result"
    }
   ],
   "source": [
    "'a' in ['a', 'b', 100]"
   ]
  },
  {
   "cell_type": "code",
   "execution_count": 29,
   "id": "c7bc5093-60fd-4047-ae7c-673fd7f2dbd3",
   "metadata": {},
   "outputs": [
    {
     "data": {
      "text/plain": [
       "True"
      ]
     },
     "execution_count": 29,
     "metadata": {},
     "output_type": "execute_result"
    }
   ],
   "source": [
    "100 in range (200)"
   ]
  },
  {
   "cell_type": "code",
   "execution_count": 30,
   "id": "5501a52d-bed4-4b4b-be5a-c315e59f6917",
   "metadata": {},
   "outputs": [
    {
     "data": {
      "text/plain": [
       "(6, 3, 3, 2)"
      ]
     },
     "execution_count": 30,
     "metadata": {},
     "output_type": "execute_result"
    }
   ],
   "source": [
    "len('python'), len([1,2,3]), len({10, 20, 30}), len({'a':1, 'b':2})"
   ]
  },
  {
   "cell_type": "code",
   "execution_count": 31,
   "id": "bcbaab82-6a0c-48f0-a8ba-0d4038129be7",
   "metadata": {},
   "outputs": [
    {
     "data": {
      "text/plain": [
       "True"
      ]
     },
     "execution_count": 31,
     "metadata": {},
     "output_type": "execute_result"
    }
   ],
   "source": [
    "100 < 2000"
   ]
  },
  {
   "cell_type": "code",
   "execution_count": 32,
   "id": "5c6fce7d-d15a-4ede-afe2-26faa8c25a4f",
   "metadata": {},
   "outputs": [
    {
     "ename": "TypeError",
     "evalue": "'<' not supported between instances of 'complex' and 'complex'",
     "output_type": "error",
     "traceback": [
      "\u001b[1;31m---------------------------------------------------------------------------\u001b[0m",
      "\u001b[1;31mTypeError\u001b[0m                                 Traceback (most recent call last)",
      "Cell \u001b[1;32mIn[32], line 1\u001b[0m\n\u001b[1;32m----> 1\u001b[0m \u001b[38;5;241m2\u001b[39m \u001b[38;5;241m+\u001b[39m \u001b[38;5;241m2\u001b[39mj \u001b[38;5;241m<\u001b[39m \u001b[38;5;241m100\u001b[39m \u001b[38;5;241m+\u001b[39m \u001b[38;5;241m100\u001b[39mj\n",
      "\u001b[1;31mTypeError\u001b[0m: '<' not supported between instances of 'complex' and 'complex'"
     ]
    }
   ],
   "source": [
    "2 + 2j < 100 + 100j"
   ]
  },
  {
   "cell_type": "code",
   "execution_count": 33,
   "id": "0a27c92f-178f-479b-bfd7-3084b8df729e",
   "metadata": {},
   "outputs": [],
   "source": [
    "l = [100, 90, 20]"
   ]
  },
  {
   "cell_type": "code",
   "execution_count": 34,
   "id": "da8c8579-f359-439f-b325-3ed2f2fbe8a4",
   "metadata": {},
   "outputs": [
    {
     "data": {
      "text/plain": [
       "20"
      ]
     },
     "execution_count": 34,
     "metadata": {},
     "output_type": "execute_result"
    }
   ],
   "source": [
    "min(l)"
   ]
  },
  {
   "cell_type": "code",
   "execution_count": 35,
   "id": "b7c8fb00-b536-4813-a3f7-2b90c7ee5f81",
   "metadata": {},
   "outputs": [
    {
     "data": {
      "text/plain": [
       "100"
      ]
     },
     "execution_count": 35,
     "metadata": {},
     "output_type": "execute_result"
    }
   ],
   "source": [
    "max(l)"
   ]
  },
  {
   "cell_type": "code",
   "execution_count": 36,
   "id": "2e2342de-a5b4-4ec8-b815-7e2c52b62b03",
   "metadata": {},
   "outputs": [],
   "source": [
    "l = [2+2j, 10+10j, 100+100j]"
   ]
  },
  {
   "cell_type": "code",
   "execution_count": 37,
   "id": "1114d815-51b0-40e0-90c7-238c25b6854a",
   "metadata": {},
   "outputs": [
    {
     "ename": "TypeError",
     "evalue": "'<' not supported between instances of 'complex' and 'complex'",
     "output_type": "error",
     "traceback": [
      "\u001b[1;31m---------------------------------------------------------------------------\u001b[0m",
      "\u001b[1;31mTypeError\u001b[0m                                 Traceback (most recent call last)",
      "Cell \u001b[1;32mIn[37], line 1\u001b[0m\n\u001b[1;32m----> 1\u001b[0m \u001b[38;5;28mmin\u001b[39m(l)\n",
      "\u001b[1;31mTypeError\u001b[0m: '<' not supported between instances of 'complex' and 'complex'"
     ]
    }
   ],
   "source": [
    "min(l)"
   ]
  },
  {
   "cell_type": "code",
   "execution_count": 38,
   "id": "618ce3e2-3659-4822-99c7-f92698cf42e9",
   "metadata": {},
   "outputs": [],
   "source": [
    "l = ['a', 'b', 'c']"
   ]
  },
  {
   "cell_type": "code",
   "execution_count": 39,
   "id": "5c9efbab-0d2a-4ec0-aae8-4949bcee8667",
   "metadata": {},
   "outputs": [
    {
     "data": {
      "text/plain": [
       "True"
      ]
     },
     "execution_count": 39,
     "metadata": {},
     "output_type": "execute_result"
    }
   ],
   "source": [
    "'a' < 'b'"
   ]
  },
  {
   "cell_type": "code",
   "execution_count": 40,
   "id": "b2ac1001-4dbe-4c38-a572-37b017fdedbd",
   "metadata": {},
   "outputs": [
    {
     "data": {
      "text/plain": [
       "('a', 'c')"
      ]
     },
     "execution_count": 40,
     "metadata": {},
     "output_type": "execute_result"
    }
   ],
   "source": [
    "min(l), max(l)"
   ]
  },
  {
   "cell_type": "code",
   "execution_count": 41,
   "id": "e3729042-02fd-46d3-b17c-bf9eb3d33f57",
   "metadata": {},
   "outputs": [
    {
     "ename": "TypeError",
     "evalue": "'<' not supported between instances of 'str' and 'int'",
     "output_type": "error",
     "traceback": [
      "\u001b[1;31m---------------------------------------------------------------------------\u001b[0m",
      "\u001b[1;31mTypeError\u001b[0m                                 Traceback (most recent call last)",
      "Cell \u001b[1;32mIn[41], line 1\u001b[0m\n\u001b[1;32m----> 1\u001b[0m \u001b[38;5;124m'\u001b[39m\u001b[38;5;124ma\u001b[39m\u001b[38;5;124m'\u001b[39m \u001b[38;5;241m<\u001b[39m \u001b[38;5;241m10\u001b[39m\n",
      "\u001b[1;31mTypeError\u001b[0m: '<' not supported between instances of 'str' and 'int'"
     ]
    }
   ],
   "source": [
    "'a' < 10"
   ]
  },
  {
   "cell_type": "code",
   "execution_count": 42,
   "id": "62e0787f-ab1a-4478-83a9-3b0e286f7963",
   "metadata": {},
   "outputs": [],
   "source": [
    "l = ['a', 10, 100]"
   ]
  },
  {
   "cell_type": "code",
   "execution_count": 43,
   "id": "37392d2e-404d-4680-b5ad-0ce3ce378ac3",
   "metadata": {},
   "outputs": [
    {
     "ename": "TypeError",
     "evalue": "'<' not supported between instances of 'int' and 'str'",
     "output_type": "error",
     "traceback": [
      "\u001b[1;31m---------------------------------------------------------------------------\u001b[0m",
      "\u001b[1;31mTypeError\u001b[0m                                 Traceback (most recent call last)",
      "Cell \u001b[1;32mIn[43], line 1\u001b[0m\n\u001b[1;32m----> 1\u001b[0m \u001b[38;5;28mmin\u001b[39m(l)\n",
      "\u001b[1;31mTypeError\u001b[0m: '<' not supported between instances of 'int' and 'str'"
     ]
    }
   ],
   "source": [
    "min(l)"
   ]
  },
  {
   "cell_type": "code",
   "execution_count": 44,
   "id": "63c2e4eb-7017-4f5a-a7c4-80159fe859af",
   "metadata": {},
   "outputs": [],
   "source": [
    "from decimal import Decimal"
   ]
  },
  {
   "cell_type": "code",
   "execution_count": 45,
   "id": "cebd4b8c-c183-4b4d-9294-05d615e9b06b",
   "metadata": {},
   "outputs": [],
   "source": [
    "l = [10, 10.5, Decimal('20.3')]"
   ]
  },
  {
   "cell_type": "code",
   "execution_count": 46,
   "id": "94cfe10a-0312-4c86-83a6-9bd63b6f5e9d",
   "metadata": {},
   "outputs": [
    {
     "data": {
      "text/plain": [
       "[10, 10.5, Decimal('20.3')]"
      ]
     },
     "execution_count": 46,
     "metadata": {},
     "output_type": "execute_result"
    }
   ],
   "source": [
    "l"
   ]
  },
  {
   "cell_type": "code",
   "execution_count": 47,
   "id": "c59c37be-185e-43af-8f6d-bf8e3b1e7397",
   "metadata": {},
   "outputs": [
    {
     "data": {
      "text/plain": [
       "10"
      ]
     },
     "execution_count": 47,
     "metadata": {},
     "output_type": "execute_result"
    }
   ],
   "source": [
    "min(l)"
   ]
  },
  {
   "cell_type": "code",
   "execution_count": 48,
   "id": "051a273c-b5f5-4c88-8732-ae94cab6337a",
   "metadata": {},
   "outputs": [
    {
     "data": {
      "text/plain": [
       "[1, 2, 3, 4, 5, 6]"
      ]
     },
     "execution_count": 48,
     "metadata": {},
     "output_type": "execute_result"
    }
   ],
   "source": [
    "[1, 2, 3] + [4,5,6]"
   ]
  },
  {
   "cell_type": "code",
   "execution_count": 49,
   "id": "f32040e7-3395-41b2-a363-56d0f43b0e21",
   "metadata": {},
   "outputs": [
    {
     "ename": "TypeError",
     "evalue": "can only concatenate list (not \"tuple\") to list",
     "output_type": "error",
     "traceback": [
      "\u001b[1;31m---------------------------------------------------------------------------\u001b[0m",
      "\u001b[1;31mTypeError\u001b[0m                                 Traceback (most recent call last)",
      "Cell \u001b[1;32mIn[49], line 1\u001b[0m\n\u001b[1;32m----> 1\u001b[0m [\u001b[38;5;241m1\u001b[39m,\u001b[38;5;241m2\u001b[39m,\u001b[38;5;241m3\u001b[39m] \u001b[38;5;241m+\u001b[39m (\u001b[38;5;241m4\u001b[39m,\u001b[38;5;241m5\u001b[39m,\u001b[38;5;241m6\u001b[39m)\n",
      "\u001b[1;31mTypeError\u001b[0m: can only concatenate list (not \"tuple\") to list"
     ]
    }
   ],
   "source": [
    "[1,2,3] + (4,5,6)"
   ]
  },
  {
   "cell_type": "code",
   "execution_count": 50,
   "id": "6c19dbbe-5fb8-451a-8066-eb2a0503ac65",
   "metadata": {},
   "outputs": [
    {
     "data": {
      "text/plain": [
       "(1, 2, 3, 4, 5, 6)"
      ]
     },
     "execution_count": 50,
     "metadata": {},
     "output_type": "execute_result"
    }
   ],
   "source": [
    "(1,2,3) + (4,5,6)"
   ]
  },
  {
   "cell_type": "code",
   "execution_count": 51,
   "id": "4dcb3da2-79ff-43d1-9d7f-699f6ca4bd55",
   "metadata": {},
   "outputs": [
    {
     "ename": "TypeError",
     "evalue": "can only concatenate str (not \"list\") to str",
     "output_type": "error",
     "traceback": [
      "\u001b[1;31m---------------------------------------------------------------------------\u001b[0m",
      "\u001b[1;31mTypeError\u001b[0m                                 Traceback (most recent call last)",
      "Cell \u001b[1;32mIn[51], line 1\u001b[0m\n\u001b[1;32m----> 1\u001b[0m \u001b[38;5;124m'\u001b[39m\u001b[38;5;124mabc\u001b[39m\u001b[38;5;124m'\u001b[39m \u001b[38;5;241m+\u001b[39m [\u001b[38;5;124m'\u001b[39m\u001b[38;5;124md\u001b[39m\u001b[38;5;124m'\u001b[39m, \u001b[38;5;124m'\u001b[39m\u001b[38;5;124me\u001b[39m\u001b[38;5;124m'\u001b[39m, \u001b[38;5;124m'\u001b[39m\u001b[38;5;124mf\u001b[39m\u001b[38;5;124m'\u001b[39m]\n",
      "\u001b[1;31mTypeError\u001b[0m: can only concatenate str (not \"list\") to str"
     ]
    }
   ],
   "source": [
    "'abc' + ['d', 'e', 'f']"
   ]
  },
  {
   "cell_type": "code",
   "execution_count": 52,
   "id": "74a7bb17-5333-4239-bf32-6435a22f74c5",
   "metadata": {},
   "outputs": [
    {
     "data": {
      "text/plain": [
       "['a', 'b', 'c']"
      ]
     },
     "execution_count": 52,
     "metadata": {},
     "output_type": "execute_result"
    }
   ],
   "source": [
    "list('abc')"
   ]
  },
  {
   "cell_type": "code",
   "execution_count": 53,
   "id": "1bdaabe4-7b14-4f6c-b6e8-a6fcffbb2e0c",
   "metadata": {},
   "outputs": [
    {
     "data": {
      "text/plain": [
       "['a', 'b', 'c', 'd', 'e', 'f']"
      ]
     },
     "execution_count": 53,
     "metadata": {},
     "output_type": "execute_result"
    }
   ],
   "source": [
    "list('abc') + ['d','e','f']"
   ]
  },
  {
   "cell_type": "code",
   "execution_count": 56,
   "id": "6596c595-f1fc-4fad-a3ac-fabc1f5ed1d1",
   "metadata": {},
   "outputs": [
    {
     "data": {
      "text/plain": [
       "'1,2,3'"
      ]
     },
     "execution_count": 56,
     "metadata": {},
     "output_type": "execute_result"
    }
   ],
   "source": [
    "','.join(['1','2','3'])"
   ]
  },
  {
   "cell_type": "code",
   "execution_count": 57,
   "id": "0c4eab7f-ed10-4f53-aaf1-a8083ed14bfe",
   "metadata": {},
   "outputs": [
    {
     "data": {
      "text/plain": [
       "'abcdef'"
      ]
     },
     "execution_count": 57,
     "metadata": {},
     "output_type": "execute_result"
    }
   ],
   "source": [
    "''.join(list('abc') + ['d','e','f'])"
   ]
  },
  {
   "cell_type": "code",
   "execution_count": 58,
   "id": "8a4bf4df-fa66-4960-855a-25ffc2640ecb",
   "metadata": {},
   "outputs": [
    {
     "data": {
      "text/plain": [
       "'abcabcabc'"
      ]
     },
     "execution_count": 58,
     "metadata": {},
     "output_type": "execute_result"
    }
   ],
   "source": [
    "'abc' * 3"
   ]
  },
  {
   "cell_type": "code",
   "execution_count": 59,
   "id": "f848ff08-cef4-4fec-be85-a4f01bca3ef7",
   "metadata": {},
   "outputs": [
    {
     "data": {
      "text/plain": [
       "[1, 2, 3, 1, 2, 3, 1, 2, 3]"
      ]
     },
     "execution_count": 59,
     "metadata": {},
     "output_type": "execute_result"
    }
   ],
   "source": [
    "[1,2,3] * 3"
   ]
  },
  {
   "cell_type": "code",
   "execution_count": 60,
   "id": "b9236246-fb40-486d-97ef-6d15f8a762be",
   "metadata": {},
   "outputs": [],
   "source": [
    "s = \"gnu's not unix\""
   ]
  },
  {
   "cell_type": "code",
   "execution_count": 62,
   "id": "f97ea868-93bf-48c8-9f8a-02ffc5fb3279",
   "metadata": {},
   "outputs": [
    {
     "data": {
      "text/plain": [
       "[(0, 'g'),\n",
       " (1, 'n'),\n",
       " (2, 'u'),\n",
       " (3, \"'\"),\n",
       " (4, 's'),\n",
       " (5, ' '),\n",
       " (6, 'n'),\n",
       " (7, 'o'),\n",
       " (8, 't'),\n",
       " (9, ' '),\n",
       " (10, 'u'),\n",
       " (11, 'n'),\n",
       " (12, 'i'),\n",
       " (13, 'x')]"
      ]
     },
     "execution_count": 62,
     "metadata": {},
     "output_type": "execute_result"
    }
   ],
   "source": [
    "list(enumerate(s))"
   ]
  },
  {
   "cell_type": "code",
   "execution_count": 63,
   "id": "5a9dfccd-29c2-457b-87e1-31f5a9a4d72b",
   "metadata": {},
   "outputs": [
    {
     "data": {
      "text/plain": [
       "1"
      ]
     },
     "execution_count": 63,
     "metadata": {},
     "output_type": "execute_result"
    }
   ],
   "source": [
    "s.index('n')"
   ]
  },
  {
   "cell_type": "code",
   "execution_count": 64,
   "id": "f0b0b896-0d49-4424-8a19-c0bec60e47a9",
   "metadata": {},
   "outputs": [
    {
     "data": {
      "text/plain": [
       "6"
      ]
     },
     "execution_count": 64,
     "metadata": {},
     "output_type": "execute_result"
    }
   ],
   "source": [
    "s.index('n', 2)"
   ]
  },
  {
   "cell_type": "code",
   "execution_count": 65,
   "id": "71328f65-4139-489d-b3fe-1fcc43404477",
   "metadata": {},
   "outputs": [
    {
     "data": {
      "text/plain": [
       "1"
      ]
     },
     "execution_count": 65,
     "metadata": {},
     "output_type": "execute_result"
    }
   ],
   "source": [
    "s.index('n', 1)"
   ]
  },
  {
   "cell_type": "code",
   "execution_count": 66,
   "id": "cfd03f43-84d1-469d-9c19-a6ad0ac5c3e8",
   "metadata": {},
   "outputs": [
    {
     "data": {
      "text/plain": [
       "11"
      ]
     },
     "execution_count": 66,
     "metadata": {},
     "output_type": "execute_result"
    }
   ],
   "source": [
    "s.index('n', 7)"
   ]
  },
  {
   "cell_type": "code",
   "execution_count": 67,
   "id": "6951724a-2929-4fdc-b461-46a4e60dd4b3",
   "metadata": {},
   "outputs": [
    {
     "ename": "ValueError",
     "evalue": "substring not found",
     "output_type": "error",
     "traceback": [
      "\u001b[1;31m---------------------------------------------------------------------------\u001b[0m",
      "\u001b[1;31mValueError\u001b[0m                                Traceback (most recent call last)",
      "Cell \u001b[1;32mIn[67], line 1\u001b[0m\n\u001b[1;32m----> 1\u001b[0m s\u001b[38;5;241m.\u001b[39mindex(\u001b[38;5;124m'\u001b[39m\u001b[38;5;124mz\u001b[39m\u001b[38;5;124m'\u001b[39m)\n",
      "\u001b[1;31mValueError\u001b[0m: substring not found"
     ]
    }
   ],
   "source": [
    "s.index('z')"
   ]
  },
  {
   "cell_type": "code",
   "execution_count": 68,
   "id": "88f09594-e77a-4dee-9d2c-83535014fc21",
   "metadata": {},
   "outputs": [
    {
     "ename": "ValueError",
     "evalue": "substring not found",
     "output_type": "error",
     "traceback": [
      "\u001b[1;31m---------------------------------------------------------------------------\u001b[0m",
      "\u001b[1;31mValueError\u001b[0m                                Traceback (most recent call last)",
      "Cell \u001b[1;32mIn[68], line 1\u001b[0m\n\u001b[1;32m----> 1\u001b[0m s\u001b[38;5;241m.\u001b[39mindex(\u001b[38;5;124m'\u001b[39m\u001b[38;5;124mn\u001b[39m\u001b[38;5;124m'\u001b[39m, \u001b[38;5;241m12\u001b[39m)\n",
      "\u001b[1;31mValueError\u001b[0m: substring not found"
     ]
    }
   ],
   "source": [
    "s.index('n', 12)"
   ]
  },
  {
   "cell_type": "code",
   "execution_count": 69,
   "id": "3bc356c3-fe64-4c9b-bf53-196964c3019a",
   "metadata": {},
   "outputs": [],
   "source": [
    "s = 'python'\n",
    "l = [1,2,3,4,5,6,7,8,9,10]"
   ]
  },
  {
   "cell_type": "code",
   "execution_count": 70,
   "id": "8d1bab5b-ab70-4b7a-a95d-a8be886f416f",
   "metadata": {},
   "outputs": [
    {
     "data": {
      "text/plain": [
       "'yth'"
      ]
     },
     "execution_count": 70,
     "metadata": {},
     "output_type": "execute_result"
    }
   ],
   "source": [
    "s[1:4]"
   ]
  },
  {
   "cell_type": "code",
   "execution_count": 71,
   "id": "ced61730-651b-4f7d-a623-86d95d7f0de9",
   "metadata": {},
   "outputs": [
    {
     "data": {
      "text/plain": [
       "[(0, 'p'), (1, 'y'), (2, 't'), (3, 'h'), (4, 'o'), (5, 'n')]"
      ]
     },
     "execution_count": 71,
     "metadata": {},
     "output_type": "execute_result"
    }
   ],
   "source": [
    "list(enumerate(s))"
   ]
  },
  {
   "cell_type": "code",
   "execution_count": 72,
   "id": "e3b4d8cd-649b-48dd-a201-2ca49440cc28",
   "metadata": {},
   "outputs": [
    {
     "data": {
      "text/plain": [
       "[1, 2, 3, 4, 5]"
      ]
     },
     "execution_count": 72,
     "metadata": {},
     "output_type": "execute_result"
    }
   ],
   "source": [
    "l[0:5]"
   ]
  },
  {
   "cell_type": "code",
   "execution_count": 73,
   "id": "37e16d48-17f2-4815-b3cf-0e869f27c064",
   "metadata": {},
   "outputs": [
    {
     "data": {
      "text/plain": [
       "'on'"
      ]
     },
     "execution_count": 73,
     "metadata": {},
     "output_type": "execute_result"
    }
   ],
   "source": [
    "s[4:100]"
   ]
  },
  {
   "cell_type": "code",
   "execution_count": 74,
   "id": "3b202e90-85e0-45d1-88b7-a8e61c2ed514",
   "metadata": {},
   "outputs": [
    {
     "data": {
      "text/plain": [
       "'pyth'"
      ]
     },
     "execution_count": 74,
     "metadata": {},
     "output_type": "execute_result"
    }
   ],
   "source": [
    "s[:4]"
   ]
  },
  {
   "cell_type": "code",
   "execution_count": 75,
   "id": "4d0bf4d0-f070-47ed-bf15-faa7d76d411e",
   "metadata": {},
   "outputs": [
    {
     "data": {
      "text/plain": [
       "'on'"
      ]
     },
     "execution_count": 75,
     "metadata": {},
     "output_type": "execute_result"
    }
   ],
   "source": [
    "s[4:]"
   ]
  },
  {
   "cell_type": "code",
   "execution_count": 76,
   "id": "ea435d0f-bbeb-4a20-9aba-03961bea869f",
   "metadata": {},
   "outputs": [
    {
     "data": {
      "text/plain": [
       "'python'"
      ]
     },
     "execution_count": 76,
     "metadata": {},
     "output_type": "execute_result"
    }
   ],
   "source": [
    "s[:]"
   ]
  },
  {
   "cell_type": "code",
   "execution_count": 77,
   "id": "5d83bf4c-dfde-488a-ac80-7111403fcec6",
   "metadata": {},
   "outputs": [],
   "source": [
    "l = [1,2,3]"
   ]
  },
  {
   "cell_type": "code",
   "execution_count": 79,
   "id": "25903148-8512-41f7-83b8-ad85f095c5e6",
   "metadata": {},
   "outputs": [],
   "source": [
    "l2 = l[:]"
   ]
  },
  {
   "cell_type": "code",
   "execution_count": 80,
   "id": "bafc88b5-5798-47a1-9492-4ef64952a6bf",
   "metadata": {},
   "outputs": [
    {
     "data": {
      "text/plain": [
       "([1, 2, 3], [1, 2, 3])"
      ]
     },
     "execution_count": 80,
     "metadata": {},
     "output_type": "execute_result"
    }
   ],
   "source": [
    "l, l2"
   ]
  },
  {
   "cell_type": "code",
   "execution_count": 83,
   "id": "df1b1ab5-36da-4615-80cc-b08e501c5b2a",
   "metadata": {},
   "outputs": [
    {
     "data": {
      "text/plain": [
       "(2119654462464, 2119653797376, False)"
      ]
     },
     "execution_count": 83,
     "metadata": {},
     "output_type": "execute_result"
    }
   ],
   "source": [
    "id(l), id(l2), l is l2"
   ]
  },
  {
   "cell_type": "code",
   "execution_count": 84,
   "id": "2fac36b0-a24b-45c9-96ad-5f0134c23c46",
   "metadata": {},
   "outputs": [
    {
     "data": {
      "text/plain": [
       "'python'"
      ]
     },
     "execution_count": 84,
     "metadata": {},
     "output_type": "execute_result"
    }
   ],
   "source": [
    "s"
   ]
  },
  {
   "cell_type": "code",
   "execution_count": 85,
   "id": "86e28ac6-f4c1-48fd-b296-c8eb40e74f13",
   "metadata": {},
   "outputs": [
    {
     "data": {
      "text/plain": [
       "'n'"
      ]
     },
     "execution_count": 85,
     "metadata": {},
     "output_type": "execute_result"
    }
   ],
   "source": [
    "s[-1]"
   ]
  },
  {
   "cell_type": "code",
   "execution_count": 87,
   "id": "acfba7d4-9a80-4a26-8c21-1f451de0dbb0",
   "metadata": {},
   "outputs": [
    {
     "data": {
      "text/plain": [
       "'nohty'"
      ]
     },
     "execution_count": 87,
     "metadata": {},
     "output_type": "execute_result"
    }
   ],
   "source": [
    "s[5:0:-1]"
   ]
  },
  {
   "cell_type": "code",
   "execution_count": 88,
   "id": "9ea61761-9016-451c-8022-90dad8aafc59",
   "metadata": {},
   "outputs": [
    {
     "data": {
      "text/plain": [
       "'nohtyp'"
      ]
     },
     "execution_count": 88,
     "metadata": {},
     "output_type": "execute_result"
    }
   ],
   "source": [
    "s[::-1]"
   ]
  },
  {
   "cell_type": "code",
   "execution_count": 92,
   "id": "67d0e7ae-36cf-4939-b54b-64fd97697b74",
   "metadata": {},
   "outputs": [],
   "source": [
    "###Caveats"
   ]
  },
  {
   "cell_type": "code",
   "execution_count": 93,
   "id": "d13db492-2ac0-4481-846d-d6bccc75d8bf",
   "metadata": {},
   "outputs": [],
   "source": [
    "a = Decimal('10.5')"
   ]
  },
  {
   "cell_type": "code",
   "execution_count": 94,
   "id": "2ab5ffc4-d7c0-42b8-bc05-9e20460338d1",
   "metadata": {},
   "outputs": [],
   "source": [
    "b = Decimal('10.5')"
   ]
  },
  {
   "cell_type": "code",
   "execution_count": 95,
   "id": "5ef1dec5-7105-404d-b6f4-28fd2140dbb1",
   "metadata": {},
   "outputs": [
    {
     "data": {
      "text/plain": [
       "True"
      ]
     },
     "execution_count": 95,
     "metadata": {},
     "output_type": "execute_result"
    }
   ],
   "source": [
    "a == b"
   ]
  },
  {
   "cell_type": "code",
   "execution_count": 96,
   "id": "9a322634-8cbe-4d56-b07d-c681a5eec44f",
   "metadata": {},
   "outputs": [
    {
     "data": {
      "text/plain": [
       "False"
      ]
     },
     "execution_count": 96,
     "metadata": {},
     "output_type": "execute_result"
    }
   ],
   "source": [
    "a is b"
   ]
  },
  {
   "cell_type": "code",
   "execution_count": 97,
   "id": "6ba8a3a1-ab8c-4865-a3aa-3fd51891a92d",
   "metadata": {},
   "outputs": [],
   "source": [
    "l = [Decimal('10.5')]"
   ]
  },
  {
   "cell_type": "code",
   "execution_count": 98,
   "id": "5381f9e2-b2f4-48e5-ba0c-9f14cfd3704d",
   "metadata": {},
   "outputs": [
    {
     "data": {
      "text/plain": [
       "2119654383536"
      ]
     },
     "execution_count": 98,
     "metadata": {},
     "output_type": "execute_result"
    }
   ],
   "source": [
    "id(l[0])"
   ]
  },
  {
   "cell_type": "code",
   "execution_count": 100,
   "id": "9d2a1372-d7e9-4155-8abe-40ca779d23c4",
   "metadata": {},
   "outputs": [],
   "source": [
    "l2 = l * 2"
   ]
  },
  {
   "cell_type": "markdown",
   "id": "a745c9d6-73ae-48ca-b818-95f8c4e5f2c0",
   "metadata": {},
   "source": [
    "l2"
   ]
  },
  {
   "cell_type": "code",
   "execution_count": 101,
   "id": "cfd783ee-15bf-430f-a117-291c07ad4a2f",
   "metadata": {},
   "outputs": [
    {
     "data": {
      "text/plain": [
       "[Decimal('10.5'), Decimal('10.5')]"
      ]
     },
     "execution_count": 101,
     "metadata": {},
     "output_type": "execute_result"
    }
   ],
   "source": [
    "l2"
   ]
  },
  {
   "cell_type": "code",
   "execution_count": 102,
   "id": "23b3dc35-577d-4aa9-bb86-255056b47bcd",
   "metadata": {},
   "outputs": [
    {
     "data": {
      "text/plain": [
       "2119654383536"
      ]
     },
     "execution_count": 102,
     "metadata": {},
     "output_type": "execute_result"
    }
   ],
   "source": [
    "id(l2[0])"
   ]
  },
  {
   "cell_type": "code",
   "execution_count": 103,
   "id": "d4188e51-ff9c-415f-b5d4-b5c48f8aff88",
   "metadata": {},
   "outputs": [
    {
     "data": {
      "text/plain": [
       "2119654383536"
      ]
     },
     "execution_count": 103,
     "metadata": {},
     "output_type": "execute_result"
    }
   ],
   "source": [
    "id(l2[1])"
   ]
  },
  {
   "cell_type": "code",
   "execution_count": 109,
   "id": "ced6b5c5-34d3-4699-9775-4655e6636690",
   "metadata": {},
   "outputs": [],
   "source": [
    "l = [[0,0]]"
   ]
  },
  {
   "cell_type": "code",
   "execution_count": 110,
   "id": "7da94512-4a93-4b12-b390-cd0c77a72765",
   "metadata": {},
   "outputs": [
    {
     "data": {
      "text/plain": [
       "2119654974848"
      ]
     },
     "execution_count": 110,
     "metadata": {},
     "output_type": "execute_result"
    }
   ],
   "source": [
    "id(l[0])"
   ]
  },
  {
   "cell_type": "code",
   "execution_count": 111,
   "id": "c26d71d5-9633-44c7-9491-6d3d4f8ecf9c",
   "metadata": {},
   "outputs": [],
   "source": [
    "l2 = l * 2"
   ]
  },
  {
   "cell_type": "code",
   "execution_count": 112,
   "id": "a357769c-45ee-4dcc-9bd9-370b00671d24",
   "metadata": {},
   "outputs": [
    {
     "data": {
      "text/plain": [
       "[[0, 0], [0, 0]]"
      ]
     },
     "execution_count": 112,
     "metadata": {},
     "output_type": "execute_result"
    }
   ],
   "source": [
    "l2"
   ]
  },
  {
   "cell_type": "code",
   "execution_count": 113,
   "id": "3b44a7e0-4e98-4691-a4ae-c0087316f37e",
   "metadata": {},
   "outputs": [
    {
     "data": {
      "text/plain": [
       "(2119654974848, 2119654974848)"
      ]
     },
     "execution_count": 113,
     "metadata": {},
     "output_type": "execute_result"
    }
   ],
   "source": [
    "id(l2[0]), id(l2[1])"
   ]
  },
  {
   "cell_type": "code",
   "execution_count": 114,
   "id": "1a49460a-bbf3-4efc-b7fe-e6fff235250c",
   "metadata": {},
   "outputs": [
    {
     "data": {
      "text/plain": [
       "[[0, 0]]"
      ]
     },
     "execution_count": 114,
     "metadata": {},
     "output_type": "execute_result"
    }
   ],
   "source": [
    "l"
   ]
  },
  {
   "cell_type": "code",
   "execution_count": 115,
   "id": "5da85cda-7718-4a6d-8177-4d041416107a",
   "metadata": {},
   "outputs": [],
   "source": [
    "l[0][0] = 100"
   ]
  },
  {
   "cell_type": "code",
   "execution_count": 116,
   "id": "8f5c7da9-1493-4e65-a7d0-95c4b8c63a73",
   "metadata": {},
   "outputs": [
    {
     "data": {
      "text/plain": [
       "[[100, 0]]"
      ]
     },
     "execution_count": 116,
     "metadata": {},
     "output_type": "execute_result"
    }
   ],
   "source": [
    "l"
   ]
  },
  {
   "cell_type": "code",
   "execution_count": 117,
   "id": "2fcde8dc-e9c7-40a6-bc92-cff90922f91c",
   "metadata": {},
   "outputs": [
    {
     "data": {
      "text/plain": [
       "[[100, 0], [100, 0]]"
      ]
     },
     "execution_count": 117,
     "metadata": {},
     "output_type": "execute_result"
    }
   ],
   "source": [
    "l2"
   ]
  },
  {
   "cell_type": "code",
   "execution_count": null,
   "id": "25448497-bed3-4cfd-b06b-976923eb19d3",
   "metadata": {},
   "outputs": [],
   "source": []
  }
 ],
 "metadata": {
  "kernelspec": {
   "display_name": "Python 3 (ipykernel)",
   "language": "python",
   "name": "python3"
  },
  "language_info": {
   "codemirror_mode": {
    "name": "ipython",
    "version": 3
   },
   "file_extension": ".py",
   "mimetype": "text/x-python",
   "name": "python",
   "nbconvert_exporter": "python",
   "pygments_lexer": "ipython3",
   "version": "3.12.7"
  }
 },
 "nbformat": 4,
 "nbformat_minor": 5
}
