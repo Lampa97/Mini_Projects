{
 "cells": [
  {
   "cell_type": "code",
   "execution_count": 1,
   "id": "fd4ec509-914b-46b7-873b-b0beb2c486b1",
   "metadata": {},
   "outputs": [],
   "source": [
    "l = [i**2 for i in range(5)]"
   ]
  },
  {
   "cell_type": "code",
   "execution_count": 2,
   "id": "9986712d-1690-4928-85e1-2ae05b01853d",
   "metadata": {},
   "outputs": [
    {
     "data": {
      "text/plain": [
       "[0, 1, 4, 9, 16]"
      ]
     },
     "execution_count": 2,
     "metadata": {},
     "output_type": "execute_result"
    }
   ],
   "source": [
    "l"
   ]
  },
  {
   "cell_type": "code",
   "execution_count": 3,
   "id": "164f0dc4-fa3f-41f0-8386-00f912818290",
   "metadata": {},
   "outputs": [],
   "source": [
    "g = (i**2 for i in range(5))"
   ]
  },
  {
   "cell_type": "code",
   "execution_count": 4,
   "id": "04d70103-f55b-4603-946a-7fb6a3436390",
   "metadata": {},
   "outputs": [
    {
     "data": {
      "text/plain": [
       "generator"
      ]
     },
     "execution_count": 4,
     "metadata": {},
     "output_type": "execute_result"
    }
   ],
   "source": [
    "type(g)"
   ]
  },
  {
   "cell_type": "code",
   "execution_count": 5,
   "id": "387a5bdb-d1e0-434f-be97-bef8659188a2",
   "metadata": {},
   "outputs": [
    {
     "name": "stdout",
     "output_type": "stream",
     "text": [
      "0\n",
      "1\n",
      "4\n",
      "9\n",
      "16\n"
     ]
    }
   ],
   "source": [
    "for item in g:\n",
    "    print(item)"
   ]
  },
  {
   "cell_type": "code",
   "execution_count": 6,
   "id": "2181754b-b4ef-45da-98e5-d3109407d91b",
   "metadata": {},
   "outputs": [
    {
     "data": {
      "text/plain": [
       "[]"
      ]
     },
     "execution_count": 6,
     "metadata": {},
     "output_type": "execute_result"
    }
   ],
   "source": [
    "list(g)"
   ]
  },
  {
   "cell_type": "code",
   "execution_count": 7,
   "id": "82e74bdc-0120-4d3d-b8df-09077cc5d6ab",
   "metadata": {},
   "outputs": [],
   "source": [
    "import dis"
   ]
  },
  {
   "cell_type": "code",
   "execution_count": 9,
   "id": "641336fd-0c06-4f56-bf8b-4a7179d40385",
   "metadata": {},
   "outputs": [],
   "source": [
    "exp = compile('[i**2 for i in range(5)]', filename='<string>', mode='eval')"
   ]
  },
  {
   "cell_type": "code",
   "execution_count": 10,
   "id": "3360a47c-9fc0-4dda-8ec2-7af7d4b90389",
   "metadata": {},
   "outputs": [
    {
     "name": "stdout",
     "output_type": "stream",
     "text": [
      "  0           0 RESUME                   0\n",
      "\n",
      "  1           2 PUSH_NULL\n",
      "              4 LOAD_NAME                0 (range)\n",
      "              6 LOAD_CONST               0 (5)\n",
      "              8 CALL                     1\n",
      "             16 GET_ITER\n",
      "             18 LOAD_FAST_AND_CLEAR      0 (i)\n",
      "             20 SWAP                     2\n",
      "             22 BUILD_LIST               0\n",
      "             24 SWAP                     2\n",
      "        >>   26 FOR_ITER                 7 (to 44)\n",
      "             30 STORE_FAST               0 (i)\n",
      "             32 LOAD_FAST                0 (i)\n",
      "             34 LOAD_CONST               1 (2)\n",
      "             36 BINARY_OP                8 (**)\n",
      "             40 LIST_APPEND              2\n",
      "             42 JUMP_BACKWARD            9 (to 26)\n",
      "        >>   44 END_FOR\n",
      "             46 SWAP                     2\n",
      "             48 STORE_FAST               0 (i)\n",
      "             50 RETURN_VALUE\n",
      "        >>   52 SWAP                     2\n",
      "             54 POP_TOP\n",
      "             56 SWAP                     2\n",
      "             58 STORE_FAST               0 (i)\n",
      "             60 RERAISE                  0\n",
      "ExceptionTable:\n",
      "  22 to 44 -> 52 [2]\n"
     ]
    }
   ],
   "source": [
    "dis.dis(exp)"
   ]
  },
  {
   "cell_type": "code",
   "execution_count": 11,
   "id": "a31a1e73-a52c-465f-b816-09cc91702285",
   "metadata": {},
   "outputs": [],
   "source": [
    "exp = compile('(i**2 for i in range(5))', filename='<string>', mode='eval')"
   ]
  },
  {
   "cell_type": "code",
   "execution_count": 12,
   "id": "2a3fa59e-65fe-4f9b-a06c-883f4e6fa882",
   "metadata": {},
   "outputs": [
    {
     "name": "stdout",
     "output_type": "stream",
     "text": [
      "  0           0 RESUME                   0\n",
      "\n",
      "  1           2 LOAD_CONST               0 (<code object <genexpr> at 0x000001BA2FB63690, file \"<string>\", line 1>)\n",
      "              4 MAKE_FUNCTION            0\n",
      "              6 PUSH_NULL\n",
      "              8 LOAD_NAME                0 (range)\n",
      "             10 LOAD_CONST               1 (5)\n",
      "             12 CALL                     1\n",
      "             20 GET_ITER\n",
      "             22 CALL                     0\n",
      "             30 RETURN_VALUE\n",
      "\n",
      "Disassembly of <code object <genexpr> at 0x000001BA2FB63690, file \"<string>\", line 1>:\n",
      "  1           0 RETURN_GENERATOR\n",
      "              2 POP_TOP\n",
      "              4 RESUME                   0\n",
      "              6 LOAD_FAST                0 (.0)\n",
      "        >>    8 FOR_ITER                 9 (to 30)\n",
      "             12 STORE_FAST               1 (i)\n",
      "             14 LOAD_FAST                1 (i)\n",
      "             16 LOAD_CONST               0 (2)\n",
      "             18 BINARY_OP                8 (**)\n",
      "             22 YIELD_VALUE              1\n",
      "             24 RESUME                   1\n",
      "             26 POP_TOP\n",
      "             28 JUMP_BACKWARD           11 (to 8)\n",
      "        >>   30 END_FOR\n",
      "             32 RETURN_CONST             1 (None)\n",
      "        >>   34 CALL_INTRINSIC_1         3 (INTRINSIC_STOPITERATION_ERROR)\n",
      "             36 RERAISE                  1\n",
      "ExceptionTable:\n",
      "  4 to 32 -> 34 [0] lasti\n"
     ]
    }
   ],
   "source": [
    "dis.dis(exp)"
   ]
  },
  {
   "cell_type": "code",
   "execution_count": 13,
   "id": "dad3b67b-80f8-4846-ba0a-4806965fe017",
   "metadata": {},
   "outputs": [],
   "source": [
    "l = [i**2 for i in range(5)]\n",
    "g = (i**2 for i in range(5))"
   ]
  },
  {
   "cell_type": "code",
   "execution_count": 14,
   "id": "258381d3-8776-44e3-9c93-785321d48f09",
   "metadata": {},
   "outputs": [
    {
     "data": {
      "text/plain": [
       "[0, 1, 4, 9, 16]"
      ]
     },
     "execution_count": 14,
     "metadata": {},
     "output_type": "execute_result"
    }
   ],
   "source": [
    "list(l)"
   ]
  },
  {
   "cell_type": "code",
   "execution_count": 15,
   "id": "85ea97dc-e6cf-4a29-8b55-70e4fbe21766",
   "metadata": {},
   "outputs": [
    {
     "data": {
      "text/plain": [
       "[0, 1, 4, 9, 16]"
      ]
     },
     "execution_count": 15,
     "metadata": {},
     "output_type": "execute_result"
    }
   ],
   "source": [
    "list(l)"
   ]
  },
  {
   "cell_type": "code",
   "execution_count": 16,
   "id": "139f767c-2756-49f9-a549-bb93aba910b5",
   "metadata": {},
   "outputs": [
    {
     "data": {
      "text/plain": [
       "[0, 1, 4, 9, 16]"
      ]
     },
     "execution_count": 16,
     "metadata": {},
     "output_type": "execute_result"
    }
   ],
   "source": [
    "list(g)"
   ]
  },
  {
   "cell_type": "code",
   "execution_count": 17,
   "id": "bf51e1a2-a148-4bc2-9caf-33f63c39c18d",
   "metadata": {},
   "outputs": [
    {
     "data": {
      "text/plain": [
       "[]"
      ]
     },
     "execution_count": 17,
     "metadata": {},
     "output_type": "execute_result"
    }
   ],
   "source": [
    "list(g)"
   ]
  },
  {
   "cell_type": "code",
   "execution_count": 18,
   "id": "2623e658-1c03-4f55-916f-8ffb6715e651",
   "metadata": {},
   "outputs": [],
   "source": [
    "start = 1\n",
    "stop = 10\n",
    "mult_list = [[i*j for j in range(start, stop+1)]\n",
    "            for i in range(start, stop+1)]"
   ]
  },
  {
   "cell_type": "code",
   "execution_count": 19,
   "id": "d1daa35b-8203-4918-ba1a-a6eb1f0439f9",
   "metadata": {},
   "outputs": [
    {
     "data": {
      "text/plain": [
       "[[1, 2, 3, 4, 5, 6, 7, 8, 9, 10],\n",
       " [2, 4, 6, 8, 10, 12, 14, 16, 18, 20],\n",
       " [3, 6, 9, 12, 15, 18, 21, 24, 27, 30],\n",
       " [4, 8, 12, 16, 20, 24, 28, 32, 36, 40],\n",
       " [5, 10, 15, 20, 25, 30, 35, 40, 45, 50],\n",
       " [6, 12, 18, 24, 30, 36, 42, 48, 54, 60],\n",
       " [7, 14, 21, 28, 35, 42, 49, 56, 63, 70],\n",
       " [8, 16, 24, 32, 40, 48, 56, 64, 72, 80],\n",
       " [9, 18, 27, 36, 45, 54, 63, 72, 81, 90],\n",
       " [10, 20, 30, 40, 50, 60, 70, 80, 90, 100]]"
      ]
     },
     "execution_count": 19,
     "metadata": {},
     "output_type": "execute_result"
    }
   ],
   "source": [
    "mult_list"
   ]
  },
  {
   "cell_type": "code",
   "execution_count": 20,
   "id": "8e298cb7-8653-454f-89cb-ce6c37d2275d",
   "metadata": {},
   "outputs": [],
   "source": [
    "start = 1\n",
    "stop = 10\n",
    "mult_list = ((i*j for j in range(start, stop+1))\n",
    "            for i in range(start, stop+1))"
   ]
  },
  {
   "cell_type": "code",
   "execution_count": 21,
   "id": "7aef1f17-96b5-4a82-af78-5d891deffb57",
   "metadata": {},
   "outputs": [
    {
     "data": {
      "text/plain": [
       "<generator object <genexpr> at 0x000001BA2FB63C40>"
      ]
     },
     "execution_count": 21,
     "metadata": {},
     "output_type": "execute_result"
    }
   ],
   "source": [
    "mult_list"
   ]
  },
  {
   "cell_type": "code",
   "execution_count": 22,
   "id": "6f4d8cfb-0357-4ac7-8ee8-e1e2e30e59fb",
   "metadata": {},
   "outputs": [
    {
     "data": {
      "text/plain": [
       "[<generator object <genexpr>.<genexpr> at 0x000001BA2FDA1080>,\n",
       " <generator object <genexpr>.<genexpr> at 0x000001BA2FDA0E10>,\n",
       " <generator object <genexpr>.<genexpr> at 0x000001BA2FDA0FB0>,\n",
       " <generator object <genexpr>.<genexpr> at 0x000001BA2FDA0C70>,\n",
       " <generator object <genexpr>.<genexpr> at 0x000001BA2FDA0BA0>,\n",
       " <generator object <genexpr>.<genexpr> at 0x000001BA2FDA13C0>,\n",
       " <generator object <genexpr>.<genexpr> at 0x000001BA2FDA1A40>,\n",
       " <generator object <genexpr>.<genexpr> at 0x000001BA2FDA0EE0>,\n",
       " <generator object <genexpr>.<genexpr> at 0x000001BA2FDA0D40>,\n",
       " <generator object <genexpr>.<genexpr> at 0x000001BA2FDA1BE0>]"
      ]
     },
     "execution_count": 22,
     "metadata": {},
     "output_type": "execute_result"
    }
   ],
   "source": [
    "list(mult_list)"
   ]
  },
  {
   "cell_type": "code",
   "execution_count": 27,
   "id": "7dbfb8ac-339c-4306-b4f7-5a815316cd54",
   "metadata": {},
   "outputs": [],
   "source": [
    "start = 1\n",
    "stop = 10\n",
    "mult_list = ((i*j for j in range(start, stop+1))\n",
    "            for i in range(start, stop+1))"
   ]
  },
  {
   "cell_type": "code",
   "execution_count": 28,
   "id": "a414f041-a1ce-4ce8-af0e-e659980f9f07",
   "metadata": {},
   "outputs": [
    {
     "name": "stdout",
     "output_type": "stream",
     "text": [
      "1\n",
      "2\n",
      "3\n",
      "4\n",
      "5\n",
      "6\n",
      "7\n",
      "8\n",
      "9\n",
      "10\n",
      "2\n",
      "4\n",
      "6\n",
      "8\n",
      "10\n",
      "12\n",
      "14\n",
      "16\n",
      "18\n",
      "20\n",
      "3\n",
      "6\n",
      "9\n",
      "12\n",
      "15\n",
      "18\n",
      "21\n",
      "24\n",
      "27\n",
      "30\n",
      "4\n",
      "8\n",
      "12\n",
      "16\n",
      "20\n",
      "24\n",
      "28\n",
      "32\n",
      "36\n",
      "40\n",
      "5\n",
      "10\n",
      "15\n",
      "20\n",
      "25\n",
      "30\n",
      "35\n",
      "40\n",
      "45\n",
      "50\n",
      "6\n",
      "12\n",
      "18\n",
      "24\n",
      "30\n",
      "36\n",
      "42\n",
      "48\n",
      "54\n",
      "60\n",
      "7\n",
      "14\n",
      "21\n",
      "28\n",
      "35\n",
      "42\n",
      "49\n",
      "56\n",
      "63\n",
      "70\n",
      "8\n",
      "16\n",
      "24\n",
      "32\n",
      "40\n",
      "48\n",
      "56\n",
      "64\n",
      "72\n",
      "80\n",
      "9\n",
      "18\n",
      "27\n",
      "36\n",
      "45\n",
      "54\n",
      "63\n",
      "72\n",
      "81\n",
      "90\n",
      "10\n",
      "20\n",
      "30\n",
      "40\n",
      "50\n",
      "60\n",
      "70\n",
      "80\n",
      "90\n",
      "100\n"
     ]
    }
   ],
   "source": [
    "for row in mult_list:\n",
    "    for item in row:\n",
    "        print(item)\n"
   ]
  },
  {
   "cell_type": "code",
   "execution_count": 29,
   "id": "623a24b4-e137-4781-a8e4-f4e2c192798d",
   "metadata": {},
   "outputs": [
    {
     "name": "stdout",
     "output_type": "stream",
     "text": [
      "1, 2, 3, 4, 5, 6, 7, 8, 9, 10\n",
      "2, 4, 6, 8, 10, 12, 14, 16, 18, 20\n",
      "3, 6, 9, 12, 15, 18, 21, 24, 27, 30\n",
      "4, 8, 12, 16, 20, 24, 28, 32, 36, 40\n",
      "5, 10, 15, 20, 25, 30, 35, 40, 45, 50\n",
      "6, 12, 18, 24, 30, 36, 42, 48, 54, 60\n",
      "7, 14, 21, 28, 35, 42, 49, 56, 63, 70\n",
      "8, 16, 24, 32, 40, 48, 56, 64, 72, 80\n",
      "9, 18, 27, 36, 45, 54, 63, 72, 81, 90\n",
      "10, 20, 30, 40, 50, 60, 70, 80, 90, 100\n"
     ]
    }
   ],
   "source": [
    "start = 1\n",
    "stop = 10\n",
    "mult_list = ((i*j for j in range(start, stop+1))\n",
    "            for i in range(start, stop+1))\n",
    "\n",
    "for row in mult_list:\n",
    "    print(', '.join([str(item) for item in row]))"
   ]
  },
  {
   "cell_type": "code",
   "execution_count": 31,
   "id": "428be58f-f791-4858-8d80-fc31a755a3d4",
   "metadata": {},
   "outputs": [
    {
     "name": "stdout",
     "output_type": "stream",
     "text": [
      "1 2 3 4 5 6 7 8 9 10 \n",
      "2 4 6 8 10 12 14 16 18 20 \n",
      "3 6 9 12 15 18 21 24 27 30 \n",
      "4 8 12 16 20 24 28 32 36 40 \n",
      "5 10 15 20 25 30 35 40 45 50 \n",
      "6 12 18 24 30 36 42 48 54 60 \n",
      "7 14 21 28 35 42 49 56 63 70 \n",
      "8 16 24 32 40 48 56 64 72 80 \n",
      "9 18 27 36 45 54 63 72 81 90 \n",
      "10 20 30 40 50 60 70 80 90 100 \n"
     ]
    }
   ],
   "source": [
    "start = 1\n",
    "stop = 10\n",
    "mult_list = ((i*j for j in range(start, stop+1))\n",
    "            for i in range(start, stop+1))\n",
    "\n",
    "for row in mult_list:\n",
    "    for item in row:\n",
    "        print(item, end=' ')\n",
    "    print('')"
   ]
  },
  {
   "cell_type": "code",
   "execution_count": 32,
   "id": "50a34e2e-5b9e-4f64-a74d-ed41864f3d2c",
   "metadata": {},
   "outputs": [],
   "source": [
    "start = 1\n",
    "stop = 10\n",
    "mult_list = ([i*j for j in range(start, stop+1)]\n",
    "            for i in range(start, stop+1))"
   ]
  },
  {
   "cell_type": "code",
   "execution_count": 33,
   "id": "98ef36e2-6f4d-4d82-9a2c-080c3eb60317",
   "metadata": {},
   "outputs": [
    {
     "data": {
      "text/plain": [
       "[[1, 2, 3, 4, 5, 6, 7, 8, 9, 10],\n",
       " [2, 4, 6, 8, 10, 12, 14, 16, 18, 20],\n",
       " [3, 6, 9, 12, 15, 18, 21, 24, 27, 30],\n",
       " [4, 8, 12, 16, 20, 24, 28, 32, 36, 40],\n",
       " [5, 10, 15, 20, 25, 30, 35, 40, 45, 50],\n",
       " [6, 12, 18, 24, 30, 36, 42, 48, 54, 60],\n",
       " [7, 14, 21, 28, 35, 42, 49, 56, 63, 70],\n",
       " [8, 16, 24, 32, 40, 48, 56, 64, 72, 80],\n",
       " [9, 18, 27, 36, 45, 54, 63, 72, 81, 90],\n",
       " [10, 20, 30, 40, 50, 60, 70, 80, 90, 100]]"
      ]
     },
     "execution_count": 33,
     "metadata": {},
     "output_type": "execute_result"
    }
   ],
   "source": [
    "list(mult_list)"
   ]
  },
  {
   "cell_type": "code",
   "execution_count": 34,
   "id": "cd9c3202-ede0-4313-a0cd-a6ddaa2f6233",
   "metadata": {},
   "outputs": [
    {
     "name": "stdout",
     "output_type": "stream",
     "text": [
      "[1, 2, 3, 4, 5, 6, 7, 8, 9, 10]\n",
      "[2, 4, 6, 8, 10, 12, 14, 16, 18, 20]\n",
      "[3, 6, 9, 12, 15, 18, 21, 24, 27, 30]\n",
      "[4, 8, 12, 16, 20, 24, 28, 32, 36, 40]\n",
      "[5, 10, 15, 20, 25, 30, 35, 40, 45, 50]\n",
      "[6, 12, 18, 24, 30, 36, 42, 48, 54, 60]\n",
      "[7, 14, 21, 28, 35, 42, 49, 56, 63, 70]\n",
      "[8, 16, 24, 32, 40, 48, 56, 64, 72, 80]\n",
      "[9, 18, 27, 36, 45, 54, 63, 72, 81, 90]\n",
      "[10, 20, 30, 40, 50, 60, 70, 80, 90, 100]\n"
     ]
    }
   ],
   "source": [
    "start = 1\n",
    "stop = 10\n",
    "mult_list = ([i*j for j in range(start, stop+1)]\n",
    "            for i in range(start, stop+1))\n",
    "\n",
    "for row in mult_list:\n",
    "    print(row)"
   ]
  },
  {
   "cell_type": "code",
   "execution_count": 35,
   "id": "5649e9ad-71d5-43ce-9dbe-eeb25f3cfcc7",
   "metadata": {},
   "outputs": [],
   "source": [
    "from math import factorial"
   ]
  },
  {
   "cell_type": "code",
   "execution_count": 36,
   "id": "6b43ac39-64d7-4839-9366-3377d95c7ba5",
   "metadata": {},
   "outputs": [],
   "source": [
    "def combo(n, k):\n",
    "    return factorial(n) // (factorial(k) * factorial(n-k))"
   ]
  },
  {
   "cell_type": "code",
   "execution_count": 37,
   "id": "ec7ffc35-1912-457a-bd8b-9c1e0a7febd5",
   "metadata": {},
   "outputs": [],
   "source": [
    "size = 10 # global variable"
   ]
  },
  {
   "cell_type": "code",
   "execution_count": 38,
   "id": "52d1a1b4-1fc1-4a0d-81ee-02d14e6a20d2",
   "metadata": {},
   "outputs": [],
   "source": [
    "pascal = [[combo(n,k) for k in range(n+1)] for n in range(size+1)]"
   ]
  },
  {
   "cell_type": "code",
   "execution_count": 39,
   "id": "12b85175-b644-4c98-9773-1b76f5d8d004",
   "metadata": {},
   "outputs": [
    {
     "data": {
      "text/plain": [
       "[[1],\n",
       " [1, 1],\n",
       " [1, 2, 1],\n",
       " [1, 3, 3, 1],\n",
       " [1, 4, 6, 4, 1],\n",
       " [1, 5, 10, 10, 5, 1],\n",
       " [1, 6, 15, 20, 15, 6, 1],\n",
       " [1, 7, 21, 35, 35, 21, 7, 1],\n",
       " [1, 8, 28, 56, 70, 56, 28, 8, 1],\n",
       " [1, 9, 36, 84, 126, 126, 84, 36, 9, 1],\n",
       " [1, 10, 45, 120, 210, 252, 210, 120, 45, 10, 1]]"
      ]
     },
     "execution_count": 39,
     "metadata": {},
     "output_type": "execute_result"
    }
   ],
   "source": [
    "pascal"
   ]
  },
  {
   "cell_type": "code",
   "execution_count": 40,
   "id": "a6a1f329-9ebb-4c8d-b4a6-a7c8d631fafd",
   "metadata": {},
   "outputs": [],
   "source": [
    "pascal = ((combo(n,k) for k in range(n+1)) for n in range(size+1))"
   ]
  },
  {
   "cell_type": "code",
   "execution_count": 41,
   "id": "69096823-a76c-40f6-ba05-5add66be7fa2",
   "metadata": {},
   "outputs": [
    {
     "data": {
      "text/plain": [
       "[[1],\n",
       " [1, 1],\n",
       " [1, 2, 1],\n",
       " [1, 3, 3, 1],\n",
       " [1, 4, 6, 4, 1],\n",
       " [1, 5, 10, 10, 5, 1],\n",
       " [1, 6, 15, 20, 15, 6, 1],\n",
       " [1, 7, 21, 35, 35, 21, 7, 1],\n",
       " [1, 8, 28, 56, 70, 56, 28, 8, 1],\n",
       " [1, 9, 36, 84, 126, 126, 84, 36, 9, 1],\n",
       " [1, 10, 45, 120, 210, 252, 210, 120, 45, 10, 1]]"
      ]
     },
     "execution_count": 41,
     "metadata": {},
     "output_type": "execute_result"
    }
   ],
   "source": [
    "[list(row) for row in pascal]"
   ]
  },
  {
   "cell_type": "code",
   "execution_count": 42,
   "id": "fe57ffaa-03b0-4862-8fe2-b6a6109bdd92",
   "metadata": {},
   "outputs": [],
   "source": [
    "from timeit import timeit"
   ]
  },
  {
   "cell_type": "code",
   "execution_count": 43,
   "id": "cfb6c6a9-9be6-40cd-aa97-487fab063bee",
   "metadata": {},
   "outputs": [],
   "source": [
    "size = 600"
   ]
  },
  {
   "cell_type": "code",
   "execution_count": 44,
   "id": "a81b7f13-2f07-4fcc-8738-4d3aaf98baad",
   "metadata": {},
   "outputs": [
    {
     "data": {
      "text/plain": [
       "2.6629280999914045"
      ]
     },
     "execution_count": 44,
     "metadata": {},
     "output_type": "execute_result"
    }
   ],
   "source": [
    "timeit('[[combo(n,k) for k in range(n+1)] for n in range(size+1)]', globals=globals(), number=1)"
   ]
  },
  {
   "cell_type": "code",
   "execution_count": 45,
   "id": "afdbf252-67ff-440c-94b1-92f0c42c967b",
   "metadata": {},
   "outputs": [
    {
     "data": {
      "text/plain": [
       "8.300004992634058e-06"
      ]
     },
     "execution_count": 45,
     "metadata": {},
     "output_type": "execute_result"
    }
   ],
   "source": [
    "timeit('((combo(n,k) for k in range(n+1)) for n in range(size+1))', globals=globals(), number=1)"
   ]
  },
  {
   "cell_type": "code",
   "execution_count": 46,
   "id": "44f9dfcc-9e95-4ab0-95eb-6984260e0864",
   "metadata": {},
   "outputs": [
    {
     "data": {
      "text/plain": [
       "3.4999975468963385e-06"
      ]
     },
     "execution_count": 46,
     "metadata": {},
     "output_type": "execute_result"
    }
   ],
   "source": [
    "timeit('([combo(n,k) for k in range(n+1)] for n in range(size+1))', globals=globals(), number=1)"
   ]
  },
  {
   "cell_type": "code",
   "execution_count": 47,
   "id": "127b8775-e155-479d-9b4e-04b1581ebfbf",
   "metadata": {},
   "outputs": [],
   "source": [
    "size = 100_000"
   ]
  },
  {
   "cell_type": "code",
   "execution_count": 49,
   "id": "3bab17db-7079-487a-a44b-ca37649ad76e",
   "metadata": {},
   "outputs": [
    {
     "data": {
      "text/plain": [
       "4.799992893822491e-06"
      ]
     },
     "execution_count": 49,
     "metadata": {},
     "output_type": "execute_result"
    }
   ],
   "source": [
    "timeit('([combo(n,k) for k in range(n+1)] for n in range(size+1))', globals=globals(), number=1)"
   ]
  },
  {
   "cell_type": "code",
   "execution_count": 50,
   "id": "4a6409cd-27a9-4cad-8c10-22f3eb55bb29",
   "metadata": {},
   "outputs": [],
   "source": [
    "def pascal_list(size):\n",
    "    l = [[combo(n,k) for k in range(n+1)] for n in range(size+1)]\n",
    "    for row in l:\n",
    "        for item in row:\n",
    "            pass"
   ]
  },
  {
   "cell_type": "code",
   "execution_count": 52,
   "id": "db018f54-c9d5-4335-ab6a-4a5e84916b9d",
   "metadata": {},
   "outputs": [],
   "source": [
    "def pascal_gen(size):\n",
    "    g = ((combo(n,k) for k in range(n+1)) for n in range(size+1))\n",
    "    for row in g:\n",
    "        for item in row:\n",
    "            pass"
   ]
  },
  {
   "cell_type": "code",
   "execution_count": 53,
   "id": "7657fae1-5e9e-40f2-872c-e17efa501e1b",
   "metadata": {},
   "outputs": [],
   "source": [
    "size = 600"
   ]
  },
  {
   "cell_type": "code",
   "execution_count": 55,
   "id": "2a0549c0-191d-4591-9356-67c4de3bd7fa",
   "metadata": {},
   "outputs": [
    {
     "data": {
      "text/plain": [
       "2.628076900000451"
      ]
     },
     "execution_count": 55,
     "metadata": {},
     "output_type": "execute_result"
    }
   ],
   "source": [
    "timeit('pascal_list(size)', globals=globals(), number=1)"
   ]
  },
  {
   "cell_type": "code",
   "execution_count": 56,
   "id": "508a9ead-88e6-4802-a5d6-12bd6f516f66",
   "metadata": {},
   "outputs": [
    {
     "data": {
      "text/plain": [
       "2.8161855999933323"
      ]
     },
     "execution_count": 56,
     "metadata": {},
     "output_type": "execute_result"
    }
   ],
   "source": [
    "timeit('pascal_gen(size)', globals=globals(), number=1)"
   ]
  },
  {
   "cell_type": "code",
   "execution_count": 57,
   "id": "99ef3d0d-5652-41b9-92de-9b711ff7d59a",
   "metadata": {},
   "outputs": [],
   "source": [
    "import tracemalloc"
   ]
  },
  {
   "cell_type": "code",
   "execution_count": 59,
   "id": "b0a118f1-191b-4a9c-9b25-ec0b12304800",
   "metadata": {},
   "outputs": [],
   "source": [
    "def pascal_list(size):\n",
    "    l = [[combo(n,k) for k in range(n+1)] for n in range(size+1)]\n",
    "    for row in l:\n",
    "        for item in row:\n",
    "            pass\n",
    "    stats = tracemalloc.take_snapshot().statistics('lineno')\n",
    "    print(stats[0].size, 'bytes')"
   ]
  },
  {
   "cell_type": "code",
   "execution_count": 60,
   "id": "dee7ef80-208d-4e85-8f92-5cb2fbaed019",
   "metadata": {},
   "outputs": [],
   "source": [
    "def pascal_gen(size):\n",
    "    g = ((combo(n,k) for k in range(n+1)) for n in range(size+1))\n",
    "    for row in g:\n",
    "        for item in row:\n",
    "            pass\n",
    "    stats = tracemalloc.take_snapshot().statistics('lineno')\n",
    "    print(stats[0].size, 'bytes')"
   ]
  },
  {
   "cell_type": "code",
   "execution_count": 61,
   "id": "d78190ab-1825-4ee2-933c-8a09996cd555",
   "metadata": {},
   "outputs": [
    {
     "name": "stdout",
     "output_type": "stream",
     "text": [
      "1998644 bytes\n"
     ]
    }
   ],
   "source": [
    "tracemalloc.stop()\n",
    "tracemalloc.clear_traces()\n",
    "tracemalloc.start()\n",
    "pascal_list(300)"
   ]
  },
  {
   "cell_type": "code",
   "execution_count": 62,
   "id": "bd273fc1-818d-46bb-b614-114b13e6ccb4",
   "metadata": {},
   "outputs": [
    {
     "data": {
      "text/plain": [
       "1.9060554504394531"
      ]
     },
     "execution_count": 62,
     "metadata": {},
     "output_type": "execute_result"
    }
   ],
   "source": [
    "1998644/1024/1024"
   ]
  },
  {
   "cell_type": "code",
   "execution_count": 63,
   "id": "177a8137-ebf6-4796-a835-3e131b55c4dd",
   "metadata": {},
   "outputs": [
    {
     "name": "stdout",
     "output_type": "stream",
     "text": [
      "592 bytes\n"
     ]
    }
   ],
   "source": [
    "tracemalloc.stop()\n",
    "tracemalloc.clear_traces()\n",
    "tracemalloc.start()\n",
    "pascal_gen(300)"
   ]
  },
  {
   "cell_type": "code",
   "execution_count": null,
   "id": "cf6174f1-393a-46c6-a92a-fffbfefdf423",
   "metadata": {},
   "outputs": [],
   "source": []
  }
 ],
 "metadata": {
  "kernelspec": {
   "display_name": "Python 3 (ipykernel)",
   "language": "python",
   "name": "python3"
  },
  "language_info": {
   "codemirror_mode": {
    "name": "ipython",
    "version": 3
   },
   "file_extension": ".py",
   "mimetype": "text/x-python",
   "name": "python",
   "nbconvert_exporter": "python",
   "pygments_lexer": "ipython3",
   "version": "3.12.7"
  }
 },
 "nbformat": 4,
 "nbformat_minor": 5
}
