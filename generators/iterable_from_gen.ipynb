{
 "cells": [
  {
   "cell_type": "code",
   "execution_count": 1,
   "id": "8ac74378-11a9-4b4b-82bb-b59326cb1f23",
   "metadata": {},
   "outputs": [],
   "source": [
    "def squares_gen(n):\n",
    "    for i in range(n):\n",
    "        yield i ** 2"
   ]
  },
  {
   "cell_type": "code",
   "execution_count": 2,
   "id": "9cd818b8-c221-4cb7-8a9b-bc52026c7dc3",
   "metadata": {},
   "outputs": [],
   "source": [
    "sq = squares_gen(5)"
   ]
  },
  {
   "cell_type": "code",
   "execution_count": 3,
   "id": "2ca0000e-affe-4082-ae25-1fc0bf66fdc2",
   "metadata": {},
   "outputs": [
    {
     "data": {
      "text/plain": [
       "<generator object squares_gen at 0x0000019F6F9EBAC0>"
      ]
     },
     "execution_count": 3,
     "metadata": {},
     "output_type": "execute_result"
    }
   ],
   "source": [
    "sq"
   ]
  },
  {
   "cell_type": "code",
   "execution_count": 4,
   "id": "0bf11324-3b30-462e-9e50-813a79531b37",
   "metadata": {},
   "outputs": [
    {
     "name": "stdout",
     "output_type": "stream",
     "text": [
      "0\n",
      "1\n",
      "4\n",
      "9\n",
      "16\n"
     ]
    }
   ],
   "source": [
    "for num in sq:\n",
    "    print(num)"
   ]
  },
  {
   "cell_type": "code",
   "execution_count": 5,
   "id": "d7d6aa10-a908-4c2e-88e4-012245926785",
   "metadata": {},
   "outputs": [
    {
     "data": {
      "text/plain": [
       "[]"
      ]
     },
     "execution_count": 5,
     "metadata": {},
     "output_type": "execute_result"
    }
   ],
   "source": [
    "list(sq)"
   ]
  },
  {
   "cell_type": "code",
   "execution_count": 6,
   "id": "10725a5f-af30-4b48-97e0-38442990afbc",
   "metadata": {},
   "outputs": [],
   "source": [
    "class Squares:\n",
    "    def __init__(self, n):\n",
    "        self.n = n\n",
    "\n",
    "    def __iter__(self):\n",
    "        return squares_gen(self.n)"
   ]
  },
  {
   "cell_type": "code",
   "execution_count": 7,
   "id": "b97b116c-31f8-476a-b359-57589bcb0b36",
   "metadata": {},
   "outputs": [],
   "source": [
    "sq = Squares(5)"
   ]
  },
  {
   "cell_type": "code",
   "execution_count": 8,
   "id": "1e99fd82-3435-4d09-8cf4-aa5ab7fa9cd3",
   "metadata": {},
   "outputs": [
    {
     "name": "stdout",
     "output_type": "stream",
     "text": [
      "0\n",
      "1\n",
      "4\n",
      "9\n",
      "16\n"
     ]
    }
   ],
   "source": [
    "for num in sq:\n",
    "    print(num)"
   ]
  },
  {
   "cell_type": "code",
   "execution_count": 10,
   "id": "ef0cf051-7a4f-447f-a27c-b2f23df22fcf",
   "metadata": {},
   "outputs": [
    {
     "data": {
      "text/plain": [
       "[0, 1, 4, 9, 16]"
      ]
     },
     "execution_count": 10,
     "metadata": {},
     "output_type": "execute_result"
    }
   ],
   "source": [
    "list(sq)"
   ]
  },
  {
   "cell_type": "code",
   "execution_count": 11,
   "id": "e0a129df-c4b1-489c-ad23-a937e52f19ef",
   "metadata": {},
   "outputs": [
    {
     "ename": "TypeError",
     "evalue": "'Squares' object is not an iterator",
     "output_type": "error",
     "traceback": [
      "\u001b[1;31m---------------------------------------------------------------------------\u001b[0m",
      "\u001b[1;31mTypeError\u001b[0m                                 Traceback (most recent call last)",
      "Cell \u001b[1;32mIn[11], line 1\u001b[0m\n\u001b[1;32m----> 1\u001b[0m \u001b[38;5;28mnext\u001b[39m(sq)\n",
      "\u001b[1;31mTypeError\u001b[0m: 'Squares' object is not an iterator"
     ]
    }
   ],
   "source": [
    "next(sq)"
   ]
  },
  {
   "cell_type": "code",
   "execution_count": 12,
   "id": "4f9e3892-b8f4-4a5e-ac66-0050ed25132b",
   "metadata": {},
   "outputs": [],
   "source": [
    "class Squares:\n",
    "    def __init__(self, n):\n",
    "        self.n = n\n",
    "\n",
    "    def __iter__(self):\n",
    "        return squares_gen(self.n)\n",
    "    @staticmethod\n",
    "    def squares_gen(n):\n",
    "        for i in range(n):\n",
    "            yield i ** 2 "
   ]
  },
  {
   "cell_type": "code",
   "execution_count": 13,
   "id": "5a8538c7-c32e-42f8-8fe8-703ea0130a53",
   "metadata": {},
   "outputs": [
    {
     "data": {
      "text/plain": [
       "[0, 1, 4, 9, 16]"
      ]
     },
     "execution_count": 13,
     "metadata": {},
     "output_type": "execute_result"
    }
   ],
   "source": [
    "sq = Squares(5)\n",
    "list(sq)"
   ]
  },
  {
   "cell_type": "code",
   "execution_count": 14,
   "id": "5885531e-e2b2-40fd-8129-a7cfce45f6a7",
   "metadata": {},
   "outputs": [
    {
     "data": {
      "text/plain": [
       "[0, 1, 4, 9, 16]"
      ]
     },
     "execution_count": 14,
     "metadata": {},
     "output_type": "execute_result"
    }
   ],
   "source": [
    "list(sq)"
   ]
  },
  {
   "cell_type": "code",
   "execution_count": 15,
   "id": "1bee59c7-a5be-42cd-850f-a7a8ea744311",
   "metadata": {},
   "outputs": [],
   "source": [
    "def squares(n):\n",
    "    for i in range(n):\n",
    "        yield i ** 2"
   ]
  },
  {
   "cell_type": "code",
   "execution_count": 16,
   "id": "8eaaedc2-a906-4dda-8f85-5fe48a2a4776",
   "metadata": {},
   "outputs": [],
   "source": [
    "sq = squares(5)"
   ]
  },
  {
   "cell_type": "code",
   "execution_count": 17,
   "id": "ce79c053-8951-4cd6-a2b1-3e92aa8f9eac",
   "metadata": {},
   "outputs": [],
   "source": [
    "enum_sq = enumerate(sq)"
   ]
  },
  {
   "cell_type": "code",
   "execution_count": 18,
   "id": "cf727349-e121-4b28-aa40-42514a327f26",
   "metadata": {},
   "outputs": [
    {
     "data": {
      "text/plain": [
       "[(0, 0), (1, 1), (2, 4), (3, 9), (4, 16)]"
      ]
     },
     "execution_count": 18,
     "metadata": {},
     "output_type": "execute_result"
    }
   ],
   "source": [
    "list(enum_sq)"
   ]
  },
  {
   "cell_type": "code",
   "execution_count": 19,
   "id": "840b02e7-091d-4b95-9566-d11b27988d66",
   "metadata": {},
   "outputs": [
    {
     "data": {
      "text/plain": [
       "[]"
      ]
     },
     "execution_count": 19,
     "metadata": {},
     "output_type": "execute_result"
    }
   ],
   "source": [
    "list(enum_sq)"
   ]
  },
  {
   "cell_type": "code",
   "execution_count": 20,
   "id": "5de04b8f-4819-4149-96a1-f76f76a3c025",
   "metadata": {},
   "outputs": [],
   "source": [
    "l = [1,2,3]"
   ]
  },
  {
   "cell_type": "code",
   "execution_count": 21,
   "id": "f4da53dc-7525-4926-98cb-046d0690389c",
   "metadata": {},
   "outputs": [],
   "source": [
    "enum = enumerate(l)"
   ]
  },
  {
   "cell_type": "code",
   "execution_count": 22,
   "id": "42234f91-5cb3-4786-b6ff-492748696c23",
   "metadata": {},
   "outputs": [
    {
     "data": {
      "text/plain": [
       "enumerate"
      ]
     },
     "execution_count": 22,
     "metadata": {},
     "output_type": "execute_result"
    }
   ],
   "source": [
    "type(enum)"
   ]
  },
  {
   "cell_type": "code",
   "execution_count": 23,
   "id": "69b6877d-09e4-4b8c-89db-0f7584f0df95",
   "metadata": {},
   "outputs": [
    {
     "data": {
      "text/plain": [
       "<enumerate at 0x19f70851260>"
      ]
     },
     "execution_count": 23,
     "metadata": {},
     "output_type": "execute_result"
    }
   ],
   "source": [
    "enum"
   ]
  },
  {
   "cell_type": "code",
   "execution_count": 24,
   "id": "219dd6df-89ec-445d-80e2-3d96598328f2",
   "metadata": {},
   "outputs": [
    {
     "data": {
      "text/plain": [
       "True"
      ]
     },
     "execution_count": 24,
     "metadata": {},
     "output_type": "execute_result"
    }
   ],
   "source": [
    "iter(enum) is enum"
   ]
  },
  {
   "cell_type": "code",
   "execution_count": 25,
   "id": "9e396574-a472-4b9c-9ad0-070898de8944",
   "metadata": {},
   "outputs": [],
   "source": [
    "sq = squares(5)"
   ]
  },
  {
   "cell_type": "code",
   "execution_count": 26,
   "id": "0ced2af1-d509-4507-b651-5ede227150b4",
   "metadata": {},
   "outputs": [
    {
     "data": {
      "text/plain": [
       "0"
      ]
     },
     "execution_count": 26,
     "metadata": {},
     "output_type": "execute_result"
    }
   ],
   "source": [
    "next(sq)"
   ]
  },
  {
   "cell_type": "code",
   "execution_count": 27,
   "id": "eb7c8d62-663e-4a13-abdc-b92f19972dcb",
   "metadata": {},
   "outputs": [
    {
     "data": {
      "text/plain": [
       "1"
      ]
     },
     "execution_count": 27,
     "metadata": {},
     "output_type": "execute_result"
    }
   ],
   "source": [
    "next(sq)"
   ]
  },
  {
   "cell_type": "code",
   "execution_count": 29,
   "id": "e84f7ce7-11a8-419b-8131-c7418f71d9e1",
   "metadata": {},
   "outputs": [
    {
     "data": {
      "text/plain": [
       "[(0, 4), (1, 9), (2, 16)]"
      ]
     },
     "execution_count": 29,
     "metadata": {},
     "output_type": "execute_result"
    }
   ],
   "source": [
    "list(enumerate(sq))"
   ]
  },
  {
   "cell_type": "code",
   "execution_count": null,
   "id": "01348004-195e-46b8-8eee-254b7cc6bd0b",
   "metadata": {},
   "outputs": [],
   "source": []
  }
 ],
 "metadata": {
  "kernelspec": {
   "display_name": "Python 3 (ipykernel)",
   "language": "python",
   "name": "python3"
  },
  "language_info": {
   "codemirror_mode": {
    "name": "ipython",
    "version": 3
   },
   "file_extension": ".py",
   "mimetype": "text/x-python",
   "name": "python",
   "nbconvert_exporter": "python",
   "pygments_lexer": "ipython3",
   "version": "3.12.7"
  }
 },
 "nbformat": 4,
 "nbformat_minor": 5
}
