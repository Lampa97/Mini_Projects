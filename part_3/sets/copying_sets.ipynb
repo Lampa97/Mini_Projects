{
 "cells": [
  {
   "cell_type": "code",
   "execution_count": 2,
   "id": "377edc09",
   "metadata": {},
   "outputs": [],
   "source": [
    "class Person:\n",
    "    def __init__(self, name):\n",
    "        self.name = name\n",
    "\n",
    "    def __repr__(self):\n",
    "        return f'Person(name={self.name})'"
   ]
  },
  {
   "cell_type": "code",
   "execution_count": 3,
   "id": "5897152c",
   "metadata": {},
   "outputs": [],
   "source": [
    "p1 = Person('John')\n",
    "p2 = Person('Eric')"
   ]
  },
  {
   "cell_type": "code",
   "execution_count": 4,
   "id": "f0af7560",
   "metadata": {},
   "outputs": [
    {
     "data": {
      "text/plain": [
       "(179696248233, 179696121737)"
      ]
     },
     "execution_count": 4,
     "metadata": {},
     "output_type": "execute_result"
    }
   ],
   "source": [
    "hash(p1), hash(p2)"
   ]
  },
  {
   "cell_type": "code",
   "execution_count": 5,
   "id": "e827845e",
   "metadata": {},
   "outputs": [],
   "source": [
    "s1 = {p1, p2}"
   ]
  },
  {
   "cell_type": "code",
   "execution_count": 6,
   "id": "cd059321",
   "metadata": {},
   "outputs": [],
   "source": [
    "s2 = s1.copy()"
   ]
  },
  {
   "cell_type": "code",
   "execution_count": 7,
   "id": "7a431af3",
   "metadata": {},
   "outputs": [
    {
     "data": {
      "text/plain": [
       "False"
      ]
     },
     "execution_count": 7,
     "metadata": {},
     "output_type": "execute_result"
    }
   ],
   "source": [
    "s1 is s2"
   ]
  },
  {
   "cell_type": "code",
   "execution_count": 8,
   "id": "d2af7f41",
   "metadata": {},
   "outputs": [
    {
     "data": {
      "text/plain": [
       "{Person(name=Eric), Person(name=John)}"
      ]
     },
     "execution_count": 8,
     "metadata": {},
     "output_type": "execute_result"
    }
   ],
   "source": [
    "s2"
   ]
  },
  {
   "cell_type": "code",
   "execution_count": 11,
   "id": "c3dd7481",
   "metadata": {},
   "outputs": [
    {
     "data": {
      "text/plain": [
       "True"
      ]
     },
     "execution_count": 11,
     "metadata": {},
     "output_type": "execute_result"
    }
   ],
   "source": [
    "p1 in s2"
   ]
  },
  {
   "cell_type": "code",
   "execution_count": 12,
   "id": "2b6d70bb",
   "metadata": {},
   "outputs": [
    {
     "data": {
      "text/plain": [
       "True"
      ]
     },
     "execution_count": 12,
     "metadata": {},
     "output_type": "execute_result"
    }
   ],
   "source": [
    "p1 in s1"
   ]
  },
  {
   "cell_type": "code",
   "execution_count": 13,
   "id": "d5234459",
   "metadata": {},
   "outputs": [],
   "source": [
    "s3 = {*s1}"
   ]
  },
  {
   "cell_type": "code",
   "execution_count": 14,
   "id": "bdda5606",
   "metadata": {},
   "outputs": [
    {
     "data": {
      "text/plain": [
       "{Person(name=Eric), Person(name=John)}"
      ]
     },
     "execution_count": 14,
     "metadata": {},
     "output_type": "execute_result"
    }
   ],
   "source": [
    "s3"
   ]
  },
  {
   "cell_type": "code",
   "execution_count": 15,
   "id": "1e8768f2",
   "metadata": {},
   "outputs": [
    {
     "data": {
      "text/plain": [
       "False"
      ]
     },
     "execution_count": 15,
     "metadata": {},
     "output_type": "execute_result"
    }
   ],
   "source": [
    "s1 is s3"
   ]
  },
  {
   "cell_type": "code",
   "execution_count": 16,
   "id": "866fadcd",
   "metadata": {},
   "outputs": [
    {
     "data": {
      "text/plain": [
       "True"
      ]
     },
     "execution_count": 16,
     "metadata": {},
     "output_type": "execute_result"
    }
   ],
   "source": [
    "s1 == s3"
   ]
  },
  {
   "cell_type": "code",
   "execution_count": 17,
   "id": "1e546574",
   "metadata": {},
   "outputs": [
    {
     "data": {
      "text/plain": [
       "({Person(name=Eric), Person(name=John)},\n",
       " {Person(name=Eric), Person(name=John)},\n",
       " {Person(name=Eric), Person(name=John)})"
      ]
     },
     "execution_count": 17,
     "metadata": {},
     "output_type": "execute_result"
    }
   ],
   "source": [
    "s1, s2, s3"
   ]
  },
  {
   "cell_type": "code",
   "execution_count": 18,
   "id": "8add163a",
   "metadata": {},
   "outputs": [],
   "source": [
    "p1.name = 'John Cleese'"
   ]
  },
  {
   "cell_type": "code",
   "execution_count": 19,
   "id": "6690ab67",
   "metadata": {},
   "outputs": [
    {
     "data": {
      "text/plain": [
       "({Person(name=Eric), Person(name=John Cleese)},\n",
       " {Person(name=Eric), Person(name=John Cleese)},\n",
       " {Person(name=Eric), Person(name=John Cleese)})"
      ]
     },
     "execution_count": 19,
     "metadata": {},
     "output_type": "execute_result"
    }
   ],
   "source": [
    "s1,s2,s3"
   ]
  },
  {
   "cell_type": "code",
   "execution_count": 20,
   "id": "006f758e",
   "metadata": {},
   "outputs": [
    {
     "data": {
      "text/plain": [
       "179696248233"
      ]
     },
     "execution_count": 20,
     "metadata": {},
     "output_type": "execute_result"
    }
   ],
   "source": [
    "hash(p1)"
   ]
  },
  {
   "cell_type": "code",
   "execution_count": 21,
   "id": "61de86b6",
   "metadata": {},
   "outputs": [
    {
     "data": {
      "text/plain": [
       "True"
      ]
     },
     "execution_count": 21,
     "metadata": {},
     "output_type": "execute_result"
    }
   ],
   "source": [
    "s4 = set(s1)\n",
    "s1 == s4"
   ]
  },
  {
   "cell_type": "code",
   "execution_count": 22,
   "id": "6698a8f5",
   "metadata": {},
   "outputs": [
    {
     "data": {
      "text/plain": [
       "False"
      ]
     },
     "execution_count": 22,
     "metadata": {},
     "output_type": "execute_result"
    }
   ],
   "source": [
    "s1 is s4"
   ]
  },
  {
   "cell_type": "code",
   "execution_count": 23,
   "id": "8a9078b9",
   "metadata": {},
   "outputs": [],
   "source": [
    "from copy import deepcopy\n",
    "s5 = deepcopy(s1)"
   ]
  },
  {
   "cell_type": "code",
   "execution_count": 24,
   "id": "3778a936",
   "metadata": {},
   "outputs": [
    {
     "data": {
      "text/plain": [
       "{Person(name=Eric), Person(name=John Cleese)}"
      ]
     },
     "execution_count": 24,
     "metadata": {},
     "output_type": "execute_result"
    }
   ],
   "source": [
    "s5"
   ]
  },
  {
   "cell_type": "code",
   "execution_count": 25,
   "id": "86fc47fa",
   "metadata": {},
   "outputs": [
    {
     "data": {
      "text/plain": [
       "False"
      ]
     },
     "execution_count": 25,
     "metadata": {},
     "output_type": "execute_result"
    }
   ],
   "source": [
    "s1 is s5"
   ]
  },
  {
   "cell_type": "code",
   "execution_count": 26,
   "id": "0b0bdf55",
   "metadata": {},
   "outputs": [
    {
     "data": {
      "text/plain": [
       "False"
      ]
     },
     "execution_count": 26,
     "metadata": {},
     "output_type": "execute_result"
    }
   ],
   "source": [
    "s1 == s5"
   ]
  },
  {
   "cell_type": "code",
   "execution_count": 27,
   "id": "ec81ac2a",
   "metadata": {},
   "outputs": [
    {
     "data": {
      "text/plain": [
       "[(Person(name=John Cleese), 2875139971728), (Person(name=Eric), 2875137947792)]"
      ]
     },
     "execution_count": 27,
     "metadata": {},
     "output_type": "execute_result"
    }
   ],
   "source": [
    "[(o, id(o)) for o in s1]"
   ]
  },
  {
   "cell_type": "code",
   "execution_count": 28,
   "id": "2c2b671b",
   "metadata": {},
   "outputs": [
    {
     "data": {
      "text/plain": [
       "[(Person(name=John Cleese), 2875139971728), (Person(name=Eric), 2875137947792)]"
      ]
     },
     "execution_count": 28,
     "metadata": {},
     "output_type": "execute_result"
    }
   ],
   "source": [
    "[(o, id(o)) for o in s2]"
   ]
  },
  {
   "cell_type": "code",
   "execution_count": 29,
   "id": "eac1591f",
   "metadata": {},
   "outputs": [
    {
     "data": {
      "text/plain": [
       "[(Person(name=John Cleese), 2875142525072), (Person(name=Eric), 2875142522832)]"
      ]
     },
     "execution_count": 29,
     "metadata": {},
     "output_type": "execute_result"
    }
   ],
   "source": [
    "[(o, id(o)) for o in s5]"
   ]
  },
  {
   "cell_type": "code",
   "execution_count": 30,
   "id": "c1b8a5f6",
   "metadata": {},
   "outputs": [],
   "source": [
    "p2.name = 'Eric Idle'"
   ]
  },
  {
   "cell_type": "code",
   "execution_count": 31,
   "id": "9780c3f5",
   "metadata": {},
   "outputs": [
    {
     "data": {
      "text/plain": [
       "({Person(name=Eric Idle), Person(name=John Cleese)},\n",
       " {Person(name=Eric Idle), Person(name=John Cleese)},\n",
       " {Person(name=Eric Idle), Person(name=John Cleese)},\n",
       " {Person(name=Eric Idle), Person(name=John Cleese)})"
      ]
     },
     "execution_count": 31,
     "metadata": {},
     "output_type": "execute_result"
    }
   ],
   "source": [
    "s1,s2,s3,s4"
   ]
  },
  {
   "cell_type": "code",
   "execution_count": 32,
   "id": "51fe0b9d",
   "metadata": {},
   "outputs": [
    {
     "data": {
      "text/plain": [
       "{Person(name=Eric), Person(name=John Cleese)}"
      ]
     },
     "execution_count": 32,
     "metadata": {},
     "output_type": "execute_result"
    }
   ],
   "source": [
    "s5"
   ]
  },
  {
   "cell_type": "code",
   "execution_count": 33,
   "id": "56888e9d",
   "metadata": {},
   "outputs": [],
   "source": [
    "s1.remove(p1)"
   ]
  },
  {
   "cell_type": "code",
   "execution_count": 34,
   "id": "acf140c7",
   "metadata": {},
   "outputs": [
    {
     "data": {
      "text/plain": [
       "{Person(name=Eric Idle)}"
      ]
     },
     "execution_count": 34,
     "metadata": {},
     "output_type": "execute_result"
    }
   ],
   "source": [
    "s1"
   ]
  },
  {
   "cell_type": "code",
   "execution_count": 35,
   "id": "102776e5",
   "metadata": {},
   "outputs": [
    {
     "data": {
      "text/plain": [
       "{Person(name=Eric Idle), Person(name=John Cleese)}"
      ]
     },
     "execution_count": 35,
     "metadata": {},
     "output_type": "execute_result"
    }
   ],
   "source": [
    "s2"
   ]
  },
  {
   "cell_type": "code",
   "execution_count": 36,
   "id": "c397db6f",
   "metadata": {},
   "outputs": [
    {
     "ename": "KeyError",
     "evalue": "Person(name=Eric Idle)",
     "output_type": "error",
     "traceback": [
      "\u001b[31m---------------------------------------------------------------------------\u001b[39m",
      "\u001b[31mKeyError\u001b[39m                                  Traceback (most recent call last)",
      "\u001b[36mCell\u001b[39m\u001b[36m \u001b[39m\u001b[32mIn[36]\u001b[39m\u001b[32m, line 1\u001b[39m\n\u001b[32m----> \u001b[39m\u001b[32m1\u001b[39m \u001b[43ms1\u001b[49m\u001b[43m.\u001b[49m\u001b[43mremove\u001b[49m\u001b[43m(\u001b[49m\u001b[43mPerson\u001b[49m\u001b[43m(\u001b[49m\u001b[33;43m'\u001b[39;49m\u001b[33;43mEric Idle\u001b[39;49m\u001b[33;43m'\u001b[39;49m\u001b[43m)\u001b[49m\u001b[43m)\u001b[49m\n",
      "\u001b[31mKeyError\u001b[39m: Person(name=Eric Idle)"
     ]
    }
   ],
   "source": [
    "s1.remove(Person('Eric Idle'))"
   ]
  },
  {
   "cell_type": "code",
   "execution_count": null,
   "id": "3b6feac4",
   "metadata": {},
   "outputs": [],
   "source": []
  }
 ],
 "metadata": {
  "kernelspec": {
   "display_name": "Python 3",
   "language": "python",
   "name": "python3"
  },
  "language_info": {
   "codemirror_mode": {
    "name": "ipython",
    "version": 3
   },
   "file_extension": ".py",
   "mimetype": "text/x-python",
   "name": "python",
   "nbconvert_exporter": "python",
   "pygments_lexer": "ipython3",
   "version": "3.13.2"
  }
 },
 "nbformat": 4,
 "nbformat_minor": 5
}
