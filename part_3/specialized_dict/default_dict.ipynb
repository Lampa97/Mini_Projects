{
 "cells": [
  {
   "cell_type": "code",
   "execution_count": 1,
   "id": "b8e8dfcd",
   "metadata": {},
   "outputs": [],
   "source": [
    "from collections import defaultdict"
   ]
  },
  {
   "cell_type": "code",
   "execution_count": 2,
   "id": "bfb8860a",
   "metadata": {},
   "outputs": [],
   "source": [
    "d = {\n",
    "}"
   ]
  },
  {
   "cell_type": "code",
   "execution_count": 3,
   "id": "61351237",
   "metadata": {},
   "outputs": [
    {
     "ename": "KeyError",
     "evalue": "'a'",
     "output_type": "error",
     "traceback": [
      "\u001b[31m---------------------------------------------------------------------------\u001b[39m",
      "\u001b[31mKeyError\u001b[39m                                  Traceback (most recent call last)",
      "\u001b[36mCell\u001b[39m\u001b[36m \u001b[39m\u001b[32mIn[3]\u001b[39m\u001b[32m, line 1\u001b[39m\n\u001b[32m----> \u001b[39m\u001b[32m1\u001b[39m \u001b[43md\u001b[49m\u001b[43m[\u001b[49m\u001b[33;43m'\u001b[39;49m\u001b[33;43ma\u001b[39;49m\u001b[33;43m'\u001b[39;49m\u001b[43m]\u001b[49m\n",
      "\u001b[31mKeyError\u001b[39m: 'a'"
     ]
    }
   ],
   "source": [
    "d['a']"
   ]
  },
  {
   "cell_type": "code",
   "execution_count": 4,
   "id": "e5fbb05b",
   "metadata": {},
   "outputs": [],
   "source": [
    "result = d.get('a')"
   ]
  },
  {
   "cell_type": "code",
   "execution_count": 5,
   "id": "d1bd54b1",
   "metadata": {},
   "outputs": [
    {
     "data": {
      "text/plain": [
       "NoneType"
      ]
     },
     "execution_count": 5,
     "metadata": {},
     "output_type": "execute_result"
    }
   ],
   "source": [
    "type(result)"
   ]
  },
  {
   "cell_type": "code",
   "execution_count": 6,
   "id": "b3f96329",
   "metadata": {},
   "outputs": [],
   "source": [
    "result = d.get('a', 100)"
   ]
  },
  {
   "cell_type": "code",
   "execution_count": 7,
   "id": "27ba8999",
   "metadata": {},
   "outputs": [
    {
     "data": {
      "text/plain": [
       "100"
      ]
     },
     "execution_count": 7,
     "metadata": {},
     "output_type": "execute_result"
    }
   ],
   "source": [
    "result"
   ]
  },
  {
   "cell_type": "code",
   "execution_count": 8,
   "id": "0cceaec7",
   "metadata": {},
   "outputs": [
    {
     "data": {
      "text/plain": [
       "{}"
      ]
     },
     "execution_count": 8,
     "metadata": {},
     "output_type": "execute_result"
    }
   ],
   "source": [
    "d"
   ]
  },
  {
   "cell_type": "code",
   "execution_count": 9,
   "id": "87a4f0ed",
   "metadata": {},
   "outputs": [],
   "source": [
    "counts = {}\n",
    "sentence = \"able was I ere saw elba\""
   ]
  },
  {
   "cell_type": "code",
   "execution_count": 10,
   "id": "69d241f1",
   "metadata": {},
   "outputs": [],
   "source": [
    "for c in sentence:\n",
    "    if c in counts:\n",
    "        counts[c] += 1\n",
    "    else:\n",
    "        counts[c] = 1"
   ]
  },
  {
   "cell_type": "code",
   "execution_count": 11,
   "id": "4c5ca084",
   "metadata": {},
   "outputs": [
    {
     "data": {
      "text/plain": [
       "{'a': 4, 'b': 2, 'l': 2, 'e': 4, ' ': 5, 'w': 2, 's': 2, 'I': 1, 'r': 1}"
      ]
     },
     "execution_count": 11,
     "metadata": {},
     "output_type": "execute_result"
    }
   ],
   "source": [
    "counts"
   ]
  },
  {
   "cell_type": "code",
   "execution_count": 12,
   "id": "d4001eb0",
   "metadata": {},
   "outputs": [],
   "source": [
    "counts = {}\n",
    "for c in sentence:\n",
    "    counts[c] = counts.get(c, 0) + 1"
   ]
  },
  {
   "cell_type": "code",
   "execution_count": 13,
   "id": "68f38aae",
   "metadata": {},
   "outputs": [
    {
     "data": {
      "text/plain": [
       "{'a': 4, 'b': 2, 'l': 2, 'e': 4, ' ': 5, 'w': 2, 's': 2, 'I': 1, 'r': 1}"
      ]
     },
     "execution_count": 13,
     "metadata": {},
     "output_type": "execute_result"
    }
   ],
   "source": [
    "counts"
   ]
  },
  {
   "cell_type": "code",
   "execution_count": 14,
   "id": "2b8b8b30",
   "metadata": {},
   "outputs": [],
   "source": [
    "counts = defaultdict(lambda: 0)"
   ]
  },
  {
   "cell_type": "code",
   "execution_count": 15,
   "id": "f64ab209",
   "metadata": {},
   "outputs": [],
   "source": [
    "for c in sentence:\n",
    "    counts[c] += 1"
   ]
  },
  {
   "cell_type": "code",
   "execution_count": 16,
   "id": "4861b471",
   "metadata": {},
   "outputs": [
    {
     "data": {
      "text/plain": [
       "defaultdict(<function __main__.<lambda>()>,\n",
       "            {'a': 4,\n",
       "             'b': 2,\n",
       "             'l': 2,\n",
       "             'e': 4,\n",
       "             ' ': 5,\n",
       "             'w': 2,\n",
       "             's': 2,\n",
       "             'I': 1,\n",
       "             'r': 1})"
      ]
     },
     "execution_count": 16,
     "metadata": {},
     "output_type": "execute_result"
    }
   ],
   "source": [
    "counts"
   ]
  },
  {
   "cell_type": "code",
   "execution_count": 17,
   "id": "709cfd4b",
   "metadata": {},
   "outputs": [
    {
     "data": {
      "text/plain": [
       "True"
      ]
     },
     "execution_count": 17,
     "metadata": {},
     "output_type": "execute_result"
    }
   ],
   "source": [
    "isinstance(counts, defaultdict)"
   ]
  },
  {
   "cell_type": "code",
   "execution_count": 18,
   "id": "2a90cffb",
   "metadata": {},
   "outputs": [
    {
     "data": {
      "text/plain": [
       "True"
      ]
     },
     "execution_count": 18,
     "metadata": {},
     "output_type": "execute_result"
    }
   ],
   "source": [
    "isinstance(counts, dict)"
   ]
  },
  {
   "cell_type": "code",
   "execution_count": 20,
   "id": "053b68f7",
   "metadata": {},
   "outputs": [
    {
     "data": {
      "text/plain": [
       "dict_items([('a', 4), ('b', 2), ('l', 2), ('e', 4), (' ', 5), ('w', 2), ('s', 2), ('I', 1), ('r', 1)])"
      ]
     },
     "execution_count": 20,
     "metadata": {},
     "output_type": "execute_result"
    }
   ],
   "source": [
    "counts.items()"
   ]
  },
  {
   "cell_type": "code",
   "execution_count": 21,
   "id": "25ed78a2",
   "metadata": {},
   "outputs": [
    {
     "data": {
      "text/plain": [
       "dict_keys(['a', 'b', 'l', 'e', ' ', 'w', 's', 'I', 'r'])"
      ]
     },
     "execution_count": 21,
     "metadata": {},
     "output_type": "execute_result"
    }
   ],
   "source": [
    "counts.keys()"
   ]
  },
  {
   "cell_type": "code",
   "execution_count": 22,
   "id": "c6b24b5f",
   "metadata": {},
   "outputs": [
    {
     "data": {
      "text/plain": [
       "4"
      ]
     },
     "execution_count": 22,
     "metadata": {},
     "output_type": "execute_result"
    }
   ],
   "source": [
    "counts['a']"
   ]
  },
  {
   "cell_type": "code",
   "execution_count": 23,
   "id": "50176603",
   "metadata": {},
   "outputs": [
    {
     "data": {
      "text/plain": [
       "0"
      ]
     },
     "execution_count": 23,
     "metadata": {},
     "output_type": "execute_result"
    }
   ],
   "source": [
    "counts['z']"
   ]
  },
  {
   "cell_type": "code",
   "execution_count": 24,
   "id": "496acca8",
   "metadata": {},
   "outputs": [
    {
     "data": {
      "text/plain": [
       "True"
      ]
     },
     "execution_count": 24,
     "metadata": {},
     "output_type": "execute_result"
    }
   ],
   "source": [
    "'z' in counts"
   ]
  },
  {
   "cell_type": "code",
   "execution_count": 25,
   "id": "7c45273a",
   "metadata": {},
   "outputs": [],
   "source": [
    "counts['hello'] = 'world'"
   ]
  },
  {
   "cell_type": "code",
   "execution_count": 26,
   "id": "c7fda192",
   "metadata": {},
   "outputs": [],
   "source": [
    "del counts['hello']"
   ]
  },
  {
   "cell_type": "code",
   "execution_count": 27,
   "id": "a4de3528",
   "metadata": {},
   "outputs": [
    {
     "data": {
      "text/plain": [
       "defaultdict(<function __main__.<lambda>()>,\n",
       "            {'a': 4,\n",
       "             'b': 2,\n",
       "             'l': 2,\n",
       "             'e': 4,\n",
       "             ' ': 5,\n",
       "             'w': 2,\n",
       "             's': 2,\n",
       "             'I': 1,\n",
       "             'r': 1,\n",
       "             'z': 0})"
      ]
     },
     "execution_count": 27,
     "metadata": {},
     "output_type": "execute_result"
    }
   ],
   "source": [
    "counts"
   ]
  },
  {
   "cell_type": "code",
   "execution_count": 28,
   "id": "d3f4a4c1",
   "metadata": {},
   "outputs": [],
   "source": [
    "c = defaultdict(int)"
   ]
  },
  {
   "cell_type": "code",
   "execution_count": 29,
   "id": "fcdefc94",
   "metadata": {},
   "outputs": [
    {
     "data": {
      "text/plain": [
       "0"
      ]
     },
     "execution_count": 29,
     "metadata": {},
     "output_type": "execute_result"
    }
   ],
   "source": [
    "int()"
   ]
  },
  {
   "cell_type": "code",
   "execution_count": 30,
   "id": "7580c908",
   "metadata": {},
   "outputs": [],
   "source": [
    "c = defaultdict(lambda: 0)"
   ]
  },
  {
   "cell_type": "code",
   "execution_count": 31,
   "id": "0101e141",
   "metadata": {},
   "outputs": [
    {
     "data": {
      "text/plain": [
       "False"
      ]
     },
     "execution_count": 31,
     "metadata": {},
     "output_type": "execute_result"
    }
   ],
   "source": [
    "bool()"
   ]
  },
  {
   "cell_type": "code",
   "execution_count": 32,
   "id": "6da8a866",
   "metadata": {},
   "outputs": [
    {
     "data": {
      "text/plain": [
       "''"
      ]
     },
     "execution_count": 32,
     "metadata": {},
     "output_type": "execute_result"
    }
   ],
   "source": [
    "str()"
   ]
  },
  {
   "cell_type": "code",
   "execution_count": 33,
   "id": "98a90685",
   "metadata": {},
   "outputs": [
    {
     "data": {
      "text/plain": [
       "[]"
      ]
     },
     "execution_count": 33,
     "metadata": {},
     "output_type": "execute_result"
    }
   ],
   "source": [
    "list()"
   ]
  },
  {
   "cell_type": "code",
   "execution_count": 34,
   "id": "270817c7",
   "metadata": {},
   "outputs": [],
   "source": [
    "persons = {\n",
    "    'john': {'age': 20, 'eye_color': 'blue'},\n",
    "    'jack': {'age': 25, 'eye_color': 'brown'},\n",
    "    'jill': {'age': 22, 'eye_color': 'blue'},\n",
    "    'eric': {'age': 35},\n",
    "    'michael': {'age': 27}\n",
    "}"
   ]
  },
  {
   "cell_type": "code",
   "execution_count": 35,
   "id": "ab5ec30b",
   "metadata": {},
   "outputs": [],
   "source": [
    "eye_colors = {}\n",
    "for person, details in persons.items():\n",
    "    if 'eye_color' in details:\n",
    "        color = details['eye_color']\n",
    "    else:\n",
    "        color = 'unknown'\n",
    "\n",
    "    if color in eye_colors:\n",
    "        eye_colors[color].append(person)\n",
    "    else:\n",
    "        eye_colors[color] = [person]"
   ]
  },
  {
   "cell_type": "code",
   "execution_count": 36,
   "id": "d36724ec",
   "metadata": {},
   "outputs": [
    {
     "data": {
      "text/plain": [
       "{'blue': ['john', 'jill'], 'brown': ['jack'], 'unknown': ['eric', 'michael']}"
      ]
     },
     "execution_count": 36,
     "metadata": {},
     "output_type": "execute_result"
    }
   ],
   "source": [
    "eye_colors"
   ]
  },
  {
   "cell_type": "code",
   "execution_count": 38,
   "id": "722e45c1",
   "metadata": {},
   "outputs": [],
   "source": [
    "eye_colors = {}\n",
    "for person, details in persons.items():\n",
    "    color = details.get('eye_color', 'unknown')\n",
    "    person_list = eye_colors.get(color, [])\n",
    "    person_list.append(person)\n",
    "    eye_colors[color] = person_list"
   ]
  },
  {
   "cell_type": "code",
   "execution_count": 39,
   "id": "165e44ac",
   "metadata": {},
   "outputs": [
    {
     "data": {
      "text/plain": [
       "{'blue': ['john', 'jill'], 'brown': ['jack'], 'unknown': ['eric', 'michael']}"
      ]
     },
     "execution_count": 39,
     "metadata": {},
     "output_type": "execute_result"
    }
   ],
   "source": [
    "eye_colors"
   ]
  },
  {
   "cell_type": "code",
   "execution_count": 40,
   "id": "c33250cd",
   "metadata": {},
   "outputs": [],
   "source": [
    "eye_colors = defaultdict(list)\n",
    "for person, details in persons.items():\n",
    "    color = details.get('eye_color', 'unknown')\n",
    "    eye_colors[color].append(person)"
   ]
  },
  {
   "cell_type": "code",
   "execution_count": 41,
   "id": "1c8fd977",
   "metadata": {},
   "outputs": [
    {
     "data": {
      "text/plain": [
       "defaultdict(list,\n",
       "            {'blue': ['john', 'jill'],\n",
       "             'brown': ['jack'],\n",
       "             'unknown': ['eric', 'michael']})"
      ]
     },
     "execution_count": 41,
     "metadata": {},
     "output_type": "execute_result"
    }
   ],
   "source": [
    "eye_colors"
   ]
  },
  {
   "cell_type": "code",
   "execution_count": 42,
   "id": "d978fdc7",
   "metadata": {},
   "outputs": [],
   "source": [
    "d = dict(a=10, b=20)"
   ]
  },
  {
   "cell_type": "code",
   "execution_count": 43,
   "id": "519f1c56",
   "metadata": {},
   "outputs": [
    {
     "data": {
      "text/plain": [
       "{'a': 10, 'b': 20}"
      ]
     },
     "execution_count": 43,
     "metadata": {},
     "output_type": "execute_result"
    }
   ],
   "source": [
    "d"
   ]
  },
  {
   "cell_type": "code",
   "execution_count": 44,
   "id": "d10cd82d",
   "metadata": {},
   "outputs": [],
   "source": [
    "d = defaultdict(lambda: '', k1=100, k2=200 )"
   ]
  },
  {
   "cell_type": "code",
   "execution_count": 45,
   "id": "87cb1d78",
   "metadata": {},
   "outputs": [
    {
     "data": {
      "text/plain": [
       "defaultdict(<function __main__.<lambda>()>, {'k1': 100, 'k2': 200})"
      ]
     },
     "execution_count": 45,
     "metadata": {},
     "output_type": "execute_result"
    }
   ],
   "source": [
    "d"
   ]
  },
  {
   "cell_type": "code",
   "execution_count": 46,
   "id": "98828f77",
   "metadata": {},
   "outputs": [],
   "source": [
    "persons = {\n",
    "    'john': defaultdict(lambda: 'unknown', age=20, eye_color='blue'),\n",
    "    'jack': defaultdict(lambda: 'unknown', age=25, eye_color='brown'),\n",
    "    'jill': defaultdict(lambda: 'unknown', age=22, eye_color='blue'),\n",
    "    'eric': defaultdict(lambda: 'unknown', age=35),\n",
    "    'michael': defaultdict(lambda: 'unknown', age=27)\n",
    "}"
   ]
  },
  {
   "cell_type": "code",
   "execution_count": 49,
   "id": "744721cf",
   "metadata": {},
   "outputs": [],
   "source": [
    "eye_colors = defaultdict(list)\n",
    "for person, details in persons.items():\n",
    "    eye_colors[details['eye_color']].append(person)"
   ]
  },
  {
   "cell_type": "code",
   "execution_count": 50,
   "id": "b58536ee",
   "metadata": {},
   "outputs": [
    {
     "data": {
      "text/plain": [
       "defaultdict(list,\n",
       "            {'blue': ['john', 'jill'],\n",
       "             'brown': ['jack'],\n",
       "             'unknown': ['eric', 'michael']})"
      ]
     },
     "execution_count": 50,
     "metadata": {},
     "output_type": "execute_result"
    }
   ],
   "source": [
    "eye_colors"
   ]
  },
  {
   "cell_type": "code",
   "execution_count": 51,
   "id": "e20c3131",
   "metadata": {},
   "outputs": [],
   "source": [
    "from functools import partial"
   ]
  },
  {
   "cell_type": "code",
   "execution_count": 54,
   "id": "ede0f524",
   "metadata": {},
   "outputs": [],
   "source": [
    "eyedict = partial(defaultdict, lambda: 'unknown')"
   ]
  },
  {
   "cell_type": "code",
   "execution_count": null,
   "id": "2c84b5d5",
   "metadata": {},
   "outputs": [],
   "source": [
    "#eyedict = lambda *args, **kwargs: defaultdict(lambda: 'unknown', *args, **kwargs)"
   ]
  },
  {
   "cell_type": "code",
   "execution_count": 55,
   "id": "70e7b553",
   "metadata": {},
   "outputs": [],
   "source": [
    "persons = {\n",
    "    'john': eyedict(age=20, eye_color='blue'),\n",
    "    'jack': eyedict(age=25, eye_color='brown'),\n",
    "    'jill': eyedict(age=22, eye_color='blue'),\n",
    "    'eric': eyedict(age=35),\n",
    "    'michael': eyedict(age=27)\n",
    "}"
   ]
  },
  {
   "cell_type": "code",
   "execution_count": 56,
   "id": "3808b1f9",
   "metadata": {},
   "outputs": [],
   "source": [
    "eye_colors = defaultdict(list)\n",
    "for person, details in persons.items():\n",
    "    eye_colors[details['eye_color']].append(person)"
   ]
  },
  {
   "cell_type": "code",
   "execution_count": 57,
   "id": "1d1f6584",
   "metadata": {},
   "outputs": [
    {
     "data": {
      "text/plain": [
       "defaultdict(list,\n",
       "            {'blue': ['john', 'jill'],\n",
       "             'brown': ['jack'],\n",
       "             'unknown': ['eric', 'michael']})"
      ]
     },
     "execution_count": 57,
     "metadata": {},
     "output_type": "execute_result"
    }
   ],
   "source": [
    "eye_colors"
   ]
  },
  {
   "cell_type": "code",
   "execution_count": 66,
   "id": "4a647b3e",
   "metadata": {},
   "outputs": [],
   "source": [
    "from collections import defaultdict, namedtuple\n",
    "from datetime import datetime\n",
    "from functools import wraps\n",
    "\n",
    "def function_stats():\n",
    "    d = defaultdict(lambda: {\"count\": 0, \"first_called\": datetime.now()})\n",
    "    Stats = namedtuple('Stats', 'decorator data')\n",
    "\n",
    "    def decorator(fn):\n",
    "        @wraps(fn)\n",
    "        def wrapper(*args, **kwargs):\n",
    "            d[fn.__name__]['count'] += 1\n",
    "            return fn(*args, **kwargs)\n",
    "        return wrapper\n",
    "    \n",
    "    return Stats(decorator, d)"
   ]
  },
  {
   "cell_type": "code",
   "execution_count": 67,
   "id": "ae228e80",
   "metadata": {},
   "outputs": [],
   "source": [
    "stats = function_stats()"
   ]
  },
  {
   "cell_type": "code",
   "execution_count": 68,
   "id": "7f697090",
   "metadata": {},
   "outputs": [
    {
     "data": {
      "text/plain": [
       "defaultdict(<function __main__.function_stats.<locals>.<lambda>()>, {})"
      ]
     },
     "execution_count": 68,
     "metadata": {},
     "output_type": "execute_result"
    }
   ],
   "source": [
    "stats.data"
   ]
  },
  {
   "cell_type": "code",
   "execution_count": 69,
   "id": "341aa927",
   "metadata": {},
   "outputs": [
    {
     "data": {
      "text/plain": [
       "<function __main__.function_stats.<locals>.decorator(fn)>"
      ]
     },
     "execution_count": 69,
     "metadata": {},
     "output_type": "execute_result"
    }
   ],
   "source": [
    "stats.decorator"
   ]
  },
  {
   "cell_type": "code",
   "execution_count": 70,
   "id": "195b98a6",
   "metadata": {},
   "outputs": [],
   "source": [
    "@stats.decorator\n",
    "def func_1():\n",
    "    pass\n",
    "\n",
    "@stats.decorator\n",
    "def func_2(x,y):\n",
    "    pass"
   ]
  },
  {
   "cell_type": "code",
   "execution_count": 71,
   "id": "0aa65131",
   "metadata": {},
   "outputs": [
    {
     "data": {
      "text/plain": [
       "defaultdict(<function __main__.function_stats.<locals>.<lambda>()>, {})"
      ]
     },
     "execution_count": 71,
     "metadata": {},
     "output_type": "execute_result"
    }
   ],
   "source": [
    "stats.data"
   ]
  },
  {
   "cell_type": "code",
   "execution_count": 72,
   "id": "cecca137",
   "metadata": {},
   "outputs": [],
   "source": [
    "func_1()"
   ]
  },
  {
   "cell_type": "code",
   "execution_count": 73,
   "id": "fdf46be0",
   "metadata": {},
   "outputs": [
    {
     "data": {
      "text/plain": [
       "defaultdict(<function __main__.function_stats.<locals>.<lambda>()>,\n",
       "            {'func_1': {'count': 1,\n",
       "              'first_called': datetime.datetime(2025, 10, 2, 9, 48, 48, 482587)}})"
      ]
     },
     "execution_count": 73,
     "metadata": {},
     "output_type": "execute_result"
    }
   ],
   "source": [
    "stats.data"
   ]
  },
  {
   "cell_type": "code",
   "execution_count": 74,
   "id": "ea9cca0f",
   "metadata": {},
   "outputs": [],
   "source": [
    "func_1()"
   ]
  },
  {
   "cell_type": "code",
   "execution_count": 75,
   "id": "7cd929a5",
   "metadata": {},
   "outputs": [
    {
     "data": {
      "text/plain": [
       "defaultdict(<function __main__.function_stats.<locals>.<lambda>()>,\n",
       "            {'func_1': {'count': 2,\n",
       "              'first_called': datetime.datetime(2025, 10, 2, 9, 48, 48, 482587)}})"
      ]
     },
     "execution_count": 75,
     "metadata": {},
     "output_type": "execute_result"
    }
   ],
   "source": [
    "stats.data"
   ]
  },
  {
   "cell_type": "code",
   "execution_count": 76,
   "id": "72ac98be",
   "metadata": {},
   "outputs": [],
   "source": [
    "func_2(10,20)"
   ]
  },
  {
   "cell_type": "code",
   "execution_count": 77,
   "id": "77be8df9",
   "metadata": {},
   "outputs": [
    {
     "data": {
      "text/plain": [
       "defaultdict(<function __main__.function_stats.<locals>.<lambda>()>,\n",
       "            {'func_1': {'count': 2,\n",
       "              'first_called': datetime.datetime(2025, 10, 2, 9, 48, 48, 482587)},\n",
       "             'func_2': {'count': 1,\n",
       "              'first_called': datetime.datetime(2025, 10, 2, 9, 49, 13, 941692)}})"
      ]
     },
     "execution_count": 77,
     "metadata": {},
     "output_type": "execute_result"
    }
   ],
   "source": [
    "stats.data"
   ]
  },
  {
   "cell_type": "code",
   "execution_count": 78,
   "id": "b545a8a3",
   "metadata": {},
   "outputs": [],
   "source": [
    "func_2(20, 30)"
   ]
  },
  {
   "cell_type": "code",
   "execution_count": 79,
   "id": "cb58f503",
   "metadata": {},
   "outputs": [
    {
     "data": {
      "text/plain": [
       "defaultdict(<function __main__.function_stats.<locals>.<lambda>()>,\n",
       "            {'func_1': {'count': 2,\n",
       "              'first_called': datetime.datetime(2025, 10, 2, 9, 48, 48, 482587)},\n",
       "             'func_2': {'count': 2,\n",
       "              'first_called': datetime.datetime(2025, 10, 2, 9, 49, 13, 941692)}})"
      ]
     },
     "execution_count": 79,
     "metadata": {},
     "output_type": "execute_result"
    }
   ],
   "source": [
    "stats.data"
   ]
  },
  {
   "cell_type": "code",
   "execution_count": null,
   "id": "f7b77be7",
   "metadata": {},
   "outputs": [],
   "source": []
  }
 ],
 "metadata": {
  "kernelspec": {
   "display_name": "Python 3",
   "language": "python",
   "name": "python3"
  },
  "language_info": {
   "codemirror_mode": {
    "name": "ipython",
    "version": 3
   },
   "file_extension": ".py",
   "mimetype": "text/x-python",
   "name": "python",
   "nbconvert_exporter": "python",
   "pygments_lexer": "ipython3",
   "version": "3.13.2"
  }
 },
 "nbformat": 4,
 "nbformat_minor": 5
}
