{
 "cells": [
  {
   "cell_type": "code",
   "execution_count": 1,
   "id": "7c71f9f5",
   "metadata": {},
   "outputs": [],
   "source": [
    "from collections import defaultdict, Counter"
   ]
  },
  {
   "cell_type": "code",
   "execution_count": 2,
   "id": "83ed95f1",
   "metadata": {},
   "outputs": [],
   "source": [
    "sentence = 'the quick brown fox jumps over the lazy dog'"
   ]
  },
  {
   "cell_type": "code",
   "execution_count": 3,
   "id": "b38df854",
   "metadata": {},
   "outputs": [],
   "source": [
    "counter = defaultdict(int)"
   ]
  },
  {
   "cell_type": "code",
   "execution_count": 4,
   "id": "41a76eb9",
   "metadata": {},
   "outputs": [],
   "source": [
    "for c in sentence:\n",
    "    counter[c] += 1"
   ]
  },
  {
   "cell_type": "code",
   "execution_count": 5,
   "id": "12708d73",
   "metadata": {},
   "outputs": [
    {
     "data": {
      "text/plain": [
       "defaultdict(int,\n",
       "            {'t': 2,\n",
       "             'h': 2,\n",
       "             'e': 3,\n",
       "             ' ': 8,\n",
       "             'q': 1,\n",
       "             'u': 2,\n",
       "             'i': 1,\n",
       "             'c': 1,\n",
       "             'k': 1,\n",
       "             'b': 1,\n",
       "             'r': 2,\n",
       "             'o': 4,\n",
       "             'w': 1,\n",
       "             'n': 1,\n",
       "             'f': 1,\n",
       "             'x': 1,\n",
       "             'j': 1,\n",
       "             'm': 1,\n",
       "             'p': 1,\n",
       "             's': 1,\n",
       "             'v': 1,\n",
       "             'l': 1,\n",
       "             'a': 1,\n",
       "             'z': 1,\n",
       "             'y': 1,\n",
       "             'd': 1,\n",
       "             'g': 1})"
      ]
     },
     "execution_count": 5,
     "metadata": {},
     "output_type": "execute_result"
    }
   ],
   "source": [
    "counter"
   ]
  },
  {
   "cell_type": "code",
   "execution_count": 6,
   "id": "79856572",
   "metadata": {},
   "outputs": [],
   "source": [
    "counter = Counter()"
   ]
  },
  {
   "cell_type": "code",
   "execution_count": 7,
   "id": "a0226dd8",
   "metadata": {},
   "outputs": [],
   "source": [
    "for c in sentence:\n",
    "    counter[c] += 1"
   ]
  },
  {
   "cell_type": "code",
   "execution_count": 8,
   "id": "7b685d30",
   "metadata": {},
   "outputs": [
    {
     "data": {
      "text/plain": [
       "Counter({' ': 8,\n",
       "         'o': 4,\n",
       "         'e': 3,\n",
       "         't': 2,\n",
       "         'h': 2,\n",
       "         'u': 2,\n",
       "         'r': 2,\n",
       "         'q': 1,\n",
       "         'i': 1,\n",
       "         'c': 1,\n",
       "         'k': 1,\n",
       "         'b': 1,\n",
       "         'w': 1,\n",
       "         'n': 1,\n",
       "         'f': 1,\n",
       "         'x': 1,\n",
       "         'j': 1,\n",
       "         'm': 1,\n",
       "         'p': 1,\n",
       "         's': 1,\n",
       "         'v': 1,\n",
       "         'l': 1,\n",
       "         'a': 1,\n",
       "         'z': 1,\n",
       "         'y': 1,\n",
       "         'd': 1,\n",
       "         'g': 1})"
      ]
     },
     "execution_count": 8,
     "metadata": {},
     "output_type": "execute_result"
    }
   ],
   "source": [
    "counter"
   ]
  },
  {
   "cell_type": "code",
   "execution_count": 9,
   "id": "9a816324",
   "metadata": {},
   "outputs": [],
   "source": [
    "c1 = Counter('able was I ere i saw elba')"
   ]
  },
  {
   "cell_type": "code",
   "execution_count": 10,
   "id": "caf85420",
   "metadata": {},
   "outputs": [
    {
     "data": {
      "text/plain": [
       "Counter({' ': 6,\n",
       "         'a': 4,\n",
       "         'e': 4,\n",
       "         'b': 2,\n",
       "         'l': 2,\n",
       "         'w': 2,\n",
       "         's': 2,\n",
       "         'I': 1,\n",
       "         'r': 1,\n",
       "         'i': 1})"
      ]
     },
     "execution_count": 10,
     "metadata": {},
     "output_type": "execute_result"
    }
   ],
   "source": [
    "c1"
   ]
  },
  {
   "cell_type": "code",
   "execution_count": 11,
   "id": "1a98d7b1",
   "metadata": {},
   "outputs": [],
   "source": [
    "c1 = Counter([1,2,2,3,4,5,5,5,6])"
   ]
  },
  {
   "cell_type": "code",
   "execution_count": 12,
   "id": "cfe5d7c9",
   "metadata": {},
   "outputs": [
    {
     "data": {
      "text/plain": [
       "Counter({5: 3, 2: 2, 1: 1, 3: 1, 4: 1, 6: 1})"
      ]
     },
     "execution_count": 12,
     "metadata": {},
     "output_type": "execute_result"
    }
   ],
   "source": [
    "c1"
   ]
  },
  {
   "cell_type": "code",
   "execution_count": 13,
   "id": "c1bbe691",
   "metadata": {},
   "outputs": [],
   "source": [
    "import random\n",
    "random.seed(0)"
   ]
  },
  {
   "cell_type": "code",
   "execution_count": 14,
   "id": "04b188c5",
   "metadata": {},
   "outputs": [],
   "source": [
    "my_list = [random.randint(0,10) for _ in range(1_000)]"
   ]
  },
  {
   "cell_type": "code",
   "execution_count": 16,
   "id": "730a601e",
   "metadata": {},
   "outputs": [],
   "source": [
    "c2 = Counter(my_list)"
   ]
  },
  {
   "cell_type": "code",
   "execution_count": 17,
   "id": "d9b9400f",
   "metadata": {},
   "outputs": [
    {
     "data": {
      "text/plain": [
       "Counter({1: 107,\n",
       "         10: 98,\n",
       "         0: 97,\n",
       "         6: 95,\n",
       "         7: 94,\n",
       "         4: 91,\n",
       "         5: 89,\n",
       "         2: 88,\n",
       "         9: 85,\n",
       "         3: 80,\n",
       "         8: 76})"
      ]
     },
     "execution_count": 17,
     "metadata": {},
     "output_type": "execute_result"
    }
   ],
   "source": [
    "c2"
   ]
  },
  {
   "cell_type": "code",
   "execution_count": 19,
   "id": "c603eb64",
   "metadata": {},
   "outputs": [],
   "source": [
    "c2 = Counter(a=1, b=10)"
   ]
  },
  {
   "cell_type": "code",
   "execution_count": 20,
   "id": "3dec03bf",
   "metadata": {},
   "outputs": [
    {
     "data": {
      "text/plain": [
       "Counter({'b': 10, 'a': 1})"
      ]
     },
     "execution_count": 20,
     "metadata": {},
     "output_type": "execute_result"
    }
   ],
   "source": [
    "c2"
   ]
  },
  {
   "cell_type": "code",
   "execution_count": 21,
   "id": "2d85dad5",
   "metadata": {},
   "outputs": [],
   "source": [
    "c3 = Counter({'a': 1, 'b': 20})"
   ]
  },
  {
   "cell_type": "code",
   "execution_count": 22,
   "id": "75b59af3",
   "metadata": {},
   "outputs": [
    {
     "data": {
      "text/plain": [
       "Counter({'b': 20, 'a': 1})"
      ]
     },
     "execution_count": 22,
     "metadata": {},
     "output_type": "execute_result"
    }
   ],
   "source": [
    "c3"
   ]
  },
  {
   "cell_type": "code",
   "execution_count": 23,
   "id": "ffe5c02f",
   "metadata": {},
   "outputs": [],
   "source": [
    "import re"
   ]
  },
  {
   "cell_type": "code",
   "execution_count": 24,
   "id": "6d052465",
   "metadata": {},
   "outputs": [],
   "source": [
    "sentence = '''\n",
    "his module implements pseudo-random number generators for various distributions.\n",
    "\n",
    "For integers, there is uniform selection from a range. For sequences, there is uniform selection of a random element, a function to generate a random permutation of a list in-place, and a function for random sampling without replacement.\n",
    "\n",
    "On the real line, there are functions to compute uniform, normal (Gaussian), lognormal, negative exponential, gamma, and beta distributions. For generating distributions of angles, the von Mises distribution is available.\n",
    "\n",
    "Almost all module functions depend on the basic function random(), which generates a random float uniformly in the semi-open range [0.0, 1.0). Python uses the Mersenne Twister as the core generator. It produces 53-bit precision floats and has a period of 2**19937-1. The underlying implementation in C is both fast and threadsafe. The Mersenne Twister is one of the most extensively tested random number generators in existence. However, being completely deterministic, it is not suitable for all purposes, and is completely unsuitable for cryptographic purposes.'''"
   ]
  },
  {
   "cell_type": "code",
   "execution_count": 25,
   "id": "676bdb62",
   "metadata": {},
   "outputs": [
    {
     "name": "stderr",
     "output_type": "stream",
     "text": [
      "<>:1: SyntaxWarning: invalid escape sequence '\\W'\n",
      "<>:1: SyntaxWarning: invalid escape sequence '\\W'\n",
      "C:\\Users\\CASPER\\AppData\\Local\\Temp\\ipykernel_31808\\2610225495.py:1: SyntaxWarning: invalid escape sequence '\\W'\n",
      "  words = re.split('\\W', sentence)\n"
     ]
    }
   ],
   "source": [
    "words = re.split('\\W', sentence)"
   ]
  },
  {
   "cell_type": "code",
   "execution_count": 26,
   "id": "6e9d4234",
   "metadata": {},
   "outputs": [
    {
     "data": {
      "text/plain": [
       "list"
      ]
     },
     "execution_count": 26,
     "metadata": {},
     "output_type": "execute_result"
    }
   ],
   "source": [
    "type(words)"
   ]
  },
  {
   "cell_type": "code",
   "execution_count": 27,
   "id": "9498cab2",
   "metadata": {},
   "outputs": [
    {
     "data": {
      "text/plain": [
       "['',\n",
       " 'his',\n",
       " 'module',\n",
       " 'implements',\n",
       " 'pseudo',\n",
       " 'random',\n",
       " 'number',\n",
       " 'generators',\n",
       " 'for',\n",
       " 'various',\n",
       " 'distributions',\n",
       " '',\n",
       " '',\n",
       " 'For',\n",
       " 'integers',\n",
       " '',\n",
       " 'there',\n",
       " 'is',\n",
       " 'uniform',\n",
       " 'selection',\n",
       " 'from',\n",
       " 'a',\n",
       " 'range',\n",
       " '',\n",
       " 'For',\n",
       " 'sequences',\n",
       " '',\n",
       " 'there',\n",
       " 'is',\n",
       " 'uniform',\n",
       " 'selection',\n",
       " 'of',\n",
       " 'a',\n",
       " 'random',\n",
       " 'element',\n",
       " '',\n",
       " 'a',\n",
       " 'function',\n",
       " 'to',\n",
       " 'generate',\n",
       " 'a',\n",
       " 'random',\n",
       " 'permutation',\n",
       " 'of',\n",
       " 'a',\n",
       " 'list',\n",
       " 'in',\n",
       " 'place',\n",
       " '',\n",
       " 'and',\n",
       " 'a',\n",
       " 'function',\n",
       " 'for',\n",
       " 'random',\n",
       " 'sampling',\n",
       " 'without',\n",
       " 'replacement',\n",
       " '',\n",
       " '',\n",
       " 'On',\n",
       " 'the',\n",
       " 'real',\n",
       " 'line',\n",
       " '',\n",
       " 'there',\n",
       " 'are',\n",
       " 'functions',\n",
       " 'to',\n",
       " 'compute',\n",
       " 'uniform',\n",
       " '',\n",
       " 'normal',\n",
       " '',\n",
       " 'Gaussian',\n",
       " '',\n",
       " '',\n",
       " 'lognormal',\n",
       " '',\n",
       " 'negative',\n",
       " 'exponential',\n",
       " '',\n",
       " 'gamma',\n",
       " '',\n",
       " 'and',\n",
       " 'beta',\n",
       " 'distributions',\n",
       " '',\n",
       " 'For',\n",
       " 'generating',\n",
       " 'distributions',\n",
       " 'of',\n",
       " 'angles',\n",
       " '',\n",
       " 'the',\n",
       " 'von',\n",
       " 'Mises',\n",
       " 'distribution',\n",
       " 'is',\n",
       " 'available',\n",
       " '',\n",
       " '',\n",
       " 'Almost',\n",
       " 'all',\n",
       " 'module',\n",
       " 'functions',\n",
       " 'depend',\n",
       " 'on',\n",
       " 'the',\n",
       " 'basic',\n",
       " 'function',\n",
       " 'random',\n",
       " '',\n",
       " '',\n",
       " '',\n",
       " 'which',\n",
       " 'generates',\n",
       " 'a',\n",
       " 'random',\n",
       " 'float',\n",
       " 'uniformly',\n",
       " 'in',\n",
       " 'the',\n",
       " 'semi',\n",
       " 'open',\n",
       " 'range',\n",
       " '',\n",
       " '0',\n",
       " '0',\n",
       " '',\n",
       " '1',\n",
       " '0',\n",
       " '',\n",
       " '',\n",
       " 'Python',\n",
       " 'uses',\n",
       " 'the',\n",
       " 'Mersenne',\n",
       " 'Twister',\n",
       " 'as',\n",
       " 'the',\n",
       " 'core',\n",
       " 'generator',\n",
       " '',\n",
       " 'It',\n",
       " 'produces',\n",
       " '53',\n",
       " 'bit',\n",
       " 'precision',\n",
       " 'floats',\n",
       " 'and',\n",
       " 'has',\n",
       " 'a',\n",
       " 'period',\n",
       " 'of',\n",
       " '2',\n",
       " '',\n",
       " '19937',\n",
       " '1',\n",
       " '',\n",
       " 'The',\n",
       " 'underlying',\n",
       " 'implementation',\n",
       " 'in',\n",
       " 'C',\n",
       " 'is',\n",
       " 'both',\n",
       " 'fast',\n",
       " 'and',\n",
       " 'threadsafe',\n",
       " '',\n",
       " 'The',\n",
       " 'Mersenne',\n",
       " 'Twister',\n",
       " 'is',\n",
       " 'one',\n",
       " 'of',\n",
       " 'the',\n",
       " 'most',\n",
       " 'extensively',\n",
       " 'tested',\n",
       " 'random',\n",
       " 'number',\n",
       " 'generators',\n",
       " 'in',\n",
       " 'existence',\n",
       " '',\n",
       " 'However',\n",
       " '',\n",
       " 'being',\n",
       " 'completely',\n",
       " 'deterministic',\n",
       " '',\n",
       " 'it',\n",
       " 'is',\n",
       " 'not',\n",
       " 'suitable',\n",
       " 'for',\n",
       " 'all',\n",
       " 'purposes',\n",
       " '',\n",
       " 'and',\n",
       " 'is',\n",
       " 'completely',\n",
       " 'unsuitable',\n",
       " 'for',\n",
       " 'cryptographic',\n",
       " 'purposes',\n",
       " '']"
      ]
     },
     "execution_count": 27,
     "metadata": {},
     "output_type": "execute_result"
    }
   ],
   "source": [
    "words"
   ]
  },
  {
   "cell_type": "code",
   "execution_count": 28,
   "id": "c4bcec7d",
   "metadata": {},
   "outputs": [],
   "source": [
    "word_count = Counter(words)"
   ]
  },
  {
   "cell_type": "code",
   "execution_count": 29,
   "id": "5627bfc4",
   "metadata": {},
   "outputs": [
    {
     "data": {
      "text/plain": [
       "Counter({'': 38,\n",
       "         'a': 8,\n",
       "         'random': 7,\n",
       "         'is': 7,\n",
       "         'the': 7,\n",
       "         'of': 5,\n",
       "         'and': 5,\n",
       "         'for': 4,\n",
       "         'in': 4,\n",
       "         'distributions': 3,\n",
       "         'For': 3,\n",
       "         'there': 3,\n",
       "         'uniform': 3,\n",
       "         'function': 3,\n",
       "         '0': 3,\n",
       "         'module': 2,\n",
       "         'number': 2,\n",
       "         'generators': 2,\n",
       "         'selection': 2,\n",
       "         'range': 2,\n",
       "         'to': 2,\n",
       "         'functions': 2,\n",
       "         'all': 2,\n",
       "         '1': 2,\n",
       "         'Mersenne': 2,\n",
       "         'Twister': 2,\n",
       "         'The': 2,\n",
       "         'completely': 2,\n",
       "         'purposes': 2,\n",
       "         'his': 1,\n",
       "         'implements': 1,\n",
       "         'pseudo': 1,\n",
       "         'various': 1,\n",
       "         'integers': 1,\n",
       "         'from': 1,\n",
       "         'sequences': 1,\n",
       "         'element': 1,\n",
       "         'generate': 1,\n",
       "         'permutation': 1,\n",
       "         'list': 1,\n",
       "         'place': 1,\n",
       "         'sampling': 1,\n",
       "         'without': 1,\n",
       "         'replacement': 1,\n",
       "         'On': 1,\n",
       "         'real': 1,\n",
       "         'line': 1,\n",
       "         'are': 1,\n",
       "         'compute': 1,\n",
       "         'normal': 1,\n",
       "         'Gaussian': 1,\n",
       "         'lognormal': 1,\n",
       "         'negative': 1,\n",
       "         'exponential': 1,\n",
       "         'gamma': 1,\n",
       "         'beta': 1,\n",
       "         'generating': 1,\n",
       "         'angles': 1,\n",
       "         'von': 1,\n",
       "         'Mises': 1,\n",
       "         'distribution': 1,\n",
       "         'available': 1,\n",
       "         'Almost': 1,\n",
       "         'depend': 1,\n",
       "         'on': 1,\n",
       "         'basic': 1,\n",
       "         'which': 1,\n",
       "         'generates': 1,\n",
       "         'float': 1,\n",
       "         'uniformly': 1,\n",
       "         'semi': 1,\n",
       "         'open': 1,\n",
       "         'Python': 1,\n",
       "         'uses': 1,\n",
       "         'as': 1,\n",
       "         'core': 1,\n",
       "         'generator': 1,\n",
       "         'It': 1,\n",
       "         'produces': 1,\n",
       "         '53': 1,\n",
       "         'bit': 1,\n",
       "         'precision': 1,\n",
       "         'floats': 1,\n",
       "         'has': 1,\n",
       "         'period': 1,\n",
       "         '2': 1,\n",
       "         '19937': 1,\n",
       "         'underlying': 1,\n",
       "         'implementation': 1,\n",
       "         'C': 1,\n",
       "         'both': 1,\n",
       "         'fast': 1,\n",
       "         'threadsafe': 1,\n",
       "         'one': 1,\n",
       "         'most': 1,\n",
       "         'extensively': 1,\n",
       "         'tested': 1,\n",
       "         'existence': 1,\n",
       "         'However': 1,\n",
       "         'being': 1,\n",
       "         'deterministic': 1,\n",
       "         'it': 1,\n",
       "         'not': 1,\n",
       "         'suitable': 1,\n",
       "         'unsuitable': 1,\n",
       "         'cryptographic': 1})"
      ]
     },
     "execution_count": 29,
     "metadata": {},
     "output_type": "execute_result"
    }
   ],
   "source": [
    "word_count"
   ]
  },
  {
   "cell_type": "code",
   "execution_count": 30,
   "id": "9d896317",
   "metadata": {},
   "outputs": [
    {
     "data": {
      "text/plain": [
       "[('', 38), ('a', 8), ('random', 7), ('is', 7), ('the', 7)]"
      ]
     },
     "execution_count": 30,
     "metadata": {},
     "output_type": "execute_result"
    }
   ],
   "source": [
    "word_count.most_common(5)"
   ]
  },
  {
   "cell_type": "code",
   "execution_count": 34,
   "id": "e463bb41",
   "metadata": {},
   "outputs": [
    {
     "data": {
      "text/plain": [
       "Counter({'a': 4, 'x': 3, 'b': 2})"
      ]
     },
     "execution_count": 34,
     "metadata": {},
     "output_type": "execute_result"
    }
   ],
   "source": [
    "c1 = Counter('abbaxxxaa')\n",
    "c1"
   ]
  },
  {
   "cell_type": "code",
   "execution_count": 35,
   "id": "05ccebe5",
   "metadata": {},
   "outputs": [
    {
     "name": "stdout",
     "output_type": "stream",
     "text": [
      "a\n",
      "b\n",
      "x\n"
     ]
    }
   ],
   "source": [
    "for c in c1:\n",
    "    print(c)"
   ]
  },
  {
   "cell_type": "code",
   "execution_count": 36,
   "id": "2bdf64b4",
   "metadata": {},
   "outputs": [
    {
     "name": "stdout",
     "output_type": "stream",
     "text": [
      "a\n",
      "a\n",
      "a\n",
      "a\n",
      "b\n",
      "b\n",
      "x\n",
      "x\n",
      "x\n"
     ]
    }
   ],
   "source": [
    "for c in c1.elements():\n",
    "    print(c)"
   ]
  },
  {
   "cell_type": "code",
   "execution_count": null,
   "id": "e9b5bf57",
   "metadata": {},
   "outputs": [],
   "source": []
  },
  {
   "cell_type": "code",
   "execution_count": 37,
   "id": "4567354e",
   "metadata": {},
   "outputs": [
    {
     "name": "stdout",
     "output_type": "stream",
     "text": [
      "[1, 2, 2, 3, 3, 3, 4, 4, 4, 4, 5, 5, 5, 5, 5, 6, 6, 6, 6, 6, 6, 7, 7, 7, 7, 7, 7, 7, 8, 8, 8, 8, 8, 8, 8, 8, 9, 9, 9, 9, 9, 9, 9, 9, 9, 10, 10, 10, 10, 10, 10, 10, 10, 10, 10]\n"
     ]
    }
   ],
   "source": [
    "l = []\n",
    "for i in range(1, 11):\n",
    "    for _ in range(i):\n",
    "        l.append(i)\n",
    "print(l)"
   ]
  },
  {
   "cell_type": "code",
   "execution_count": 38,
   "id": "06381626",
   "metadata": {},
   "outputs": [],
   "source": [
    "c1 = Counter()\n",
    "for i in range(1, 11):\n",
    "    c1[i] = i"
   ]
  },
  {
   "cell_type": "code",
   "execution_count": 39,
   "id": "ef5738e7",
   "metadata": {},
   "outputs": [
    {
     "data": {
      "text/plain": [
       "Counter({10: 10, 9: 9, 8: 8, 7: 7, 6: 6, 5: 5, 4: 4, 3: 3, 2: 2, 1: 1})"
      ]
     },
     "execution_count": 39,
     "metadata": {},
     "output_type": "execute_result"
    }
   ],
   "source": [
    "c1"
   ]
  },
  {
   "cell_type": "code",
   "execution_count": 41,
   "id": "a994715b",
   "metadata": {},
   "outputs": [
    {
     "name": "stdout",
     "output_type": "stream",
     "text": [
      "[1, 2, 2, 3, 3, 3, 4, 4, 4, 4, 5, 5, 5, 5, 5, 6, 6, 6, 6, 6, 6, 7, 7, 7, 7, 7, 7, 7, 8, 8, 8, 8, 8, 8, 8, 8, 9, 9, 9, 9, 9, 9, 9, 9, 9, 10, 10, 10, 10, 10, 10, 10, 10, 10, 10]\n"
     ]
    }
   ],
   "source": [
    "print(list(c1.elements()))"
   ]
  },
  {
   "cell_type": "code",
   "execution_count": 42,
   "id": "a1ed1b46",
   "metadata": {},
   "outputs": [
    {
     "data": {
      "text/plain": [
       "<itertools.chain at 0x1c1b65e0ee0>"
      ]
     },
     "execution_count": 42,
     "metadata": {},
     "output_type": "execute_result"
    }
   ],
   "source": [
    "c1.elements()"
   ]
  },
  {
   "cell_type": "code",
   "execution_count": 52,
   "id": "6b6f1fde",
   "metadata": {},
   "outputs": [],
   "source": [
    "from itertools import chain\n",
    "\n",
    "class CustomCounter:\n",
    "\n",
    "    def __init__(self, iterable):\n",
    "        self.iterable = iterable\n",
    "\n",
    "    @property\n",
    "    def count(self):\n",
    "        result = dict()\n",
    "        for v in self.iterable:\n",
    "            try:\n",
    "                result[v] += 1\n",
    "            except KeyError:\n",
    "                result[v] = 1\n",
    "        return result\n",
    "\n",
    "    def __repr__(self):\n",
    "        return f\"CustomCounter({self.count})\"\n",
    "\n",
    "    def elements(self):\n",
    "        result_iterable = []\n",
    "        for key, value in self.count.items():\n",
    "            current_key = []\n",
    "            for i in range(value):\n",
    "                current_key.append(key)\n",
    "            result_iterable.append(current_key)\n",
    "        return chain.from_iterable(result_iterable)\n",
    "\n"
   ]
  },
  {
   "cell_type": "code",
   "execution_count": 57,
   "id": "919d4e91",
   "metadata": {},
   "outputs": [],
   "source": [
    "d = CustomCounter([1,1,2,2,2,2,3,3,3,3,5,5,5,5])"
   ]
  },
  {
   "cell_type": "code",
   "execution_count": 58,
   "id": "72aff1e4",
   "metadata": {},
   "outputs": [
    {
     "data": {
      "text/plain": [
       "CustomCounter({1: 2, 2: 4, 3: 4, 5: 4})"
      ]
     },
     "execution_count": 58,
     "metadata": {},
     "output_type": "execute_result"
    }
   ],
   "source": [
    "d"
   ]
  },
  {
   "cell_type": "code",
   "execution_count": 59,
   "id": "06025713",
   "metadata": {},
   "outputs": [
    {
     "data": {
      "text/plain": [
       "<itertools.chain at 0x1c1b6ce4a30>"
      ]
     },
     "execution_count": 59,
     "metadata": {},
     "output_type": "execute_result"
    }
   ],
   "source": [
    "d.elements()"
   ]
  },
  {
   "cell_type": "code",
   "execution_count": 60,
   "id": "c019ea88",
   "metadata": {},
   "outputs": [
    {
     "name": "stdout",
     "output_type": "stream",
     "text": [
      "[1, 1, 2, 2, 2, 2, 3, 3, 3, 3, 5, 5, 5, 5]\n"
     ]
    }
   ],
   "source": [
    "print(list(d.elements()))"
   ]
  },
  {
   "cell_type": "code",
   "execution_count": 62,
   "id": "8a8c6805",
   "metadata": {},
   "outputs": [],
   "source": [
    "class RepeateIterable:\n",
    "    def __init__(self, **kwargs):\n",
    "        self.d = kwargs\n",
    "    \n",
    "    def __setitem__(self, key, value):\n",
    "        self.d[key] = value\n",
    "\n",
    "    def __getitem__(self, key):\n",
    "        self.d[key] = self.d.get(key, 0)\n",
    "        return self.d[key]\n",
    "\n",
    "    "
   ]
  },
  {
   "cell_type": "code",
   "execution_count": 64,
   "id": "fde7852a",
   "metadata": {},
   "outputs": [],
   "source": [
    "r = RepeateIterable(x=10, y=20)"
   ]
  },
  {
   "cell_type": "code",
   "execution_count": 65,
   "id": "93dc31b1",
   "metadata": {},
   "outputs": [
    {
     "data": {
      "text/plain": [
       "{'x': 10, 'y': 20}"
      ]
     },
     "execution_count": 65,
     "metadata": {},
     "output_type": "execute_result"
    }
   ],
   "source": [
    "r.d"
   ]
  },
  {
   "cell_type": "code",
   "execution_count": 66,
   "id": "8eeba9a2",
   "metadata": {},
   "outputs": [
    {
     "data": {
      "text/plain": [
       "0"
      ]
     },
     "execution_count": 66,
     "metadata": {},
     "output_type": "execute_result"
    }
   ],
   "source": [
    "r['a']"
   ]
  },
  {
   "cell_type": "code",
   "execution_count": 67,
   "id": "cd121e0e",
   "metadata": {},
   "outputs": [
    {
     "data": {
      "text/plain": [
       "{'x': 10, 'y': 20, 'a': 0}"
      ]
     },
     "execution_count": 67,
     "metadata": {},
     "output_type": "execute_result"
    }
   ],
   "source": [
    "r.d"
   ]
  },
  {
   "cell_type": "code",
   "execution_count": 68,
   "id": "a305b8b5",
   "metadata": {},
   "outputs": [
    {
     "data": {
      "text/plain": [
       "10"
      ]
     },
     "execution_count": 68,
     "metadata": {},
     "output_type": "execute_result"
    }
   ],
   "source": [
    "r['x']"
   ]
  },
  {
   "cell_type": "code",
   "execution_count": 69,
   "id": "ace84a41",
   "metadata": {},
   "outputs": [],
   "source": [
    "r['y'] = 100"
   ]
  },
  {
   "cell_type": "code",
   "execution_count": 70,
   "id": "9f09e8a3",
   "metadata": {},
   "outputs": [
    {
     "data": {
      "text/plain": [
       "{'x': 10, 'y': 100, 'a': 0}"
      ]
     },
     "execution_count": 70,
     "metadata": {},
     "output_type": "execute_result"
    }
   ],
   "source": [
    "r.d"
   ]
  },
  {
   "cell_type": "code",
   "execution_count": 71,
   "id": "09e46d12",
   "metadata": {},
   "outputs": [],
   "source": [
    "class RepeateIterable:\n",
    "    def __init__(self, **kwargs):\n",
    "        self.d = kwargs\n",
    "    \n",
    "    def __setitem__(self, key, value):\n",
    "        self.d[key] = value\n",
    "\n",
    "    def __getitem__(self, key):\n",
    "        self.d[key] = self.d.get(key, 0)\n",
    "        return self.d[key]\n",
    "    \n",
    "    def elements(self):\n",
    "        for k, frequency in self.d.items():\n",
    "            for _ in range(frequency):\n",
    "                yield k"
   ]
  },
  {
   "cell_type": "code",
   "execution_count": 72,
   "id": "6ee98b36",
   "metadata": {},
   "outputs": [],
   "source": [
    "r = RepeateIterable(a=2, b=3, c=1)"
   ]
  },
  {
   "cell_type": "code",
   "execution_count": 73,
   "id": "536930fd",
   "metadata": {},
   "outputs": [
    {
     "name": "stdout",
     "output_type": "stream",
     "text": [
      "a\n",
      "a\n",
      "b\n",
      "b\n",
      "b\n",
      "c\n"
     ]
    }
   ],
   "source": [
    "for e in r.elements():\n",
    "    print(e)"
   ]
  },
  {
   "cell_type": "code",
   "execution_count": 74,
   "id": "66ab5b61",
   "metadata": {},
   "outputs": [],
   "source": [
    "c1 = Counter(a=1, b=2, c=3)\n",
    "c2 = Counter(b=1, c=2, d=3)"
   ]
  },
  {
   "cell_type": "code",
   "execution_count": 75,
   "id": "6ee0c090",
   "metadata": {},
   "outputs": [
    {
     "name": "stdout",
     "output_type": "stream",
     "text": [
      "Counter({'c': 5, 'b': 3, 'd': 3, 'a': 1})\n"
     ]
    }
   ],
   "source": [
    "c1.update(c2)\n",
    "print(c1)"
   ]
  },
  {
   "cell_type": "code",
   "execution_count": 76,
   "id": "ab05ccaa",
   "metadata": {},
   "outputs": [],
   "source": [
    "c1 = Counter(a=1, b=2, c=3)\n",
    "c2 = Counter(a=1, b=2, c=3)"
   ]
  },
  {
   "cell_type": "code",
   "execution_count": 77,
   "id": "95470308",
   "metadata": {},
   "outputs": [],
   "source": [
    "c1.subtract(c2)"
   ]
  },
  {
   "cell_type": "code",
   "execution_count": 78,
   "id": "a4eafd95",
   "metadata": {},
   "outputs": [
    {
     "name": "stdout",
     "output_type": "stream",
     "text": [
      "Counter({'a': 0, 'b': 0, 'c': 0})\n"
     ]
    }
   ],
   "source": [
    "print(c1)"
   ]
  },
  {
   "cell_type": "code",
   "execution_count": 79,
   "id": "9601189d",
   "metadata": {},
   "outputs": [],
   "source": [
    "c1.subtract(c2)"
   ]
  },
  {
   "cell_type": "code",
   "execution_count": 80,
   "id": "b743d7ba",
   "metadata": {},
   "outputs": [
    {
     "name": "stdout",
     "output_type": "stream",
     "text": [
      "Counter({'a': -1, 'b': -2, 'c': -3})\n"
     ]
    }
   ],
   "source": [
    "print(c1)"
   ]
  },
  {
   "cell_type": "code",
   "execution_count": 81,
   "id": "42f6fcc5",
   "metadata": {},
   "outputs": [],
   "source": [
    "c1 = Counter('aabbccddee')"
   ]
  },
  {
   "cell_type": "code",
   "execution_count": 82,
   "id": "ef20ecd5",
   "metadata": {},
   "outputs": [
    {
     "name": "stdout",
     "output_type": "stream",
     "text": [
      "Counter({'a': 2, 'b': 2, 'c': 2, 'd': 2, 'e': 2})\n",
      "Counter({'a': 3, 'b': 3, 'c': 3, 'd': 3, 'e': 3, 'f': 1})\n"
     ]
    }
   ],
   "source": [
    "print(c1)\n",
    "c1.update('abcdef')\n",
    "print(c1)"
   ]
  },
  {
   "cell_type": "code",
   "execution_count": 83,
   "id": "e6250519",
   "metadata": {},
   "outputs": [
    {
     "data": {
      "text/plain": [
       "Counter({'a': 3, 'b': 3, 'c': 3})"
      ]
     },
     "execution_count": 83,
     "metadata": {},
     "output_type": "execute_result"
    }
   ],
   "source": [
    "c1 = Counter('aabbcc')\n",
    "c2 = Counter('abc')\n",
    "c1 + c2"
   ]
  },
  {
   "cell_type": "code",
   "execution_count": 84,
   "id": "bea86a53",
   "metadata": {},
   "outputs": [
    {
     "data": {
      "text/plain": [
       "Counter({'a': 1, 'b': 1, 'c': 1})"
      ]
     },
     "execution_count": 84,
     "metadata": {},
     "output_type": "execute_result"
    }
   ],
   "source": [
    "c1 - c2"
   ]
  },
  {
   "cell_type": "code",
   "execution_count": 85,
   "id": "ccdfa607",
   "metadata": {},
   "outputs": [],
   "source": [
    "c1 = Counter(a=5, b=1)\n",
    "c2 = Counter(a=1, b=10)"
   ]
  },
  {
   "cell_type": "code",
   "execution_count": 86,
   "id": "51c77421",
   "metadata": {},
   "outputs": [
    {
     "data": {
      "text/plain": [
       "Counter({'a': 1, 'b': 1})"
      ]
     },
     "execution_count": 86,
     "metadata": {},
     "output_type": "execute_result"
    }
   ],
   "source": [
    "c1 & c2"
   ]
  },
  {
   "cell_type": "code",
   "execution_count": 87,
   "id": "ebfc2380",
   "metadata": {},
   "outputs": [
    {
     "data": {
      "text/plain": [
       "Counter({'b': 10, 'a': 5})"
      ]
     },
     "execution_count": 87,
     "metadata": {},
     "output_type": "execute_result"
    }
   ],
   "source": [
    "c1 | c2"
   ]
  },
  {
   "cell_type": "code",
   "execution_count": 92,
   "id": "436864df",
   "metadata": {},
   "outputs": [],
   "source": [
    "c1 = Counter(a=10, b=-10, c=0)"
   ]
  },
  {
   "cell_type": "code",
   "execution_count": 93,
   "id": "c0a1be77",
   "metadata": {},
   "outputs": [
    {
     "data": {
      "text/plain": [
       "Counter({'a': 10, 'c': 0, 'b': -10})"
      ]
     },
     "execution_count": 93,
     "metadata": {},
     "output_type": "execute_result"
    }
   ],
   "source": [
    "c1"
   ]
  },
  {
   "cell_type": "code",
   "execution_count": 94,
   "id": "24957b3b",
   "metadata": {},
   "outputs": [
    {
     "data": {
      "text/plain": [
       "Counter({'a': 10})"
      ]
     },
     "execution_count": 94,
     "metadata": {},
     "output_type": "execute_result"
    }
   ],
   "source": [
    "+c1"
   ]
  },
  {
   "cell_type": "code",
   "execution_count": 95,
   "id": "576b5d94",
   "metadata": {},
   "outputs": [
    {
     "data": {
      "text/plain": [
       "Counter({'b': 10})"
      ]
     },
     "execution_count": 95,
     "metadata": {},
     "output_type": "execute_result"
    }
   ],
   "source": [
    "-c1"
   ]
  },
  {
   "cell_type": "code",
   "execution_count": 96,
   "id": "5fd27306",
   "metadata": {},
   "outputs": [],
   "source": [
    "import random\n",
    "random.seed(0)\n",
    "\n",
    "widgets = ['battery', 'charger', 'cable', 'case', 'keyboard', 'mouse']\n",
    "\n",
    "orders = [(random.choice(widgets), random.randint(1,5))for _ in range(100)]\n",
    "refunds = [(random.choice(widgets), random.randint(1,5))for _ in range(20)]"
   ]
  },
  {
   "cell_type": "code",
   "execution_count": 97,
   "id": "f0595655",
   "metadata": {},
   "outputs": [
    {
     "data": {
      "text/plain": [
       "[('case', 4),\n",
       " ('battery', 3),\n",
       " ('keyboard', 4),\n",
       " ('case', 3),\n",
       " ('case', 3),\n",
       " ('keyboard', 2),\n",
       " ('keyboard', 2),\n",
       " ('cable', 2),\n",
       " ('battery', 5),\n",
       " ('cable', 5),\n",
       " ('mouse', 5),\n",
       " ('charger', 3),\n",
       " ('battery', 1),\n",
       " ('mouse', 3),\n",
       " ('case', 5),\n",
       " ('battery', 3),\n",
       " ('case', 3),\n",
       " ('keyboard', 2),\n",
       " ('keyboard', 4),\n",
       " ('case', 5),\n",
       " ('cable', 1),\n",
       " ('keyboard', 1),\n",
       " ('battery', 4),\n",
       " ('mouse', 1),\n",
       " ('keyboard', 4),\n",
       " ('cable', 2),\n",
       " ('mouse', 3),\n",
       " ('mouse', 1),\n",
       " ('charger', 5),\n",
       " ('charger', 2),\n",
       " ('charger', 5),\n",
       " ('case', 1),\n",
       " ('battery', 3),\n",
       " ('keyboard', 4),\n",
       " ('battery', 3),\n",
       " ('keyboard', 3),\n",
       " ('mouse', 1),\n",
       " ('keyboard', 3),\n",
       " ('keyboard', 2),\n",
       " ('keyboard', 5),\n",
       " ('keyboard', 3),\n",
       " ('case', 1),\n",
       " ('keyboard', 4),\n",
       " ('cable', 5),\n",
       " ('charger', 3),\n",
       " ('charger', 2),\n",
       " ('charger', 1),\n",
       " ('keyboard', 3),\n",
       " ('case', 1),\n",
       " ('battery', 2),\n",
       " ('charger', 1),\n",
       " ('battery', 5),\n",
       " ('mouse', 4),\n",
       " ('mouse', 5),\n",
       " ('cable', 5),\n",
       " ('charger', 2),\n",
       " ('mouse', 5),\n",
       " ('case', 5),\n",
       " ('cable', 4),\n",
       " ('case', 3),\n",
       " ('battery', 3),\n",
       " ('keyboard', 1),\n",
       " ('case', 5),\n",
       " ('mouse', 3),\n",
       " ('charger', 2),\n",
       " ('battery', 3),\n",
       " ('battery', 2),\n",
       " ('cable', 2),\n",
       " ('cable', 4),\n",
       " ('battery', 1),\n",
       " ('charger', 2),\n",
       " ('battery', 5),\n",
       " ('mouse', 5),\n",
       " ('keyboard', 1),\n",
       " ('battery', 1),\n",
       " ('mouse', 2),\n",
       " ('keyboard', 5),\n",
       " ('battery', 4),\n",
       " ('battery', 3),\n",
       " ('battery', 1),\n",
       " ('keyboard', 1),\n",
       " ('charger', 2),\n",
       " ('mouse', 1),\n",
       " ('case', 2),\n",
       " ('mouse', 1),\n",
       " ('mouse', 1),\n",
       " ('keyboard', 4),\n",
       " ('keyboard', 1),\n",
       " ('cable', 1),\n",
       " ('charger', 1),\n",
       " ('mouse', 3),\n",
       " ('cable', 4),\n",
       " ('charger', 1),\n",
       " ('keyboard', 4),\n",
       " ('battery', 5),\n",
       " ('battery', 4),\n",
       " ('charger', 3),\n",
       " ('cable', 4),\n",
       " ('keyboard', 2),\n",
       " ('mouse', 2)]"
      ]
     },
     "execution_count": 97,
     "metadata": {},
     "output_type": "execute_result"
    }
   ],
   "source": [
    "orders"
   ]
  },
  {
   "cell_type": "code",
   "execution_count": 98,
   "id": "360b9cab",
   "metadata": {},
   "outputs": [
    {
     "data": {
      "text/plain": [
       "[('battery', 2),\n",
       " ('charger', 3),\n",
       " ('keyboard', 3),\n",
       " ('battery', 5),\n",
       " ('case', 2),\n",
       " ('battery', 4),\n",
       " ('mouse', 4),\n",
       " ('keyboard', 5),\n",
       " ('cable', 3),\n",
       " ('case', 3),\n",
       " ('charger', 5),\n",
       " ('mouse', 1),\n",
       " ('case', 1),\n",
       " ('cable', 1),\n",
       " ('keyboard', 3),\n",
       " ('charger', 2),\n",
       " ('case', 3),\n",
       " ('keyboard', 3),\n",
       " ('mouse', 3),\n",
       " ('keyboard', 5)]"
      ]
     },
     "execution_count": 98,
     "metadata": {},
     "output_type": "execute_result"
    }
   ],
   "source": [
    "refunds"
   ]
  },
  {
   "cell_type": "code",
   "execution_count": 99,
   "id": "040b7f80",
   "metadata": {},
   "outputs": [],
   "source": [
    "sold_counter = Counter()\n",
    "refund_counter = Counter()\n",
    "\n",
    "for order in orders:\n",
    "    sold_counter[order[0]] += order[1]\n",
    "\n",
    "for refund in refunds:\n",
    "    refund_counter[refund[0]] += refund[1]"
   ]
  },
  {
   "cell_type": "code",
   "execution_count": 100,
   "id": "fbc4d2d3",
   "metadata": {},
   "outputs": [
    {
     "data": {
      "text/plain": [
       "Counter({'keyboard': 65,\n",
       "         'battery': 61,\n",
       "         'mouse': 46,\n",
       "         'case': 41,\n",
       "         'cable': 39,\n",
       "         'charger': 35})"
      ]
     },
     "execution_count": 100,
     "metadata": {},
     "output_type": "execute_result"
    }
   ],
   "source": [
    "sold_counter"
   ]
  },
  {
   "cell_type": "code",
   "execution_count": 101,
   "id": "1ac6f7cb",
   "metadata": {},
   "outputs": [
    {
     "data": {
      "text/plain": [
       "Counter({'keyboard': 19,\n",
       "         'battery': 11,\n",
       "         'charger': 10,\n",
       "         'case': 9,\n",
       "         'mouse': 8,\n",
       "         'cable': 4})"
      ]
     },
     "execution_count": 101,
     "metadata": {},
     "output_type": "execute_result"
    }
   ],
   "source": [
    "refund_counter"
   ]
  },
  {
   "cell_type": "code",
   "execution_count": 102,
   "id": "9e2d82e2",
   "metadata": {},
   "outputs": [],
   "source": [
    "net_counter = sold_counter - refund_counter"
   ]
  },
  {
   "cell_type": "code",
   "execution_count": 103,
   "id": "41889369",
   "metadata": {},
   "outputs": [
    {
     "data": {
      "text/plain": [
       "Counter({'battery': 50,\n",
       "         'keyboard': 46,\n",
       "         'mouse': 38,\n",
       "         'cable': 35,\n",
       "         'case': 32,\n",
       "         'charger': 25})"
      ]
     },
     "execution_count": 103,
     "metadata": {},
     "output_type": "execute_result"
    }
   ],
   "source": [
    "net_counter"
   ]
  },
  {
   "cell_type": "code",
   "execution_count": 104,
   "id": "c2e6f854",
   "metadata": {},
   "outputs": [
    {
     "data": {
      "text/plain": [
       "[('battery', 50), ('keyboard', 46), ('mouse', 38)]"
      ]
     },
     "execution_count": 104,
     "metadata": {},
     "output_type": "execute_result"
    }
   ],
   "source": [
    "net_counter.most_common(3)"
   ]
  },
  {
   "cell_type": "code",
   "execution_count": 105,
   "id": "c9035bf0",
   "metadata": {},
   "outputs": [
    {
     "data": {
      "text/plain": [
       "('case', 4)"
      ]
     },
     "execution_count": 105,
     "metadata": {},
     "output_type": "execute_result"
    }
   ],
   "source": [
    "orders[0]"
   ]
  },
  {
   "cell_type": "code",
   "execution_count": 106,
   "id": "468b5876",
   "metadata": {},
   "outputs": [
    {
     "data": {
      "text/plain": [
       "Counter({'case': 4, 'battery': 3})"
      ]
     },
     "execution_count": 106,
     "metadata": {},
     "output_type": "execute_result"
    }
   ],
   "source": [
    "Counter(['case', 'case', 'case', 'case', 'battery', 'battery', 'battery'])"
   ]
  },
  {
   "cell_type": "code",
   "execution_count": 112,
   "id": "7785a4ff",
   "metadata": {},
   "outputs": [],
   "source": [
    "from itertools import repeat, chain"
   ]
  },
  {
   "cell_type": "code",
   "execution_count": 113,
   "id": "ec7471b4",
   "metadata": {},
   "outputs": [
    {
     "data": {
      "text/plain": [
       "['battery', 'battery', 'battery']"
      ]
     },
     "execution_count": 113,
     "metadata": {},
     "output_type": "execute_result"
    }
   ],
   "source": [
    "list(repeat('battery', 3))"
   ]
  },
  {
   "cell_type": "code",
   "execution_count": 114,
   "id": "2bd16ab4",
   "metadata": {},
   "outputs": [
    {
     "data": {
      "text/plain": [
       "['case', 'case', 'case', 'case']"
      ]
     },
     "execution_count": 114,
     "metadata": {},
     "output_type": "execute_result"
    }
   ],
   "source": [
    "list(repeat(*orders[0]))"
   ]
  },
  {
   "cell_type": "code",
   "execution_count": 115,
   "id": "60da4ef5",
   "metadata": {},
   "outputs": [],
   "source": [
    "#repeat(*orders[0]) + repeat(*orders[1]) + ..."
   ]
  },
  {
   "cell_type": "code",
   "execution_count": 118,
   "id": "e3af828d",
   "metadata": {},
   "outputs": [],
   "source": [
    "sold_counter = Counter(list(chain.from_iterable(repeat(*order) for order in orders)))"
   ]
  },
  {
   "cell_type": "code",
   "execution_count": 119,
   "id": "927c4c8d",
   "metadata": {},
   "outputs": [],
   "source": [
    "refund_counter = Counter(list(chain.from_iterable(repeat(*refund) for refund in refunds)))"
   ]
  },
  {
   "cell_type": "code",
   "execution_count": 120,
   "id": "094adae1",
   "metadata": {},
   "outputs": [],
   "source": [
    "net_counter = sold_counter - refund_counter"
   ]
  },
  {
   "cell_type": "code",
   "execution_count": 121,
   "id": "e0914100",
   "metadata": {},
   "outputs": [
    {
     "name": "stdout",
     "output_type": "stream",
     "text": [
      "[('battery', 50), ('keyboard', 46), ('mouse', 38)]\n"
     ]
    }
   ],
   "source": [
    "print(net_counter.most_common(3))"
   ]
  },
  {
   "cell_type": "code",
   "execution_count": 125,
   "id": "bf3eeea6",
   "metadata": {},
   "outputs": [
    {
     "data": {
      "text/plain": [
       "Counter({'b': 5})"
      ]
     },
     "execution_count": 125,
     "metadata": {},
     "output_type": "execute_result"
    }
   ],
   "source": [
    "c1 = Counter(a=2, b=10)\n",
    "c2 = Counter(a=10, b=5)\n",
    "c1 - c2"
   ]
  },
  {
   "cell_type": "code",
   "execution_count": 128,
   "id": "70e451e1",
   "metadata": {},
   "outputs": [
    {
     "data": {
      "text/plain": [
       "[('battery', 50), ('keyboard', 46), ('mouse', 38)]"
      ]
     },
     "execution_count": 128,
     "metadata": {},
     "output_type": "execute_result"
    }
   ],
   "source": [
    "net_sales = {}\n",
    "\n",
    "for order in orders:\n",
    "    key = order[0]\n",
    "    cnt = order[1]\n",
    "    net_sales[key] = net_sales.get(key, 0) + cnt\n",
    "\n",
    "for refund in refunds:\n",
    "    key = refund[0]\n",
    "    cnt = refund[1]\n",
    "    net_sales[key] = net_sales.get(key, 0) - cnt\n",
    "\n",
    "net_sales = {k:v for k,v in net_sales.items() if v > 0}\n",
    "\n",
    "sorted_net_sales = sorted(net_sales.items(), key=lambda t: t[1], reverse=True)\n",
    "\n",
    "sorted_net_sales[:3]\n",
    "\n",
    "\n"
   ]
  },
  {
   "cell_type": "code",
   "execution_count": 129,
   "id": "b1c6e6d5",
   "metadata": {},
   "outputs": [
    {
     "data": {
      "text/plain": [
       "True"
      ]
     },
     "execution_count": 129,
     "metadata": {},
     "output_type": "execute_result"
    }
   ],
   "source": [
    "isinstance(c1, dict)"
   ]
  },
  {
   "cell_type": "code",
   "execution_count": null,
   "id": "ac0dfcce",
   "metadata": {},
   "outputs": [],
   "source": []
  }
 ],
 "metadata": {
  "kernelspec": {
   "display_name": "Python 3",
   "language": "python",
   "name": "python3"
  },
  "language_info": {
   "codemirror_mode": {
    "name": "ipython",
    "version": 3
   },
   "file_extension": ".py",
   "mimetype": "text/x-python",
   "name": "python",
   "nbconvert_exporter": "python",
   "pygments_lexer": "ipython3",
   "version": "3.13.2"
  }
 },
 "nbformat": 4,
 "nbformat_minor": 5
}
