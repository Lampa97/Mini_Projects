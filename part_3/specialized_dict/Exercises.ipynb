{
 "cells": [
  {
   "cell_type": "markdown",
   "metadata": {},
   "source": [
    "### Exercises"
   ]
  },
  {
   "cell_type": "markdown",
   "metadata": {},
   "source": [
    "#### Exercise #1"
   ]
  },
  {
   "cell_type": "markdown",
   "metadata": {},
   "source": [
    "Let's revisit an exercise we did right after the section on dictionaries.\n",
    "\n",
    "You have text data spread across multiple servers. Each server is able to analyze this data and return a dictionary that contains words and their frequency.\n",
    "\n",
    "Your job is to combine this data to create a single dictionary that contains all the words and their combined frequencies from all these data sources. Bonus points if you can make your dictionary sorted by frequency (highest to lowest).\n",
    "\n",
    "For example, you may have three servers that each return these dictionaries:"
   ]
  },
  {
   "cell_type": "code",
   "execution_count": 2,
   "metadata": {},
   "outputs": [],
   "source": [
    "d1 = {'python': 10, 'java': 3, 'c#': 8, 'javascript': 15}\n",
    "d2 = {'java': 10, 'c++': 10, 'c#': 4, 'go': 9, 'python': 6}\n",
    "d3 = {'erlang': 5, 'haskell': 2, 'python': 1, 'pascal': 1}"
   ]
  },
  {
   "cell_type": "markdown",
   "metadata": {},
   "source": [
    "Your resulting dictionary should look like this:"
   ]
  },
  {
   "cell_type": "code",
   "execution_count": 2,
   "metadata": {},
   "outputs": [],
   "source": [
    "d = {'python': 17,\n",
    "     'javascript': 15,\n",
    "     'java': 13,\n",
    "     'c#': 12,\n",
    "     'c++': 10,\n",
    "     'go': 9,\n",
    "     'erlang': 5,\n",
    "     'haskell': 2,\n",
    "     'pascal': 1}"
   ]
  },
  {
   "cell_type": "markdown",
   "metadata": {},
   "source": [
    "If only servers 1 and 2 return data (so d1 and d2), your results would look like:"
   ]
  },
  {
   "cell_type": "code",
   "execution_count": 3,
   "metadata": {},
   "outputs": [],
   "source": [
    "d = {'python': 16,\n",
    "     'javascript': 15,\n",
    "     'java': 13,\n",
    "     'c#': 12,\n",
    "     'c++': 10, \n",
    "     'go': 9}"
   ]
  },
  {
   "cell_type": "markdown",
   "metadata": {},
   "source": [
    "This was one solution to the problem:"
   ]
  },
  {
   "cell_type": "code",
   "execution_count": 4,
   "metadata": {},
   "outputs": [],
   "source": [
    "def merge(*dicts):\n",
    "    unsorted = {}\n",
    "    for d in dicts:\n",
    "        for k, v in d.items():\n",
    "            unsorted[k] = unsorted.get(k, 0) + v\n",
    "            \n",
    "    # create a dictionary sorted by value\n",
    "    return dict(sorted(unsorted.items(), key=lambda e: e[1], reverse=True))"
   ]
  },
  {
   "cell_type": "markdown",
   "metadata": {},
   "source": [
    "Implement two different solutions to this problem:\n",
    "\n",
    "**a**: Using `defaultdict` objects\n",
    "\n",
    "**b**: Using `Counter` objects"
   ]
  },
  {
   "cell_type": "markdown",
   "metadata": {},
   "source": [
    "---"
   ]
  },
  {
   "cell_type": "code",
   "execution_count": 11,
   "metadata": {},
   "outputs": [
    {
     "name": "stdout",
     "output_type": "stream",
     "text": [
      "defaultdict(<class 'int'>, {'python': 17, 'java': 13, 'c#': 12, 'javascript': 15, 'c++': 10, 'go': 9, 'erlang': 5, 'haskell': 2, 'pascal': 1})\n",
      "Counter({'python': 17, 'javascript': 15, 'java': 13, 'c#': 12, 'c++': 10, 'go': 9, 'erlang': 5, 'haskell': 2, 'pascal': 1})\n"
     ]
    }
   ],
   "source": [
    "from collections import defaultdict, Counter\n",
    "\n",
    "def merge_default(*dicts):\n",
    "    result = defaultdict(int)\n",
    "    for dict_ in dicts:\n",
    "        for k,v in dict_.items():\n",
    "            result[k] += v\n",
    "    return result\n",
    "\n",
    "def merge_counter(*dicts):\n",
    "    counter = sum((Counter(d) for d in dicts), Counter())\n",
    "    return counter\n",
    "\n",
    "\n",
    "\n",
    "print(merge_default(d1, d2, d3))\n",
    "print(merge_counter(d1, d2, d3))"
   ]
  },
  {
   "cell_type": "markdown",
   "metadata": {},
   "source": [
    "#### Exercise #2"
   ]
  },
  {
   "cell_type": "markdown",
   "metadata": {},
   "source": [
    "Suppose you have a list of all possible eye colors:"
   ]
  },
  {
   "cell_type": "code",
   "execution_count": 14,
   "metadata": {},
   "outputs": [],
   "source": [
    "eye_colors = (\"amber\", \"blue\", \"brown\", \"gray\", \"green\", \"hazel\", \"red\", \"violet\")"
   ]
  },
  {
   "cell_type": "markdown",
   "metadata": {},
   "source": [
    "Some other collection (say recovered from a database, or an external API) contains a list of `Person` objects that have an eye color property.\n",
    "\n",
    "Your goal is to create a dictionary that contains the number of people that have the eye color as specified in `eye_colors`. The wrinkle here is that even if no one matches some eye color, say `amber`, your dictionary should still contain an entry `\"amber\": 0`."
   ]
  },
  {
   "cell_type": "markdown",
   "metadata": {},
   "source": [
    "Here is some sample data:"
   ]
  },
  {
   "cell_type": "code",
   "execution_count": 15,
   "metadata": {},
   "outputs": [],
   "source": [
    "class Person:\n",
    "    def __init__(self, eye_color):\n",
    "        self.eye_color = eye_color"
   ]
  },
  {
   "cell_type": "code",
   "execution_count": 16,
   "metadata": {},
   "outputs": [],
   "source": [
    "from random import seed, choices\n",
    "seed(0)\n",
    "persons = [Person(color) for color in choices(eye_colors[2:], k = 50)]"
   ]
  },
  {
   "cell_type": "markdown",
   "metadata": {},
   "source": [
    "As you can see we built up a list of `Person` objects, none of which should have `amber` or `blue` eye colors"
   ]
  },
  {
   "cell_type": "markdown",
   "metadata": {},
   "source": [
    "Write a function that returns a dictionary with the correct counts for each eye color listed in `eye_colors`."
   ]
  },
  {
   "cell_type": "code",
   "execution_count": 25,
   "metadata": {},
   "outputs": [],
   "source": [
    "def count_eye_colors(persons, eye_colors):\n",
    "    counter = {color: 0 for color in eye_colors}\n",
    "    for person in persons:\n",
    "        counter[person.eye_color] += 1\n",
    "    return counter\n"
   ]
  },
  {
   "cell_type": "code",
   "execution_count": 26,
   "metadata": {},
   "outputs": [
    {
     "data": {
      "text/plain": [
       "{'amber': 0,\n",
       " 'blue': 0,\n",
       " 'brown': 3,\n",
       " 'gray': 10,\n",
       " 'green': 8,\n",
       " 'hazel': 7,\n",
       " 'red': 10,\n",
       " 'violet': 12}"
      ]
     },
     "execution_count": 26,
     "metadata": {},
     "output_type": "execute_result"
    }
   ],
   "source": [
    "count_eye_colors(persons, eye_colors)"
   ]
  },
  {
   "cell_type": "markdown",
   "metadata": {},
   "source": [
    "---"
   ]
  },
  {
   "cell_type": "markdown",
   "metadata": {},
   "source": [
    "#### Exercise #3"
   ]
  },
  {
   "cell_type": "markdown",
   "metadata": {},
   "source": [
    "You are given three JSON files, representing a default set of settings, and environment specific settings.\n",
    "The files are included in the downloads, and are named:\n",
    "* `common.json`\n",
    "* `dev.json`\n",
    "* `prod.json`\n",
    "\n",
    "Your goal is to write a function that has a single argument (the environment name) and returns the \"combined\" dictionary that merges the two dictionaries together, with the environment specific settings overriding any common settings already defined.\n",
    "\n",
    "For simplicity, assume that the argument values are going to be the same as the file names, without the `.json` extension. So for example, `dev` or `prod`.\n",
    "\n",
    "The wrinkle: We don't want to duplicate data for the \"merged\" dictionary - use `ChainMap` to implement this instead."
   ]
  },
  {
   "cell_type": "code",
   "execution_count": 50,
   "metadata": {},
   "outputs": [],
   "source": [
    "import json\n",
    "from collections import ChainMap\n",
    "from pprint import pprint\n",
    "\n",
    "with open('common.json', 'r') as default:\n",
    "    GLOBAL = json.load(default)\n",
    "\n",
    "def get_settings(env):\n",
    "    file_name = env + '.json'\n",
    "    with open(file_name, 'r') as file:\n",
    "        settings = json.load(file)\n",
    "    result = ChainMap(settings, GLOBAL)\n",
    "    return result\n",
    "\n",
    "def chain_recursive(d1, d2):\n",
    "    chain = ChainMap(d1, d2)\n",
    "    for k,v in d1.items():\n",
    "        if isinstance(v, dict) and k in d2:\n",
    "            chain[k] = chain_recursive(d1[k], d2[k])\n",
    "    return chain\n",
    "\n"
   ]
  },
  {
   "cell_type": "code",
   "execution_count": 51,
   "metadata": {},
   "outputs": [
    {
     "name": "stdout",
     "output_type": "stream",
     "text": [
      "ChainMap({'data': {'input_root': '$DATA_INPUT_PATH',\n",
      "                   'output_root': '$DATA_OUTPUT_PATH'},\n",
      "          'database': {'pwd': '$PG_PWD', 'user': '$PG_USER'}},\n",
      "         {'data': {'input_root': '/default/path/inputs',\n",
      "                   'numerics': {'precision': 6, 'type': 'Decimal'},\n",
      "                   'output_root': '/default/path/outputs'},\n",
      "          'database': {'db_name': 'deepdive', 'port': 5432, 'schema': 'public'},\n",
      "          'logs': {'format': '%(asctime)s: %(levelname)s: %(clientip)s '\n",
      "                             '%(user)s %(message)s',\n",
      "                   'level': 'info'}})\n",
      "{'level': 'info', 'format': '%(asctime)s: %(levelname)s: %(clientip)s %(user)s %(message)s'}\n"
     ]
    }
   ],
   "source": [
    "answer =get_settings('prod')\n",
    "\n",
    "pprint(answer)\n",
    "\n",
    "print(answer['logs'])"
   ]
  },
  {
   "cell_type": "code",
   "execution_count": 52,
   "metadata": {},
   "outputs": [],
   "source": [
    "d1 = get_settings('dev')\n",
    "d2 = get_settings('common')"
   ]
  },
  {
   "cell_type": "code",
   "execution_count": 53,
   "metadata": {},
   "outputs": [],
   "source": [
    "dev = chain_recursive(d2, d1)"
   ]
  },
  {
   "cell_type": "code",
   "execution_count": 54,
   "metadata": {},
   "outputs": [
    {
     "name": "stdout",
     "output_type": "stream",
     "text": [
      "ChainMap(ChainMap({'data': ChainMap({'input_root': '/default/path/inputs',\n",
      "                                     'numerics': ChainMap({'precision': 6,\n",
      "                                                           'type': 'Decimal'},\n",
      "                                                          {'type': 'float'}),\n",
      "                                     'output_root': '/default/path/outputs'},\n",
      "                                    {'input_root': '/dev/path/inputs',\n",
      "                                     'numerics': {'type': 'float'},\n",
      "                                     'operators': {'add': '__add__'},\n",
      "                                     'output_root': '/dev/path/outputs'}),\n",
      "                   'database': ChainMap({'db_name': 'deepdive',\n",
      "                                         'port': 5432,\n",
      "                                         'schema': 'public'},\n",
      "                                        {'pwd': 'test', 'user': 'test'}),\n",
      "                   'logs': ChainMap({'format': '%(asctime)s: %(levelname)s: '\n",
      "                                               '%(clientip)s %(user)s '\n",
      "                                               '%(message)s',\n",
      "                                     'level': 'info'},\n",
      "                                    {'format': '%(asctime)s: %(levelname)s: '\n",
      "                                               '%(clientip)s %(user)s '\n",
      "                                               '%(filename)s %(funcName)s '\n",
      "                                               '%(message)s',\n",
      "                                     'level': 'trace'})},\n",
      "                  {'data': {'input_root': '/default/path/inputs',\n",
      "                            'numerics': {'precision': 6, 'type': 'Decimal'},\n",
      "                            'output_root': '/default/path/outputs'},\n",
      "                   'database': {'db_name': 'deepdive',\n",
      "                                'port': 5432,\n",
      "                                'schema': 'public'},\n",
      "                   'logs': {'format': '%(asctime)s: %(levelname)s: '\n",
      "                                      '%(clientip)s %(user)s %(message)s',\n",
      "                            'level': 'info'}}),\n",
      "         ChainMap({'data': {'input_root': '/dev/path/inputs',\n",
      "                            'numerics': {'type': 'float'},\n",
      "                            'operators': {'add': '__add__'},\n",
      "                            'output_root': '/dev/path/outputs'},\n",
      "                   'database': {'pwd': 'test', 'user': 'test'},\n",
      "                   'logs': {'format': '%(asctime)s: %(levelname)s: '\n",
      "                                      '%(clientip)s %(user)s %(filename)s '\n",
      "                                      '%(funcName)s %(message)s',\n",
      "                            'level': 'trace'}},\n",
      "                  {'data': {'input_root': '/default/path/inputs',\n",
      "                            'numerics': {'precision': 6, 'type': 'Decimal'},\n",
      "                            'output_root': '/default/path/outputs'},\n",
      "                   'database': {'db_name': 'deepdive',\n",
      "                                'port': 5432,\n",
      "                                'schema': 'public'},\n",
      "                   'logs': {'format': '%(asctime)s: %(levelname)s: '\n",
      "                                      '%(clientip)s %(user)s %(message)s',\n",
      "                            'level': 'info'}}))\n"
     ]
    }
   ],
   "source": [
    "pprint(dev)"
   ]
  },
  {
   "cell_type": "code",
   "execution_count": 57,
   "metadata": {},
   "outputs": [
    {
     "data": {
      "text/plain": [
       "ChainMap({'db_name': 'deepdive', 'schema': 'public', 'port': 5432}, {'user': 'test', 'pwd': 'test'})"
      ]
     },
     "execution_count": 57,
     "metadata": {},
     "output_type": "execute_result"
    }
   ],
   "source": [
    "dev['database']"
   ]
  },
  {
   "cell_type": "code",
   "execution_count": 58,
   "metadata": {},
   "outputs": [],
   "source": [
    "def get_settings(env):\n",
    "    file_name = env + '.json'\n",
    "    with open(file_name, 'r') as file:\n",
    "        settings = json.load(file)\n",
    "    result = chain_recursive(settings, GLOBAL)\n",
    "    return result"
   ]
  },
  {
   "cell_type": "code",
   "execution_count": 59,
   "metadata": {},
   "outputs": [],
   "source": [
    "prod = get_settings('prod')"
   ]
  },
  {
   "cell_type": "code",
   "execution_count": 60,
   "metadata": {},
   "outputs": [
    {
     "data": {
      "text/plain": [
       "ChainMap({'data': ChainMap({'input_root': '$DATA_INPUT_PATH', 'output_root': '$DATA_OUTPUT_PATH'}, {'input_root': '/default/path/inputs', 'output_root': '/default/path/outputs', 'numerics': {'type': 'Decimal', 'precision': 6}}), 'database': ChainMap({'user': '$PG_USER', 'pwd': '$PG_PWD'}, {'db_name': 'deepdive', 'schema': 'public', 'port': 5432})}, {'data': {'input_root': '/default/path/inputs', 'output_root': '/default/path/outputs', 'numerics': {'type': 'Decimal', 'precision': 6}}, 'database': {'db_name': 'deepdive', 'schema': 'public', 'port': 5432}, 'logs': {'level': 'info', 'format': '%(asctime)s: %(levelname)s: %(clientip)s %(user)s %(message)s'}})"
      ]
     },
     "execution_count": 60,
     "metadata": {},
     "output_type": "execute_result"
    }
   ],
   "source": [
    "prod"
   ]
  },
  {
   "cell_type": "code",
   "execution_count": null,
   "metadata": {},
   "outputs": [],
   "source": []
  }
 ],
 "metadata": {
  "kernelspec": {
   "display_name": "Python 3",
   "language": "python",
   "name": "python3"
  },
  "language_info": {
   "codemirror_mode": {
    "name": "ipython",
    "version": 3
   },
   "file_extension": ".py",
   "mimetype": "text/x-python",
   "name": "python",
   "nbconvert_exporter": "python",
   "pygments_lexer": "ipython3",
   "version": "3.13.2"
  }
 },
 "nbformat": 4,
 "nbformat_minor": 2
}
