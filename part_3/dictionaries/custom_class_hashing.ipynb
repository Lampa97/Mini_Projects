{
 "cells": [
  {
   "cell_type": "code",
   "execution_count": 1,
   "id": "330b64b1",
   "metadata": {},
   "outputs": [],
   "source": [
    "t1 = (1,2,3)"
   ]
  },
  {
   "cell_type": "code",
   "execution_count": 2,
   "id": "2864ae2a",
   "metadata": {},
   "outputs": [],
   "source": [
    "t2 = (1,2,3)"
   ]
  },
  {
   "cell_type": "code",
   "execution_count": 3,
   "id": "4ecb6890",
   "metadata": {},
   "outputs": [
    {
     "data": {
      "text/plain": [
       "(2407812531584, 2407812623680)"
      ]
     },
     "execution_count": 3,
     "metadata": {},
     "output_type": "execute_result"
    }
   ],
   "source": [
    "id(t1), id(t2)"
   ]
  },
  {
   "cell_type": "code",
   "execution_count": 4,
   "id": "84cbe6ea",
   "metadata": {},
   "outputs": [
    {
     "data": {
      "text/plain": [
       "True"
      ]
     },
     "execution_count": 4,
     "metadata": {},
     "output_type": "execute_result"
    }
   ],
   "source": [
    "t1 == t2"
   ]
  },
  {
   "cell_type": "code",
   "execution_count": 5,
   "id": "23312f8e",
   "metadata": {},
   "outputs": [
    {
     "data": {
      "text/plain": [
       "False"
      ]
     },
     "execution_count": 5,
     "metadata": {},
     "output_type": "execute_result"
    }
   ],
   "source": [
    "t1 is t2"
   ]
  },
  {
   "cell_type": "code",
   "execution_count": 6,
   "id": "bc9811d3",
   "metadata": {},
   "outputs": [
    {
     "data": {
      "text/plain": [
       "(529344067295497451, 529344067295497451)"
      ]
     },
     "execution_count": 6,
     "metadata": {},
     "output_type": "execute_result"
    }
   ],
   "source": [
    "hash(t1), hash(t2)"
   ]
  },
  {
   "cell_type": "code",
   "execution_count": 7,
   "id": "75404589",
   "metadata": {},
   "outputs": [],
   "source": [
    "d = {t1: 100}"
   ]
  },
  {
   "cell_type": "code",
   "execution_count": 8,
   "id": "ec422b80",
   "metadata": {},
   "outputs": [
    {
     "data": {
      "text/plain": [
       "100"
      ]
     },
     "execution_count": 8,
     "metadata": {},
     "output_type": "execute_result"
    }
   ],
   "source": [
    "d[t1]"
   ]
  },
  {
   "cell_type": "code",
   "execution_count": 9,
   "id": "95839745",
   "metadata": {},
   "outputs": [
    {
     "data": {
      "text/plain": [
       "100"
      ]
     },
     "execution_count": 9,
     "metadata": {},
     "output_type": "execute_result"
    }
   ],
   "source": [
    "d[t2]"
   ]
  },
  {
   "cell_type": "code",
   "execution_count": 10,
   "id": "977befbd",
   "metadata": {},
   "outputs": [
    {
     "data": {
      "text/plain": [
       "100"
      ]
     },
     "execution_count": 10,
     "metadata": {},
     "output_type": "execute_result"
    }
   ],
   "source": [
    "d[(1,2,3)]"
   ]
  },
  {
   "cell_type": "code",
   "execution_count": null,
   "id": "82761ff9",
   "metadata": {},
   "outputs": [],
   "source": [
    "class Person:\n",
    "    def __init__(self, name, age):\n",
    "        self.name = name\n",
    "        self.age = age\n",
    "\n",
    "    def __repr__(self):\n",
    "        return f\"Person({self.name=}, {self.age=})\"\n"
   ]
  },
  {
   "cell_type": "code",
   "execution_count": 17,
   "id": "4ad20643",
   "metadata": {},
   "outputs": [],
   "source": [
    "p1 = Person('John', 78)\n",
    "p2 = Person('John', 78)"
   ]
  },
  {
   "cell_type": "code",
   "execution_count": 18,
   "id": "021e61e8",
   "metadata": {},
   "outputs": [
    {
     "data": {
      "text/plain": [
       "False"
      ]
     },
     "execution_count": 18,
     "metadata": {},
     "output_type": "execute_result"
    }
   ],
   "source": [
    "p1 is p2"
   ]
  },
  {
   "cell_type": "code",
   "execution_count": 19,
   "id": "55cce070",
   "metadata": {},
   "outputs": [
    {
     "data": {
      "text/plain": [
       "False"
      ]
     },
     "execution_count": 19,
     "metadata": {},
     "output_type": "execute_result"
    }
   ],
   "source": [
    "p1 == p2"
   ]
  },
  {
   "cell_type": "code",
   "execution_count": 20,
   "id": "aa538a44",
   "metadata": {},
   "outputs": [
    {
     "data": {
      "text/plain": [
       "(150488279654, 150488304745)"
      ]
     },
     "execution_count": 20,
     "metadata": {},
     "output_type": "execute_result"
    }
   ],
   "source": [
    "hash(p1), hash(p2)"
   ]
  },
  {
   "cell_type": "code",
   "execution_count": 21,
   "id": "037234d3",
   "metadata": {},
   "outputs": [],
   "source": [
    "p1 = Person('John', 78)\n",
    "p2 = Person('Eric', 75)\n",
    "persons = {p1: 'John object', p2: 'Eric object'}"
   ]
  },
  {
   "cell_type": "code",
   "execution_count": 22,
   "id": "6d277a52",
   "metadata": {},
   "outputs": [
    {
     "name": "stdout",
     "output_type": "stream",
     "text": [
      "Person(self.name='John', self.age=78)\n",
      "Person(self.name='Eric', self.age=75)\n"
     ]
    }
   ],
   "source": [
    "for k in persons.keys():\n",
    "    print(k)"
   ]
  },
  {
   "cell_type": "code",
   "execution_count": 23,
   "id": "5d3c0dcf",
   "metadata": {},
   "outputs": [
    {
     "ename": "KeyError",
     "evalue": "Person(self.name='John', self.age=78)",
     "output_type": "error",
     "traceback": [
      "\u001b[31m---------------------------------------------------------------------------\u001b[39m",
      "\u001b[31mKeyError\u001b[39m                                  Traceback (most recent call last)",
      "\u001b[36mCell\u001b[39m\u001b[36m \u001b[39m\u001b[32mIn[23]\u001b[39m\u001b[32m, line 1\u001b[39m\n\u001b[32m----> \u001b[39m\u001b[32m1\u001b[39m \u001b[43mpersons\u001b[49m\u001b[43m[\u001b[49m\u001b[43mPerson\u001b[49m\u001b[43m(\u001b[49m\u001b[33;43m'\u001b[39;49m\u001b[33;43mJohn\u001b[39;49m\u001b[33;43m'\u001b[39;49m\u001b[43m,\u001b[49m\u001b[43m \u001b[49m\u001b[32;43m78\u001b[39;49m\u001b[43m)\u001b[49m\u001b[43m]\u001b[49m\n",
      "\u001b[31mKeyError\u001b[39m: Person(self.name='John', self.age=78)"
     ]
    }
   ],
   "source": [
    "persons[Person('John', 78)]"
   ]
  },
  {
   "cell_type": "code",
   "execution_count": 24,
   "id": "9f4f4707",
   "metadata": {},
   "outputs": [
    {
     "data": {
      "text/plain": [
       "'John object'"
      ]
     },
     "execution_count": 24,
     "metadata": {},
     "output_type": "execute_result"
    }
   ],
   "source": [
    "persons[p1]"
   ]
  },
  {
   "cell_type": "code",
   "execution_count": 30,
   "id": "a75c89b7",
   "metadata": {},
   "outputs": [],
   "source": [
    "class Person:\n",
    "    def __init__(self, name, age):\n",
    "        self.name = name\n",
    "        self.age = age\n",
    "\n",
    "    def __repr__(self):\n",
    "        return f\"Person({self.name=}, {self.age=})\"    \n",
    "\n",
    "    def __eq__(self, other):\n",
    "        if isinstance(other, Person):\n",
    "            return self.name == other.name and self.age == other.age\n",
    "        return False\n",
    "\n"
   ]
  },
  {
   "cell_type": "code",
   "execution_count": 31,
   "id": "ddaf6044",
   "metadata": {},
   "outputs": [],
   "source": [
    "p1 = Person('John', 78)\n",
    "p2 = Person('John', 78)"
   ]
  },
  {
   "cell_type": "code",
   "execution_count": 32,
   "id": "f4113888",
   "metadata": {},
   "outputs": [
    {
     "data": {
      "text/plain": [
       "False"
      ]
     },
     "execution_count": 32,
     "metadata": {},
     "output_type": "execute_result"
    }
   ],
   "source": [
    "p1 is p2"
   ]
  },
  {
   "cell_type": "code",
   "execution_count": 33,
   "id": "81fceec2",
   "metadata": {},
   "outputs": [
    {
     "data": {
      "text/plain": [
       "True"
      ]
     },
     "execution_count": 33,
     "metadata": {},
     "output_type": "execute_result"
    }
   ],
   "source": [
    "p1 == p2"
   ]
  },
  {
   "cell_type": "code",
   "execution_count": 34,
   "id": "bf0c25ee",
   "metadata": {},
   "outputs": [
    {
     "ename": "TypeError",
     "evalue": "unhashable type: 'Person'",
     "output_type": "error",
     "traceback": [
      "\u001b[31m---------------------------------------------------------------------------\u001b[39m",
      "\u001b[31mTypeError\u001b[39m                                 Traceback (most recent call last)",
      "\u001b[36mCell\u001b[39m\u001b[36m \u001b[39m\u001b[32mIn[34]\u001b[39m\u001b[32m, line 1\u001b[39m\n\u001b[32m----> \u001b[39m\u001b[32m1\u001b[39m persons = {p1: \u001b[33m'\u001b[39m\u001b[33mJohn1\u001b[39m\u001b[33m'\u001b[39m}\n",
      "\u001b[31mTypeError\u001b[39m: unhashable type: 'Person'"
     ]
    }
   ],
   "source": [
    "persons = {p1: 'John1'}"
   ]
  },
  {
   "cell_type": "code",
   "execution_count": 41,
   "id": "9a71675c",
   "metadata": {},
   "outputs": [],
   "source": [
    "class Person:\n",
    "    def __init__(self, name, age):\n",
    "        self.name = name\n",
    "        self.age = age\n",
    "\n",
    "    def __repr__(self):\n",
    "        return f\"Person({self.name=}, {self.age=})\"    \n",
    "\n",
    "    def __eq__(self, other):\n",
    "        if isinstance(other, Person):\n",
    "            return self.name == other.name and self.age == other.age\n",
    "        return False\n",
    "    \n",
    "    def __hash__(self):\n",
    "        return hash((self.name, self.age))"
   ]
  },
  {
   "cell_type": "code",
   "execution_count": 42,
   "id": "3916328a",
   "metadata": {},
   "outputs": [],
   "source": [
    "p1 = Person('John', 78)"
   ]
  },
  {
   "cell_type": "code",
   "execution_count": 43,
   "id": "1e6178de",
   "metadata": {},
   "outputs": [
    {
     "data": {
      "text/plain": [
       "7635942771012984449"
      ]
     },
     "execution_count": 43,
     "metadata": {},
     "output_type": "execute_result"
    }
   ],
   "source": [
    "hash(p1)"
   ]
  },
  {
   "cell_type": "code",
   "execution_count": 45,
   "id": "77dd7c78",
   "metadata": {},
   "outputs": [],
   "source": [
    "p1 = Person('John', 78)\n",
    "p2 = Person('Eric', 75)\n",
    "persons = {p1: 'John object', p2: 'Eric object'}"
   ]
  },
  {
   "cell_type": "code",
   "execution_count": 46,
   "id": "1d681a8b",
   "metadata": {},
   "outputs": [
    {
     "data": {
      "text/plain": [
       "'John object'"
      ]
     },
     "execution_count": 46,
     "metadata": {},
     "output_type": "execute_result"
    }
   ],
   "source": [
    "persons[p1]"
   ]
  },
  {
   "cell_type": "code",
   "execution_count": 47,
   "id": "3b0ceda3",
   "metadata": {},
   "outputs": [
    {
     "data": {
      "text/plain": [
       "'John object'"
      ]
     },
     "execution_count": 47,
     "metadata": {},
     "output_type": "execute_result"
    }
   ],
   "source": [
    "persons[Person('John', 78)]"
   ]
  },
  {
   "cell_type": "code",
   "execution_count": 48,
   "id": "aa19f664",
   "metadata": {},
   "outputs": [],
   "source": [
    "p2 = Person('John', 78)"
   ]
  },
  {
   "cell_type": "code",
   "execution_count": 49,
   "id": "172c9a42",
   "metadata": {},
   "outputs": [
    {
     "data": {
      "text/plain": [
       "False"
      ]
     },
     "execution_count": 49,
     "metadata": {},
     "output_type": "execute_result"
    }
   ],
   "source": [
    "p1 is p2"
   ]
  },
  {
   "cell_type": "code",
   "execution_count": 50,
   "id": "eccb97a0",
   "metadata": {},
   "outputs": [
    {
     "data": {
      "text/plain": [
       "True"
      ]
     },
     "execution_count": 50,
     "metadata": {},
     "output_type": "execute_result"
    }
   ],
   "source": [
    "p1 == p2"
   ]
  },
  {
   "cell_type": "code",
   "execution_count": 51,
   "id": "dee1aded",
   "metadata": {},
   "outputs": [
    {
     "data": {
      "text/plain": [
       "True"
      ]
     },
     "execution_count": 51,
     "metadata": {},
     "output_type": "execute_result"
    }
   ],
   "source": [
    "hash(p1) == hash(p2)"
   ]
  },
  {
   "cell_type": "code",
   "execution_count": 52,
   "id": "53cc1918",
   "metadata": {},
   "outputs": [
    {
     "data": {
      "text/plain": [
       "True"
      ]
     },
     "execution_count": 52,
     "metadata": {},
     "output_type": "execute_result"
    }
   ],
   "source": [
    "persons[p2] is persons[p1]"
   ]
  },
  {
   "cell_type": "code",
   "execution_count": 53,
   "id": "9d2e3046",
   "metadata": {},
   "outputs": [],
   "source": [
    "class Number:\n",
    "    def __init__(self, x):\n",
    "        self.x = x\n",
    "\n",
    "    def __eq__(self,other):\n",
    "        if isinstance(other, Number):\n",
    "            return self.x == other.x\n",
    "        return False\n",
    "    \n",
    "    def __hash__(self):\n",
    "        return hash(self.x)"
   ]
  },
  {
   "cell_type": "code",
   "execution_count": 54,
   "id": "fc5a0dcd",
   "metadata": {},
   "outputs": [],
   "source": [
    "class SameHash:\n",
    "    def __init__(self, x):\n",
    "        self.x = x\n",
    "\n",
    "    def __eq__(self,other):\n",
    "        if isinstance(other, SameHash):\n",
    "            return self.x == other.x\n",
    "        return False\n",
    "    \n",
    "    def __hash__(self):\n",
    "        return 100"
   ]
  },
  {
   "cell_type": "code",
   "execution_count": 55,
   "id": "778fab47",
   "metadata": {},
   "outputs": [],
   "source": [
    "numbers = {Number(i): f\"Number {i}\" for i in range(1000)}\n",
    "same_hash = {SameHash(i): f\"SameHash {i}\" for i in range(1000)}"
   ]
  },
  {
   "cell_type": "code",
   "execution_count": 56,
   "id": "0cb8e80b",
   "metadata": {},
   "outputs": [
    {
     "data": {
      "text/plain": [
       "'Number 500'"
      ]
     },
     "execution_count": 56,
     "metadata": {},
     "output_type": "execute_result"
    }
   ],
   "source": [
    "numbers[Number(500)]"
   ]
  },
  {
   "cell_type": "code",
   "execution_count": 57,
   "id": "2fe84256",
   "metadata": {},
   "outputs": [
    {
     "data": {
      "text/plain": [
       "'SameHash 500'"
      ]
     },
     "execution_count": 57,
     "metadata": {},
     "output_type": "execute_result"
    }
   ],
   "source": [
    "same_hash[SameHash(500)]"
   ]
  },
  {
   "cell_type": "code",
   "execution_count": 58,
   "id": "3b52d27f",
   "metadata": {},
   "outputs": [],
   "source": [
    "from timeit import timeit"
   ]
  },
  {
   "cell_type": "code",
   "execution_count": 59,
   "id": "412cb5ff",
   "metadata": {},
   "outputs": [
    {
     "data": {
      "text/plain": [
       "0.0024209000112023205"
      ]
     },
     "execution_count": 59,
     "metadata": {},
     "output_type": "execute_result"
    }
   ],
   "source": [
    "timeit('numbers[Number(500)]', globals=globals(), number=10_000)"
   ]
  },
  {
   "cell_type": "code",
   "execution_count": 60,
   "id": "d66669bf",
   "metadata": {},
   "outputs": [
    {
     "data": {
      "text/plain": [
       "0.33388759999070317"
      ]
     },
     "execution_count": 60,
     "metadata": {},
     "output_type": "execute_result"
    }
   ],
   "source": [
    "timeit('same_hash[SameHash(500)]', globals=globals(), number=10_000)"
   ]
  },
  {
   "cell_type": "code",
   "execution_count": 63,
   "id": "5e746f1d",
   "metadata": {},
   "outputs": [],
   "source": [
    "class Point:\n",
    "    def __init__(self, x, y):\n",
    "        self.x = x\n",
    "        self.y = y\n",
    "\n",
    "    def __repr__(self):\n",
    "        return f\"Point({self.x=}, {self.y=})\"\n",
    "    \n",
    "    def __str__(self):\n",
    "        return f\"({self.x}, {self.y})\""
   ]
  },
  {
   "cell_type": "code",
   "execution_count": 65,
   "id": "5ce9d12d",
   "metadata": {},
   "outputs": [
    {
     "name": "stdout",
     "output_type": "stream",
     "text": [
      "(1, 2)\n"
     ]
    }
   ],
   "source": [
    "p = Point(1,2)\n",
    "print(p)"
   ]
  },
  {
   "cell_type": "code",
   "execution_count": 66,
   "id": "4eb1d2c5",
   "metadata": {},
   "outputs": [
    {
     "data": {
      "text/plain": [
       "Point(self.x=1, self.y=2)"
      ]
     },
     "execution_count": 66,
     "metadata": {},
     "output_type": "execute_result"
    }
   ],
   "source": [
    "p"
   ]
  },
  {
   "cell_type": "code",
   "execution_count": 67,
   "id": "1d899334",
   "metadata": {},
   "outputs": [],
   "source": [
    "points = {Point(0,0): 'origin', Point(1,1): 'second pt'}"
   ]
  },
  {
   "cell_type": "code",
   "execution_count": 68,
   "id": "71953ca1",
   "metadata": {},
   "outputs": [
    {
     "data": {
      "text/plain": [
       "{Point(self.x=0, self.y=0): 'origin', Point(self.x=1, self.y=1): 'second pt'}"
      ]
     },
     "execution_count": 68,
     "metadata": {},
     "output_type": "execute_result"
    }
   ],
   "source": [
    "points"
   ]
  },
  {
   "cell_type": "code",
   "execution_count": 69,
   "id": "4df02703",
   "metadata": {},
   "outputs": [],
   "source": [
    "class Point:\n",
    "    def __init__(self, x, y):\n",
    "        self.x = x\n",
    "        self.y = y\n",
    "\n",
    "    def __repr__(self):\n",
    "        return f\"Point({self.x=}, {self.y=})\"\n",
    "    \n",
    "    def __str__(self):\n",
    "        return f\"({self.x}, {self.y})\"\n",
    "    \n",
    "    def __eq__(self, other):\n",
    "        if isinstance(other, Point):\n",
    "            return self.x == other.x and self.y == other.y\n",
    "        return False\n",
    "    \n",
    "    def __hash__(self):\n",
    "        return hash((self.x, self.y))"
   ]
  },
  {
   "cell_type": "code",
   "execution_count": 70,
   "id": "edf48b43",
   "metadata": {},
   "outputs": [],
   "source": [
    "points = {Point(0,0): 'origin', Point(1,1): 'second pt'}"
   ]
  },
  {
   "cell_type": "code",
   "execution_count": 71,
   "id": "586490c2",
   "metadata": {},
   "outputs": [
    {
     "data": {
      "text/plain": [
       "'origin'"
      ]
     },
     "execution_count": 71,
     "metadata": {},
     "output_type": "execute_result"
    }
   ],
   "source": [
    "points[Point(0,0)]"
   ]
  },
  {
   "cell_type": "code",
   "execution_count": 72,
   "id": "3d9df399",
   "metadata": {},
   "outputs": [],
   "source": [
    "class Point:\n",
    "    def __init__(self, x, y):\n",
    "        self.x = x\n",
    "        self.y = y\n",
    "\n",
    "    def __repr__(self):\n",
    "        return f\"Point({self.x=}, {self.y=})\"\n",
    "    \n",
    "    def __str__(self):\n",
    "        return f\"({self.x}, {self.y})\"\n",
    "    \n",
    "    def __eq__(self, other):\n",
    "        if isinstance(other, tuple) and len(other) == 2:\n",
    "            other = Point(*other)\n",
    "        if isinstance(other, Point):\n",
    "            return self.x == other.x and self.y == other.y\n",
    "        return False\n",
    "    \n",
    "    def __hash__(self):\n",
    "        return hash((self.x, self.y))"
   ]
  },
  {
   "cell_type": "code",
   "execution_count": 73,
   "id": "fa13833a",
   "metadata": {},
   "outputs": [],
   "source": [
    "points = {Point(0,0): 'origin', Point(1,1): 'second pt'}"
   ]
  },
  {
   "cell_type": "code",
   "execution_count": 74,
   "id": "1afd83c8",
   "metadata": {},
   "outputs": [
    {
     "data": {
      "text/plain": [
       "'origin'"
      ]
     },
     "execution_count": 74,
     "metadata": {},
     "output_type": "execute_result"
    }
   ],
   "source": [
    "points[Point(0,0)]"
   ]
  },
  {
   "cell_type": "code",
   "execution_count": 75,
   "id": "8a00c63c",
   "metadata": {},
   "outputs": [
    {
     "data": {
      "text/plain": [
       "'origin'"
      ]
     },
     "execution_count": 75,
     "metadata": {},
     "output_type": "execute_result"
    }
   ],
   "source": [
    "points[(0,0)]"
   ]
  },
  {
   "cell_type": "code",
   "execution_count": 76,
   "id": "1cc145d8",
   "metadata": {},
   "outputs": [],
   "source": [
    "pt1 = Point(0,0)\n",
    "pt2 = Point(1,1)\n",
    "points = {pt1: 'origin', pt2: 'points at (1,1)'}"
   ]
  },
  {
   "cell_type": "code",
   "execution_count": 77,
   "id": "44fc32e0",
   "metadata": {},
   "outputs": [
    {
     "data": {
      "text/plain": [
       "('origin', 'origin', 'origin')"
      ]
     },
     "execution_count": 77,
     "metadata": {},
     "output_type": "execute_result"
    }
   ],
   "source": [
    "points[pt1], points[Point(0,0)], points[(0,0)]"
   ]
  },
  {
   "cell_type": "code",
   "execution_count": 78,
   "id": "f067b80e",
   "metadata": {},
   "outputs": [],
   "source": [
    "pt1.x = 10"
   ]
  },
  {
   "cell_type": "code",
   "execution_count": 79,
   "id": "b0580c1b",
   "metadata": {},
   "outputs": [
    {
     "data": {
      "text/plain": [
       "Point(self.x=10, self.y=0)"
      ]
     },
     "execution_count": 79,
     "metadata": {},
     "output_type": "execute_result"
    }
   ],
   "source": [
    "pt1"
   ]
  },
  {
   "cell_type": "code",
   "execution_count": 80,
   "id": "ce726974",
   "metadata": {},
   "outputs": [
    {
     "ename": "KeyError",
     "evalue": "Point(self.x=10, self.y=0)",
     "output_type": "error",
     "traceback": [
      "\u001b[31m---------------------------------------------------------------------------\u001b[39m",
      "\u001b[31mKeyError\u001b[39m                                  Traceback (most recent call last)",
      "\u001b[36mCell\u001b[39m\u001b[36m \u001b[39m\u001b[32mIn[80]\u001b[39m\u001b[32m, line 1\u001b[39m\n\u001b[32m----> \u001b[39m\u001b[32m1\u001b[39m \u001b[43mpoints\u001b[49m\u001b[43m[\u001b[49m\u001b[43mpt1\u001b[49m\u001b[43m]\u001b[49m\n",
      "\u001b[31mKeyError\u001b[39m: Point(self.x=10, self.y=0)"
     ]
    }
   ],
   "source": [
    "points[pt1]"
   ]
  },
  {
   "cell_type": "code",
   "execution_count": 81,
   "id": "07a45a43",
   "metadata": {},
   "outputs": [
    {
     "name": "stdout",
     "output_type": "stream",
     "text": [
      "(10, 0) origin\n",
      "(1, 1) points at (1,1)\n"
     ]
    }
   ],
   "source": [
    "for k,v in points.items():\n",
    "    print(k, v)"
   ]
  },
  {
   "cell_type": "code",
   "execution_count": 82,
   "id": "95a1e48e",
   "metadata": {},
   "outputs": [
    {
     "ename": "KeyError",
     "evalue": "(10, 0)",
     "output_type": "error",
     "traceback": [
      "\u001b[31m---------------------------------------------------------------------------\u001b[39m",
      "\u001b[31mKeyError\u001b[39m                                  Traceback (most recent call last)",
      "\u001b[36mCell\u001b[39m\u001b[36m \u001b[39m\u001b[32mIn[82]\u001b[39m\u001b[32m, line 1\u001b[39m\n\u001b[32m----> \u001b[39m\u001b[32m1\u001b[39m \u001b[43mpoints\u001b[49m\u001b[43m[\u001b[49m\u001b[43m(\u001b[49m\u001b[32;43m10\u001b[39;49m\u001b[43m,\u001b[49m\u001b[32;43m0\u001b[39;49m\u001b[43m)\u001b[49m\u001b[43m]\u001b[49m\n",
      "\u001b[31mKeyError\u001b[39m: (10, 0)"
     ]
    }
   ],
   "source": [
    "points[(10,0)]"
   ]
  },
  {
   "cell_type": "code",
   "execution_count": 89,
   "id": "2b00b704",
   "metadata": {},
   "outputs": [],
   "source": [
    "k1 = list(points.keys())[0]"
   ]
  },
  {
   "cell_type": "code",
   "execution_count": 90,
   "id": "f1750c65",
   "metadata": {},
   "outputs": [
    {
     "data": {
      "text/plain": [
       "Point(self.x=10, self.y=0)"
      ]
     },
     "execution_count": 90,
     "metadata": {},
     "output_type": "execute_result"
    }
   ],
   "source": [
    "k1"
   ]
  },
  {
   "cell_type": "code",
   "execution_count": 91,
   "id": "53fea434",
   "metadata": {},
   "outputs": [
    {
     "data": {
      "text/plain": [
       "-3381654230262078061"
      ]
     },
     "execution_count": 91,
     "metadata": {},
     "output_type": "execute_result"
    }
   ],
   "source": [
    "hash(k1)"
   ]
  },
  {
   "cell_type": "code",
   "execution_count": 92,
   "id": "3ce53e53",
   "metadata": {},
   "outputs": [
    {
     "data": {
      "text/plain": [
       "-3381654230262078061"
      ]
     },
     "execution_count": 92,
     "metadata": {},
     "output_type": "execute_result"
    }
   ],
   "source": [
    "hash(Point(10,0))"
   ]
  },
  {
   "cell_type": "code",
   "execution_count": 101,
   "id": "08be32b3",
   "metadata": {},
   "outputs": [],
   "source": [
    "class Person:\n",
    "    def __init__(self, id, name, age):\n",
    "        self._id = id\n",
    "        self.name = name\n",
    "        self.age = age\n",
    "\n",
    "    def __repr__(self):\n",
    "        return f\"Person({self._id=}, {self.name=}, {self.age=})\"    \n",
    "\n",
    "    def __eq__(self, other):\n",
    "        if isinstance(other, Person):\n",
    "            return self._id == other._id\n",
    "        return False\n",
    "    \n",
    "    def __hash__(self):\n",
    "        return hash(self._id)"
   ]
  },
  {
   "cell_type": "code",
   "execution_count": 102,
   "id": "6734d966",
   "metadata": {},
   "outputs": [],
   "source": [
    "p1 = Person('john', 'John', 78)"
   ]
  },
  {
   "cell_type": "code",
   "execution_count": 103,
   "id": "8b0e1f34",
   "metadata": {},
   "outputs": [],
   "source": [
    "persons = {p1: 'John object'}"
   ]
  },
  {
   "cell_type": "code",
   "execution_count": 104,
   "id": "70a42a59",
   "metadata": {},
   "outputs": [
    {
     "data": {
      "text/plain": [
       "'John object'"
      ]
     },
     "execution_count": 104,
     "metadata": {},
     "output_type": "execute_result"
    }
   ],
   "source": [
    "persons[p1]"
   ]
  },
  {
   "cell_type": "code",
   "execution_count": 105,
   "id": "8d0e781c",
   "metadata": {},
   "outputs": [
    {
     "data": {
      "text/plain": [
       "'John object'"
      ]
     },
     "execution_count": 105,
     "metadata": {},
     "output_type": "execute_result"
    }
   ],
   "source": [
    "persons[Person('john', 'John', 78)]"
   ]
  },
  {
   "cell_type": "code",
   "execution_count": 106,
   "id": "c9d2687f",
   "metadata": {},
   "outputs": [],
   "source": [
    "p1.name = 'Eric'\n",
    "p1.age = 75"
   ]
  },
  {
   "cell_type": "code",
   "execution_count": 107,
   "id": "b4980e9f",
   "metadata": {},
   "outputs": [
    {
     "data": {
      "text/plain": [
       "Person(self._id='john', self.name='Eric', self.age=75)"
      ]
     },
     "execution_count": 107,
     "metadata": {},
     "output_type": "execute_result"
    }
   ],
   "source": [
    "p1"
   ]
  },
  {
   "cell_type": "code",
   "execution_count": 108,
   "id": "71907a33",
   "metadata": {},
   "outputs": [
    {
     "data": {
      "text/plain": [
       "'John object'"
      ]
     },
     "execution_count": 108,
     "metadata": {},
     "output_type": "execute_result"
    }
   ],
   "source": [
    "persons[Person('john', None, None)]"
   ]
  },
  {
   "cell_type": "code",
   "execution_count": null,
   "id": "7a44b528",
   "metadata": {},
   "outputs": [],
   "source": []
  },
  {
   "cell_type": "code",
   "execution_count": null,
   "id": "6e5a521a",
   "metadata": {},
   "outputs": [],
   "source": []
  }
 ],
 "metadata": {
  "kernelspec": {
   "display_name": "Python 3",
   "language": "python",
   "name": "python3"
  },
  "language_info": {
   "codemirror_mode": {
    "name": "ipython",
    "version": 3
   },
   "file_extension": ".py",
   "mimetype": "text/x-python",
   "name": "python",
   "nbconvert_exporter": "python",
   "pygments_lexer": "ipython3",
   "version": "3.13.2"
  }
 },
 "nbformat": 4,
 "nbformat_minor": 5
}
