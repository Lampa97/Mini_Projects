{
 "cells": [
  {
   "cell_type": "code",
   "execution_count": 83,
   "id": "39943b49",
   "metadata": {},
   "outputs": [],
   "source": [
    "def sorted_dict(d):\n",
    "    return dict(sorted(d.items(), key=lambda item: item[1]))"
   ]
  },
  {
   "cell_type": "code",
   "execution_count": 84,
   "id": "101375ba",
   "metadata": {},
   "outputs": [],
   "source": [
    "example = {'Wolfgang': 35, 'Frederic': 39, 'Ludwig': 56, 'Johann': 65}"
   ]
  },
  {
   "cell_type": "code",
   "execution_count": 85,
   "id": "dd81386e",
   "metadata": {},
   "outputs": [
    {
     "name": "stdout",
     "output_type": "stream",
     "text": [
      "{'Wolfgang': 35, 'Frederic': 39, 'Ludwig': 56, 'Johann': 65}\n"
     ]
    }
   ],
   "source": [
    "print(sorted_dict(example))"
   ]
  },
  {
   "cell_type": "code",
   "execution_count": 11,
   "id": "32640bf0",
   "metadata": {},
   "outputs": [],
   "source": [
    "def dict_from_keys(d1, d2):\n",
    "    keys = d1.keys() & d2.keys()\n",
    "    return {k: (d1.get(k), d2.get(k)) for k in keys}\n"
   ]
  },
  {
   "cell_type": "code",
   "execution_count": 12,
   "id": "812f7f1a",
   "metadata": {},
   "outputs": [],
   "source": [
    "d1 = {'a': 1, 'b': 2, 'c': 3, 'd': 4}\n",
    "d2 = {'b': 20, 'c': 30, 'y': 40, 'z': 50}"
   ]
  },
  {
   "cell_type": "code",
   "execution_count": 13,
   "id": "2ae62022",
   "metadata": {},
   "outputs": [
    {
     "data": {
      "text/plain": [
       "{'b': (2, 20), 'c': (3, 30)}"
      ]
     },
     "execution_count": 13,
     "metadata": {},
     "output_type": "execute_result"
    }
   ],
   "source": [
    "dict_from_keys(d1, d2)"
   ]
  },
  {
   "cell_type": "code",
   "execution_count": 36,
   "id": "0c1d5713",
   "metadata": {},
   "outputs": [],
   "source": [
    "from collections import defaultdict\n",
    "def combine_dicts(*dicts):\n",
    "    result = defaultdict(int)\n",
    "    for d in dicts:\n",
    "        for k, v in d.items():\n",
    "            result[k] += v\n",
    "    return dict(sorted(result.items(), key=lambda item: item[1], reverse=True))"
   ]
  },
  {
   "cell_type": "code",
   "execution_count": 37,
   "id": "848f98b2",
   "metadata": {},
   "outputs": [],
   "source": [
    "d1 = {'python': 10, 'java': 3, 'c#': 8, 'javascript': 15}\n",
    "d2 = {'java': 10, 'c++': 10, 'c#': 4, 'go': 9, 'python': 6}\n",
    "d3 = {'erlang': 5, 'haskell': 2, 'python': 1, 'pascal': 1}"
   ]
  },
  {
   "cell_type": "code",
   "execution_count": 40,
   "id": "58a9d621",
   "metadata": {},
   "outputs": [
    {
     "data": {
      "text/plain": [
       "{'python': 17,\n",
       " 'javascript': 15,\n",
       " 'java': 13,\n",
       " 'c#': 12,\n",
       " 'c++': 10,\n",
       " 'go': 9,\n",
       " 'erlang': 5,\n",
       " 'haskell': 2,\n",
       " 'pascal': 1}"
      ]
     },
     "execution_count": 40,
     "metadata": {},
     "output_type": "execute_result"
    }
   ],
   "source": [
    "combine_dicts(d1, d2, d3)"
   ]
  },
  {
   "cell_type": "code",
   "execution_count": 77,
   "id": "33ac3dc8",
   "metadata": {},
   "outputs": [],
   "source": [
    "def check_requests(d1, d2, d3):\n",
    "    lost_keys_1 = d1.keys() - d2.keys() | d1.keys() - d3.keys()\n",
    "    lost_keys_2 = d2.keys() - d1.keys() | d2.keys() - d3.keys()\n",
    "    lost_keys_3 = d3.keys() - d1.keys() | d3.keys() - d2.keys()\n",
    "    lost_keys = lost_keys_1 | lost_keys_2 | lost_keys_3\n",
    "    result = {k: (d1.get(k, 0), d2.get(k,0), d3.get(k,0)) for k in lost_keys}\n",
    "    return result\n"
   ]
  },
  {
   "cell_type": "code",
   "execution_count": 78,
   "id": "32a9056a",
   "metadata": {},
   "outputs": [],
   "source": [
    "n1 = {'employees': 100, 'employee': 5000, 'users': 10, 'user': 100}\n",
    "n2 = {'employees': 250, 'users': 23, 'user': 230}\n",
    "n3 = {'employees': 150, 'users': 4, 'login': 1000}"
   ]
  },
  {
   "cell_type": "code",
   "execution_count": 79,
   "id": "2e44e4d5",
   "metadata": {},
   "outputs": [
    {
     "data": {
      "text/plain": [
       "{'employee': (5000, 0, 0), 'user': (100, 230, 0), 'login': (0, 0, 1000)}"
      ]
     },
     "execution_count": 79,
     "metadata": {},
     "output_type": "execute_result"
    }
   ],
   "source": [
    "check_requests(n1, n2, n3)"
   ]
  },
  {
   "cell_type": "code",
   "execution_count": null,
   "id": "70604f03",
   "metadata": {},
   "outputs": [],
   "source": []
  }
 ],
 "metadata": {
  "kernelspec": {
   "display_name": "Python 3",
   "language": "python",
   "name": "python3"
  },
  "language_info": {
   "codemirror_mode": {
    "name": "ipython",
    "version": 3
   },
   "file_extension": ".py",
   "mimetype": "text/x-python",
   "name": "python",
   "nbconvert_exporter": "python",
   "pygments_lexer": "ipython3",
   "version": "3.13.2"
  }
 },
 "nbformat": 4,
 "nbformat_minor": 5
}
