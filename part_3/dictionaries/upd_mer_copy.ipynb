{
 "cells": [
  {
   "cell_type": "code",
   "execution_count": 4,
   "id": "0908d37d",
   "metadata": {},
   "outputs": [],
   "source": [
    "d = {'a':1, 'b':2, 'c':3}\n"
   ]
  },
  {
   "cell_type": "code",
   "execution_count": 5,
   "id": "1c5bcc50",
   "metadata": {},
   "outputs": [],
   "source": [
    "d['b'] = 200"
   ]
  },
  {
   "cell_type": "code",
   "execution_count": 6,
   "id": "9643cf60",
   "metadata": {},
   "outputs": [
    {
     "data": {
      "text/plain": [
       "{'a': 1, 'b': 200, 'c': 3}"
      ]
     },
     "execution_count": 6,
     "metadata": {},
     "output_type": "execute_result"
    }
   ],
   "source": [
    "d"
   ]
  },
  {
   "cell_type": "code",
   "execution_count": 7,
   "id": "1468f6ed",
   "metadata": {},
   "outputs": [],
   "source": [
    "d1 = {'a': 1, 'b': 2}\n",
    "d2 = {'c': 3, 'd': 4}\n"
   ]
  },
  {
   "cell_type": "code",
   "execution_count": 8,
   "id": "a7ac90ae",
   "metadata": {},
   "outputs": [],
   "source": [
    "d1.update(d2)"
   ]
  },
  {
   "cell_type": "code",
   "execution_count": 9,
   "id": "afce0d7f",
   "metadata": {},
   "outputs": [
    {
     "name": "stdout",
     "output_type": "stream",
     "text": [
      "{'a': 1, 'b': 2, 'c': 3, 'd': 4}\n"
     ]
    }
   ],
   "source": [
    "print(d1)"
   ]
  },
  {
   "cell_type": "code",
   "execution_count": 10,
   "id": "ebb1091e",
   "metadata": {},
   "outputs": [],
   "source": [
    "d1 = {'a': 1, 'b': 2}"
   ]
  },
  {
   "cell_type": "code",
   "execution_count": null,
   "id": "a72132e0",
   "metadata": {},
   "outputs": [],
   "source": [
    "d1.update(b=20, x=40, c=30)"
   ]
  },
  {
   "cell_type": "code",
   "execution_count": 12,
   "id": "ba371b48",
   "metadata": {},
   "outputs": [
    {
     "data": {
      "text/plain": [
       "{'a': 1, 'b': 20, 'x': 40, 'c': 30}"
      ]
     },
     "execution_count": 12,
     "metadata": {},
     "output_type": "execute_result"
    }
   ],
   "source": [
    "d1"
   ]
  },
  {
   "cell_type": "code",
   "execution_count": 13,
   "id": "14f64f06",
   "metadata": {},
   "outputs": [
    {
     "name": "stdout",
     "output_type": "stream",
     "text": [
      "{'a': 1, 'b': 20, 'x': 40, 'c': 30}\n"
     ]
    }
   ],
   "source": [
    "print(d1)"
   ]
  },
  {
   "cell_type": "code",
   "execution_count": 14,
   "id": "d3cf2707",
   "metadata": {},
   "outputs": [],
   "source": [
    "d1 = {'a': 1, 'b': 2}\n",
    "d1.update(c=30, x=40, b=20)\n"
   ]
  },
  {
   "cell_type": "code",
   "execution_count": 15,
   "id": "cf53b59a",
   "metadata": {},
   "outputs": [
    {
     "data": {
      "text/plain": [
       "{'a': 1, 'b': 20, 'c': 30, 'x': 40}"
      ]
     },
     "execution_count": 15,
     "metadata": {},
     "output_type": "execute_result"
    }
   ],
   "source": [
    "d1"
   ]
  },
  {
   "cell_type": "code",
   "execution_count": 16,
   "id": "621e405b",
   "metadata": {},
   "outputs": [],
   "source": [
    "d1 = {'a': 1, 'b': 2}\n",
    "d1.update([('c', 2), ['d', 3]])"
   ]
  },
  {
   "cell_type": "code",
   "execution_count": 17,
   "id": "3be1a7c3",
   "metadata": {},
   "outputs": [
    {
     "name": "stdout",
     "output_type": "stream",
     "text": [
      "{'a': 1, 'b': 2, 'c': 2, 'd': 3}\n"
     ]
    }
   ],
   "source": [
    "print(d1)"
   ]
  },
  {
   "cell_type": "code",
   "execution_count": 19,
   "id": "b67db43b",
   "metadata": {},
   "outputs": [
    {
     "name": "stdout",
     "output_type": "stream",
     "text": [
      "{'a': 1, 'b': 2, 'p': 112, 'y': 121, 't': 116, 'h': 104, 'o': 111, 'n': 110}\n"
     ]
    }
   ],
   "source": [
    "d1 = {'a': 1, 'b': 2}\n",
    "d1.update((k, ord(k)) for k in 'python')\n",
    "print(d1)"
   ]
  },
  {
   "cell_type": "code",
   "execution_count": 20,
   "id": "3690f7da",
   "metadata": {},
   "outputs": [
    {
     "name": "stdout",
     "output_type": "stream",
     "text": [
      "[1, 2, 3, 'a', 'b', 'c']\n"
     ]
    }
   ],
   "source": [
    "l1 = [1,2,3]\n",
    "l2 = 'abc'\n",
    "l = [*l1, *l2]\n",
    "print(l)"
   ]
  },
  {
   "cell_type": "code",
   "execution_count": 21,
   "id": "c1905d2d",
   "metadata": {},
   "outputs": [],
   "source": [
    "d1 = {'a': 1, 'b': 2}\n",
    "d2 = {'c': 3, 'd': 4}\n",
    "d = {**d1, **d2}"
   ]
  },
  {
   "cell_type": "code",
   "execution_count": 22,
   "id": "39c97cfa",
   "metadata": {},
   "outputs": [
    {
     "data": {
      "text/plain": [
       "{'a': 1, 'b': 2, 'c': 3, 'd': 4}"
      ]
     },
     "execution_count": 22,
     "metadata": {},
     "output_type": "execute_result"
    }
   ],
   "source": [
    "d"
   ]
  },
  {
   "cell_type": "code",
   "execution_count": 23,
   "id": "55271ab9",
   "metadata": {},
   "outputs": [],
   "source": [
    "d1 = {'a': 1, 'b': 2}\n",
    "d2 = {'b': 20, 'd': 4}"
   ]
  },
  {
   "cell_type": "code",
   "execution_count": 24,
   "id": "e00a6808",
   "metadata": {},
   "outputs": [],
   "source": [
    "d = {**d1, **d2}"
   ]
  },
  {
   "cell_type": "code",
   "execution_count": 25,
   "id": "7f577f75",
   "metadata": {},
   "outputs": [
    {
     "name": "stdout",
     "output_type": "stream",
     "text": [
      "{'a': 1, 'b': 20, 'd': 4}\n"
     ]
    }
   ],
   "source": [
    "print(d)"
   ]
  },
  {
   "cell_type": "code",
   "execution_count": 26,
   "id": "643b2675",
   "metadata": {},
   "outputs": [
    {
     "name": "stdout",
     "output_type": "stream",
     "text": [
      "{'a': 1, 'b': 200, 'd': 40, 'e': 5}\n"
     ]
    }
   ],
   "source": [
    "d1 = {'a': 1, 'b': 2}\n",
    "d2 = {'b': 20, 'd': 4}\n",
    "d3 = {'b': 200, 'd': 40, 'e':5}\n",
    "d = {**d1, **d2, **d3}\n",
    "print(d)"
   ]
  },
  {
   "cell_type": "code",
   "execution_count": 27,
   "id": "b6614bb5",
   "metadata": {},
   "outputs": [],
   "source": [
    "conf_defaults = dict.fromkeys(('host', 'port', 'user', 'pwd', 'database'), None)"
   ]
  },
  {
   "cell_type": "code",
   "execution_count": 28,
   "id": "0dfd8341",
   "metadata": {},
   "outputs": [
    {
     "data": {
      "text/plain": [
       "{'host': None, 'port': None, 'user': None, 'pwd': None, 'database': None}"
      ]
     },
     "execution_count": 28,
     "metadata": {},
     "output_type": "execute_result"
    }
   ],
   "source": [
    "conf_defaults"
   ]
  },
  {
   "cell_type": "code",
   "execution_count": 29,
   "id": "121e4546",
   "metadata": {},
   "outputs": [],
   "source": [
    "conf_global = {'port': 5432, 'database': 'deepdive'}"
   ]
  },
  {
   "cell_type": "code",
   "execution_count": 31,
   "id": "a9d1b47b",
   "metadata": {},
   "outputs": [],
   "source": [
    "conf_dev = {\n",
    "    'host': 'localhost',\n",
    "    'user': 'test',\n",
    "    'pwd': 'test'\n",
    "}\n",
    "\n",
    "conf_prod = {\n",
    "    'host': 'prodpg.deepdive.com',\n",
    "    'user': '$prod_user',\n",
    "    'pwd': '$prod_pwd',\n",
    "    'database': 'deepdive_prod'\n",
    "}\n",
    "\n"
   ]
  },
  {
   "cell_type": "markdown",
   "id": "6caca932",
   "metadata": {},
   "source": [
    "conf_defaults --> global --> dev / prod"
   ]
  },
  {
   "cell_type": "code",
   "execution_count": 33,
   "id": "a7c08326",
   "metadata": {},
   "outputs": [],
   "source": [
    "conf = {**conf_defaults, **conf_global, **conf_dev}"
   ]
  },
  {
   "cell_type": "code",
   "execution_count": 34,
   "id": "5099f9c1",
   "metadata": {},
   "outputs": [
    {
     "data": {
      "text/plain": [
       "{'host': 'localhost',\n",
       " 'port': 5432,\n",
       " 'user': 'test',\n",
       " 'pwd': 'test',\n",
       " 'database': 'deepdive'}"
      ]
     },
     "execution_count": 34,
     "metadata": {},
     "output_type": "execute_result"
    }
   ],
   "source": [
    "conf"
   ]
  },
  {
   "cell_type": "code",
   "execution_count": 35,
   "id": "83f65cd6",
   "metadata": {},
   "outputs": [],
   "source": [
    "conf = {**conf_defaults, **conf_global, **conf_prod}"
   ]
  },
  {
   "cell_type": "code",
   "execution_count": 36,
   "id": "32357af8",
   "metadata": {},
   "outputs": [
    {
     "data": {
      "text/plain": [
       "{'host': 'prodpg.deepdive.com',\n",
       " 'port': 5432,\n",
       " 'user': '$prod_user',\n",
       " 'pwd': '$prod_pwd',\n",
       " 'database': 'deepdive_prod'}"
      ]
     },
     "execution_count": 36,
     "metadata": {},
     "output_type": "execute_result"
    }
   ],
   "source": [
    "conf"
   ]
  },
  {
   "cell_type": "code",
   "execution_count": 37,
   "id": "72edfe04",
   "metadata": {},
   "outputs": [],
   "source": [
    "def my_func(*, kw1, kw2, kw3):\n",
    "    print(kw1, kw2, kw3)"
   ]
  },
  {
   "cell_type": "code",
   "execution_count": 38,
   "id": "ae863588",
   "metadata": {},
   "outputs": [],
   "source": [
    "d = {'kw2': 20, 'kw1': 10, 'kw3': 30}"
   ]
  },
  {
   "cell_type": "code",
   "execution_count": 39,
   "id": "6bd37d2d",
   "metadata": {},
   "outputs": [
    {
     "name": "stdout",
     "output_type": "stream",
     "text": [
      "10 20 30\n"
     ]
    }
   ],
   "source": [
    "my_func(**d)"
   ]
  },
  {
   "cell_type": "code",
   "execution_count": 40,
   "id": "8bb037cd",
   "metadata": {},
   "outputs": [],
   "source": [
    "def my_func(**kwargs):\n",
    "    for k, v in kwargs.items():\n",
    "        print(k, v)"
   ]
  },
  {
   "cell_type": "code",
   "execution_count": 41,
   "id": "3fe1d011",
   "metadata": {},
   "outputs": [
    {
     "name": "stdout",
     "output_type": "stream",
     "text": [
      "kw2 20\n",
      "kw1 10\n",
      "kw3 30\n"
     ]
    }
   ],
   "source": [
    "my_func(**d)"
   ]
  },
  {
   "cell_type": "code",
   "execution_count": 42,
   "id": "df843b22",
   "metadata": {},
   "outputs": [],
   "source": [
    "d = {'a': [1,2], 'b': [3,4]}"
   ]
  },
  {
   "cell_type": "code",
   "execution_count": 43,
   "id": "b3eb369d",
   "metadata": {},
   "outputs": [],
   "source": [
    "d1 = d.copy()"
   ]
  },
  {
   "cell_type": "code",
   "execution_count": 44,
   "id": "1dac5b6b",
   "metadata": {},
   "outputs": [
    {
     "data": {
      "text/plain": [
       "({'a': [1, 2], 'b': [3, 4]}, {'a': [1, 2], 'b': [3, 4]})"
      ]
     },
     "execution_count": 44,
     "metadata": {},
     "output_type": "execute_result"
    }
   ],
   "source": [
    "d, d1"
   ]
  },
  {
   "cell_type": "code",
   "execution_count": 45,
   "id": "12a3cb28",
   "metadata": {},
   "outputs": [
    {
     "data": {
      "text/plain": [
       "False"
      ]
     },
     "execution_count": 45,
     "metadata": {},
     "output_type": "execute_result"
    }
   ],
   "source": [
    "d is d1"
   ]
  },
  {
   "cell_type": "code",
   "execution_count": 46,
   "id": "3501052b",
   "metadata": {},
   "outputs": [
    {
     "data": {
      "text/plain": [
       "(1858154144064, 1858154136064)"
      ]
     },
     "execution_count": 46,
     "metadata": {},
     "output_type": "execute_result"
    }
   ],
   "source": [
    "id(d), id(d1)"
   ]
  },
  {
   "cell_type": "code",
   "execution_count": 47,
   "id": "d4a7782b",
   "metadata": {},
   "outputs": [
    {
     "data": {
      "text/plain": [
       "True"
      ]
     },
     "execution_count": 47,
     "metadata": {},
     "output_type": "execute_result"
    }
   ],
   "source": [
    "d['a'] is d1['a']"
   ]
  },
  {
   "cell_type": "code",
   "execution_count": 48,
   "id": "af1b9185",
   "metadata": {},
   "outputs": [],
   "source": [
    "d['a'].append(100)"
   ]
  },
  {
   "cell_type": "code",
   "execution_count": 49,
   "id": "cc347856",
   "metadata": {},
   "outputs": [
    {
     "data": {
      "text/plain": [
       "{'a': [1, 2, 100], 'b': [3, 4]}"
      ]
     },
     "execution_count": 49,
     "metadata": {},
     "output_type": "execute_result"
    }
   ],
   "source": [
    "d"
   ]
  },
  {
   "cell_type": "code",
   "execution_count": 50,
   "id": "f39b026e",
   "metadata": {},
   "outputs": [
    {
     "data": {
      "text/plain": [
       "{'a': [1, 2, 100], 'b': [3, 4]}"
      ]
     },
     "execution_count": 50,
     "metadata": {},
     "output_type": "execute_result"
    }
   ],
   "source": [
    "d1"
   ]
  },
  {
   "cell_type": "code",
   "execution_count": 52,
   "id": "7807daa8",
   "metadata": {},
   "outputs": [],
   "source": [
    "d['x'] = 100"
   ]
  },
  {
   "cell_type": "code",
   "execution_count": 53,
   "id": "41604d64",
   "metadata": {},
   "outputs": [
    {
     "data": {
      "text/plain": [
       "{'a': [1, 2, 100], 'b': [3, 4], 'x': 100}"
      ]
     },
     "execution_count": 53,
     "metadata": {},
     "output_type": "execute_result"
    }
   ],
   "source": [
    "d"
   ]
  },
  {
   "cell_type": "code",
   "execution_count": 54,
   "id": "d56a4289",
   "metadata": {},
   "outputs": [
    {
     "data": {
      "text/plain": [
       "{'a': [1, 2, 100], 'b': [3, 4]}"
      ]
     },
     "execution_count": 54,
     "metadata": {},
     "output_type": "execute_result"
    }
   ],
   "source": [
    "d1"
   ]
  },
  {
   "cell_type": "code",
   "execution_count": 55,
   "id": "f6d34f2a",
   "metadata": {},
   "outputs": [],
   "source": [
    "del d['a']"
   ]
  },
  {
   "cell_type": "code",
   "execution_count": 56,
   "id": "653ed7e2",
   "metadata": {},
   "outputs": [
    {
     "data": {
      "text/plain": [
       "{'b': [3, 4], 'x': 100}"
      ]
     },
     "execution_count": 56,
     "metadata": {},
     "output_type": "execute_result"
    }
   ],
   "source": [
    "d"
   ]
  },
  {
   "cell_type": "code",
   "execution_count": 57,
   "id": "14883da5",
   "metadata": {},
   "outputs": [
    {
     "data": {
      "text/plain": [
       "{'a': [1, 2, 100], 'b': [3, 4]}"
      ]
     },
     "execution_count": 57,
     "metadata": {},
     "output_type": "execute_result"
    }
   ],
   "source": [
    "d1"
   ]
  },
  {
   "cell_type": "code",
   "execution_count": 59,
   "id": "9cf4ba19",
   "metadata": {},
   "outputs": [],
   "source": [
    "from copy import deepcopy\n",
    "\n",
    "d = {'id': 123445,\n",
    "     'person': {'name': 'John', 'age': 78},\n",
    "     'posts': [100, 105, 200]\n",
    "     }"
   ]
  },
  {
   "cell_type": "code",
   "execution_count": 62,
   "id": "a4fad372",
   "metadata": {},
   "outputs": [],
   "source": [
    "d_deep = deepcopy(d)\n",
    "d_shallow = d.copy()"
   ]
  },
  {
   "cell_type": "code",
   "execution_count": 63,
   "id": "b30e4181",
   "metadata": {},
   "outputs": [
    {
     "data": {
      "text/plain": [
       "(1858154277440, 1858154269184, 1858154588480)"
      ]
     },
     "execution_count": 63,
     "metadata": {},
     "output_type": "execute_result"
    }
   ],
   "source": [
    "id(d_deep), id(d_shallow), id(d)"
   ]
  },
  {
   "cell_type": "code",
   "execution_count": 64,
   "id": "b8bf9e3c",
   "metadata": {},
   "outputs": [
    {
     "data": {
      "text/plain": [
       "(1858154215488, 1858154478400, 1858154215488)"
      ]
     },
     "execution_count": 64,
     "metadata": {},
     "output_type": "execute_result"
    }
   ],
   "source": [
    "id(d['person']), id(d_deep['person']), id(d_shallow['person'])"
   ]
  },
  {
   "cell_type": "code",
   "execution_count": 65,
   "id": "43d610c6",
   "metadata": {},
   "outputs": [],
   "source": [
    "d1 = {'a': [1,2], 'b': [3,4]}"
   ]
  },
  {
   "cell_type": "code",
   "execution_count": 66,
   "id": "268276ff",
   "metadata": {},
   "outputs": [],
   "source": [
    "d = {**d1, 'c': 100}"
   ]
  },
  {
   "cell_type": "code",
   "execution_count": 67,
   "id": "c6ecb62b",
   "metadata": {},
   "outputs": [
    {
     "data": {
      "text/plain": [
       "{'a': [1, 2], 'b': [3, 4], 'c': 100}"
      ]
     },
     "execution_count": 67,
     "metadata": {},
     "output_type": "execute_result"
    }
   ],
   "source": [
    "d"
   ]
  },
  {
   "cell_type": "code",
   "execution_count": 68,
   "id": "5a82dc95",
   "metadata": {},
   "outputs": [
    {
     "data": {
      "text/plain": [
       "(1858154478656, 1858153041536)"
      ]
     },
     "execution_count": 68,
     "metadata": {},
     "output_type": "execute_result"
    }
   ],
   "source": [
    "id(d), id(d1)"
   ]
  },
  {
   "cell_type": "code",
   "execution_count": 69,
   "id": "3b878f90",
   "metadata": {},
   "outputs": [
    {
     "data": {
      "text/plain": [
       "(1858154591040, 1858154591040)"
      ]
     },
     "execution_count": 69,
     "metadata": {},
     "output_type": "execute_result"
    }
   ],
   "source": [
    "id(d['a']), id(d1['a'])"
   ]
  },
  {
   "cell_type": "code",
   "execution_count": 70,
   "id": "557a82d2",
   "metadata": {},
   "outputs": [],
   "source": [
    "d1 = {'a': [1,2], 'b': [3,4]}\n",
    "d2 = dict(d1)"
   ]
  },
  {
   "cell_type": "code",
   "execution_count": 71,
   "id": "2ab4c2b8",
   "metadata": {},
   "outputs": [
    {
     "data": {
      "text/plain": [
       "(1858154386240, 1858153623104)"
      ]
     },
     "execution_count": 71,
     "metadata": {},
     "output_type": "execute_result"
    }
   ],
   "source": [
    "id(d1), id(d2)"
   ]
  },
  {
   "cell_type": "code",
   "execution_count": 72,
   "id": "856ac529",
   "metadata": {},
   "outputs": [
    {
     "data": {
      "text/plain": [
       "True"
      ]
     },
     "execution_count": 72,
     "metadata": {},
     "output_type": "execute_result"
    }
   ],
   "source": [
    "d1['a'] is d2['a']"
   ]
  },
  {
   "cell_type": "code",
   "execution_count": 73,
   "id": "6f2eac8c",
   "metadata": {},
   "outputs": [],
   "source": [
    "d1 = {'a': [1,2], 'b': [3,4]}\n",
    "d2 = {k: v for k, v in d1.items()}"
   ]
  },
  {
   "cell_type": "code",
   "execution_count": 74,
   "id": "33fd6a09",
   "metadata": {},
   "outputs": [
    {
     "data": {
      "text/plain": [
       "({'a': [1, 2], 'b': [3, 4]}, {'a': [1, 2], 'b': [3, 4]})"
      ]
     },
     "execution_count": 74,
     "metadata": {},
     "output_type": "execute_result"
    }
   ],
   "source": [
    "d1, d2"
   ]
  },
  {
   "cell_type": "code",
   "execution_count": 75,
   "id": "c6ac00cb",
   "metadata": {},
   "outputs": [
    {
     "data": {
      "text/plain": [
       "False"
      ]
     },
     "execution_count": 75,
     "metadata": {},
     "output_type": "execute_result"
    }
   ],
   "source": [
    "d1 is d2"
   ]
  },
  {
   "cell_type": "code",
   "execution_count": 76,
   "id": "a0bc7dcb",
   "metadata": {},
   "outputs": [
    {
     "data": {
      "text/plain": [
       "True"
      ]
     },
     "execution_count": 76,
     "metadata": {},
     "output_type": "execute_result"
    }
   ],
   "source": [
    "d1['a'] is d2['a']"
   ]
  },
  {
   "cell_type": "code",
   "execution_count": 77,
   "id": "85c52695",
   "metadata": {},
   "outputs": [],
   "source": [
    "from random import randint\n",
    "\n",
    "big_dict = {k: randint(1, 100) for k in range(1, 1_000_001)}\n"
   ]
  },
  {
   "cell_type": "code",
   "execution_count": 78,
   "id": "4e61cc07",
   "metadata": {},
   "outputs": [
    {
     "data": {
      "text/plain": [
       "1000000"
      ]
     },
     "execution_count": 78,
     "metadata": {},
     "output_type": "execute_result"
    }
   ],
   "source": [
    "len(big_dict)"
   ]
  },
  {
   "cell_type": "code",
   "execution_count": 80,
   "id": "01877014",
   "metadata": {},
   "outputs": [],
   "source": [
    "def copy_unpacking(d):\n",
    "    d1 = {**d}\n",
    "\n",
    "def copy_copy(d):\n",
    "    d1 = d.copy()\n",
    "\n",
    "def copy_create(d):\n",
    "    d1 = dict(d)\n",
    "\n",
    "def copy_comprehension(d):\n",
    "    d1 = {k: v for k, v in d.items()}\n",
    "\n",
    "def copy_deepcopy(d):\n",
    "    d1 = deepcopy(d)\n",
    "\n"
   ]
  },
  {
   "cell_type": "code",
   "execution_count": 84,
   "id": "214b5fe7",
   "metadata": {},
   "outputs": [],
   "source": [
    "from timeit import timeit"
   ]
  },
  {
   "cell_type": "code",
   "execution_count": 83,
   "id": "54455e39",
   "metadata": {},
   "outputs": [
    {
     "data": {
      "text/plain": [
       "3.201111000002129"
      ]
     },
     "execution_count": 83,
     "metadata": {},
     "output_type": "execute_result"
    }
   ],
   "source": [
    "timeit('copy_unpacking(big_dict)', globals=globals(), number=100)"
   ]
  },
  {
   "cell_type": "code",
   "execution_count": 85,
   "id": "90892806",
   "metadata": {},
   "outputs": [
    {
     "data": {
      "text/plain": [
       "2.7544753000256605"
      ]
     },
     "execution_count": 85,
     "metadata": {},
     "output_type": "execute_result"
    }
   ],
   "source": [
    "timeit('copy_copy(big_dict)', globals=globals(), number=100)"
   ]
  },
  {
   "cell_type": "code",
   "execution_count": 86,
   "id": "d9c3a3d3",
   "metadata": {},
   "outputs": [
    {
     "data": {
      "text/plain": [
       "2.7555935000127647"
      ]
     },
     "execution_count": 86,
     "metadata": {},
     "output_type": "execute_result"
    }
   ],
   "source": [
    "timeit('copy_create(big_dict)', globals=globals(), number=100)"
   ]
  },
  {
   "cell_type": "code",
   "execution_count": 87,
   "id": "68cb8b89",
   "metadata": {},
   "outputs": [
    {
     "data": {
      "text/plain": [
       "9.212350200017681"
      ]
     },
     "execution_count": 87,
     "metadata": {},
     "output_type": "execute_result"
    }
   ],
   "source": [
    "timeit('copy_comprehension(big_dict)', globals=globals(), number=100)"
   ]
  },
  {
   "cell_type": "code",
   "execution_count": null,
   "id": "16010acb",
   "metadata": {},
   "outputs": [],
   "source": [
    "timeit('copy_deepcopy(big_dict)', globals=globals(), number=100)"
   ]
  }
 ],
 "metadata": {
  "kernelspec": {
   "display_name": "Python 3",
   "language": "python",
   "name": "python3"
  },
  "language_info": {
   "codemirror_mode": {
    "name": "ipython",
    "version": 3
   },
   "file_extension": ".py",
   "mimetype": "text/x-python",
   "name": "python",
   "nbconvert_exporter": "python",
   "pygments_lexer": "ipython3",
   "version": "3.13.2"
  }
 },
 "nbformat": 4,
 "nbformat_minor": 5
}
