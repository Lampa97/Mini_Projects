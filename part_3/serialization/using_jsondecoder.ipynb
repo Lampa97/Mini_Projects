{
 "cells": [
  {
   "cell_type": "code",
   "execution_count": 1,
   "id": "e1bcdf42",
   "metadata": {},
   "outputs": [],
   "source": [
    "import json"
   ]
  },
  {
   "cell_type": "code",
   "execution_count": 2,
   "id": "accb2088",
   "metadata": {},
   "outputs": [],
   "source": [
    "j = '''\n",
    "{\n",
    "    \"a\": 100,\n",
    "    \"b\": [1,2,3],\n",
    "    \"c\": \"python\",\n",
    "    \"d\": {\n",
    "    \"e\": 4,\n",
    "    \"f\": 5.5\n",
    "    }\n",
    "}'''"
   ]
  },
  {
   "cell_type": "code",
   "execution_count": 3,
   "id": "aa1ec79d",
   "metadata": {},
   "outputs": [],
   "source": [
    "class CustomDecoder(json.JSONDecoder):\n",
    "    def decode(self, arg):\n",
    "        print(\"decode: \", type(arg), arg)\n",
    "        return \"a simple string object\""
   ]
  },
  {
   "cell_type": "code",
   "execution_count": 4,
   "id": "7e8a5193",
   "metadata": {},
   "outputs": [
    {
     "name": "stdout",
     "output_type": "stream",
     "text": [
      "decode:  <class 'str'> \n",
      "{\n",
      "    \"a\": 100,\n",
      "    \"b\": [1,2,3],\n",
      "    \"c\": \"python\",\n",
      "    \"d\": {\n",
      "    \"e\": 4,\n",
      "    \"f\": 5.5\n",
      "    }\n",
      "}\n"
     ]
    },
    {
     "data": {
      "text/plain": [
       "'a simple string object'"
      ]
     },
     "execution_count": 4,
     "metadata": {},
     "output_type": "execute_result"
    }
   ],
   "source": [
    "json.loads(j, cls=CustomDecoder)"
   ]
  },
  {
   "cell_type": "code",
   "execution_count": 5,
   "id": "59f75323",
   "metadata": {},
   "outputs": [],
   "source": [
    "class Point:\n",
    "    def __init__(self, x ,y):\n",
    "        self.x = x\n",
    "        self.y = y\n",
    "\n",
    "    def __repr__(self):\n",
    "        return f'Point(x={self.x}, y={self.y})'"
   ]
  },
  {
   "cell_type": "code",
   "execution_count": 8,
   "id": "d49ccbc2",
   "metadata": {},
   "outputs": [],
   "source": [
    "j_points = '''\n",
    "{\n",
    "    \"points\": [\n",
    "        [10,20],\n",
    "        [-1, -2],\n",
    "        [0.5, 0.5]\n",
    "    ]\n",
    "}'''\n",
    "\n",
    "j_other = '''\n",
    "{\n",
    "    \"a\": 1,\n",
    "    \"b\": 2\n",
    "}\n",
    "'''"
   ]
  },
  {
   "cell_type": "code",
   "execution_count": 9,
   "id": "6b04fe5a",
   "metadata": {},
   "outputs": [],
   "source": [
    "class CustomDecoder(json.JSONDecoder):\n",
    "    def decode(self, arg):\n",
    "        if 'points' in arg:\n",
    "            obj = json.loads(arg)\n",
    "            return \"parsing object for points\"\n",
    "        else:\n",
    "            return super().decode(arg)"
   ]
  },
  {
   "cell_type": "code",
   "execution_count": 10,
   "id": "ddb78c9c",
   "metadata": {},
   "outputs": [
    {
     "data": {
      "text/plain": [
       "'parsing object for points'"
      ]
     },
     "execution_count": 10,
     "metadata": {},
     "output_type": "execute_result"
    }
   ],
   "source": [
    "json.loads(j_points, cls=CustomDecoder)"
   ]
  },
  {
   "cell_type": "code",
   "execution_count": 11,
   "id": "66526e84",
   "metadata": {},
   "outputs": [
    {
     "data": {
      "text/plain": [
       "{'a': 1, 'b': 2}"
      ]
     },
     "execution_count": 11,
     "metadata": {},
     "output_type": "execute_result"
    }
   ],
   "source": [
    "json.loads(j_other, cls=CustomDecoder)"
   ]
  },
  {
   "cell_type": "code",
   "execution_count": 14,
   "id": "e78ebc0c",
   "metadata": {},
   "outputs": [],
   "source": [
    "class CustomDecoder(json.JSONDecoder):\n",
    "    def decode(self, arg):\n",
    "        obj = json.loads(arg)\n",
    "        if 'points' in obj:\n",
    "            obj['points'] = [Point(x,y) \n",
    "                             for x,y in obj['points']]\n",
    "        return obj"
   ]
  },
  {
   "cell_type": "code",
   "execution_count": 15,
   "id": "b7884598",
   "metadata": {},
   "outputs": [
    {
     "data": {
      "text/plain": [
       "{'points': [Point(x=10, y=20), Point(x=-1, y=-2), Point(x=0.5, y=0.5)]}"
      ]
     },
     "execution_count": 15,
     "metadata": {},
     "output_type": "execute_result"
    }
   ],
   "source": [
    "json.loads(j_points, cls=CustomDecoder)"
   ]
  },
  {
   "cell_type": "code",
   "execution_count": 16,
   "id": "093b5662",
   "metadata": {},
   "outputs": [
    {
     "data": {
      "text/plain": [
       "{'a': 1, 'b': 2}"
      ]
     },
     "execution_count": 16,
     "metadata": {},
     "output_type": "execute_result"
    }
   ],
   "source": [
    "json.loads(j_other, cls=CustomDecoder)"
   ]
  },
  {
   "cell_type": "code",
   "execution_count": 17,
   "id": "8714a3d2",
   "metadata": {},
   "outputs": [
    {
     "data": {
      "text/plain": [
       "{'a': 100, 'b': [1, 2, 3], 'c': 'python', 'd': {'e': 4, 'f': 5.5}}"
      ]
     },
     "execution_count": 17,
     "metadata": {},
     "output_type": "execute_result"
    }
   ],
   "source": [
    "json.loads(j, cls=CustomDecoder)"
   ]
  },
  {
   "cell_type": "code",
   "execution_count": 18,
   "id": "96c7b1e6",
   "metadata": {},
   "outputs": [],
   "source": [
    "import re"
   ]
  },
  {
   "cell_type": "code",
   "execution_count": 19,
   "id": "bab28701",
   "metadata": {},
   "outputs": [],
   "source": [
    "pattern = r'\"_type\"\\s*:\\s*\"point\"'"
   ]
  },
  {
   "cell_type": "code",
   "execution_count": 20,
   "id": "4328fbd0",
   "metadata": {},
   "outputs": [
    {
     "name": "stdout",
     "output_type": "stream",
     "text": [
      "word\\tword\n"
     ]
    }
   ],
   "source": [
    "print(r'word\\tword')"
   ]
  },
  {
   "cell_type": "code",
   "execution_count": 21,
   "id": "2b92e95c",
   "metadata": {},
   "outputs": [],
   "source": [
    "regexp = re.compile(pattern)"
   ]
  },
  {
   "cell_type": "code",
   "execution_count": 22,
   "id": "caec197a",
   "metadata": {},
   "outputs": [
    {
     "name": "stdout",
     "output_type": "stream",
     "text": [
      "None\n"
     ]
    }
   ],
   "source": [
    "print(regexp.search('\"a\": 1'))"
   ]
  },
  {
   "cell_type": "code",
   "execution_count": 25,
   "id": "60a15ad3",
   "metadata": {},
   "outputs": [
    {
     "name": "stdout",
     "output_type": "stream",
     "text": [
      "<re.Match object; span=(4, 25), match='\"_type\"    :\\t \"point\"'>\n"
     ]
    }
   ],
   "source": [
    "print(regexp.search('    \"_type\"    :\\t \"point\"'))"
   ]
  },
  {
   "cell_type": "code",
   "execution_count": 27,
   "id": "2b7557d2",
   "metadata": {},
   "outputs": [
    {
     "data": {
      "text/plain": [
       "<re.Match object; span=(4, 25), match='\"_type\"    :\\t \"point\"'>"
      ]
     },
     "execution_count": 27,
     "metadata": {},
     "output_type": "execute_result"
    }
   ],
   "source": [
    "re.search(pattern, '    \"_type\"    :\\t \"point\"')"
   ]
  },
  {
   "cell_type": "code",
   "execution_count": 28,
   "id": "d034d0e1",
   "metadata": {},
   "outputs": [],
   "source": [
    "class CustomDecoder(json.JSONDecoder):\n",
    "    def decode(self, arg):\n",
    "        obj = json.loads(arg)\n",
    "        pattern = r'\"_type\"\\s*:\\s*\"point\"'\n",
    "        if re.search(pattern, arg):\n",
    "            obj = self.make_pts(obj)\n",
    "        return obj\n",
    "    \n",
    "    def make_pts(self, obj):\n",
    "        if isinstance(obj, dict):\n",
    "            if obj.get('_type', None) == 'point':\n",
    "                obj = Point(obj['x'], obj['y'])\n",
    "            else:\n",
    "                for key, value in obj.items():\n",
    "                    obj[key] = self.make_pts(value)\n",
    "        elif isinstance(obj, list):\n",
    "            for index, item in enumerate(obj):\n",
    "                obj[index] = self.make_pts(item)\n",
    "        return obj"
   ]
  },
  {
   "cell_type": "code",
   "execution_count": 29,
   "id": "b7cbb79c",
   "metadata": {},
   "outputs": [],
   "source": [
    "j = '''\n",
    "{\n",
    "    \"a\": 100,\n",
    "    \"b\": 0.5,\n",
    "    \"rectangle\": {\n",
    "        \"corners\": {\n",
    "            \"b_left\": {\"_type\": \"point\", \"x\": -1, \"y\": -1},\n",
    "            \"b_right\": {\"_type\": \"point\", \"x\": 1, \"y\": -1},\n",
    "            \"t_left\": {\"_type\": \"point\", \"x\": -1, \"y\": 1},\n",
    "            \"t_right\": {\"_type\": \"point\", \"x\": 1, \"y\": 1}\n",
    "        },\n",
    "        \"rotate\": {\"_type\" : \"point\", \"x\": 0, \"y\": 0},\n",
    "        \"interior_pts\": [\n",
    "            {\"_type\": \"point\", \"x\": 0, \"y\": 0},\n",
    "            {\"_type\": \"point\", \"x\": 0.5, \"y\": 0.5}\n",
    "        ]\n",
    "    }\n",
    "}\n",
    "'''"
   ]
  },
  {
   "cell_type": "code",
   "execution_count": 30,
   "id": "9341c1cb",
   "metadata": {},
   "outputs": [
    {
     "data": {
      "text/plain": [
       "{'a': 100,\n",
       " 'b': 0.5,\n",
       " 'rectangle': {'corners': {'b_left': {'_type': 'point', 'x': -1, 'y': -1},\n",
       "   'b_right': {'_type': 'point', 'x': 1, 'y': -1},\n",
       "   't_left': {'_type': 'point', 'x': -1, 'y': 1},\n",
       "   't_right': {'_type': 'point', 'x': 1, 'y': 1}},\n",
       "  'rotate': {'_type': 'point', 'x': 0, 'y': 0},\n",
       "  'interior_pts': [{'_type': 'point', 'x': 0, 'y': 0},\n",
       "   {'_type': 'point', 'x': 0.5, 'y': 0.5}]}}"
      ]
     },
     "execution_count": 30,
     "metadata": {},
     "output_type": "execute_result"
    }
   ],
   "source": [
    "json.loads(j)"
   ]
  },
  {
   "cell_type": "code",
   "execution_count": 31,
   "id": "417e6ec1",
   "metadata": {},
   "outputs": [
    {
     "name": "stdout",
     "output_type": "stream",
     "text": [
      "{'a': 100,\n",
      " 'b': 0.5,\n",
      " 'rectangle': {'corners': {'b_left': Point(x=-1, y=-1),\n",
      "                           'b_right': Point(x=1, y=-1),\n",
      "                           't_left': Point(x=-1, y=1),\n",
      "                           't_right': Point(x=1, y=1)},\n",
      "               'interior_pts': [Point(x=0, y=0), Point(x=0.5, y=0.5)],\n",
      "               'rotate': Point(x=0, y=0)}}\n"
     ]
    }
   ],
   "source": [
    "from pprint import pprint\n",
    "pprint(json.loads(j, cls=CustomDecoder))"
   ]
  },
  {
   "cell_type": "code",
   "execution_count": 32,
   "id": "5f853f1c",
   "metadata": {},
   "outputs": [],
   "source": [
    "from decimal import Decimal"
   ]
  },
  {
   "cell_type": "code",
   "execution_count": 33,
   "id": "efc68205",
   "metadata": {},
   "outputs": [],
   "source": [
    "CustomDecoder = json.JSONDecoder(parse_float=Decimal)"
   ]
  },
  {
   "cell_type": "code",
   "execution_count": 34,
   "id": "806a8753",
   "metadata": {},
   "outputs": [],
   "source": [
    "d = CustomDecoder.decode(j)"
   ]
  },
  {
   "cell_type": "code",
   "execution_count": 35,
   "id": "dcc06d50",
   "metadata": {},
   "outputs": [
    {
     "data": {
      "text/plain": [
       "{'a': 100,\n",
       " 'b': Decimal('0.5'),\n",
       " 'rectangle': {'corners': {'b_left': {'_type': 'point', 'x': -1, 'y': -1},\n",
       "   'b_right': {'_type': 'point', 'x': 1, 'y': -1},\n",
       "   't_left': {'_type': 'point', 'x': -1, 'y': 1},\n",
       "   't_right': {'_type': 'point', 'x': 1, 'y': 1}},\n",
       "  'rotate': {'_type': 'point', 'x': 0, 'y': 0},\n",
       "  'interior_pts': [{'_type': 'point', 'x': 0, 'y': 0},\n",
       "   {'_type': 'point', 'x': Decimal('0.5'), 'y': Decimal('0.5')}]}}"
      ]
     },
     "execution_count": 35,
     "metadata": {},
     "output_type": "execute_result"
    }
   ],
   "source": [
    "d"
   ]
  },
  {
   "cell_type": "code",
   "execution_count": 36,
   "id": "d2b57760",
   "metadata": {},
   "outputs": [
    {
     "name": "stdout",
     "output_type": "stream",
     "text": [
      "{'a': 100,\n",
      " 'b': Decimal('0.5'),\n",
      " 'rectangle': {'corners': {'b_left': {'_type': 'point', 'x': -1, 'y': -1},\n",
      "                           'b_right': {'_type': 'point', 'x': 1, 'y': -1},\n",
      "                           't_left': {'_type': 'point', 'x': -1, 'y': 1},\n",
      "                           't_right': {'_type': 'point', 'x': 1, 'y': 1}},\n",
      "               'interior_pts': [{'_type': 'point', 'x': 0, 'y': 0},\n",
      "                                {'_type': 'point',\n",
      "                                 'x': Decimal('0.5'),\n",
      "                                 'y': Decimal('0.5')}],\n",
      "               'rotate': {'_type': 'point', 'x': 0, 'y': 0}}}\n"
     ]
    }
   ],
   "source": [
    "pprint(d)"
   ]
  },
  {
   "cell_type": "code",
   "execution_count": 39,
   "id": "5ec64a92",
   "metadata": {},
   "outputs": [],
   "source": [
    "class CustomDecoder(json.JSONDecoder):\n",
    "    base_decoder = json.JSONDecoder(parse_float=Decimal)\n",
    "\n",
    "    def decode(self, arg):\n",
    "        obj = self.base_decoder.decode(arg)\n",
    "        pattern = r'\"_type\"\\s*:\\s*\"point\"'\n",
    "        if re.search(pattern, arg):\n",
    "            obj = self.make_pts(obj)\n",
    "        return obj\n",
    "\n",
    "    def make_pts(self, obj):\n",
    "        if isinstance(obj, dict):\n",
    "            if obj.get('_type', None) == 'point':\n",
    "                obj = Point(obj['x'], obj['y'])\n",
    "            else:\n",
    "                for key, value in obj.items():\n",
    "                    obj[key] = self.make_pts(value)\n",
    "        elif isinstance(obj, list):\n",
    "            for index, item in enumerate(obj):\n",
    "                obj[index] = self.make_pts(item)\n",
    "        return obj"
   ]
  },
  {
   "cell_type": "code",
   "execution_count": 40,
   "id": "c5f2a723",
   "metadata": {},
   "outputs": [
    {
     "name": "stdout",
     "output_type": "stream",
     "text": [
      "{'a': 100,\n",
      " 'b': Decimal('0.5'),\n",
      " 'rectangle': {'corners': {'b_left': Point(x=-1, y=-1),\n",
      "                           'b_right': Point(x=1, y=-1),\n",
      "                           't_left': Point(x=-1, y=1),\n",
      "                           't_right': Point(x=1, y=1)},\n",
      "               'interior_pts': [Point(x=0, y=0), Point(x=0.5, y=0.5)],\n",
      "               'rotate': Point(x=0, y=0)}}\n"
     ]
    }
   ],
   "source": [
    "pprint(json.loads(j, cls=CustomDecoder))"
   ]
  },
  {
   "cell_type": "code",
   "execution_count": 41,
   "id": "26293289",
   "metadata": {},
   "outputs": [],
   "source": [
    "result = json.loads(j, cls=CustomDecoder)"
   ]
  },
  {
   "cell_type": "code",
   "execution_count": 42,
   "id": "e81d20a5",
   "metadata": {},
   "outputs": [],
   "source": [
    "pt = result['rectangle']['interior_pts'][1]"
   ]
  },
  {
   "cell_type": "code",
   "execution_count": 43,
   "id": "401d033f",
   "metadata": {},
   "outputs": [
    {
     "data": {
      "text/plain": [
       "decimal.Decimal"
      ]
     },
     "execution_count": 43,
     "metadata": {},
     "output_type": "execute_result"
    }
   ],
   "source": [
    "type(pt.x)"
   ]
  },
  {
   "cell_type": "code",
   "execution_count": 44,
   "id": "4135584f",
   "metadata": {},
   "outputs": [],
   "source": [
    "class CustomDecoder(json.JSONDecoder):\n",
    "    def __init__(self, *args, **kwargs):\n",
    "        super().__init__(parse_float=Decimal)\n",
    "\n",
    "    def decode(self, arg):\n",
    "        obj = super().decode(arg)\n",
    "        pattern = r'\"_type\"\\s*:\\s*\"point\"'\n",
    "        if re.search(pattern, arg):\n",
    "            obj = self.make_pts(obj)\n",
    "        return obj\n",
    "\n",
    "    def make_pts(self, obj):\n",
    "        if isinstance(obj, dict):\n",
    "            if obj.get('_type', None) == 'point':\n",
    "                obj = Point(obj['x'], obj['y'])\n",
    "            else:\n",
    "                for key, value in obj.items():\n",
    "                    obj[key] = self.make_pts(value)\n",
    "        elif isinstance(obj, list):\n",
    "            for index, item in enumerate(obj):\n",
    "                obj[index] = self.make_pts(item)\n",
    "        return obj"
   ]
  },
  {
   "cell_type": "code",
   "execution_count": 45,
   "id": "93f7be3e",
   "metadata": {},
   "outputs": [],
   "source": [
    "result = json.loads(j, cls=CustomDecoder)"
   ]
  },
  {
   "cell_type": "code",
   "execution_count": 46,
   "id": "ac3f6671",
   "metadata": {},
   "outputs": [
    {
     "name": "stdout",
     "output_type": "stream",
     "text": [
      "{'a': 100,\n",
      " 'b': Decimal('0.5'),\n",
      " 'rectangle': {'corners': {'b_left': Point(x=-1, y=-1),\n",
      "                           'b_right': Point(x=1, y=-1),\n",
      "                           't_left': Point(x=-1, y=1),\n",
      "                           't_right': Point(x=1, y=1)},\n",
      "               'interior_pts': [Point(x=0, y=0), Point(x=0.5, y=0.5)],\n",
      "               'rotate': Point(x=0, y=0)}}\n"
     ]
    }
   ],
   "source": [
    "pprint(result)"
   ]
  },
  {
   "cell_type": "code",
   "execution_count": 47,
   "id": "b8cd2cf9",
   "metadata": {},
   "outputs": [],
   "source": [
    "pt = result['rectangle']['interior_pts'][1]"
   ]
  },
  {
   "cell_type": "code",
   "execution_count": 48,
   "id": "2adb1c27",
   "metadata": {},
   "outputs": [
    {
     "name": "stdout",
     "output_type": "stream",
     "text": [
      "<class 'decimal.Decimal'>\n"
     ]
    }
   ],
   "source": [
    "print(type(pt.y))"
   ]
  },
  {
   "cell_type": "code",
   "execution_count": null,
   "id": "1ced26c8",
   "metadata": {},
   "outputs": [],
   "source": []
  }
 ],
 "metadata": {
  "kernelspec": {
   "display_name": "Python 3",
   "language": "python",
   "name": "python3"
  },
  "language_info": {
   "codemirror_mode": {
    "name": "ipython",
    "version": 3
   },
   "file_extension": ".py",
   "mimetype": "text/x-python",
   "name": "python",
   "nbconvert_exporter": "python",
   "pygments_lexer": "ipython3",
   "version": "3.13.2"
  }
 },
 "nbformat": 4,
 "nbformat_minor": 5
}
