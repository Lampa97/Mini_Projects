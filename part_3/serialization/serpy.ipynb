{
 "cells": [
  {
   "cell_type": "code",
   "execution_count": 1,
   "id": "f587d161",
   "metadata": {},
   "outputs": [],
   "source": [
    "class Person:\n",
    "    def __init__(self, name, age):\n",
    "        self.name = name\n",
    "        self.age = age\n",
    "\n",
    "    def __repr__(self):\n",
    "        return f'Person(name={self.name}, age={self.age})'"
   ]
  },
  {
   "cell_type": "code",
   "execution_count": 2,
   "id": "273a0777",
   "metadata": {},
   "outputs": [],
   "source": [
    "import serpy"
   ]
  },
  {
   "cell_type": "code",
   "execution_count": 3,
   "id": "4a35004f",
   "metadata": {},
   "outputs": [],
   "source": [
    "class PersonSerializer(serpy.Serializer):\n",
    "    name = serpy.StrField()\n",
    "    age = serpy.IntField()"
   ]
  },
  {
   "cell_type": "code",
   "execution_count": 4,
   "id": "ba96c957",
   "metadata": {},
   "outputs": [],
   "source": [
    "p1 = Person('Michael Palin', 75)"
   ]
  },
  {
   "cell_type": "code",
   "execution_count": 6,
   "id": "169fef02",
   "metadata": {},
   "outputs": [
    {
     "data": {
      "text/plain": [
       "{'name': 'Michael Palin', 'age': 75}"
      ]
     },
     "execution_count": 6,
     "metadata": {},
     "output_type": "execute_result"
    }
   ],
   "source": [
    "PersonSerializer(p1).data"
   ]
  },
  {
   "cell_type": "code",
   "execution_count": 7,
   "id": "ffb6480a",
   "metadata": {},
   "outputs": [],
   "source": [
    "class Movie:\n",
    "    def __init__(self, title, year, actors):\n",
    "        self.title = title\n",
    "        self.year = year\n",
    "        self.actors = actors"
   ]
  },
  {
   "cell_type": "code",
   "execution_count": 8,
   "id": "c3df344b",
   "metadata": {},
   "outputs": [],
   "source": [
    "class MovieSerializer(serpy.Serializer):\n",
    "    title = serpy.StrField()\n",
    "    year = serpy.IntField()\n",
    "    actors = PersonSerializer(many=True)"
   ]
  },
  {
   "cell_type": "code",
   "execution_count": 9,
   "id": "030b80df",
   "metadata": {},
   "outputs": [],
   "source": [
    "p2 = Person('John Cleese', 79)"
   ]
  },
  {
   "cell_type": "code",
   "execution_count": 10,
   "id": "7b94cd77",
   "metadata": {},
   "outputs": [],
   "source": [
    "movie = Movie('Parrot Sketch', 1989, [p1,p2])"
   ]
  },
  {
   "cell_type": "code",
   "execution_count": 11,
   "id": "f9b128d2",
   "metadata": {},
   "outputs": [
    {
     "data": {
      "text/plain": [
       "('Parrot Sketch',\n",
       " 1989,\n",
       " [Person(name=Michael Palin, age=75), Person(name=John Cleese, age=79)])"
      ]
     },
     "execution_count": 11,
     "metadata": {},
     "output_type": "execute_result"
    }
   ],
   "source": [
    "movie.title, movie.year, movie.actors"
   ]
  },
  {
   "cell_type": "code",
   "execution_count": 13,
   "id": "da11a572",
   "metadata": {},
   "outputs": [
    {
     "data": {
      "text/plain": [
       "{'title': 'Parrot Sketch',\n",
       " 'year': 1989,\n",
       " 'actors': [{'name': 'Michael Palin', 'age': 75},\n",
       "  {'name': 'John Cleese', 'age': 79}]}"
      ]
     },
     "execution_count": 13,
     "metadata": {},
     "output_type": "execute_result"
    }
   ],
   "source": [
    "MovieSerializer(movie).data"
   ]
  },
  {
   "cell_type": "code",
   "execution_count": 14,
   "id": "bbe036b5",
   "metadata": {},
   "outputs": [],
   "source": [
    "import json\n",
    "import yaml"
   ]
  },
  {
   "cell_type": "code",
   "execution_count": 15,
   "id": "309c890e",
   "metadata": {},
   "outputs": [
    {
     "data": {
      "text/plain": [
       "'{\"title\": \"Parrot Sketch\", \"year\": 1989, \"actors\": [{\"name\": \"Michael Palin\", \"age\": 75}, {\"name\": \"John Cleese\", \"age\": 79}]}'"
      ]
     },
     "execution_count": 15,
     "metadata": {},
     "output_type": "execute_result"
    }
   ],
   "source": [
    "json.dumps(MovieSerializer(movie).data)"
   ]
  },
  {
   "cell_type": "code",
   "execution_count": 16,
   "id": "cc059388",
   "metadata": {},
   "outputs": [
    {
     "name": "stdout",
     "output_type": "stream",
     "text": [
      "actors:\n",
      "- age: 75\n",
      "  name: Michael Palin\n",
      "- age: 79\n",
      "  name: John Cleese\n",
      "title: Parrot Sketch\n",
      "year: 1989\n",
      "\n"
     ]
    }
   ],
   "source": [
    "print(yaml.dump(MovieSerializer(movie).data))"
   ]
  },
  {
   "cell_type": "code",
   "execution_count": null,
   "id": "9f78d41b",
   "metadata": {},
   "outputs": [],
   "source": []
  }
 ],
 "metadata": {
  "kernelspec": {
   "display_name": "Python 3",
   "language": "python",
   "name": "python3"
  },
  "language_info": {
   "codemirror_mode": {
    "name": "ipython",
    "version": 3
   },
   "file_extension": ".py",
   "mimetype": "text/x-python",
   "name": "python",
   "nbconvert_exporter": "python",
   "pygments_lexer": "ipython3",
   "version": "3.13.2"
  }
 },
 "nbformat": 4,
 "nbformat_minor": 5
}
