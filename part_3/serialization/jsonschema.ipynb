{
 "cells": [
  {
   "cell_type": "code",
   "execution_count": 1,
   "id": "4f7b9726",
   "metadata": {},
   "outputs": [],
   "source": [
    "person_schema = {\n",
    "    \"type\": \"object\",\n",
    "    \"properties\": {\n",
    "        \"firstName\": {\"type\": \"string\"},\n",
    "        \"middleInitial\": {\"type\": \"string\"},\n",
    "        \"lastName\": {\"type\": \"string\"},\n",
    "        \"age\": {\"type\": \"number\"}\n",
    "    }\n",
    "}"
   ]
  },
  {
   "cell_type": "code",
   "execution_count": 2,
   "id": "b43f5c0b",
   "metadata": {},
   "outputs": [],
   "source": [
    "p1 = '''\n",
    "{\n",
    "    \"firstName\": \"John\",\n",
    "    \"middleInitial\": \"M\",\n",
    "    \"lastName\": \"Cleese\",\n",
    "    \"age\": 79\n",
    "}\n",
    "'''"
   ]
  },
  {
   "cell_type": "code",
   "execution_count": 3,
   "id": "07afe3fe",
   "metadata": {},
   "outputs": [],
   "source": [
    "p2 = '''\n",
    "{\n",
    "    \"firstName\": \"John\",\n",
    "    \"middleInitial\": 100,\n",
    "    \"lastName\": \"Cleese\",\n",
    "    \"age\": \"Unknown\"\n",
    "}\n",
    "'''"
   ]
  },
  {
   "cell_type": "code",
   "execution_count": 4,
   "id": "86fe2cdb",
   "metadata": {},
   "outputs": [],
   "source": [
    "p3 = '''\n",
    "{\n",
    "    \"firstName\": \"John\",\n",
    "    \"age\": -10.5\n",
    "}\n",
    "'''"
   ]
  },
  {
   "cell_type": "code",
   "execution_count": 7,
   "id": "bce9473c",
   "metadata": {},
   "outputs": [],
   "source": [
    "person_schema = {\n",
    "    \"type\": \"object\",\n",
    "    \"properties\": {\n",
    "        \"firstName\": {\n",
    "            \"type\": \"string\",\n",
    "            \"minLength\": 1\n",
    "        },\n",
    "        \"middleInitial\": {\n",
    "            \"type\": \"string\",\n",
    "            \"minLength\": 1,\n",
    "            \"maxLength\": 1},\n",
    "        \"lastName\": {\n",
    "            \"type\": \"string\",\n",
    "            \"minLength\": 1,\n",
    "            },\n",
    "        \"age\": {\n",
    "            \"type\": \"integer\",\n",
    "            \"minimum\": 0\n",
    "            },\n",
    "        \"eyeColor\": {\n",
    "            \"type\": \"string\",\n",
    "            \"enum\": [\"amber\", \"blue\", \"brown\", \"grey\", \n",
    "                    \"green\", \"hazel\", \"violet\"]\n",
    "        }\n",
    "    },\n",
    "    \"required\": [\"firstName\", \"lastName\"]\n",
    "}"
   ]
  },
  {
   "cell_type": "code",
   "execution_count": 14,
   "id": "f19326fb",
   "metadata": {},
   "outputs": [],
   "source": [
    "from jsonschema import validate\n",
    "from jsonschema.exceptions import ValidationError\n",
    "from json import loads, dumps, JSONDecodeError"
   ]
  },
  {
   "cell_type": "code",
   "execution_count": 17,
   "id": "217831e6",
   "metadata": {},
   "outputs": [
    {
     "name": "stdout",
     "output_type": "stream",
     "text": [
      "\n",
      "{\n",
      "    \"firstName\": \"John\",\n",
      "    \"age\": -10.5\n",
      "}\n",
      "\n",
      "ValidationError: 'lastName' is a required property\n",
      "\n",
      "Failed validating 'required' in schema:\n",
      "    {'type': 'object',\n",
      "     'properties': {'firstName': {'type': 'string', 'minLength': 1},\n",
      "                    'middleInitial': {'type': 'string',\n",
      "                                      'minLength': 1,\n",
      "                                      'maxLength': 1},\n",
      "                    'lastName': {'type': 'string', 'minLength': 1},\n",
      "                    'age': {'type': 'integer', 'minimum': 0},\n",
      "                    'eyeColor': {'type': 'string',\n",
      "                                 'enum': ['amber',\n",
      "                                          'blue',\n",
      "                                          'brown',\n",
      "                                          'grey',\n",
      "                                          'green',\n",
      "                                          'hazel',\n",
      "                                          'violet']}},\n",
      "     'required': ['firstName', 'lastName']}\n",
      "\n",
      "On instance:\n",
      "    {'firstName': 'John', 'age': -10.5}\n"
     ]
    }
   ],
   "source": [
    "json_doc = p3\n",
    "\n",
    "print(json_doc)\n",
    "\n",
    "try:\n",
    "    validate(loads(json_doc), person_schema)\n",
    "except JSONDecodeError as ex:\n",
    "    print(f'Invalid JSON: {ex}')\n",
    "except ValidationError as ex:\n",
    "    print(f'ValidationError: {ex}')\n",
    "else:\n",
    "    print('JSON is valid and conforms to schema')\n"
   ]
  },
  {
   "cell_type": "code",
   "execution_count": 18,
   "id": "1a66082c",
   "metadata": {},
   "outputs": [],
   "source": [
    "from jsonschema import Draft4Validator\n",
    "\n",
    "validator = Draft4Validator(person_schema)"
   ]
  },
  {
   "cell_type": "code",
   "execution_count": 21,
   "id": "a2002176",
   "metadata": {},
   "outputs": [
    {
     "name": "stdout",
     "output_type": "stream",
     "text": [
      "-10.5 is not of type 'integer'\n",
      "\n",
      "Failed validating 'type' in schema['properties']['age']:\n",
      "    {'type': 'integer', 'minimum': 0}\n",
      "\n",
      "On instance['age']:\n",
      "    -10.5\n",
      "-----------------\n",
      "-10.5 is less than the minimum of 0\n",
      "\n",
      "Failed validating 'minimum' in schema['properties']['age']:\n",
      "    {'type': 'integer', 'minimum': 0}\n",
      "\n",
      "On instance['age']:\n",
      "    -10.5\n",
      "-----------------\n",
      "'lastName' is a required property\n",
      "\n",
      "Failed validating 'required' in schema:\n",
      "    {'type': 'object',\n",
      "     'properties': {'firstName': {'type': 'string', 'minLength': 1},\n",
      "                    'middleInitial': {'type': 'string',\n",
      "                                      'minLength': 1,\n",
      "                                      'maxLength': 1},\n",
      "                    'lastName': {'type': 'string', 'minLength': 1},\n",
      "                    'age': {'type': 'integer', 'minimum': 0},\n",
      "                    'eyeColor': {'type': 'string',\n",
      "                                 'enum': ['amber',\n",
      "                                          'blue',\n",
      "                                          'brown',\n",
      "                                          'grey',\n",
      "                                          'green',\n",
      "                                          'hazel',\n",
      "                                          'violet']}},\n",
      "     'required': ['firstName', 'lastName']}\n",
      "\n",
      "On instance:\n",
      "    {'firstName': 'John', 'age': -10.5}\n",
      "-----------------\n"
     ]
    }
   ],
   "source": [
    "json_doc = p3\n",
    "for error in validator.iter_errors(loads(json_doc)):\n",
    "    print(error, end='\\n-----------------\\n')"
   ]
  },
  {
   "cell_type": "code",
   "execution_count": 22,
   "id": "f1f7dc74",
   "metadata": {},
   "outputs": [],
   "source": [
    "p4 = '''{\n",
    "\"firstName\": \"John\",\n",
    "\"middleInitial\": null,\n",
    "\"lastName\": \"Cleese\",\n",
    "\"eyeColor\": \"blue-gray\"\n",
    "}'''"
   ]
  },
  {
   "cell_type": "code",
   "execution_count": 23,
   "id": "c4793ae2",
   "metadata": {},
   "outputs": [
    {
     "name": "stdout",
     "output_type": "stream",
     "text": [
      "None is not of type 'string'\n",
      "\n",
      "Failed validating 'type' in schema['properties']['middleInitial']:\n",
      "    {'type': 'string', 'minLength': 1, 'maxLength': 1}\n",
      "\n",
      "On instance['middleInitial']:\n",
      "    None\n",
      "-----------------\n",
      "'blue-gray' is not one of ['amber', 'blue', 'brown', 'grey', 'green', 'hazel', 'violet']\n",
      "\n",
      "Failed validating 'enum' in schema['properties']['eyeColor']:\n",
      "    {'type': 'string',\n",
      "     'enum': ['amber', 'blue', 'brown', 'grey', 'green', 'hazel', 'violet']}\n",
      "\n",
      "On instance['eyeColor']:\n",
      "    'blue-gray'\n",
      "-----------------\n"
     ]
    }
   ],
   "source": [
    "json_doc = p4\n",
    "for error in validator.iter_errors(loads(json_doc)):\n",
    "    print(error, end='\\n-----------------\\n')"
   ]
  },
  {
   "cell_type": "code",
   "execution_count": 24,
   "id": "20accdf6",
   "metadata": {},
   "outputs": [],
   "source": [
    "p4 = '''{\n",
    "\"firstName\": \"John\",\n",
    "\"lastName\": \"Cleese\",\n",
    "\"eyeColor\": \"blue\"\n",
    "}'''"
   ]
  },
  {
   "cell_type": "code",
   "execution_count": 25,
   "id": "6a933232",
   "metadata": {},
   "outputs": [],
   "source": [
    "json_doc = p4\n",
    "for error in validator.iter_errors(loads(json_doc)):\n",
    "    print(error, end='\\n-----------------\\n')"
   ]
  },
  {
   "cell_type": "code",
   "execution_count": null,
   "id": "8dfdf53a",
   "metadata": {},
   "outputs": [],
   "source": []
  }
 ],
 "metadata": {
  "kernelspec": {
   "display_name": "Python 3",
   "language": "python",
   "name": "python3"
  },
  "language_info": {
   "codemirror_mode": {
    "name": "ipython",
    "version": 3
   },
   "file_extension": ".py",
   "mimetype": "text/x-python",
   "name": "python",
   "nbconvert_exporter": "python",
   "pygments_lexer": "ipython3",
   "version": "3.13.2"
  }
 },
 "nbformat": 4,
 "nbformat_minor": 5
}
