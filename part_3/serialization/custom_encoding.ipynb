{
 "cells": [
  {
   "cell_type": "code",
   "execution_count": 19,
   "id": "99091efe",
   "metadata": {},
   "outputs": [],
   "source": [
    "from datetime import datetime"
   ]
  },
  {
   "cell_type": "code",
   "execution_count": 20,
   "id": "d8357bdd",
   "metadata": {},
   "outputs": [
    {
     "name": "stderr",
     "output_type": "stream",
     "text": [
      "C:\\Users\\CASPER\\AppData\\Local\\Temp\\ipykernel_21160\\1340702492.py:1: DeprecationWarning: datetime.datetime.utcnow() is deprecated and scheduled for removal in a future version. Use timezone-aware objects to represent datetimes in UTC: datetime.datetime.now(datetime.UTC).\n",
      "  current = datetime.utcnow()\n"
     ]
    }
   ],
   "source": [
    "current = datetime.utcnow()"
   ]
  },
  {
   "cell_type": "code",
   "execution_count": 21,
   "id": "e859e82d",
   "metadata": {},
   "outputs": [
    {
     "data": {
      "text/plain": [
       "datetime.datetime(2025, 9, 25, 8, 0, 30, 72412)"
      ]
     },
     "execution_count": 21,
     "metadata": {},
     "output_type": "execute_result"
    }
   ],
   "source": [
    "current"
   ]
  },
  {
   "cell_type": "code",
   "execution_count": 22,
   "id": "47d5dd50",
   "metadata": {},
   "outputs": [],
   "source": [
    "import json"
   ]
  },
  {
   "cell_type": "code",
   "execution_count": 23,
   "id": "84f3d320",
   "metadata": {},
   "outputs": [
    {
     "ename": "TypeError",
     "evalue": "Object of type datetime is not JSON serializable",
     "output_type": "error",
     "traceback": [
      "\u001b[31m---------------------------------------------------------------------------\u001b[39m",
      "\u001b[31mTypeError\u001b[39m                                 Traceback (most recent call last)",
      "\u001b[36mCell\u001b[39m\u001b[36m \u001b[39m\u001b[32mIn[23]\u001b[39m\u001b[32m, line 1\u001b[39m\n\u001b[32m----> \u001b[39m\u001b[32m1\u001b[39m \u001b[43mjson\u001b[49m\u001b[43m.\u001b[49m\u001b[43mdumps\u001b[49m\u001b[43m(\u001b[49m\u001b[43mcurrent\u001b[49m\u001b[43m)\u001b[49m\n",
      "\u001b[36mFile \u001b[39m\u001b[32mc:\\Users\\CASPER\\AppData\\Local\\Programs\\Python\\Python313\\Lib\\json\\__init__.py:231\u001b[39m, in \u001b[36mdumps\u001b[39m\u001b[34m(obj, skipkeys, ensure_ascii, check_circular, allow_nan, cls, indent, separators, default, sort_keys, **kw)\u001b[39m\n\u001b[32m    226\u001b[39m \u001b[38;5;66;03m# cached encoder\u001b[39;00m\n\u001b[32m    227\u001b[39m \u001b[38;5;28;01mif\u001b[39;00m (\u001b[38;5;129;01mnot\u001b[39;00m skipkeys \u001b[38;5;129;01mand\u001b[39;00m ensure_ascii \u001b[38;5;129;01mand\u001b[39;00m\n\u001b[32m    228\u001b[39m     check_circular \u001b[38;5;129;01mand\u001b[39;00m allow_nan \u001b[38;5;129;01mand\u001b[39;00m\n\u001b[32m    229\u001b[39m     \u001b[38;5;28mcls\u001b[39m \u001b[38;5;129;01mis\u001b[39;00m \u001b[38;5;28;01mNone\u001b[39;00m \u001b[38;5;129;01mand\u001b[39;00m indent \u001b[38;5;129;01mis\u001b[39;00m \u001b[38;5;28;01mNone\u001b[39;00m \u001b[38;5;129;01mand\u001b[39;00m separators \u001b[38;5;129;01mis\u001b[39;00m \u001b[38;5;28;01mNone\u001b[39;00m \u001b[38;5;129;01mand\u001b[39;00m\n\u001b[32m    230\u001b[39m     default \u001b[38;5;129;01mis\u001b[39;00m \u001b[38;5;28;01mNone\u001b[39;00m \u001b[38;5;129;01mand\u001b[39;00m \u001b[38;5;129;01mnot\u001b[39;00m sort_keys \u001b[38;5;129;01mand\u001b[39;00m \u001b[38;5;129;01mnot\u001b[39;00m kw):\n\u001b[32m--> \u001b[39m\u001b[32m231\u001b[39m     \u001b[38;5;28;01mreturn\u001b[39;00m \u001b[43m_default_encoder\u001b[49m\u001b[43m.\u001b[49m\u001b[43mencode\u001b[49m\u001b[43m(\u001b[49m\u001b[43mobj\u001b[49m\u001b[43m)\u001b[49m\n\u001b[32m    232\u001b[39m \u001b[38;5;28;01mif\u001b[39;00m \u001b[38;5;28mcls\u001b[39m \u001b[38;5;129;01mis\u001b[39;00m \u001b[38;5;28;01mNone\u001b[39;00m:\n\u001b[32m    233\u001b[39m     \u001b[38;5;28mcls\u001b[39m = JSONEncoder\n",
      "\u001b[36mFile \u001b[39m\u001b[32mc:\\Users\\CASPER\\AppData\\Local\\Programs\\Python\\Python313\\Lib\\json\\encoder.py:200\u001b[39m, in \u001b[36mJSONEncoder.encode\u001b[39m\u001b[34m(self, o)\u001b[39m\n\u001b[32m    196\u001b[39m         \u001b[38;5;28;01mreturn\u001b[39;00m encode_basestring(o)\n\u001b[32m    197\u001b[39m \u001b[38;5;66;03m# This doesn't pass the iterator directly to ''.join() because the\u001b[39;00m\n\u001b[32m    198\u001b[39m \u001b[38;5;66;03m# exceptions aren't as detailed.  The list call should be roughly\u001b[39;00m\n\u001b[32m    199\u001b[39m \u001b[38;5;66;03m# equivalent to the PySequence_Fast that ''.join() would do.\u001b[39;00m\n\u001b[32m--> \u001b[39m\u001b[32m200\u001b[39m chunks = \u001b[38;5;28;43mself\u001b[39;49m\u001b[43m.\u001b[49m\u001b[43miterencode\u001b[49m\u001b[43m(\u001b[49m\u001b[43mo\u001b[49m\u001b[43m,\u001b[49m\u001b[43m \u001b[49m\u001b[43m_one_shot\u001b[49m\u001b[43m=\u001b[49m\u001b[38;5;28;43;01mTrue\u001b[39;49;00m\u001b[43m)\u001b[49m\n\u001b[32m    201\u001b[39m \u001b[38;5;28;01mif\u001b[39;00m \u001b[38;5;129;01mnot\u001b[39;00m \u001b[38;5;28misinstance\u001b[39m(chunks, (\u001b[38;5;28mlist\u001b[39m, \u001b[38;5;28mtuple\u001b[39m)):\n\u001b[32m    202\u001b[39m     chunks = \u001b[38;5;28mlist\u001b[39m(chunks)\n",
      "\u001b[36mFile \u001b[39m\u001b[32mc:\\Users\\CASPER\\AppData\\Local\\Programs\\Python\\Python313\\Lib\\json\\encoder.py:261\u001b[39m, in \u001b[36mJSONEncoder.iterencode\u001b[39m\u001b[34m(self, o, _one_shot)\u001b[39m\n\u001b[32m    256\u001b[39m \u001b[38;5;28;01melse\u001b[39;00m:\n\u001b[32m    257\u001b[39m     _iterencode = _make_iterencode(\n\u001b[32m    258\u001b[39m         markers, \u001b[38;5;28mself\u001b[39m.default, _encoder, indent, floatstr,\n\u001b[32m    259\u001b[39m         \u001b[38;5;28mself\u001b[39m.key_separator, \u001b[38;5;28mself\u001b[39m.item_separator, \u001b[38;5;28mself\u001b[39m.sort_keys,\n\u001b[32m    260\u001b[39m         \u001b[38;5;28mself\u001b[39m.skipkeys, _one_shot)\n\u001b[32m--> \u001b[39m\u001b[32m261\u001b[39m \u001b[38;5;28;01mreturn\u001b[39;00m \u001b[43m_iterencode\u001b[49m\u001b[43m(\u001b[49m\u001b[43mo\u001b[49m\u001b[43m,\u001b[49m\u001b[43m \u001b[49m\u001b[32;43m0\u001b[39;49m\u001b[43m)\u001b[49m\n",
      "\u001b[36mFile \u001b[39m\u001b[32mc:\\Users\\CASPER\\AppData\\Local\\Programs\\Python\\Python313\\Lib\\json\\encoder.py:180\u001b[39m, in \u001b[36mJSONEncoder.default\u001b[39m\u001b[34m(self, o)\u001b[39m\n\u001b[32m    161\u001b[39m \u001b[38;5;28;01mdef\u001b[39;00m\u001b[38;5;250m \u001b[39m\u001b[34mdefault\u001b[39m(\u001b[38;5;28mself\u001b[39m, o):\n\u001b[32m    162\u001b[39m \u001b[38;5;250m    \u001b[39m\u001b[33;03m\"\"\"Implement this method in a subclass such that it returns\u001b[39;00m\n\u001b[32m    163\u001b[39m \u001b[33;03m    a serializable object for ``o``, or calls the base implementation\u001b[39;00m\n\u001b[32m    164\u001b[39m \u001b[33;03m    (to raise a ``TypeError``).\u001b[39;00m\n\u001b[32m   (...)\u001b[39m\u001b[32m    178\u001b[39m \n\u001b[32m    179\u001b[39m \u001b[33;03m    \"\"\"\u001b[39;00m\n\u001b[32m--> \u001b[39m\u001b[32m180\u001b[39m     \u001b[38;5;28;01mraise\u001b[39;00m \u001b[38;5;167;01mTypeError\u001b[39;00m(\u001b[33mf\u001b[39m\u001b[33m'\u001b[39m\u001b[33mObject of type \u001b[39m\u001b[38;5;132;01m{\u001b[39;00mo.\u001b[34m__class__\u001b[39m.\u001b[34m__name__\u001b[39m\u001b[38;5;132;01m}\u001b[39;00m\u001b[33m \u001b[39m\u001b[33m'\u001b[39m\n\u001b[32m    181\u001b[39m                     \u001b[33mf\u001b[39m\u001b[33m'\u001b[39m\u001b[33mis not JSON serializable\u001b[39m\u001b[33m'\u001b[39m)\n",
      "\u001b[31mTypeError\u001b[39m: Object of type datetime is not JSON serializable"
     ]
    }
   ],
   "source": [
    "json.dumps(current)"
   ]
  },
  {
   "cell_type": "code",
   "execution_count": 24,
   "id": "4003e688",
   "metadata": {},
   "outputs": [
    {
     "data": {
      "text/plain": [
       "'2025-09-25 08:00:30.072412'"
      ]
     },
     "execution_count": 24,
     "metadata": {},
     "output_type": "execute_result"
    }
   ],
   "source": [
    "str(current)"
   ]
  },
  {
   "cell_type": "code",
   "execution_count": 25,
   "id": "982ee6d8",
   "metadata": {},
   "outputs": [],
   "source": [
    "def format_iso(dt):\n",
    "    return dt.strftime('%Y-%m-%dT%H:%M:%S')"
   ]
  },
  {
   "cell_type": "code",
   "execution_count": 26,
   "id": "f1fcb9fb",
   "metadata": {},
   "outputs": [
    {
     "data": {
      "text/plain": [
       "'2025-09-25T08:00:30'"
      ]
     },
     "execution_count": 26,
     "metadata": {},
     "output_type": "execute_result"
    }
   ],
   "source": [
    "format_iso(current)"
   ]
  },
  {
   "cell_type": "code",
   "execution_count": 27,
   "id": "8508139b",
   "metadata": {},
   "outputs": [
    {
     "data": {
      "text/plain": [
       "'2025-09-25T08:00:30.072412'"
      ]
     },
     "execution_count": 27,
     "metadata": {},
     "output_type": "execute_result"
    }
   ],
   "source": [
    "current.isoformat()"
   ]
  },
  {
   "cell_type": "code",
   "execution_count": 28,
   "id": "dfbea6b2",
   "metadata": {},
   "outputs": [
    {
     "name": "stderr",
     "output_type": "stream",
     "text": [
      "C:\\Users\\CASPER\\AppData\\Local\\Temp\\ipykernel_21160\\326839033.py:1: DeprecationWarning: datetime.datetime.utcnow() is deprecated and scheduled for removal in a future version. Use timezone-aware objects to represent datetimes in UTC: datetime.datetime.now(datetime.UTC).\n",
      "  log_record = {'time': datetime.utcnow().isoformat(),\n"
     ]
    }
   ],
   "source": [
    "log_record = {'time': datetime.utcnow().isoformat(),\n",
    "'message': 'testing'}"
   ]
  },
  {
   "cell_type": "code",
   "execution_count": 29,
   "id": "24384f75",
   "metadata": {},
   "outputs": [
    {
     "name": "stdout",
     "output_type": "stream",
     "text": [
      "{\n",
      "  \"time\": \"2025-09-25T08:00:33.213117\",\n",
      "  \"message\": \"testing\"\n",
      "}\n"
     ]
    }
   ],
   "source": [
    "print(json.dumps(log_record, indent=2))"
   ]
  },
  {
   "cell_type": "code",
   "execution_count": 30,
   "id": "ca863025",
   "metadata": {},
   "outputs": [
    {
     "name": "stderr",
     "output_type": "stream",
     "text": [
      "C:\\Users\\CASPER\\AppData\\Local\\Temp\\ipykernel_21160\\300497183.py:1: DeprecationWarning: datetime.datetime.utcnow() is deprecated and scheduled for removal in a future version. Use timezone-aware objects to represent datetimes in UTC: datetime.datetime.now(datetime.UTC).\n",
      "  log_record = {'time': datetime.utcnow(),\n"
     ]
    }
   ],
   "source": [
    "log_record = {'time': datetime.utcnow(),\n",
    "'message': 'testing'}\n"
   ]
  },
  {
   "cell_type": "code",
   "execution_count": 31,
   "id": "9f5116f9",
   "metadata": {},
   "outputs": [
    {
     "data": {
      "text/plain": [
       "'{\"time\": \"2025-09-25T08:00:34\", \"message\": \"testing\"}'"
      ]
     },
     "execution_count": 31,
     "metadata": {},
     "output_type": "execute_result"
    }
   ],
   "source": [
    "json.dumps(log_record, default=format_iso)"
   ]
  },
  {
   "cell_type": "code",
   "execution_count": 32,
   "id": "5ae80de4",
   "metadata": {},
   "outputs": [],
   "source": [
    "def format_general(arg):\n",
    "    return 'Unknown serialization'"
   ]
  },
  {
   "cell_type": "code",
   "execution_count": 33,
   "id": "83bff3de",
   "metadata": {},
   "outputs": [
    {
     "data": {
      "text/plain": [
       "'{\"time\": \"Unknown serialization\", \"message\": \"testing\"}'"
      ]
     },
     "execution_count": 33,
     "metadata": {},
     "output_type": "execute_result"
    }
   ],
   "source": [
    "json.dumps(log_record, default=format_general)"
   ]
  },
  {
   "cell_type": "code",
   "execution_count": 34,
   "id": "f1d1ec00",
   "metadata": {},
   "outputs": [
    {
     "name": "stderr",
     "output_type": "stream",
     "text": [
      "C:\\Users\\CASPER\\AppData\\Local\\Temp\\ipykernel_21160\\1496601778.py:1: DeprecationWarning: datetime.datetime.utcnow() is deprecated and scheduled for removal in a future version. Use timezone-aware objects to represent datetimes in UTC: datetime.datetime.now(datetime.UTC).\n",
      "  log_record = {'time': datetime.utcnow(),\n"
     ]
    }
   ],
   "source": [
    "log_record = {'time': datetime.utcnow(),\n",
    "'message': 'testing',\n",
    "'args': {10, 'test'}}"
   ]
  },
  {
   "cell_type": "code",
   "execution_count": 35,
   "id": "fe5abbd3",
   "metadata": {},
   "outputs": [
    {
     "data": {
      "text/plain": [
       "'{\"time\": \"Unknown serialization\", \"message\": \"testing\", \"args\": \"Unknown serialization\"}'"
      ]
     },
     "execution_count": 35,
     "metadata": {},
     "output_type": "execute_result"
    }
   ],
   "source": [
    "json.dumps(log_record, default=format_general)"
   ]
  },
  {
   "cell_type": "code",
   "execution_count": 36,
   "id": "f6af14ce",
   "metadata": {},
   "outputs": [
    {
     "name": "stderr",
     "output_type": "stream",
     "text": [
      "C:\\Users\\CASPER\\AppData\\Local\\Temp\\ipykernel_21160\\4261154105.py:2: DeprecationWarning: datetime.datetime.utcnow() is deprecated and scheduled for removal in a future version. Use timezone-aware objects to represent datetimes in UTC: datetime.datetime.now(datetime.UTC).\n",
      "  'time1': datetime.utcnow(),\n",
      "C:\\Users\\CASPER\\AppData\\Local\\Temp\\ipykernel_21160\\4261154105.py:3: DeprecationWarning: datetime.datetime.utcnow() is deprecated and scheduled for removal in a future version. Use timezone-aware objects to represent datetimes in UTC: datetime.datetime.now(datetime.UTC).\n",
      "  'time2': datetime.utcnow(),\n"
     ]
    }
   ],
   "source": [
    "log_record = {\n",
    "'time1': datetime.utcnow(),\n",
    "'time2': datetime.utcnow(),\n",
    "'message': 'testing',\n",
    "'args': {10, 'test'}\n",
    "}"
   ]
  },
  {
   "cell_type": "code",
   "execution_count": 37,
   "id": "58740bba",
   "metadata": {},
   "outputs": [
    {
     "ename": "AttributeError",
     "evalue": "'set' object has no attribute 'strftime'",
     "output_type": "error",
     "traceback": [
      "\u001b[31m---------------------------------------------------------------------------\u001b[39m",
      "\u001b[31mAttributeError\u001b[39m                            Traceback (most recent call last)",
      "\u001b[36mCell\u001b[39m\u001b[36m \u001b[39m\u001b[32mIn[37]\u001b[39m\u001b[32m, line 1\u001b[39m\n\u001b[32m----> \u001b[39m\u001b[32m1\u001b[39m \u001b[43mjson\u001b[49m\u001b[43m.\u001b[49m\u001b[43mdumps\u001b[49m\u001b[43m(\u001b[49m\u001b[43mlog_record\u001b[49m\u001b[43m,\u001b[49m\u001b[43m \u001b[49m\u001b[43mdefault\u001b[49m\u001b[43m=\u001b[49m\u001b[43mformat_iso\u001b[49m\u001b[43m)\u001b[49m\n",
      "\u001b[36mFile \u001b[39m\u001b[32mc:\\Users\\CASPER\\AppData\\Local\\Programs\\Python\\Python313\\Lib\\json\\__init__.py:238\u001b[39m, in \u001b[36mdumps\u001b[39m\u001b[34m(obj, skipkeys, ensure_ascii, check_circular, allow_nan, cls, indent, separators, default, sort_keys, **kw)\u001b[39m\n\u001b[32m    232\u001b[39m \u001b[38;5;28;01mif\u001b[39;00m \u001b[38;5;28mcls\u001b[39m \u001b[38;5;129;01mis\u001b[39;00m \u001b[38;5;28;01mNone\u001b[39;00m:\n\u001b[32m    233\u001b[39m     \u001b[38;5;28mcls\u001b[39m = JSONEncoder\n\u001b[32m    234\u001b[39m \u001b[38;5;28;01mreturn\u001b[39;00m \u001b[38;5;28;43mcls\u001b[39;49m\u001b[43m(\u001b[49m\n\u001b[32m    235\u001b[39m \u001b[43m    \u001b[49m\u001b[43mskipkeys\u001b[49m\u001b[43m=\u001b[49m\u001b[43mskipkeys\u001b[49m\u001b[43m,\u001b[49m\u001b[43m \u001b[49m\u001b[43mensure_ascii\u001b[49m\u001b[43m=\u001b[49m\u001b[43mensure_ascii\u001b[49m\u001b[43m,\u001b[49m\n\u001b[32m    236\u001b[39m \u001b[43m    \u001b[49m\u001b[43mcheck_circular\u001b[49m\u001b[43m=\u001b[49m\u001b[43mcheck_circular\u001b[49m\u001b[43m,\u001b[49m\u001b[43m \u001b[49m\u001b[43mallow_nan\u001b[49m\u001b[43m=\u001b[49m\u001b[43mallow_nan\u001b[49m\u001b[43m,\u001b[49m\u001b[43m \u001b[49m\u001b[43mindent\u001b[49m\u001b[43m=\u001b[49m\u001b[43mindent\u001b[49m\u001b[43m,\u001b[49m\n\u001b[32m    237\u001b[39m \u001b[43m    \u001b[49m\u001b[43mseparators\u001b[49m\u001b[43m=\u001b[49m\u001b[43mseparators\u001b[49m\u001b[43m,\u001b[49m\u001b[43m \u001b[49m\u001b[43mdefault\u001b[49m\u001b[43m=\u001b[49m\u001b[43mdefault\u001b[49m\u001b[43m,\u001b[49m\u001b[43m \u001b[49m\u001b[43msort_keys\u001b[49m\u001b[43m=\u001b[49m\u001b[43msort_keys\u001b[49m\u001b[43m,\u001b[49m\n\u001b[32m--> \u001b[39m\u001b[32m238\u001b[39m \u001b[43m    \u001b[49m\u001b[43m*\u001b[49m\u001b[43m*\u001b[49m\u001b[43mkw\u001b[49m\u001b[43m)\u001b[49m\u001b[43m.\u001b[49m\u001b[43mencode\u001b[49m\u001b[43m(\u001b[49m\u001b[43mobj\u001b[49m\u001b[43m)\u001b[49m\n",
      "\u001b[36mFile \u001b[39m\u001b[32mc:\\Users\\CASPER\\AppData\\Local\\Programs\\Python\\Python313\\Lib\\json\\encoder.py:200\u001b[39m, in \u001b[36mJSONEncoder.encode\u001b[39m\u001b[34m(self, o)\u001b[39m\n\u001b[32m    196\u001b[39m         \u001b[38;5;28;01mreturn\u001b[39;00m encode_basestring(o)\n\u001b[32m    197\u001b[39m \u001b[38;5;66;03m# This doesn't pass the iterator directly to ''.join() because the\u001b[39;00m\n\u001b[32m    198\u001b[39m \u001b[38;5;66;03m# exceptions aren't as detailed.  The list call should be roughly\u001b[39;00m\n\u001b[32m    199\u001b[39m \u001b[38;5;66;03m# equivalent to the PySequence_Fast that ''.join() would do.\u001b[39;00m\n\u001b[32m--> \u001b[39m\u001b[32m200\u001b[39m chunks = \u001b[38;5;28;43mself\u001b[39;49m\u001b[43m.\u001b[49m\u001b[43miterencode\u001b[49m\u001b[43m(\u001b[49m\u001b[43mo\u001b[49m\u001b[43m,\u001b[49m\u001b[43m \u001b[49m\u001b[43m_one_shot\u001b[49m\u001b[43m=\u001b[49m\u001b[38;5;28;43;01mTrue\u001b[39;49;00m\u001b[43m)\u001b[49m\n\u001b[32m    201\u001b[39m \u001b[38;5;28;01mif\u001b[39;00m \u001b[38;5;129;01mnot\u001b[39;00m \u001b[38;5;28misinstance\u001b[39m(chunks, (\u001b[38;5;28mlist\u001b[39m, \u001b[38;5;28mtuple\u001b[39m)):\n\u001b[32m    202\u001b[39m     chunks = \u001b[38;5;28mlist\u001b[39m(chunks)\n",
      "\u001b[36mFile \u001b[39m\u001b[32mc:\\Users\\CASPER\\AppData\\Local\\Programs\\Python\\Python313\\Lib\\json\\encoder.py:261\u001b[39m, in \u001b[36mJSONEncoder.iterencode\u001b[39m\u001b[34m(self, o, _one_shot)\u001b[39m\n\u001b[32m    256\u001b[39m \u001b[38;5;28;01melse\u001b[39;00m:\n\u001b[32m    257\u001b[39m     _iterencode = _make_iterencode(\n\u001b[32m    258\u001b[39m         markers, \u001b[38;5;28mself\u001b[39m.default, _encoder, indent, floatstr,\n\u001b[32m    259\u001b[39m         \u001b[38;5;28mself\u001b[39m.key_separator, \u001b[38;5;28mself\u001b[39m.item_separator, \u001b[38;5;28mself\u001b[39m.sort_keys,\n\u001b[32m    260\u001b[39m         \u001b[38;5;28mself\u001b[39m.skipkeys, _one_shot)\n\u001b[32m--> \u001b[39m\u001b[32m261\u001b[39m \u001b[38;5;28;01mreturn\u001b[39;00m \u001b[43m_iterencode\u001b[49m\u001b[43m(\u001b[49m\u001b[43mo\u001b[49m\u001b[43m,\u001b[49m\u001b[43m \u001b[49m\u001b[32;43m0\u001b[39;49m\u001b[43m)\u001b[49m\n",
      "\u001b[36mCell\u001b[39m\u001b[36m \u001b[39m\u001b[32mIn[25]\u001b[39m\u001b[32m, line 2\u001b[39m, in \u001b[36mformat_iso\u001b[39m\u001b[34m(dt)\u001b[39m\n\u001b[32m      1\u001b[39m \u001b[38;5;28;01mdef\u001b[39;00m\u001b[38;5;250m \u001b[39m\u001b[34mformat_iso\u001b[39m(dt):\n\u001b[32m----> \u001b[39m\u001b[32m2\u001b[39m     \u001b[38;5;28;01mreturn\u001b[39;00m \u001b[43mdt\u001b[49m\u001b[43m.\u001b[49m\u001b[43mstrftime\u001b[49m(\u001b[33m'\u001b[39m\u001b[33m%\u001b[39m\u001b[33mY-\u001b[39m\u001b[33m%\u001b[39m\u001b[33mm-\u001b[39m\u001b[38;5;132;01m%d\u001b[39;00m\u001b[33mT\u001b[39m\u001b[33m%\u001b[39m\u001b[33mH:\u001b[39m\u001b[33m%\u001b[39m\u001b[33mM:\u001b[39m\u001b[33m%\u001b[39m\u001b[33mS\u001b[39m\u001b[33m'\u001b[39m)\n",
      "\u001b[31mAttributeError\u001b[39m: 'set' object has no attribute 'strftime'"
     ]
    }
   ],
   "source": [
    "json.dumps(log_record, default=format_iso)"
   ]
  },
  {
   "cell_type": "code",
   "execution_count": 38,
   "id": "2c708226",
   "metadata": {},
   "outputs": [],
   "source": [
    "def custom_json_formater(arg):\n",
    "    if isinstance(arg, datetime):\n",
    "        return arg.isoformat()\n",
    "    elif isinstance(arg, set):\n",
    "        return list(arg)"
   ]
  },
  {
   "cell_type": "code",
   "execution_count": 39,
   "id": "518a9cfa",
   "metadata": {},
   "outputs": [
    {
     "data": {
      "text/plain": [
       "'{\"time1\": \"2025-09-25T08:00:35.681789\", \"time2\": \"2025-09-25T08:00:35.681857\", \"message\": \"testing\", \"args\": [10, \"test\"]}'"
      ]
     },
     "execution_count": 39,
     "metadata": {},
     "output_type": "execute_result"
    }
   ],
   "source": [
    "json.dumps(log_record, default=custom_json_formater)"
   ]
  },
  {
   "cell_type": "code",
   "execution_count": 40,
   "id": "01d5b265",
   "metadata": {},
   "outputs": [],
   "source": [
    "class Person:\n",
    "    def __init__(self, name, age):\n",
    "        self.name = name\n",
    "        self.age = age\n",
    "        self.create_dt = datetime.utcnow()\n",
    "\n",
    "    def __repr__(self):\n",
    "        return f'Person(name={self.name}, age={self.age})'\n",
    "\n",
    "    def toJSON(self):\n",
    "        return {\n",
    "            'name': self.name,\n",
    "            'age': self.age,\n",
    "            'create_dt': self.create_dt.isoformat()\n",
    "        }"
   ]
  },
  {
   "cell_type": "code",
   "execution_count": 41,
   "id": "0364847b",
   "metadata": {},
   "outputs": [
    {
     "name": "stdout",
     "output_type": "stream",
     "text": [
      "Person(name=John, age=82)\n"
     ]
    },
    {
     "name": "stderr",
     "output_type": "stream",
     "text": [
      "C:\\Users\\CASPER\\AppData\\Local\\Temp\\ipykernel_21160\\3707894813.py:5: DeprecationWarning: datetime.datetime.utcnow() is deprecated and scheduled for removal in a future version. Use timezone-aware objects to represent datetimes in UTC: datetime.datetime.now(datetime.UTC).\n",
      "  self.create_dt = datetime.utcnow()\n"
     ]
    }
   ],
   "source": [
    "p = Person('John', 82)\n",
    "print(p)"
   ]
  },
  {
   "cell_type": "markdown",
   "id": "21947e74",
   "metadata": {},
   "source": []
  },
  {
   "cell_type": "code",
   "execution_count": 42,
   "id": "9e411a01",
   "metadata": {},
   "outputs": [
    {
     "data": {
      "text/plain": [
       "{'name': 'John', 'age': 82, 'create_dt': '2025-09-25T08:00:36.952525'}"
      ]
     },
     "execution_count": 42,
     "metadata": {},
     "output_type": "execute_result"
    }
   ],
   "source": [
    "p.toJSON()"
   ]
  },
  {
   "cell_type": "code",
   "execution_count": 43,
   "id": "cff98820",
   "metadata": {},
   "outputs": [
    {
     "name": "stderr",
     "output_type": "stream",
     "text": [
      "C:\\Users\\CASPER\\AppData\\Local\\Temp\\ipykernel_21160\\1848547694.py:1: DeprecationWarning: datetime.datetime.utcnow() is deprecated and scheduled for removal in a future version. Use timezone-aware objects to represent datetimes in UTC: datetime.datetime.now(datetime.UTC).\n",
      "  log_record = dict(time=datetime.utcnow(),\n"
     ]
    }
   ],
   "source": [
    "log_record = dict(time=datetime.utcnow(),\n",
    "message='person created',\n",
    "person=p)"
   ]
  },
  {
   "cell_type": "code",
   "execution_count": 44,
   "id": "4afc0565",
   "metadata": {},
   "outputs": [
    {
     "data": {
      "text/plain": [
       "{'time': datetime.datetime(2025, 9, 25, 8, 0, 37, 844114),\n",
       " 'message': 'person created',\n",
       " 'person': Person(name=John, age=82)}"
      ]
     },
     "execution_count": 44,
     "metadata": {},
     "output_type": "execute_result"
    }
   ],
   "source": [
    "log_record"
   ]
  },
  {
   "cell_type": "code",
   "execution_count": 46,
   "id": "bc236785",
   "metadata": {},
   "outputs": [
    {
     "data": {
      "text/plain": [
       "'{\"time\": \"2025-09-25T08:00:37.844114\", \"message\": \"person created\", \"person\": null}'"
      ]
     },
     "execution_count": 46,
     "metadata": {},
     "output_type": "execute_result"
    }
   ],
   "source": [
    "json.dumps(log_record, default=custom_json_formater)"
   ]
  },
  {
   "cell_type": "code",
   "execution_count": 47,
   "id": "28ab2433",
   "metadata": {},
   "outputs": [],
   "source": [
    "def custom_json_formater(arg):\n",
    "    if isinstance(arg, datetime):\n",
    "        return arg.isoformat()\n",
    "    elif isinstance(arg, set):\n",
    "        return list(arg)\n",
    "    elif isinstance(arg, Person):\n",
    "        return arg.toJSON()"
   ]
  },
  {
   "cell_type": "code",
   "execution_count": 48,
   "id": "3048c0c2",
   "metadata": {},
   "outputs": [
    {
     "data": {
      "text/plain": [
       "'{\"time\": \"2025-09-25T08:00:37.844114\", \"message\": \"person created\", \"person\": {\"name\": \"John\", \"age\": 82, \"create_dt\": \"2025-09-25T08:00:36.952525\"}}'"
      ]
     },
     "execution_count": 48,
     "metadata": {},
     "output_type": "execute_result"
    }
   ],
   "source": [
    "json.dumps(log_record, default=custom_json_formater)"
   ]
  },
  {
   "cell_type": "code",
   "execution_count": 53,
   "id": "67645c97",
   "metadata": {},
   "outputs": [],
   "source": [
    "class Person:\n",
    "    def __init__(self, name, age):\n",
    "        self.name = name\n",
    "        self.age = age\n",
    "        self.create_dt = datetime.utcnow()\n",
    "\n",
    "    def __repr__(self):\n",
    "        return f'Person(name={self.name}, age={self.age})'\n",
    "\n",
    "    def toJSON(self):\n",
    "        return vars(self)"
   ]
  },
  {
   "cell_type": "code",
   "execution_count": 54,
   "id": "90e0aed1",
   "metadata": {},
   "outputs": [
    {
     "name": "stderr",
     "output_type": "stream",
     "text": [
      "C:\\Users\\CASPER\\AppData\\Local\\Temp\\ipykernel_21160\\2488236738.py:5: DeprecationWarning: datetime.datetime.utcnow() is deprecated and scheduled for removal in a future version. Use timezone-aware objects to represent datetimes in UTC: datetime.datetime.now(datetime.UTC).\n",
      "  self.create_dt = datetime.utcnow()\n",
      "C:\\Users\\CASPER\\AppData\\Local\\Temp\\ipykernel_21160\\2074932371.py:2: DeprecationWarning: datetime.datetime.utcnow() is deprecated and scheduled for removal in a future version. Use timezone-aware objects to represent datetimes in UTC: datetime.datetime.now(datetime.UTC).\n",
      "  log_record = dict(time=datetime.utcnow(),\n"
     ]
    }
   ],
   "source": [
    "p = Person('Python', 45)\n",
    "log_record = dict(time=datetime.utcnow(),\n",
    "message='person created',\n",
    "person=p)"
   ]
  },
  {
   "cell_type": "code",
   "execution_count": 55,
   "id": "9c19cb8d",
   "metadata": {},
   "outputs": [
    {
     "data": {
      "text/plain": [
       "'{\"time\": \"2025-09-25T08:04:49.822984\", \"message\": \"person created\", \"person\": {\"name\": \"Python\", \"age\": 45, \"create_dt\": \"2025-09-25T08:04:49.822735\"}}'"
      ]
     },
     "execution_count": 55,
     "metadata": {},
     "output_type": "execute_result"
    }
   ],
   "source": [
    "json.dumps(log_record, default=custom_json_formater)"
   ]
  },
  {
   "cell_type": "code",
   "execution_count": 56,
   "id": "834a9974",
   "metadata": {},
   "outputs": [],
   "source": [
    "class Point:\n",
    "    def __init__(self, x, y):\n",
    "        self.x = x\n",
    "        self.y = y\n",
    "\n",
    "    def __repr__(self):\n",
    "        return f'Point(x={self.x}, y={self.y})'"
   ]
  },
  {
   "cell_type": "code",
   "execution_count": 57,
   "id": "8ba50aac",
   "metadata": {},
   "outputs": [],
   "source": [
    "def custom_json_formater(arg):\n",
    "    if isinstance(arg, datetime):\n",
    "        return arg.isoformat()\n",
    "    elif isinstance(arg, set):\n",
    "        return list(arg)\n",
    "    else:\n",
    "        try:\n",
    "            return arg.toJSON()\n",
    "        except AttributeError:\n",
    "            try:\n",
    "                return vars(arg)\n",
    "            except TypeError:\n",
    "                return str(arg)"
   ]
  },
  {
   "cell_type": "code",
   "execution_count": 58,
   "id": "06dcbee5",
   "metadata": {},
   "outputs": [
    {
     "name": "stderr",
     "output_type": "stream",
     "text": [
      "C:\\Users\\CASPER\\AppData\\Local\\Temp\\ipykernel_21160\\2488236738.py:5: DeprecationWarning: datetime.datetime.utcnow() is deprecated and scheduled for removal in a future version. Use timezone-aware objects to represent datetimes in UTC: datetime.datetime.now(datetime.UTC).\n",
      "  self.create_dt = datetime.utcnow()\n"
     ]
    }
   ],
   "source": [
    "from decimal import Decimal\n",
    "pt1 = Point(1, 2)\n",
    "p = Person('John', 18)\n",
    "pt2 = Point(Decimal('10.5'), Decimal('100.5'))\n",
    "log_record = dict(time=datetime.utcnow(),\n",
    "                  message='Created new point',\n",
    "                  point_1=pt1,\n",
    "                  point_2=pt2,\n",
    "                  created_by=p)"
   ]
  },
  {
   "cell_type": "code",
   "execution_count": 59,
   "id": "0c39923a",
   "metadata": {},
   "outputs": [
    {
     "data": {
      "text/plain": [
       "'{\"time\": \"2025-09-25T08:10:37.022183\", \"message\": \"Created new point\", \"point_1\": {\"x\": 1, \"y\": 2}, \"point_2\": {\"x\": \"10.5\", \"y\": \"100.5\"}, \"created_by\": {\"name\": \"John\", \"age\": 18, \"create_dt\": \"2025-09-25T08:10:37.021939\"}}'"
      ]
     },
     "execution_count": 59,
     "metadata": {},
     "output_type": "execute_result"
    }
   ],
   "source": [
    "json.dumps(log_record, default=custom_json_formater)"
   ]
  },
  {
   "cell_type": "code",
   "execution_count": 60,
   "id": "1e3d233e",
   "metadata": {},
   "outputs": [],
   "source": [
    "from functools import singledispatch"
   ]
  },
  {
   "cell_type": "code",
   "execution_count": 61,
   "id": "c2412341",
   "metadata": {},
   "outputs": [],
   "source": [
    "@singledispatch\n",
    "def json_format(arg):\n",
    "    print(arg)\n",
    "    try:\n",
    "        print('\\ttrying to use toJSON...')\n",
    "        return arg.toJSON()\n",
    "    except AttributeError:\n",
    "        try:\n",
    "            print('\\tfailed - trying to use vars...')\n",
    "            return vars(arg)\n",
    "        except TypeError:\n",
    "            print('\\tfailed - using string repr...')\n",
    "            return str(arg)"
   ]
  },
  {
   "cell_type": "code",
   "execution_count": 62,
   "id": "04117cfb",
   "metadata": {},
   "outputs": [],
   "source": [
    "@json_format.register(datetime)\n",
    "def _(arg):\n",
    "    return arg.isoformat()"
   ]
  },
  {
   "cell_type": "code",
   "execution_count": 63,
   "id": "6a3f684b",
   "metadata": {},
   "outputs": [],
   "source": [
    "@json_format.register(set)\n",
    "def _(arg):\n",
    "    return list(arg)"
   ]
  },
  {
   "cell_type": "code",
   "execution_count": 64,
   "id": "322b1fc6",
   "metadata": {},
   "outputs": [
    {
     "name": "stderr",
     "output_type": "stream",
     "text": [
      "C:\\Users\\CASPER\\AppData\\Local\\Temp\\ipykernel_21160\\3301417316.py:1: DeprecationWarning: datetime.datetime.utcnow() is deprecated and scheduled for removal in a future version. Use timezone-aware objects to represent datetimes in UTC: datetime.datetime.now(datetime.UTC).\n",
      "  log_record = dict(time=datetime.utcnow(),\n"
     ]
    }
   ],
   "source": [
    "log_record = dict(time=datetime.utcnow(),\n",
    "                  message='Created new point',\n",
    "                  point_1=pt1,\n",
    "                  created_by=p)"
   ]
  },
  {
   "cell_type": "code",
   "execution_count": 65,
   "id": "9ef9e036",
   "metadata": {},
   "outputs": [
    {
     "name": "stdout",
     "output_type": "stream",
     "text": [
      "Point(x=1, y=2)\n",
      "\ttrying to use toJSON...\n",
      "\tfailed - trying to use vars...\n",
      "Person(name=John, age=18)\n",
      "\ttrying to use toJSON...\n",
      "{\n",
      "  \"time\": \"2025-09-25T08:15:51.719437\",\n",
      "  \"message\": \"Created new point\",\n",
      "  \"point_1\": {\n",
      "    \"x\": 1,\n",
      "    \"y\": 2\n",
      "  },\n",
      "  \"created_by\": {\n",
      "    \"name\": \"John\",\n",
      "    \"age\": 18,\n",
      "    \"create_dt\": \"2025-09-25T08:10:37.021939\"\n",
      "  }\n",
      "}\n"
     ]
    }
   ],
   "source": [
    "print(json.dumps(log_record, indent=2, default=json_format))"
   ]
  },
  {
   "cell_type": "code",
   "execution_count": 66,
   "id": "6f4aa2ec",
   "metadata": {},
   "outputs": [],
   "source": [
    "from decimal import Decimal\n",
    "from fractions import Fraction"
   ]
  },
  {
   "cell_type": "code",
   "execution_count": 67,
   "id": "b6438508",
   "metadata": {},
   "outputs": [
    {
     "name": "stderr",
     "output_type": "stream",
     "text": [
      "C:\\Users\\CASPER\\AppData\\Local\\Temp\\ipykernel_21160\\2488236738.py:5: DeprecationWarning: datetime.datetime.utcnow() is deprecated and scheduled for removal in a future version. Use timezone-aware objects to represent datetimes in UTC: datetime.datetime.now(datetime.UTC).\n",
      "  self.create_dt = datetime.utcnow()\n",
      "C:\\Users\\CASPER\\AppData\\Local\\Temp\\ipykernel_21160\\3367818224.py:7: DeprecationWarning: datetime.datetime.utcnow() is deprecated and scheduled for removal in a future version. Use timezone-aware objects to represent datetimes in UTC: datetime.datetime.now(datetime.UTC).\n",
      "  time=datetime.utcnow()\n"
     ]
    }
   ],
   "source": [
    "d = dict(\n",
    "    a=1+1j,\n",
    "    b=Decimal('0.5'),\n",
    "    c=Fraction(1, 3),\n",
    "    p=Person('Python', 27),\n",
    "    pt=Point(0,0),\n",
    "    time=datetime.utcnow()\n",
    ")"
   ]
  },
  {
   "cell_type": "code",
   "execution_count": 68,
   "id": "3c2d3742",
   "metadata": {},
   "outputs": [
    {
     "data": {
      "text/plain": [
       "{'a': (1+1j),\n",
       " 'b': Decimal('0.5'),\n",
       " 'c': Fraction(1, 3),\n",
       " 'p': Person(name=Python, age=27),\n",
       " 'pt': Point(x=0, y=0),\n",
       " 'time': datetime.datetime(2025, 9, 25, 8, 18, 31, 889151)}"
      ]
     },
     "execution_count": 68,
     "metadata": {},
     "output_type": "execute_result"
    }
   ],
   "source": [
    "d"
   ]
  },
  {
   "cell_type": "code",
   "execution_count": 69,
   "id": "694abcb5",
   "metadata": {},
   "outputs": [
    {
     "name": "stdout",
     "output_type": "stream",
     "text": [
      "(1+1j)\n",
      "\ttrying to use toJSON...\n",
      "\tfailed - trying to use vars...\n",
      "\tfailed - using string repr...\n",
      "0.5\n",
      "\ttrying to use toJSON...\n",
      "\tfailed - trying to use vars...\n",
      "\tfailed - using string repr...\n",
      "1/3\n",
      "\ttrying to use toJSON...\n",
      "\tfailed - trying to use vars...\n",
      "\tfailed - using string repr...\n",
      "Person(name=Python, age=27)\n",
      "\ttrying to use toJSON...\n",
      "Point(x=0, y=0)\n",
      "\ttrying to use toJSON...\n",
      "\tfailed - trying to use vars...\n"
     ]
    },
    {
     "data": {
      "text/plain": [
       "'{\"a\": \"(1+1j)\", \"b\": \"0.5\", \"c\": \"1/3\", \"p\": {\"name\": \"Python\", \"age\": 27, \"create_dt\": \"2025-09-25T08:18:31.889091\"}, \"pt\": {\"x\": 0, \"y\": 0}, \"time\": \"2025-09-25T08:18:31.889151\"}'"
      ]
     },
     "execution_count": 69,
     "metadata": {},
     "output_type": "execute_result"
    }
   ],
   "source": [
    "json.dumps(d, default=json_format)"
   ]
  },
  {
   "cell_type": "code",
   "execution_count": 70,
   "id": "26ee2713",
   "metadata": {},
   "outputs": [],
   "source": [
    "@json_format.register(Decimal)\n",
    "def _(arg):\n",
    "    return f'Decimal({str(arg)})'"
   ]
  },
  {
   "cell_type": "code",
   "execution_count": 71,
   "id": "7a361a78",
   "metadata": {},
   "outputs": [
    {
     "name": "stdout",
     "output_type": "stream",
     "text": [
      "(1+1j)\n",
      "\ttrying to use toJSON...\n",
      "\tfailed - trying to use vars...\n",
      "\tfailed - using string repr...\n",
      "1/3\n",
      "\ttrying to use toJSON...\n",
      "\tfailed - trying to use vars...\n",
      "\tfailed - using string repr...\n",
      "Person(name=Python, age=27)\n",
      "\ttrying to use toJSON...\n",
      "Point(x=0, y=0)\n",
      "\ttrying to use toJSON...\n",
      "\tfailed - trying to use vars...\n"
     ]
    },
    {
     "data": {
      "text/plain": [
       "'{\"a\": \"(1+1j)\", \"b\": \"Decimal(0.5)\", \"c\": \"1/3\", \"p\": {\"name\": \"Python\", \"age\": 27, \"create_dt\": \"2025-09-25T08:18:31.889091\"}, \"pt\": {\"x\": 0, \"y\": 0}, \"time\": \"2025-09-25T08:18:31.889151\"}'"
      ]
     },
     "execution_count": 71,
     "metadata": {},
     "output_type": "execute_result"
    }
   ],
   "source": [
    "json.dumps(d, default=json_format)"
   ]
  },
  {
   "cell_type": "code",
   "execution_count": null,
   "id": "e8c276ce",
   "metadata": {},
   "outputs": [],
   "source": []
  }
 ],
 "metadata": {
  "kernelspec": {
   "display_name": "Python 3",
   "language": "python",
   "name": "python3"
  },
  "language_info": {
   "codemirror_mode": {
    "name": "ipython",
    "version": 3
   },
   "file_extension": ".py",
   "mimetype": "text/x-python",
   "name": "python",
   "nbconvert_exporter": "python",
   "pygments_lexer": "ipython3",
   "version": "3.13.2"
  }
 },
 "nbformat": 4,
 "nbformat_minor": 5
}
