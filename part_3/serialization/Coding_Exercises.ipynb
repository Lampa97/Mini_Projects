{
 "cells": [
  {
   "cell_type": "markdown",
   "metadata": {},
   "source": [
    "### Coding Exercises"
   ]
  },
  {
   "cell_type": "markdown",
   "metadata": {},
   "source": [
    "Consider the following classes:"
   ]
  },
  {
   "cell_type": "code",
   "execution_count": 80,
   "metadata": {},
   "outputs": [],
   "source": [
    "class Serializer:\n",
    "    def __init__(self):\n",
    "        self.object = self.__class__.__name__\n",
    "\n",
    "    def toJSON(self):\n",
    "        return vars(self)\n",
    "\n",
    "class Stock(Serializer):\n",
    "    def __init__(self, symbol, date, open_, high, low, close, volume):\n",
    "        super().__init__()\n",
    "        self.symbol = symbol\n",
    "        self.date = date\n",
    "        self.open = open_\n",
    "        self.high = high\n",
    "        self.low = low\n",
    "        self.close = close\n",
    "        self.volume = volume\n",
    "\n",
    "        \n",
    "class Trade(Serializer):\n",
    "    def __init__(self, symbol, timestamp, order, price, volume, commission):\n",
    "        self.symbol = symbol\n",
    "        self.timestamp = timestamp\n",
    "        self.order = order\n",
    "        self.price = price\n",
    "        self.commission = commission\n",
    "        self.volume = volume\n"
   ]
  },
  {
   "cell_type": "markdown",
   "metadata": {},
   "source": [
    "#### Exercise 1"
   ]
  },
  {
   "cell_type": "markdown",
   "metadata": {},
   "source": [
    "Given the above class, write a custom `JSONEncoder` class to **serialize** dictionaries that contain instances of these particular classes. Keep in mind that you will want to deserialize the data too - so you will need some technique to indicate the object type in your serialization."
   ]
  },
  {
   "cell_type": "markdown",
   "metadata": {},
   "source": [
    "For example you may have an object such as this one that needs to be serialized:"
   ]
  },
  {
   "cell_type": "code",
   "execution_count": 91,
   "metadata": {},
   "outputs": [],
   "source": [
    "from datetime import date, datetime\n",
    "from decimal import Decimal\n",
    "import json\n",
    "\n",
    "activity = {\n",
    "    \"quotes\": [\n",
    "        Stock('TSLA', date(2018, 11, 22), \n",
    "              Decimal('338.19'), Decimal('338.64'), Decimal('337.60'), Decimal('338.19'), 365_607),\n",
    "        Stock('AAPL', date(2018, 11, 22), \n",
    "              Decimal('176.66'), Decimal('177.25'), Decimal('176.64'), Decimal('176.78'), 3_699_184),\n",
    "        Stock('MSFT', date(2018, 11, 22), \n",
    "              Decimal('103.25'), Decimal('103.48'), Decimal('103.07'), Decimal('103.11'), 4_493_689)\n",
    "    ],\n",
    "    \n",
    "    \"trades\": [\n",
    "        Trade('TSLA', datetime(2018, 11, 22, 10, 5, 12), 'buy', Decimal('338.25'), 100, Decimal('9.99')),\n",
    "        Trade('AAPL', datetime(2018, 11, 22, 10, 30, 5), 'sell', Decimal('177.01'), 20, Decimal('9.99'))\n",
    "    ]\n",
    "}"
   ]
  },
  {
   "cell_type": "code",
   "execution_count": 82,
   "metadata": {},
   "outputs": [],
   "source": [
    "class CustomJSONEncoder(json.JSONEncoder):\n",
    "    def default(self, arg):\n",
    "        try:\n",
    "            vars = arg.toJSON()\n",
    "        except AttributeError:\n",
    "            return arg\n",
    "        else:\n",
    "            for key, value in vars.items():\n",
    "                if isinstance(value, datetime):\n",
    "                    vars[key] = value.strftime('%Y-%m-%dT%H:%M:%S')\n",
    "                elif isinstance(value, date):\n",
    "                    vars[key] = value.strftime('%Y-%m-%d')\n",
    "                elif isinstance(value, Decimal):\n",
    "                    vars[key] = float(value)\n",
    "            return vars"
   ]
  },
  {
   "cell_type": "code",
   "execution_count": 83,
   "metadata": {},
   "outputs": [
    {
     "name": "stdout",
     "output_type": "stream",
     "text": [
      "{\n",
      "  \"quotes\": [\n",
      "    {\n",
      "      \"object\": \"Stock\",\n",
      "      \"symbol\": \"TSLA\",\n",
      "      \"date\": \"2018-11-22\",\n",
      "      \"open\": 338.19,\n",
      "      \"high\": 338.64,\n",
      "      \"low\": 337.6,\n",
      "      \"close\": 338.19,\n",
      "      \"volume\": 365607\n",
      "    },\n",
      "    {\n",
      "      \"object\": \"Stock\",\n",
      "      \"symbol\": \"AAPL\",\n",
      "      \"date\": \"2018-11-22\",\n",
      "      \"open\": 176.66,\n",
      "      \"high\": 177.25,\n",
      "      \"low\": 176.64,\n",
      "      \"close\": 176.78,\n",
      "      \"volume\": 3699184\n",
      "    },\n",
      "    {\n",
      "      \"object\": \"Stock\",\n",
      "      \"symbol\": \"MSFT\",\n",
      "      \"date\": \"2018-11-22\",\n",
      "      \"open\": 103.25,\n",
      "      \"high\": 103.48,\n",
      "      \"low\": 103.07,\n",
      "      \"close\": 103.11,\n",
      "      \"volume\": 4493689\n",
      "    }\n",
      "  ],\n",
      "  \"trades\": [\n",
      "    {\n",
      "      \"symbol\": \"TSLA\",\n",
      "      \"timestamp\": \"2018-11-22T10:05:12\",\n",
      "      \"order\": \"buy\",\n",
      "      \"price\": 338.25,\n",
      "      \"commission\": 9.99,\n",
      "      \"volume\": 100\n",
      "    },\n",
      "    {\n",
      "      \"symbol\": \"AAPL\",\n",
      "      \"timestamp\": \"2018-11-22T10:30:05\",\n",
      "      \"order\": \"sell\",\n",
      "      \"price\": 177.01,\n",
      "      \"commission\": 9.99,\n",
      "      \"volume\": 20\n",
      "    }\n",
      "  ]\n",
      "}\n"
     ]
    }
   ],
   "source": [
    "from pprint import pprint\n",
    "ser_d = json.dumps(activity, cls=CustomJSONEncoder, indent=2)\n",
    "print(ser_d)"
   ]
  },
  {
   "cell_type": "markdown",
   "metadata": {},
   "source": [
    "Hint: You can modify the classes if you need to."
   ]
  },
  {
   "cell_type": "markdown",
   "metadata": {},
   "source": [
    "#### Exercise 2"
   ]
  },
  {
   "cell_type": "markdown",
   "metadata": {},
   "source": [
    "Write code to reverse the serialization you just created. Write a custom decoder that can deserialize a JSON structure containing `Stock` and `Trade` objects. "
   ]
  },
  {
   "cell_type": "code",
   "execution_count": 84,
   "metadata": {},
   "outputs": [],
   "source": [
    "import re\n",
    "\n",
    "class CustomJSONDecoder(json.JSONDecoder):\n",
    "    def __init__(self, *args, **kwargs):\n",
    "        super().__init__(parse_float=Decimal)\n",
    "    \n",
    "    def decode(self, arg):\n",
    "        obj = super().decode(arg)\n",
    "        date_pattern = r'^\\d{4}-\\d{2}-\\d{2}$'\n",
    "        time_part = r'\\s([01]\\d|2[0-3]):[0-5]\\d(:[0-5]\\d)?$'\n",
    "\n",
    "        datetime_pattern = date_pattern + time_part\n",
    "        if re.search(datetime_pattern, arg):\n",
    "            obj = datetime(obj)\n",
    "        elif re.search(date_pattern, arg):\n",
    "            obj = date(obj)\n",
    "        return obj\n",
    "\n",
    "        "
   ]
  },
  {
   "cell_type": "code",
   "execution_count": 85,
   "metadata": {},
   "outputs": [
    {
     "name": "stdout",
     "output_type": "stream",
     "text": [
      "{'quotes': [{'close': Decimal('338.19'),\n",
      "             'date': '2018-11-22',\n",
      "             'high': Decimal('338.64'),\n",
      "             'low': Decimal('337.6'),\n",
      "             'object': 'Stock',\n",
      "             'open': Decimal('338.19'),\n",
      "             'symbol': 'TSLA',\n",
      "             'volume': 365607},\n",
      "            {'close': Decimal('176.78'),\n",
      "             'date': '2018-11-22',\n",
      "             'high': Decimal('177.25'),\n",
      "             'low': Decimal('176.64'),\n",
      "             'object': 'Stock',\n",
      "             'open': Decimal('176.66'),\n",
      "             'symbol': 'AAPL',\n",
      "             'volume': 3699184},\n",
      "            {'close': Decimal('103.11'),\n",
      "             'date': '2018-11-22',\n",
      "             'high': Decimal('103.48'),\n",
      "             'low': Decimal('103.07'),\n",
      "             'object': 'Stock',\n",
      "             'open': Decimal('103.25'),\n",
      "             'symbol': 'MSFT',\n",
      "             'volume': 4493689}],\n",
      " 'trades': [{'commission': Decimal('9.99'),\n",
      "             'order': 'buy',\n",
      "             'price': Decimal('338.25'),\n",
      "             'symbol': 'TSLA',\n",
      "             'timestamp': '2018-11-22T10:05:12',\n",
      "             'volume': 100},\n",
      "            {'commission': Decimal('9.99'),\n",
      "             'order': 'sell',\n",
      "             'price': Decimal('177.01'),\n",
      "             'symbol': 'AAPL',\n",
      "             'timestamp': '2018-11-22T10:30:05',\n",
      "             'volume': 20}]}\n"
     ]
    }
   ],
   "source": [
    "deser_d = json.loads(ser_d, cls=CustomJSONDecoder)\n",
    "pprint(deser_d)"
   ]
  },
  {
   "cell_type": "markdown",
   "metadata": {},
   "source": [
    "#### Exercise 3"
   ]
  },
  {
   "cell_type": "markdown",
   "metadata": {},
   "source": [
    "Do the same serialization and deserialization, but using `Marshmallow`."
   ]
  },
  {
   "cell_type": "code",
   "execution_count": 101,
   "metadata": {},
   "outputs": [],
   "source": [
    "from marshmallow import Schema, fields, post_load\n",
    "\n",
    "class StockSchema(Schema):\n",
    "    symbol = fields.Str()\n",
    "    date = fields.Date()\n",
    "    open = fields.Decimal(as_string=True)\n",
    "    high = fields.Decimal(as_string=True)\n",
    "    low = fields.Decimal(as_string=True)\n",
    "    close = fields.Decimal(as_string=True)\n",
    "    volume = fields.Int()\n",
    "\n",
    "    @post_load\n",
    "    def make_stock(self, data, **kwargs):\n",
    "        data['open_'] = data.pop('open')\n",
    "        return Stock(**data)\n",
    "\n",
    "        \n",
    "class TradeSchema(Schema):\n",
    "    symbol = fields.Str()\n",
    "    timestamp = fields.DateTime()\n",
    "    order = fields.Str()\n",
    "    price = fields.Decimal(as_string=True)\n",
    "    commission = fields.Decimal(as_string=True)\n",
    "    volume = fields.Int()\n",
    "\n",
    "    @post_load\n",
    "    def make_trade(self, data, **kwargs):\n",
    "        return Trade(**data)\n",
    "\n",
    "\n",
    "class ActivitySchema(Schema):\n",
    "    quotes = fields.Nested(StockSchema, many=True)\n",
    "    trades = fields.Nested(TradeSchema, many=True)\n",
    "\n",
    "\n",
    "result = ActivitySchema().dumps(activity)\n",
    "activity_deser = ActivitySchema().loads(result)\n",
    "\n",
    "\n",
    "    "
   ]
  },
  {
   "cell_type": "code",
   "execution_count": 98,
   "metadata": {},
   "outputs": [
    {
     "data": {
      "text/plain": [
       "'{\"quotes\": [{\"symbol\": \"TSLA\", \"date\": \"2018-11-22\", \"open\": \"338.19\", \"high\": \"338.64\", \"low\": \"337.60\", \"close\": \"338.19\", \"volume\": 365607}, {\"symbol\": \"AAPL\", \"date\": \"2018-11-22\", \"open\": \"176.66\", \"high\": \"177.25\", \"low\": \"176.64\", \"close\": \"176.78\", \"volume\": 3699184}, {\"symbol\": \"MSFT\", \"date\": \"2018-11-22\", \"open\": \"103.25\", \"high\": \"103.48\", \"low\": \"103.07\", \"close\": \"103.11\", \"volume\": 4493689}], \"trades\": [{\"symbol\": \"TSLA\", \"timestamp\": \"2018-11-22T10:05:12\", \"order\": \"buy\", \"price\": \"338.25\", \"commission\": \"9.99\", \"volume\": 100}, {\"symbol\": \"AAPL\", \"timestamp\": \"2018-11-22T10:30:05\", \"order\": \"sell\", \"price\": \"177.01\", \"commission\": \"9.99\", \"volume\": 20}]}'"
      ]
     },
     "execution_count": 98,
     "metadata": {},
     "output_type": "execute_result"
    }
   ],
   "source": [
    "result"
   ]
  },
  {
   "cell_type": "code",
   "execution_count": 102,
   "metadata": {},
   "outputs": [
    {
     "name": "stdout",
     "output_type": "stream",
     "text": [
      "{'quotes': [<__main__.Stock object at 0x0000022A06151D50>,\n",
      "            <__main__.Stock object at 0x0000022A0621C8C0>,\n",
      "            <__main__.Stock object at 0x0000022A0621C9B0>],\n",
      " 'trades': [<__main__.Trade object at 0x0000022A0593ECF0>,\n",
      "            <__main__.Trade object at 0x0000022A0593EBE0>]}\n"
     ]
    }
   ],
   "source": [
    "pprint(activity_deser)"
   ]
  },
  {
   "cell_type": "code",
   "execution_count": null,
   "metadata": {},
   "outputs": [],
   "source": []
  }
 ],
 "metadata": {
  "kernelspec": {
   "display_name": "Python 3",
   "language": "python",
   "name": "python3"
  },
  "language_info": {
   "codemirror_mode": {
    "name": "ipython",
    "version": 3
   },
   "file_extension": ".py",
   "mimetype": "text/x-python",
   "name": "python",
   "nbconvert_exporter": "python",
   "pygments_lexer": "ipython3",
   "version": "3.13.2"
  }
 },
 "nbformat": 4,
 "nbformat_minor": 2
}
