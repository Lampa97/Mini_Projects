{
 "cells": [
  {
   "cell_type": "code",
   "execution_count": 1,
   "id": "e0bad734",
   "metadata": {},
   "outputs": [],
   "source": [
    "import yaml"
   ]
  },
  {
   "cell_type": "code",
   "execution_count": 2,
   "id": "d1ec8dc2",
   "metadata": {},
   "outputs": [],
   "source": [
    "data = '''\n",
    "---\n",
    "title: Parrot Sketch\n",
    "actors:\n",
    "    - first_name: John\n",
    "      last_name: Cleese\n",
    "      dob: 1939-10-27\n",
    "    - first_name: Michael\n",
    "      last_name: Palin\n",
    "      dob: 1943-05-05\n",
    "'''"
   ]
  },
  {
   "cell_type": "code",
   "execution_count": 4,
   "id": "6ad65a4f",
   "metadata": {},
   "outputs": [],
   "source": [
    "d = yaml.load(data, Loader=yaml.SafeLoader)"
   ]
  },
  {
   "cell_type": "code",
   "execution_count": 5,
   "id": "0111862c",
   "metadata": {},
   "outputs": [
    {
     "data": {
      "text/plain": [
       "{'title': 'Parrot Sketch',\n",
       " 'actors': [{'first_name': 'John',\n",
       "   'last_name': 'Cleese',\n",
       "   'dob': datetime.date(1939, 10, 27)},\n",
       "  {'first_name': 'Michael',\n",
       "   'last_name': 'Palin',\n",
       "   'dob': datetime.date(1943, 5, 5)}]}"
      ]
     },
     "execution_count": 5,
     "metadata": {},
     "output_type": "execute_result"
    }
   ],
   "source": [
    "d"
   ]
  },
  {
   "cell_type": "code",
   "execution_count": 6,
   "id": "b2afac55",
   "metadata": {},
   "outputs": [
    {
     "data": {
      "text/plain": [
       "dict"
      ]
     },
     "execution_count": 6,
     "metadata": {},
     "output_type": "execute_result"
    }
   ],
   "source": [
    "type(d)"
   ]
  },
  {
   "cell_type": "code",
   "execution_count": 7,
   "id": "54254903",
   "metadata": {},
   "outputs": [],
   "source": [
    "d = {'a': 100, 'b': False, 'c': 10.5, 'd': [1,2,3]}"
   ]
  },
  {
   "cell_type": "code",
   "execution_count": 8,
   "id": "5ce6ebd7",
   "metadata": {},
   "outputs": [
    {
     "name": "stdout",
     "output_type": "stream",
     "text": [
      "a: 100\n",
      "b: false\n",
      "c: 10.5\n",
      "d:\n",
      "- 1\n",
      "- 2\n",
      "- 3\n",
      "\n"
     ]
    }
   ],
   "source": [
    "print(yaml.dump(d))"
   ]
  },
  {
   "cell_type": "code",
   "execution_count": 9,
   "id": "9811a293",
   "metadata": {},
   "outputs": [],
   "source": [
    "class Person:\n",
    "    def __init__(self,name,age):\n",
    "        self.name = name\n",
    "        self.age = age\n",
    "\n",
    "    def __repr__(self):\n",
    "        return f'Person(name={self.name}, age={self.age})'"
   ]
  },
  {
   "cell_type": "code",
   "execution_count": 10,
   "id": "905f565f",
   "metadata": {},
   "outputs": [],
   "source": [
    "from datetime import date\n",
    "\n",
    "p1 = Person('John Cleese', date(1939, 10, 27))\n",
    "p2 = Person('Michael Palin', date(1934, 5, 5))"
   ]
  },
  {
   "cell_type": "code",
   "execution_count": 11,
   "id": "a8377ade",
   "metadata": {},
   "outputs": [
    {
     "name": "stdout",
     "output_type": "stream",
     "text": [
      "john: !!python/object:__main__.Person\n",
      "  age: 1939-10-27\n",
      "  name: John Cleese\n",
      "michael: !!python/object:__main__.Person\n",
      "  age: 1934-05-05\n",
      "  name: Michael Palin\n",
      "\n"
     ]
    }
   ],
   "source": [
    "print(yaml.dump({'john': p1, 'michael': p2}))"
   ]
  },
  {
   "cell_type": "code",
   "execution_count": 12,
   "id": "254161cc",
   "metadata": {},
   "outputs": [],
   "source": [
    "yaml_data = '''\n",
    "john: !!python/object:__main__.Person\n",
    "    age: 1939-10-27\n",
    "    name: John Cleese\n",
    "michael: !!python/object:__main__.Person \n",
    "    age: 1934-05-05, \n",
    "    name: Michael Palin\n",
    "'''"
   ]
  },
  {
   "cell_type": "code",
   "execution_count": 15,
   "id": "d58722e2",
   "metadata": {},
   "outputs": [
    {
     "data": {
      "text/plain": [
       "{'john': Person(name=John Cleese, age=1939-10-27),\n",
       " 'michael': Person(name=Michael Palin, age=1934-05-05,)}"
      ]
     },
     "execution_count": 15,
     "metadata": {},
     "output_type": "execute_result"
    }
   ],
   "source": [
    "yaml.load(yaml_data, Loader=yaml.UnsafeLoader)"
   ]
  },
  {
   "cell_type": "code",
   "execution_count": 17,
   "id": "ca4963b3",
   "metadata": {},
   "outputs": [],
   "source": [
    "yaml_data = '''\n",
    "exec_path:\n",
    "    !!python/object/apply:os.get_exec_path []\n",
    "exec_command:\n",
    "    !!python/object/apply:subprocess.check_output [['ls', '/']]\n",
    "'''"
   ]
  },
  {
   "cell_type": "code",
   "execution_count": 18,
   "id": "fc5247a9",
   "metadata": {},
   "outputs": [
    {
     "data": {
      "text/plain": [
       "{'exec_path': ['c:\\\\Users\\\\CASPER\\\\AppData\\\\Local\\\\Programs\\\\Python\\\\Python313',\n",
       "  'c:\\\\Users\\\\CASPER\\\\AppData\\\\Roaming\\\\Python\\\\Python313\\\\Scripts',\n",
       "  'C:\\\\Program Files\\\\Common Files\\\\Oracle\\\\Java\\\\javapath',\n",
       "  'C:\\\\Program Files (x86)\\\\Common Files\\\\Oracle\\\\Java\\\\java8path',\n",
       "  'C:\\\\Program Files (x86)\\\\Common Files\\\\Oracle\\\\Java\\\\javapath',\n",
       "  'C:\\\\WINDOWS\\\\system32',\n",
       "  'C:\\\\WINDOWS',\n",
       "  'C:\\\\WINDOWS\\\\System32\\\\Wbem',\n",
       "  'C:\\\\WINDOWS\\\\System32\\\\WindowsPowerShell\\\\v1.0\\\\',\n",
       "  'C:\\\\WINDOWS\\\\System32\\\\OpenSSH\\\\',\n",
       "  'C:\\\\Program Files (x86)\\\\NVIDIA Corporation\\\\PhysX\\\\Common',\n",
       "  'C:\\\\Users\\\\CASPER\\\\AppData\\\\Roaming\\\\Python\\\\Scripts',\n",
       "  'C:\\\\Users\\\\CASPER\\\\AppData\\\\Roaming\\\\pypoetry\\\\venv\\\\Scripts\\\\poetry',\n",
       "  'C:\\\\Program Files\\\\Microsoft VS Code\\\\bin',\n",
       "  'C:\\\\Program Files\\\\NVIDIA Corporation\\\\NVIDIA app\\\\NvDLISR',\n",
       "  'C:\\\\Program Files\\\\Calibre2\\\\',\n",
       "  'C:\\\\Program Files\\\\Kubernetes\\\\Minikube',\n",
       "  'C:\\\\Program Files\\\\PyManager\\\\',\n",
       "  'C:\\\\Program Files\\\\Docker\\\\Docker\\\\resources\\\\bin',\n",
       "  'C:\\\\Program Files\\\\gettext-iconv\\\\bin',\n",
       "  'C:\\\\Program Files\\\\Git\\\\cmd',\n",
       "  'C:\\\\Program Files\\\\nodejs\\\\',\n",
       "  'C:\\\\Program Files\\\\PowerShell\\\\7\\\\',\n",
       "  'C:\\\\Program Files\\\\Amazon\\\\AWSCLIV2\\\\',\n",
       "  'C:\\\\Users\\\\CASPER\\\\AppData\\\\Local\\\\Programs\\\\Python\\\\Launcher\\\\',\n",
       "  'C:\\\\Users\\\\CASPER\\\\.local\\\\bin',\n",
       "  'C:\\\\Users\\\\CASPER\\\\AppData\\\\Local\\\\Programs\\\\Python\\\\Python313\\\\Scripts\\\\',\n",
       "  'C:\\\\Users\\\\CASPER\\\\AppData\\\\Local\\\\Programs\\\\Python\\\\Python313\\\\',\n",
       "  'C:\\\\Users\\\\CASPER\\\\AppData\\\\Local\\\\Programs\\\\Python\\\\Python312\\\\Scripts\\\\',\n",
       "  'C:\\\\Users\\\\CASPER\\\\AppData\\\\Local\\\\Programs\\\\Python\\\\Python312\\\\',\n",
       "  'C:\\\\Users\\\\CASPER\\\\AppData\\\\Local\\\\Microsoft\\\\WindowsApps',\n",
       "  'C:\\\\Users\\\\CASPER\\\\AppData\\\\Local\\\\Programs\\\\Microsoft VS Code\\\\bin',\n",
       "  'C:\\\\Users\\\\CASPER\\\\AppData\\\\Local\\\\GitHubDesktop\\\\bin',\n",
       "  'C:\\\\Users\\\\CASPER\\\\AppData\\\\Local\\\\JetBrains\\\\Toolbox\\\\scripts',\n",
       "  'C:\\\\Users\\\\CASPER\\\\AppData\\\\Local\\\\Programs\\\\Python\\\\Python313-32',\n",
       "  'C:\\\\Users\\\\CASPER\\\\AppData\\\\Roaming\\\\pypoetry\\\\venv\\\\Scripts\\\\poetry',\n",
       "  'C:\\\\Users\\\\CASPER\\\\AppData\\\\Roaming\\\\Python\\\\Scripts',\n",
       "  'C:\\\\Users\\\\CASPER\\\\AppData\\\\Local\\\\Programs\\\\Python\\\\Launcher',\n",
       "  'C:\\\\src\\\\flutter\\\\bin',\n",
       "  'C:\\\\Gradle\\\\gradle-8.11.1\\\\bin',\n",
       "  'C:\\\\Program Files\\\\Java\\\\jdk-20\\\\bin',\n",
       "  'C:\\\\Program Files\\\\PostgreSQL\\\\17\\\\bin',\n",
       "  'D:\\\\Programming\\\\Redis-x64-3.0.504',\n",
       "  'C:\\\\Program Files\\\\Git\\\\usr\\\\bin',\n",
       "  'C:\\\\Users\\\\CASPER\\\\AppData\\\\Local\\\\Python\\\\bin',\n",
       "  'C:\\\\Program Files\\\\JetBrains\\\\PyCharm 2025.2\\\\bin',\n",
       "  'C:\\\\Program Files\\\\gettext-iconv\\\\bin',\n",
       "  'C:\\\\Users\\\\CASPER\\\\AppData\\\\Roaming\\\\npm',\n",
       "  'C:\\\\Program Files\\\\Common Files\\\\Oracle\\\\Java\\\\javapath',\n",
       "  'C:\\\\Program Files (x86)\\\\Common Files\\\\Oracle\\\\Java\\\\java8path',\n",
       "  'C:\\\\Program Files (x86)\\\\Common Files\\\\Oracle\\\\Java\\\\javapath',\n",
       "  'C:\\\\WINDOWS\\\\system32',\n",
       "  'C:\\\\WINDOWS',\n",
       "  'C:\\\\WINDOWS\\\\System32\\\\Wbem',\n",
       "  'C:\\\\WINDOWS\\\\System32\\\\WindowsPowerShell\\\\v1.0\\\\',\n",
       "  'C:\\\\WINDOWS\\\\System32\\\\OpenSSH\\\\',\n",
       "  'C:\\\\Program Files (x86)\\\\NVIDIA Corporation\\\\PhysX\\\\Common',\n",
       "  'C:\\\\Users\\\\CASPER\\\\AppData\\\\Roaming\\\\Python\\\\Scripts',\n",
       "  'C:\\\\Users\\\\CASPER\\\\AppData\\\\Roaming\\\\pypoetry\\\\venv\\\\Scripts\\\\poetry',\n",
       "  'C:\\\\Program Files\\\\Microsoft VS Code\\\\bin',\n",
       "  'C:\\\\Program Files\\\\NVIDIA Corporation\\\\NVIDIA app\\\\NvDLISR',\n",
       "  'C:\\\\Program Files\\\\Calibre2\\\\',\n",
       "  'C:\\\\Program Files\\\\Kubernetes\\\\Minikube',\n",
       "  'C:\\\\Program Files\\\\PyManager\\\\',\n",
       "  'C:\\\\Program Files\\\\Docker\\\\Docker\\\\resources\\\\bin',\n",
       "  'C:\\\\Program Files\\\\gettext-iconv\\\\bin',\n",
       "  'C:\\\\Program Files\\\\Git\\\\cmd',\n",
       "  'C:\\\\Program Files\\\\nodejs\\\\',\n",
       "  'C:\\\\Program Files\\\\PowerShell\\\\7\\\\',\n",
       "  'C:\\\\Program Files\\\\Amazon\\\\AWSCLIV2\\\\',\n",
       "  'C:\\\\Users\\\\CASPER\\\\AppData\\\\Local\\\\Programs\\\\Python\\\\Launcher\\\\',\n",
       "  'C:\\\\Users\\\\CASPER\\\\.local\\\\bin',\n",
       "  'C:\\\\Users\\\\CASPER\\\\AppData\\\\Local\\\\Programs\\\\Python\\\\Python313\\\\Scripts\\\\',\n",
       "  'C:\\\\Users\\\\CASPER\\\\AppData\\\\Local\\\\Programs\\\\Python\\\\Python313\\\\',\n",
       "  'C:\\\\Users\\\\CASPER\\\\AppData\\\\Local\\\\Programs\\\\Python\\\\Python312\\\\Scripts\\\\',\n",
       "  'C:\\\\Users\\\\CASPER\\\\AppData\\\\Local\\\\Programs\\\\Python\\\\Python312\\\\',\n",
       "  'C:\\\\Users\\\\CASPER\\\\AppData\\\\Local\\\\Microsoft\\\\WindowsApps',\n",
       "  'C:\\\\Users\\\\CASPER\\\\AppData\\\\Local\\\\Programs\\\\Microsoft VS Code\\\\bin',\n",
       "  'C:\\\\Users\\\\CASPER\\\\AppData\\\\Local\\\\GitHubDesktop\\\\bin',\n",
       "  'C:\\\\Users\\\\CASPER\\\\AppData\\\\Local\\\\JetBrains\\\\Toolbox\\\\scripts',\n",
       "  'C:\\\\Users\\\\CASPER\\\\AppData\\\\Local\\\\Programs\\\\Python\\\\Python313-32',\n",
       "  'C:\\\\Users\\\\CASPER\\\\AppData\\\\Roaming\\\\pypoetry\\\\venv\\\\Scripts\\\\poetry',\n",
       "  'C:\\\\Users\\\\CASPER\\\\AppData\\\\Roaming\\\\Python\\\\Scripts',\n",
       "  'C:\\\\Users\\\\CASPER\\\\AppData\\\\Local\\\\Programs\\\\Python\\\\Launcher',\n",
       "  'C:\\\\src\\\\flutter\\\\bin',\n",
       "  'C:\\\\Gradle\\\\gradle-8.11.1\\\\bin',\n",
       "  'C:\\\\Program Files\\\\Java\\\\jdk-20\\\\bin',\n",
       "  'C:\\\\Program Files\\\\PostgreSQL\\\\17\\\\bin',\n",
       "  'D:\\\\Programming\\\\Redis-x64-3.0.504',\n",
       "  'C:\\\\Program Files\\\\Git\\\\usr\\\\bin',\n",
       "  'C:\\\\Users\\\\CASPER\\\\AppData\\\\Local\\\\Python\\\\bin',\n",
       "  'C:\\\\Program Files\\\\JetBrains\\\\PyCharm 2025.2\\\\bin',\n",
       "  'C:\\\\Program Files\\\\gettext-iconv\\\\bin',\n",
       "  'C:\\\\Users\\\\CASPER\\\\AppData\\\\Roaming\\\\npm'],\n",
       " 'exec_command': b'LICENSE.txt\\nReleaseNotes.html\\nbin\\ncmd\\ndev\\netc\\ngit-bash.exe\\ngit-cmd.exe\\nmingw64\\nproc\\ntmp\\nunins001.dat\\nunins001.exe\\nunins001.msg\\nusr\\n'}"
      ]
     },
     "execution_count": 18,
     "metadata": {},
     "output_type": "execute_result"
    }
   ],
   "source": [
    "yaml.load(yaml_data, Loader=yaml.UnsafeLoader)"
   ]
  },
  {
   "cell_type": "code",
   "execution_count": 19,
   "id": "eabd9939",
   "metadata": {},
   "outputs": [],
   "source": [
    "from yaml import YAMLObject, SafeLoader"
   ]
  },
  {
   "cell_type": "code",
   "execution_count": 20,
   "id": "43c1e763",
   "metadata": {},
   "outputs": [],
   "source": [
    "class Person(YAMLObject):\n",
    "    yaml_tag = '!Person'\n",
    "    \n",
    "    def __init__(self,name,age):\n",
    "        self.name = name\n",
    "        self.age = age\n",
    "\n",
    "    def __repr__(self):\n",
    "        return f'Person(name={self.name}, age={self.age})'"
   ]
  },
  {
   "cell_type": "code",
   "execution_count": 22,
   "id": "612e5a92",
   "metadata": {},
   "outputs": [
    {
     "name": "stdout",
     "output_type": "stream",
     "text": [
      "john: !Person\n",
      "  age: 79\n",
      "  name: John Cleese\n",
      "michael: !Person\n",
      "  age: 74\n",
      "  name: Michael Palin\n",
      "\n"
     ]
    }
   ],
   "source": [
    "print(yaml.dump(dict(john=Person('John Cleese', 79),\n",
    "               michael=Person('Michael Palin', 74))))"
   ]
  },
  {
   "cell_type": "code",
   "execution_count": 23,
   "id": "ca7161b5",
   "metadata": {},
   "outputs": [],
   "source": [
    "yaml_data = '''\n",
    "john: !Person\n",
    "    age: 1939-10-27\n",
    "    name: John Cleese\n",
    "michael: !Person \n",
    "    age: 1934-05-05, \n",
    "    name: Michael Palin\n",
    "'''"
   ]
  },
  {
   "cell_type": "code",
   "execution_count": 26,
   "id": "ef1540ba",
   "metadata": {},
   "outputs": [
    {
     "data": {
      "text/plain": [
       "{'john': Person(name=John Cleese, age=1939-10-27),\n",
       " 'michael': Person(name=Michael Palin, age=1934-05-05,)}"
      ]
     },
     "execution_count": 26,
     "metadata": {},
     "output_type": "execute_result"
    }
   ],
   "source": [
    "yaml.load(yaml_data, Loader=yaml.UnsafeLoader)"
   ]
  },
  {
   "cell_type": "code",
   "execution_count": 27,
   "id": "065dbfa1",
   "metadata": {},
   "outputs": [],
   "source": [
    "class Person(YAMLObject):\n",
    "    yaml_tag = '!Person'\n",
    "    yaml_loader = SafeLoader\n",
    "    \n",
    "    def __init__(self,name,age):\n",
    "        self.name = name\n",
    "        self.age = age\n",
    "\n",
    "    def __repr__(self):\n",
    "        return f'Person(name={self.name}, age={self.age})'"
   ]
  },
  {
   "cell_type": "code",
   "execution_count": 28,
   "id": "6b5afe17",
   "metadata": {},
   "outputs": [],
   "source": [
    "yaml_data = '''\n",
    "john: !Person\n",
    "    age: 1939-10-27\n",
    "    name: John Cleese\n",
    "michael: !Person \n",
    "    age: 1934-05-05, \n",
    "    name: Michael Palin\n",
    "'''"
   ]
  },
  {
   "cell_type": "code",
   "execution_count": 29,
   "id": "6692642c",
   "metadata": {},
   "outputs": [
    {
     "data": {
      "text/plain": [
       "{'john': Person(name=John Cleese, age=1939-10-27),\n",
       " 'michael': Person(name=Michael Palin, age=1934-05-05,)}"
      ]
     },
     "execution_count": 29,
     "metadata": {},
     "output_type": "execute_result"
    }
   ],
   "source": [
    "yaml.load(yaml_data, Loader=yaml.SafeLoader)"
   ]
  },
  {
   "cell_type": "code",
   "execution_count": null,
   "id": "71ec738b",
   "metadata": {},
   "outputs": [],
   "source": []
  }
 ],
 "metadata": {
  "kernelspec": {
   "display_name": "Python 3",
   "language": "python",
   "name": "python3"
  },
  "language_info": {
   "codemirror_mode": {
    "name": "ipython",
    "version": 3
   },
   "file_extension": ".py",
   "mimetype": "text/x-python",
   "name": "python",
   "nbconvert_exporter": "python",
   "pygments_lexer": "ipython3",
   "version": "3.13.2"
  }
 },
 "nbformat": 4,
 "nbformat_minor": 5
}
