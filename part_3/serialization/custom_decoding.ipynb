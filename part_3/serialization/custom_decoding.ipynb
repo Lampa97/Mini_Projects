{
 "cells": [
  {
   "cell_type": "code",
   "execution_count": 3,
   "id": "c61c2805",
   "metadata": {},
   "outputs": [],
   "source": [
    "import json"
   ]
  },
  {
   "cell_type": "code",
   "execution_count": 2,
   "id": "d0865b3f",
   "metadata": {},
   "outputs": [],
   "source": [
    "j = '''\n",
    "{\n",
    "  \"name\": \"Python\",\n",
    "  \"age\": 27,\n",
    "  \"versions\": [\"2.x\", \"3.x\"]\n",
    "  }\n",
    "  '''"
   ]
  },
  {
   "cell_type": "code",
   "execution_count": 3,
   "id": "82c52866",
   "metadata": {},
   "outputs": [
    {
     "data": {
      "text/plain": [
       "{'name': 'Python', 'age': 27, 'versions': ['2.x', '3.x']}"
      ]
     },
     "execution_count": 3,
     "metadata": {},
     "output_type": "execute_result"
    }
   ],
   "source": [
    "json.loads(j)"
   ]
  },
  {
   "cell_type": "code",
   "execution_count": 4,
   "id": "edebe5bb",
   "metadata": {},
   "outputs": [],
   "source": [
    "p = '''\n",
    "{\n",
    "    \"time\": \"2018-10-21T09:14:00\",\n",
    "    \"message\": \"created this json string\"\n",
    "}\n",
    "'''"
   ]
  },
  {
   "cell_type": "code",
   "execution_count": 5,
   "id": "428b3ba8",
   "metadata": {},
   "outputs": [
    {
     "data": {
      "text/plain": [
       "{'time': '2018-10-21T09:14:00', 'message': 'created this json string'}"
      ]
     },
     "execution_count": 5,
     "metadata": {},
     "output_type": "execute_result"
    }
   ],
   "source": [
    "json.loads(p)"
   ]
  },
  {
   "cell_type": "code",
   "execution_count": 19,
   "id": "436d7706",
   "metadata": {},
   "outputs": [],
   "source": [
    "p = '''\n",
    "{\n",
    "    \"time\": {\n",
    "    \"objecttype\": \"datetime\",\n",
    "    \"value\": \"2018-10-21T09:14:00\"\n",
    "    },\n",
    "    \"message\": \"created this json string\"\n",
    "}\n",
    "'''"
   ]
  },
  {
   "cell_type": "code",
   "execution_count": 20,
   "id": "0983c248",
   "metadata": {},
   "outputs": [],
   "source": [
    "d = json.loads(p)"
   ]
  },
  {
   "cell_type": "code",
   "execution_count": 21,
   "id": "73f4d159",
   "metadata": {},
   "outputs": [
    {
     "data": {
      "text/plain": [
       "{'time': {'objecttype': 'datetime', 'value': '2018-10-21T09:14:00'},\n",
       " 'message': 'created this json string'}"
      ]
     },
     "execution_count": 21,
     "metadata": {},
     "output_type": "execute_result"
    }
   ],
   "source": [
    "d"
   ]
  },
  {
   "cell_type": "code",
   "execution_count": 22,
   "id": "9c98f00a",
   "metadata": {},
   "outputs": [],
   "source": [
    "from pprint import pprint\n"
   ]
  },
  {
   "cell_type": "code",
   "execution_count": 23,
   "id": "1710e41e",
   "metadata": {},
   "outputs": [
    {
     "name": "stdout",
     "output_type": "stream",
     "text": [
      "{'message': 'created this json string',\n",
      " 'time': {'objecttype': 'datetime', 'value': '2018-10-21T09:14:00'}}\n"
     ]
    }
   ],
   "source": [
    "pprint(d)"
   ]
  },
  {
   "cell_type": "code",
   "execution_count": 24,
   "id": "0a1510f4",
   "metadata": {},
   "outputs": [],
   "source": [
    "from datetime import datetime"
   ]
  },
  {
   "cell_type": "code",
   "execution_count": 25,
   "id": "2a9aa810",
   "metadata": {},
   "outputs": [],
   "source": [
    "for key, value in d.items():\n",
    "    if (isinstance(value, dict) and\n",
    "        'objecttype' in value and\n",
    "        value['objecttype'] == 'datetime'\n",
    "    ):\n",
    "        d[key] = datetime.strptime(value['value'], '%Y-%m-%dT%H:%M:%S')\n"
   ]
  },
  {
   "cell_type": "code",
   "execution_count": 26,
   "id": "ea118e17",
   "metadata": {},
   "outputs": [
    {
     "data": {
      "text/plain": [
       "{'time': datetime.datetime(2018, 10, 21, 9, 14),\n",
       " 'message': 'created this json string'}"
      ]
     },
     "execution_count": 26,
     "metadata": {},
     "output_type": "execute_result"
    }
   ],
   "source": [
    "d"
   ]
  },
  {
   "cell_type": "code",
   "execution_count": 29,
   "id": "0cc9d673",
   "metadata": {},
   "outputs": [],
   "source": [
    "j = '''\n",
    "{\n",
    "\"cake\": \"yummy chocolate cake\",\n",
    "\"myShare\": {\n",
    "\"objecttype\": \"fraction\",\n",
    "\"numerator\": 1,\n",
    "\"denominator\": 8}\n",
    "}\n",
    "'''"
   ]
  },
  {
   "cell_type": "code",
   "execution_count": 30,
   "id": "638c742a",
   "metadata": {},
   "outputs": [],
   "source": [
    "d = json.loads(j)"
   ]
  },
  {
   "cell_type": "code",
   "execution_count": 31,
   "id": "9c0e1465",
   "metadata": {},
   "outputs": [
    {
     "data": {
      "text/plain": [
       "{'cake': 'yummy chocolate cake',\n",
       " 'myShare': {'objecttype': 'fraction', 'numerator': 1, 'denominator': 8}}"
      ]
     },
     "execution_count": 31,
     "metadata": {},
     "output_type": "execute_result"
    }
   ],
   "source": [
    "d"
   ]
  },
  {
   "cell_type": "code",
   "execution_count": 32,
   "id": "70dd9e75",
   "metadata": {},
   "outputs": [],
   "source": [
    "from fractions import Fraction\n",
    "for key, value in d.items():\n",
    "    if (isinstance(value, dict) and\n",
    "        'objecttype' in value and\n",
    "        value['objecttype'] == 'fraction'\n",
    "    ):\n",
    "        numerator = value['numerator']\n",
    "        denominator = value['denominator']\n",
    "        d[key] = Fraction(numerator, denominator)"
   ]
  },
  {
   "cell_type": "code",
   "execution_count": 33,
   "id": "d28417c8",
   "metadata": {},
   "outputs": [
    {
     "data": {
      "text/plain": [
       "{'cake': 'yummy chocolate cake', 'myShare': Fraction(1, 8)}"
      ]
     },
     "execution_count": 33,
     "metadata": {},
     "output_type": "execute_result"
    }
   ],
   "source": [
    "d"
   ]
  },
  {
   "cell_type": "code",
   "execution_count": 37,
   "id": "9255e87a",
   "metadata": {},
   "outputs": [],
   "source": [
    "def custom_decoder(arg):\n",
    "    print('decoding: ', arg, type(arg))\n",
    "    return arg"
   ]
  },
  {
   "cell_type": "code",
   "execution_count": 38,
   "id": "4852ffa9",
   "metadata": {},
   "outputs": [],
   "source": [
    "j = '''\n",
    "{\n",
    "    \"a\": 1,\n",
    "    \"b\": 2,\n",
    "    \"c\": {\n",
    "    \"c.1\": 1,\n",
    "    \"c.2\": 2,\n",
    "    \"c.3\": {\"c.3.1\": 1,\n",
    "    \"c.3.2\": 2}\n",
    "        }\n",
    "}\n",
    "'''"
   ]
  },
  {
   "cell_type": "code",
   "execution_count": 39,
   "id": "a6900c50",
   "metadata": {},
   "outputs": [
    {
     "name": "stdout",
     "output_type": "stream",
     "text": [
      "decoding:  {'c.3.1': 1, 'c.3.2': 2} <class 'dict'>\n",
      "decoding:  {'c.1': 1, 'c.2': 2, 'c.3': {'c.3.1': 1, 'c.3.2': 2}} <class 'dict'>\n",
      "decoding:  {'a': 1, 'b': 2, 'c': {'c.1': 1, 'c.2': 2, 'c.3': {'c.3.1': 1, 'c.3.2': 2}}} <class 'dict'>\n"
     ]
    }
   ],
   "source": [
    "d = json.loads(j, object_hook=custom_decoder)"
   ]
  },
  {
   "cell_type": "code",
   "execution_count": 40,
   "id": "60b44a6c",
   "metadata": {},
   "outputs": [],
   "source": [
    "j = '''\n",
    "{\n",
    "\"time\": {\n",
    "\"objecttype\": \"datetime\",\n",
    "\"value\": \"2018-10-21T09:14:15\"\n",
    "},\n",
    "\"message\": \"created this json string\"\n",
    "}\n",
    "'''"
   ]
  },
  {
   "cell_type": "code",
   "execution_count": 53,
   "id": "a63e4298",
   "metadata": {},
   "outputs": [],
   "source": [
    "def custom_decoder(arg):\n",
    "    if 'objecttype' in arg and arg['objecttype'] == 'datetime':\n",
    "        return datetime.strptime(arg['value'], '%Y-%m-%dT%H:%M:%S') \n",
    "    else:\n",
    "        return arg"
   ]
  },
  {
   "cell_type": "code",
   "execution_count": 54,
   "id": "e4dfec21",
   "metadata": {},
   "outputs": [
    {
     "data": {
      "text/plain": [
       "datetime.datetime(2018, 10, 21, 9, 14, 15)"
      ]
     },
     "execution_count": 54,
     "metadata": {},
     "output_type": "execute_result"
    }
   ],
   "source": [
    "custom_decoder(dict(objecttype='datetime', value='2018-10-21T09:14:15'))"
   ]
  },
  {
   "cell_type": "code",
   "execution_count": 55,
   "id": "a87b1852",
   "metadata": {},
   "outputs": [
    {
     "data": {
      "text/plain": [
       "{'a': 1}"
      ]
     },
     "execution_count": 55,
     "metadata": {},
     "output_type": "execute_result"
    }
   ],
   "source": [
    "custom_decoder({'a': 1})"
   ]
  },
  {
   "cell_type": "code",
   "execution_count": 56,
   "id": "c21fc577",
   "metadata": {},
   "outputs": [
    {
     "data": {
      "text/plain": [
       "{'time': datetime.datetime(2018, 10, 21, 9, 14, 15),\n",
       " 'message': 'created this json string'}"
      ]
     },
     "execution_count": 56,
     "metadata": {},
     "output_type": "execute_result"
    }
   ],
   "source": [
    "json.loads(j, object_hook=custom_decoder)"
   ]
  },
  {
   "cell_type": "code",
   "execution_count": 57,
   "id": "fee3f11d",
   "metadata": {},
   "outputs": [],
   "source": [
    "j = '''\n",
    "{\n",
    "\"times\": {\n",
    "\"created\": {\n",
    "\"objecttype\": \"datetime\",\n",
    "\"value\": \"2018-10-21T09:14:15\"\n",
    "},\n",
    "\"updated\": {\n",
    "\"objecttype\": \"datetime\",\n",
    "\"value\": \"2018-10-22T10:00:05\"\n",
    "}\n",
    "},\n",
    "\"message\": \"log message here...\"\n",
    "}\n",
    "'''"
   ]
  },
  {
   "cell_type": "code",
   "execution_count": 58,
   "id": "5608ff62",
   "metadata": {},
   "outputs": [
    {
     "data": {
      "text/plain": [
       "{'times': {'created': datetime.datetime(2018, 10, 21, 9, 14, 15),\n",
       "  'updated': datetime.datetime(2018, 10, 22, 10, 0, 5)},\n",
       " 'message': 'log message here...'}"
      ]
     },
     "execution_count": 58,
     "metadata": {},
     "output_type": "execute_result"
    }
   ],
   "source": [
    "json.loads(j, object_hook=custom_decoder)"
   ]
  },
  {
   "cell_type": "code",
   "execution_count": 59,
   "id": "00a2c6e9",
   "metadata": {},
   "outputs": [],
   "source": [
    "def custom_decoder(arg):\n",
    "    ret_value = arg\n",
    "    if 'objecttype' in arg:\n",
    "        if arg['objecttype'] == 'datetime':\n",
    "            ret_value = datetime.strptime(arg['value'], '%Y-%m-%dT%H:%M:%S')\n",
    "        elif arg['objecttype'] == 'fraction':\n",
    "            ret_value = Fraction(arg['numerator'], arg['denominator'])\n",
    "    return ret_value"
   ]
  },
  {
   "cell_type": "code",
   "execution_count": 60,
   "id": "68100a3f",
   "metadata": {},
   "outputs": [],
   "source": [
    "j = '''\n",
    "{\n",
    "\"cake\": \"yummy chocolate cake\",\n",
    "\"myShare\": {\n",
    "\"objecttype\": \"fraction\",\n",
    "\"numerator\": 1,\n",
    "\"denominator\": 8\n",
    "},\n",
    "\"eaten\": {\n",
    "\"at\": {\n",
    "\"objecttype\": \"datetime\",\n",
    "\"value\": \"2018-10-21T21:30:00\"\n",
    "},\n",
    "\"time_taken\": \"30 seconds\"\n",
    "}\n",
    "}\n",
    "'''"
   ]
  },
  {
   "cell_type": "code",
   "execution_count": 61,
   "id": "aa257617",
   "metadata": {},
   "outputs": [
    {
     "data": {
      "text/plain": [
       "{'cake': 'yummy chocolate cake',\n",
       " 'myShare': Fraction(1, 8),\n",
       " 'eaten': {'at': datetime.datetime(2018, 10, 21, 21, 30),\n",
       "  'time_taken': '30 seconds'}}"
      ]
     },
     "execution_count": 61,
     "metadata": {},
     "output_type": "execute_result"
    }
   ],
   "source": [
    "json.loads(j, object_hook=custom_decoder)"
   ]
  },
  {
   "cell_type": "code",
   "execution_count": 62,
   "id": "8f195dcc",
   "metadata": {},
   "outputs": [],
   "source": [
    "class Person:\n",
    "    def __init__(self, name, ssn):\n",
    "        self.name = name\n",
    "        self.ssn = ssn\n",
    "\n",
    "    def __repr__(self):\n",
    "        return f'Person(name={self.name}, ssn={self.ssn})'"
   ]
  },
  {
   "cell_type": "code",
   "execution_count": 63,
   "id": "677cdb0e",
   "metadata": {},
   "outputs": [],
   "source": [
    "j = '''\n",
    "{\n",
    "    \"accountHolder\": {\n",
    "    \"objecttype\": \"person\",\n",
    "    \"name\": \"Eric Idle\",\n",
    "    \"ssn\": 100\n",
    "    },\n",
    "    \"created\": {\n",
    "    \"objecttype\": \"datetime\",\n",
    "    \"value\": \"2018-10-21T03:00:00\"\n",
    "    }\n",
    "}\n",
    "'''"
   ]
  },
  {
   "cell_type": "code",
   "execution_count": 64,
   "id": "679357e3",
   "metadata": {},
   "outputs": [],
   "source": [
    "def custom_decoder(arg):\n",
    "    ret_value = arg\n",
    "    if 'objecttype' in arg:\n",
    "        if arg['objecttype'] == 'datetime':\n",
    "            ret_value = datetime.strptime(arg['value'], '%Y-%m-%dT%H:%M:%S')\n",
    "        elif arg['objecttype'] == 'fraction':\n",
    "            ret_value = Fraction(arg['numerator'], arg['denominator'])\n",
    "        elif arg['objecttype'] == 'person':\n",
    "            ret_value = Person(arg['name'], arg['ssn'])\n",
    "    return ret_value"
   ]
  },
  {
   "cell_type": "code",
   "execution_count": 65,
   "id": "69565b8e",
   "metadata": {},
   "outputs": [],
   "source": [
    "d = json.loads(j, object_hook=custom_decoder)"
   ]
  },
  {
   "cell_type": "code",
   "execution_count": 66,
   "id": "06f7ce30",
   "metadata": {},
   "outputs": [
    {
     "data": {
      "text/plain": [
       "{'accountHolder': Person(name=Eric Idle, ssn=100),\n",
       " 'created': datetime.datetime(2018, 10, 21, 3, 0)}"
      ]
     },
     "execution_count": 66,
     "metadata": {},
     "output_type": "execute_result"
    }
   ],
   "source": [
    "d"
   ]
  },
  {
   "cell_type": "code",
   "execution_count": 67,
   "id": "913e5c1e",
   "metadata": {},
   "outputs": [],
   "source": [
    "class Person:\n",
    "    def __init__(self, name, ssn):\n",
    "        self.name = name\n",
    "        self.ssn = ssn\n",
    "\n",
    "    def __repr__(self):\n",
    "        return f'Person(name={self.name}, ssn={self.ssn})'\n",
    "    \n",
    "    def toJSON(self):\n",
    "        return dict(objecttype='person',  name=self.name, ssn=self.ssn)"
   ]
  },
  {
   "cell_type": "code",
   "execution_count": 68,
   "id": "249b5831",
   "metadata": {},
   "outputs": [],
   "source": [
    "from decimal import Decimal"
   ]
  },
  {
   "cell_type": "code",
   "execution_count": 85,
   "id": "03a45e17",
   "metadata": {},
   "outputs": [],
   "source": [
    "def make_decimal(arg):\n",
    "    print('Float Received: ', type(arg), arg)\n",
    "    return Decimal(arg)"
   ]
  },
  {
   "cell_type": "code",
   "execution_count": 70,
   "id": "8b31818d",
   "metadata": {},
   "outputs": [],
   "source": [
    "j = '''\n",
    "{\n",
    "\"a\": 100,\n",
    "\"b\": 0.2,\n",
    "\"c\": 0.5\n",
    "}\n",
    "'''"
   ]
  },
  {
   "cell_type": "code",
   "execution_count": 71,
   "id": "e6f6bf6d",
   "metadata": {},
   "outputs": [
    {
     "name": "stdout",
     "output_type": "stream",
     "text": [
      "Received:  <class 'str'> 0.2\n",
      "Received:  <class 'str'> 0.5\n"
     ]
    }
   ],
   "source": [
    "d = json.loads(j, parse_float=make_decimal)"
   ]
  },
  {
   "cell_type": "code",
   "execution_count": 72,
   "id": "76b0216a",
   "metadata": {},
   "outputs": [
    {
     "data": {
      "text/plain": [
       "{'a': 100, 'b': Decimal('0.2'), 'c': Decimal('0.5')}"
      ]
     },
     "execution_count": 72,
     "metadata": {},
     "output_type": "execute_result"
    }
   ],
   "source": [
    "d"
   ]
  },
  {
   "cell_type": "code",
   "execution_count": 84,
   "id": "01c44ee0",
   "metadata": {},
   "outputs": [],
   "source": [
    "def make_int_binary(arg):\n",
    "    print(\"Int Received: \", type(arg), arg)\n",
    "    return bin(int(arg))"
   ]
  },
  {
   "cell_type": "code",
   "execution_count": 74,
   "id": "d9e6999a",
   "metadata": {},
   "outputs": [
    {
     "name": "stdout",
     "output_type": "stream",
     "text": [
      "Received:  <class 'str'> 100\n",
      "Received:  <class 'str'> 0.2\n",
      "Received:  <class 'str'> 0.5\n"
     ]
    }
   ],
   "source": [
    "d = json.loads(j, parse_int=make_int_binary, parse_float=make_decimal)"
   ]
  },
  {
   "cell_type": "code",
   "execution_count": 75,
   "id": "ec5a8397",
   "metadata": {},
   "outputs": [
    {
     "data": {
      "text/plain": [
       "{'a': '0b1100100', 'b': Decimal('0.2'), 'c': Decimal('0.5')}"
      ]
     },
     "execution_count": 75,
     "metadata": {},
     "output_type": "execute_result"
    }
   ],
   "source": [
    "d"
   ]
  },
  {
   "cell_type": "code",
   "execution_count": 80,
   "id": "9bf823f0",
   "metadata": {},
   "outputs": [],
   "source": [
    "def make_constant_none(arg):\n",
    "    print('Constant Received: ', type(arg), arg)\n",
    "    return None"
   ]
  },
  {
   "cell_type": "code",
   "execution_count": 81,
   "id": "f8540ae8",
   "metadata": {},
   "outputs": [],
   "source": [
    "j = '''\n",
    "{\n",
    "    \"a\": Infinity,\n",
    "    \"b\": true,\n",
    "    \"c\": null\n",
    "}\n",
    "'''"
   ]
  },
  {
   "cell_type": "code",
   "execution_count": 86,
   "id": "a7e7c474",
   "metadata": {},
   "outputs": [
    {
     "name": "stdout",
     "output_type": "stream",
     "text": [
      "Constant Received:  <class 'str'> Infinity\n"
     ]
    }
   ],
   "source": [
    "d = json.loads(j, parse_constant=make_constant_none, parse_float=make_decimal, parse_int=make_int_binary)"
   ]
  },
  {
   "cell_type": "code",
   "execution_count": 87,
   "id": "d03fbfb4",
   "metadata": {},
   "outputs": [
    {
     "data": {
      "text/plain": [
       "{'a': None, 'b': True, 'c': None}"
      ]
     },
     "execution_count": 87,
     "metadata": {},
     "output_type": "execute_result"
    }
   ],
   "source": [
    "d"
   ]
  },
  {
   "cell_type": "code",
   "execution_count": 88,
   "id": "7bc375eb",
   "metadata": {},
   "outputs": [
    {
     "name": "stdout",
     "output_type": "stream",
     "text": [
      "Help on function loads in module json:\n",
      "\n",
      "loads(\n",
      "    s,\n",
      "    *,\n",
      "    cls=None,\n",
      "    object_hook=None,\n",
      "    parse_float=None,\n",
      "    parse_int=None,\n",
      "    parse_constant=None,\n",
      "    object_pairs_hook=None,\n",
      "    **kw\n",
      ")\n",
      "    Deserialize ``s`` (a ``str``, ``bytes`` or ``bytearray`` instance\n",
      "    containing a JSON document) to a Python object.\n",
      "\n",
      "    ``object_hook`` is an optional function that will be called with the\n",
      "    result of any object literal decode (a ``dict``). The return value of\n",
      "    ``object_hook`` will be used instead of the ``dict``. This feature\n",
      "    can be used to implement custom decoders (e.g. JSON-RPC class hinting).\n",
      "\n",
      "    ``object_pairs_hook`` is an optional function that will be called with the\n",
      "    result of any object literal decoded with an ordered list of pairs.  The\n",
      "    return value of ``object_pairs_hook`` will be used instead of the ``dict``.\n",
      "    This feature can be used to implement custom decoders.  If ``object_hook``\n",
      "    is also defined, the ``object_pairs_hook`` takes priority.\n",
      "\n",
      "    ``parse_float``, if specified, will be called with the string\n",
      "    of every JSON float to be decoded. By default this is equivalent to\n",
      "    float(num_str). This can be used to use another datatype or parser\n",
      "    for JSON floats (e.g. decimal.Decimal).\n",
      "\n",
      "    ``parse_int``, if specified, will be called with the string\n",
      "    of every JSON int to be decoded. By default this is equivalent to\n",
      "    int(num_str). This can be used to use another datatype or parser\n",
      "    for JSON integers (e.g. float).\n",
      "\n",
      "    ``parse_constant``, if specified, will be called with one of the\n",
      "    following strings: -Infinity, Infinity, NaN.\n",
      "    This can be used to raise an exception if invalid JSON numbers\n",
      "    are encountered.\n",
      "\n",
      "    To use a custom ``JSONDecoder`` subclass, specify it with the ``cls``\n",
      "    kwarg; otherwise ``JSONDecoder`` is used.\n",
      "\n"
     ]
    }
   ],
   "source": [
    "help(json.loads)"
   ]
  },
  {
   "cell_type": "code",
   "execution_count": 91,
   "id": "35f6209c",
   "metadata": {},
   "outputs": [],
   "source": [
    "def custom_decoder(arg):\n",
    "    print('decoding: ', arg, type(arg))\n",
    "    return arg"
   ]
  },
  {
   "cell_type": "code",
   "execution_count": 90,
   "id": "5ac6bd25",
   "metadata": {},
   "outputs": [],
   "source": [
    "j = '''\n",
    "{\n",
    "    \"a\": 1,\n",
    "    \"b\": 2,\n",
    "    \"c\": {\n",
    "    \"c.1\": 1,\n",
    "    \"c.2\": 2,\n",
    "    \"c.3\": {\"c.3.1\": 1,\n",
    "    \"c.3.2\": 2}\n",
    "        }\n",
    "}\n",
    "'''"
   ]
  },
  {
   "cell_type": "code",
   "execution_count": 92,
   "id": "06c13164",
   "metadata": {},
   "outputs": [
    {
     "name": "stdout",
     "output_type": "stream",
     "text": [
      "decoding:  {'c.3.1': 1, 'c.3.2': 2} <class 'dict'>\n",
      "decoding:  {'c.1': 1, 'c.2': 2, 'c.3': {'c.3.1': 1, 'c.3.2': 2}} <class 'dict'>\n",
      "decoding:  {'a': 1, 'b': 2, 'c': {'c.1': 1, 'c.2': 2, 'c.3': {'c.3.1': 1, 'c.3.2': 2}}} <class 'dict'>\n"
     ]
    },
    {
     "data": {
      "text/plain": [
       "{'a': 1, 'b': 2, 'c': {'c.1': 1, 'c.2': 2, 'c.3': {'c.3.1': 1, 'c.3.2': 2}}}"
      ]
     },
     "execution_count": 92,
     "metadata": {},
     "output_type": "execute_result"
    }
   ],
   "source": [
    "json.loads(j, object_hook=custom_decoder)"
   ]
  },
  {
   "cell_type": "code",
   "execution_count": 93,
   "id": "be2fc67c",
   "metadata": {},
   "outputs": [],
   "source": [
    "def custom_pairs_decoder(arg):\n",
    "    print('decoding: ', arg, type(arg))\n",
    "    return arg"
   ]
  },
  {
   "cell_type": "code",
   "execution_count": 94,
   "id": "9bf02397",
   "metadata": {},
   "outputs": [
    {
     "name": "stdout",
     "output_type": "stream",
     "text": [
      "decoding:  [('c.3.1', 1), ('c.3.2', 2)] <class 'list'>\n",
      "decoding:  [('c.1', 1), ('c.2', 2), ('c.3', [('c.3.1', 1), ('c.3.2', 2)])] <class 'list'>\n",
      "decoding:  [('a', 1), ('b', 2), ('c', [('c.1', 1), ('c.2', 2), ('c.3', [('c.3.1', 1), ('c.3.2', 2)])])] <class 'list'>\n"
     ]
    },
    {
     "data": {
      "text/plain": [
       "[('a', 1),\n",
       " ('b', 2),\n",
       " ('c', [('c.1', 1), ('c.2', 2), ('c.3', [('c.3.1', 1), ('c.3.2', 2)])])]"
      ]
     },
     "execution_count": 94,
     "metadata": {},
     "output_type": "execute_result"
    }
   ],
   "source": [
    "json.loads(j, object_pairs_hook=custom_pairs_decoder)"
   ]
  },
  {
   "cell_type": "code",
   "execution_count": 95,
   "id": "03c50809",
   "metadata": {},
   "outputs": [],
   "source": [
    "def custom_pairs_decoder(arg):\n",
    "    print('decoding: ', arg, type(arg))\n",
    "    return {k: v for k,v in arg}"
   ]
  },
  {
   "cell_type": "code",
   "execution_count": 96,
   "id": "108e1635",
   "metadata": {},
   "outputs": [
    {
     "name": "stdout",
     "output_type": "stream",
     "text": [
      "decoding:  [('c.3.1', 1), ('c.3.2', 2)] <class 'list'>\n",
      "decoding:  [('c.1', 1), ('c.2', 2), ('c.3', {'c.3.1': 1, 'c.3.2': 2})] <class 'list'>\n",
      "decoding:  [('a', 1), ('b', 2), ('c', {'c.1': 1, 'c.2': 2, 'c.3': {'c.3.1': 1, 'c.3.2': 2}})] <class 'list'>\n"
     ]
    },
    {
     "data": {
      "text/plain": [
       "{'a': 1, 'b': 2, 'c': {'c.1': 1, 'c.2': 2, 'c.3': {'c.3.1': 1, 'c.3.2': 2}}}"
      ]
     },
     "execution_count": 96,
     "metadata": {},
     "output_type": "execute_result"
    }
   ],
   "source": [
    "json.loads(j, object_pairs_hook=custom_pairs_decoder)"
   ]
  },
  {
   "cell_type": "code",
   "execution_count": 100,
   "id": "71d5356f",
   "metadata": {},
   "outputs": [],
   "source": [
    "j = '''\n",
    "{\n",
    "    \"a\": [1,2,3,4,5],\n",
    "    \"b\": 100,\n",
    "    \"c\": 10.5,\n",
    "    \"d\": NaN,\n",
    "    \"e\": null,\n",
    "    \"f\": \"python\"\n",
    "}\n",
    "'''"
   ]
  },
  {
   "cell_type": "code",
   "execution_count": 101,
   "id": "08a93a9e",
   "metadata": {},
   "outputs": [],
   "source": [
    "def float_handler(arg):\n",
    "    print('float handler', type(arg), arg)\n",
    "    return float(arg)\n",
    "\n",
    "def int_handler(arg):\n",
    "    print('int handler', type(arg), arg)\n",
    "    return int(arg)\n",
    "\n",
    "def const_handler(arg):\n",
    "    print('const handler', type(arg), arg)\n",
    "    return None\n",
    "\n",
    "def obj_hook(arg):\n",
    "    print('obj hook', arg)\n",
    "    return arg"
   ]
  },
  {
   "cell_type": "code",
   "execution_count": 102,
   "id": "a5d237ed",
   "metadata": {},
   "outputs": [
    {
     "data": {
      "text/plain": [
       "{'a': [1, 2, 3, 4, 5], 'b': 100, 'c': 10.5, 'd': nan, 'e': None, 'f': 'python'}"
      ]
     },
     "execution_count": 102,
     "metadata": {},
     "output_type": "execute_result"
    }
   ],
   "source": [
    "json.loads(j)"
   ]
  },
  {
   "cell_type": "code",
   "execution_count": 103,
   "id": "db89f6c5",
   "metadata": {},
   "outputs": [
    {
     "name": "stdout",
     "output_type": "stream",
     "text": [
      "int handler <class 'str'> 1\n",
      "int handler <class 'str'> 2\n",
      "int handler <class 'str'> 3\n",
      "int handler <class 'str'> 4\n",
      "int handler <class 'str'> 5\n",
      "int handler <class 'str'> 100\n",
      "float handler <class 'str'> 10.5\n",
      "const handler <class 'str'> NaN\n",
      "obj hook {'a': [1, 2, 3, 4, 5], 'b': 100, 'c': 10.5, 'd': None, 'e': None, 'f': 'python'}\n"
     ]
    },
    {
     "data": {
      "text/plain": [
       "{'a': [1, 2, 3, 4, 5],\n",
       " 'b': 100,\n",
       " 'c': 10.5,\n",
       " 'd': None,\n",
       " 'e': None,\n",
       " 'f': 'python'}"
      ]
     },
     "execution_count": 103,
     "metadata": {},
     "output_type": "execute_result"
    }
   ],
   "source": [
    "json.loads(j, object_hook=obj_hook, parse_float=float_handler, parse_int=int_handler, parse_constant=const_handler)"
   ]
  },
  {
   "cell_type": "code",
   "execution_count": 104,
   "id": "4c633dde",
   "metadata": {},
   "outputs": [],
   "source": [
    "j = '''\n",
    "{\n",
    "    \"a\": [1,2],\n",
    "    \"b\": {\n",
    "        \"c\": 10.5,\n",
    "        \"d\": NaN\n",
    "        }\n",
    "}\n",
    "'''"
   ]
  },
  {
   "cell_type": "code",
   "execution_count": 105,
   "id": "049104c5",
   "metadata": {},
   "outputs": [
    {
     "name": "stdout",
     "output_type": "stream",
     "text": [
      "int handler <class 'str'> 1\n",
      "int handler <class 'str'> 2\n",
      "float handler <class 'str'> 10.5\n",
      "const handler <class 'str'> NaN\n",
      "obj hook {'c': 10.5, 'd': None}\n",
      "obj hook {'a': [1, 2], 'b': {'c': 10.5, 'd': None}}\n"
     ]
    },
    {
     "data": {
      "text/plain": [
       "{'a': [1, 2], 'b': {'c': 10.5, 'd': None}}"
      ]
     },
     "execution_count": 105,
     "metadata": {},
     "output_type": "execute_result"
    }
   ],
   "source": [
    "json.loads(j, object_hook=obj_hook, parse_float=float_handler, parse_int=int_handler, parse_constant=const_handler)"
   ]
  },
  {
   "cell_type": "code",
   "execution_count": null,
   "id": "ac68e6c3",
   "metadata": {},
   "outputs": [],
   "source": []
  }
 ],
 "metadata": {
  "kernelspec": {
   "display_name": "Python 3",
   "language": "python",
   "name": "python3"
  },
  "language_info": {
   "codemirror_mode": {
    "name": "ipython",
    "version": 3
   },
   "file_extension": ".py",
   "mimetype": "text/x-python",
   "name": "python",
   "nbconvert_exporter": "python",
   "pygments_lexer": "ipython3",
   "version": "3.13.2"
  }
 },
 "nbformat": 4,
 "nbformat_minor": 5
}
